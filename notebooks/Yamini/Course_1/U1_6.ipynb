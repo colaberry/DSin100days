{
 "cells": [
  {
   "cell_type": "markdown",
   "metadata": {},
   "source": [
    "# Lesson 1.6"
   ]
  },
  {
   "cell_type": "markdown",
   "metadata": {},
   "source": [
    "## Stringing along.."
   ]
  },
  {
   "cell_type": "markdown",
   "metadata": {},
   "source": [
    "## Objectives\n",
    "<b>Python</b>: String manipulations\n",
    "- <a href='#str'>Strings</a>\n",
    "- <a href='#cd5'>Connecting the dots</a>\n",
    "- <a href='#kta5'>Key takeaways</a>"
   ]
  },
  {
   "cell_type": "markdown",
   "metadata": {},
   "source": [
    "## <a id = 'str'>Strings</a>\n",
    "<b>Strings</b> in python are surrounded by either single quotation marks or double quotation marks.<br>\n",
    "The purpose of this lesson is to give an idea of some of the string functions. It is not a comprehensive list.<br>\n",
    "### Concatenation:\n",
    "Strings can be concatenated using the + operator."
   ]
  },
  {
   "cell_type": "code",
   "execution_count": null,
   "metadata": {
    "collapsed": false,
    "jupyter": {
     "outputs_hidden": false
    }
   },
   "outputs": [],
   "source": [
    "# Intialize a string variable with single quotes\n",
    "str1 = 'I ate a clock yesterday, '\n",
    "# Intialize a string variable with double quotes\n",
    "str2 = \"it was very time consuming\"\n",
    "# Concatenate the strings\n",
    "str3 = str1+str2\n",
    "# Print the result\n",
    "print(str3)"
   ]
  },
  {
   "cell_type": "markdown",
   "metadata": {},
   "source": [
    "### Strings as lists:\n",
    "Strings are basically lists of single characters. Individual elements can be accessed using str_name[start:stop:step]."
   ]
  },
  {
   "cell_type": "code",
   "execution_count": null,
   "metadata": {
    "collapsed": false,
    "jupyter": {
     "outputs_hidden": false
    }
   },
   "outputs": [],
   "source": [
    "# Print the 3rd character of str1\n",
    "print(\"3rd character of str1:\", str1[2])"
   ]
  },
  {
   "cell_type": "code",
   "execution_count": null,
   "metadata": {
    "collapsed": false,
    "jupyter": {
     "outputs_hidden": false
    }
   },
   "outputs": [],
   "source": [
    "# Print the last character of str2\n",
    "print(\"Last character of str2:\", str2[-1])"
   ]
  },
  {
   "cell_type": "code",
   "execution_count": null,
   "metadata": {
    "collapsed": false,
    "jupyter": {
     "outputs_hidden": false
    }
   },
   "outputs": [],
   "source": [
    "# Print the 2-8 characters of str1 - the white space is also a character\n",
    "print(\"2nd-8th characters of str1:\", str2[2:8])"
   ]
  },
  {
   "cell_type": "code",
   "execution_count": null,
   "metadata": {
    "collapsed": false,
    "jupyter": {
     "outputs_hidden": false
    }
   },
   "outputs": [],
   "source": [
    "# Print the last 4 characters of str2\n",
    "print(\"Last 4 characters of str2:\", str2[-4:])"
   ]
  },
  {
   "cell_type": "markdown",
   "metadata": {},
   "source": [
    "You can find the length of string using the len() and loop through the characters using a <b>for</b> loop."
   ]
  },
  {
   "cell_type": "code",
   "execution_count": null,
   "metadata": {
    "collapsed": false,
    "jupyter": {
     "outputs_hidden": false
    }
   },
   "outputs": [],
   "source": [
    "# Length of string\n",
    "print(\"Length of the word fun is:\", len(\"Clock\"))\n",
    "# Loop through characters\n",
    "for c in \"Clock\":\n",
    "    print(c)"
   ]
  },
  {
   "cell_type": "markdown",
   "metadata": {},
   "source": [
    "<b>Your turn</b><br>\n",
    "- Print the every 2nd character in the following string starting from the first and ending at the 20th.<br>\n",
    "- Print every 3rd character starting from the 25th till the end of the string.<br>"
   ]
  },
  {
   "cell_type": "code",
   "execution_count": null,
   "metadata": {
    "collapsed": false,
    "jupyter": {
     "outputs_hidden": false
    }
   },
   "outputs": [],
   "source": [
    "str3 = \"I held up my clock to a mirror. It was time for reflection.\""
   ]
  },
  {
   "cell_type": "markdown",
   "metadata": {},
   "source": [
    "### Special characters\n",
    "If a string requires a double quote within it you need to precede the quote with a \\ as shown below to ensure that the quote is part of the string. "
   ]
  },
  {
   "cell_type": "code",
   "execution_count": null,
   "metadata": {
    "collapsed": false,
    "jupyter": {
     "outputs_hidden": false
    }
   },
   "outputs": [],
   "source": [
    "str5=\"Me:\\\"What happens when you annoy a clock? \\n It gets ticked off.\\\"\"\n",
    "print(str5)"
   ]
  },
  {
   "cell_type": "markdown",
   "metadata": {},
   "source": [
    "The other important special characters include '\\n', which inserts a new line, and '\\t', which inserts a tab."
   ]
  },
  {
   "cell_type": "code",
   "execution_count": null,
   "metadata": {
    "collapsed": false,
    "jupyter": {
     "outputs_hidden": false
    }
   },
   "outputs": [],
   "source": [
    "# a new line is inserted between the two sentences and the second sentence is tabbed\n",
    "print(\"I once made a belt out of clocks.\\n\\t It was a waist of time.\")"
   ]
  },
  {
   "cell_type": "markdown",
   "metadata": {},
   "source": [
    "### Searching Strings\n",
    "You can check if a substring is present or not in another string.<br>\n",
    "You can get the index of the starting position of the first occurence of a substring using index(value).<br>\n",
    "You can search a specific part of the string using find(value, start, end). The start and end values are optional. The find method returns a -1 if the value is not found."
   ]
  },
  {
   "cell_type": "code",
   "execution_count": 77,
   "metadata": {
    "collapsed": false,
    "jupyter": {
     "outputs_hidden": false
    }
   },
   "outputs": [
    {
     "name": "stdout",
     "output_type": "stream",
     "text": [
      "Is \"ate\" present in str1:\n",
      "True\n",
      "Is \"ate\" present in str2:\n",
      "False\n",
      "Is \"ime\" not present in str1: ime is part of the word time\n",
      "False\n",
      "Is \"ime\" not present in str2: ime is part of the word time\n",
      "True\n"
     ]
    }
   ],
   "source": [
    "# Check if \"ate\" is part of str1 and str2\n",
    "print(\"Is \\\"ate\\\" present in str1:\")\n",
    "print(\"ate\" in str1)\n",
    "print(\"Is \\\"ate\\\" present in str2:\")\n",
    "print(\"ate\" in str2)\n",
    "# Check if \"ime\" is not part of str1 and str2\n",
    "print(\"Is \\\"ime\\\" not present in str1: ime is part of the word time\")\n",
    "print(\"ate\" not in str1)\n",
    "print(\"Is \\\"ime\\\" not present in str2: ime is part of the word time\")\n",
    "print(\"ate\" not in str2)"
   ]
  },
  {
   "cell_type": "code",
   "execution_count": null,
   "metadata": {
    "collapsed": false,
    "jupyter": {
     "outputs_hidden": false
    }
   },
   "outputs": [],
   "source": [
    "# Print the index of yes in str1\n",
    "print(\"Print the index of yes in str1:\", str1.index(\"yes\"))"
   ]
  },
  {
   "cell_type": "code",
   "execution_count": 76,
   "metadata": {
    "collapsed": false,
    "jupyter": {
     "outputs_hidden": false
    }
   },
   "outputs": [
    {
     "name": "stdout",
     "output_type": "stream",
     "text": [
      "Find \"yes\" in str1 (will print index of first character): 14\n",
      "Find \"yes\" in first 10 characters of str1(will return -1 as yes is not found:  -1\n"
     ]
    }
   ],
   "source": [
    "# Print find yes in str1\n",
    "print(\"Find \\\"yes\\\" in str1 (will print index of first character):\", str1.find(\"yes\"))\n",
    "print(\"Find \\\"yes\\\" in first 10 characters of str1(will return -1 as yes is not found: \", str1.find(\"yes\", 0,9))"
   ]
  },
  {
   "cell_type": "markdown",
   "metadata": {},
   "source": [
    "#### Modifying strings\n",
    "The following methods can be used to modify a string:<br>\n",
    "- Convert to upper case using upper().<br>\n",
    "- Conver to lower case using lower().<br>\n",
    "- Remove white space at the beginning and end of the string using strip().<br>\n",
    "- Replace a string with another string using replace().<br>"
   ]
  },
  {
   "cell_type": "code",
   "execution_count": null,
   "metadata": {
    "collapsed": false,
    "jupyter": {
     "outputs_hidden": false
    }
   },
   "outputs": [],
   "source": [
    "# Str4 has extra white spaces in the beginning and end \n",
    "str4 = \"    For sale: Clock with half a face. For a limited time only.     \"\n",
    "print(\"Original length of str4:\", len(str4))\n",
    "print(\"str4 in lower case:\", str4.lower())\n",
    "print(\"str4 in upper case:\", str4.upper())\n",
    "print(\"str4 in without white space in beginning and end:\", str4.strip())\n",
    "print(\"str4 length without white space in beginning and end:\", len(str4.strip()))\n",
    "print(\"Replace the word sale with free:\", str4.replace(\"sale\", \"free\"))"
   ]
  },
  {
   "cell_type": "markdown",
   "metadata": {},
   "source": [
    "### Splitting a string\n",
    "A string can be split into substrings using spilt(). White space is used as the default for the split. The substrings are returned as a list."
   ]
  },
  {
   "cell_type": "code",
   "execution_count": null,
   "metadata": {
    "collapsed": false,
    "jupyter": {
     "outputs_hidden": false
    }
   },
   "outputs": [],
   "source": [
    "str6= \"On any clock, 11:59:59 am is my favourite time of day. It’s second to noon.\"\n",
    "# Split using the space as default\n",
    "substr1=str6.split()\n",
    "print(\"Split using the space as default\")\n",
    "print(substr1)\n",
    "# Split using period\n",
    "substr2=str6.split(\".\")\n",
    "print(\"Split using period\")\n",
    "print(substr2)"
   ]
  },
  {
   "cell_type": "markdown",
   "metadata": {},
   "source": [
    "## <a id='cd5'>Connecting the dots</a>\n",
    "Using the string <br>\n",
    "\"Q: Why did the clock get sent to the principal’s office? A: It was tocking too much.\"<br>\n",
    "- Change it to lower case and print<br>\n",
    "- Change it to upper case and print<br>\n",
    "- Replace  every colon with semicolon and print<br>\n",
    "- Print every 4th character starting from the 4 and ending at the 40th<br>\n",
    "- Split the string into two parts for question and answer<br>\n",
    "- Split the string into words and print the 4th word<br>"
   ]
  },
  {
   "cell_type": "code",
   "execution_count": null,
   "metadata": {
    "collapsed": false,
    "jupyter": {
     "outputs_hidden": false
    }
   },
   "outputs": [],
   "source": []
  },
  {
   "cell_type": "code",
   "execution_count": null,
   "metadata": {
    "collapsed": false,
    "jupyter": {
     "outputs_hidden": false
    }
   },
   "outputs": [],
   "source": []
  },
  {
   "cell_type": "code",
   "execution_count": null,
   "metadata": {
    "collapsed": false,
    "jupyter": {
     "outputs_hidden": false
    }
   },
   "outputs": [],
   "source": []
  },
  {
   "cell_type": "code",
   "execution_count": null,
   "metadata": {
    "collapsed": false,
    "jupyter": {
     "outputs_hidden": false
    }
   },
   "outputs": [],
   "source": []
  },
  {
   "cell_type": "markdown",
   "metadata": {},
   "source": [
    "## <a id = 'kta5'>Key takeaways</a>\n",
    "- Strings can be considered a list of characters.<br>\n",
    "- There are many string functions to work with and manipulate strings.<br>"
   ]
  },
  {
   "cell_type": "markdown",
   "metadata": {},
   "source": [
    "A side note: There are no more clock jokes in the course. So you can move forward without fear!"
   ]
  },
  {
   "cell_type": "code",
   "execution_count": null,
   "metadata": {},
   "outputs": [],
   "source": []
  }
 ],
 "metadata": {
  "kernelspec": {
   "display_name": "Python 3",
   "language": "python",
   "name": "python3"
  },
  "language_info": {
   "codemirror_mode": {
    "name": "ipython",
    "version": 3
   },
   "file_extension": ".py",
   "mimetype": "text/x-python",
   "name": "python",
   "nbconvert_exporter": "python",
   "pygments_lexer": "ipython3",
   "version": "3.8.3"
  }
 },
 "nbformat": 4,
 "nbformat_minor": 4
}
