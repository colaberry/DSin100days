{
 "cells": [
  {
   "cell_type": "markdown",
   "metadata": {},
   "source": [
    "# Unit 1 Assignment 1\n",
    "\n",
    "## Assignment 1 : The games we play!\n",
    "\n",
    "This covers the topics taught in lessons 1,2 and 3 of Unit 1."
   ]
  },
  {
   "cell_type": "markdown",
   "metadata": {},
   "source": [
    "Two friends, Peat and Repeat, decide to have a video game face off over the weekend (much to the dismay of their parents!). They decide they will keep track of their points and figure out who the better player is on Sunday evening. <br>\n",
    "Peat collects the following points: 102, 251, 305, 451, 908, 637, 352, 504, 475, 675. <br>\n",
    "Repeat collects the following points: 463, 365, 452, 390, 386, 412, 525, 580, 468, 500. <br>\n",
    "After comparing the scores on Sunday evening, they start arguing about who the better player is. Peat claims he is the better player since he got the highest score. Repeat says he was more consistent and hence the better one.<br>\n",
    "Who do you think is the better player? <br><br>\n",
    "Finally, they decide to settle the matter by looking at the statistics objectively. <br>\n",
    "They come up with the following rules: <br>\n",
    "- The one with the higher average gets 1 point<br>\n",
    "- The one with the maximum score gets 1 point<br> \n",
    "- The one with the lower range gets 1 point <br>\n",
    "- The one with the higher median gets 1 point <br>\n",
    "- The realise that they cannot break a tie with just 4 rules and tired of arguing, decide to add a fifth <br>\n",
    "- They decide the one with the higher average while comparing every 3rd term starting from the second term will get 1 point on the sorted lists<br>\n",
    "- The one with the highest points at the end is declared the Boss and the other has to do the Boss's laundry! <br>\n",
    "Being inherently lazy, they decide to write a python program to compare the scores and generate the points. <br>\n",
    "Help them write a program to find who the winner is - keep in mind there is a whole ton of dirty laundry at stake here. <br>"
   ]
  },
  {
   "cell_type": "markdown",
   "metadata": {},
   "source": [
    "<b>Your program should:</b><br>\n",
    "1) use strings to represent the names (so this program can be easily modified to decide such useless arguments between other friends in future).<br>\n",
    "2) compare the consistency in terms of mean, median and range.<br>\n",
    "3) use variables names that are easily recognizable. For example you could use name_pl1, name_pl2, score_pl1 and score_pl2 to keep track of their names and score lists.<br>\n",
    "4) include comments to clarify what each important step does. <br>\n",
    "5) keep track of the points at each stage using if statement to increment the appropriate point count. Also print who gets the point at each stage.<br>\n",
    "6) Print the result of the winner and who gets to do laundry for the rest of sunday evening using an if..else statement to make the decision  . <br><br>\n",
    "The cells below help you break up the program into smaller chunks that you can run independently and help you debug your code.<br>\n",
    "\n",
    "<b>Think about the following discussion points:</b><br>\n",
    "Is your original guess of who the better player is based on the rules supported by the programs decision?\n",
    "Looking at your final code, do you see any redundancies?"
   ]
  },
  {
   "cell_type": "markdown",
   "metadata": {},
   "source": [
    "Initilize all variables"
   ]
  },
  {
   "cell_type": "code",
   "execution_count": null,
   "metadata": {
    "collapsed": false,
    "jupyter": {
     "outputs_hidden": false
    }
   },
   "outputs": [],
   "source": [
    " "
   ]
  },
  {
   "cell_type": "markdown",
   "metadata": {},
   "source": [
    "Mean /Average point award"
   ]
  },
  {
   "cell_type": "code",
   "execution_count": null,
   "metadata": {
    "collapsed": false,
    "jupyter": {
     "outputs_hidden": false
    }
   },
   "outputs": [],
   "source": []
  },
  {
   "cell_type": "markdown",
   "metadata": {},
   "source": [
    "Max score point award"
   ]
  },
  {
   "cell_type": "code",
   "execution_count": null,
   "metadata": {
    "collapsed": false,
    "jupyter": {
     "outputs_hidden": false
    }
   },
   "outputs": [],
   "source": []
  },
  {
   "cell_type": "markdown",
   "metadata": {},
   "source": [
    "Score range point award"
   ]
  },
  {
   "cell_type": "code",
   "execution_count": null,
   "metadata": {
    "collapsed": false,
    "jupyter": {
     "outputs_hidden": false
    }
   },
   "outputs": [],
   "source": []
  },
  {
   "cell_type": "markdown",
   "metadata": {},
   "source": [
    "Median point award"
   ]
  },
  {
   "cell_type": "code",
   "execution_count": null,
   "metadata": {
    "collapsed": false,
    "jupyter": {
     "outputs_hidden": false
    }
   },
   "outputs": [],
   "source": []
  },
  {
   "cell_type": "markdown",
   "metadata": {},
   "source": [
    "Comparing mean of every 3rd term starting from the 2nd"
   ]
  },
  {
   "cell_type": "code",
   "execution_count": null,
   "metadata": {
    "collapsed": false,
    "jupyter": {
     "outputs_hidden": false
    }
   },
   "outputs": [],
   "source": []
  },
  {
   "cell_type": "markdown",
   "metadata": {},
   "source": [
    "Final decision!"
   ]
  },
  {
   "cell_type": "code",
   "execution_count": null,
   "metadata": {
    "collapsed": false,
    "jupyter": {
     "outputs_hidden": false
    }
   },
   "outputs": [],
   "source": []
  },
  {
   "cell_type": "markdown",
   "metadata": {},
   "source": [
    "What are your conclusions?"
   ]
  }
 ],
 "metadata": {
  "kernelspec": {
   "display_name": "Python 3",
   "language": "python",
   "name": "python3"
  },
  "language_info": {
   "codemirror_mode": {
    "name": "ipython",
    "version": 3
   },
   "file_extension": ".py",
   "mimetype": "text/x-python",
   "name": "python",
   "nbconvert_exporter": "python",
   "pygments_lexer": "ipython3",
   "version": "3.8.3"
  }
 },
 "nbformat": 4,
 "nbformat_minor": 4
}
