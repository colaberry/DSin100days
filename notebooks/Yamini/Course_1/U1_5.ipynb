{
 "cells": [
  {
   "cell_type": "markdown",
   "metadata": {},
   "source": [
    "# Lesson 1.5"
   ]
  },
  {
   "cell_type": "markdown",
   "metadata": {},
   "source": [
    "## And the award goes to.."
   ]
  },
  {
   "cell_type": "markdown",
   "metadata": {},
   "source": [
    "## Objectives\n",
    "<b>Python:</b> Dictionaries<br>\n",
    "<b>Data:</b> Mode<br>\n",
    "- <a href= '#dict'>Dictionaries</a>\n",
    "- <a href= '#err4'>Oh the errors and exceptions!</a>\n",
    "- <a href= '#mode'>Mode</a>\n",
    "- <a href= '#fd4'> Food for thought</a>\n",
    "- <a href= '#cd4'>Connecting the dots</a>\n",
    "- <a href= '#kta4'>Key takeaways</a>"
   ]
  },
  {
   "cell_type": "markdown",
   "metadata": {},
   "source": [
    "## <a id = 'dict'>Dictionaries</a>"
   ]
  },
  {
   "cell_type": "markdown",
   "metadata": {},
   "source": [
    "<b>Dictionaries</b> use <b>key-value</b> pairs to store the data and are also known as <b>hash maps</b>.<br>\n",
    "Harry and his friends decide to check out what the whole hype about the muggle gaming consoles is. After playing on them, each has their own favorite console as shown below.<br>\n",
    "Ron - Xbox<br>\n",
    "Harry - Playstation<br>\n",
    "Hermoine - Wii<br>\n",
    "Ginny - Switch<br>\n",
    "Lavener - Xbox<br>\n",
    "Neville - Switch<br>\n",
    "We could use a dictionary to store a person (key) and favorite console (value).<br>\n",
    "The dictionary is created by comma separated key:value pairs inside '{}'"
   ]
  },
  {
   "cell_type": "code",
   "execution_count": null,
   "metadata": {
    "collapsed": false,
    "jupyter": {
     "outputs_hidden": false
    }
   },
   "outputs": [],
   "source": [
    "# Create the dictionary\n",
    "consoles ={'Ron':'Xbox' ,'Harry':'Playstation', 'Hermoine':'Wii', 'Ginny':'Switch', 'Lavender':'Xbox','Neville':'Switch'}\n",
    "# Print the dictionary\n",
    "print(consoles)\n",
    "# Print data type of dictionary\n",
    "print(type(consoles))"
   ]
  },
  {
   "cell_type": "code",
   "execution_count": null,
   "metadata": {
    "collapsed": false,
    "jupyter": {
     "outputs_hidden": false
    }
   },
   "outputs": [],
   "source": [
    "# Dictionary items\n",
    "print(consoles.items())\n",
    "# Dictionary keys\n",
    "print(consoles.keys())\n",
    "# Dictionary values\n",
    "print(consoles.values())"
   ]
  },
  {
   "cell_type": "code",
   "execution_count": null,
   "metadata": {
    "collapsed": false,
    "jupyter": {
     "outputs_hidden": false
    }
   },
   "outputs": [],
   "source": [
    "The items(), keys() and values() functions can be used to iterate (go over the elements one at a time)"
   ]
  },
  {
   "cell_type": "code",
   "execution_count": null,
   "metadata": {
    "collapsed": false,
    "jupyter": {
     "outputs_hidden": false
    }
   },
   "outputs": [],
   "source": [
    "# Print both key and values\n",
    "print(\"Key - values pairs\")\n",
    "for name, con in consoles.items():\n",
    "    print(name, \"likes\", con)"
   ]
  },
  {
   "cell_type": "code",
   "execution_count": null,
   "metadata": {
    "collapsed": false,
    "jupyter": {
     "outputs_hidden": false
    }
   },
   "outputs": [],
   "source": [
    "print(\"\\nOnly values\")\n",
    "for con in consoles.values():\n",
    "    print(con)"
   ]
  },
  {
   "cell_type": "markdown",
   "metadata": {},
   "source": [
    "Individual values can be accessed using dict[key]"
   ]
  },
  {
   "cell_type": "code",
   "execution_count": null,
   "metadata": {
    "collapsed": false,
    "jupyter": {
     "outputs_hidden": false
    }
   },
   "outputs": [],
   "source": [
    "# Print Ron's favorite console\n",
    "print(\"Ron's favorite console is\", consoles['Ron'])"
   ]
  },
  {
   "cell_type": "markdown",
   "metadata": {},
   "source": [
    "Values can also be added to an empty or existing dictionary."
   ]
  },
  {
   "cell_type": "code",
   "execution_count": null,
   "metadata": {
    "collapsed": false,
    "jupyter": {
     "outputs_hidden": false
    }
   },
   "outputs": [],
   "source": [
    "# Adding key:value pair\n",
    "consoles['Dean']='Xbox'\n",
    "# Dictionary items to make sure new item is added\n",
    "print(consoles.items())"
   ]
  },
  {
   "cell_type": "code",
   "execution_count": null,
   "metadata": {
    "collapsed": false,
    "jupyter": {
     "outputs_hidden": false
    }
   },
   "outputs": [],
   "source": [
    "# We can use len(dict_name) to find the number of items in the dictionary\n",
    "print(len(consoles))\n",
    "# We can also clear all dictionary values with the clear function\n",
    "consoles.clear()\n",
    "print(consoles)"
   ]
  },
  {
   "cell_type": "markdown",
   "metadata": {},
   "source": [
    "<b>Your turn</b><br>\n",
    "1) Create a dictionary which contains how many times Harry and his friends have had detention.<br>\n",
    "Harry : 8<br>\n",
    "Ron : 7<br>\n",
    "Hermoine : 1 (Much to her dismay)<br>\n",
    "Fred : 12<br>\n",
    "George: 11<br>\n",
    "Neville : 5<br>\n",
    "Ginny : 6<br>\n",
    "Colin : 3<br>\n",
    "Parvati : 2<br>\n",
    "2) Print the key-value pairs.<br>\n",
    "3) Only print the keys.<br>\n",
    "4) Print George's detention count.<br>\n",
    "5) Add Percy, who has 0 detentions, and print the dictionary again to make sure his clean record is on file.<br>"
   ]
  },
  {
   "cell_type": "code",
   "execution_count": null,
   "metadata": {
    "collapsed": false,
    "jupyter": {
     "outputs_hidden": false
    }
   },
   "outputs": [],
   "source": []
  },
  {
   "cell_type": "markdown",
   "metadata": {},
   "source": [
    "## <a id = 'err4'>Oh the errors and exceptions!</a>\n",
    "Try finding Draco's favorite - keep in mind he never was a friend of Harry's and hence not in in the list."
   ]
  },
  {
   "cell_type": "code",
   "execution_count": null,
   "metadata": {
    "collapsed": false,
    "jupyter": {
     "outputs_hidden": false
    }
   },
   "outputs": [],
   "source": [
    "# Create the dictionary\n",
    "consoles ={'Ron':'Xbox' ,'Harry':'Playstation', 'Hermoine':'Wii', 'Ginny':'Switch', 'Lavender':'Xbox','Neville':'Switch'}\n",
    "# Print Draco's favorite console\n",
    "print(\"Draco's favorite console is\", stu_con['Draco'])"
   ]
  },
  {
   "cell_type": "code",
   "execution_count": null,
   "metadata": {
    "collapsed": false,
    "jupyter": {
     "outputs_hidden": false
    }
   },
   "outputs": [],
   "source": []
  },
  {
   "cell_type": "markdown",
   "metadata": {},
   "source": [
    "## <a id='mode'>Mode</a>\n",
    "The <b>mode</b> of a data set is defined as the value that appears most often appears. <br>\n",
    "A data set can have one or more modes. They may also have no modes.<br><br>\n",
    "Let us circle back to the boring world of muggles and the soda problem of the last lesson. There we found the frequency of the different sodas but did not store them for future use.<br> \n",
    "The teacher sees that her class is very smart and decides to make things more challenging. She now wants the students to find the most popular soda.<br>\n",
    "We can use a dictionary with the keys to be the names of the sodas and the values to be the frequency of the sodas to solve this problem.<br>"
   ]
  },
  {
   "cell_type": "code",
   "execution_count": 1,
   "metadata": {
    "collapsed": false,
    "jupyter": {
     "outputs_hidden": false
    }
   },
   "outputs": [
    {
     "name": "stdout",
     "output_type": "stream",
     "text": [
      "Soda_Count dictionary has the following elements: {'sprite': 3, 'canada dry': 2, 'mountain dew': 3, 'coke': 7, 'fanta': 1, 'pepsi': 4}\n"
     ]
    }
   ],
   "source": [
    "# Data collected from students\n",
    "list_soda = [\"pepsi\", \"sprite\", \"mountain dew\", \"pepsi\", \"coke\", \"coke\", \"mountain dew\", \"pepsi\", \"coke\", \"coke\", \"sprite\", \"canada dry\", \"coke\", \"pepsi\", \"coke\", \"sprite\", \"mountain dew\", \"canada dry\", \"fanta\", \"coke\"]\n",
    "# Make a list of the unique soda names. We use the set function to return unique elements\n",
    "list_un = set(list_soda)\n",
    "# Intialize a dictionary to store the information\n",
    "soda_ct={}\n",
    "# Access each unique soda \n",
    "for s in list_un:\n",
    "    #list_name.count(value) gives the count of all elements with value\n",
    "    soda_ct[s] = list_soda.count(s)\n",
    "print(\"Soda_Count dictionary has the following elements:\", soda_ct)"
   ]
  },
  {
   "cell_type": "markdown",
   "metadata": {},
   "source": [
    "We can find the max soda count easily using the max function on the list of values"
   ]
  },
  {
   "cell_type": "code",
   "execution_count": null,
   "metadata": {
    "collapsed": false,
    "jupyter": {
     "outputs_hidden": false
    }
   },
   "outputs": [],
   "source": [
    "# Max soda count - get a list of the values from the dictionary and then use the list max().\n",
    "list_values = soda_ct.values()\n",
    "max_soda_ct=max(list_values)\n",
    "print(\"Max soda count:\", max_soda_ct)\n",
    "# Or we can put the above two statements together and use the the list returned by dictonaries.values() directly in the max()\n",
    "max_soda_ct=(max(soda_ct.values()))\n",
    "print(\"Max soda count from puttng the two steps together:\", max_soda_ct)"
   ]
  },
  {
   "cell_type": "markdown",
   "metadata": {},
   "source": [
    "Finding the name of the corresponding soda requires a little more work.<br>"
   ]
  },
  {
   "cell_type": "code",
   "execution_count": null,
   "metadata": {
    "collapsed": false,
    "jupyter": {
     "outputs_hidden": false
    }
   },
   "outputs": [],
   "source": [
    "# Go through soda and count from dictionary and match each count to the max_soda_ct from previous step\n",
    "for soda, count in soda_ct.items():\n",
    "    # Print soda and count for each iteration of the for loop\n",
    "    print(soda, count)\n",
    "    if count==max_soda_ct:\n",
    "        print(soda,\"is most popular with\", count, \"students preferring it\")\n",
    "        # break or stop the for loop once you find a match\n",
    "        break\n",
    "print(\"The for loop is done\")"
   ]
  },
  {
   "cell_type": "markdown",
   "metadata": {},
   "source": [
    "The break statement terminates the current loop and passes control to the next statement outside the loop<br>\n",
    "As you can see from the print statement listing <b>soda</b> and <b>count</b>, the keys pepsi and mountain dew are not processed as we found a match for maximum count at coke. <br>"
   ]
  },
  {
   "cell_type": "markdown",
   "metadata": {},
   "source": [
    "## <a id ='fd4'> Food for thought </a>\n",
    "Can you think of a potential issue with the logic used to find the mode in the soda problem above?"
   ]
  },
  {
   "cell_type": "markdown",
   "metadata": {},
   "source": [
    "## <a id='cd4'>Connecting the dots</a>\n",
    "Harry and his friends are always breaking the rules and getting in trouble with Prof. Snape, Filch and others. They are normally awarded detention for flouting the rules. Using the detention information of Harry and his friends shown below find the following.<br>\n",
    "Harry : 8<br>\n",
    "Ron : 7<br>\n",
    "Hermoine : 1 (Much to her dismay)<br>\n",
    "Fred : 12<br>\n",
    "George: 12<br>\n",
    "Neville : 5<br>\n",
    "Ginny : 6<br>\n",
    "Colin : 3<br>\n",
    "Parvati : 2<br>\n",
    "- Create a dictionary with this information.<br>\n",
    "- Find the person with highest and lowest number of detentions.<br>\n",
    "- Find the difference between the highest and lowest number of detentions.<br>"
   ]
  },
  {
   "cell_type": "code",
   "execution_count": null,
   "metadata": {
    "collapsed": false,
    "jupyter": {
     "outputs_hidden": false
    }
   },
   "outputs": [],
   "source": []
  },
  {
   "cell_type": "code",
   "execution_count": null,
   "metadata": {
    "collapsed": false,
    "jupyter": {
     "outputs_hidden": false
    }
   },
   "outputs": [],
   "source": []
  },
  {
   "cell_type": "code",
   "execution_count": null,
   "metadata": {
    "collapsed": false,
    "jupyter": {
     "outputs_hidden": false
    }
   },
   "outputs": [],
   "source": []
  },
  {
   "cell_type": "markdown",
   "metadata": {},
   "source": [
    "## <a id='kta4'>Key takeaways</a>\n",
    "1) Dictionaries are extremely useful data structure that store key-value pairs.<br>\n",
    "2) Mode is the value that appears most often. A data set can have 0,1 or more modes.<br>"
   ]
  },
  {
   "cell_type": "markdown",
   "metadata": {},
   "source": [
    "You can now attempt Unit 1, Assignment 2. Have fun!"
   ]
  }
 ],
 "metadata": {
  "kernelspec": {
   "display_name": "Python 3",
   "language": "python",
   "name": "python3"
  },
  "language_info": {
   "codemirror_mode": {
    "name": "ipython",
    "version": 3
   },
   "file_extension": ".py",
   "mimetype": "text/x-python",
   "name": "python",
   "nbconvert_exporter": "python",
   "pygments_lexer": "ipython3",
   "version": "3.8.3"
  }
 },
 "nbformat": 4,
 "nbformat_minor": 4
}
