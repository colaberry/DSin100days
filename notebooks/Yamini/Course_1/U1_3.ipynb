{
 "cells": [
  {
   "cell_type": "markdown",
   "metadata": {},
   "source": [
    "# Lesson 1.3 "
   ]
  },
  {
   "cell_type": "markdown",
   "metadata": {},
   "source": [
    "## Making a list, checking it twice.."
   ]
  },
  {
   "cell_type": "markdown",
   "metadata": {},
   "source": [
    "## Objectives\n",
    "<b>Python:</b> Lists, If Statement<br>\n",
    "<b>Data:</b> Mean, Median and Range<br>\n",
    "- <a href='#mean'>Mean</a>\n",
    "- <a href='#lists'>Lists</a>\n",
    "- <a href='#if'>If Statement</a>\n",
    "- <a href='#med'>Median</a>\n",
    "- <a href='#ran'>Range</a>\n",
    "- <a href='#err2'>Oh the errors and exceptions!</a>\n",
    "- <a href='#cd'>Connecting the dots</a>\n",
    "- <a href='#fd2'>Food for thought</a>\n",
    "- <a href='#kta1'>Key takeaways</a>"
   ]
  },
  {
   "cell_type": "markdown",
   "metadata": {},
   "source": [
    "## <a id='mean'>Mean</a>"
   ]
  },
  {
   "cell_type": "markdown",
   "metadata": {},
   "source": [
    "The aithmetic mean of a set of numbers is simply the sum of numbers divided by the number of numbers. It is commonly known as the avearage.<br>\n",
    "It is one of the measures of the central tendency of the data.<br>\n",
    "It has many applications, perhaps the most relatable being grade calculations.<br>\n",
    "It is calculated as the (sum of the numbers)/(number of numbers).<br>\n",
    "The mean of 50,70,91,92 and 100 is (50+70+91+92+100)/5 = 80.6<br>\n",
    "Run the following cell to see python do the calculations for you<br>"
   ]
  },
  {
   "cell_type": "code",
   "execution_count": null,
   "metadata": {
    "collapsed": false,
    "jupyter": {
     "outputs_hidden": false
    }
   },
   "outputs": [],
   "source": [
    "(50+70+91+92+100)/5 "
   ]
  },
  {
   "cell_type": "markdown",
   "metadata": {},
   "source": [
    "<b>Your turn: </b><br>\n",
    "Find the mean of your own set of numbers in the cell below. Make sure you follow the order of operations and put the paranthesis in the right place.<br>"
   ]
  },
  {
   "cell_type": "code",
   "execution_count": null,
   "metadata": {
    "collapsed": false,
    "jupyter": {
     "outputs_hidden": false
    }
   },
   "outputs": [],
   "source": []
  },
  {
   "cell_type": "markdown",
   "metadata": {},
   "source": [
    "## <a id ='lists'>Lists</a>\n",
    "Lists are a python data structure which stores a collection of values that can be accessed using the same variable name.<br>\n",
    "The list consists of comma separated values enclosed in square brackets. <br>\n",
    "\n",
    "### Creating lists\n",
    "We could define a list with an intial set of values by using the statement<br>\n",
    "list_name=[comma separated values]"
   ]
  },
  {
   "cell_type": "code",
   "execution_count": null,
   "metadata": {
    "collapsed": false,
    "jupyter": {
     "outputs_hidden": false
    }
   },
   "outputs": [],
   "source": [
    "# List of number values\n",
    "list_num = [50,70,91,92]\n",
    "print(\"The list contains the values:\", list_num)\n",
    "# See the data type of lists\n",
    "print(\"The data type of the list is\", type(list_num))"
   ]
  },
  {
   "cell_type": "markdown",
   "metadata": {},
   "source": [
    "An empty list can be created and elements added using the built in append(value) function.\n",
    "We can also add elements to an existing list using the append(value) function."
   ]
  },
  {
   "cell_type": "code",
   "execution_count": null,
   "metadata": {
    "collapsed": false,
    "jupyter": {
     "outputs_hidden": false
    }
   },
   "outputs": [],
   "source": [
    "# create an empty list to append data\n",
    "list_app =[]\n",
    "# print the empty list\n",
    "print(\"Empty list_app:\", list_app)\n",
    "list_app.append(3)\n",
    "list_app.append(4)\n",
    "print(\"Updated list_app:\", list_app)\n",
    "\n",
    "# Add elements to list_num created above\n",
    "list_num.append(100)\n",
    "print(\"Updated list_num contains the values:\", list_num)"
   ]
  },
  {
   "cell_type": "markdown",
   "metadata": {},
   "source": [
    "### Accessing individual list elements\n",
    "We can access the individual elements by using the variable name followed index of the position in square brackets.<br>\n",
    "It is important to note that the index positions start from 0. So is the list has 5 elements, the indices are 0,1,2,3,4<br>\n",
    "list_num[0] = 50<br>\n",
    "list_num[4] = 100<br>\n",
    "In general if a list has 'n' values, the indices run from 0 to (n-1).<br>"
   ]
  },
  {
   "cell_type": "code",
   "execution_count": null,
   "metadata": {
    "collapsed": false,
    "jupyter": {
     "outputs_hidden": false
    }
   },
   "outputs": [],
   "source": [
    "# Accessing individual elements\n",
    "list_num = [50,70,91,92,100]\n",
    "print(\"First element:\", list_num[0])\n",
    "print(\"Second element:\",list_num[1])\n",
    "print(\"Third element:\",list_num[2])\n",
    "print(\"Fourth element:\",list_num[3])\n",
    "print(\"Fifth element:\",list_num[4])"
   ]
  },
  {
   "cell_type": "markdown",
   "metadata": {},
   "source": [
    "The data in the list need not be the same type. For example we can mix strings and integers.<br>\n",
    "list_mixed = [\"Data\", \"Science\", 2020, \"October\"]<br>\n",
    "list_mixed[0] = \"Data\" <br>\n",
    "list_mixed[2] = 2020<br>\n",
    "list_mixed[3] = \"October\"<br>\n",
    "A list can even hold other lists as elements.<br>"
   ]
  },
  {
   "cell_type": "code",
   "execution_count": 1,
   "metadata": {
    "collapsed": false,
    "jupyter": {
     "outputs_hidden": false
    }
   },
   "outputs": [
    {
     "name": "stdout",
     "output_type": "stream",
     "text": [
      "First element is a string: Data\n",
      "Third element is an integer: 2020\n"
     ]
    }
   ],
   "source": [
    "list_mixed = [\"Data\", \"Science\", 2020, \"October\",12, 25.5]\n",
    "print(\"First element is a string:\", list_mixed[0])\n",
    "print(\"Third element is an integer:\",list_mixed[2])"
   ]
  },
  {
   "cell_type": "markdown",
   "metadata": {},
   "source": [
    "### Accessing a range of elements using the colon operator\n",
    "A range of elements can be accessed using the following syntax<br>\n",
    "&emsp;list_name[start : end : step]<br>\n",
    "The default for start is the first element, for end the last element and step 1. So you can skip using any of these parameters. Example: [:3:2] will give every second element starting from the first and ending at the fourth.<br>\n",
    "In the example below the start index is 1 (for second element) and end index is 3 (4th element). <br>\n",
    "&emsp;list_mixed[1:3] = [\"Science\", 2020]<br>\n",
    "In the example below the start index is 0 (for first element) and end index is 3 (4th element) with step of 2 i.e only every second element is selected. <br>\n",
    "&emsp;list_mixed[0:3:2]=['Data', 2020]<br>"
   ]
  },
  {
   "cell_type": "code",
   "execution_count": 2,
   "metadata": {
    "collapsed": false,
    "jupyter": {
     "outputs_hidden": false
    }
   },
   "outputs": [
    {
     "name": "stdout",
     "output_type": "stream",
     "text": [
      "Entire List: ['Data', 'Science', 2020, 'October', 12, 25.5]\n",
      "Elements 2-4: ['Science', 2020]\n",
      "Every second element from 1-4: ['Data', 2020]\n",
      "Every  third element from entire list: ['Data', 'October']\n"
     ]
    }
   ],
   "source": [
    "# Entire list\n",
    "print(\"Entire List:\", list_mixed)\n",
    "# Elements 2-4\n",
    "print(\"Elements 2-4:\", list_mixed[1:3])\n",
    "# Every second element from 1-4\n",
    "print(\"Every second element from 1-4:\",list_mixed[0:3:2])\n",
    "# Every third element\n",
    "print(\"Every  third element from entire list:\",list_mixed[::3])"
   ]
  },
  {
   "cell_type": "markdown",
   "metadata": {},
   "source": [
    "Lists have a lot of functionality built into them. We have already used the append(value) functon.<br>\n",
    "We can use len(list_name) and sum(list_name) functions to find the number and sum of elements in the list respectively."
   ]
  },
  {
   "cell_type": "code",
   "execution_count": null,
   "metadata": {
    "collapsed": false,
    "jupyter": {
     "outputs_hidden": false
    }
   },
   "outputs": [],
   "source": [
    "# Length of list \n",
    "print(\"Length of mixed data list:\", len(list_mixed))\n",
    "# Sum of elements of number list\n",
    "print(\"Sum of elements of number list:\", sum(list_num))"
   ]
  },
  {
   "cell_type": "markdown",
   "metadata": {},
   "source": [
    "<b>Your turn: </b><br>\n",
    "Create your own list of atleast 5 elements and print out the first, last and fourth elements.<br>\n",
    "Try a range of index like list1[2:] and make note of the output.<br>\n",
    "Try the negative index -1. What happens?<br>\n",
    "Try the negative index -2. What happens?<br>\n",
    "Append an element to the list.<br>\n",
    "Try the negative index -1. What happens<br>"
   ]
  },
  {
   "cell_type": "code",
   "execution_count": null,
   "metadata": {
    "collapsed": false,
    "jupyter": {
     "outputs_hidden": false
    }
   },
   "outputs": [],
   "source": []
  },
  {
   "cell_type": "markdown",
   "metadata": {},
   "source": [
    "### Calulating the mean of a set of numbers using lists\n",
    "Calculating the mean of the data values in list_num is done over the next few cells.<br>"
   ]
  },
  {
   "cell_type": "code",
   "execution_count": null,
   "metadata": {
    "collapsed": false,
    "jupyter": {
     "outputs_hidden": false
    }
   },
   "outputs": [],
   "source": [
    "# Step 1 of mean calculation: Use the data type list to input the data values whose mean needs to be calculated\n",
    "list_num = [50,70,91,92,100]\n",
    "# Print the list..\n",
    "print(\"The elements of the list are:\", list_num)"
   ]
  },
  {
   "cell_type": "code",
   "execution_count": null,
   "metadata": {
    "collapsed": false,
    "jupyter": {
     "outputs_hidden": false
    }
   },
   "outputs": [],
   "source": [
    "# Step 2 of mean calculation: Find the number of numbers in the list using the built in function len(list_name)\n",
    "num = len(list_num)\n",
    "print(\"The number of elements in the list is:\",num)"
   ]
  },
  {
   "cell_type": "code",
   "execution_count": null,
   "metadata": {
    "collapsed": false,
    "jupyter": {
     "outputs_hidden": false
    }
   },
   "outputs": [],
   "source": [
    "# Step 3 of mean calculation: Calculate the sum using built in function sum(list_name) \n",
    "list_sum = sum(list_num)\n",
    "print(\"The sum of elements in the list is\", sum )"
   ]
  },
  {
   "cell_type": "code",
   "execution_count": null,
   "metadata": {
    "collapsed": false,
    "jupyter": {
     "outputs_hidden": false
    }
   },
   "outputs": [],
   "source": [
    "# Step 4 of mean calculation: Calculate the mean as (sum of elements)/(number of elements)\n",
    "mean = list_sum/num\n",
    "# Print the mean\n",
    "print(\"The mean or average of the list of numbers is: \", mean)"
   ]
  },
  {
   "cell_type": "code",
   "execution_count": null,
   "metadata": {
    "collapsed": false,
    "jupyter": {
     "outputs_hidden": false
    }
   },
   "outputs": [],
   "source": [
    "# Alternate ways 1: Single line mean calculation\n",
    "mean1 = sum(list_num)/len(list_num)\n",
    "# Print new mean and verify its the same as the previous one\n",
    "print(\"Alternate 1: The mean or average of the list of numbers is: \", mean1)\n",
    "# Alternate ways 2: Directly printing the result without intermediate variables\n",
    "# The drawback of this method is that we do not have the value stored for future reference\n",
    "print(\"Alternate 2: The mean or average of the list of numbers is: \",sum(list_num)/len(list_num))"
   ]
  },
  {
   "cell_type": "markdown",
   "metadata": {},
   "source": [
    "## <a id ='if'>If statement</a>"
   ]
  },
  {
   "attachments": {
    "24893046-d0aa-407e-91f3-df0ded7edffe.jpg": {
     "image/jpeg": "[encoded data removed]"
    }
   },
   "cell_type": "markdown",
   "metadata": {},
   "source": [
    "The <b>if</b> statement tests for the condition in paranthesis and executes the commands in the code block if it is true.<br>\n",
    "The new block in the code is indicated by the ':' at the end of the  if statement.\n",
    "All lines till the end of the block are executed. If the condition is false, none of the lines in the block are executed<br>\n",
    "Any lines of code that need to be processed inside these blocks of code need to be indented as shown.<br>\n",
    "Python was built using the indentation method to increase the readbility of the code. From a single glance one can see under which block or condition a line will be executed.<br>\n",
    "\n",
    "![If.jpg](attachment:24893046-d0aa-407e-91f3-df0ded7edffe.jpg)\n",
    "<br>Run the code below and see which lines are executed<br>"
   ]
  },
  {
   "cell_type": "code",
   "execution_count": null,
   "metadata": {
    "collapsed": false,
    "jupyter": {
     "outputs_hidden": false
    }
   },
   "outputs": [],
   "source": [
    "a = 5.5\n",
    "b = 6.5\n",
    "if(a<b): \n",
    "    # Make note of the indentation - the next two print lines are executed only when the if statement returns a true\n",
    "    print(\"First If: b is greater\")\n",
    "    print(\"First If: a is smaller\")\n",
    "# This is outside the if statement as seen by the indentation\n",
    "a=10.5\n",
    "if(a<b):\n",
    "    print(\"Second If: b is greater\")\n",
    "    print(\"Second If: a is smaller\")\n",
    "print(\"Outside the If:b is still 6.5\")\n",
    "if(a>b):   \n",
    "    print(\"Third If: a is greater now that we changed its value\")"
   ]
  },
  {
   "cell_type": "markdown",
   "metadata": {},
   "source": [
    "You can test multiple conditions within an if statement using the logical operators."
   ]
  },
  {
   "cell_type": "code",
   "execution_count": null,
   "metadata": {
    "collapsed": false,
    "jupyter": {
     "outputs_hidden": false
    }
   },
   "outputs": [],
   "source": [
    "a = 2\n",
    "b = 4\n",
    "c = 5\n",
    "if(a<b and b<c):\n",
    "    print(\"First if: c is the greatest\")\n",
    "if(not(a>b)):\n",
    "    print(\"Second if: a is less than b\")"
   ]
  },
  {
   "attachments": {
    "43fe7813-57ed-4ee6-b029-0141ed11c924.jpg": {
     "image/jpeg": "[encoded data removed]"
    }
   },
   "cell_type": "markdown",
   "metadata": {},
   "source": [
    "### If..Else Statement¶\n",
    "\n",
    "The If statement can be enhanced to perform some action if the evaluated condition turns out to be true and a different action if the condition is false. \n",
    "\n",
    "![IfElse.jpg](attachment:43fe7813-57ed-4ee6-b029-0141ed11c924.jpg)\n",
    "<br>Play with different values of a and b to see which line is executed."
   ]
  },
  {
   "cell_type": "code",
   "execution_count": null,
   "metadata": {
    "collapsed": false,
    "jupyter": {
     "outputs_hidden": false
    }
   },
   "outputs": [],
   "source": [
    "a = 5.5\n",
    "b = 6.5\n",
    "if(a<b):\n",
    "    print(\"If part: b is greater\")\n",
    "else:\n",
    "    print(\"Else part: a is greater\")"
   ]
  },
  {
   "cell_type": "markdown",
   "metadata": {},
   "source": [
    "### Nested if statements\n",
    "If statements can be nested within one and another. The indentation indicates the code blocks.<br>\n",
    "Execute the following cell to see the flow of execution. <br>\n",
    "Change a to 12 and rerun. <br>\n",
    "Change b to 3 and rerun<br>"
   ]
  },
  {
   "cell_type": "code",
   "execution_count": null,
   "metadata": {
    "collapsed": false,
    "jupyter": {
     "outputs_hidden": false
    }
   },
   "outputs": [],
   "source": [
    "a = 2\n",
    "b = 6\n",
    "c = 4\n",
    "if(a<b): # outer if\n",
    "    if(b<c): # innner if\n",
    "        print(\"a<b and b<c\")\n",
    "    else: # goes with inner if\n",
    "        print(\"a<b but b>c\")\n",
    "else: # goes with outer if\n",
    "    print(\"a>b\")\n",
    "print(\"Done\") # Outside both the if's"
   ]
  },
  {
   "cell_type": "markdown",
   "metadata": {},
   "source": [
    "## <a id='med'>Median</a>"
   ]
  },
  {
   "cell_type": "markdown",
   "metadata": {},
   "source": [
    "The median is defined as the middle number when the numbers are arranged in increasing or ascending order.<br>\n",
    "Median is another the measure of the central tendency of the data.<br>\n",
    "We might have read statements such as 'In 2019 the median income for the city of Houston was $29,259'. This just meants that if the incomes of all Houston residents were lined up in increasing order, the one in the middle will be 29,259<br>\n",
    "\n",
    "### Median when number of elements in the list is odd\n",
    "For a list with an odd number of 'n' elements, the median is the middle element. \n",
    "The list of numbers [50,70,91,92,100], has median 91 which is the 3rd number which is in the middle.<br>\n",
    "In general the the middle element is the floor value (n//2).<br>\n",
    "\n",
    "<b>Note:</b>The <b>floor</b> value is simply the <u>rounding down</u> of the decimal value. In Python we use the '//' operator to obtain the floor value of division operation.<br>\n",
    "Example: floor(3.2)=3, floor(3.5)=3, floor(15//4)=3<br>\n",
    "\n",
    "In python,<br>\n",
    "list_odd = [50,70,91,92,100]<br>\n",
    "The index of the median was the floor value of (5/2), where 5 is the number of elements.<br>\n",
    "list_odd[5//2] = 91. <br>\n",
    "\n",
    "### Median when number of elements in the list is even\n",
    "For a list with an even number of 'n' elements, the median is defined as the mean of the middle two numbers. <br>\n",
    "For a list like [80,90,96,100], the median is calculated as the average of the two middle elements or (90+96)/2 or 93.<br>\n",
    "\n",
    "In python, <br>\n",
    "list_even = [80,90,96,100]<br>\n",
    "(list_even[1]+list_even[2])/2 = 93 would be the median. <br>\n",
    "The index of the median was the average of indices 4/2 and (4/2 -1), where 4 is the number of elements.<br>\n",
    "<br>\n",
    "Before we find the median of a list, we need to first sort it and also test to see if the number of elements are odd or even. <br>\n",
    "Since all the elements are of a numeric datatype, we can use the inbuilt <b>sort</b> function of lists. \n",
    "We identify an even number by the fact that when divided by 2 it has no remainder, while an odd number divided by 2 has a remainder of 1.<br>\n",
    "Based on the odd or even, we branch with the help of the <b>if</b> statement.<br>\n",
    "Play around with the values in the list below and see how the median varies.<br>"
   ]
  },
  {
   "cell_type": "code",
   "execution_count": null,
   "metadata": {
    "collapsed": false,
    "jupyter": {
     "outputs_hidden": false
    }
   },
   "outputs": [],
   "source": [
    "# Unsorted list\n",
    "list_med = [100,91,70,92,60]\n",
    "# Sort the list\n",
    "list_med.sort()\n",
    "# Find the number of elements in list\n",
    "n = len(list_med)\n",
    "\n",
    "# Check if n is even or odd\n",
    "if n%2==0:\n",
    "    # Find average of middle two numbers\n",
    "    median = (list_med[n//2] + list_med[n//2-1])/2\n",
    "    print(\"The number of elements is even and the median is:\", median)\n",
    "else:\n",
    "    # Median is just middle number\n",
    "    median = list_med[n//2]\n",
    "    print(\"The number of elements is odd and the median is:\", median)"
   ]
  },
  {
   "cell_type": "markdown",
   "metadata": {},
   "source": [
    "## <a id='ran'> Range</a>"
   ]
  },
  {
   "cell_type": "markdown",
   "metadata": {},
   "source": [
    "Range is simply the difference between the highest and lowest value in a set of number.<br>\n",
    "For a list [91,100,70,92,50], the range would be 100-50 = 50.<br>\n",
    "In python, we would simply sort the list and find the difference between the min and max values using the max(list_name) and min(list_name) built in functions.<br><br>\n",
    "<b>Your turn</b>: Can you finish the code in the next cell to print the range by following the steps given below.<br>\n",
    "    1) Find the max and min values from the list using the max and min functions.<br>\n",
    "    2) Print the difference between the above two.<br>"
   ]
  },
  {
   "cell_type": "code",
   "execution_count": null,
   "metadata": {
    "collapsed": false,
    "jupyter": {
     "outputs_hidden": false
    }
   },
   "outputs": [],
   "source": [
    "list_range = [91,100,70,92,50]\n"
   ]
  },
  {
   "cell_type": "markdown",
   "metadata": {},
   "source": [
    "## <a id ='err2'>Oh the errors and exceptions!</a>\n",
    "Make a note of the type of error or exception in each case. Then try to fix it.<br>\n",
    "<b>Lists</b>>\n",
    "1) Access an element with index that is greater than the number of elements. <br>\n",
    "2) Access an element index -100.<br>"
   ]
  },
  {
   "cell_type": "code",
   "execution_count": null,
   "metadata": {
    "collapsed": false,
    "jupyter": {
     "outputs_hidden": false
    }
   },
   "outputs": [],
   "source": [
    "list_num = [50,70,91,92,100]"
   ]
  },
  {
   "cell_type": "code",
   "execution_count": null,
   "metadata": {
    "collapsed": false,
    "jupyter": {
     "outputs_hidden": false
    }
   },
   "outputs": [],
   "source": []
  },
  {
   "cell_type": "code",
   "execution_count": null,
   "metadata": {
    "collapsed": false,
    "jupyter": {
     "outputs_hidden": false
    }
   },
   "outputs": [],
   "source": []
  },
  {
   "cell_type": "markdown",
   "metadata": {},
   "source": [
    "<b>If statement</b>\n",
    "1) Write an if statement without the colon at the end of the statement.<br>\n",
    "2) Write an if statement without indentation. <br>"
   ]
  },
  {
   "cell_type": "code",
   "execution_count": null,
   "metadata": {
    "collapsed": false,
    "jupyter": {
     "outputs_hidden": false
    }
   },
   "outputs": [],
   "source": []
  },
  {
   "cell_type": "code",
   "execution_count": null,
   "metadata": {
    "collapsed": false,
    "jupyter": {
     "outputs_hidden": false
    }
   },
   "outputs": [],
   "source": []
  },
  {
   "cell_type": "markdown",
   "metadata": {},
   "source": [
    "## <a id='cd'>Connecting the dots</a>\n",
    "Consider the list of elements [49,50,51,52,53]. Write a program to find mean, median and range and make note of these values.<br>\n",
    "Repeat the program for the values [1,2,51,102,1003]. <br>"
   ]
  },
  {
   "cell_type": "code",
   "execution_count": null,
   "metadata": {
    "collapsed": false,
    "jupyter": {
     "outputs_hidden": false
    }
   },
   "outputs": [],
   "source": []
  },
  {
   "cell_type": "code",
   "execution_count": null,
   "metadata": {
    "collapsed": false,
    "jupyter": {
     "outputs_hidden": false
    }
   },
   "outputs": [],
   "source": []
  },
  {
   "cell_type": "code",
   "execution_count": null,
   "metadata": {
    "collapsed": false,
    "jupyter": {
     "outputs_hidden": false
    }
   },
   "outputs": [],
   "source": []
  },
  {
   "cell_type": "code",
   "execution_count": null,
   "metadata": {
    "collapsed": false,
    "jupyter": {
     "outputs_hidden": false
    }
   },
   "outputs": [],
   "source": []
  },
  {
   "cell_type": "markdown",
   "metadata": {},
   "source": [
    "## <a id ='fd2'>Food for thought</a>\n",
    "What do negative indices do while accessing list elements?<br>\n",
    "Comparing the mean, median and range of the two data sets above, what can you say about these statistics and their limitations?<br>"
   ]
  },
  {
   "cell_type": "markdown",
   "metadata": {},
   "source": [
    "## <a id='kta1'>Key takeaways</a>\n",
    "1. Lists are a collection of elements, not necessarily of the same datatype.<br>\n",
    "2. List indices start at 0 and go through n-1 for a list of n elements.<br>\n",
    "3. Individual elements can be accessed using the index of the position - the first element has index 0, the second index 1 and so on.<br>\n",
    "4. The If or If..Else statements allow us to alter the path of execution.<br>\n",
    "5. Mean and median give a general idea of \"central tendency\" of the data, but do not take into account the extreme values. <br>\n",
    "6. Range is a simple way of measuring the \"spread\" (difference between highest and lowest values) of the data<br>"
   ]
  },
  {
   "cell_type": "markdown",
   "metadata": {},
   "source": [
    "You can now attempt Unit 1, Assignment 1. Have fun!"
   ]
  }
 ],
 "metadata": {
  "kernelspec": {
   "display_name": "Python 3",
   "language": "python",
   "name": "python3"
  },
  "language_info": {
   "codemirror_mode": {
    "name": "ipython",
    "version": 3
   },
   "file_extension": ".py",
   "mimetype": "text/x-python",
   "name": "python",
   "nbconvert_exporter": "python",
   "pygments_lexer": "ipython3",
   "version": "3.8.3"
  }
 },
 "nbformat": 4,
 "nbformat_minor": 4
}
