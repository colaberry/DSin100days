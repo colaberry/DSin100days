{
 "cells": [
  {
   "cell_type": "markdown",
   "metadata": {},
   "source": [
    "# Unit 1 Assignment 2\n",
    "\n",
    "## Assignment 2: No magic in cleaning!\n",
    "This covers topics covered in lessons 1-6 of Unit 1."
   ]
  },
  {
   "cell_type": "markdown",
   "metadata": {},
   "source": [
    "Prof. Snape has not cleaned his potions class cauldrons and other accessories for a long time. Not caring much for the Gryffindors, he put up the following list of who cleans for the next 30 days. For example: Harry cleans the first day, Ron the second, Hermoine the third and so forth. He threw in a couple of Slytherins to make it look impartial.<br>\n",
    "<b>Cleaning list:</b> \"Harry\", \"Ron\", \"Hermoine\", \"Fred\", \"George\", \"Neville\", \"Ginny\", \"George\", \"Crabbe\", \"Goyle\", \"Harry\", \"Ron\", \"Hermoine\", \"Fred\", \"George\", \"Harry\", \"Fred\", \"George\", \"Harry\", \"Hermoine\", \"George\", \"Ron\", \"Hermoine\", \"Fred\", \"Harry\", \"Ginny\", \"Ron\", \"Fred\", \"Harry\", \"Ron\"<br>\n",
    "Prof. McGonagall aware of the bias, decided to confront him with hard evidence. Help her with this program and hopefully get Harry and his friends out of this dirty duty. She wants a print out<br>\n",
    "- Every student and the number of times they are assigned to clean.<br>\n",
    "- The person assinged the most number of cleaning slots. <br>\n",
    "- The average and range of cleaning slots.<br>"
   ]
  },
  {
   "cell_type": "markdown",
   "metadata": {},
   "source": [
    "Fred and George dont think Prof. Snape will be convinced and decide to take matters into their own hands.<br>\n",
    "They create a new dictionary and change the counts of everyone from ct to 10-ct. For example: if someone had 4 turns, they now had 10-4 =6 turns.<br>\n",
    "Compare the old and new lists and make a list of people who get a bad deal i.e. whose counts increase.<br>\n",
    "They also added Draco to the list with 4 spots.<br>\n",
    "Find the person who has to do the most cleaning now.<br>\n",
    "Also find how many days of cleaning are covered with these new changes.<br>"
   ]
  },
  {
   "cell_type": "markdown",
   "metadata": {},
   "source": [
    "Create list with cleaning initial assignment"
   ]
  },
  {
   "cell_type": "code",
   "execution_count": null,
   "metadata": {
    "collapsed": false,
    "jupyter": {
     "outputs_hidden": false
    }
   },
   "outputs": [],
   "source": []
  },
  {
   "cell_type": "markdown",
   "metadata": {},
   "source": [
    "Obtain a set of unique student names and print the data."
   ]
  },
  {
   "cell_type": "code",
   "execution_count": null,
   "metadata": {
    "collapsed": false,
    "jupyter": {
     "outputs_hidden": false
    }
   },
   "outputs": [],
   "source": []
  },
  {
   "cell_type": "markdown",
   "metadata": {},
   "source": [
    "Initialize an empty dictionary"
   ]
  },
  {
   "cell_type": "code",
   "execution_count": null,
   "metadata": {
    "collapsed": false,
    "jupyter": {
     "outputs_hidden": false
    }
   },
   "outputs": [],
   "source": []
  },
  {
   "cell_type": "markdown",
   "metadata": {},
   "source": [
    "Use a for loop and populate it with student:cleaning count pairs. Print the dictonary to make sure it has the corret information"
   ]
  },
  {
   "cell_type": "code",
   "execution_count": null,
   "metadata": {
    "collapsed": false,
    "jupyter": {
     "outputs_hidden": false
    }
   },
   "outputs": [],
   "source": []
  },
  {
   "cell_type": "markdown",
   "metadata": {},
   "source": [
    "Find max and min cleaning counts from the values of the dictionary"
   ]
  },
  {
   "cell_type": "code",
   "execution_count": null,
   "metadata": {
    "collapsed": false,
    "jupyter": {
     "outputs_hidden": false
    }
   },
   "outputs": [],
   "source": []
  },
  {
   "cell_type": "markdown",
   "metadata": {},
   "source": [
    "Find the person with the maximum count"
   ]
  },
  {
   "cell_type": "code",
   "execution_count": null,
   "metadata": {
    "collapsed": false,
    "jupyter": {
     "outputs_hidden": false
    }
   },
   "outputs": [],
   "source": []
  },
  {
   "cell_type": "markdown",
   "metadata": {},
   "source": [
    "Find average and range of cleaning rotation "
   ]
  },
  {
   "cell_type": "code",
   "execution_count": null,
   "metadata": {
    "collapsed": false,
    "jupyter": {
     "outputs_hidden": false
    }
   },
   "outputs": [],
   "source": []
  },
  {
   "cell_type": "markdown",
   "metadata": {},
   "source": [
    "Fred and George Hacking starts.<br>\n",
    "Create a new dictionary with no elememsts.<br>\n",
    "Also create an empty list to keep track of those who have a bad deal.<br>"
   ]
  },
  {
   "cell_type": "code",
   "execution_count": null,
   "metadata": {
    "collapsed": false,
    "jupyter": {
     "outputs_hidden": false
    }
   },
   "outputs": [],
   "source": []
  },
  {
   "cell_type": "markdown",
   "metadata": {},
   "source": [
    "Go through every element in the old dictionary using a for loop.<br>\n",
    "For every element, create a new entry in the new dictionary and set the new count to 10-ct.<br>\n",
    "For every element, compare the old and new counts. If the new count > old count, add that person to the list.<br>\n",
    "Once the loop is done, print the new dictionary and the list of bad deals.<br>"
   ]
  },
  {
   "cell_type": "code",
   "execution_count": null,
   "metadata": {
    "collapsed": false,
    "jupyter": {
     "outputs_hidden": false
    }
   },
   "outputs": [],
   "source": []
  },
  {
   "cell_type": "markdown",
   "metadata": {},
   "source": [
    "Add Draco with a count of 4 and print the dictionary"
   ]
  },
  {
   "cell_type": "code",
   "execution_count": null,
   "metadata": {
    "collapsed": false,
    "jupyter": {
     "outputs_hidden": false
    }
   },
   "outputs": [],
   "source": []
  },
  {
   "cell_type": "markdown",
   "metadata": {},
   "source": [
    "Find new person with maximum cleaning spots"
   ]
  },
  {
   "cell_type": "code",
   "execution_count": null,
   "metadata": {
    "collapsed": false,
    "jupyter": {
     "outputs_hidden": false
    }
   },
   "outputs": [],
   "source": []
  },
  {
   "cell_type": "markdown",
   "metadata": {},
   "source": [
    "Find the new number of days of cleaning covered"
   ]
  },
  {
   "cell_type": "code",
   "execution_count": null,
   "metadata": {
    "collapsed": false,
    "jupyter": {
     "outputs_hidden": false
    }
   },
   "outputs": [],
   "source": []
  },
  {
   "cell_type": "markdown",
   "metadata": {},
   "source": [
    "Fred and George are not going to be popular with a lot of their house mates including their sister!!"
   ]
  }
 ],
 "metadata": {
  "kernelspec": {
   "display_name": "Python 3",
   "language": "python",
   "name": "python3"
  },
  "language_info": {
   "codemirror_mode": {
    "name": "ipython",
    "version": 3
   },
   "file_extension": ".py",
   "mimetype": "text/x-python",
   "name": "python",
   "nbconvert_exporter": "python",
   "pygments_lexer": "ipython3",
   "version": "3.8.3"
  }
 },
 "nbformat": 4,
 "nbformat_minor": 4
}
