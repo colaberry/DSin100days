{
 "cells": [
  {
   "cell_type": "markdown",
   "metadata": {},
   "source": [
    "# Unit 1 Summary\n",
    "\n",
    "## Python Concepts\n",
    "- Basic Python program structure\n",
    "- Variables\n",
    "- Simple Data types\n",
    "    - Numerical: int and float\n",
    "    - String\n",
    "    - Boolean\n",
    "- Collections of data\n",
    "    - Lists\n",
    "    - Sets\n",
    "    - Dictionaries\n",
    "- Operators: Arithmetic, Relational, Logical, Membership\n",
    "- If statements\n",
    "- For loops\n",
    "- String functions\n",
    "\n",
    "## Math / Data Concepts\n",
    "- Mean\n",
    "- Median\n",
    "- Mode\n",
    "- Range\n",
    "- Frequency"
   ]
  },
  {
   "cell_type": "code",
   "execution_count": null,
   "metadata": {
    "collapsed": false,
    "jupyter": {
     "outputs_hidden": false
    }
   },
   "outputs": [],
   "source": []
  }
 ],
 "metadata": {
  "kernelspec": {
   "display_name": "Python 3",
   "language": "python",
   "name": "python3"
  },
  "language_info": {
   "codemirror_mode": {
    "name": "ipython",
    "version": 3
   },
   "file_extension": ".py",
   "mimetype": "text/x-python",
   "name": "python",
   "nbconvert_exporter": "python",
   "pygments_lexer": "ipython3",
   "version": "3.8.3"
  }
 },
 "nbformat": 4,
 "nbformat_minor": 4
}
