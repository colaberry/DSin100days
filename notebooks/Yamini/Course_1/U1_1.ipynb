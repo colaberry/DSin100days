{
 "cells": [
  {
   "cell_type": "markdown",
   "metadata": {},
   "source": [
    "# Lesson 1.1"
   ]
  },
  {
   "cell_type": "markdown",
   "metadata": {},
   "source": [
    "## The bird's eye.."
   ]
  },
  {
   "cell_type": "markdown",
   "metadata": {},
   "source": [
    "## Objectives \n",
    "\n",
    "<b>Python:</b> Basic anatomy of a python program\n",
    "- <a href='#part'>Parts of a python program</a>\n",
    "- <a href='#com'>Comments</a>\n",
    "- <a href='#print'>Print statement</a>\n",
    "- <a href='#lib'>Python libraries</a>\n",
    "- <a href ='#fun'>Functions and Parameters</a>"
   ]
  },
  {
   "cell_type": "markdown",
   "metadata": {},
   "source": [
    "## <a id = 'part'>Parts of a python program</a>\n",
    "The following is a simple program that prints a welcome message and plots a simple line graph.<br>\n",
    "\n",
    "Type your name in the space provided and run the cell and see the output by clicking on the arrow at the top.<br>\n",
    "You can clear any of the outputs by choosing the clear outoput option.<br>"
   ]
  },
  {
   "cell_type": "code",
   "execution_count": null,
   "metadata": {
    "collapsed": false,
    "jupyter": {
     "outputs_hidden": false
    }
   },
   "outputs": [],
   "source": [
    "# import the library matplotlib \n",
    "import matplotlib.pyplot as plt\n",
    "\n",
    "# Custom function to print your name\n",
    "def saying_hello(name):\n",
    "    # printing name  \n",
    "    print(\"Hello \", name, \"- Welcome to the course\")\n",
    "    return\n",
    "    # End of function\n",
    "\n",
    "my_name=\"Satvika\"\n",
    "saying_hello(my_name)\n",
    "# x axis values \n",
    "x = [1,2,3,4,5] \n",
    "# corresponding y axis values \n",
    "y = [2,4,9,6,11] \n",
    "# plotting the points  \n",
    "plt.plot(x, y)"
   ]
  },
  {
   "cell_type": "markdown",
   "metadata": {},
   "source": [
    "Let us look at the different parts of the code. It is ok if you dont understand everything. Every part will be discussed in detail in the later lessons. "
   ]
  },
  {
   "cell_type": "markdown",
   "metadata": {},
   "source": [
    "## <a id='com'>Comments</a>\n",
    "Incorporating comments in the code is important to explain what a particular section of the program is doing in plain english. <br>\n",
    "In python we can write comments by starting the line with the <b>#</b> sign. Anything written on that line will not be executed.<br>"
   ]
  },
  {
   "cell_type": "markdown",
   "metadata": {},
   "source": [
    "## <a id='print'>Print statement </a>\n",
    "The simplest way to see the output of your efforts is to use the <b>print</b> statement.<br>\n",
    "Run the following to see \"Hello World\" as the output.<br>\n",
    "You can type anything you want printed within the double quotes.<br>"
   ]
  },
  {
   "cell_type": "code",
   "execution_count": 4,
   "metadata": {
    "collapsed": false,
    "jupyter": {
     "outputs_hidden": false
    }
   },
   "outputs": [
    {
     "name": "stdout",
     "output_type": "stream",
     "text": [
      "Hello World!\n"
     ]
    }
   ],
   "source": [
    "# The following line of code simply prints \"Hello World\"\n",
    "print(\"Hello World!\")"
   ]
  },
  {
   "cell_type": "markdown",
   "metadata": {},
   "source": [
    "<b>Your turn:</b> Type a comment and any print statement you like in the cell below and run it."
   ]
  },
  {
   "cell_type": "code",
   "execution_count": null,
   "metadata": {
    "collapsed": false,
    "jupyter": {
     "outputs_hidden": false
    }
   },
   "outputs": [],
   "source": []
  },
  {
   "cell_type": "markdown",
   "metadata": {},
   "source": [
    "## <a id='lib'> Python Libraries</a>\n",
    "Python Libraries are a set of useful functions that have been written by someone else and can simply be reused in your code. <br>\n",
    "Our first program included the matplotlib to help with the plotting of the graph.<br>\n",
    "Libraries are included in the code by using the <b>import</b> statement. <br>\n",
    "- import [module] as [another_name]<br>\n",
    "It is a good practice to have all import statements at the beginning of your code.<br>\n",
    "\n",
    "There are a lot of libraries, but the ones that we will be using most in this course are:<br>\n",
    "- <b>Pandas:</b> used extensively for data analysis.<br>\n",
    "- <b>Numpy:</b> used for numerical arrays.<br>\n",
    "- <b>Matplotlib:</b> used for plotting.<br>"
   ]
  },
  {
   "cell_type": "markdown",
   "metadata": {},
   "source": [
    "## <a id='fun'> Functions and Parameters</a>\n",
    "<b>Function</b> is a piece of code that it used many times. <br>\n",
    "A <b>built-in</b> function is provided by Python or one of the libraries. In our example, the print and plot functions are built-in.<br>\n",
    "A <b>custom</b> function is something we write when we have to repeat a certain task multiple times. In python code belonging to a function block are indented as shown. Python uses indentation to separate blocks of code. This differs from java or c++ which use {} to show blocks of code.<br>\n",
    "We pass <b>parameters</b> or the information needed by the function within the parenthesis. Both custom and built-in functions can take parameters. In our example, saying_hello() is a custom function which take only name as a parameter and simply prints it. <br>\n",
    "The keyword <b>def</b> tells python that a new custom function is defined.<br>\n",
    "Functions can also <b>return</b> a value to the code calling it. In the following cell, the sum function returns the value obtained by adding all the elements."
   ]
  },
  {
   "cell_type": "code",
   "execution_count": null,
   "metadata": {
    "collapsed": false,
    "jupyter": {
     "outputs_hidden": false
    }
   },
   "outputs": [],
   "source": [
    "# Set a list of values\n",
    "a = [1,2,3,4,5]\n",
    "# Find the sum of values using the built-in function sum\n",
    "c = sum(a)\n",
    "# Print the sum\n",
    "print(\"The sum is:\",c)"
   ]
  },
  {
   "cell_type": "markdown",
   "metadata": {},
   "source": [
    "This is just a birds-eye view of a python program. We will dive into the nitti-gritties from the next lesson."
   ]
  }
 ],
 "metadata": {
  "kernelspec": {
   "display_name": "Python 3",
   "language": "python",
   "name": "python3"
  },
  "language_info": {
   "codemirror_mode": {
    "name": "ipython",
    "version": 3
   },
   "file_extension": ".py",
   "mimetype": "text/x-python",
   "name": "python",
   "nbconvert_exporter": "python",
   "pygments_lexer": "ipython3",
   "version": "3.8.3"
  }
 },
 "nbformat": 4,
 "nbformat_minor": 4
}
