{
 "cells": [
  {
   "cell_type": "markdown",
   "metadata": {},
   "source": [
    "## Bokeh Basic Plot Types\n",
    "\n",
    "In this notebook we are going to learn about the different types of plots that can be made using bokeh. We will go over a subset of the types of plots and provide links to tutorials and documents for other types of plots. It's entirely possible to generate variations of existing plot types. Since bokeh is actively under development and new plot types are being continually added, we do not expect to be exhaustive in the types of plots but merely instructive. \n",
    "\n",
    "The types of plots that we are going to go over are - \n",
    "\n",
    "1) Bar graph - vertical <br>\n",
    "2) Bar graph - horizontal <br>\n",
    "3) Adding legends and axis range <br>\n",
    "4) Histograms <br>\n",
    "5) Patches and varea <br>\n",
    "\n",
    "Let us first start with the bar plot\n",
    "\n",
    "## Bar plot \n",
    "\n",
    "1) Bar plot \n",
    "\n",
    "The bar plot is one of the most commonly used plot types to represent categorical data. For this purpose let us use the iris dataset. The problem we want to solve is the following: Given a dataset, how can I visualize the number of examples for each label we have in the dataset? For example there are three labels in the iris dataset\n",
    "\n",
    "```python\n",
    "array(['setosa', 'versicolor', 'virginica'], dtype='<U10')\n",
    "\n",
    "```\n",
    "The dataset itself contains four measurements of 500 samples of iris plants, based on the values of these 4 measurement, we end up assigning a label to each sample/plant in our collection. So, the best way to represent how many of each type of iris plant we have, we will use a bar plot. \n",
    "\n",
    "The iris dataset is easily available to python users through sklearn package, simply run the following import statements and commands- \n",
    "\n",
    "\n",
    "```python\n",
    "from sklearn.datasets import load_iris\n",
    "data = load_iris()\n",
    "label_names = data.target_names \n",
    "label_values = data.target\n",
    "```\n",
    "The best way to move forward would be to create a dataset frame in pandas. Do not worry about the details of how it is done. You can use the following solution code to generate the data frame.\n",
    "\n",
    "**Exercise:**\n",
    "\n",
    "Generate a dataframe from the data for iris target and then use value counts to count number of entries for each label. "
   ]
  },
  {
   "cell_type": "code",
   "execution_count": null,
   "metadata": {},
   "outputs": [],
   "source": [
    "from sklearn.datasets import load_iris\n",
    "data = load_iris()\n",
    "# Write your code below:\n"
   ]
  },
  {
   "cell_type": "markdown",
   "metadata": {},
   "source": [
    "**Solution:**\n",
    "```python \n",
    "import pandas as pd\n",
    "iris_target_df = pd.DataFrame(data=data.target, columns=[\"class_value\"])\n",
    "count_list = iris_target_df[\"class_value\"].value_counts().tolist()\n",
    "count_list \n",
    "```\n",
    "\n",
    "your output should look like this- \n",
    "\n",
    "```python \n",
    "[50, 50, 50]\n",
    "```\n",
    "There are 50 entries for each type of plant, so let us visualize this with a vertical bar plot in bokeh. The way to do that would be- \n",
    "\n",
    "```python \n",
    "from bokeh.plotting import figure \n",
    "from bokeh.io import output_notebook, show\n",
    "output_notebook()\n",
    "p = figure( x_range= data.target_names, plot_height=250, title=\"Iris plant type counts\",\n",
    "           toolbar_location=\"right\", tools=\"hover, pan\")\n",
    "\n",
    "p.vbar(x=data.target_names, top=count_list, bottom=0,   width=0.3)\n",
    "show(p)\n",
    "\n",
    "```\n",
    "\n",
    "This should generate a plot that looks like - \n",
    "\n",
    "![iris_vbar](images/iris_bar_plot_vbar.jpg)\n",
    "\n",
    "\n",
    "We are going to go over this code carefully. Up till the third line where it says 'output_notebook()' it's all about importing packages, similar to what we had done earlier. So, generate the figure object 'p'. The only differences from the previous notebook are - \n",
    "\n",
    "1) We choose to only keep 2 tools, hover and pan and get rid of the other tools <br>\n",
    "2) We have this new option  'toolbar_location' this just decides where you can place the tool bar. <br>  \n",
    "3) The argument 'x_range' let us set the names of the ticks on the x axis, since we have 3 ticks, we have 3 names <br>\n",
    "\n",
    "\n",
    "The main difference between plotting a scatter plot or a line plot or a bar plot comes in the next line where we generate a figure of type 'vbar' which stands for vertical bar. Here you need to specify the x axis label for each category is 'x' and the counts for each of the categories which is given by 'top=count_list'. The argument bottom tells us what is the starting values for the bar. Currently it's set to 0. Suppose we wanted to plot the bar from 10 to 50 units, we can do that by specifying the argument 'bottom' as 10 and 'top' as 50. If we want to specify different values for each bar, then we need to specify an array of values. Remember count list here is- [50, 50, 50] We can also specify the width of each bin.\n",
    " \n",
    "\n",
    "***Exercise:***\n",
    "\n",
    "Plot a bar graph above with the same categorical labels but where the counts for each category are-[50,20,10]. Also change the bar width to 0.9, alpha to 0.7, and bar color to red.  \n"
   ]
  },
  {
   "cell_type": "code",
   "execution_count": null,
   "metadata": {},
   "outputs": [],
   "source": [
    "# Write your code below:\n"
   ]
  },
  {
   "cell_type": "markdown",
   "metadata": {},
   "source": [
    "***Solution:***\n",
    "\n",
    "```python\n",
    "from bokeh.plotting import figure \n",
    "from bokeh.io import output_notebook, show\n",
    "output_notebook()\n",
    "p = figure( x_range= data.target_names, plot_height=250, title=\"Iris plant type counts\",\n",
    "           toolbar_location=\"right\", tools=\"hover, pan\")\n",
    "\n",
    "p.vbar(x=data.target_names, top=[50,20,10],  width=0.9, alpha=0.7, color=\"red\")\n",
    "show(p)\n",
    "```\n",
    "The result of this code is going to look like- \n",
    "\n",
    "![iris_2](images/iris_2.jpg)\n",
    "\n",
    "\n",
    "### horizontal bar \n",
    "Suppose you want to take the data from the previous exercise and plot it as a **horizontal bar** rather than vertical bar. You would then do- \n",
    "\n",
    "```python\n",
    "p = figure( y_range= data.target_names, plot_height=250, title=\"Iris plant type counts\",\n",
    "           toolbar_location=\"right\", tools=\"hover, pan\")\n",
    "p.hbar(y=data.target_names, height=[0.5,0.5,0.5], right=[50,30,20], left=0 )\n",
    "show(p)\n",
    "\n",
    "```\n",
    "the plot would look like-\n",
    "\n",
    "![hiris](images/hiris.jpg)\n",
    "\n",
    "there are a few differences in the code compared to the code of the vertical bar plot. First being, rather than 'x_range' we have 'y_range' this is because if we are plotting horizontal plots our labels will be on the y-axis. In other words, the axis where we are going to place our categories is the y-axis. The rest of 'figure' definition does not change. The method to add a horizontal bar is 'hbar', similar to 'vbar'. It takes an axis argument 'y', which should contain the names of the categories that we want to plot. We also have the argument 'height', which controls the thickness of the horizontal bars. This is the same as the argument 'width' for vertical bars. I have plotted this as a list to show that you can control the height of each bar. Similarly, you can also do 'width = [1, 0.2, 0.6]', which represents different vertical bars' thicknesses. Like vertical bar, we can specify the location of the horizontal bar, in this case,  as 'left' and 'right'. So, if we want to specify a horizontal bar from location 10 to 30 we would write- 'right=30' and 'left=10'. \n",
    "\n",
    "This way, of which we can specify the bars in bokeh allows for a great degree of control. Furthermore, we are carrying over many of the figure properties that we learned from the bokeh_basics notebook. \n",
    "\n",
    "Next up are Pie chart- \n",
    "\n",
    "### Adding legends to plots\n",
    "\n",
    "Regardless of the type of chart, we want to be able to add legends to a chart that shows the different fields of data which we are looking at. We held of doing this from earlier since it's easier to illustrate with bar charts. Suppose you have a vertical bar chart of the iris dataset, from the above example you would realize that all three of the categories have the same color. So how can we represent them differently? We can do the following:\n",
    "\n",
    "```python\n",
    "p = figure( x_range= data.target_names, plot_height=250, title=\"Iris plant type counts\",\n",
    "           toolbar_location=\"right\", tools=\"hover, pan\")\n",
    "\n",
    "p.vbar(x=data.target_names, top=count_list, bottom=0, width=0.3, color=[\"red\", \"green\", \"blue\"])\n",
    "show(p)\n",
    "```\n",
    "You will notice a plot with three bars with colors red, green and blue. Now we want to add a legend to this so that we can easily see which category each color belongs to. Of course you can read it off the x-axis but if you add the legend, you won't need to add the x axis labels. So you would add the legend by adding- \n",
    "\n",
    "```python \n",
    "p = figure( x_range= data.target_names, plot_height=250, title=\"Iris plant type counts\",\n",
    "           toolbar_location=\"right\", tools=\"hover, pan\")\n",
    "color=[\"red\", \"green\", \"blue\"]\n",
    "for name, count, clr in zip(list(data.target_names), count_list, color) :\n",
    "    p.vbar(x=[name], top=count, bottom=0, width=0.3, color=clr, legend_label=name )\n",
    "\n",
    "p.legend.orientation=\"vertical\"\n",
    "show(p)\n",
    "```\n",
    "\n",
    "You will notice that in order to have the legend we had to plot each of the bars individually, we use the for loop for plotting the data. the 'zip' method creates tuples from combining the three lists and we loop over each individual elements from the list. Finally we can set the orientation of the legend using the 'p.legend' method.\n",
    "\n",
    "### Axis ranges \n",
    "What you will notice when you plot the above code is that the legend will overlap with the bar plots, in this situation we need to plot the legend differently. Hence we can do. \n",
    "\n",
    "```python \n",
    "p = figure( x_range= data.target_names, y_range=[0,70], plot_height=250, title=\"Iris plant type counts\",\n",
    "           toolbar_location=\"right\", tools=\"hover, pan\")\n",
    "color=[\"red\", \"green\", \"blue\"]\n",
    "for name, count, clr in zip(list(data.target_names), count_list, color) :\n",
    "    p.vbar(x=[name], top=count, bottom=0, width=0.3, color=clr, legend_label=name )\n",
    "    \n",
    "p.legend.orientation=\"horizontal\"\n",
    "show(p)\n",
    "```\n",
    "you should see - \n",
    "\n",
    "![iris_legend](images/iris_legend.jpg)\n",
    "\n",
    "you will find that the range of the y axis has increased from 50 to 70, this is done by using the 'y_range' property in figure. You can set the scale of the x and y range this way. In fact we have set the x_range to the three entries which are the category names from our dataset. \n",
    "\n",
    "Now suppose you want to change the x axis numerically, similar to what we did, you would change the 'x_range' quantity. \n",
    "\n",
    "**Exercise:** \n",
    "\n",
    "Plot the horizontal bar chart with a legend for the iris dataset. Adjust the range of the x axis to be in between 0 and 100. "
   ]
  },
  {
   "cell_type": "code",
   "execution_count": null,
   "metadata": {},
   "outputs": [],
   "source": [
    "# Write your code below:\n"
   ]
  },
  {
   "cell_type": "markdown",
   "metadata": {},
   "source": [
    "**Solution**:\n",
    "\n",
    "  Here is what the code should read- \n",
    "  \n",
    "```python \n",
    "p = figure( y_range= data.target_names, x_range=[0,100], plot_height=250, title=\"Iris plant type counts\",\n",
    "           toolbar_location=\"right\", tools=\"hover, pan\")\n",
    "color=[\"red\", \"green\", \"blue\"]\n",
    "for name, count, clr in zip(list(data.target_names), count_list, color) :\n",
    "    p.hbar(y=[name], height=0.5, right=count, left=0, color=clr, legend_label=name )\n",
    "\n",
    "p.legend.orientation=\"vertical\"\n",
    "show(p)\n",
    "```\n",
    "### show/hide parts of plot\n",
    "There is a neat little thing you can do with the legend. Add the line- \n",
    "\n",
    "```python\n",
    "p.legend.click_policy = \"hide\"\n",
    "```\n",
    "before 'show(p)' and then click on any one of the legend entries. You will see the bar for that legend entry will disappear. This is a useful tool when you have lots of data and you want to compare only certain curves or bars etc. \n",
    "\n",
    "Suppose you do not want a curve or bar to completely disappear, you just want to gray it out. Then you can \n",
    "do the following in the code- \n",
    "\n",
    "```python \n",
    "p = figure( y_range= data.target_names, x_range=[0,100], plot_height=250, title=\"Iris plant type counts\",\n",
    "           toolbar_location=\"right\", tools=\"hover, pan\")\n",
    "color=[\"red\", \"green\", \"blue\"]\n",
    "for name, count, clr in zip(list(data.target_names), count_list, color) :\n",
    "    p.hbar(y=[name], height=0.5, right=count, left=0, color=clr, legend_label=name, muted_color=clr, muted_alpha=0.3 )\n",
    "\n",
    "p.legend.orientation = \"vertical\"\n",
    "p.legend.click_policy = \"mute\n",
    "show(p)\n",
    "``` \n",
    "Here you can see in the 'p.hbar' two properties have been added, 'muted_color' and 'muted_alpha'. Both of these allow you to control the color and the amount of translucency of the curve being displayed. In this case bar becomes translucent. Here is an example.\n",
    "\n",
    "![legend_translucent](images/translucent_legend.jpg)\n",
    "\n",
    "Next section we have histograms. Histograms are some of the most important plot types we will learn. Histograms are frequently used in data science and other fields and come in handy when we are trying to identify the type of distribution we are working with. \n",
    "\n",
    "## Histogram \n",
    "\n",
    "Histograms are essentially bar plots but each bar counts the number of entries in a certain range of values. For this we will take the most common example of a distribution, which is the normal distribution. We can generate the values of a normal distribution using the following code-\n",
    "\n",
    "```python\n",
    "import numpy as np \n",
    "mu, sigma = 0, 0.5\n",
    "normal = np.random.normal(mu, sigma, 1000)\n",
    "hist, edges = np.histogram(normal, density=False, bins=50)\n",
    "```\n",
    "\n",
    "Run this in the code cell below. "
   ]
  },
  {
   "cell_type": "code",
   "execution_count": null,
   "metadata": {},
   "outputs": [],
   "source": [
    "import numpy as np \n",
    "## run the numpy code from above\n"
   ]
  },
  {
   "cell_type": "markdown",
   "metadata": {},
   "source": [
    "You will have two numpy arrays, 'edges' will be the range of values and 'hist' will be the count of the number of entries within the range of values. For example, first value of 'hist' will be the number of entries in the array 'normal' that fall in between 'edges[0]' and 'edges[1]'. \n",
    "\n",
    "**Exercise**: Show that the above statement is true using 'np.where'. \n"
   ]
  },
  {
   "cell_type": "code",
   "execution_count": null,
   "metadata": {},
   "outputs": [],
   "source": [
    "# solution\n",
    "\n",
    "import numpy as np \n",
    "mu, sigma = 0, 0.5\n",
    "normal = np.random.normal(mu, sigma, 1000)\n",
    "hist, edges = np.histogram(normal, density=False, bins=50)\n",
    "\n",
    "np.where(np.logical_and(normal>=edges[0],normal<=edges[1]))[0].size, hist[0]\n"
   ]
  },
  {
   "cell_type": "markdown",
   "metadata": {},
   "source": [
    "With this information we can now plot the histogram. To plot the histogram in bokeh, run the following code in the cell below - \n",
    "\n",
    "```python \n",
    "p= figure(y_range=[0,100], tools=[\"hover\", \"pan\",\"reset\",\"box_zoom\",\"wheel_zoom\"])\n",
    "p.quad(top=hist, bottom=0, right=edges[:-1], left=edges[1:])\n",
    "show(p)\n",
    "```\n",
    "Notice that in plotting a histogram you have to specify top, bottom, right and left of the bars. The top and bottom are straight forward since they are just the heights of the bar which are given by counts for a given bin. The left and right are the tricky ones. The right entries are the right edges of the the bar and the left entries are the left edges of the bar. These we get from the histogram function. Note there is no specifying the bar width here, since the edges represent the range of values hence those ranges must contain all the values in the array- 'normal'. What we are doing in taking a continuous variable and representing it as a categorical variable and each category is a range of values. Hence we have to be careful and ensure that we do not omit any values due that is why we cannot specify bar width. "
   ]
  },
  {
   "cell_type": "code",
   "execution_count": null,
   "metadata": {},
   "outputs": [],
   "source": [
    "from bokeh.plotting import figure \n",
    "from bokeh.io import output_notebook, show\n",
    "output_notebook()\n",
    "\n",
    "# run the code above here \n",
    "p= figure(y_range=[0,100], tools=[\"hover\", \"pan\",\"reset\",\"box_zoom\",\"wheel_zoom\"])\n"
   ]
  },
  {
   "cell_type": "markdown",
   "metadata": {},
   "source": [
    "Running the code above will yield something like this- \n",
    "\n",
    "![hist](images/hist_example.jpg)\n",
    "\n",
    "Note: This plot will look different for you since we have not fixed the random number generator. This means that each time you run the notebook you will be generating different set of random numbers and hence the plot will also change. So do not be surprised if you see a plot that looks somewhat different. Important thing to keep in mind is that the plot should be somewhat symmetric about 0 since the mean value of the distribution is 0 and the standard deviation should be roughly 0.5. \n",
    "\n",
    "If you have done the plotly notebook, then you would have seen the led dataset for which we plotted the histogram, we are going to do the same here. You can view the dataframe for the LED dataset by running the cell below- "
   ]
  },
  {
   "cell_type": "code",
   "execution_count": null,
   "metadata": {
    "scrolled": true
   },
   "outputs": [],
   "source": [
    "import pandas as pd\n",
    "led_data = pd.read_csv(\"data/LED_bulb.csv\")\n",
    "led_data.head()"
   ]
  },
  {
   "cell_type": "markdown",
   "metadata": {},
   "source": [
    "**Exercise**: \n",
    "\n",
    "Plot energy consumption as a histogram in bokeh. Hint: You are going to have to use the numpy function histogram first. \n"
   ]
  },
  {
   "cell_type": "code",
   "execution_count": null,
   "metadata": {},
   "outputs": [],
   "source": [
    "# Write your code below:\n"
   ]
  },
  {
   "cell_type": "markdown",
   "metadata": {},
   "source": [
    "**Solution:**\n",
    "\n",
    "```python\n",
    "# solution \n",
    "import numpy as np\n",
    "hist, edges = np.histogram(led_data[\"energy_consumption\"], bins=25, density=False)\n",
    "p = figure(y_range=[0,100], tools=[\"hover\", \"pan\",\"reset\", \"box_zoom\", \"wheel_zoom\"])\n",
    "p.quad(top=hist, bottom=0, right=edges[:-1], left=edges[1:])\n",
    "show(p)\n",
    "```\n",
    "\n",
    "We have changed the number of bins to 25 to make it look somewhat similar to the plotly histogram. You will see that there are similarities between both plots.\n",
    "\n",
    "The next topic we will tackle is patches-\n",
    "\n",
    "## Patches \n",
    "\n",
    "Patches are useful plot types especially when you are trying to highlight parts of a plot. For example if you want to have a straight line and highlight the region under the line, we can do so using the following code- \n",
    "\n",
    "```python \n",
    "m = 0.5\n",
    "y_o = 4\n",
    "x = np.linspace(0,100,1000)\n",
    "y_value = (m*x)+y_o\n",
    "\n",
    "#patch coordinates \n",
    "shade_y = y_value.copy()\n",
    "shade_y[0] = 0\n",
    "shade_y[-1]= 0\n",
    "\n",
    "p= figure( tools=[\"hover\", \"pan\", \"reset\", \"box_zoom\", \"wheel_zoom\"])\n",
    "p.line(x, y_value, color=\"red\", line_width=6)\n",
    "p.patch(x, shade_y, color=\"green\", alpha=0.3)\n",
    "show(p)\n",
    "```\n",
    "\n",
    "run this code in the below cell to see the result. \n"
   ]
  },
  {
   "cell_type": "code",
   "execution_count": null,
   "metadata": {},
   "outputs": [],
   "source": [
    "from bokeh.plotting import figure \n",
    "from bokeh.io import output_notebook, show\n",
    "output_notebook()\n",
    "\n",
    "# copy code for generating patches for area under the curve \n"
   ]
  },
  {
   "cell_type": "markdown",
   "metadata": {},
   "source": [
    "The first few lines of the code are there to generate the straight line. We get the x coordinates of the line by running linspace and generating a 1000 points in a range of 0 to 100. Then using a slope of 0.5 and intercept of 4 we get the y values. \n",
    "\n",
    "Next we need to plot the patch. The patch is displayed using the method 'p.patch()' where we have to specify the patch coordinates. Specifying the patch coordinates can be a bit tricky. In our case the first point of the patch must be (0,0) hence we have copied the 'y_value' into a new variable 'shade_y' where we set the first y value to be 0. Then next coordinate would be x value and corresponding y value. To make sure that the patch ends at the end of the line segment we set the y value of 'shade_y' to be 0 at end of the line segment. \n",
    "\n",
    "What we are essentially doing is specifying the coordinates of the top line of the patch, the bottom is automatically joined.\n",
    "\n",
    "Another alternate way of doing this is to use the 'varea()' method. This is only available from bokeh version 1.2.0 +. Copy the code to plot a line with area under the curve. \n",
    "\n",
    "```python \n",
    "m = 0.5\n",
    "y_o = 4\n",
    "x = np.linspace(0,100,1000)\n",
    "y_value = (m*x)+y_o\n",
    "y_zeros = np.linspace(0,0,1000)\n",
    "\n",
    "\n",
    "p= figure( tools=[\"hover\", \"pan\", \"reset\", \"box_zoom\", \"wheel_zoom\"])\n",
    "p.line(x, y_value, color=\"red\", line_width=6)\n",
    "p.varea(x, y_zeros, y_value, color=\"green\", alpha=0.3)\n",
    "show(p)\n",
    "\n",
    "```\n"
   ]
  },
  {
   "cell_type": "code",
   "execution_count": null,
   "metadata": {},
   "outputs": [],
   "source": [
    "from bokeh.plotting import figure \n",
    "from bokeh.io import output_notebook, show\n",
    "output_notebook()\n",
    "\n",
    "# copy code to see how output for p.varea looks \n"
   ]
  },
  {
   "cell_type": "markdown",
   "metadata": {},
   "source": [
    "With this we close out the second notebook in bokeh. There are other types of plots that we have not covered here (for example- pie chats, donut charts, heatmaps) but are easy to learn once you know these basic plots and understand how data input works in bokeh. Try to repeat all the examples from the plotly notebooks using bokeh plots to better understand the differences between the libraries. Bokeh does not support 3d plots hence you will not be seeing any 3d plots next notebook, what we will get into however is linked plots and widgets. So let's go there next! "
   ]
  }
 ],
 "metadata": {
  "kernelspec": {
   "display_name": "Python 3",
   "language": "python",
   "name": "python3"
  },
  "language_info": {
   "codemirror_mode": {
    "name": "ipython",
    "version": 3
   },
   "file_extension": ".py",
   "mimetype": "text/x-python",
   "name": "python",
   "nbconvert_exporter": "python",
   "pygments_lexer": "ipython3",
   "version": "3.7.5"
  },
  "latex_envs": {
   "LaTeX_envs_menu_present": true,
   "autoclose": true,
   "autocomplete": true,
   "bibliofile": "biblio.bib",
   "cite_by": "apalike",
   "current_citInitial": 1,
   "eqLabelWithNumbers": true,
   "eqNumInitial": 1,
   "hotkeys": {
    "equation": "Ctrl-E",
    "itemize": "Ctrl-I"
   },
   "labels_anchors": false,
   "latex_user_defs": false,
   "report_style_numbering": true,
   "user_envs_cfg": false
  },
  "toc": {
   "base_numbering": 1,
   "nav_menu": {},
   "number_sections": true,
   "sideBar": true,
   "skip_h1_title": false,
   "title_cell": "Table of Contents",
   "title_sidebar": "Contents",
   "toc_cell": false,
   "toc_position": {},
   "toc_section_display": true,
   "toc_window_display": false
  },
  "varInspector": {
   "cols": {
    "lenName": 16,
    "lenType": 16,
    "lenVar": 40
   },
   "kernels_config": {
    "python": {
     "delete_cmd_postfix": "",
     "delete_cmd_prefix": "del ",
     "library": "var_list.py",
     "varRefreshCmd": "print(var_dic_list())"
    },
    "r": {
     "delete_cmd_postfix": ") ",
     "delete_cmd_prefix": "rm(",
     "library": "var_list.r",
     "varRefreshCmd": "cat(var_dic_list()) "
    }
   },
   "types_to_exclude": [
    "module",
    "function",
    "builtin_function_or_method",
    "instance",
    "_Feature"
   ],
   "window_display": false
  }
 },
 "nbformat": 4,
 "nbformat_minor": 2
}
