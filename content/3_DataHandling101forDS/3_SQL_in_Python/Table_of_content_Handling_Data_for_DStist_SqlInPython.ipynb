{
 "cells": [
  {
   "cell_type": "markdown",
   "metadata": {},
   "source": [
    "##                                  Table of Content"
   ]
  },
  {
   "cell_type": "markdown",
   "metadata": {},
   "source": [
    "1. Introduction to sqlite3 \n",
    "2. Creating a .db file through sqlite3 terminal commands.\n",
    "3. Connecting to database file vs in-memory database.\n",
    "4. Advantages and disadvantages of db file vs in-memory database and best application scenarios.\n",
    "5. Operations such as connection, cursor, execute methods and  running various queries through sqlite.\n",
    "6. Limits of sqlite library.\n",
    "7. Other libraries of interest.\n",
    "    "
   ]
  },
  {
   "cell_type": "code",
   "execution_count": null,
   "metadata": {},
   "outputs": [],
   "source": []
  }
 ],
 "metadata": {
  "kernelspec": {
   "display_name": "Python 3",
   "language": "python",
   "name": "python3"
  },
  "language_info": {
   "codemirror_mode": {
    "name": "ipython",
    "version": 3
   },
   "file_extension": ".py",
   "mimetype": "text/x-python",
   "name": "python",
   "nbconvert_exporter": "python",
   "pygments_lexer": "ipython3",
   "version": "3.6.5"
  }
 },
 "nbformat": 4,
 "nbformat_minor": 2
}
