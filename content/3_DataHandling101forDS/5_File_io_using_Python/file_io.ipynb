{
 "cells": [
  {
   "cell_type": "markdown",
   "metadata": {},
   "source": [
    "# File I/O using Python\n",
    "\n",
    "In any programming language, reading and writing into files is an important feature. All variables and information used in the program are stored in a volatile memory, which is lost when the computer is shut down or the program ends. Files help store all variables and information once the program ends. In this class, we shall cover:\n",
    "\n",
    "* Open File\n",
    "    * File Modes\n",
    "    * When File doesn’t exist\n",
    "* Read File\n",
    "    * The read() method\n",
    "    * Seek() and tell()\n",
    "    * Using Python For-loop\n",
    "    * Readline() & Readlines()\n",
    "* Write to File\n",
    "* Close File\n",
    "    * Try..finally in Python\n",
    "    * With\n",
    "* **sys** module\n",
    "\n",
    "<img src=\"../images/data_handling-file_io.png\" width=\"600\">\n",
    "\n",
    "## 1. Open File\n",
    "\n",
    "First things first, to open a file in python, we use **open()** method. While opening a file, based on the action we are going to perform we can choose a **mode**. \n",
    "\n",
    "### 1.1 File Modes\n",
    "\n",
    "There are sevral modes for opening a file in Python, a few are listed below:\n",
    "\n",
    "| Mode | Description |\n",
    "| - | - |\n",
    "| r | To read a file (default) |\n",
    "| w | To write a file; Creates a new file if it doesn’t exist, truncates if it does |\n",
    "| a\t| To append at the end of the file; Creates a new file if doesn’t exist |\n",
    "| t\t| Text mode |\n",
    "| b\t| Binary mode |\n",
    "| + | To open a file for updating (read & write)|\n",
    "\n",
    "Let's open a sample file using *open()* function\n",
    "\n",
    "``` python\n",
    "my_file = open(\"../data/german.txt\", \"r\")\n",
    "```\n",
    "\n",
    "### 1.2 When File doesn’t exist\n",
    "\n",
    "If you try opening Python file that doesn’t exist, the interpreter will throw a **FileNotFoundError** as shown below\n",
    "\n",
    "``` python\n",
    "my_file = open(\"../data/myfile.txt\", \"r\")\n",
    "\n",
    ">>>\n",
    "---------------------------------------------------------------------------\n",
    "FileNotFoundError                         Traceback (most recent call last)\n",
    "<ipython-input-6-ab380a4e9b67> in <module>()\n",
    "----> 1 file_op = open(\"../data/myfile.txt\", \"r\")\n",
    "\n",
    "FileNotFoundError: [Errno 2] No such file or directory: '../data/myfile.txt'\n",
    "```"
   ]
  },
  {
   "cell_type": "code",
   "execution_count": 1,
   "metadata": {},
   "outputs": [],
   "source": [
    "my_file = open(\"../data/sample_text.txt\", \"r\")"
   ]
  },
  {
   "cell_type": "markdown",
   "metadata": {},
   "source": [
    "## 2. Read File\n",
    "\n",
    "There are several ways to read a file in Python, let's see them one by one.\n",
    "\n",
    "### 2.1 The read() method\n",
    "\n",
    "The **read()** method is Python's basic way of reading an input file. It reads all the data character by character; You can provide an integer argument to read(), it reads that many characters from the beginning of the Python file. The read() function returns newline as '\\n'. Once the end of file is reached, we get empty string on further reading.\n",
    "\n",
    "```python\n",
    "file_rd = open(\"../data/sample_text.txt\", \"r\")\n",
    "file_rd.read(15)\n",
    "```\n",
    "\n",
    "### 2.2 Seek() and tell()\n",
    "\n",
    "We can change our current file cursor (position) using the **seek()** method. Seek() takes an integer argument, and positions the cursor after that many characters in the Python file. Along with that, it returns this new position of the cursor. Now using the read() method, reads from where the cursor is present.\n",
    "\n",
    "```python\n",
    "file_rd.seek(10)\n",
    "\n",
    ">>>\n",
    "10\n",
    "```\n",
    "\n",
    "Similarly, the **tell()** method returns our current position (in number of bytes). \n",
    "\n",
    "```python\n",
    "file_rd.tell()\n",
    "\n",
    ">>>\n",
    "10\n",
    "```\n",
    "\n",
    "### 2.3 Using Python For-loop\n",
    "\n",
    "We can read a file line-by-line using a **for loop**. This is both efficient and fast.\n",
    "\n",
    "```python\n",
    "for line in file_rd:\n",
    "    print(line, end = '')\n",
    "    \n",
    ">>>\n",
    "I would love to try or hear the sample audio your app can produce.\n",
    "I do not want to purchase, because I've purchased so many apps that say they do something and do not deliver. \n",
    "Can you please add audio samples with text you've converted? I'd love to see the end results.\n",
    "Thanks!\n",
    "```\n",
    "**Note** that the lines in file itself have a newline character '\\n', which produces two newlines when printing. Hence we need to use the **'end'** parameter to avoid this. Alternately we can use readline() method to read individual lines of a file\n",
    "\n",
    "### 2.4 Readline() & Readlines()\n",
    "\n",
    "* **readline()** <br>\n",
    "The **readline()** method lets us read one line at a time. Simply put, the interpreter stops after every ‘\\n’.\n",
    "\n",
    "```python\n",
    "file_rd.seek(0)\n",
    "file_rd.readline()\n",
    "\n",
    ">>>\n",
    "'I would love to try or hear the sample audio your app can produce.\\n'\n",
    "```\n",
    "\n",
    "* **readlines()** <br>\n",
    "Lastly, the **readlines()** method reads the rest of the lines/file.\n",
    "\n",
    "```python\n",
    "file_rd.readlines()\n",
    "\n",
    ">>>\n",
    "[\"I do not want to purchase, because I've purchased so many apps that say they do something and do not deliver. \\n\",\n",
    " \"Can you please add audio samples with text you've converted? I'd love to see the end results.\\n\",\n",
    " 'Thanks!']\n",
    "```"
   ]
  },
  {
   "cell_type": "code",
   "execution_count": 2,
   "metadata": {},
   "outputs": [
    {
     "data": {
      "text/plain": [
       "10"
      ]
     },
     "execution_count": 2,
     "metadata": {},
     "output_type": "execute_result"
    }
   ],
   "source": [
    "file_rd = open(\"../data/sample_text.txt\", \"r\")\n",
    "file_rd.read(10)\n",
    "file_rd.tell()"
   ]
  },
  {
   "cell_type": "code",
   "execution_count": 3,
   "metadata": {},
   "outputs": [
    {
     "name": "stdout",
     "output_type": "stream",
     "text": [
      "I would love to try or hear the sample audio your app can produce.\n",
      "I do not want to purchase, because I've purchased so many apps that say they do something and do not deliver. \n",
      "Can you please add audio samples with text you've converted? I'd love to see the end results.\n",
      "Thanks!\n",
      "Learn to cook\n",
      "Learn to cook"
     ]
    }
   ],
   "source": [
    "file_rd.seek(0)\n",
    "for line in file_rd:\n",
    "    print(line, end = '')"
   ]
  },
  {
   "cell_type": "code",
   "execution_count": 4,
   "metadata": {},
   "outputs": [
    {
     "data": {
      "text/plain": [
       "'I would love to try or hear the sample audio your app can produce.\\n'"
      ]
     },
     "execution_count": 4,
     "metadata": {},
     "output_type": "execute_result"
    }
   ],
   "source": [
    "file_rd.seek(0)\n",
    "file_rd.readline()"
   ]
  },
  {
   "cell_type": "code",
   "execution_count": 5,
   "metadata": {},
   "outputs": [
    {
     "data": {
      "text/plain": [
       "[\"I do not want to purchase, because I've purchased so many apps that say they do something and do not deliver. \\n\",\n",
       " \"Can you please add audio samples with text you've converted? I'd love to see the end results.\\n\",\n",
       " 'Thanks!\\n',\n",
       " 'Learn to cook\\n',\n",
       " 'Learn to cook']"
      ]
     },
     "execution_count": 5,
     "metadata": {},
     "output_type": "execute_result"
    }
   ],
   "source": [
    "file_rd.readlines()"
   ]
  },
  {
   "cell_type": "markdown",
   "metadata": {},
   "source": [
    "## 3. Write to File\n",
    "\n",
    "Files wouldn’t be any good if you couldn’t write data to them. In order to write into a file in Python, we need to open it in write ('w') or append ('a') modes. Also, 'w' mode will overwrite into the file if it already exists. All previous data is erased.\n",
    "\n",
    "* **'write' mode**\n",
    "\n",
    "```python\n",
    "file_wr = open(\"../data/sample_text.txt\", \"w\")\n",
    "file_wr.write('\\nLearn to cook')\n",
    "```\n",
    "This will earse all contents and add *'Learn to cook'* to the empty file.\n",
    "\n",
    "* **'append' mode**\n",
    "\n",
    "```python\n",
    "file_wr = open(\"../data/sample_text.txt\", \"a\")\n",
    "file_wr.write('\\nLearn to cook')\n",
    "```\n",
    "This will add *'Learn to cook'* to the existing contents.\n"
   ]
  },
  {
   "cell_type": "code",
   "execution_count": 6,
   "metadata": {},
   "outputs": [
    {
     "data": {
      "text/plain": [
       "14"
      ]
     },
     "execution_count": 6,
     "metadata": {},
     "output_type": "execute_result"
    }
   ],
   "source": [
    "file_wr = open(\"../data/sample_text.txt\", \"a\")\n",
    "file_wr.write('\\nLearn to cook')"
   ]
  },
  {
   "cell_type": "markdown",
   "metadata": {},
   "source": [
    "## 4. Close File\n",
    "\n",
    "When we are done with operations to the file, we need to properly close the file. This is done using Python **close()** method. \n",
    "\n",
    "```python\n",
    "file_wr.close()\n",
    "```\n",
    "\n",
    "### 4.1 Try..finally in Python\n",
    "\n",
    "The above method is not entirely safe. If an exception occurs when we are performing some operation with the file, the code exits without closing the file. To take care of these situations, we put the close() method in the **finally-block**.\n",
    "\n",
    "```python\n",
    "try:\n",
    "    f=open(\"../data/sample_text.txt\")\n",
    "finally:\n",
    "    f.close()\n",
    "```\n",
    "\n",
    "### 4.2 With \n",
    "\n",
    "If you think having to put close() every time you’re done with a Python file is bunk, use the **‘with’** statement. Here, we don't need to explicitly call the close() method. It is done internally.\n",
    "\n",
    "```python\n",
    "with open(\"../data/sample_text.txt\") as f:\n",
    "   # perform file operations\n",
    "```"
   ]
  },
  {
   "cell_type": "code",
   "execution_count": 7,
   "metadata": {},
   "outputs": [],
   "source": [
    "try:\n",
    "    f=open(\"../data/sample_text.txt\")\n",
    "finally:\n",
    "    f.close()"
   ]
  },
  {
   "cell_type": "markdown",
   "metadata": {},
   "source": [
    "## 5. sys module\n",
    "\n",
    "The functions in python **sys** module allow us to operate on underlying interpreter, irrespective of it being a Windows Platform, Macintosh or Linux. When starting a Python shell, Python provides 3 file objects called standard input, standard output and standard error. Let's see how we can use sys methods to play around in the command-line. \n",
    "\n",
    "<img src=\"../images/data_handling-file_io-sys_fn.jpg\" width=\"300\">\n",
    "\n",
    "Importing sys:\n",
    "\n",
    "```python\n",
    "import sys\n",
    "```\n",
    "\n",
    "Let's see about a few functions in sys module.\n",
    "\n",
    "### 5.1 sys.modules\n",
    "\n",
    "This function gives the names of the existing python modules, current shell has imported.\n",
    "\n",
    "```python\n",
    "sys.modules.keys()\n",
    "```\n",
    "\n",
    "### 5.2 sys.argv\n",
    "\n",
    "This function collects the String arguments passed to the python script.\n",
    "\n",
    "```python\n",
    "print('The command line arguments are:')\n",
    "for i in sys.argv:\n",
    "    print(i)\n",
    "```\n",
    "\n",
    "### 5.3 sys.path\n",
    "\n",
    "This function displys the **PYTHONPATH** set in current system\n",
    "\n",
    "```python\n",
    "sys.path\n",
    "```\n",
    "\n",
    "### 5.4 sys.stdin\n",
    "\n",
    "This is just another file input object. It is not really any different form any other file object, its just that you don't need an open.\n",
    "\n",
    "```python\n",
    "user_input = sys.stdin.readline()\n",
    "print(\"Input : \" + user_input)\n",
    "```\n",
    "This makes interpreter iterate through standard input in command-line until end-of-file is reached\n",
    "\n",
    "### 5.5 sys.stdout\n",
    "\n",
    "This is similar to the *print()* command, but the difference is that *print* is just a thin wrapper that formats the inputs (space between args and newline at the end) and calls the write function of a given object. By default this object is **sys.stdout**\n",
    "\n",
    "```python\n",
    "sys.stdout.write(\"Hello, this is from sys function\")\n",
    "```\n",
    "\n",
    "### 5.6 sys.exit\n",
    "\n",
    "This method makes the Python interpretor exit the current flow of execution abruptly.\n",
    "```python\n",
    "sys.exit(1)\n",
    "```"
   ]
  },
  {
   "cell_type": "code",
   "execution_count": 1,
   "metadata": {},
   "outputs": [
    {
     "name": "stdout",
     "output_type": "stream",
     "text": [
      "Hello, this is from sys function"
     ]
    }
   ],
   "source": [
    "import sys\n",
    "sys.stdout.write(\"Hello, this is from sys function\")"
   ]
  }
 ],
 "metadata": {
  "kernelspec": {
   "display_name": "Python 3",
   "language": "python",
   "name": "python3"
  },
  "language_info": {
   "codemirror_mode": {
    "name": "ipython",
    "version": 3
   },
   "file_extension": ".py",
   "mimetype": "text/x-python",
   "name": "python",
   "nbconvert_exporter": "python",
   "pygments_lexer": "ipython3",
   "version": "3.6.5"
  }
 },
 "nbformat": 4,
 "nbformat_minor": 2
}
