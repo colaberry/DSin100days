{
 "cells": [
  {
   "cell_type": "markdown",
   "metadata": {},
   "source": [
    "##                                  Table of Content"
   ]
  },
  {
   "cell_type": "markdown",
   "metadata": {},
   "source": [
    "1. What are the Types of Data.\n",
    "2. Categories and classification of Data.<br>\n",
    "    2.1 Broad - structured vs unstructured.<br>\n",
    "    2.2 Detailed - categorical vs numerical.<br>\n",
    "    2.3 SQL vs NoSQL.\n",
    "3. Types of file formats(Comma-separated values,XLSX,ZIP,Plain Text (txt),JSON,XML,HTML,Images,Hierarchical Data\n",
    "    Format,PDF,MP3,MP4)\n",
    "    \n",
    "    "
   ]
  }
 ],
 "metadata": {
  "kernelspec": {
   "display_name": "Python 3",
   "language": "python",
   "name": "python3"
  },
  "language_info": {
   "codemirror_mode": {
    "name": "ipython",
    "version": 3
   },
   "file_extension": ".py",
   "mimetype": "text/x-python",
   "name": "python",
   "nbconvert_exporter": "python",
   "pygments_lexer": "ipython3",
   "version": "3.6.5"
  }
 },
 "nbformat": 4,
 "nbformat_minor": 2
}
