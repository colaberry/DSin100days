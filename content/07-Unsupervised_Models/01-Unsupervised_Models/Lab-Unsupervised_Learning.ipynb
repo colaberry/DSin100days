{
 "cells": [
  {
   "cell_type": "markdown",
   "metadata": {},
   "source": [
    "# Lab - Unsupervised Learning\n",
    "\n",
    "For the below given situations, write down which type of machine learning would be applicable - supervised or unsupervised. If it is supervised, also indicate if it is a Regression problem or a Classification problem.\n",
    "\n",
    "1. A diagnostic center is analyzing blood and urine samples of a patient 'P'. Based on the various factors measured through the analysis, we would like to determine if P is suffering from any of the diseases numbered in the database as 10001, 10002, 10003, 10004 and 10005.\n",
    "2. A credit card service company wants to analyze all transactions in the last 6 months in order to identify if the transactions can be grouped in a way, so as to ease customized analysis and generalization of certain inferences.\n",
    "3. Three people A, B and C went to a casino. Assume that each of them have a very unique gambling style with varying level of effective wins. Given the data about all 1375 rounds of gambling, which includes only the information about - \n",
    "    * what game was played\n",
    "    * what was the amount won/lost\n",
    "    * what time of the day was it\n",
    "    * what were the stakes at the table and \n",
    "    * what was the table number/machine ID number\n",
    "   <br><br>Try to predict, for a new round of betting, with all the above given information, whether it could be a game played by any of the three people or someone new.\n",
    "4. A transportation company is trying to predict how much time it would take for a vehicle to pick up a passenger at the DFW airport and drop them off at The Residence Inn, on President Road. The company has data about all previous rides, which include hundreds of rides, at different times during the day and on different days, with the same origin and destination.\n",
    "5. A meteorological observatory is processing satellite imagery to predict the path of a hurricane."
   ]
  }
 ],
 "metadata": {
  "kernelspec": {
   "display_name": "Python 3",
   "language": "python",
   "name": "python3"
  },
  "language_info": {
   "codemirror_mode": {
    "name": "ipython",
    "version": 3
   },
   "file_extension": ".py",
   "mimetype": "text/x-python",
   "name": "python",
   "nbconvert_exporter": "python",
   "pygments_lexer": "ipython3",
   "version": "3.7.3"
  }
 },
 "nbformat": 4,
 "nbformat_minor": 2
}
