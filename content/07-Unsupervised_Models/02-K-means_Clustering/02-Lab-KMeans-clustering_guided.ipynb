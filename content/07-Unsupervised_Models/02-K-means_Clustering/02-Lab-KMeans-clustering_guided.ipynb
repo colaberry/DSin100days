{
 "cells": [
  {
   "cell_type": "markdown",
   "metadata": {},
   "source": [
    "## 02-Lab - K-Means Clustering\n",
    "\n",
    "This is the dataset of wheat seeds for various varieties.\n",
    "The dataset contains 209 randomly selected instances of wheat seed information.\n",
    "\n",
    "Here is the description of the fields.\n",
    "\n",
    "1. area A, \n",
    "2. perimeter P, \n",
    "3. compactness $C = 4*pi*A/P^2$, \n",
    "4. length of kernel, \n",
    "5. width of kernel, \n",
    "6. asymmetry coefficient \n",
    "7. length of kernel groove. \n",
    "All of these parameters were real-valued continuous.\n",
    "\n",
    "You are required us asymmetry coefficient and perimeter features to perform k-means and identify the two clusters. Use the elbow and silhoutte methods to show what are the optimal number of clusters. "
   ]
  },
  {
   "cell_type": "code",
   "execution_count": null,
   "metadata": {
    "ExecuteTime": {
     "end_time": "2020-05-08T18:19:07.057250Z",
     "start_time": "2020-05-08T18:19:06.416472Z"
    }
   },
   "outputs": [],
   "source": [
    "# Use kmeans clustering\n",
    "\n",
    "import pandas as pd\n",
    "columns = ['area', 'perimeter', 'compactness', 'length_kernel', 'width_kernel','asymmetry', 'length_groove','class']\n",
    "seeds = pd.read_csv('https://raw.githubusercontent.com/colaberry/DSin100days/master/data/seeds_dataset.csv', names=columns ).dropna()\n"
   ]
  },
  {
   "cell_type": "code",
   "execution_count": null,
   "metadata": {
    "ExecuteTime": {
     "end_time": "2020-05-08T18:19:11.782671Z",
     "start_time": "2020-05-08T18:19:07.062234Z"
    }
   },
   "outputs": [],
   "source": [
    "import seaborn as sns \n",
    "sns.pairplot(seeds)"
   ]
  },
  {
   "cell_type": "markdown",
   "metadata": {},
   "source": [
    "Looking at the pair plot a simple example of visualizing clustering is asymmetry vs perimeter. We shall visualize the dataset and perform k-means clustering. \n"
   ]
  },
  {
   "cell_type": "code",
   "execution_count": null,
   "metadata": {
    "ExecuteTime": {
     "end_time": "2020-05-08T18:19:11.939951Z",
     "start_time": "2020-05-08T18:19:11.783722Z"
    }
   },
   "outputs": [],
   "source": [
    "import matplotlib.pyplot as plt \n",
    "from matplotlib.colors import ListedColormap\n",
    "\n",
    "# plotting asymmetry vs perimeter. We are choosing these two parameters\n",
    "data_set = seeds[['asymmetry', 'perimeter','class']]\n",
    "\n",
    "# get x and y from data_set \n",
    "# 2 lines of code \n",
    "\n",
    "# plotting asymmetry vs perimeter\n",
    "colors =[\"red\", \"green\",\"blue\"]\n",
    "cmap= ListedColormap(colors)\n",
    "plt.figure(figsize=(10, 10))\n",
    "plt.scatter(x,y, c=data_set['class'], cmap=cmap)\n",
    "plt.xlabel('asymmetry')\n",
    "plt.ylabel('perimeter')\n",
    "plt.show()"
   ]
  },
  {
   "cell_type": "markdown",
   "metadata": {
    "ExecuteTime": {
     "end_time": "2020-05-08T18:20:24.500186Z",
     "start_time": "2020-05-08T18:20:24.497770Z"
    }
   },
   "source": [
    "<img src=\"../../../images/asymvsperi.png\">"
   ]
  },
  {
   "cell_type": "markdown",
   "metadata": {},
   "source": [
    "We are first going to do use k means on this dataset with 2 clusters. Then use elbow method and silhoutte method to see what results we get "
   ]
  },
  {
   "cell_type": "code",
   "execution_count": null,
   "metadata": {
    "ExecuteTime": {
     "end_time": "2020-05-08T18:21:11.743658Z",
     "start_time": "2020-05-08T18:21:11.738339Z"
    }
   },
   "outputs": [],
   "source": [
    "# simple kmeans\n",
    "from sklearn.cluster import KMeans\n",
    "from sklearn.model_selection import train_test_split\n",
    "\n",
    "train_data_full, test_data = train_test_split(data_set, test_size=0.10, random_state=12)\n",
    "train_data = # exclude the labels from training data \n",
    "\n",
    "train_shape = # write shape of training data \n",
    "print(\"Shape of training set is {}\".format(train_shape))"
   ]
  },
  {
   "cell_type": "markdown",
   "metadata": {},
   "source": [
    "Shape of training set is (189, 2)"
   ]
  },
  {
   "cell_type": "code",
   "execution_count": null,
   "metadata": {
    "ExecuteTime": {
     "end_time": "2020-05-08T18:24:01.941577Z",
     "start_time": "2020-05-08T18:24:01.889734Z"
    }
   },
   "outputs": [],
   "source": [
    "# Fit a KMeans model to the training data.  \n",
    "# Number of clusters = 2 and random_state = 12\n",
    "\n",
    "unique_classes = # use numpy unique to identify unique classes \n",
    "shape_y_pred = y_train_pred.shape\n",
    "\n",
    "print(\"The predicted result for training has two unique classes {} and has shape {}\".format(unique_classes, shape_y_pred))"
   ]
  },
  {
   "cell_type": "markdown",
   "metadata": {},
   "source": [
    "The predicted result for training has two unique classes [0 1] and has shape (189,)"
   ]
  },
  {
   "cell_type": "markdown",
   "metadata": {},
   "source": [
    "There is one crucial point to note. We do not have a validation or evaluation criteria like we did before with supervised learning. In classification, we could use accuracy in regression we can use mean squared error. In unsupervised learning, there is no simple way of confirming it the model prediction is accurate or not. The easier way to do this would be to hand label certain points and then run the clustering algorithms to calculate the accuracy of of the points.\n"
   ]
  },
  {
   "cell_type": "code",
   "execution_count": null,
   "metadata": {
    "ExecuteTime": {
     "end_time": "2020-05-08T18:19:12.130791Z",
     "start_time": "2020-05-08T18:19:12.003684Z"
    }
   },
   "outputs": [],
   "source": [
    "colors =[\"red\", \"green\"]\n",
    "cmap= ListedColormap(colors)\n",
    "plt.figure(figsize=(10, 10))\n",
    "plt.scatter(train_data['asymmetry'].values, train_data['perimeter'].values, c=y_train_pred, cmap=cmap)\n",
    "plt.xlabel('asymmetry')\n",
    "plt.ylabel('perimeter')\n",
    "plt.show()"
   ]
  },
  {
   "cell_type": "markdown",
   "metadata": {
    "ExecuteTime": {
     "end_time": "2020-05-08T18:25:28.165748Z",
     "start_time": "2020-05-08T18:25:28.157731Z"
    }
   },
   "source": [
    "<img src=\"../../../images/clusters_two.png\">"
   ]
  },
  {
   "cell_type": "markdown",
   "metadata": {
    "ExecuteTime": {
     "end_time": "2020-05-07T21:55:07.694723Z",
     "start_time": "2020-05-07T21:55:07.676433Z"
    }
   },
   "source": [
    "Looking at the above plot, it seems that having two clusters is good enough. So we will use the elbow method and Silohutte method now to check if this is true\n"
   ]
  },
  {
   "cell_type": "code",
   "execution_count": null,
   "metadata": {
    "ExecuteTime": {
     "end_time": "2020-05-08T18:28:16.699539Z",
     "start_time": "2020-05-08T18:28:16.481126Z"
    }
   },
   "outputs": [],
   "source": [
    "# elbow method \n",
    "\n",
    "num_of_clusters = [x for x in range(1,10)]\n",
    "store_interia = []\n",
    "store_centers =  []\n",
    "get_models = []\n",
    "for c in num_of_clusters: \n",
    "   # write the for loop that goes calucates kmeans for \n",
    "    # each number of clusters and store interia, cluster centers \n",
    "    # and models. 7 to 10 lines of code\n",
    "\n",
    "print(\"Maximum number of clusters are {}\".format(len(store_interia)))"
   ]
  },
  {
   "cell_type": "markdown",
   "metadata": {},
   "source": [
    "Maximum number of clusters are 9\n"
   ]
  },
  {
   "cell_type": "code",
   "execution_count": null,
   "metadata": {
    "ExecuteTime": {
     "end_time": "2020-05-08T18:19:12.457693Z",
     "start_time": "2020-05-08T18:19:12.353437Z"
    }
   },
   "outputs": [],
   "source": [
    "plt.figure(figsize=(15,6))\n",
    "plt.plot(num_of_clusters, store_interia)\n",
    "plt.xlabel('Number of clusters')\n",
    "plt.ylabel('S')\n",
    "plt.show()"
   ]
  },
  {
   "cell_type": "markdown",
   "metadata": {
    "ExecuteTime": {
     "end_time": "2020-05-08T18:28:48.481467Z",
     "start_time": "2020-05-08T18:28:48.478804Z"
    }
   },
   "source": [
    "<img src=\"../../../images/elbow_method_kmeans.png\">"
   ]
  },
  {
   "cell_type": "markdown",
   "metadata": {},
   "source": [
    "The inertia term is the sum of squares within a cluster. The plot above represents the change is sum of squares over  the number of clusters.The sum of squares decreases with an increase in the number of clusters. According to the elbow method. The optimal number of clusters is more around 3 or 4. \n",
    "\n",
    "Next, lets compute the Silhouette score.   "
   ]
  },
  {
   "cell_type": "code",
   "execution_count": null,
   "metadata": {
    "ExecuteTime": {
     "end_time": "2020-05-08T18:29:38.264238Z",
     "start_time": "2020-05-08T18:29:38.033931Z"
    },
    "scrolled": true
   },
   "outputs": [],
   "source": [
    "from sklearn.metrics import silhouette_score, accuracy_score\n",
    "\n",
    "num_of_clusters = [x for x in range(2,10)]\n",
    "store_sscore = []\n",
    "\n",
    "for c in num_of_clusters: \n",
    "    kmeans = KMeans(n_clusters=c, random_state=12)\n",
    "    kmeans.fit(train_data)\n",
    "    labels = kmeans.labels_\n",
    "    sscore = silhouette_score(train_data, labels)\n",
    "    store_sscore.append(sscore)\n",
    "    \n",
    "print(\"Maximum number of clusters are {}\".format(len(store_sscore)))"
   ]
  },
  {
   "cell_type": "markdown",
   "metadata": {},
   "source": [
    "Maximum number of clusters are 8.\n",
    "\n",
    "We cannot calculate a Silhouette score for 1 cluster hence we have left it out. \n"
   ]
  },
  {
   "cell_type": "code",
   "execution_count": null,
   "metadata": {
    "ExecuteTime": {
     "end_time": "2020-05-08T18:19:12.790081Z",
     "start_time": "2020-05-08T18:19:12.681131Z"
    }
   },
   "outputs": [],
   "source": [
    "plt.figure(figsize=(15,6))\n",
    "plt.plot(num_of_clusters, store_sscore)\n",
    "plt.xlabel('Number of clusters')\n",
    "plt.ylabel('Silhouette Score')\n",
    "plt.ylabel('S')\n",
    "plt.show()"
   ]
  },
  {
   "cell_type": "markdown",
   "metadata": {},
   "source": [
    "<img src=\"../../../images/silhouette_score.png\">"
   ]
  },
  {
   "cell_type": "code",
   "execution_count": null,
   "metadata": {
    "ExecuteTime": {
     "end_time": "2020-05-08T18:35:07.277357Z",
     "start_time": "2020-05-08T18:35:07.266760Z"
    }
   },
   "outputs": [],
   "source": [
    "max_indx = # get the max index from Silhouette scores\n",
    "optimal_number_clusters = # get the optimal number clusters using the max index\n",
    "\n",
    "print(\"Optimal number of clusters according to Silhouette method {} \".format(optimal_number_clusters))"
   ]
  },
  {
   "cell_type": "markdown",
   "metadata": {},
   "source": [
    "Optimal number of clusters according to Silhouette method 3 \n",
    "\n",
    "The Silhouette score peaks at $n=3$ suggesting that 3 clusters are ideal for the training set. Comparing this to the elbow method where its hard to decipher where the 'elbow' of the curve. Lets plot the three clusters. \n"
   ]
  },
  {
   "cell_type": "code",
   "execution_count": null,
   "metadata": {
    "ExecuteTime": {
     "end_time": "2020-05-08T18:19:12.935703Z",
     "start_time": "2020-05-08T18:19:12.791000Z"
    }
   },
   "outputs": [],
   "source": [
    "kmeans = KMeans(n_clusters=3, random_state=12)\n",
    "kmeans.fit(train_data)\n",
    "labels = kmeans.labels_\n",
    "colors =[\"green\", \"blue\",\"red\"]\n",
    "cmap= ListedColormap(colors)\n",
    "plt.figure(figsize=(10, 10))\n",
    "plt.scatter(train_data['asymmetry'].values, train_data['perimeter'].values, c=labels, cmap=cmap)\n",
    "plt.xlabel('asymmetry')\n",
    "plt.ylabel('perimeter')\n",
    "plt.show()"
   ]
  },
  {
   "cell_type": "markdown",
   "metadata": {},
   "source": [
    "<img src=\"../../../images/final_kmeans.png\">"
   ]
  },
  {
   "cell_type": "markdown",
   "metadata": {},
   "source": [
    "So these are the three classes that we acquired. "
   ]
  }
 ],
 "metadata": {
  "kernelspec": {
   "display_name": "Python 3",
   "language": "python",
   "name": "python3"
  },
  "language_info": {
   "codemirror_mode": {
    "name": "ipython",
    "version": 3
   },
   "file_extension": ".py",
   "mimetype": "text/x-python",
   "name": "python",
   "nbconvert_exporter": "python",
   "pygments_lexer": "ipython3",
   "version": "3.7.4"
  },
  "latex_envs": {
   "LaTeX_envs_menu_present": true,
   "autoclose": false,
   "autocomplete": true,
   "bibliofile": "biblio.bib",
   "cite_by": "apalike",
   "current_citInitial": 1,
   "eqLabelWithNumbers": true,
   "eqNumInitial": 1,
   "hotkeys": {
    "equation": "Ctrl-E",
    "itemize": "Ctrl-I"
   },
   "labels_anchors": false,
   "latex_user_defs": false,
   "report_style_numbering": false,
   "user_envs_cfg": false
  },
  "toc": {
   "base_numbering": 1,
   "nav_menu": {},
   "number_sections": false,
   "sideBar": true,
   "skip_h1_title": false,
   "title_cell": "Table of Contents",
   "title_sidebar": "Contents",
   "toc_cell": false,
   "toc_position": {},
   "toc_section_display": true,
   "toc_window_display": false
  },
  "varInspector": {
   "cols": {
    "lenName": 16,
    "lenType": 16,
    "lenVar": 40
   },
   "kernels_config": {
    "python": {
     "delete_cmd_postfix": "",
     "delete_cmd_prefix": "del ",
     "library": "var_list.py",
     "varRefreshCmd": "print(var_dic_list())"
    },
    "r": {
     "delete_cmd_postfix": ") ",
     "delete_cmd_prefix": "rm(",
     "library": "var_list.r",
     "varRefreshCmd": "cat(var_dic_list()) "
    }
   },
   "types_to_exclude": [
    "module",
    "function",
    "builtin_function_or_method",
    "instance",
    "_Feature"
   ],
   "window_display": false
  }
 },
 "nbformat": 4,
 "nbformat_minor": 2
}
