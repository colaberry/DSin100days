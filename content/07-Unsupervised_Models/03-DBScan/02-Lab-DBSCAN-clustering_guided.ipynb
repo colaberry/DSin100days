{
 "cells": [
  {
   "cell_type": "markdown",
   "metadata": {},
   "source": [
    "## 02-Lab - DBSCAN Clustering\n",
    "\n",
    "This is the dataset of wheat seeds for various varieties.\n",
    "The dataset contains 209 randomly selected instances of wheat seed information.\n",
    "\n",
    "Here is the descrition of the fields.\n",
    "\n",
    "1. area A, \n",
    "2. perimeter P, \n",
    "3. compactness $C = 4*pi*A/P^2$, \n",
    "4. length of kernel, \n",
    "5. width of kernel, \n",
    "6. asymmetry coefficient \n",
    "7. length of kernel groove. \n",
    "All of these parameters were real-valued continuous.\n",
    "\n",
    "You are required to prepare the data, use DBSCAN clustering to group them according to the variety, find appropriate number of clusters and finally add labels to the data.\n",
    "\n"
   ]
  },
  {
   "cell_type": "code",
   "execution_count": null,
   "metadata": {
    "ExecuteTime": {
     "end_time": "2020-05-11T16:54:59.762955Z",
     "start_time": "2020-05-11T16:54:59.394806Z"
    }
   },
   "outputs": [],
   "source": [
    "# Use DBSCAN clustering\n",
    "import pandas as pd\n",
    "import numpy as np \n",
    "columns = ['area', 'perimeter', 'compactness', 'length_kernel', 'width_kernel','asymmetry', 'length_groove','class']\n",
    "seeds = pd.read_csv('https://raw.githubusercontent.com/colaberry/DSin100days/master/data/seeds_dataset.csv', names=columns ).dropna()\n",
    "\n"
   ]
  },
  {
   "cell_type": "markdown",
   "metadata": {},
   "source": [
    "We need to find a viable candidate for showing dbscan clustering. DBSCAN works well when we have dense clusters which are well separated. The separation can be minimal but it must be sharp enough for DBSCAN to work. We can use the seaborn pairplot to find a viable candidate in the dataset. \n"
   ]
  },
  {
   "cell_type": "code",
   "execution_count": null,
   "metadata": {
    "ExecuteTime": {
     "end_time": "2020-05-11T16:55:04.598492Z",
     "start_time": "2020-05-11T16:54:59.768241Z"
    }
   },
   "outputs": [],
   "source": [
    "import seaborn as sb\n",
    "sb.pairplot(seeds)\n"
   ]
  },
  {
   "cell_type": "markdown",
   "metadata": {},
   "source": [
    "We pick length_groove vs compactness since there two well defined clusters."
   ]
  },
  {
   "cell_type": "code",
   "execution_count": null,
   "metadata": {
    "ExecuteTime": {
     "end_time": "2020-05-11T16:55:04.734056Z",
     "start_time": "2020-05-11T16:55:04.599598Z"
    }
   },
   "outputs": [],
   "source": [
    "import matplotlib.pyplot as plt \n",
    "from matplotlib.colors import ListedColormap\n",
    "\n",
    "# plotting compactness vs length_groove. We are choosing these two parameters\n",
    "data_set = seeds[['length_groove', 'compactness','class']]\n",
    "x = # choose the compactness column from dataset\n",
    "y = # choose the length_groove column from dataset\n",
    "\n",
    "colors =[\"red\", \"green\",\"blue\"]\n",
    "cmap= ListedColormap(colors)\n",
    "plt.figure(figsize=(10, 10))\n",
    "plt.scatter(x,y, c=data_set['class'], cmap=cmap)\n",
    "plt.xlabel('compactness')\n",
    "plt.ylabel('length_groove')\n",
    "plt.show()"
   ]
  },
  {
   "cell_type": "markdown",
   "metadata": {},
   "source": [
    " The labels however, tell a different story. Two of the labels are mixed together and form the bottom cluster. DBSCAN cannot distinguish between those two clusters. The best we can two is identify the difference between the top and the bottom cluster."
   ]
  },
  {
   "cell_type": "code",
   "execution_count": null,
   "metadata": {
    "ExecuteTime": {
     "end_time": "2020-05-11T17:16:17.856550Z",
     "start_time": "2020-05-11T17:16:17.634308Z"
    }
   },
   "outputs": [],
   "source": [
    "# simple kmeans\n",
    "from sklearn.cluster import DBSCAN\n",
    "from sklearn.model_selection import train_test_split\n",
    "\n",
    "# perform train test split with test_size= 0.10 and random_state=12. Make sure that \n",
    "# you drop the 'class' column from your training data. \n",
    "\n",
    "train_shape = train_data.shape\n",
    "print(\"Shape of training set is {}\".format(train_shape))"
   ]
  },
  {
   "cell_type": "markdown",
   "metadata": {},
   "source": [
    "Shape of training set is (189, 2)"
   ]
  },
  {
   "cell_type": "code",
   "execution_count": null,
   "metadata": {
    "ExecuteTime": {
     "end_time": "2020-05-11T17:17:52.171856Z",
     "start_time": "2020-05-11T17:17:52.161422Z"
    }
   },
   "outputs": [],
   "source": [
    "dbscan = # initalize DBSCAN with eps=0.11\n",
    "dbscan.fit(train_data)\n",
    "labels = # get labels from dbscan \n",
    "unique_labels = # using numpy get unique elements \n",
    "print(\"unique labels: {}\".format('####'))\n"
   ]
  },
  {
   "cell_type": "markdown",
   "metadata": {},
   "source": [
    "unique labels: [0 1]"
   ]
  },
  {
   "cell_type": "code",
   "execution_count": null,
   "metadata": {
    "ExecuteTime": {
     "end_time": "2020-05-11T16:55:50.708607Z",
     "start_time": "2020-05-11T16:55:50.586893Z"
    }
   },
   "outputs": [],
   "source": [
    "colors =[\"red\", \"green\"]\n",
    "cmap= ListedColormap(colors)\n",
    "plt.figure(figsize=(10, 10))\n",
    "# plot a scatter plot with x being the values of train data for compactness columns \n",
    "# and y being the same but for length_groove column, ensure that you also plot the \n",
    "# labels onto of these points. Use cmap for the right colors. 1 line of code\n",
    "plt.xlabel('compactness')\n",
    "plt.ylabel('length_groove')\n",
    "plt.show()"
   ]
  },
  {
   "cell_type": "markdown",
   "metadata": {},
   "source": [
    "<img src=\"../../../images/dbscan_lab_1.PNG\">\n"
   ]
  },
  {
   "cell_type": "markdown",
   "metadata": {},
   "source": [
    "Another example worth looking at is the length_groove vs length_kernel. We show the class distribution of scatter points in the plot below. "
   ]
  },
  {
   "cell_type": "code",
   "execution_count": null,
   "metadata": {
    "ExecuteTime": {
     "end_time": "2020-05-11T17:06:08.603903Z",
     "start_time": "2020-05-11T17:06:08.477788Z"
    }
   },
   "outputs": [],
   "source": [
    "data_set = seeds[['length_groove', 'length_kernel','class']]\n",
    "x = # choose length_groove column from dataset\n",
    "y = # choose length_kernel column from dataset\n",
    "\n",
    "\n",
    "colors =[\"red\", \"green\",\"blue\"]\n",
    "cmap= ListedColormap(colors)\n",
    "plt.figure(figsize=(10, 10))\n",
    "# plot a scatter plot with x being the values of train data for compactness columns \n",
    "# and y being the same but for length_groove column, ensure that you also plot the \n",
    "# labels onto of these points. Use cmap for the right colors. 1 line of code \n",
    "plt.xlabel('length_groove')\n",
    "plt.ylabel('length_kernel')\n",
    "plt.show()"
   ]
  },
  {
   "cell_type": "markdown",
   "metadata": {
    "ExecuteTime": {
     "end_time": "2020-05-11T17:06:57.239012Z",
     "start_time": "2020-05-11T17:06:57.229597Z"
    }
   },
   "source": [
    "<img src=\"../../../images/dbscan_lab_2.png\">\n"
   ]
  },
  {
   "cell_type": "markdown",
   "metadata": {},
   "source": [
    "We can identify only two classes using by performing DBSCAN on the dataset. See the figure below "
   ]
  },
  {
   "cell_type": "code",
   "execution_count": null,
   "metadata": {
    "ExecuteTime": {
     "end_time": "2020-05-11T17:07:04.640972Z",
     "start_time": "2020-05-11T17:07:04.628032Z"
    }
   },
   "outputs": [],
   "source": [
    "full_data = data_set.drop(columns='class')\n",
    "dbscan = # intialize dbscan with eps=0.15 and min number of points as 10\n",
    "dbscan.fit(full_data)\n",
    "labels2 = # get labels from dbscan \n",
    "unique_labels2 = # get unique labels from the list labels \n",
    "print(\"unique labels: {}\".format('####'))\n"
   ]
  },
  {
   "cell_type": "markdown",
   "metadata": {},
   "source": [
    "unique labels: [-1  0  1]"
   ]
  },
  {
   "cell_type": "code",
   "execution_count": null,
   "metadata": {
    "ExecuteTime": {
     "end_time": "2020-05-11T17:07:14.280944Z",
     "start_time": "2020-05-11T17:07:14.146068Z"
    }
   },
   "outputs": [],
   "source": [
    "colors =[\"red\", \"green\", 'blue']\n",
    "cmap= ListedColormap(colors)\n",
    "plt.figure(figsize=(10, 10))\n",
    "# plot a scatter plot with x being the values of train data for compactness columns \n",
    "# and y being the same but for length_groove column, ensure that you also plot the \n",
    "# labels onto of these points. Use cmap for the right colors. 1 line of code \n",
    "plt.xlabel('length_groove')\n",
    "plt.ylabel('length_kernel')\n",
    "plt.show()"
   ]
  },
  {
   "cell_type": "markdown",
   "metadata": {
    "ExecuteTime": {
     "end_time": "2020-05-11T17:07:49.701052Z",
     "start_time": "2020-05-11T17:07:49.692140Z"
    }
   },
   "source": [
    "<img src=\"../../../images/dbscan_lab_3.png\">\n"
   ]
  },
  {
   "cell_type": "markdown",
   "metadata": {
    "ExecuteTime": {
     "end_time": "2020-05-11T16:33:55.972081Z",
     "start_time": "2020-05-11T16:33:55.968800Z"
    }
   },
   "source": [
    "The two classes are the green and the blue point. The third class of points labeled -1 are points that do not fit in either classes. These are points are too far from either cluster and too far from each other to form a cluster. \n"
   ]
  }
 ],
 "metadata": {
  "kernelspec": {
   "display_name": "Python 3",
   "language": "python",
   "name": "python3"
  },
  "language_info": {
   "codemirror_mode": {
    "name": "ipython",
    "version": 3
   },
   "file_extension": ".py",
   "mimetype": "text/x-python",
   "name": "python",
   "nbconvert_exporter": "python",
   "pygments_lexer": "ipython3",
   "version": "3.7.4"
  },
  "latex_envs": {
   "LaTeX_envs_menu_present": true,
   "autoclose": false,
   "autocomplete": true,
   "bibliofile": "biblio.bib",
   "cite_by": "apalike",
   "current_citInitial": 1,
   "eqLabelWithNumbers": true,
   "eqNumInitial": 1,
   "hotkeys": {
    "equation": "Ctrl-E",
    "itemize": "Ctrl-I"
   },
   "labels_anchors": false,
   "latex_user_defs": false,
   "report_style_numbering": false,
   "user_envs_cfg": false
  },
  "toc": {
   "base_numbering": 1,
   "nav_menu": {},
   "number_sections": false,
   "sideBar": true,
   "skip_h1_title": false,
   "title_cell": "Table of Contents",
   "title_sidebar": "Contents",
   "toc_cell": false,
   "toc_position": {},
   "toc_section_display": true,
   "toc_window_display": false
  },
  "varInspector": {
   "cols": {
    "lenName": 16,
    "lenType": 16,
    "lenVar": 40
   },
   "kernels_config": {
    "python": {
     "delete_cmd_postfix": "",
     "delete_cmd_prefix": "del ",
     "library": "var_list.py",
     "varRefreshCmd": "print(var_dic_list())"
    },
    "r": {
     "delete_cmd_postfix": ") ",
     "delete_cmd_prefix": "rm(",
     "library": "var_list.r",
     "varRefreshCmd": "cat(var_dic_list()) "
    }
   },
   "types_to_exclude": [
    "module",
    "function",
    "builtin_function_or_method",
    "instance",
    "_Feature"
   ],
   "window_display": false
  }
 },
 "nbformat": 4,
 "nbformat_minor": 2
}
