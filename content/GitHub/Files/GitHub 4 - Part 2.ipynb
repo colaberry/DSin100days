{
 "cells": [
  {
   "cell_type": "markdown",
   "metadata": {},
   "source": [
    "# GitHub Tutorial 4"
   ]
  },
  {
   "cell_type": "markdown",
   "metadata": {},
   "source": [
    "## Part 2 - GitHub Command Line"
   ]
  },
  {
   "cell_type": "markdown",
   "metadata": {},
   "source": [
    "If you want to work with Git locally, you can use the **command line** or the **GitHub Desktop client**."
   ]
  },
  {
   "cell_type": "markdown",
   "metadata": {},
   "source": [
    "We shall now explore the command line method. "
   ]
  },
  {
   "cell_type": "markdown",
   "metadata": {},
   "source": [
    "## Step 0: Terminal"
   ]
  },
  {
   "cell_type": "markdown",
   "metadata": {},
   "source": [
    "To use git we'll be using the terminal.\n",
    "- The **GitBash** terminal is part of Git installation (https://git-scm.com). \n",
    "- The **GitHub Desktop** includes a command line version of Git as well as the GUI. \n",
    "- Git also works well with Windows **PowerShell** or default Mac and Linux terminals. \n",
    "\n",
    "You can use any of these terminals."
   ]
  },
  {
   "cell_type": "markdown",
   "metadata": {},
   "source": [
    "## Step 1: Create a local git repository "
   ]
  },
  {
   "cell_type": "markdown",
   "metadata": {},
   "source": [
    "When creating a new project on your local machine using git, you'll first create a new repository"
   ]
  },
  {
   "cell_type": "markdown",
   "metadata": {},
   "source": [
    "To begin, open up a terminal and move to where you want to place the project on your local machine using the **cd** (change directory) command. For example, if you have a 'projects' folder on your desktop, you'd do something like:"
   ]
  },
  {
   "cell_type": "code",
   "execution_count": null,
   "metadata": {},
   "outputs": [],
   "source": [
    "mnelson:Desktop mnelson$ cd ~/Desktop\n",
    "mnelson:Desktop mnelson$ mkdir myproject\n",
    "mnelson:Desktop mnelson$ cd myproject/"
   ]
  },
  {
   "cell_type": "markdown",
   "metadata": {},
   "source": [
    "To initialize a git repository in the root of the folder, run the **git init** command: "
   ]
  },
  {
   "cell_type": "code",
   "execution_count": null,
   "metadata": {},
   "outputs": [],
   "source": [
    "mnelson:myproject mnelson$ git init\n",
    "Initialized empty Git repository in /Users/mnelson/Desktop/myproject/.git/"
   ]
  },
  {
   "cell_type": "markdown",
   "metadata": {},
   "source": [
    "## Step 2: Add a new file to the repo"
   ]
  },
  {
   "cell_type": "markdown",
   "metadata": {},
   "source": [
    "Go ahead and add a new file to the project, using any text editor you like or running a **touch** command. It just creates and saves a blank file. "
   ]
  },
  {
   "cell_type": "code",
   "execution_count": null,
   "metadata": {},
   "outputs": [],
   "source": [
    "mnelson:myproject mnelson$ touch mnelson.txt\n",
    "mnelson:myproject mnelson$ ls\n",
    "mnelson.txt"
   ]
  },
  {
   "cell_type": "markdown",
   "metadata": {},
   "source": [
    "Once you've added or modified files in a folder containing a git repo, git will notice that  the file exists inside the repo. After creating the new file, you can use the **git status** command to see which files git knows exist."
   ]
  },
  {
   "cell_type": "code",
   "execution_count": null,
   "metadata": {},
   "outputs": [],
   "source": [
    "mnelson:myproject mnelson$ git status\n",
    "On branch master\n",
    "\n",
    "Initial commit\n",
    "\n",
    "Untracked files:\n",
    "  (use \"git add <file>...\" to include in what will be committed)\n",
    "\n",
    "\tmnelson.txt\n",
    "\n",
    "nothing added to commit but untracked files present (use \"git add\" to track)"
   ]
  },
  {
   "cell_type": "markdown",
   "metadata": {},
   "source": [
    "What this basically says is, \"Hey, we noticed you created a new file called mnelson.txt, but unless you use the 'git add' command we aren't going to do anything with it.\""
   ]
  },
  {
   "cell_type": "markdown",
   "metadata": {},
   "source": [
    "## Step 3: Add a file to the staging environment"
   ]
  },
  {
   "cell_type": "markdown",
   "metadata": {},
   "source": [
    "Add a file to the staging environment using the **git add** command. "
   ]
  },
  {
   "cell_type": "markdown",
   "metadata": {},
   "source": [
    "If you rerun the git status command, you'll see that git has added the file to the staging environment (notice the \"Changes to be committed\" line). "
   ]
  },
  {
   "cell_type": "code",
   "execution_count": null,
   "metadata": {},
   "outputs": [],
   "source": [
    "mnelson:myproject mnelson$ git status\n",
    "On branch master\n",
    "\n",
    "Initial commit\n",
    "\n",
    "Changes to be committed:\n",
    "  (use \"git rm --cached <file>...\" to unstage)\n",
    "\n",
    "\tnew file:   mnelson.txt"
   ]
  },
  {
   "cell_type": "markdown",
   "metadata": {},
   "source": [
    "To reiterate, the file has not yet been added to a commit, but it's about to be."
   ]
  },
  {
   "cell_type": "markdown",
   "metadata": {},
   "source": [
    "## Step 4: Create a commit"
   ]
  },
  {
   "cell_type": "markdown",
   "metadata": {},
   "source": [
    "Run the command git commit -m \"Your message about the commit\""
   ]
  },
  {
   "cell_type": "code",
   "execution_count": null,
   "metadata": {},
   "outputs": [],
   "source": [
    "mnelson:myproject mnelson$ git commit -m \"This is my first commit!\"\n",
    "[master (root-commit) b345d9a] This is my first commit!\n",
    " 1 file changed, 1 insertion(+)\n",
    " create mode 100644 mnelson.txt"
   ]
  },
  {
   "cell_type": "markdown",
   "metadata": {},
   "source": [
    "The message at the end of the commit should be something related to what the commit contains - maybe it's a new feature, maybe it's a bug fix, maybe it's just fixing a typo."
   ]
  },
  {
   "cell_type": "markdown",
   "metadata": {},
   "source": [
    "## Step 5: Create a new branch"
   ]
  },
  {
   "cell_type": "markdown",
   "metadata": {},
   "source": [
    "Let's say you are on the primary branch and want to create a new branch to develop your web page. Here's what you'll do: \n",
    "\n",
    "Run **git checkout -b {my branch name}**. \n",
    "    \n",
    "This command will automatically create a new branch and then 'check you out' on it, meaning git will move you to that branch, off of the primary branch."
   ]
  },
  {
   "cell_type": "markdown",
   "metadata": {},
   "source": [
    "After running the above command, you can use the **git branch** command to confirm that your branch was created:"
   ]
  },
  {
   "cell_type": "code",
   "execution_count": null,
   "metadata": {},
   "outputs": [],
   "source": [
    "mnelson:myproject mnelson$ git branch\n",
    "  master\n",
    "* my-new-branch"
   ]
  },
  {
   "cell_type": "markdown",
   "metadata": {},
   "source": [
    "The branch name with the asterisk next to it indicates which branch you're on at that given time. "
   ]
  },
  {
   "cell_type": "markdown",
   "metadata": {},
   "source": [
    "## Step 6: Create a new repository on GitHub"
   ]
  },
  {
   "cell_type": "markdown",
   "metadata": {},
   "source": [
    "To create a new repo on GitHub, log in and go to the GitHub home page. \n",
    "\n",
    "As explained in previous tutorials, click the “New repository” button, name your repo, provide a brief description and press the 'Create repository' button to make your new repo."
   ]
  },
  {
   "cell_type": "markdown",
   "metadata": {},
   "source": [
    "GitHub will ask if you want to create a new repo from scratch or if you want to add a repo you have created locally. In this case, since we've already created a new repo locally, we want to push that onto GitHub so follow the '....or push an existing repository from the command line' section: "
   ]
  },
  {
   "cell_type": "code",
   "execution_count": null,
   "metadata": {},
   "outputs": [],
   "source": [
    "mnelson:myproject mnelson$ git remote add origin https://github.com/cubeton/mynewrepository.git\n",
    "mnelson:myproject mnelson$ git push -u origin master\n",
    "Counting objects: 3, done.\n",
    "Writing objects: 100% (3/3), 263 bytes | 0 bytes/s, done.\n",
    "Total 3 (delta 0), reused 0 (delta 0)\n",
    "To https://github.com/cubeton/mynewrepository.git\n",
    " * [new branch]      master -> master\n",
    "Branch master set up to track remote branch master from origin."
   ]
  },
  {
   "cell_type": "markdown",
   "metadata": {},
   "source": [
    "(You'll want to change the URL in the first command line to what GitHub lists in this section since your GitHub username and repo name are different.)"
   ]
  },
  {
   "cell_type": "markdown",
   "metadata": {},
   "source": [
    "## Step 7: Push a branch to GitHub"
   ]
  },
  {
   "cell_type": "markdown",
   "metadata": {},
   "source": [
    "Now we'll push the commit in your branch to your new GitHub repo. This allows other people to see the changes you've made. If they're approved by the repository's owner, the changes can then be merged into the primary branch."
   ]
  },
  {
   "cell_type": "markdown",
   "metadata": {},
   "source": [
    "To push changes onto a new branch on GitHub, you'll want to run **git push origin {yourbranchname}**. GitHub will automatically create the branch for you on the remote repository:"
   ]
  },
  {
   "cell_type": "code",
   "execution_count": null,
   "metadata": {},
   "outputs": [],
   "source": [
    "mnelson:myproject mnelson$ git push origin my-new-branch\n",
    "Counting objects: 3, done.\n",
    "Delta compression using up to 8 threads.\n",
    "Compressing objects: 100% (2/2), done.\n",
    "Writing objects: 100% (3/3), 313 bytes | 0 bytes/s, done.\n",
    "Total 3 (delta 0), reused 0 (delta 0)\n",
    "To https://github.com/cubeton/mynewrepository.git\n",
    " * [new branch]      my-new-branch -> my-new-branch"
   ]
  },
  {
   "cell_type": "markdown",
   "metadata": {},
   "source": [
    "\"Origin\" is essentially shorthand for the remote repository's URL. So, to push your changes to the remote repository, you could've used either the command: **git push git@github.com:git/git.git yourbranchname** or **git push origin yourbranchname**"
   ]
  },
  {
   "cell_type": "markdown",
   "metadata": {},
   "source": [
    "(If this is your first time using GitHub locally, it might prompt you to log in with your GitHub username and password.)"
   ]
  },
  {
   "cell_type": "markdown",
   "metadata": {},
   "source": [
    "If you refresh the GitHub page, you'll see note saying a branch with your name has just been pushed into the repository. You can also click the 'branches' link to see your branch listed there."
   ]
  },
  {
   "cell_type": "markdown",
   "metadata": {},
   "source": [
    "<img src=\"../../../images/GitHub421.PNG\" style=\"width:45vw\">"
   ]
  },
  {
   "cell_type": "markdown",
   "metadata": {},
   "source": [
    "Now click the green button in the screenshot above. We're going to make a **pull request**!"
   ]
  },
  {
   "cell_type": "markdown",
   "metadata": {},
   "source": [
    "## Step 8: Create a pull request (PR)"
   ]
  },
  {
   "cell_type": "markdown",
   "metadata": {},
   "source": [
    "A pull request (or PR) is a way to alert a repo's owners that you want to make some changes to their code. It allows them to review the code and make sure it looks good before putting your changes on the primary branch."
   ]
  },
  {
   "cell_type": "markdown",
   "metadata": {},
   "source": [
    "This is what the PR page looks like before you've submitted it:"
   ]
  },
  {
   "cell_type": "markdown",
   "metadata": {},
   "source": [
    "<img src=\"../../../images/GitHub422.PNG\" style=\"width:45vw\">"
   ]
  },
  {
   "cell_type": "markdown",
   "metadata": {},
   "source": [
    "And this is what it looks like once you've submitted the PR request:"
   ]
  },
  {
   "cell_type": "markdown",
   "metadata": {},
   "source": [
    "<img src=\"../../../images/GitHub423.PNG\" style=\"width:45vw\">"
   ]
  },
  {
   "cell_type": "markdown",
   "metadata": {},
   "source": [
    "You might see a big green button at the bottom that says 'Merge pull request'. Clicking this means you'll merge your changes into the primary branch.."
   ]
  },
  {
   "cell_type": "markdown",
   "metadata": {},
   "source": [
    "Sometimes you'll be a co-owner or the sole owner of a repo, in which case you may not need to create a PR to merge your changes. However, it's still a good idea to make one so you can keep a more complete history of your updates and to make sure you always create a new branch when making changes."
   ]
  },
  {
   "cell_type": "markdown",
   "metadata": {},
   "source": [
    "## Step 9: Merge a PR"
   ]
  },
  {
   "cell_type": "markdown",
   "metadata": {},
   "source": [
    "Go ahead and click the green 'Merge pull request' button. This will merge your changes into the primary branch."
   ]
  },
  {
   "cell_type": "markdown",
   "metadata": {},
   "source": [
    "<img src=\"../../../images/GitHub424.PNG\" style=\"width:45vw\">"
   ]
  },
  {
   "cell_type": "markdown",
   "metadata": {},
   "source": [
    "When you're done, I recommend deleting your branch (too many branches can become messy), so hit that grey 'Delete branch' button as well."
   ]
  },
  {
   "cell_type": "markdown",
   "metadata": {},
   "source": [
    "You can double check that your commits were merged by clicking on the 'Commits' link on the first page of your new repo."
   ]
  },
  {
   "cell_type": "markdown",
   "metadata": {},
   "source": [
    "<img src=\"../../../images/GitHub425.PNG\" style=\"width:45vw\">"
   ]
  },
  {
   "cell_type": "markdown",
   "metadata": {},
   "source": [
    "This will show you a list of all the commits in that branch."
   ]
  },
  {
   "cell_type": "markdown",
   "metadata": {},
   "source": [
    "<img src=\"../../../images/GitHub426.PNG\" style=\"width:45vw\">"
   ]
  },
  {
   "cell_type": "markdown",
   "metadata": {},
   "source": [
    "You can also see the **hash code** of the commit on the right hand side. A hash code is a unique identifier for that specific commit. It's useful for referring to specific commits and when undoing changes (use the **git revert {hash code number}** command to backtrack)."
   ]
  },
  {
   "cell_type": "markdown",
   "metadata": {},
   "source": [
    "## Step 10: Get changes on GitHub back to your computer"
   ]
  },
  {
   "cell_type": "markdown",
   "metadata": {},
   "source": [
    "Right now, the repo on GitHub looks a little different than what you have on your local machine. For example, the commit you made in your branch and merged into the primary branch doesn't exist in the primary branch on your local machine."
   ]
  },
  {
   "cell_type": "markdown",
   "metadata": {},
   "source": [
    "In order to get the most recent changes that you or others have merged on GitHub, use the git pull origin master command (when working on the primary branch). In most cases, this can be shortened to “**git pull**”."
   ]
  },
  {
   "cell_type": "code",
   "execution_count": null,
   "metadata": {},
   "outputs": [],
   "source": [
    "mnelson:myproject mnelson$ git pull origin master\n",
    "remote: Counting objects: 1, done.\n",
    "remote: Total 1 (delta 0), reused 0 (delta 0), pack-reused 0\n",
    "Unpacking objects: 100% (1/1), done.\n",
    "From https://github.com/cubeton/mynewrepository\n",
    " * branch            master     -> FETCH_HEAD\n",
    "   b345d9a..5381b7c  master     -> origin/master\n",
    "Merge made by the 'recursive' strategy.\n",
    " mnelson.txt | 1 +\n",
    " 1 file changed, 1 insertion(+)"
   ]
  },
  {
   "cell_type": "markdown",
   "metadata": {},
   "source": [
    "This shows you all the files that have changed and how they've changed."
   ]
  },
  {
   "cell_type": "markdown",
   "metadata": {},
   "source": [
    "Now we can use the **git log** command again to see all new commits."
   ]
  },
  {
   "cell_type": "markdown",
   "metadata": {},
   "source": [
    "(You may need to switch branches back to the primary branch. You can do that using the git checkout master command.)"
   ]
  },
  {
   "cell_type": "code",
   "execution_count": null,
   "metadata": {},
   "outputs": [],
   "source": [
    "mnelson:myproject mnelson$ git log\n",
    "commit 3e270876db0e5ffd3e9bfc5edede89b64b83812c\n",
    "Merge: 4f1cb17 5381b7c\n",
    "Author: Meghan Nelson <mnelson@hubspot.com>\n",
    "Date:   Fri Sep 11 17:48:11 2015 -0400\n",
    "\n",
    "    Merge branch 'master' of https://github.com/cubeton/mynewrepository\n",
    "\n",
    "commit 4f1cb1798b6e6890da797f98383e6337df577c2a\n",
    "Author: Meghan Nelson <mnelson@hubspot.com>\n",
    "Date:   Fri Sep 11 17:48:00 2015 -0400\n",
    "\n",
    "    added a new file\n",
    "\n",
    "commit 5381b7c53212ca92151c743b4ed7dde07d9be3ce\n",
    "Merge: b345d9a 1e8dc08\n",
    "Author: Meghan Nelson <meghan@meghan.net>\n",
    "Date:   Fri Sep 11 17:43:22 2015 -0400\n",
    "\n",
    "    Merge pull request #2 from cubeton/my-newbranch\n",
    "    \n",
    "    Added some more text to my file\n",
    "\n",
    "commit 1e8dc0830b4db8c93efd80479ea886264768520c\n",
    "Author: Meghan Nelson <mnelson@hubspot.com>\n",
    "Date:   Fri Sep 11 17:06:05 2015 -0400\n",
    "\n",
    "    Added some more text to my file\n",
    "\n",
    "commit b345d9a25353037afdeaa9fcaf9f330effd157f1\n",
    "Author: Meghan Nelson <mnelson@hubspot.com>\n",
    "Date:   Thu Sep 10 17:42:15 2015 -0400\n",
    "\n",
    "    This is my first commit!"
   ]
  },
  {
   "cell_type": "markdown",
   "metadata": {},
   "source": [
    "## Conclusion"
   ]
  },
  {
   "cell_type": "markdown",
   "metadata": {},
   "source": [
    "You've now created a repository, published the repository to GitHub, made a commit, and pushed your changes to GitHub. You can follow this same workflow when contributing to other projects that you create or collaborate on."
   ]
  }
 ],
 "metadata": {
  "kernelspec": {
   "display_name": "Python 3",
   "language": "python",
   "name": "python3"
  },
  "language_info": {
   "codemirror_mode": {
    "name": "ipython",
    "version": 3
   },
   "file_extension": ".py",
   "mimetype": "text/x-python",
   "name": "python",
   "nbconvert_exporter": "python",
   "pygments_lexer": "ipython3",
   "version": "3.8.3"
  }
 },
 "nbformat": 4,
 "nbformat_minor": 4
}
