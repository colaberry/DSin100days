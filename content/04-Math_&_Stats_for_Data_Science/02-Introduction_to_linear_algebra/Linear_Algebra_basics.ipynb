{
 "cells": [
  {
   "cell_type": "markdown",
   "metadata": {
    "tags": [
     "s1",
     "content",
     "l1"
    ]
   },
   "source": [
    "# Linear Algebra - Basics\n",
    "\n",
    "# Introduction to Linear Algebra\n",
    "\n",
    "Linear algebra involves calculations such as additions and subtractions with data structures that include more than 1 dimension. \n",
    "\n",
    "For instance:\n",
    "```Python\n",
    "# The length of a single line can be 10 cm therefore we only need one dimension to store\n",
    "line = 10\n",
    "```\n",
    "In this case dimension refers to the number of features of an object.\n",
    "Object: line\n",
    "Feature: length\n",
    "\n",
    "If we change the object to a Rectangle, we know that we have to work with 2 features, Length and width. Assuming the length and width it 5 and 6.\n",
    "Object: Square\n",
    "Feature: Length and Width\n",
    "```Python \n",
    "Square = [5, 6]\n",
    "```\n",
    "That is the representation in 2 Dimension or 2D. But if you are confused between line and squre as to how they will represented in each other dimensions:\n",
    "```Python\n",
    "# Line and Square in 2D\n",
    "line = [10, 0]\n",
    "square = [5, 6]\n",
    "```\n",
    "Square cannot be represented in the 1D since its features are more than 1. \n",
    "\n",
    "In this section, we will learn to comprehend variables like the above. <br>\n",
    "This is a process for learning data manipulation and extracting useful trends from the data that we will understand in the later parts of the course. Linear algebra will also help with representing different features in the data.\n",
    "\n",
    "### Excercise\n",
    "<ol>\n",
    "    <li>Represent a Square with 8 cm of length and 10 cm of width in 3D space that also has Height and Print it</li>\n",
    "    <li> Represent a triangle with sides 2,4,5 cm long in a 4D space with height and print it.</li>\n",
    "</ol>"
   ]
  },
  {
   "cell_type": "code",
   "execution_count": 4,
   "metadata": {},
   "outputs": [],
   "source": [
    "# Write your solution Here\n",
    "import numpy as np\n",
    "sqaure = [8, 10]\n",
    "triangle = [2, 4, 5]"
   ]
  },
  {
   "cell_type": "markdown",
   "metadata": {},
   "source": [
    "```Python\n",
    "# Solution\n",
    "import numpy as np\n",
    "sqaure = [8, 10]\n",
    "triangle = [2, 4, 5]\n",
    "\n",
    "# Answers\n",
    "sqaure = [8, 10, 0]\n",
    "triangle = [2, 4, 5, 0]\n",
    "```"
   ]
  },
  {
   "cell_type": "markdown",
   "metadata": {},
   "source": [
    "### Couple of Concepts to keep in Mind\n",
    "#### Coordinates\n",
    "```\n",
    "coords = [(1,2),(2,4),(3,6),(4,8),(5,10),(6,12)]\n",
    "```\n",
    "These represent a point in a multi-dimension space. The idea being that a Coordinate represents location in the space. \n",
    "In our space we can only represent upto three dimensions, height, weight, and length. In the above example, we have 2D dimensional coordinates on an XY plane.\n",
    "<br>\n",
    "<img src=\"scatter2D.png\" align=left width=250 height=300>\n",
    "```Python\n",
    "#Code\n",
    "from matplotlib import pyplot as plt\n",
    "X = [1,2,3,4,5,6]\n",
    "Y = [2,4,6,8,10,12]\n",
    "plt.scatter(X,Y)\n",
    "```\n",
    "\n",
    "<br><br><br><br>\n",
    "#### Line in 2D\n",
    "<img src=\"LinearPlot.png\" align=left width=250 height=300>\n",
    "\n",
    "```Python\n",
    "#Code\n",
    "from matplotlib import pyplot as plt\n",
    "X = [1,2,3,4,5,6]\n",
    "Y = [2,4,6,8,10,12]\n",
    "plt.scatter(X,Y)\n",
    "```\n",
    "\n",
    "<br><br><br><br>\n",
    "#### Line representation in 3D (Hyperplane)\n",
    "<img src=\"3D_v.png\" align=left width=250 height=300>\n",
    "\n",
    "In this we have 3 variables X,Y and z which calculated in the form of an equation \n",
    "in this case z = x + y + 1\n",
    "```Python\n",
    "import pandas as pd\n",
    "import plotly.graph_objs as go\n",
    "import numpy as np\n",
    "\n",
    "from plotly.offline import download_plotlyjs, init_notebook_mode, plot, iplot\n",
    "init_notebook_mode(connected=True)\n",
    "\n",
    "def get_zvalue(radio_max,tv_max):\n",
    " \n",
    "    y = [1,2,3,4,5,6,7,8]\n",
    "    x = [1,2,3,4,5,6,7,8]\n",
    "    intercept = 1\n",
    "    coef = [0.23, 0.48] \n",
    "    \n",
    "    B1, B2 = np.meshgrid(x, y, indexing='xy')\n",
    "    Z = np.zeros((len(y), len(x)))\n",
    "\n",
    "    # Here is the place where we tilt and elevate the hyperplane\n",
    "    for (i,j),v in np.ndenumerate(Z):\n",
    "            Z[i,j] =(intercept + (B1[i,j])*coef[0] + B2[i,j]*coef[1])\n",
    "    return Z\n",
    "\n",
    "def getData():\n",
    "    trace1 = go.Surface(z=get_zvalue(0,0), showscale=True, opacity=0.9)\n",
    "    data = [trace1]\n",
    "    return data\n",
    "\n",
    "def getLayout():\n",
    "    layout0 = go.Layout(\n",
    "                    scene = dict(\n",
    "                        xaxis = dict(\n",
    "                            title='(X)'),\n",
    "                        yaxis = dict(\n",
    "                            title='(Y)'),\n",
    "                        zaxis = dict(\n",
    "                            title='(Z)')),\n",
    "                margin={'l': 0, 'b': 0, 't': 0, 'r': 0},\n",
    "                hovermode='closest'\n",
    "        )\n",
    "    return layout0\n",
    "\n",
    "iplot({'data' : getData(), 'layout' : getLayout()})\n",
    "```\n",
    "\n"
   ]
  },
  {
   "cell_type": "markdown",
   "metadata": {},
   "source": [
    "## Scalars, Vectors, Matrices and Tensors\n",
    "\n",
    "A single number (generally rational number) is called a <b>scalar</b>. <br>\n",
    "A single point in space can be represented by a set of co-ordinates or scalars, and this is called a <b>vector</b>. <br>\n",
    "In programming parlance, a vector is an array of numbers (scalars). \n",
    "\n",
    "A <b>Matrix</b> is a 2-dimensional array of numbers, or a collection of vectors. <br>\n",
    "A <b>tensor</b> is a multi-dimensional array.\n",
    "\n",
    "<img src=\"https://s3.amazonaws.com/refactored/images/ML/images/svmt_new.png\", style=\"width:70%;\">\n",
    "\n",
    "A 'scalar' can be a numeric variable, an numpy array with numbers is a 'vector'. Similarly, a two-dimensional array can be a matrix and a multi-dimensional array is a 'tensor'. A tensor is generally defined as a geometric object which could represent the linear relationship between scalars, vectors or other tensors (Source: Wikipedia).\n",
    "\n",
    "<b>fluid dynamics</b>\n",
    "\n",
    "\n",
    "## Matrix Operations - Addition, Subtraction, Multiplication, Transpose and Inverse\n",
    "\n",
    "### Addition and Subtraction\n",
    "\n",
    "Two matrices can be added, only if they have the same dimensions. \n",
    "Dimensions constitute a matrix's column and row length. <br>\n",
    "While implementing matrices using numpy arrays, the shapes of both arrays need to match in order to perform addition. Same rules hold true for subtraction. For these operations, matrices can be treated as variables and '+' and '-' operators can be used to perform addition and subtraction.\n",
    " \n",
    "Addition\n",
    "\n",
    "$\\left[\\begin{array}{cc}x_{11} & x_{12}\\\\x_{21} & x_{22}\\\\\\end{array}\\right] + \\left[\\begin{array}{cc}y_{11} & y_{12}\\\\y_{21} & y_{22}\\\\\\end{array}\\right]$ = $\\left[\\begin{array}{cc}(x_{11}+y_{11}) & (x_{12}+y_{12})\\\\(x_{21}+y_{21}) & (x_{22}+y_{22})\\\\\\end{array}\\right]$\n",
    "\n",
    "<br>\n",
    "Subtraction\n",
    "\n",
    "$\\left[\\begin{array}{cc}x_{11} & x_{12}\\\\x_{21} & x_{22}\\\\\\end{array}\\right] - \\left[\\begin{array}{cc}y_{11} & y_{12}\\\\y_{21} & y_{22}\\\\\\end{array}\\right]$ = $\\left[\\begin{array}{cc}(x_{11}-y_{11}) & (x_{12}-y_{12})\\\\(x_{21}-y_{21}) & (x_{22}-y_{22})\\\\\\end{array}\\right]$\n",
    "<br>\n",
    "\n",
    "### Mutliplication \n",
    "\n",
    "Two matrices can be multiplied with each other if the number of columns of the first matrix is equal to the number of rows of the second matrix. \n",
    "\n",
    "<img src=\"https://s3.amazonaws.com/refactored/images/ML/images/matmul.png\", style=\"width:70%;\">\n",
    "\n",
    "The product of two matrices results in a matrix with dimensions as number of rows equal to that of the first matrix and number of columns equal to that of the second matrix. \n",
    "\n",
    "An element in the product is derived by the sum of products of elements in rows of first matrix and columns of second matrix. \n",
    "\n",
    "\n",
    "It is for this reason that length of each row in first matrix (i.e. number of columns in first matrix) should be equal to the length of each column in second matrix (i.e. number of rows in second matrix). \n",
    "\n",
    "$\\left[\\begin{array}{cc}x_{11} & x_{12}\\\\x_{21} & x_{22}\\\\x_{31} & x_{32}\\\\\\end{array}\\right] * \\left[\\begin{array}{cc}y_{11} & y_{12} & y_{13} & y_{14}\\\\y_{21} & y_{22} & y_{23} & y_{24}\\\\\\end{array}\\right]$ = $\\left[\\begin{array}{cc}(x_{11}*y_{11})+(x_{12}*y_{21}) & (x_{11}*y_{12})+(x_{12}*y_{22}) & (x_{11}*y_{13})+(x_{12}*y_{23}) & (x_{11}*y_{14})+(x_{12}*y_{24})\\\\(x_{21}*y_{11})+(x_{22}*y_{21}) & (x_{21}*y_{12})+(x_{22}*y_{22}) & (x_{21}*y_{13})+(x_{22}*y_{23}) & (x_{21}*y_{14})+(x_{22}*y_{24})\\\\(x_{31}*y_{11})+(x_{32}*y_{21}) & (x_{31}*y_{12})+(x_{32}*y_{22}) & (x_{31}*y_{13})+(x_{32}*y_{23}) & (x_{31}*y_{14})+(x_{32}*y_{24})\\\\\\end{array}\\right]$\n",
    "<br>\n",
    "\n",
    "This operation can be acheived by using either the 'dot' (dot product) function or the 'matmul' function in numpy module. These functions generally take two arguments, the two matrices which should be multiplied.\n",
    "\n",
    "\n",
    "### Exercise\n",
    "\n",
    "Perform addition, subtraction and multiplication operations on the given matrices. Store the result in 3 variables - addition, subtraction and multiplication and print them out."
   ]
  },
  {
   "cell_type": "code",
   "execution_count": 3,
   "metadata": {
    "tags": [
     "s1",
     "ce",
     "l1"
    ]
   },
   "outputs": [],
   "source": [
    "# Write\n",
    "import numpy as np\n",
    "\n",
    "a = np.array([[1,2],[3,4]])\n",
    "b = np.array([[1,1],[1,1]])\n",
    "\n",
    "# addition = \n",
    "# subtraction = \n",
    "# multiplication = "
   ]
  },
  {
   "cell_type": "markdown",
   "metadata": {
    "tags": [
     "s1",
     "l1",
     "ans"
    ]
   },
   "source": [
    " ```Python\n",
    "# Solution\n",
    "import numpy as np\n",
    "\n",
    "a = np.array([[1,2],[3,4]])\n",
    "b = np.array([[1,1],[1,1]])\n",
    "\n",
    "addition = a+b\n",
    "subtraction = a-b\n",
    "multiplication = np.matmul(a,b)\n",
    "\n",
    "print('Addition: ', addition,\"\\n\",'Subtraction: ', subtraction,\"\\n\",'Multiplication: ',multiplication)\n",
    "```"
   ]
  },
  {
   "attachments": {
    "image.png": {
     "image/png": "[encoded data removed]"
    }
   },
   "cell_type": "markdown",
   "metadata": {
    "tags": [
     "l2",
     "content",
     "s2"
    ]
   },
   "source": [
    "\n",
    "<br/><br/><br/>\n",
    "### Transpose\n",
    "\n",
    "A transpose of a matrix is another matrix which results from transforming all the rows of elements of the original matrix into columns. If the order or shape of the matrix is $(i,j)$ then the transpose of this matrix will have a shape of $(j,i)$. The transposed matrix is annotated with a $T$.\n",
    "\n",
    "![image.png](attachment:image.png)\n",
    "\n",
    "$\\left(\\left[\\begin{array}{cc}x_{11} & x_{12}\\\\x_{21} & x_{22}\\\\\\end{array}\\right]\\right)^T$ = $\\left[\\begin{array}{cc}x_{11} & x_{21}\\\\x_{12} & x_{22}\\\\\\end{array}\\right]$\n",
    "\n",
    "numpy.transpose() method can be used to find out the transpose of a matrix.\n",
    "\n",
    "### Inverse of a Matrix\n",
    "\n",
    "In mathematics, we have the concept of 'reciprocal'. \n",
    "Use:- <br>\n",
    "Matrix M * (Reciprocal of M) = 1\n",
    "\n",
    "Similarly, there is a matrix called 'Identity matrix' which is analogous to the '1' among numbers i.e a matrix that has all elements as zero except the ones forming the longest diagnal line from left to right.\n",
    "\n",
    "Identity Matrix $(2x2)$ = $\\left[\\begin{array}{cc}1 & 0\\\\0 & 1\\\\\\end{array}\\right]$\n",
    "\n",
    "Identity Matrix $(3x3)$ = $\\left[\\begin{array}{cc}1 & 0 & 0\\\\0 & 1 & 0\\\\0 & 0 & 1\\\\\\end{array}\\right]$\n",
    "\n",
    "The Inverse of a matrix is the matrix which when multiplied with the original matrix, results in a Identity matrix.\n",
    "\n",
    "**<font size=\"3\">A <font face=\"Times New Roman\">*</font> A<sup>-1</sup> <font face=\"Times New Roman\">=</font> I</font>**\n",
    "\n",
    "<b>Note that Inverse concept among matrices is applicable only in the case of square matrices.</b>\n",
    "\n",
    "The Inverse of a matrix can be determined by using the 'inv' function of 'linalg' sub-module of numpy ($numpy.linalg.inv()$). This function can be performed on a numpy array (matrix).\n",
    "\n",
    "<b>Generating Identity matrices in numpy:</b> numpy.eye() method can be used to generate an identity matrix. The argument 'N', is an integer which determines the order of the square matrix. E.g., numpy.eye(2) generates a 2x2 identity matrix and numpy.eye(3) generates a 3x3 matrix and so on.\n",
    "\n",
    "<b>allclose and array_equal functions:</b> numpy.array_equal() method can be used to test whether two arrays are equal to each other in terms of shape and elements. numpy.allclose() function performs the same operation but it has tolerance while matching elements, which enables it to compare floating point elements with varying accuracies/decimals.\n",
    "\n",
    "The above two methods can be used to verify if a matrix is indeed an inverse of another matrix.\n",
    "\n",
    "numpy.allclose(numpy.matmul(a,b),numpy.eye(order of a or b))\n",
    "\n",
    "Here, order of matrix 'a' should be equal to matrix 'b' and they both should be square matrices. Hence, shape of a and b will be (i,i) and order of a or b would be just 'i' and not (i,i). The above functions returns 'true' if b is an inverse of a, and 'false' if it is not.\n",
    "\n",
    "### Exercise\n",
    "\n",
    "Find out the transpose and inverse of the given matrix. Store the results in variables called 'atranspose' and 'ainverse' respectively and print them out. Also verify "
   ]
  },
  {
   "cell_type": "code",
   "execution_count": 7,
   "metadata": {
    "tags": [
     "l2",
     "ce",
     "s2"
    ]
   },
   "outputs": [],
   "source": [
    "# Write your solutions here \n",
    "a = np.array([[1,2],[3,4]])\n",
    "\n",
    "# atranspose = \n",
    "# ainverse = "
   ]
  },
  {
   "cell_type": "markdown",
   "metadata": {
    "tags": [
     "l2",
     "s2",
     "ans"
    ]
   },
   "source": [
    "```Python\n",
    "# Solution\n",
    "a = np.array([[1,2],[3,4]])\n",
    "\n",
    "atranspose = np.transpose(a)\n",
    "ainverse = np.linalg.inv(a)\n",
    "print(atranspose,\"\\n\",ainverse)\n",
    "np.allclose(np.matmul(a,ainverse),np.eye(2))\n",
    "```"
   ]
  },
  {
   "cell_type": "markdown",
   "metadata": {
    "tags": [
     "l3",
     "s3",
     "content"
    ]
   },
   "source": [
    "\n",
    "<br/><br/><br/>\n",
    "## Vector Operations - Dot Product and Cross Product\n",
    "\n",
    "Assume two vectors, 'a' and 'b' having elements **(x<sub>1</sub>,x<sub>2</sub>,x<sub>3</sub>)** and **(y<sub>1</sub>,y<sub>2</sub>,y<sub>3</sub>)** respectively.\n",
    "\n",
    "Dot product of a and b is:<br>\n",
    "**a.b = x<sub>1</sub>y<sub>1</sub> + x<sub>2</sub>y<sub>2</sub> + x<sub>3</sub>y<sub>3</sub>**<br>\n",
    "The dot product of two vectors returns a scalar values.  <br>\n",
    "\n",
    "According to the law of cosines, dot product can also be written as:<br>\n",
    "**a.b = ||a|| ||b|| cos($\\theta$)**<br>\n",
    "\n",
    "Cross product of a and b is:<br>\n",
    "**axb = $\\left|\\begin{array}{cc}x_{2} & x_{3}\\\\y_{2} & y_{3}\\\\\\end{array}\\right|i - \\left|\\begin{array}{cc}x_{1} & x_{3}\\\\y_{1} & y_{3}\\\\\\end{array}\\right|j + \\left|\\begin{array}{cc}x_{1} & x_{2}\\\\y_{1} & y_{2}\\\\\\end{array}\\right|k $**<br>\n",
    "The cross product of two vectors returns another vector. \n",
    "\n",
    "It can also be written geometrically as:<br>\n",
    "**||axb|| = ||a|| ||b|| sin($\\theta$) **<br>\n",
    "\n",
    "Dot product for one-dimensional arrays or vectors can be performed using numpy.dot() method where it will return inner product of the two vectors (for matrices the same function returns matrix multiplication result). Cross product of two one-dimensional vectors can be found by using the method numpy.cross().\n",
    "\n",
    "### Exercise\n",
    "\n",
    "Find the dot product and cross product for the given vectors. Store the result in variables prod_dot and prod_cross, and print them out."
   ]
  },
  {
   "cell_type": "code",
   "execution_count": 20,
   "metadata": {
    "collapsed": true,
    "tags": [
     "l3",
     "s3",
     "ce"
    ]
   },
   "outputs": [],
   "source": [
    "vector_one = np.array([1,2,3])\n",
    "vector_two = np.array([1,1,1])\n",
    "\n",
    "# prod_dot =\n",
    "# prod_cross ="
   ]
  },
  {
   "cell_type": "markdown",
   "metadata": {
    "tags": [
     "l3",
     "s3",
     "hint"
    ]
   },
   "source": [
    "### Hint"
   ]
  },
  {
   "cell_type": "markdown",
   "metadata": {
    "tags": [
     "l3",
     "s3",
     "ans"
    ]
   },
   "source": [
    "```Python\n",
    "# Solution\n",
    "vector_one = np.array([1,2,3])\n",
    "vector_two = np.array([1,1,1])\n",
    "\n",
    "prod_dot = np.dot(vector_one, vector_two)\n",
    "prod_cross = np.cross(vector_one, vector_two)\n",
    "\n",
    "print('Dot Product: ', prod_dot,\"\\n\",'Cross Product: ',prod_cross)\n",
    "```"
   ]
  },
  {
   "cell_type": "markdown",
   "metadata": {
    "tags": [
     "l4",
     "s4",
     "content"
    ]
   },
   "source": [
    "<br/><br/><br/>\n",
    "## Norm of a vector and types of vectors\n",
    "\n",
    "The norm of a vector is a numeric value which represents the lenght or size of the vector. It is defined as\n",
    "\n",
    "**L<sup>p</sup> = ||x||<sub>p</sub> = ($\\sum_{i}$|x<sub>i</sub>|<sup>p</sup>)<sup>1/p</sup>**\n",
    "\n",
    "1. L<sup>1</sup> Norm: It is also known as least absolute error <br>\n",
    "If x = [1,-2,3], then<br>\n",
    "**L<sup>1</sup> of x = |x<sub>1</sub>| + |x<sub>2</sub>| + |x<sub>3</sub>| = |1| + |-2| + |3| = 6**<br><br>\n",
    "\n",
    "2. L<sup>2</sup> Norm: It is also known as least squares <br>\n",
    "For x, as given above<br>\n",
    "**L<sup>2</sup> of x = $\\sqrt{|x_{1}|^{2} + |x_{2}|^{2} + |x_{3}|^{2}}$ = $\\sqrt{|1|^{2} + |-2|^{2} + |3|^{2}}$ = $\\sqrt{14}$ = 3.74165**<br><br>\n",
    "\n",
    "3. L<sup>$\\infty$</sup> Norm: It is called as max norm <br>\n",
    "For x, given above<br>\n",
    "**L<sup>$\\infty$</sup> of x = max{|x<sub>i</sub>|: i = 1,2,3....} = max{|1|,|-2|,|3|} = 3**\n",
    "\n",
    "Norm of a vector can be calculated using the method numpy.linalg.norm(). The function takes at least two arguments, i.e., the vector (numpy array) and the order of the norm. The default value for order of norm is 2. So when no 'order' argument is specified, the function calculates the second order norm by default.\n",
    "\n",
    "For e.g., numpy.linalg.norm(a, 2)\n",
    "\n",
    "### Angle Between Vectors\n",
    "\n",
    "<img src=\"../images/dbv.png\", style=\"width:70%;\">\n",
    "\n",
    "The L<sup>2</sup> Norm can also be written as <br>\n",
    "**(a<sup>T</sup>)(b) = ||a||<sub>2</sub> ||b||<sub>2</sub> cos($\\theta$)** <br>\n",
    "where $\\theta$ is the angle between the two vectors a and b. <br>\n",
    "\n",
    "Calculating the angle between two vectors is not a straight forward process in Python The following steps can be followed in order to find out the angle between any two vectors.\n",
    "\n",
    "1. Normalize the given vectors: Normalizing is the process of converting the length of a vector to '1' while preserving the direction of the vector. This can be done by dividing the vector with its second order norm.\n",
    "2. Dot product of Normalized vectors: Find out the dot product of the normalized vectors from above step using the numpy.dot function.\n",
    "3. Clipping the value of the dot product: As we are trying to calculate the angle between vectors using the law of cosines, we should note that the cosine function has a maximum value of '1' and minimum value of '-1'. The dot product calculated in previous step cannot have a value beyond these bounds. Hence we use the 'numpy.clip()' function to limit the result of the dot product. If the value of the dot product of the normalized vectors falls within -1 and 1, it retains its value. If it is less than -1 it assumes a value of -1 and if greater than 1, then it assumes a value of 1.\n",
    "4. Calculating angle using **cos<sup>-1</sup>** function: We have a value between -1 and 1 which we need to use to calculate the possible angle using the inverse cosine function. This can be acheived using the 'numpy.arccos()' function. Note that the arccos() function returns the angle in radians. In order to convert this result into degrees, the 'numpy.degrees()' function can be used.\n",
    "\n",
    "### Special Vectors and Matrices\n",
    "\n",
    "\n",
    "If a and b are non-zero vectors and **(a<sup>T</sup>)(b) = 0**, then it implies that **cos($\\theta$) = 0**. So, the angle between a and b would be 90 degrees and in such a condition a and b are called orthogonal vectors (with respect to each other).\n",
    "\n",
    "* Symmetric Matrix: If **a = a<sup>T</sup>** then 'a' is a symmetric matrix\n",
    "* Orthogonal Matrix: If **a<sup>-1</sup> = a<sup>T</sup>** then 'a' is called an orthogonal matrix.\n",
    "\n",
    "### Exercise\n",
    "\n",
    "* Find out the second degree norms of given vectors 'v_one' and 'v_two'. Assign the norms to two variables 'v_one_norm' and 'v_two_norm' and print them out.\n",
    "* Normalize 'v_one' and 'v_two' by dividing them with their respective norms. Store the values in two variables called 'v_one_normvec' and 'v_two_normvec' and print them out.\n",
    "* Calculate the angle between 'v_one' and 'v_two'. Use the numpy.degrees function to convert the result of numpy.arccos function from radian into degrees. Assign the angle to a variable 'v_angle' and print it out.\n",
    "* Are 'v_one' and 'v_two' orthogonal vectors? If yes, store 'True' in the variable 'v_ortho' else store 'False'."
   ]
  },
  {
   "cell_type": "code",
   "execution_count": 23,
   "metadata": {
    "collapsed": true,
    "tags": [
     "l4",
     "s4",
     "ce"
    ]
   },
   "outputs": [],
   "source": [
    "v_one = np.array([1,2,1])\n",
    "v_two = np.array([3,4,5])\n",
    "\n",
    "# Modify this code\n",
    "\n",
    "# v_one_norm = \n",
    "# v_two_norm =\n",
    "# v_one_normvec =\n",
    "# v_two_normvec =\n",
    "# v_angle = \n",
    "# v_ortho ="
   ]
  },
  {
   "cell_type": "markdown",
   "metadata": {
    "tags": [
     "s4",
     "l4",
     "ans"
    ]
   },
   "source": [
    "```Python\n",
    "# Solution\n",
    "v_one = np.array([1,2,1])\n",
    "v_two = np.array([3,4,5])\n",
    "\n",
    "v_one_norm = np.linalg.norm(v_one,2)\n",
    "v_two_norm = np.linalg.norm(v_two,2)\n",
    "print(v_one_norm,v_two_norm)\n",
    "\n",
    "v_one_normvec = v_one/v_one_norm\n",
    "v_two_normvec = v_two/v_two_norm\n",
    "print(v_one_normvec,v_two_normvec)\n",
    "\n",
    "v_angle = np.degrees(np.arccos(np.clip(np.dot(v_one_normvec,v_two_normvec),-1.0,1.0)))\n",
    "print(v_angle)\n",
    "\n",
    "if round(v_angle,2) == 90.00:\n",
    "    v_ortho = True\n",
    "else:\n",
    "    v_ortho = False\n",
    "    \n",
    "print(v_ortho)\n",
    "```"
   ]
  }
 ],
 "metadata": {
  "executed_sections": [],
  "kernelspec": {
   "display_name": "Python 3",
   "language": "python",
   "name": "python3"
  },
  "language_info": {
   "codemirror_mode": {
    "name": "ipython",
    "version": 3
   },
   "file_extension": ".py",
   "mimetype": "text/x-python",
   "name": "python",
   "nbconvert_exporter": "python",
   "pygments_lexer": "ipython3",
   "version": "3.6.5"
  }
 },
 "nbformat": 4,
 "nbformat_minor": 2
}
