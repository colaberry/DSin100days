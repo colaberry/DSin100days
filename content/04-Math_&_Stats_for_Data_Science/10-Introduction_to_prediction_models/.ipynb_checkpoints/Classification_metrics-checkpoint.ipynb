{
 "cells": [
  {
   "cell_type": "markdown",
   "metadata": {},
   "source": [
    "# Classification Metrics\n",
    "\n",
    "## Introduction\n",
    "In this section of the notebook, we will learn about the various methods in which our models can be judged for their strength, these are called Metrics. <br>\n",
    "Each Metric paints a different story of the model. Having the knowledge of multiple metrics allows a Data Scientist to have a larger understanding of how to measure accuracy in unique scenarios. <br>\n",
    "\n",
    "One of the most useful tools for Metric estimation is the <b>Confusion Matrix</b>.<br>\n",
    "In order to understand its importance we need to observe in action. Therefore, we will begin by running a classification on a dataset. \n",
    "We will be using the Breast Cancer dataset which contains 13 features to determine if the datapoint results in cancer (1) or not (0). The process below is as follows:-\n",
    "<ol>\n",
    "    <li>Block 1: We will be just import the necessary libraries to run a simple classification</li>\n",
    "    <li>Block 2:</li> \n",
    "    <ol>\n",
    "        <li>We are simply spliting the dataset to create a training set and a test set.</li>\n",
    "        <li>Then we instantiate a classifier and then run a classification</li>\n",
    "        <li>In the end we acqure the predicted values and we use the results to make a confusion matrix</li>\n",
    "    </ol>\n",
    "    \n",
    "</ol>\n",
    "\n",
    "```Python\n",
    "################### Block 1 - Importing Libraries #############################################\n",
    "from sklearn.datasets import load_breast_cancer\n",
    "from sklearn.ensemble import RandomForestClassifier\n",
    "from sklearn.model_selection import train_test_split\n",
    "import numpy as np\n",
    "import pandas as pd\n",
    "\n",
    "################### Block 2 - Running a Classification #############################################\n",
    "X = pd.DataFrame(load_breast_cancer()['data']).iloc[:, :2].values\n",
    "y = load_breast_cancer()['target']\n",
    "X_train, X_test, y_train, y_test = train_test_split(X, y, test_size=0.33, random_state=42)\n",
    "cls = RandomForestClassifier(n_estimators=90)\n",
    "cls = cls.fit(X_train,  y_train.reshape((-1,)))\n",
    "y_pred = cls.predict(X_test)\n",
    "mat = confusion_matrix(y_test, y_pred)\n",
    "```"
   ]
  },
  {
   "cell_type": "code",
   "execution_count": 1,
   "metadata": {
    "ExecuteTime": {
     "end_time": "2019-02-27T19:16:46.166560Z",
     "start_time": "2019-02-27T19:16:46.160574Z"
    },
    "hide_input": true
   },
   "outputs": [],
   "source": [
    "# No Exercise Here\n"
   ]
  },
  {
   "cell_type": "markdown",
   "metadata": {
    "hide_input": true
   },
   "source": [
    "### No Solution Here"
   ]
  },
  {
   "cell_type": "markdown",
   "metadata": {},
   "source": [
    "## Confusion Matrix\n",
    "A confusion Matrix is a data structure that helps users with estimating a model's performance. <br>It requires 2 objects <br>(1) A list of true values of the tested data points and<br> (2) A list of the predicted values of your model. <br>\n",
    "\n",
    "<img src='Images/confusion_matrix.png' width=\"350\" height=\"200\">\n",
    "\n",
    "The above diagram depicts a confusion matrix for a dataset that has 2 classes. <br>\n",
    "From the diagram it can be observed that the matrix splits the number of correctly predicted values from the incorrect ones. <br>\n",
    "Lets begin from the True Values:-<br>\n",
    "We have <br>\n",
    "<ol>\n",
    "    <li>Negative</li>\n",
    "        With in True values (<b>Values which are established to be correct</b>) we have the values whose class is represented by being <b>Negative</b> (0)\n",
    "    <li>Positive</li>\n",
    "    With in True values we have the values whose class is represented by being <b>Positive</b> (1)\n",
    "</ol>\n",
    "\n",
    "and similarly in the Predicted value section, we see we have the negatively and positively predicted values <b>from the model</b>\n",
    "\n",
    "\n",
    "<ul>\n",
    "    <li><u>True Negative</u></li>\n",
    "<small>\n",
    "    These Values are <i>correctly</i> predicted values which are Negative\n",
    "</small>\n",
    "\n",
    "<li><u>False Negative</u></li>\n",
    "<small>\n",
    "    These Values are <i>incorrectly</i> predicted values which are supposed to be Positives but were classified as Negatives\n",
    "</small>\n",
    "\n",
    "<li><u>True Positive</u></li>\n",
    "<small>\n",
    "    These Values are <i>correctly</i> predicted values which are Positive\n",
    "</small>\n",
    "\n",
    "<li><u>False Positive</u></li>\n",
    "<small>\n",
    "    These Values are <i>incorrectly</i> predicted values which are supposed to be Negativses but were classifies as Positives\n",
    "</small>\n",
    "</ul>\n",
    "\n",
    "\n",
    "We can access the Confusion Matrix method from sklearn.metrics \n",
    "\n",
    "```Python\n",
    "print('Confusion Matrix\\n', mat)\n",
    "```\n",
    "<img src=\"Images/mat.PNG\" width=\"150\" height=\"150\">\n",
    "\n",
    "<h4>The number of True Negatives: 57</h4>\n",
    "\n",
    "```Python\n",
    "TN = mat[0][0]\n",
    "```\n",
    "\n",
    "<h4>The number of True Positives: 111</h4>\n",
    "\n",
    "```Python\n",
    "TP = mat[0][1]\n",
    "```\n",
    "\n",
    "<h4>The number of False Negatives: 10</h4>\n",
    "\n",
    "```Python\n",
    "FN = mat[1][0]\n",
    "```\n",
    "\n",
    "<h4>The number of False Positives: 10</h4>\n",
    "\n",
    "```Python\n",
    "TP = mat[1][1]\n",
    "```"
   ]
  },
  {
   "cell_type": "code",
   "execution_count": 2,
   "metadata": {
    "ExecuteTime": {
     "end_time": "2019-02-27T19:16:46.312139Z",
     "start_time": "2019-02-27T19:16:46.306188Z"
    }
   },
   "outputs": [],
   "source": [
    "# No Exercises Here"
   ]
  },
  {
   "cell_type": "markdown",
   "metadata": {
    "hide_input": true
   },
   "source": [
    "### No Solution Here"
   ]
  },
  {
   "cell_type": "markdown",
   "metadata": {},
   "source": [
    "## Model Evaluations\n",
    "\n",
    "Since, now we have access to a confusion matrix, we can now calculate different metrics based on the data we created previously.<br>\n",
    "We will be using the example matrix mat, we will be using it. Metrics that can be calculated with a confusion matrix: \n",
    "<br>\n",
    "<ol>\n",
    "<li>Accuracy Score:-</li> Gives the ratio of correctly predicted values against the the whole set of values<br>\n",
    "Score: (TP+TN)/(TP+TN+FP+FN)\n",
    "\n",
    "```Python\n",
    "accuracy_score = (mat[0][0] + mat[1][1])/(mat[0][0] + mat[0][1] + mat[1][0] + mat[1][1])\n",
    "```\n",
    "<li>Recall Score:-</li> Gives the ratio of Positively correctly predicted values against all the correctly predicted values<br>\n",
    "Score:  TP/(TP+FN)\n",
    "\n",
    "```Python\n",
    "recall_score = mat[1][1]/(mat[0][0]+mat[1][1])\n",
    "```\n",
    "<li>Precision Score:-</li> Gives the ratio of Positively correctly predicted values against all the Predicted values<br>\n",
    "Score:  TP/(TP+FP)\n",
    "\n",
    "```Python\n",
    "precision_score = mat[1][1]/(mat[1][1]+mat[1][0])\n",
    "```\n",
    "<li>F1 Score:-</li> It is a good metric to be relied on when the parts of the confusion_mtrix too one-sided <br>\n",
    "Score: (2* precision_score * recall)/( precision_score + recall_score )\n",
    "\n",
    "\n",
    "```Python\n",
    "f1_score = (2* precision_score * recall_score)/( precision_score + recall_score )\n",
    "```\n",
    "</ol>\n",
    "\n",
    "The above discussed scores are all ratios to get the percentage values all we need to do is multiply them by 100\n",
    "\n",
    "<hr>\n",
    "Exercise: For the following established y_true and y_pred values calculate the\n",
    "accuracy_score, recall_score, precision_score, f1_score. <br>\n",
    "Display your values within 2 decimal places, i.e. if the answer is 0.9234 <br>\n",
    "just put 0.92\n",
    "\n"
   ]
  },
  {
   "cell_type": "code",
   "execution_count": 3,
   "metadata": {
    "ExecuteTime": {
     "end_time": "2019-02-27T19:16:47.967740Z",
     "start_time": "2019-02-27T19:16:46.370013Z"
    }
   },
   "outputs": [],
   "source": [
    "# Write your solution here\n",
    "import numpy as np\n",
    "from sklearn.metrics import confusion_matrix\n",
    "np.random.seed(1)\n",
    "y_true = np.random.randint(2, size=20)\n",
    "y_pred = np.random.randint(2, size=20)\n"
   ]
  },
  {
   "cell_type": "markdown",
   "metadata": {
    "hide_input": true
   },
   "source": [
    "### Solution\n",
    "```Python\n",
    "import numpy as np\n",
    "from sklearn.metrics import confusion_matrix\n",
    "np.random.seed(1)\n",
    "y_true = np.random.randint(2, size=20)\n",
    "y_pred = np.random.randint(2, size=20)\n",
    "mat = confusion_matrix(y_true=y_true, y_pred=y_pred)\n",
    "accuracy_score = (mat[0][0] + mat[1][1])/(mat[0][0] + mat[0][1] + mat[1][0] + mat[1][1])\n",
    "recall_score = mat[1][1]/(mat[0][0]+mat[1][1])\n",
    "precision_score = mat[1][1]/(mat[1][1]+mat[1][0])\n",
    "f1_score = (2* precision_score * recall_score)/( precision_score + recall_score )\n",
    "print('Accuracy Score:  {0:.2f}'.format(accuracy_score))\n",
    "print('Recall Score:    {0:.2f}'.format(recall_score))\n",
    "print('Precision Score: {0:.2f}'.format(precision_score))\n",
    "print('F1 Score:        {0:.2f}'.format(f1_score))\n",
    "```\n"
   ]
  },
  {
   "cell_type": "markdown",
   "metadata": {},
   "source": [
    "## ROC Curve\n"
   ]
  },
  {
   "cell_type": "markdown",
   "metadata": {},
   "source": []
  },
  {
   "cell_type": "markdown",
   "metadata": {},
   "source": []
  },
  {
   "cell_type": "code",
   "execution_count": null,
   "metadata": {},
   "outputs": [],
   "source": []
  },
  {
   "cell_type": "code",
   "execution_count": null,
   "metadata": {},
   "outputs": [],
   "source": []
  },
  {
   "cell_type": "code",
   "execution_count": null,
   "metadata": {},
   "outputs": [],
   "source": []
  },
  {
   "cell_type": "code",
   "execution_count": null,
   "metadata": {},
   "outputs": [],
   "source": []
  }
 ],
 "metadata": {
  "celltoolbar": "Edit Metadata",
  "kernelspec": {
   "display_name": "Python 3",
   "language": "python",
   "name": "python3"
  },
  "language_info": {
   "codemirror_mode": {
    "name": "ipython",
    "version": 3
   },
   "file_extension": ".py",
   "mimetype": "text/x-python",
   "name": "python",
   "nbconvert_exporter": "python",
   "pygments_lexer": "ipython3",
   "version": "3.6.4"
  },
  "latex_envs": {
   "LaTeX_envs_menu_present": true,
   "autoclose": true,
   "autocomplete": true,
   "bibliofile": "biblio.bib",
   "cite_by": "apalike",
   "current_citInitial": 1,
   "eqLabelWithNumbers": true,
   "eqNumInitial": 1,
   "hotkeys": {
    "equation": "Ctrl-E",
    "itemize": "Ctrl-I"
   },
   "labels_anchors": false,
   "latex_user_defs": false,
   "report_style_numbering": true,
   "user_envs_cfg": false
  },
  "toc": {
   "base_numbering": 1,
   "nav_menu": {},
   "number_sections": true,
   "sideBar": true,
   "skip_h1_title": false,
   "title_cell": "Table of Contents",
   "title_sidebar": "Contents",
   "toc_cell": false,
   "toc_position": {},
   "toc_section_display": true,
   "toc_window_display": false
  },
  "varInspector": {
   "cols": {
    "lenName": 16,
    "lenType": 16,
    "lenVar": 40
   },
   "kernels_config": {
    "python": {
     "delete_cmd_postfix": "",
     "delete_cmd_prefix": "del ",
     "library": "var_list.py",
     "varRefreshCmd": "print(var_dic_list())"
    },
    "r": {
     "delete_cmd_postfix": ") ",
     "delete_cmd_prefix": "rm(",
     "library": "var_list.r",
     "varRefreshCmd": "cat(var_dic_list()) "
    }
   },
   "types_to_exclude": [
    "module",
    "function",
    "builtin_function_or_method",
    "instance",
    "_Feature"
   ],
   "window_display": false
  }
 },
 "nbformat": 4,
 "nbformat_minor": 2
}
