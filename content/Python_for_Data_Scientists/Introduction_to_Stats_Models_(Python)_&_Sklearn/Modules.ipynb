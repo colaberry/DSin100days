{
 "cells": [
  {
   "cell_type": "markdown",
   "metadata": {},
   "source": [
    "# Introduction to Stats Models (Python) & Sklearn"
   ]
  },
  {
   "cell_type": "markdown",
   "metadata": {},
   "source": [
    "In the section we intend to get exposed to the advanced tools for analysing data. statsmodel is a Python module and sklearn a Library.\n",
    "Lets begin by defining a Python module and Library."
   ]
  },
  {
   "cell_type": "markdown",
   "metadata": {},
   "source": [
    "Module: It is a collection of classes and its methods as well as functions. This can be just a simple function and can be imported by many scripts\n",
    "\n",
    "Library: it is a collection of Modules which helpes using advanced and predefined functions for calculations and manupulation of objects"
   ]
  },
  {
   "cell_type": "markdown",
   "metadata": {},
   "source": [
    "So far we have only explored different ways to manipulate data with the help of objects such as Numpy arrays and lists as well as pandas Dataframes. These objects allow a Data scientist to input and output data and reshape data for the benefit of the classifier/regressor. \n",
    "But is a classifier ?\n",
    "And how is the data put in a sequence which can be available for further analysis ?"
   ]
  },
  {
   "cell_type": "markdown",
   "metadata": {},
   "source": [
    "## statsmodels"
   ]
  },
  {
   "cell_type": "markdown",
   "metadata": {},
   "source": [
    "This module helps with analyzing data and creating statistical models.  \n",
    "In order to understand how to utilise this Module, we also need to have knowledge regarding statistics which we will learn in the sections ahead.\n",
    "\n"
   ]
  },
  {
   "cell_type": "markdown",
   "metadata": {},
   "source": [
    "Regression: Observing how a certain variable reacts or behaves when an another variable is changed. In the simplest scenarios we chose to observe the behaviour of Y when X is changed on 2D Plane. \n",
    "\n",
    "Formula of a line: y = mx + b\n",
    "                   \n",
    "                   m = slope \n",
    "                   b = intercept\n"
   ]
  },
  {
   "cell_type": "code",
   "execution_count": 2,
   "metadata": {},
   "outputs": [],
   "source": [
    "# Import the Libraries\n",
    "import statsmodels.api as sm\n",
    "import pandas as pd\n",
    "from patsy import dmatrices # Don't worry about this for now"
   ]
  },
  {
   "cell_type": "markdown",
   "metadata": {},
   "source": [
    "Currently we are importing pandas library for dataframes data structure\n",
    "\n",
    "And as you can observe in the first line of the previous cell \n",
    "#### import statsmodels.api as sm\n",
    "\n",
    "This is a common way to import a statsmoels module"
   ]
  },
  {
   "cell_type": "code",
   "execution_count": 3,
   "metadata": {
    "scrolled": true
   },
   "outputs": [
    {
     "name": "stdout",
     "output_type": "stream",
     "text": [
      "    dept Region           Department  Crime_pers  Crime_prop  Literacy  \\\n",
      "0      1      E                  Ain       28870       15890        37   \n",
      "1      2      N                Aisne       26226        5521        51   \n",
      "2      3      C               Allier       26747        7925        13   \n",
      "3      4      E         Basses-Alpes       12935        7289        46   \n",
      "4      5      E         Hautes-Alpes       17488        8174        69   \n",
      "5      7      S              Ardeche        9474       10263        27   \n",
      "6      8      N             Ardennes       35203        8847        67   \n",
      "7      9      S               Ariege        6173        9597        18   \n",
      "8     10      E                 Aube       19602        4086        59   \n",
      "9     11      S                 Aude       15647       10431        34   \n",
      "10    12      S              Aveyron        8236        6731        31   \n",
      "11    13      S     Bouches-du-Rhone       13409        5291        38   \n",
      "12    14      N             Calvados       17577        4500        52   \n",
      "13    15      C               Cantal       18070       11645        31   \n",
      "14    16      W             Charente       24964       13018        36   \n",
      "15    17      W  Charente-Inferieure       18712        5357        39   \n",
      "16    18      C                 Cher       21934       10503        13   \n",
      "17    19      C              Correze       15262       12949        12   \n",
      "18    21      E            Cote-d'Or       32256        9159        60   \n",
      "19    22      W        Cotes-du-Nord       28607        7050        16   \n",
      "20    23      C               Creuse       37014       20235        23   \n",
      "21    24      W             Dordogne       21585       10237        18   \n",
      "22    25      E                Doubs       11560        5914        73   \n",
      "23    26      E                Drome       13396        7759        42   \n",
      "24    27      N                 Eure       14795        4774        51   \n",
      "25    28      C         Eure-et-Loir       21368        4016        54   \n",
      "26    29      W            Finistere       29872        6842        15   \n",
      "27    30      S                 Gard       13115        7990        40   \n",
      "28    31      S        Haute-Garonne       18642        7204        31   \n",
      "29    32      S                 Gers       18642       10486        38   \n",
      "..   ...    ...                  ...         ...         ...       ...   \n",
      "56    59      N                 Nord       26740        6175        45   \n",
      "57    60      N                 Oise       28180        6659        54   \n",
      "58    61      N                 Orne       28329        8248        45   \n",
      "59    62      N        Pas-de-Calais       23101        4040        49   \n",
      "60    63      C          Puy-de-Dome       17256       12141        19   \n",
      "61    64      W      Basses-Pyrenees       16722        8533        47   \n",
      "62    65      S      Hautes-Pyrenees       12223        9797        53   \n",
      "63    66      S  Pyrenees-Orientales        6728        7632        31   \n",
      "64    67      E             Bas-Rhin       12309        4920        62   \n",
      "65    68      E            Haut-Rhin        7343        4915        71   \n",
      "66    69      E                Rhone       18793        4504        45   \n",
      "67    70      E          Haute-Saone       22339        7770        59   \n",
      "68    71      E       Saone-et-Loire       28391       10708        32   \n",
      "69    72      C               Sarthe       33913        8294        30   \n",
      "70    75      N                Seine       13945        1368        71   \n",
      "71    76      N     Seine-Inferieure       18355        2906        43   \n",
      "72    77      N       Seine-et-Marne       22201        5786        54   \n",
      "73    78      N        Seine-et-Oise       12477        3879        56   \n",
      "74    79      W          Deux-Sevres       18400        6863        41   \n",
      "75    80      N                Somme       33592        7144        44   \n",
      "76    81      S                 Tarn       13019        6241        20   \n",
      "77    82      S      Tarn-et-Garonne       14790        8680        25   \n",
      "78    83      S                  Var       13145        9572        23   \n",
      "79    84      S             Vaucluse       13576        5731        37   \n",
      "80    85      W               Vendee       20827        7566        28   \n",
      "81    86      W               Vienne       15010        4710        25   \n",
      "82    87      C         Haute-Vienne       16256        6402        13   \n",
      "83    88      E               Vosges       18835        9044        62   \n",
      "84    89      C                Yonne       18006        6516        47   \n",
      "85   200    NaN                Corse        2199        4589        49   \n",
      "\n",
      "    Donations  Infants  Suicides MainCity   ...     Crime_parents  \\\n",
      "0        5098    33120     35039    2:Med   ...                71   \n",
      "1        8901    14572     12831    2:Med   ...                 4   \n",
      "2       10973    17044    114121    2:Med   ...                46   \n",
      "3        2733    23018     14238     1:Sm   ...                70   \n",
      "4        6962    23076     16171     1:Sm   ...                22   \n",
      "5        3188    42117     52547     1:Sm   ...                76   \n",
      "6        6400    16106     26198    2:Med   ...                53   \n",
      "7        3542    22916    123625     1:Sm   ...                74   \n",
      "8        3608    18642     10989    2:Med   ...                77   \n",
      "9        2582    20225     66498    2:Med   ...                80   \n",
      "10       3211    21981    116671    2:Med   ...                51   \n",
      "11       2314     9325      8107     3:Lg   ...                45   \n",
      "12      27830     8983     31807    2:Med   ...                57   \n",
      "13       4093    15335     87338    2:Med   ...                79   \n",
      "14      13602    19454     25720    2:Med   ...                 2   \n",
      "15      13254    23999     16798    2:Med   ...                 3   \n",
      "16       9561    23574     19497    2:Med   ...                69   \n",
      "17      14993    19330     47480    2:Med   ...                86   \n",
      "18       2540    15599     16128    2:Med   ...                49   \n",
      "19      10387    36098     75056    2:Med   ...                 6   \n",
      "20      10997    14363     77823     1:Sm   ...                75   \n",
      "21       4687    21375     36024    2:Med   ...                64   \n",
      "22       3436    12512     40690    2:Med   ...                38   \n",
      "23       2829    16348     23816    2:Med   ...                21   \n",
      "24      11712    16039     13493    2:Med   ...                39   \n",
      "25       4553    14475     15015    2:Med   ...                18   \n",
      "26      23945    28392     25143    2:Med   ...                24   \n",
      "27       3048    28726     18292    2:Med   ...                15   \n",
      "28       2286    15378     56140     3:Lg   ...                62   \n",
      "29       2848    15250     61510    2:Med   ...                43   \n",
      "..        ...      ...       ...      ...   ...               ...   \n",
      "56       6092     8926     13851     3:Lg   ...                14   \n",
      "57       5501    18021      5994    2:Med   ...                31   \n",
      "58       9242    20852     34069    2:Med   ...                29   \n",
      "59       5740    10575     15400    2:Med   ...                36   \n",
      "60       5963    22948     78148    2:Med   ...                42   \n",
      "61       3299    12393     65995    2:Med   ...                34   \n",
      "62       6001    12125    148039    2:Med   ...                85   \n",
      "63      11644    15167     37843    2:Med   ...                67   \n",
      "64      14472    14356     18623     3:Lg   ...                23   \n",
      "65       6001    14783     21233    2:Med   ...                40   \n",
      "66       1983     3910     17003     3:Lg   ...                37   \n",
      "67      11701    11850     39714     1:Sm   ...                25   \n",
      "68       3710    20442     22184    2:Med   ...                11   \n",
      "69       3357    10779     29280    2:Med   ...                41   \n",
      "70       4204     2660      3632     3:Lg   ...                60   \n",
      "71       7245     7506      9523     3:Lg   ...                28   \n",
      "72       5303    16324      7315    2:Med   ...                16   \n",
      "73       4007    16303      3460    2:Med   ...                10   \n",
      "74      16956    25461     24533    2:Med   ...                30   \n",
      "75       4964    12447     12836    2:Med   ...                 7   \n",
      "76       3449    29305     68980    2:Med   ...                13   \n",
      "77       4558    23771     48317    2:Med   ...                66   \n",
      "78       2449    14800     13380    2:Med   ...                55   \n",
      "79       1246    17239     19024    2:Med   ...                61   \n",
      "80      14035    62486     67963     1:Sm   ...                50   \n",
      "81       8922    35224     21851    2:Med   ...                20   \n",
      "82      13817    19940     33497    2:Med   ...                68   \n",
      "83       4040    14978     33029    2:Med   ...                58   \n",
      "84       4276    16616     12789    2:Med   ...                32   \n",
      "85      37015    24743     37016    2:Med   ...                81   \n",
      "\n",
      "    Infanticide  Donation_clergy  Lottery  Desertion  Instruction  \\\n",
      "0            60               69       41         55           46   \n",
      "1            82               36       38         82           24   \n",
      "2            42               76       66         16           85   \n",
      "3            12               37       80         32           29   \n",
      "4            23               64       79         35            7   \n",
      "5            47               67       70         19           62   \n",
      "6            85               49       31         62            9   \n",
      "7            28               63       75         22           77   \n",
      "8            54                9       28         86           15   \n",
      "9            35               27       50         63           48   \n",
      "10            5               23       81         10           44   \n",
      "11           74               55        3         23           43   \n",
      "12           56               11       13         12           22   \n",
      "13           83               66       82          1           51   \n",
      "14            7               81       60         61           47   \n",
      "15           38               72       35         74           42   \n",
      "16           11               86       44         51           83   \n",
      "17           16               82       84          2           86   \n",
      "18           27               18       33         78           13   \n",
      "19           69               15       72         47           80   \n",
      "20           24               75       85          4           71   \n",
      "21           18               79       77         44           78   \n",
      "22           25                6       18         73            2   \n",
      "23           13               62       54         46           38   \n",
      "24           45               45       47         27           23   \n",
      "25           62               14       48         72           18   \n",
      "26           78               25       36         77           81   \n",
      "27           39               59       20         40           40   \n",
      "28           59               13       25         15           33   \n",
      "29           13               32       74         30           44   \n",
      "..          ...              ...      ...        ...          ...   \n",
      "56           81               38        7         64           30   \n",
      "57           86               50       43         57           20   \n",
      "58           50               31       57         25           33   \n",
      "59           79               10       27         48           26   \n",
      "60           63               61       53          8           76   \n",
      "61           72               60       34          7           28   \n",
      "62           75               71       76         20           21   \n",
      "63           84               77       11         18           52   \n",
      "64           48               51        5         53           12   \n",
      "65           53               17       10         56            5   \n",
      "66           33               21        2         14           31   \n",
      "67           68               57       65         83           14   \n",
      "68           10               58       45         31           49   \n",
      "69           57               19       49         75           35   \n",
      "70           67               53        1         33            6   \n",
      "71           61               74        9         36           35   \n",
      "72           73               26       29         67           37   \n",
      "73           30               24        6         42           17   \n",
      "74            4               85       71         84           39   \n",
      "75           64               33       30         80           34   \n",
      "76            9               47       67         17           73   \n",
      "77           41               52       64         39           64   \n",
      "78           49               40       26         52           69   \n",
      "79           76               54        8         41           45   \n",
      "80           44               30       68         79           59   \n",
      "81            1               44       40         38           65   \n",
      "82            6               78       55         11           84   \n",
      "83           34                5       14         85           11   \n",
      "84           22               35       51         66           27   \n",
      "85            2               84       83          9           25   \n",
      "\n",
      "    Prostitutes  Distance  Area  Pop1831  \n",
      "0            13   218.372  5762   346.03  \n",
      "1           327    65.945  7369   513.00  \n",
      "2            34   161.927  7340   298.26  \n",
      "3             2   351.399  6925   155.90  \n",
      "4             1   320.280  5549   129.10  \n",
      "5             1   279.413  5529   340.73  \n",
      "6            83   105.694  5229   289.62  \n",
      "7             3   385.313  4890   253.12  \n",
      "8           207    83.244  6004   246.36  \n",
      "9             1   370.949  6139   270.13  \n",
      "10            4   296.089  8735   359.06  \n",
      "11           25   362.568  5087   359.47  \n",
      "12          194   117.487  5548   494.70  \n",
      "13           20   245.849  5726   258.59  \n",
      "14            8   224.339  5956   362.53  \n",
      "15           27   238.538  6864   445.25  \n",
      "16           26   116.257  7235   256.06  \n",
      "17            3   227.899  5857   294.83  \n",
      "18          206   136.109  8763   375.88  \n",
      "19           16   225.161  6878   598.87  \n",
      "20           12   180.846  5565   265.38  \n",
      "21            3   253.776  9060   482.75  \n",
      "22           65   202.065  5234   265.54  \n",
      "23            8   295.543  6530   299.56  \n",
      "24          179    61.863  6040   424.25  \n",
      "25          180    54.558  5880   278.82  \n",
      "26           42   276.210  6733   524.40  \n",
      "27            5   323.004  5853   357.38  \n",
      "28            8   361.668  6257   427.86  \n",
      "29            1   343.569  6309   312.16  \n",
      "..          ...       ...   ...      ...  \n",
      "56          308   106.335  5743   989.94  \n",
      "57          337    33.768  5860   397.73  \n",
      "58          117    97.554  6103   441.88  \n",
      "59          163   104.400  6671   655.22  \n",
      "60           62   205.218  7970   573.11  \n",
      "61           12   387.935  7645   428.40  \n",
      "62            5   386.559  4464   233.03  \n",
      "63            5   403.445  4116   157.05  \n",
      "64          101   217.752  4755   540.21  \n",
      "65           26   217.971  3525   424.26  \n",
      "66          104   213.032  3249   434.43  \n",
      "67           99   176.135  5360   338.91  \n",
      "68           40   168.713  8575   523.97  \n",
      "69           79   108.294  6206   457.37  \n",
      "70         4744     0.000   762   935.11  \n",
      "71          546    75.658  6278   693.68  \n",
      "72          453    27.647  5915   323.89  \n",
      "73          874    16.888  5334   448.18  \n",
      "74            6   188.474  5999   297.85  \n",
      "75          302    69.520  6170   543.70  \n",
      "76            3   328.146  5758   333.84  \n",
      "77            4   313.090  3718   242.51  \n",
      "78            6   389.512  5973   317.50  \n",
      "79            2   337.215  3567   239.11  \n",
      "80            4   212.459  6720   330.36  \n",
      "81           18   170.523  6990   282.73  \n",
      "82            7   198.874  5520   285.13  \n",
      "83           43   174.477  5874   397.99  \n",
      "84          272    81.797  7427   352.49  \n",
      "85            1   539.213  8680   195.41  \n",
      "\n",
      "[86 rows x 23 columns]\n"
     ]
    }
   ],
   "source": [
    "# we are getting a custom dataset from the statsmodels module \n",
    "df = sm.datasets.get_rdataset(\"Guerry\", \"HistData\").data\n",
    "print(df)"
   ]
  },
  {
   "cell_type": "markdown",
   "metadata": {},
   "source": [
    "The dataset is bigger than it seems so we only need a certain number of characterics/columns for a regression on the dataset"
   ]
  },
  {
   "cell_type": "code",
   "execution_count": 4,
   "metadata": {},
   "outputs": [
    {
     "data": {
      "text/html": [
       "<div>\n",
       "<style scoped>\n",
       "    .dataframe tbody tr th:only-of-type {\n",
       "        vertical-align: middle;\n",
       "    }\n",
       "\n",
       "    .dataframe tbody tr th {\n",
       "        vertical-align: top;\n",
       "    }\n",
       "\n",
       "    .dataframe thead th {\n",
       "        text-align: right;\n",
       "    }\n",
       "</style>\n",
       "<table border=\"1\" class=\"dataframe\">\n",
       "  <thead>\n",
       "    <tr style=\"text-align: right;\">\n",
       "      <th></th>\n",
       "      <th>Department</th>\n",
       "      <th>Lottery</th>\n",
       "      <th>Literacy</th>\n",
       "      <th>Wealth</th>\n",
       "      <th>Region</th>\n",
       "    </tr>\n",
       "  </thead>\n",
       "  <tbody>\n",
       "    <tr>\n",
       "      <th>81</th>\n",
       "      <td>Vienne</td>\n",
       "      <td>40</td>\n",
       "      <td>25</td>\n",
       "      <td>68</td>\n",
       "      <td>W</td>\n",
       "    </tr>\n",
       "    <tr>\n",
       "      <th>82</th>\n",
       "      <td>Haute-Vienne</td>\n",
       "      <td>55</td>\n",
       "      <td>13</td>\n",
       "      <td>67</td>\n",
       "      <td>C</td>\n",
       "    </tr>\n",
       "    <tr>\n",
       "      <th>83</th>\n",
       "      <td>Vosges</td>\n",
       "      <td>14</td>\n",
       "      <td>62</td>\n",
       "      <td>82</td>\n",
       "      <td>E</td>\n",
       "    </tr>\n",
       "    <tr>\n",
       "      <th>84</th>\n",
       "      <td>Yonne</td>\n",
       "      <td>51</td>\n",
       "      <td>47</td>\n",
       "      <td>30</td>\n",
       "      <td>C</td>\n",
       "    </tr>\n",
       "    <tr>\n",
       "      <th>85</th>\n",
       "      <td>Corse</td>\n",
       "      <td>83</td>\n",
       "      <td>49</td>\n",
       "      <td>37</td>\n",
       "      <td>NaN</td>\n",
       "    </tr>\n",
       "  </tbody>\n",
       "</table>\n",
       "</div>"
      ],
      "text/plain": [
       "      Department  Lottery  Literacy  Wealth Region\n",
       "81        Vienne       40        25      68      W\n",
       "82  Haute-Vienne       55        13      67      C\n",
       "83        Vosges       14        62      82      E\n",
       "84         Yonne       51        47      30      C\n",
       "85         Corse       83        49      37    NaN"
      ]
     },
     "execution_count": 4,
     "metadata": {},
     "output_type": "execute_result"
    }
   ],
   "source": [
    "vars = ['Department', 'Lottery', 'Literacy', 'Wealth', 'Region']\n",
    "df = df[vars]\n",
    "df[-5:]"
   ]
  },
  {
   "cell_type": "code",
   "execution_count": 6,
   "metadata": {},
   "outputs": [],
   "source": [
    "# To remove the values which will not affect the outcome \n",
    "# For eg. values that are NaN\n",
    "df = df.dropna()"
   ]
  },
  {
   "cell_type": "code",
   "execution_count": 7,
   "metadata": {},
   "outputs": [
    {
     "data": {
      "text/html": [
       "<div>\n",
       "<style scoped>\n",
       "    .dataframe tbody tr th:only-of-type {\n",
       "        vertical-align: middle;\n",
       "    }\n",
       "\n",
       "    .dataframe tbody tr th {\n",
       "        vertical-align: top;\n",
       "    }\n",
       "\n",
       "    .dataframe thead th {\n",
       "        text-align: right;\n",
       "    }\n",
       "</style>\n",
       "<table border=\"1\" class=\"dataframe\">\n",
       "  <thead>\n",
       "    <tr style=\"text-align: right;\">\n",
       "      <th></th>\n",
       "      <th>Department</th>\n",
       "      <th>Lottery</th>\n",
       "      <th>Literacy</th>\n",
       "      <th>Wealth</th>\n",
       "      <th>Region</th>\n",
       "    </tr>\n",
       "  </thead>\n",
       "  <tbody>\n",
       "    <tr>\n",
       "      <th>80</th>\n",
       "      <td>Vendee</td>\n",
       "      <td>68</td>\n",
       "      <td>28</td>\n",
       "      <td>56</td>\n",
       "      <td>W</td>\n",
       "    </tr>\n",
       "    <tr>\n",
       "      <th>81</th>\n",
       "      <td>Vienne</td>\n",
       "      <td>40</td>\n",
       "      <td>25</td>\n",
       "      <td>68</td>\n",
       "      <td>W</td>\n",
       "    </tr>\n",
       "    <tr>\n",
       "      <th>82</th>\n",
       "      <td>Haute-Vienne</td>\n",
       "      <td>55</td>\n",
       "      <td>13</td>\n",
       "      <td>67</td>\n",
       "      <td>C</td>\n",
       "    </tr>\n",
       "    <tr>\n",
       "      <th>83</th>\n",
       "      <td>Vosges</td>\n",
       "      <td>14</td>\n",
       "      <td>62</td>\n",
       "      <td>82</td>\n",
       "      <td>E</td>\n",
       "    </tr>\n",
       "    <tr>\n",
       "      <th>84</th>\n",
       "      <td>Yonne</td>\n",
       "      <td>51</td>\n",
       "      <td>47</td>\n",
       "      <td>30</td>\n",
       "      <td>C</td>\n",
       "    </tr>\n",
       "  </tbody>\n",
       "</table>\n",
       "</div>"
      ],
      "text/plain": [
       "      Department  Lottery  Literacy  Wealth Region\n",
       "80        Vendee       68        28      56      W\n",
       "81        Vienne       40        25      68      W\n",
       "82  Haute-Vienne       55        13      67      C\n",
       "83        Vosges       14        62      82      E\n",
       "84         Yonne       51        47      30      C"
      ]
     },
     "execution_count": 7,
     "metadata": {},
     "output_type": "execute_result"
    }
   ],
   "source": [
    "df[-5:]"
   ]
  },
  {
   "cell_type": "code",
   "execution_count": 8,
   "metadata": {},
   "outputs": [],
   "source": [
    "y, X = dmatrices('Lottery ~ Literacy + Wealth + Region', data=df, return_type='dataframe')"
   ]
  },
  {
   "cell_type": "markdown",
   "metadata": {},
   "source": [
    "dmatrices() is function from the patsy library. And here it is helping us to manipulate the data points to be reflective of a proportional relationship like a regression. For instance. in the above syntax you can see \n",
    "\n",
    "'Lottery ~ Literacy + Wealth + Region'\n",
    "\n",
    "this is equivalent of saying \n",
    "\n",
    "Lottery = Literacy * ( some variable X ) + Wealth ( some variable Y ) + Region\n",
    "\n",
    "i.e. Literacy, Wealth, and Region will be independent variables where as Literacy will be dependent variable.\n",
    "\n",
    "But on observing our dataset df, we see that Region is different from the rest of the Group. \n",
    "\n",
    "How do we incoporate that with other numbers?"
   ]
  },
  {
   "cell_type": "code",
   "execution_count": 16,
   "metadata": {},
   "outputs": [
    {
     "name": "stdout",
     "output_type": "stream",
     "text": [
      "    Lottery\n",
      "80     68.0\n",
      "81     40.0\n",
      "82     55.0\n",
      "83     14.0\n",
      "84     51.0\n"
     ]
    }
   ],
   "source": [
    "# Dependent Variable\n",
    "print(y[-5:])"
   ]
  },
  {
   "cell_type": "code",
   "execution_count": 17,
   "metadata": {},
   "outputs": [
    {
     "name": "stdout",
     "output_type": "stream",
     "text": [
      "    Intercept  Region[T.E]  Region[T.N]  Region[T.S]  Region[T.W]  Literacy  \\\n",
      "80        1.0          0.0          0.0          0.0          1.0      28.0   \n",
      "81        1.0          0.0          0.0          0.0          1.0      25.0   \n",
      "82        1.0          0.0          0.0          0.0          0.0      13.0   \n",
      "83        1.0          1.0          0.0          0.0          0.0      62.0   \n",
      "84        1.0          0.0          0.0          0.0          0.0      47.0   \n",
      "\n",
      "    Wealth  \n",
      "80    56.0  \n",
      "81    68.0  \n",
      "82    67.0  \n",
      "83    82.0  \n",
      "84    30.0  \n"
     ]
    }
   ],
   "source": [
    "# Independent Variables\n",
    "print(X[-5:])"
   ]
  },
  {
   "cell_type": "markdown",
   "metadata": {},
   "source": [
    "As you can see the string variable Region has been incoporated but with 4 more columns. T.E, T.N, T.S, T.W.\n",
    "This is a concept of dummy variables, where we assign a set of finite values a value in a way that would reflect which value the data is concerned for in a particula data point. \n",
    "\n",
    "For instance, in Row 80 we have T.E = T.N = T.S = 0 and T.W = 1,\n",
    "\n",
    "This is because for this particular row the dataset has this region selected and so in the equation created by the module we will have extra variables for T.E, T.N, etc. but in this case they will be multiplied with 0 hence only T.W will show up. \n",
    "\n",
    "More info can be found https://pandas.pydata.org/pandas-docs/version/0.22/generated/pandas.get_dummies.html"
   ]
  },
  {
   "cell_type": "code",
   "execution_count": 19,
   "metadata": {},
   "outputs": [],
   "source": [
    "mod = sm.OLS(y, X) # Commonly known as Regressor/Classifier\n",
    "result = mod.fit() # A common method you will find in many classes for "
   ]
  },
  {
   "cell_type": "code",
   "execution_count": 21,
   "metadata": {},
   "outputs": [
    {
     "name": "stdout",
     "output_type": "stream",
     "text": [
      "                            OLS Regression Results                            \n",
      "==============================================================================\n",
      "Dep. Variable:                Lottery   R-squared:                       0.338\n",
      "Model:                            OLS   Adj. R-squared:                  0.287\n",
      "Method:                 Least Squares   F-statistic:                     6.636\n",
      "Date:                Fri, 13 Jul 2018   Prob (F-statistic):           1.07e-05\n",
      "Time:                        11:29:16   Log-Likelihood:                -375.30\n",
      "No. Observations:                  85   AIC:                             764.6\n",
      "Df Residuals:                      78   BIC:                             781.7\n",
      "Df Model:                           6                                         \n",
      "Covariance Type:            nonrobust                                         \n",
      "===============================================================================\n",
      "                  coef    std err          t      P>|t|      [0.025      0.975]\n",
      "-------------------------------------------------------------------------------\n",
      "Intercept      38.6517      9.456      4.087      0.000      19.826      57.478\n",
      "Region[T.E]   -15.4278      9.727     -1.586      0.117     -34.793       3.938\n",
      "Region[T.N]   -10.0170      9.260     -1.082      0.283     -28.453       8.419\n",
      "Region[T.S]    -4.5483      7.279     -0.625      0.534     -19.039       9.943\n",
      "Region[T.W]   -10.0913      7.196     -1.402      0.165     -24.418       4.235\n",
      "Literacy       -0.1858      0.210     -0.886      0.378      -0.603       0.232\n",
      "Wealth          0.4515      0.103      4.390      0.000       0.247       0.656\n",
      "==============================================================================\n",
      "Omnibus:                        3.049   Durbin-Watson:                   1.785\n",
      "Prob(Omnibus):                  0.218   Jarque-Bera (JB):                2.694\n",
      "Skew:                          -0.340   Prob(JB):                        0.260\n",
      "Kurtosis:                       2.454   Cond. No.                         371.\n",
      "==============================================================================\n",
      "\n",
      "Warnings:\n",
      "[1] Standard Errors assume that the covariance matrix of the errors is correctly specified.\n"
     ]
    }
   ],
   "source": [
    "print(result.summary()) # Shows a summary of the analysis"
   ]
  },
  {
   "cell_type": "markdown",
   "metadata": {},
   "source": [
    "The result summary gives a complete picture to user to compare the different units and values. "
   ]
  },
  {
   "cell_type": "markdown",
   "metadata": {},
   "source": [
    "## scikit-learn "
   ]
  },
  {
   "cell_type": "markdown",
   "metadata": {},
   "source": [
    "This Library concerns itself with data mining and analysing tools for the purposes of classifying, clustering and preprocessing. It is mainly used for the machine learning aspect of Data Science.\n",
    "\n",
    "To give you an idea of how the library works, we will follow a short tutorial "
   ]
  },
  {
   "cell_type": "code",
   "execution_count": 1,
   "metadata": {},
   "outputs": [],
   "source": [
    "# Import the function required for instantiating a classifier\n",
    "from sklearn.linear_model import LinearRegression"
   ]
  },
  {
   "cell_type": "code",
   "execution_count": 2,
   "metadata": {},
   "outputs": [],
   "source": [
    "# Construct training and test data\n",
    "train_Data = [\n",
    "    [0,0],\n",
    "    [1,2],\n",
    "    [2,4]\n",
    "]\n",
    "class_Data = [\n",
    "    0,\n",
    "    1,\n",
    "    2\n",
    "]\n"
   ]
  },
  {
   "cell_type": "markdown",
   "metadata": {},
   "source": [
    "As you observe, we have our training data and class data. It is easy to notice in our training set the pattern of the parameters. The parameters showcase linear progression where the both values tend to linearly increase and so the class set confirms this by giving values which corresponds to those singular values. In the background the LinearRegression classifier is working with this data to come up with a set of values to justify the behaviour. "
   ]
  },
  {
   "cell_type": "code",
   "execution_count": 3,
   "metadata": {},
   "outputs": [
    {
     "data": {
      "text/plain": [
       "LinearRegression(copy_X=True, fit_intercept=True, n_jobs=1, normalize=False)"
      ]
     },
     "execution_count": 3,
     "metadata": {},
     "output_type": "execute_result"
    }
   ],
   "source": [
    "# Create the classifier and fit the data\n",
    "cls = LinearRegression()\n",
    "cls.fit(train_Data, class_Data)"
   ]
  },
  {
   "cell_type": "markdown",
   "metadata": {},
   "source": [
    "After the classifier is fit it analyzes the training set and comes up with a set of coefficients for the two variables in the training data. \n"
   ]
  },
  {
   "cell_type": "code",
   "execution_count": 8,
   "metadata": {},
   "outputs": [
    {
     "name": "stdout",
     "output_type": "stream",
     "text": [
      "[ 0.2  0.4]\n"
     ]
    }
   ],
   "source": [
    "print(cls.coef_)"
   ]
  },
  {
   "cell_type": "markdown",
   "metadata": {},
   "source": [
    "the 2 variables correspond as constants to the equation (⅕) x + (⅖)y = z "
   ]
  },
  {
   "cell_type": "code",
   "execution_count": 9,
   "metadata": {},
   "outputs": [
    {
     "name": "stdout",
     "output_type": "stream",
     "text": [
      "[ 2.]\n"
     ]
    }
   ],
   "source": [
    "print(cls.predict([[4,3]]))"
   ]
  },
  {
   "cell_type": "markdown",
   "metadata": {},
   "source": [
    "Hence when you predict values, they are actually placed in the equation to give you an answer. \n"
   ]
  }
 ],
 "metadata": {
  "kernelspec": {
   "display_name": "Python 3",
   "language": "python",
   "name": "python3"
  },
  "language_info": {
   "codemirror_mode": {
    "name": "ipython",
    "version": 3
   },
   "file_extension": ".py",
   "mimetype": "text/x-python",
   "name": "python",
   "nbconvert_exporter": "python",
   "pygments_lexer": "ipython3",
   "version": "3.6.5"
  }
 },
 "nbformat": 4,
 "nbformat_minor": 2
}
