{
 "cells": [
  {
   "cell_type": "markdown",
   "metadata": {},
   "source": [
    "# Introduction to Statsmodels (Python) & Sklearn"
   ]
  },
  {
   "cell_type": "markdown",
   "metadata": {},
   "source": [
    "In the section we intend to get exposed to the advanced tools for analysing data. Statsmodel is a Python module and Sklearn a Library.\n",
    "Lets begin by defining a Python module and Library."
   ]
  },
  {
   "cell_type": "markdown",
   "metadata": {},
   "source": [
    "Module: It is a collection of classes and its methods as well as functions. This can be just a simple function and can be imported by many scripts\n",
    "\n",
    "Library: it is a collection of Modules which helpes using advanced and predefined functions for calculations and manupulation of objects"
   ]
  },
  {
   "cell_type": "markdown",
   "metadata": {},
   "source": [
    "So far we have only explored different ways to manipulate data with the help of objects such as Numpy arrays and lists as well as pandas Dataframes. These objects allow a Data scientist to input and output data and reshape data for the benefit of the classifier/regressor. \n",
    "\n",
    "But what is a classifier?\n",
    "\n",
    "And how is the data put in a sequence which can be available for further analysis ?\n",
    "\n",
    "A classifier is described as a model predictor. \n",
    "Assume a Data Scientist collects data and wants to find patterns/trends in it, he/she would have create a model on that dataset. \n",
    "\n",
    "A model in this case means to observe a value's (dependent variable) behaviour based on other variables' (independent variable) distincet values."
   ]
  },
  {
   "cell_type": "markdown",
   "metadata": {},
   "source": [
    "## Statsmodels"
   ]
  },
  {
   "cell_type": "markdown",
   "metadata": {},
   "source": [
    "### Introduction and Explanation\n",
    "This module helps with analyzing data and creating statistical models.  \n",
    "In order to understand how to utilise this Module, we also need to have knowledge regarding statistics which we will learn in the sections ahead.\n",
    "\n",
    "A classifier here would mainly cover Descriptive Statistics ( we will see an example for this). "
   ]
  },
  {
   "cell_type": "markdown",
   "metadata": {},
   "source": [
    "Regression: Observing how a certain variable reacts or behaves when an another variable is changed. In the simplest scenarios we chose to observe the behaviour of Y when X is changed on 2D Plane. \n",
    "\n",
    "Formula of a line: y = mx + b\n",
    "                   \n",
    "                   m = slope \n",
    "                   b = intercept\n"
   ]
  },
  {
   "cell_type": "code",
   "execution_count": 50,
   "metadata": {},
   "outputs": [],
   "source": [
    "# Import the Libraries\n",
    "import statsmodels.api as sm\n",
    "import pandas as pd\n",
    "from patsy import dmatrices # Don't worry about this for now"
   ]
  },
  {
   "cell_type": "markdown",
   "metadata": {},
   "source": [
    "Currently we are importing pandas library for dataframes data structure\n",
    "\n",
    "And as you can observe in the first line of the previous cell \n",
    "This is a common way to import a Statsmodels module\n",
    "\n",
    "<font color='green'> import statsmodels.api as sm </font>"
   ]
  },
  {
   "cell_type": "markdown",
   "metadata": {},
   "source": [
    "The Guerry Dataset: A dataset created in 1833 to analyze parameters such as crime, and literacy given in this dataset.\n",
    "\n",
    "In our dataset we would like to analyze a parameter based on a set of parameters"
   ]
  },
  {
   "cell_type": "code",
   "execution_count": 51,
   "metadata": {
    "scrolled": true
   },
   "outputs": [
    {
     "name": "stdout",
     "output_type": "stream",
     "text": [
      "   dept Region    Department  Crime_pers  Crime_prop  Literacy  Donations  \\\n",
      "0     1      E           Ain       28870       15890        37       5098   \n",
      "1     2      N         Aisne       26226        5521        51       8901   \n",
      "2     3      C        Allier       26747        7925        13      10973   \n",
      "3     4      E  Basses-Alpes       12935        7289        46       2733   \n",
      "4     5      E  Hautes-Alpes       17488        8174        69       6962   \n",
      "\n",
      "   Infants  Suicides MainCity   ...     Crime_parents  Infanticide  \\\n",
      "0    33120     35039    2:Med   ...                71           60   \n",
      "1    14572     12831    2:Med   ...                 4           82   \n",
      "2    17044    114121    2:Med   ...                46           42   \n",
      "3    23018     14238     1:Sm   ...                70           12   \n",
      "4    23076     16171     1:Sm   ...                22           23   \n",
      "\n",
      "   Donation_clergy  Lottery  Desertion  Instruction  Prostitutes  Distance  \\\n",
      "0               69       41         55           46           13   218.372   \n",
      "1               36       38         82           24          327    65.945   \n",
      "2               76       66         16           85           34   161.927   \n",
      "3               37       80         32           29            2   351.399   \n",
      "4               64       79         35            7            1   320.280   \n",
      "\n",
      "   Area  Pop1831  \n",
      "0  5762   346.03  \n",
      "1  7369   513.00  \n",
      "2  7340   298.26  \n",
      "3  6925   155.90  \n",
      "4  5549   129.10  \n",
      "\n",
      "[5 rows x 23 columns]\n"
     ]
    }
   ],
   "source": [
    "# we are getting a custom dataset from the Statsmodels module \n",
    "df = sm.datasets.get_rdataset(\"Guerry\", \"HistData\").data\n",
    "# .head() function gives the first 5 rows from the top\n",
    "print(df.head())"
   ]
  },
  {
   "cell_type": "markdown",
   "metadata": {},
   "source": [
    "The dataset is bigger than it seems so we only need a certain number of characterics/columns to perform a regression on the dataset."
   ]
  },
  {
   "cell_type": "code",
   "execution_count": 52,
   "metadata": {},
   "outputs": [
    {
     "data": {
      "text/html": [
       "<div>\n",
       "<style scoped>\n",
       "    .dataframe tbody tr th:only-of-type {\n",
       "        vertical-align: middle;\n",
       "    }\n",
       "\n",
       "    .dataframe tbody tr th {\n",
       "        vertical-align: top;\n",
       "    }\n",
       "\n",
       "    .dataframe thead th {\n",
       "        text-align: right;\n",
       "    }\n",
       "</style>\n",
       "<table border=\"1\" class=\"dataframe\">\n",
       "  <thead>\n",
       "    <tr style=\"text-align: right;\">\n",
       "      <th></th>\n",
       "      <th>Department</th>\n",
       "      <th>Lottery</th>\n",
       "      <th>Literacy</th>\n",
       "      <th>Wealth</th>\n",
       "      <th>Region</th>\n",
       "    </tr>\n",
       "  </thead>\n",
       "  <tbody>\n",
       "    <tr>\n",
       "      <th>81</th>\n",
       "      <td>Vienne</td>\n",
       "      <td>40</td>\n",
       "      <td>25</td>\n",
       "      <td>68</td>\n",
       "      <td>W</td>\n",
       "    </tr>\n",
       "    <tr>\n",
       "      <th>82</th>\n",
       "      <td>Haute-Vienne</td>\n",
       "      <td>55</td>\n",
       "      <td>13</td>\n",
       "      <td>67</td>\n",
       "      <td>C</td>\n",
       "    </tr>\n",
       "    <tr>\n",
       "      <th>83</th>\n",
       "      <td>Vosges</td>\n",
       "      <td>14</td>\n",
       "      <td>62</td>\n",
       "      <td>82</td>\n",
       "      <td>E</td>\n",
       "    </tr>\n",
       "    <tr>\n",
       "      <th>84</th>\n",
       "      <td>Yonne</td>\n",
       "      <td>51</td>\n",
       "      <td>47</td>\n",
       "      <td>30</td>\n",
       "      <td>C</td>\n",
       "    </tr>\n",
       "    <tr>\n",
       "      <th>85</th>\n",
       "      <td>Corse</td>\n",
       "      <td>83</td>\n",
       "      <td>49</td>\n",
       "      <td>37</td>\n",
       "      <td>NaN</td>\n",
       "    </tr>\n",
       "  </tbody>\n",
       "</table>\n",
       "</div>"
      ],
      "text/plain": [
       "      Department  Lottery  Literacy  Wealth Region\n",
       "81        Vienne       40        25      68      W\n",
       "82  Haute-Vienne       55        13      67      C\n",
       "83        Vosges       14        62      82      E\n",
       "84         Yonne       51        47      30      C\n",
       "85         Corse       83        49      37    NaN"
      ]
     },
     "execution_count": 52,
     "metadata": {},
     "output_type": "execute_result"
    }
   ],
   "source": [
    "vars = ['Department', 'Lottery', 'Literacy', 'Wealth', 'Region']\n",
    "df = df[vars]\n",
    "df[-5:]"
   ]
  },
  {
   "cell_type": "code",
   "execution_count": 53,
   "metadata": {},
   "outputs": [],
   "source": [
    "# To remove the values which will not affect the outcome \n",
    "# For eg. values that are NaN\n",
    "df = df.dropna()"
   ]
  },
  {
   "cell_type": "code",
   "execution_count": 60,
   "metadata": {},
   "outputs": [
    {
     "data": {
      "text/html": [
       "<div>\n",
       "<style scoped>\n",
       "    .dataframe tbody tr th:only-of-type {\n",
       "        vertical-align: middle;\n",
       "    }\n",
       "\n",
       "    .dataframe tbody tr th {\n",
       "        vertical-align: top;\n",
       "    }\n",
       "\n",
       "    .dataframe thead th {\n",
       "        text-align: right;\n",
       "    }\n",
       "</style>\n",
       "<table border=\"1\" class=\"dataframe\">\n",
       "  <thead>\n",
       "    <tr style=\"text-align: right;\">\n",
       "      <th></th>\n",
       "      <th>Department</th>\n",
       "      <th>Lottery</th>\n",
       "      <th>Literacy</th>\n",
       "      <th>Wealth</th>\n",
       "      <th>Region</th>\n",
       "    </tr>\n",
       "  </thead>\n",
       "  <tbody>\n",
       "    <tr>\n",
       "      <th>80</th>\n",
       "      <td>Vendee</td>\n",
       "      <td>68</td>\n",
       "      <td>28</td>\n",
       "      <td>56</td>\n",
       "      <td>W</td>\n",
       "    </tr>\n",
       "    <tr>\n",
       "      <th>81</th>\n",
       "      <td>Vienne</td>\n",
       "      <td>40</td>\n",
       "      <td>25</td>\n",
       "      <td>68</td>\n",
       "      <td>W</td>\n",
       "    </tr>\n",
       "    <tr>\n",
       "      <th>82</th>\n",
       "      <td>Haute-Vienne</td>\n",
       "      <td>55</td>\n",
       "      <td>13</td>\n",
       "      <td>67</td>\n",
       "      <td>C</td>\n",
       "    </tr>\n",
       "    <tr>\n",
       "      <th>83</th>\n",
       "      <td>Vosges</td>\n",
       "      <td>14</td>\n",
       "      <td>62</td>\n",
       "      <td>82</td>\n",
       "      <td>E</td>\n",
       "    </tr>\n",
       "    <tr>\n",
       "      <th>84</th>\n",
       "      <td>Yonne</td>\n",
       "      <td>51</td>\n",
       "      <td>47</td>\n",
       "      <td>30</td>\n",
       "      <td>C</td>\n",
       "    </tr>\n",
       "  </tbody>\n",
       "</table>\n",
       "</div>"
      ],
      "text/plain": [
       "      Department  Lottery  Literacy  Wealth Region\n",
       "80        Vendee       68        28      56      W\n",
       "81        Vienne       40        25      68      W\n",
       "82  Haute-Vienne       55        13      67      C\n",
       "83        Vosges       14        62      82      E\n",
       "84         Yonne       51        47      30      C"
      ]
     },
     "execution_count": 60,
     "metadata": {},
     "output_type": "execute_result"
    }
   ],
   "source": [
    "temp_df = df # We will use this variable later on\n",
    "df[-5:]"
   ]
  },
  {
   "cell_type": "markdown",
   "metadata": {},
   "source": [
    "Here we are converting a Dataframe to Matices with the help of patsy libray"
   ]
  },
  {
   "cell_type": "code",
   "execution_count": 55,
   "metadata": {},
   "outputs": [],
   "source": [
    "y, X = dmatrices('Lottery ~ Literacy + Wealth + Region', data=df, return_type='dataframe')"
   ]
  },
  {
   "cell_type": "markdown",
   "metadata": {},
   "source": [
    "dmatrices() is function from the patsy library. And here it is helping us to manipulate the data points to be reflective of a proportional relationship like a regression. For instance. in the above syntax you can see \n",
    "\n",
    "'Lottery ~ Literacy + Wealth + Region'\n",
    "\n",
    "this is equivalent of saying \n",
    "\n",
    "Lottery = Literacy * ( some variable X ) + Wealth ( some variable Y ) + Region\n",
    "\n",
    "i.e. Literacy, Wealth, and Region will be independent variables where as Literacy will be dependent variable.\n",
    "\n",
    "But on observing our dataset df, we see that Region is different from the rest of the Group. \n",
    "\n",
    "How do we incoporate that with other numbers?"
   ]
  },
  {
   "cell_type": "code",
   "execution_count": 56,
   "metadata": {},
   "outputs": [
    {
     "name": "stdout",
     "output_type": "stream",
     "text": [
      "    Lottery\n",
      "80     68.0\n",
      "81     40.0\n",
      "82     55.0\n",
      "83     14.0\n",
      "84     51.0\n"
     ]
    }
   ],
   "source": [
    "# Dependent Variable\n",
    "print(y[-5:])"
   ]
  },
  {
   "cell_type": "code",
   "execution_count": 57,
   "metadata": {},
   "outputs": [
    {
     "name": "stdout",
     "output_type": "stream",
     "text": [
      "    Intercept  Region[T.E]  Region[T.N]  Region[T.S]  Region[T.W]  Literacy  \\\n",
      "80        1.0          0.0          0.0          0.0          1.0      28.0   \n",
      "81        1.0          0.0          0.0          0.0          1.0      25.0   \n",
      "82        1.0          0.0          0.0          0.0          0.0      13.0   \n",
      "83        1.0          1.0          0.0          0.0          0.0      62.0   \n",
      "84        1.0          0.0          0.0          0.0          0.0      47.0   \n",
      "\n",
      "    Wealth  \n",
      "80    56.0  \n",
      "81    68.0  \n",
      "82    67.0  \n",
      "83    82.0  \n",
      "84    30.0  \n"
     ]
    }
   ],
   "source": [
    "# Independent Variables\n",
    "print(X[-5:])"
   ]
  },
  {
   "cell_type": "markdown",
   "metadata": {},
   "source": [
    "### Implementation of Dummy Variables\n",
    "As you can see the string variable Region has been incoporated but with 4 more columns. T.E, T.N, T.S, T.W.\n",
    "This is a concept of dummy variables, where we assign a set of finite values a value in a way that would reflect which value the data is concerned for in a particula data point. \n",
    "\n",
    "For instance, in Row 80 we have T.E = T.N = T.S = 0 and T.W = 1,\n",
    "\n",
    "This is because for this particular row the dataset has this region selected and so in the equation created by the module we will have extra variables for T.E, T.N, etc. but in this case they will be multiplied with 0 hence only T.W will show up. \n",
    "\n",
    "More info can be found https://pandas.pydata.org/pandas-docs/version/0.22/generated/pandas.get_dummies.html"
   ]
  },
  {
   "cell_type": "markdown",
   "metadata": {},
   "source": [
    "The function <font color='purple'> .get_dummies() </font> allows the user to create values for categorical parameters. It is a vital step in constructing our Regression graph/equation/model/classifier.\n",
    "\n",
    "So, lets explore this section a little deeper to understand this concept. So, out plan is to explore the Region Column. We will first observe the column by looking at its values "
   ]
  },
  {
   "cell_type": "code",
   "execution_count": 70,
   "metadata": {
    "scrolled": false
   },
   "outputs": [
    {
     "data": {
      "text/plain": [
       "array(['E', 'N', 'C', 'E', 'E', 'S', 'N', 'S', 'E', 'S', 'S', 'S', 'N',\n",
       "       'C', 'W', 'W', 'C', 'C', 'E', 'W', 'C', 'W', 'E', 'E', 'N', 'C',\n",
       "       'W', 'S', 'S', 'S', 'W', 'S', 'W', 'C', 'C', 'E', 'E', 'W', 'C',\n",
       "       'C', 'C', 'W', 'C', 'S', 'W', 'S', 'W', 'N', 'N', 'E', 'W', 'E',\n",
       "       'N', 'W', 'N', 'C', 'N', 'N', 'N', 'N', 'C', 'W', 'S', 'S', 'E',\n",
       "       'E', 'E', 'E', 'E', 'C', 'N', 'N', 'N', 'N', 'W', 'N', 'S', 'S',\n",
       "       'S', 'S', 'W', 'W', 'C', 'E', 'C'], dtype=object)"
      ]
     },
     "execution_count": 70,
     "metadata": {},
     "output_type": "execute_result"
    }
   ],
   "source": [
    "# You may remember from earlier we had saved the whole dataset in this variable\n",
    "temp_df['Region'].values\n",
    "\n",
    "# Here we can see all categories for the Region Column. But looking from the list of Regions we can't find out\n",
    "# how many types of Regions are there?"
   ]
  },
  {
   "cell_type": "code",
   "execution_count": 72,
   "metadata": {},
   "outputs": [
    {
     "data": {
      "text/plain": [
       "array(['E', 'N', 'C', 'S', 'W'], dtype=object)"
      ]
     },
     "execution_count": 72,
     "metadata": {},
     "output_type": "execute_result"
    }
   ],
   "source": [
    "# So will implement a Dataframe query which provides us with distinct Region values, allowing the user to see\n",
    "# how many categories all avalaible for every row of the data\n",
    "temp_df.Region.unique()"
   ]
  },
  {
   "cell_type": "markdown",
   "metadata": {},
   "source": [
    "### Dummy Variable Trap\n",
    "As we can observe from the above array the dataset contains 5 types of regions, but why has the function .dmatrices() only given 4 Regions (E, S, N, W) ?\n",
    "\n",
    "To prevent the Dummy Variable Trap. \n",
    "\n",
    "Every sum of a row has to equal to its Intercept column that is shown in the right most column and so this can cause multi-collinearity, which is when one independent variable can be predicted accurately from another independent variable. This is a problem because each independent variable should act on its own accords and contribute to the model, it can affect the results when you want to use the model for further analysis. This is called a Dummy Variable Trap.\n",
    "\n",
    "##### Solution: We remove one of dummy variables and that solves the problem of collinearity. \n",
    "\n",
    "And so in our dataset the function .dmatrices() does that exactly giving us 4 instead of 5 dummy variables."
   ]
  },
  {
   "cell_type": "code",
   "execution_count": 58,
   "metadata": {},
   "outputs": [
    {
     "name": "stdout",
     "output_type": "stream",
     "text": [
      "                            OLS Regression Results                            \n",
      "==============================================================================\n",
      "Dep. Variable:                Lottery   R-squared:                       0.338\n",
      "Model:                            OLS   Adj. R-squared:                  0.287\n",
      "Method:                 Least Squares   F-statistic:                     6.636\n",
      "Date:                Mon, 30 Jul 2018   Prob (F-statistic):           1.07e-05\n",
      "Time:                        00:25:01   Log-Likelihood:                -375.30\n",
      "No. Observations:                  85   AIC:                             764.6\n",
      "Df Residuals:                      78   BIC:                             781.7\n",
      "Df Model:                           6                                         \n",
      "Covariance Type:            nonrobust                                         \n",
      "===============================================================================\n",
      "                  coef    std err          t      P>|t|      [0.025      0.975]\n",
      "-------------------------------------------------------------------------------\n",
      "Intercept      38.6517      9.456      4.087      0.000      19.826      57.478\n",
      "Region[T.E]   -15.4278      9.727     -1.586      0.117     -34.793       3.938\n",
      "Region[T.N]   -10.0170      9.260     -1.082      0.283     -28.453       8.419\n",
      "Region[T.S]    -4.5483      7.279     -0.625      0.534     -19.039       9.943\n",
      "Region[T.W]   -10.0913      7.196     -1.402      0.165     -24.418       4.235\n",
      "Literacy       -0.1858      0.210     -0.886      0.378      -0.603       0.232\n",
      "Wealth          0.4515      0.103      4.390      0.000       0.247       0.656\n",
      "==============================================================================\n",
      "Omnibus:                        3.049   Durbin-Watson:                   1.785\n",
      "Prob(Omnibus):                  0.218   Jarque-Bera (JB):                2.694\n",
      "Skew:                          -0.340   Prob(JB):                        0.260\n",
      "Kurtosis:                       2.454   Cond. No.                         371.\n",
      "==============================================================================\n",
      "\n",
      "Warnings:\n",
      "[1] Standard Errors assume that the covariance matrix of the errors is correctly specified.\n"
     ]
    }
   ],
   "source": [
    "mod = sm.OLS(y, X) \n",
    "result = mod.fit() \n",
    "print(result.summary()) # Shows a summary of the analysis"
   ]
  },
  {
   "cell_type": "markdown",
   "metadata": {},
   "source": [
    "The result summary gives a complete picture to user to compare the different units and values. "
   ]
  },
  {
   "cell_type": "markdown",
   "metadata": {},
   "source": [
    "## Sklearn"
   ]
  },
  {
   "cell_type": "markdown",
   "metadata": {},
   "source": [
    "This Library concerns itself with data mining and analysing tools for the purposes of classifying, clustering and preprocessing. It is mainly used for the machine learning aspect of Data Science.\n",
    "\n",
    "A classifier here would help the its user to predict the behaviour based on the tested data or values\n",
    "\n",
    "To give you an idea of how the library works, we will follow a short tutorial "
   ]
  },
  {
   "cell_type": "code",
   "execution_count": 1,
   "metadata": {},
   "outputs": [],
   "source": [
    "# Import the function required for instantiating a classifier\n",
    "from sklearn.linear_model import LinearRegression"
   ]
  },
  {
   "cell_type": "code",
   "execution_count": 2,
   "metadata": {},
   "outputs": [],
   "source": [
    "# Construct training and test data\n",
    "train_Data = [\n",
    "    [0,0],\n",
    "    [1,2],\n",
    "    [2,4]\n",
    "]\n",
    "class_Data = [\n",
    "    0,\n",
    "    1,\n",
    "    2\n",
    "]\n"
   ]
  },
  {
   "cell_type": "markdown",
   "metadata": {},
   "source": [
    "As you observe, we have our training data and class data. It is easy to notice in our training set the pattern of the parameters. The parameters showcase linear progression where the both values tend to linearly increase and so the class set confirms this by giving values which corresponds to those singular values. In the background the LinearRegression classifier is working with this data to come up with a set of values to justify the behaviour. "
   ]
  },
  {
   "cell_type": "code",
   "execution_count": 3,
   "metadata": {},
   "outputs": [
    {
     "data": {
      "text/plain": [
       "LinearRegression(copy_X=True, fit_intercept=True, n_jobs=1, normalize=False)"
      ]
     },
     "execution_count": 3,
     "metadata": {},
     "output_type": "execute_result"
    }
   ],
   "source": [
    "# Create the classifier and fit the data\n",
    "cls = LinearRegression()\n",
    "cls.fit(train_Data, class_Data)"
   ]
  },
  {
   "cell_type": "markdown",
   "metadata": {},
   "source": [
    "After the classifier is fit it analyzes the training set and comes up with a set of coefficients for the two variables in the training data. \n"
   ]
  },
  {
   "cell_type": "code",
   "execution_count": 8,
   "metadata": {},
   "outputs": [
    {
     "name": "stdout",
     "output_type": "stream",
     "text": [
      "[ 0.2  0.4]\n"
     ]
    }
   ],
   "source": [
    "print(cls.coef_)"
   ]
  },
  {
   "cell_type": "markdown",
   "metadata": {},
   "source": [
    "the 2 variables correspond as constants to the equation (⅕) x + (⅖)y = z "
   ]
  },
  {
   "cell_type": "code",
   "execution_count": 9,
   "metadata": {},
   "outputs": [
    {
     "name": "stdout",
     "output_type": "stream",
     "text": [
      "[ 2.]\n"
     ]
    }
   ],
   "source": [
    "print(cls.predict([[4,3]]))"
   ]
  },
  {
   "cell_type": "markdown",
   "metadata": {},
   "source": [
    "Hence when you predict values, they are actually placed in the equation to give you an answer. \n"
   ]
  },
  {
   "cell_type": "markdown",
   "metadata": {},
   "source": [
    "# Exercises"
   ]
  },
  {
   "cell_type": "markdown",
   "metadata": {},
   "source": [
    "In this exercise we have seen 2 kinds of datasets\n",
    "    1. A custom dataset in the form of a dataframe\n",
    "    2. An array of 2 Dimensional objects"
   ]
  },
  {
   "cell_type": "markdown",
   "metadata": {},
   "source": [
    "For us to understand on how to use these modules we will complete an exercise where we perform an analysis using Sklearn and Statsmodel on the opposite datasets"
   ]
  },
  {
   "cell_type": "markdown",
   "metadata": {},
   "source": [
    "## Sklearn\n",
    "#### Instruction : Import the Sklearn and dataframe dataset and fit() the model under a linear regression\n",
    "##### We will implement Sklearn's LinearRegression on the dataframe used for Statsmodel"
   ]
  },
  {
   "cell_type": "code",
   "execution_count": 27,
   "metadata": {},
   "outputs": [],
   "source": [
    "# Import the Libraries\n",
    "from sklearn.linear_model import LinearRegression\n",
    "import statsmodels.api as sm\n",
    "import pandas as pd"
   ]
  },
  {
   "cell_type": "code",
   "execution_count": 74,
   "metadata": {},
   "outputs": [
    {
     "name": "stdout",
     "output_type": "stream",
     "text": [
      "Data: \n",
      "       Department  Lottery  Literacy  Wealth Region\n",
      "81        Vienne       40        25      68      W\n",
      "82  Haute-Vienne       55        13      67      C\n",
      "83        Vosges       14        62      82      E\n",
      "84         Yonne       51        47      30      C\n",
      "85         Corse       83        49      37    NaN\n",
      "\n",
      "Readable Data: \n",
      "       Department  Lottery  Literacy  Wealth Region\n",
      "80        Vendee       68        28      56      W\n",
      "81        Vienne       40        25      68      W\n",
      "82  Haute-Vienne       55        13      67      C\n",
      "83        Vosges       14        62      82      E\n",
      "84         Yonne       51        47      30      C\n"
     ]
    }
   ],
   "source": [
    "# Importing the dataset and downsizing it for a regresssion\n",
    "\n",
    "# Instantiate the Dataset\n",
    "df = sm.datasets.get_rdataset(\"Guerry\", \"HistData\").data\n",
    "# Get the colomns that are required for a regression \n",
    "vars = ['Department', 'Lottery', 'Literacy', 'Wealth', 'Region']\n",
    "df = df[vars]\n",
    "print('Data: \\n',df[-5:])\n",
    "# Remove the values that have no eg. NaN\n",
    "df = df.dropna()\n",
    "print()\n",
    "print('Readable Data: \\n',df[-5:])"
   ]
  },
  {
   "cell_type": "code",
   "execution_count": 73,
   "metadata": {},
   "outputs": [
    {
     "name": "stdout",
     "output_type": "stream",
     "text": [
      "Dummy Varables\n",
      "    C  E  N  S  W\n",
      "0  0  1  0  0  0\n",
      "1  0  0  1  0  0\n",
      "2  1  0  0  0  0\n",
      "3  0  1  0  0  0\n",
      "4  0  1  0  0  0\n",
      "\n",
      "     Department  Lottery  Literacy  Wealth Region  C  E  N  S  W\n",
      "0           Ain       41        37      73      E  0  1  0  0  0\n",
      "1         Aisne       38        51      22      N  0  0  1  0  0\n",
      "2        Allier       66        13      61      C  1  0  0  0  0\n",
      "3  Basses-Alpes       80        46      76      E  0  1  0  0  0\n",
      "4  Hautes-Alpes       79        69      83      E  0  1  0  0  0\n",
      "\n",
      "   Lottery  Literacy  Wealth  C  E  N  S  W\n",
      "0       41        37      73  0  1  0  0  0\n",
      "1       38        51      22  0  0  1  0  0\n",
      "2       66        13      61  1  0  0  0  0\n",
      "3       80        46      76  0  1  0  0  0\n",
      "4       79        69      83  0  1  0  0  0\n"
     ]
    }
   ],
   "source": [
    "# Creating Dummy Variables and implementing it correctly\n",
    "\n",
    "# Create dummy variables for Region columns\n",
    "dummy_regions = pd.get_dummies(df['Region'])\n",
    "print('Dummy Varables\\n', dummy_regions.head())\n",
    "print()\n",
    "# Append to the Dataframe\n",
    "df = pd.concat([df, dummy_regions], axis=1)\n",
    "print(df.head())\n",
    "print()\n",
    "# Cleaning data by removing unnecessary columns\n",
    "df = df.drop(['Department', 'Region'], axis=1)\n",
    "print(df.head())"
   ]
  },
  {
   "cell_type": "code",
   "execution_count": 30,
   "metadata": {},
   "outputs": [
    {
     "name": "stdout",
     "output_type": "stream",
     "text": [
      "y -  [[37 73  0  1  0  0]\n",
      " [51 22  0  0  1  0]\n",
      " [13 61  1  0  0  0]\n",
      " [46 76  0  1  0  0]\n",
      " [69 83  0  1  0  0]]\n",
      "x -  [41 38 66 80 79]\n"
     ]
    }
   ],
   "source": [
    "# Converting Data into numpy arrays\n",
    "\n",
    "\n",
    "# Class Data\n",
    "X = df['Lottery'].values\n",
    "\n",
    "# Training Data\n",
    "df = df.drop(['Lottery'], axis=1)\n",
    "# Removed one column to prevent the dummy variable trap\n",
    "var = ['Literacy', 'Wealth', 'C', 'E', 'N', 'S']\n",
    "y = df[var]\n",
    "y[:5]\n",
    "y = y.values\n",
    "\n",
    "print('y - ', y[:5])\n",
    "print('x - ', X[:5])"
   ]
  },
  {
   "cell_type": "code",
   "execution_count": 33,
   "metadata": {},
   "outputs": [
    {
     "data": {
      "text/plain": [
       "LinearRegression(copy_X=True, fit_intercept=True, n_jobs=1, normalize=False)"
      ]
     },
     "execution_count": 33,
     "metadata": {},
     "output_type": "execute_result"
    }
   ],
   "source": [
    "# Fitting the Model\n",
    "\n",
    "regr = LinearRegression()\n",
    "regr.fit(y, X)"
   ]
  },
  {
   "cell_type": "code",
   "execution_count": 75,
   "metadata": {},
   "outputs": [
    {
     "name": "stdout",
     "output_type": "stream",
     "text": [
      "test1:  [ 49.30622039]\n",
      "test2:  [ 66.48482007]\n"
     ]
    }
   ],
   "source": [
    "# Running Tests\n",
    "\n",
    "test1 = regr.predict([[37, 73,  0,  1,  0,  0]])\n",
    "test2 = regr.predict([[13, 67,  1,  0,  0,  0]])\n",
    "\n",
    "print('test1: ',test1)\n",
    "print('test2: ',test2)"
   ]
  },
  {
   "cell_type": "markdown",
   "metadata": {},
   "source": [
    "## Statsmodels"
   ]
  },
  {
   "cell_type": "code",
   "execution_count": 38,
   "metadata": {},
   "outputs": [],
   "source": [
    "# Import Libraries\n",
    "import statsmodels.api as sm\n",
    "import pandas as pd\n",
    "from patsy import dmatrices"
   ]
  },
  {
   "cell_type": "code",
   "execution_count": 39,
   "metadata": {},
   "outputs": [
    {
     "data": {
      "text/html": [
       "<div>\n",
       "<style scoped>\n",
       "    .dataframe tbody tr th:only-of-type {\n",
       "        vertical-align: middle;\n",
       "    }\n",
       "\n",
       "    .dataframe tbody tr th {\n",
       "        vertical-align: top;\n",
       "    }\n",
       "\n",
       "    .dataframe thead th {\n",
       "        text-align: right;\n",
       "    }\n",
       "</style>\n",
       "<table border=\"1\" class=\"dataframe\">\n",
       "  <thead>\n",
       "    <tr style=\"text-align: right;\">\n",
       "      <th></th>\n",
       "      <th>class_col1</th>\n",
       "      <th>train_col1</th>\n",
       "      <th>train_col2</th>\n",
       "    </tr>\n",
       "  </thead>\n",
       "  <tbody>\n",
       "    <tr>\n",
       "      <th>0</th>\n",
       "      <td>0</td>\n",
       "      <td>0</td>\n",
       "      <td>0</td>\n",
       "    </tr>\n",
       "    <tr>\n",
       "      <th>1</th>\n",
       "      <td>1</td>\n",
       "      <td>1</td>\n",
       "      <td>2</td>\n",
       "    </tr>\n",
       "    <tr>\n",
       "      <th>2</th>\n",
       "      <td>2</td>\n",
       "      <td>2</td>\n",
       "      <td>4</td>\n",
       "    </tr>\n",
       "  </tbody>\n",
       "</table>\n",
       "</div>"
      ],
      "text/plain": [
       "   class_col1  train_col1  train_col2\n",
       "0           0           0           0\n",
       "1           1           1           2\n",
       "2           2           2           4"
      ]
     },
     "execution_count": 39,
     "metadata": {},
     "output_type": "execute_result"
    }
   ],
   "source": [
    "# Gathering Data and converting them to DataFrame\n",
    "\n",
    "train_Data = [\n",
    "    [0,0],\n",
    "    [1,2],\n",
    "    [2,4]\n",
    "]\n",
    "class_Data = [\n",
    "    0,\n",
    "    1,\n",
    "    2\n",
    "]\n",
    "train_Data = pd.DataFrame(train_Data)\n",
    "train_Data = train_Data.rename({\n",
    "    0:'train_col1',\n",
    "    1:'train_col2'\n",
    "}, axis='columns')\n",
    "\n",
    "class_Data = pd.DataFrame(class_Data)\n",
    "class_Data = class_Data.rename({\n",
    "    0:'class_col1'\n",
    "}, axis=1)\n",
    "df = pd.concat([class_Data, train_Data], axis=1)\n",
    "df"
   ]
  },
  {
   "cell_type": "code",
   "execution_count": 40,
   "metadata": {},
   "outputs": [
    {
     "name": "stdout",
     "output_type": "stream",
     "text": [
      "                            OLS Regression Results                            \n",
      "==============================================================================\n",
      "Dep. Variable:             class_col1   R-squared:                       1.000\n",
      "Model:                            OLS   Adj. R-squared:                  1.000\n",
      "Method:                 Least Squares   F-statistic:                 3.667e+30\n",
      "Date:                Sun, 29 Jul 2018   Prob (F-statistic):           3.32e-16\n",
      "Time:                        23:44:32   Log-Likelihood:                 101.92\n",
      "No. Observations:                   3   AIC:                            -199.8\n",
      "Df Residuals:                       1   BIC:                            -201.6\n",
      "Df Model:                           1                                         \n",
      "Covariance Type:            nonrobust                                         \n",
      "==============================================================================\n",
      "                 coef    std err          t      P>|t|      [0.025      0.975]\n",
      "------------------------------------------------------------------------------\n",
      "Intercept  -3.886e-16   6.74e-16     -0.576      0.667   -8.95e-15    8.18e-15\n",
      "train_col1     0.2000   1.04e-16   1.91e+15      0.000       0.200       0.200\n",
      "train_col2     0.4000   2.09e-16   1.91e+15      0.000       0.400       0.400\n",
      "==============================================================================\n",
      "Omnibus:                          nan   Durbin-Watson:                   0.006\n",
      "Prob(Omnibus):                    nan   Jarque-Bera (JB):                0.531\n",
      "Skew:                          -0.707   Prob(JB):                        0.767\n",
      "Kurtosis:                       1.500   Cond. No.                     1.50e+17\n",
      "==============================================================================\n",
      "\n",
      "Warnings:\n",
      "[1] Standard Errors assume that the covariance matrix of the errors is correctly specified.\n",
      "[2] The smallest eigenvalue is 1.19e-33. This might indicate that there are\n",
      "strong multicollinearity problems or that the design matrix is singular.\n"
     ]
    },
    {
     "name": "stderr",
     "output_type": "stream",
     "text": [
      "/anaconda3/lib/python3.6/site-packages/statsmodels/stats/stattools.py:72: ValueWarning: omni_normtest is not valid with less than 8 observations; 3 samples were given.\n",
      "  \"samples were given.\" % int(n), ValueWarning)\n"
     ]
    }
   ],
   "source": [
    "# Creating class and traing data and then fitting the data\n",
    "\n",
    "y, X = dmatrices('class_col1 ~ train_col1 + train_col2', data=df, return_type='dataframe')\n",
    "mod = sm.OLS(y, X) \n",
    "result = mod.fit() \n",
    "print(result.summary())"
   ]
  },
  {
   "cell_type": "code",
   "execution_count": null,
   "metadata": {},
   "outputs": [],
   "source": []
  }
 ],
 "metadata": {
  "kernelspec": {
   "display_name": "Python 3",
   "language": "python",
   "name": "python3"
  },
  "language_info": {
   "codemirror_mode": {
    "name": "ipython",
    "version": 3
   },
   "file_extension": ".py",
   "mimetype": "text/x-python",
   "name": "python",
   "nbconvert_exporter": "python",
   "pygments_lexer": "ipython3",
   "version": "3.6.5"
  }
 },
 "nbformat": 4,
 "nbformat_minor": 2
}
