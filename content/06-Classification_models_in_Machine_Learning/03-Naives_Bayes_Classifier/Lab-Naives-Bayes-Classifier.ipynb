{
 "cells": [
  {
   "cell_type": "markdown",
   "metadata": {},
   "source": [
    "## Lab - Naives Bayes Classifier\n",
    "\n",
    "Consider an orchestration server which renders IaaS (Infrastructure-as-a-Service) to a host of applications. The applications send a request which consists of the timestamp of request, the number of cores requested and the amount of RAM memory requested. Using this infrastructure requirements, the orchestration spawns a virtual machine with the said configurations for the application to utilize. We have a data set which contains requests data pertaining to all requests sent in the month of January 2019, by 3 major applications - Engineering Computations Program (ECP), Predictive Modeling Services (PMS) and Media Library Query (MLQ). Based on the 3 features mentioned above, we would like to predict which application may have sent the request.\n",
    "\n",
    "The link to the data set is given below. Apply a Naives Bayes Classifier on this dataset and test the accuracy of the model using any metric you know and consider appropriate."
   ]
  },
  {
   "cell_type": "code",
   "execution_count": 1,
   "metadata": {},
   "outputs": [],
   "source": [
    "# Importing pandas\n",
    "import pandas as pd\n",
    "\n",
    "req_df = pd.read_csv(\"../../../data/Reqs.csv\")\n",
    "\n",
    "req_df.head()"
   ]
  }
 ],
 "metadata": {
  "kernelspec": {
   "display_name": "Python 3",
   "language": "python",
   "name": "python3"
  },
  "language_info": {
   "codemirror_mode": {
    "name": "ipython",
    "version": 3
   },
   "file_extension": ".py",
   "mimetype": "text/x-python",
   "name": "python",
   "nbconvert_exporter": "python",
   "pygments_lexer": "ipython3",
   "version": "3.7.3"
  }
 },
 "nbformat": 4,
 "nbformat_minor": 4
}
