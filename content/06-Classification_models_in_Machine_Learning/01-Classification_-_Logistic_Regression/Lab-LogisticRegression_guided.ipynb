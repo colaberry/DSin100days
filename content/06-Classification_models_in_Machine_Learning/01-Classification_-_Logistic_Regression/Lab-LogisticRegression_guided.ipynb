{
 "cells": [
  {
   "cell_type": "markdown",
   "metadata": {},
   "source": [
    "## 02-Lab  - Logistic Regression\n",
    "\n",
    "In this lab, you will work with loan default dataset to predict default.\n",
    "The dataset contains information about income, balance and default for various people along with their student status.\n",
    "Your task is to fit a Logistic Regression model, and predict default status of individuals given the data sample.\n",
    "You are required to perform train-test split, GridSearchCV to find the best parameters and create the model.\n",
    "\n",
    "Data is availabe in : https://raw.githubusercontent.com/colaberry/DSin100days/master/data/default.csv"
   ]
  },
  {
   "cell_type": "code",
   "execution_count": 1,
   "metadata": {},
   "outputs": [
    {
     "name": "stdout",
     "output_type": "stream",
     "text": [
      "<class 'pandas.core.frame.DataFrame'>\n",
      "Int64Index: 10000 entries, 0 to 9999\n",
      "Data columns (total 6 columns):\n",
      "default     10000 non-null object\n",
      "student     10000 non-null object\n",
      "balance     10000 non-null float64\n",
      "income      10000 non-null float64\n",
      "default2    10000 non-null int64\n",
      "student2    10000 non-null int64\n",
      "dtypes: float64(2), int64(2), object(2)\n",
      "memory usage: 546.9+ KB\n"
     ]
    },
    {
     "data": {
      "text/html": [
       "<div>\n",
       "<style scoped>\n",
       "    .dataframe tbody tr th:only-of-type {\n",
       "        vertical-align: middle;\n",
       "    }\n",
       "\n",
       "    .dataframe tbody tr th {\n",
       "        vertical-align: top;\n",
       "    }\n",
       "\n",
       "    .dataframe thead th {\n",
       "        text-align: right;\n",
       "    }\n",
       "</style>\n",
       "<table border=\"1\" class=\"dataframe\">\n",
       "  <thead>\n",
       "    <tr style=\"text-align: right;\">\n",
       "      <th></th>\n",
       "      <th>default</th>\n",
       "      <th>student</th>\n",
       "      <th>balance</th>\n",
       "      <th>income</th>\n",
       "      <th>default2</th>\n",
       "      <th>student2</th>\n",
       "    </tr>\n",
       "  </thead>\n",
       "  <tbody>\n",
       "    <tr>\n",
       "      <th>0</th>\n",
       "      <td>No</td>\n",
       "      <td>No</td>\n",
       "      <td>729.526495</td>\n",
       "      <td>44361.625074</td>\n",
       "      <td>0</td>\n",
       "      <td>0</td>\n",
       "    </tr>\n",
       "    <tr>\n",
       "      <th>1</th>\n",
       "      <td>No</td>\n",
       "      <td>Yes</td>\n",
       "      <td>817.180407</td>\n",
       "      <td>12106.134700</td>\n",
       "      <td>0</td>\n",
       "      <td>1</td>\n",
       "    </tr>\n",
       "    <tr>\n",
       "      <th>2</th>\n",
       "      <td>No</td>\n",
       "      <td>No</td>\n",
       "      <td>1073.549164</td>\n",
       "      <td>31767.138947</td>\n",
       "      <td>0</td>\n",
       "      <td>0</td>\n",
       "    </tr>\n",
       "    <tr>\n",
       "      <th>3</th>\n",
       "      <td>No</td>\n",
       "      <td>No</td>\n",
       "      <td>529.250605</td>\n",
       "      <td>35704.493935</td>\n",
       "      <td>0</td>\n",
       "      <td>0</td>\n",
       "    </tr>\n",
       "    <tr>\n",
       "      <th>4</th>\n",
       "      <td>No</td>\n",
       "      <td>No</td>\n",
       "      <td>785.655883</td>\n",
       "      <td>38463.495879</td>\n",
       "      <td>0</td>\n",
       "      <td>0</td>\n",
       "    </tr>\n",
       "  </tbody>\n",
       "</table>\n",
       "</div>"
      ],
      "text/plain": [
       "  default student      balance        income  default2  student2\n",
       "0      No      No   729.526495  44361.625074         0         0\n",
       "1      No     Yes   817.180407  12106.134700         0         1\n",
       "2      No      No  1073.549164  31767.138947         0         0\n",
       "3      No      No   529.250605  35704.493935         0         0\n",
       "4      No      No   785.655883  38463.495879         0         0"
      ]
     },
     "execution_count": 1,
     "metadata": {},
     "output_type": "execute_result"
    }
   ],
   "source": [
    "# Import the library\n",
    "import pandas as pd\n",
    "from sklearn.model_selection import train_test_split\n",
    "from sklearn.linear_model import LogisticRegression\n",
    "from sklearn.metrics import accuracy_score, confusion_matrix, plot_roc_curve, plot_confusion_matrix\n",
    "import matplotlib.pyplot as plt\n",
    "\n",
    "default = pd.read_csv('https://raw.githubusercontent.com/colaberry/DSin100days/master/data/default.csv', na_values='?').dropna()\n",
    "default.info()\n",
    "default.head()\n",
    "\n",
    "#Write your code here or in other code cells down"
   ]
  },
  {
   "cell_type": "markdown",
   "metadata": {},
   "source": [
    "In this data set we have multiple columns of data and we have to fit a logistic regression model to it. The first task is to make sure that all ``Default``, ``student``, ``default2`` and ``student2`` are categorical variables "
   ]
  },
  {
   "cell_type": "code",
   "execution_count": 2,
   "metadata": {},
   "outputs": [
    {
     "data": {
      "text/plain": [
       "default      object\n",
       "student      object\n",
       "balance     float64\n",
       "income      float64\n",
       "default2      int64\n",
       "student2      int64\n",
       "dtype: object"
      ]
     },
     "execution_count": 2,
     "metadata": {},
     "output_type": "execute_result"
    }
   ],
   "source": [
    "# Check if variables are categorical. You can use the dtypes property of the dataframe to check this.\n",
    "\"####\""
   ]
  },
  {
   "cell_type": "markdown",
   "metadata": {},
   "source": [
    "default      object <br>\n",
    "student      object <br>\n",
    "balance     float64 <br>\n",
    "income      float64 <br>\n",
    "default2      int64 <br>\n",
    "student2      int64 <br>\n",
    "dtype: object"
   ]
  },
  {
   "cell_type": "code",
   "execution_count": 9,
   "metadata": {},
   "outputs": [
    {
     "name": "stdout",
     "output_type": "stream",
     "text": [
      "default2 and student2 options are [0, 1] and [0, 1]\n"
     ]
    }
   ],
   "source": [
    "# Check options for default2 and student2. You are going to have to get the index of value counts and convert the index to a list\n",
    "# You can chain all three commands. \n",
    "default2_opts = \"####\"\n",
    "student2_opts = \"####\"\n",
    "\n",
    "print(\"default2 and student2 options are {} and {}\".format(default2_opts, student2_opts))"
   ]
  },
  {
   "cell_type": "markdown",
   "metadata": {},
   "source": [
    "default2 and student2 options are [0, 1] and [0, 1]"
   ]
  },
  {
   "cell_type": "code",
   "execution_count": 20,
   "metadata": {},
   "outputs": [
    {
     "data": {
      "text/plain": [
       "default     category\n",
       "student     category\n",
       "balance      float64\n",
       "income       float64\n",
       "default2    category\n",
       "student2    category\n",
       "dtype: object"
      ]
     },
     "execution_count": 20,
     "metadata": {},
     "output_type": "execute_result"
    }
   ],
   "source": [
    "## Converting columns to categorical types\n",
    "# For default and student columns you will need to first convert them to categorical type \n",
    "# then convert them to codes. This can be done using 'df.cat.codes'. You will then need \n",
    "# to convert these codes to categorical as well. You can chain all these commands.\n",
    "default.default = \"####\"\n",
    "default.student = \"####\"\n",
    "\n",
    "# For default2 and student2 all you need to do is convert them to categorical type\n",
    "default.default2 = \"####\"\n",
    "default.student2 = \"####\"\n",
    "\n",
    "# Check agin if variables are categorical. You can use the dtypes property of the dataframe to check this.\n",
    "\"####\""
   ]
  },
  {
   "cell_type": "markdown",
   "metadata": {},
   "source": [
    "default     category <br>\n",
    "student       object <br>\n",
    "balance      float64 <br>\n",
    "income       float64 <br>\n",
    "default2    category <br>\n",
    "student2    category <br>\n",
    "dtype: object"
   ]
  },
  {
   "cell_type": "markdown",
   "metadata": {},
   "source": [
    "If this the case now lets split the training dataset into test and train"
   ]
  },
  {
   "cell_type": "code",
   "execution_count": 22,
   "metadata": {},
   "outputs": [],
   "source": [
    "# Select you target variable and features. Then run test train split on it, choose a train_size of 70% and set random state to 0. \n",
    "y = \"####\"\n",
    "X = \"####\"\n",
    "\n",
    "train_x, test_x, train_y, test_y = \"####\""
   ]
  },
  {
   "cell_type": "code",
   "execution_count": 23,
   "metadata": {},
   "outputs": [
    {
     "name": "stdout",
     "output_type": "stream",
     "text": [
      "Accuracy score of the fit is 0.977\n"
     ]
    }
   ],
   "source": [
    "# Declare an instance of LogisticRegression, run fit and predict it on the test dataset. \n",
    "# These lines are fairly similar to linear regression\n",
    "lgr = \"####\"\n",
    "\"####\"\n",
    "preds = \"####\"\n",
    "\n",
    "# You will use accuracy score as the metric to determine what is the accuracy\n",
    "acc_score = \"####\"\n",
    "print(\"Accuracy score of the fit is {}\".format(acc_score))"
   ]
  },
  {
   "cell_type": "markdown",
   "metadata": {},
   "source": [
    "Accuracy score of the fit is 0.977"
   ]
  },
  {
   "cell_type": "code",
   "execution_count": 24,
   "metadata": {},
   "outputs": [
    {
     "name": "stdout",
     "output_type": "stream",
     "text": [
      "[[2868   19]\n",
      " [  50   63]]\n"
     ]
    }
   ],
   "source": [
    "# You will have to get the values of the confusion matrix, look to the import statements to figure \n",
    "# out which function you need to use for this. The confusion matrix takes the same inputs as the\n",
    "# accuracy score\n",
    "confusion_mat_values = \"####\"\n",
    "print(confusion_mat_values)"
   ]
  },
  {
   "cell_type": "markdown",
   "metadata": {},
   "source": [
    "[2868   19] <br>\n",
    " [  50   63]] <br>"
   ]
  },
  {
   "cell_type": "code",
   "execution_count": 27,
   "metadata": {},
   "outputs": [
    {
     "data": {
      "text/plain": [
       "<sklearn.metrics._plot.confusion_matrix.ConfusionMatrixDisplay at 0x7f2a297e0390>"
      ]
     },
     "execution_count": 27,
     "metadata": {},
     "output_type": "execute_result"
    },
    {
     "data": {
      "image/png": "[encoded data removed]",
      "text/plain": [
       "<Figure size 432x288 with 2 Axes>"
      ]
     },
     "metadata": {
      "needs_background": "light"
     },
     "output_type": "display_data"
    }
   ],
   "source": [
    "# You need to Plot the confusion matrix, look to the imports to figure out which function to use for \n",
    "# this purpose. For this you will also need to pass the logistic regression model object \n",
    "\"####\""
   ]
  },
  {
   "cell_type": "markdown",
   "metadata": {},
   "source": [
    "<img src=\"../../../images/logistic_regression_confusion_matrix.png\">"
   ]
  },
  {
   "cell_type": "code",
   "execution_count": 30,
   "metadata": {},
   "outputs": [
    {
     "data": {
      "image/png": "[encoded data removed]",
      "text/plain": [
       "<Figure size 1080x1080 with 1 Axes>"
      ]
     },
     "metadata": {
      "needs_background": "light"
     },
     "output_type": "display_data"
    }
   ],
   "source": [
    "# Plotting the ROC curve. Look to the imports to figure out which function\n",
    "# to use for this. Similar to the confusion matrix, you will need to pass the\n",
    "# model object as well. Additionally you will need to pass ax=ax so that the \n",
    "# figure is displayed properly\n",
    "fig, ax = plt.subplots(figsize=(15,15))\n",
    "lgr_roc = \"####\"\n",
    "lgr_roc.figure_.suptitle(\"ROC curve\")\n",
    "plt.xlabel('False Positive Rate', fontsize=20)\n",
    "plt.ylabel('True Positive Rate', fontsize=20)\n",
    "plt.title('ROC Curve', fontsize=20)\n",
    "plt.show()"
   ]
  },
  {
   "cell_type": "markdown",
   "metadata": {},
   "source": [
    "<!-- <img src=\"../../../images/logistic_regression_ROC_curve.png\"> -->"
   ]
  }
 ],
 "metadata": {
  "kernelspec": {
   "display_name": "Python 3",
   "language": "python",
   "name": "python3"
  },
  "language_info": {
   "codemirror_mode": {
    "name": "ipython",
    "version": 3
   },
   "file_extension": ".py",
   "mimetype": "text/x-python",
   "name": "python",
   "nbconvert_exporter": "python",
   "pygments_lexer": "ipython3",
   "version": "3.7.3"
  }
 },
 "nbformat": 4,
 "nbformat_minor": 4
}
