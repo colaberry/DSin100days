{
 "cells": [
  {
   "cell_type": "markdown",
   "metadata": {},
   "source": [
    "# GitHub Tutorial 2"
   ]
  },
  {
   "cell_type": "markdown",
   "metadata": {},
   "source": [
    "## Part 2 - Linux (Ubuntu)"
   ]
  },
  {
   "cell_type": "markdown",
   "metadata": {},
   "source": [
    "### Prerequisites"
   ]
  },
  {
   "cell_type": "markdown",
   "metadata": {},
   "source": [
    "- Access to a user account with sudo or root privileges\n",
    "- A server with any Ubuntu release up and running.\n",
    "- Access to a command line/terminal window (Ctrl-Alt-T)\n",
    "- The apt-get tool, pre-loaded in Ubuntu and other Debian-based distros"
   ]
  },
  {
   "cell_type": "markdown",
   "metadata": {},
   "source": [
    "## Install Git with Apt on Ubuntu"
   ]
  },
  {
   "cell_type": "markdown",
   "metadata": {},
   "source": [
    "Using the apt package management tool is the easiest way to install Git. However, the version in the default repositories may not be the latest release from the developer. If you want to install the latest release, skip down to install from source."
   ]
  },
  {
   "cell_type": "markdown",
   "metadata": {},
   "source": [
    "1. To update the packages, launch a terminal window, and enter:\n",
    "\n",
    "    *sudo apt-get update*\n",
    "\n",
    "    This helps to ensure you’re working with the latest software versions."
   ]
  },
  {
   "cell_type": "markdown",
   "metadata": {},
   "source": [
    "2. To install from the default repositories, enter the following:\n",
    "\n",
    "    *sudo apt-get install git*\n",
    "\n",
    "    Allow the process to complete."
   ]
  },
  {
   "cell_type": "markdown",
   "metadata": {},
   "source": [
    "3. Verify the installation and version by entering:\n",
    "\n",
    "    *git ––version*\n",
    "    \n",
    "    The output should appear as seen below:"
   ]
  },
  {
   "cell_type": "markdown",
   "metadata": {},
   "source": [
    "<img src=\"../images/github221.png\" style=\"width:50vw\">"
   ]
  },
  {
   "cell_type": "markdown",
   "metadata": {},
   "source": [
    "## Install Git From Source Code"
   ]
  },
  {
   "cell_type": "markdown",
   "metadata": {},
   "source": [
    "To use the latest version of Git on Ubuntu, download and install from the original source code."
   ]
  },
  {
   "cell_type": "markdown",
   "metadata": {},
   "source": [
    "1. Start by installing the following packages:\n",
    "\n",
    "    *sudo apt install make libssl-dev libghc-zlib-dev libcurl4-gnutls-dev libexpat1-dev gettext unzip*\n",
    "    \n",
    "    Allow the process to complete."
   ]
  },
  {
   "cell_type": "markdown",
   "metadata": {},
   "source": [
    "2. Open a browser window and navigate to the following address:\n",
    "\n",
    "    https://github.com/git/git"
   ]
  },
  {
   "cell_type": "markdown",
   "metadata": {},
   "source": [
    "3. You can select the version of Git you download by changing the branch to a specific version. Select the Master Branch.\n",
    "\n",
    "    Also, at the top, you see a link labeled releases to browse the different release versions. It is recommended that you avoid versions labeled with “rc.” This stands for release candidate, and may not be completely stable."
   ]
  },
  {
   "cell_type": "markdown",
   "metadata": {},
   "source": [
    "<img src=\"../images/github222.png\" style=\"width:50vw\">"
   ]
  },
  {
   "cell_type": "markdown",
   "metadata": {},
   "source": [
    "4. Click the green Clone or download button on the right-hand side. Copy the URL by clicking on the file icon."
   ]
  },
  {
   "cell_type": "markdown",
   "metadata": {},
   "source": [
    "<img src=\"../images/github223.png\" style=\"width:50vw\">"
   ]
  },
  {
   "cell_type": "markdown",
   "metadata": {},
   "source": [
    "5. Switch back to your command prompt and enter the following:\n",
    "\n",
    "    *cd /tmp*"
   ]
  },
  {
   "cell_type": "markdown",
   "metadata": {},
   "source": [
    "6. You are now working in the temp directory. Type in the following command:\n",
    "\n",
    "    *sudo wget https://github.com/git/git/archive/master.zip -O git.zip*\n",
    "    \n",
    "    This downloads the Git file, and renames it git.zip."
   ]
  },
  {
   "cell_type": "markdown",
   "metadata": {},
   "source": [
    "<img src=\"../images/github224.png\" style=\"width:50vw\">"
   ]
  },
  {
   "cell_type": "markdown",
   "metadata": {},
   "source": [
    "7. Next, extract the zip files by entering the command:\n",
    "\n",
    "    *unzip git.zip*"
   ]
  },
  {
   "cell_type": "markdown",
   "metadata": {},
   "source": [
    "8. Allow the process to finish. Then, move to the new directory:\n",
    "\n",
    "    *cd git-**"
   ]
  },
  {
   "cell_type": "markdown",
   "metadata": {},
   "source": [
    "<img src=\"../images/github225.png\" style=\"width:50vw\">"
   ]
  },
  {
   "cell_type": "markdown",
   "metadata": {},
   "source": [
    "9. Then, compile the package with the following command:\n",
    "\n",
    "    *make prefix=/usr/local/*"
   ]
  },
  {
   "cell_type": "markdown",
   "metadata": {},
   "source": [
    "10. And once the process is finished, install the software with:\n",
    "\n",
    "    *sudo make prefix=/usr/local install*"
   ]
  },
  {
   "cell_type": "markdown",
   "metadata": {},
   "source": [
    "11. Verify Git installation by entering:\n",
    "\n",
    "    *git ––version*\n",
    "    \n",
    "    The output should appear as:\n",
    "\n",
    "    *Git version 2.18.0 (depending on the version you selected)*"
   ]
  },
  {
   "cell_type": "markdown",
   "metadata": {},
   "source": [
    "### Configuring Git"
   ]
  },
  {
   "cell_type": "markdown",
   "metadata": {},
   "source": [
    "Git contains a basic configuration file that holds your information. Setting your username and email address is essential."
   ]
  },
  {
   "cell_type": "markdown",
   "metadata": {},
   "source": [
    "1. In a terminal window, enter the following and replace your_name with your name, and email@address.com with your email address.:\n",
    "\n",
    "    *git config ––global user.name “your_name”*\n",
    "    \n",
    "    *git config ––global user.email “email@address.com”*"
   ]
  },
  {
   "cell_type": "markdown",
   "metadata": {},
   "source": [
    "2. Verify configuration changes with the command:\n",
    "\n",
    "    *git config ––list*\n",
    "    \n",
    "    The system should display the name and email address you just entered."
   ]
  },
  {
   "cell_type": "markdown",
   "metadata": {},
   "source": [
    "<img src=\"../images/github226.png\" style=\"width:50vw\">"
   ]
  },
  {
   "cell_type": "markdown",
   "metadata": {},
   "source": [
    "We have successfully installed Git on Ubuntu"
   ]
  }
 ],
 "metadata": {
  "kernelspec": {
   "display_name": "Python 3",
   "language": "python",
   "name": "python3"
  },
  "language_info": {
   "codemirror_mode": {
    "name": "ipython",
    "version": 3
   },
   "file_extension": ".py",
   "mimetype": "text/x-python",
   "name": "python",
   "nbconvert_exporter": "python",
   "pygments_lexer": "ipython3",
   "version": "3.8.5"
  }
 },
 "nbformat": 4,
 "nbformat_minor": 4
}
