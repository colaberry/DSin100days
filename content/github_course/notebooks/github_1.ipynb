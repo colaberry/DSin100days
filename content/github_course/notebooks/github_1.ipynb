{
 "cells": [
  {
   "cell_type": "markdown",
   "metadata": {},
   "source": [
    "# GitHub Tutorial 1"
   ]
  },
  {
   "cell_type": "markdown",
   "metadata": {},
   "source": [
    "## Version Control"
   ]
  },
  {
   "cell_type": "markdown",
   "metadata": {},
   "source": [
    "Version control is a system that records changes to a file or set of files over time so that you can recall specific versions later. You will often use software source code as the files being version controlled, though in reality you can do this with nearly any type of file on a computer.\n",
    "\n",
    "A Version Control System (VCS) allows you to revert selected files back to a previous state, revert the entire project back to a previous state, compare changes over time, see who last modified something that might be causing a problem, who introduced an issue and when, and more. Using a VCS also generally means that if you screw things up or lose files, you can easily recover. In addition, you get all this for very little overhead."
   ]
  },
  {
   "cell_type": "markdown",
   "metadata": {},
   "source": [
    "## Introduction"
   ]
  },
  {
   "cell_type": "markdown",
   "metadata": {},
   "source": [
    "Version Control (aka Revision Control aka Source Control) lets you track your files over time. Why do you care? So when you mess up you can easily get back to a previous working version.\n",
    "\n",
    "You probably have your own version control system without realizing it's technical name. You probably have files like\n",
    "- Resume2019.doc\n",
    "- Resume2020.doc\n",
    "- colaberry-logo3.png\n",
    "- colaberry-logo4.png\n",
    "- logo-old.png"
   ]
  },
  {
   "cell_type": "markdown",
   "metadata": {},
   "source": [
    "It’s why we use **“Save As”**. You want the new file without deleting the old one. It’s a common problem, and some simple solutions are as follows:\n",
    "\n",
    "- Make a single backup copy (Document.old.txt).\n",
    "- A better way is to add a version number or date: Document_V1.txt, Document2020.txt\n",
    "- We may even use a shared folder so other people can see and edit files without sending them over email. Hopefully they relabel the file after they save it."
   ]
  },
  {
   "cell_type": "markdown",
   "metadata": {},
   "source": [
    "## So Why Do We Need A Version Control System (VCS)?"
   ]
  },
  {
   "cell_type": "markdown",
   "metadata": {},
   "source": [
    "The shared folder/naming system is fine for small personal projects or documents. But it becomes unfeasible for larger or team based projects."
   ]
  },
  {
   "cell_type": "markdown",
   "metadata": {},
   "source": [
    "Large, fast-changing projects with many authors need a Version Control System to track changes and avoid general chaos. The main functions of a VCS are as follows:\n",
    "- **Backup and Restore.** Files are saved as they are edited, and you can jump to any moment in time. Need that file as it was on Feb 23, 2019? No problem.\n",
    "- **Synchronization.** Lets people share files and stay up-to-date with the latest version.\n",
    "- **Short-term undo.** Monkeying with a file and messed it up? Throw away your changes and go back to the “last known good” version in the database.\n",
    "- **Long-term undo.** Sometimes we mess up bad. Suppose you made a change a year ago, and it had a bug. Jump back to the old version, and see what change was made that day.\n",
    "- **Track Changes.** As files are updated, you can leave messages explaining why the change happened (stored in the VCS, not the file). This makes it easy to see how a file is evolving over time, and why.\n",
    "- **Track Ownership.** A VCS tags every change with the name of the person who made it. Helpful for giving credit and maintaining responsibility.\n",
    "- **Sandboxing,** or insurance against yourself. Making a big change? You can make temporary changes in an isolated area, test and work out the kinks before “checking in” your changes.\n",
    "- **Branching and merging.** A larger sandbox. You can branch a copy of your code into a separate area and modify it in isolation (tracking changes separately). Later, you can merge your work back into the common area."
   ]
  },
  {
   "cell_type": "markdown",
   "metadata": {},
   "source": [
    "## Examples"
   ]
  },
  {
   "cell_type": "markdown",
   "metadata": {},
   "source": [
    "- Alice **adds** a file (list.txt) to the repository. \n",
    "- She **checks it out**, makes a change (puts “milk” on the list), and checks it back in with a checkin message (“Added required item.”). \n",
    "- The next morning, Bob **updates** his local working set and sees the latest revision of list.txt, which contains “milk”. \n",
    "- He can browse the **changelog** or use commands like **diff** to see that Alice put “milk” the day before."
   ]
  },
  {
   "cell_type": "markdown",
   "metadata": {},
   "source": [
    "## Benefits of using version control"
   ]
  },
  {
   "cell_type": "markdown",
   "metadata": {},
   "source": [
    "Having a VCS makes it easy for you to keep track of collaborative and personal projects - all files necessary for certain analyses can be held together and people can add in their code, graphs, etc. as the projects develop. Each file on has a history, making it easy to explore the changes that occurred to it at different time points. "
   ]
  },
  {
   "cell_type": "markdown",
   "metadata": {},
   "source": [
    "<img src=\"../images/github1.png\" style=\"width:40vw\">"
   ]
  },
  {
   "cell_type": "markdown",
   "metadata": {},
   "source": [
    "You can review other people’s code, add comments to certain lines or the overall document, and suggest changes. For collaborative projects, it allows you to assign tasks to different users, making it clear who is responsible for which part of the analysis. You can also ask certain users to review your code. \n",
    "\n",
    "For personal projects, version control allows you to keep track of your work and easily navigate among the many versions of the files you create, whilst also maintaining an online backup."
   ]
  },
  {
   "cell_type": "markdown",
   "metadata": {},
   "source": [
    "## GitHub vs Bitbucket vs GitLab"
   ]
  },
  {
   "cell_type": "markdown",
   "metadata": {},
   "source": [
    "GitHub, Bitbucket, and GitLab are code collaboration and version control tools offering repository management. They each have their share of fans, though GitHub is by far the most-used of the three. Of the three, only GitLab is open source, though all three support open source projects. GitHub offers free public repositories; Bitbucket also offers free private repositories; GitLab offers a Community Edition which is entirely free."
   ]
  },
  {
   "cell_type": "markdown",
   "metadata": {},
   "source": [
    "|                         GitHub                        \t|           Bitbucket          \t|            GitLab           \t|\n",
    "|:-----------------------------------------------------:\t|:----------------------------:\t|:---------------------------:\t|\n",
    "|              Support open source projects             \t| Support open source projects \t|         Open source         \t|\n",
    "|                Free public repositories               \t|   Free private repositories  \t|      Community Edition      \t|\n",
    "|                        Nice UI                        \t|       Nice UI and tools      \t|           Slow UI           \t|\n",
    "|                       Easy setup                      \t|          Easy setup          \t|          Easy setup         \t|\n",
    "| Expensive for lone developers that want private repos \t|    Affordable git hosting    \t|         Self hosted         \t|\n",
    "|             Faster pull and push requests             \t|  Slow pull and push requests \t| Slow pull and push requests \t|"
   ]
  },
  {
   "cell_type": "markdown",
   "metadata": {},
   "source": [
    "We will be focuisng on GitHub in this tutorial."
   ]
  }
 ],
 "metadata": {
  "kernelspec": {
   "display_name": "Python 3",
   "language": "python",
   "name": "python3"
  },
  "language_info": {
   "codemirror_mode": {
    "name": "ipython",
    "version": 3
   },
   "file_extension": ".py",
   "mimetype": "text/x-python",
   "name": "python",
   "nbconvert_exporter": "python",
   "pygments_lexer": "ipython3",
   "version": "3.8.5"
  }
 },
 "nbformat": 4,
 "nbformat_minor": 4
}
