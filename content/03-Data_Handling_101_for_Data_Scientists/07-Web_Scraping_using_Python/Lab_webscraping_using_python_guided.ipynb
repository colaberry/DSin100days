{
 "cells": [
  {
   "cell_type": "markdown",
   "metadata": {},
   "source": [
    "# Lab - Webscraping Using Python\n",
    "\n",
    "In this lab, you are required to write python code to open a webpage and scrape the information on the website using BeautifulSoup.\n",
    "\n",
    "Follow these instructions:\n",
    "<ul>\n",
    "<li>Write python code with BeautifulSoup and requests modules</li>\n",
    "<li> Part 1: Read the html contents from https://towardsdatascience.com/deploying-a-python-web-app-on-aws-57ed772b2319</li>\n",
    "<li>Part 2: Get the table data from \"https://archive.ics.uci.edu/ml/datasets.php?format=&task=&att=&area=&numAtt=&numIns=&type=&sort=nameUp&view=table\"\n",
    "</ul>\n"
   ]
  },
  {
   "cell_type": "code",
   "execution_count": 1,
   "metadata": {},
   "outputs": [],
   "source": [
    "import requests\n",
    "from bs4 import BeautifulSoup\n",
    "import pandas as pd"
   ]
  },
  {
   "cell_type": "markdown",
   "metadata": {},
   "source": [
    "## Part 1 "
   ]
  },
  {
   "cell_type": "code",
   "execution_count": 2,
   "metadata": {},
   "outputs": [
    {
     "name": "stdout",
     "output_type": "stream",
     "text": [
      "The type of soup variable is <class 'bs4.BeautifulSoup'>\n"
     ]
    }
   ],
   "source": [
    "#Write your code below\n",
    "\n",
    "# Given the url below get the html content of the site\n",
    "url = \"https://towardsdatascience.com/deploying-a-python-web-app-on-aws-57ed772b2319\"\n",
    "html = \"####\"\n",
    "# Use Beautiful soup to generate the soup term. You are essentially converting\n",
    "# the html content to a beautiful soup variable\n",
    "soup = \"####\"\n",
    "soup_type = \"####\"\n",
    "print(\"The type of soup variable is {}\".format(soup_type))"
   ]
  },
  {
   "cell_type": "markdown",
   "metadata": {},
   "source": [
    "The type of soup variable is <class 'bs4.BeautifulSoup'>\n"
   ]
  },
  {
   "cell_type": "code",
   "execution_count": 3,
   "metadata": {},
   "outputs": [
    {
     "name": "stdout",
     "output_type": "stream",
     "text": [
      "Title of the article is: Deploying a Python Web App on AWS\n",
      "Total number of images in the article: 17\n"
     ]
    }
   ],
   "source": [
    "\n",
    "# Get the title of the article. You will have to go to url and check which div contains the title header\n",
    "tag = \"####\"\n",
    "article_title = tag.text \n",
    "\n",
    "# Get all the image locations/src.\n",
    "# The first step is to find the article tag. This is because we only care about the images in the artilce\n",
    "article_tag = \"####\"\n",
    "\n",
    "# Next find all the image tags\n",
    "img_tags = \"####\"\n",
    "\n",
    "# We will store all the image links in this variable\n",
    "img_src = []\n",
    "\n",
    "# Write a for loop that checks is src is in the image tag attributes and if so appends src to img_src\n",
    "for img in img_tags: \n",
    "    if\"####\" in \"####\":\n",
    "        \"####\"\n",
    "\n",
    "len_images = \"####\"\n",
    "print(\"Title of the article is: {}\".format(article_title))\n",
    "\n",
    "print(\"Total number of images in the article: {}\".format(len_images))"
   ]
  },
  {
   "cell_type": "markdown",
   "metadata": {},
   "source": [
    "Title of the article is: Deploying a Python Web App on AWS <br>\n",
    "Total number of images in the article: 17"
   ]
  },
  {
   "cell_type": "markdown",
   "metadata": {},
   "source": [
    "## Part 2 "
   ]
  },
  {
   "cell_type": "code",
   "execution_count": 4,
   "metadata": {},
   "outputs": [],
   "source": [
    "# Scrape the UCI table data and get the soup variable the same way you did in part 1   \n",
    "uci_url = \"https://archive.ics.uci.edu/ml/datasets.php?format=&task=&att=&area=&numAtt=&numIns=&type=&sort=nameUp&view=table\"\n",
    "html = \"####\"\n",
    "soup = \"####\"\n"
   ]
  },
  {
   "cell_type": "code",
   "execution_count": 5,
   "metadata": {},
   "outputs": [
    {
     "name": "stdout",
     "output_type": "stream",
     "text": [
      "Number of rows of data: 153\n",
      "\n",
      "Head of the datset is:\n",
      "0                                               Name    \\\n",
      "1                2.4 GHZ Indoor Channel Measurements     \n",
      "2           3D Road Network (North Jutland, Denmark)     \n",
      "3                                         3W dataset     \n",
      "4       : Simulated Data set of Iraqi tourism places     \n",
      "5     A study of  Asian Religious and Biblical Texts     \n",
      "\n",
      "0                  Data Types                 Default Task Attribute Types  \\\n",
      "1               Multivariate               Classification            Real    \n",
      "2           Sequential, Text       Regression, Clustering            Real    \n",
      "3  Multivariate, Time-Series   Classification, Clustering   Integer, Real    \n",
      "4               Multivariate   Classification, Clustering                    \n",
      "5         Multivariate, Text   Classification, Clustering         Integer    \n",
      "\n",
      "0 # Instances # Attributes   Year      \n",
      "1       7840            5   2018       \n",
      "2     434874            4   2013       \n",
      "3       1984            8   2019       \n",
      "4        232           16   2020       \n",
      "5        590         8265   2019       \n"
     ]
    }
   ],
   "source": [
    "# You will need to get the table tag. There are two tables in this url, you will need the first table\n",
    "table_tag = \"####\"\n",
    "\n",
    "# This tells you how many rows of data are in the table\n",
    "rows = len(table_tag)-1\n",
    "\n",
    "# In this part we will go through the table tags get and the text from each row. Remember to split the text \n",
    "# to store in a list. The variable store_rows will be a list of lists. \n",
    "store_rows = [] \n",
    "for t in table_tag: \n",
    "        \"####\"    \n",
    "\n",
    "# Covert store rows to a dataframe        \n",
    "df= \"####\"\n",
    "\n",
    "# Rename the columns of df to the first row of the dataset \n",
    "\"####\" = \"####\"\n",
    "\n",
    "# Drop the first row of the dataset\n",
    "df = \"####\"\n",
    "\n",
    "# Get the head of the dataset\n",
    "df_head = \"####\"\n",
    "\n",
    "\n",
    "print(\"Number of rows of data: {}\\n\".format(rows))\n",
    "print(\"Head of the datset is:\\n{}\".format(df_head))"
   ]
  },
  {
   "cell_type": "markdown",
   "metadata": {},
   "source": [
    "Number of rows of data: 153 <br>\n",
    "<br>\n",
    "0                                               Name    \\ <br>\n",
    "1                2.4 GHZ Indoor Channel Measurements     <br>\n",
    "2           3D Road Network (North Jutland, Denmark)     <br>\n",
    "3                                         3W dataset     <br>\n",
    "4       : Simulated Data set of Iraqi tourism places     <br>\n",
    "5     A study of  Asian Religious and Biblical Texts     <br>\n",
    "<br>\n",
    "0                  Data Types                 Default Task Attribute Types  \\ <br>\n",
    "1               Multivariate               Classification            Real     <br>\n",
    "2           Sequential, Text       Regression, Clustering            Real     <br>\n",
    "3  Multivariate, Time-Series   Classification, Clustering   Integer, Real     <br>\n",
    "4               Multivariate   Classification, Clustering                    <br>\n",
    "5         Multivariate, Text   Classification, Clustering         Integer     <br>\n",
    "<br>\n",
    "0 # Instances # Attributes   Year      <br>\n",
    "1       7840            5   2018       <br>\n",
    "2     434874            4   2013       <br>\n",
    "3       1984            8   2019       <br>\n",
    "4        232           16   2020       <br>\n",
    "5        590         8265   2019    <br>"
   ]
  },
  {
   "cell_type": "code",
   "execution_count": null,
   "metadata": {},
   "outputs": [],
   "source": []
  }
 ],
 "metadata": {
  "kernelspec": {
   "display_name": "Python 3",
   "language": "python",
   "name": "python3"
  },
  "language_info": {
   "codemirror_mode": {
    "name": "ipython",
    "version": 3
   },
   "file_extension": ".py",
   "mimetype": "text/x-python",
   "name": "python",
   "nbconvert_exporter": "python",
   "pygments_lexer": "ipython3",
   "version": "3.7.3"
  }
 },
 "nbformat": 4,
 "nbformat_minor": 4
}
