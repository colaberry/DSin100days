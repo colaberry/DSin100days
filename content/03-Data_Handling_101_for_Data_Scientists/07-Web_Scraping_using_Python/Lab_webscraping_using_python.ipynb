{
 "cells": [
  {
   "cell_type": "markdown",
   "metadata": {},
   "source": [
    "# Lab - Webscraping Using Python\n",
    "\n",
    "In this lab, you are required to write python code to open a webpage and scrape the information on the website using BeautifulSoup.\n",
    "\n",
    "Follow these instructions:\n",
    "<ul>\n",
    "<li>Write python code with BeautifulSoup and requests modules</li>\n",
    "<li>Read the html contents from https://www.python.org/downloads/</li>\n",
    "<li>Read the button with \"Download python x.y.z\" where x.y.z is the version.</li> \n",
    "<li>Print the exact inner text within the download button with the latest version number as it is on the python download page.</li>\n",
    "</ul>\n",
    "Ref: You may refer to https://www.python.org/downloads/ and use \"inspect\" element in the browser to know the class and tag specifics. "
   ]
  },
  {
   "cell_type": "code",
   "execution_count": null,
   "metadata": {},
   "outputs": [],
   "source": [
    "#Write your code below"
   ]
  }
 ],
 "metadata": {
  "kernelspec": {
   "display_name": "Python 3",
   "language": "python",
   "name": "python3"
  },
  "language_info": {
   "codemirror_mode": {
    "name": "ipython",
    "version": 3
   },
   "file_extension": ".py",
   "mimetype": "text/x-python",
   "name": "python",
   "nbconvert_exporter": "python",
   "pygments_lexer": "ipython3",
   "version": "3.7.3"
  }
 },
 "nbformat": 4,
 "nbformat_minor": 4
}
