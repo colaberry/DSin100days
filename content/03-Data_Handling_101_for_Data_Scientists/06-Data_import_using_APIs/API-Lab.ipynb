{
 "cells": [
  {
   "cell_type": "markdown",
   "metadata": {},
   "source": [
    "# API Lab\n",
    "For this Lab we will be working with an open API named geonames (http://www.geonames.org/export/web-services.html). It is a database that contains names and places of/in a country. \n",
    "<br>Pre-Requisite \n",
    " <ul>\n",
    "    <li>Make an Geoname account, by following the steps on the website.</li>\n",
    "    <li>Also enable making Http requests</li>\n",
    " </ul>\n",
    "\n",
    "<ol>\n",
    "    Your lab requires you to access the list of countries and their postal information through an API that provides such kind of information and then with the postal code print all the placenames and their countries with the help of the postal code api.\n",
    "    <li>Make a request to get all the Country Codes and get United States country code.</li> \n",
    "    <li>Pick a valid postal code either search or try any known american postal code.</li>\n",
    "    <b>Note: </b> If you have a postal code in mind please use that or guess another one and validate through the application instantiated below\n",
    "    <li>Call another Postal code API and now print the state, and placename referenced with with that postal code in the US</li>\n",
    "</ol>\n",
    "\n",
    "Please research the website to look at other API calls."
   ]
  },
  {
   "cell_type": "code",
   "execution_count": 2,
   "metadata": {},
   "outputs": [
    {
     "data": {
      "application/vnd.jupyter.widget-view+json": {
       "model_id": "6e226a007d4b462f80129f48a948dbfc",
       "version_major": 2,
       "version_minor": 0
      },
      "text/plain": [
       "Text(value='', description='Postal Code: ')"
      ]
     },
     "metadata": {},
     "output_type": "display_data"
    },
    {
     "data": {
      "application/vnd.jupyter.widget-view+json": {
       "model_id": "1de19406babd402bac8db96f800d502c",
       "version_major": 2,
       "version_minor": 0
      },
      "text/plain": [
       "Button(description='Check', style=ButtonStyle())"
      ]
     },
     "metadata": {},
     "output_type": "display_data"
    }
   ],
   "source": [
    "import plotly.plotly as py\n",
    "import plotly.graph_objs as go\n",
    "from ipywidgets import widgets\n",
    "from IPython.core.display import display\n",
    "import requests as re\n",
    "\n",
    "def check_code(text):\n",
    "    postal_code_url = 'http://api.geonames.org/postalCodeLookupJSON?postalcode={}&country={}&username={}'\n",
    "    p_code = text_input.value\n",
    "    postal_code_url = postal_code_url.format(p_code, 'US', 'researchpurpose100')\n",
    "    check = re.get(postal_code_url)\n",
    "    assert(check.status_code == 200)\n",
    "    data = check.json()\n",
    "    data = data['postalcodes']\n",
    "    if len(data) == 0:\n",
    "        print(p_code, '- Invalid Postal Code')\n",
    "    else:\n",
    "        print(p_code, '- Valid Postal Code')\n",
    "        \n",
    "button = widgets.Button(description='Check')\n",
    "text_input = widgets.Text(\n",
    "    description='Postal Code: ',\n",
    "    value='',\n",
    ")\n",
    "\n",
    "button.on_click(check_code);\n",
    "\n",
    "display(text_input, button)"
   ]
  },
  {
   "cell_type": "code",
   "execution_count": 3,
   "metadata": {},
   "outputs": [],
   "source": [
    "# Write you Solution here\n",
    "username = ''\n",
    "\n",
    "country_code_url = 'http://api.geonames.org/postalCodeCountryInfoJSON?username={}'\n",
    "postal_code_url = 'http://api.geonames.org/postalCodeLookupJSON?postalcode={}&country={}&username={}'\n"
   ]
  }
 ],
 "metadata": {
  "kernelspec": {
   "display_name": "Python 3",
   "language": "python",
   "name": "python3"
  },
  "language_info": {
   "codemirror_mode": {
    "name": "ipython",
    "version": 3
   },
   "file_extension": ".py",
   "mimetype": "text/x-python",
   "name": "python",
   "nbconvert_exporter": "python",
   "pygments_lexer": "ipython3",
   "version": "3.6.5"
  }
 },
 "nbformat": 4,
 "nbformat_minor": 2
}
