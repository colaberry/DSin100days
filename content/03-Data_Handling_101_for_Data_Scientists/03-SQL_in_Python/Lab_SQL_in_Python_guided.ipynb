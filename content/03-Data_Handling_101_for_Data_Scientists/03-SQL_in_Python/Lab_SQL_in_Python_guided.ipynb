{
 "cells": [
  {
   "cell_type": "markdown",
   "metadata": {},
   "source": [
    "## The Movies Database\n",
    "\n",
    "Given is the diagram of movies database consisting of 3 tables - Movies, Halls and Tickets\n",
    "\n",
    "* Movie: This table has 4 columns - Movie_id (unique identifier for each Movie specific to language), Movie_name (Name of the movie), Language (Language of the Movie), Rating (Average rating given by viewers)\n",
    "* Hall: This table has 3 columns - Hall_id (unique identifer for each Movie Hall), Hall_name (Name of the hall), Seating_capacity (maximum ticketed seats available in the hall)\n",
    "* Ticket: This table has 3 columns - Movie_id (unique identifier for each Movie specific to language), Hall_id (unique identifer for each Movie Hall), Tickets_sold (number of tickets sold for the given Movie at the given Hall)\n",
    "\n",
    "<img src=\"../../../images/movies_db.PNG\" style=\"width:65vw\"> <br>\n",
    "\n",
    "<b>Tasks:</b>\n",
    "1. Create an empty database named 'moviesdb' using connect method.\n",
    "2. Create empty tables with connected relationships among the three tables as shown in above diagram. Using foreign key constraints and enforce referential integrity.\n",
    "3. Extract the data from the three tables, links of which are provided in the code block. Load them into a dataframe and then into the table.\n",
    "4. Write a query to filter out halls with large number of seats. We want halls in the top 20% based on seating capcity\n",
    "5. Write a query to extract data of which movie ran at over 80% of seating capacity and at which hall this was achieved. The query should extract all combinations of movie and hall with over 80% capacity.\n"
   ]
  },
  {
   "cell_type": "code",
   "execution_count": 1,
   "metadata": {},
   "outputs": [],
   "source": [
    "movies_data_link = \"https://raw.githubusercontent.com/colaberry/DSin100days/master/data/movie.csv\"\n",
    "halls_data_link = \"https://raw.githubusercontent.com/colaberry/DSin100days/master/data/hall.csv\"\n",
    "tickets_data_link = \"https://raw.githubusercontent.com/colaberry/DSin100days/master/data/ticket.csv\""
   ]
  },
  {
   "cell_type": "code",
   "execution_count": 2,
   "metadata": {},
   "outputs": [],
   "source": [
    "import sqlite3\n",
    "import pandas as pd \n",
    "import numpy as np \n",
    "\n",
    "db_name = \"movies.db\"\n"
   ]
  },
  {
   "cell_type": "markdown",
   "metadata": {},
   "source": [
    "Your first task is to connect to a db with the name ```db_name```. Directly connecting to the DB will create the DB automatically. Once you connect to the DB you will need enable foreign keys. Look to the Data Modeling notebook to figure out how to enable foreign keys. \n"
   ]
  },
  {
   "cell_type": "code",
   "execution_count": 3,
   "metadata": {},
   "outputs": [
    {
     "name": "stdout",
     "output_type": "stream",
     "text": [
      "Foreign key has been enabled: Yes\n"
     ]
    }
   ],
   "source": [
    "moviesdb = \"####\"\n",
    "\"####\" # execute to set foreign keys to ON \n",
    "val = moviesdb.execute(\"PRAGMA foreign_keys\") # get foreign key state\n",
    "\n",
    "foreign_key =  val.fetchall()[0][0]\n",
    "if foreign_key == 1: \n",
    "    fenabled = \"Yes\"\n",
    "else: \n",
    "    fenabled = \"No\"\n",
    "    \n",
    "print(\"Foreign key has been enabled: {}\".format(fenabled))"
   ]
  },
  {
   "cell_type": "markdown",
   "metadata": {},
   "source": [
    "Foreign key has been enabled: Yes\n"
   ]
  },
  {
   "cell_type": "markdown",
   "metadata": {},
   "source": [
    "## Creating and adding data to Movie Table"
   ]
  },
  {
   "cell_type": "markdown",
   "metadata": {},
   "source": [
    "In this section you will create the movie_table table in the sql database. Then you will add data to the table. You will have to write multiline sql queries for all this. Make sure you review how to write multiline sql queries and how to add primary keys. \n",
    "\n",
    "The first query involves writing a query for droping the movie_table if it exists. In the second query involves creating the movie table with the name ```movie_table``` make sure you set the ```movie_id``` column as a not null primary key. Make sure that you check the data type the column. \n",
    "\n",
    "Example: [Column Name] [Data type] \n",
    "\n",
    "We suggest using ```\"{}\".format(var)``` to populate the ```movie_table_query``` since you can easily switch thing the columns names. \n",
    "\n",
    "The last part you will have to write will be a query that provides table_info. Look at how to do this [here ](https://www.sqlitetutorial.net/sqlite-tutorial/sqlite-describe-table/). Table info will show if you have correctly assigned a primary key or not. The last column of the first row should show a value of 1 if the primary key has been properly assigned.\n",
    "\n",
    "\n",
    "Important Note: If you run this code and see ```FOREIGN KEY constraint failed``` that means that you have already created a database with the ```movie_table```. It is best to delete the database first and then rerun the code. This way there are no issues. You can also the shell command ```!rm dbname.db``` to remove the database directly from the jupyter notebook. This makes it easier to run the code and make sure that you dont have to go into the jupyter file system. \n"
   ]
  },
  {
   "cell_type": "code",
   "execution_count": 4,
   "metadata": {},
   "outputs": [
    {
     "name": "stdout",
     "output_type": "stream",
     "text": [
      "[(0, 'movie_id', 'INTEGER', 1, None, 1), (1, 'movie_name', 'TEXT', 0, None, 0), (2, 'langauge', 'TEXT', 0, None, 0), (3, 'rating', 'INTEGER', 0, None, 0)]\n"
     ]
    }
   ],
   "source": [
    "# Creating movie table\n",
    "# Keep these column names. Do not change them!\n",
    "movies_table_column_names  = ['movie_id', 'movie_name', 'langauge', 'rating']\n",
    "col1, col2, col3, col4  = movies_table_column_names\n",
    "\n",
    "# There are two queries to fill. First one to drop the table. This is approx 1 line. \n",
    "# The second query is the one to create a table called movie_table which is approx 5 lines \n",
    "# of code. Remember to use .format to substitute {} with string. \n",
    "drop_table_query = \"####\"\n",
    "movies_table_query = \"####\"\n",
    "# This part checks if the table creation and dropping executes without error. \n",
    "# If an exception is raised it is printed. \n",
    "try:\n",
    "    moviesdb.execute(drop_table_query)\n",
    "    moviesdb.execute(movies_table_query)\n",
    "except Exception as e:\n",
    "    print(e)\n",
    "\n",
    "# This part describes each column of the table. Look up the sql command table info \n",
    "# for sqlite. You will need to use fetchall to show the output of query\n",
    "info_var = \"####\"\n",
    "movie_table_describe = \"####\"\n",
    "print(movie_table_describe)"
   ]
  },
  {
   "cell_type": "markdown",
   "metadata": {},
   "source": [
    "[(0, 'movie_id', 'INTEGER', 1, None, 1), (1, 'movie_name', 'TEXT', 0, None, 0), (2, 'langauge', 'TEXT', 0, None, 0), (3, 'rating', 'INTEGER', 0, None, 0)]\n"
   ]
  },
  {
   "cell_type": "markdown",
   "metadata": {},
   "source": [
    "Next we are going to write two functions:  ```get_movietable``` and ```check_state```. The first one will be used to query the database and get the table ```movie_table``` and the second one will be used to check if the table is full or empty."
   ]
  },
  {
   "cell_type": "code",
   "execution_count": 5,
   "metadata": {},
   "outputs": [
    {
     "name": "stdout",
     "output_type": "stream",
     "text": [
      "State of movie table is Empty\n"
     ]
    }
   ],
   "source": [
    "# Write the function get_movietable. You will need to write a query to select the movie_table from the database. Execute the query and return the cursor.  \n",
    "def get_movietable(db):\n",
    "    query = \"####\"\n",
    "    cur = \"####\"\n",
    "    return \"####\"\n",
    "\n",
    "\n",
    "# Write the function get_anytable. This function is very similar to movietable.\n",
    "\n",
    "def get_anytable(db, table_name): \n",
    "    query = \"####\"\n",
    "    cur = \"####\"\n",
    "    return cur.fetchall()\n",
    "\n",
    "# Write the check state function. This takes two inputs, the database and table name. We define the default state as empty then we can use the \n",
    "# get_anytable function to get the table. Then using an if statement we can assign the state as full and return state.\n",
    "def check_state(db, table_name): \n",
    "    state = \"Empty\"\n",
    "    table = \"####\"\n",
    "    if table: \n",
    "        state = \"Full\" \n",
    "    return state\n",
    "\n",
    "# Get the outputs from the functions above. \n",
    "movie_table  = get_movietable(moviesdb)\n",
    "state_movie_table = check_state(moviesdb, \"movie_table\")\n",
    "print(\"State of movie table is {}\".format(state_movie_table))"
   ]
  },
  {
   "cell_type": "markdown",
   "metadata": {},
   "source": [
    "State of movie table is Empty"
   ]
  },
  {
   "cell_type": "code",
   "execution_count": 6,
   "metadata": {},
   "outputs": [
    {
     "name": "stdout",
     "output_type": "stream",
     "text": [
      "State of movie table is Full\n"
     ]
    }
   ],
   "source": [
    "# You will need to read the movies data from movies_data_link. Use pandas read csv for this purpose. \n",
    "movies_data = \"####\"\n",
    "\n",
    "# Set the column names from for movies_data to the column names we have given above\n",
    "movies_data.columns = movies_table_column_names\n",
    "\n",
    "# We then have covert the movies_data datatable to a sql table. Remember you are appending the data to movie_table\n",
    "# Check the arguments of coverting function find out how to append. When you append ensure that you set index=False\n",
    "# Also make sure you specify that the con=moviesdb \n",
    "movies_data.\"####\"\n",
    "\n",
    "# Use check state to check the state of the movie_table table and print the result\n",
    "state_movie_table = \"####\"\n",
    "print(\"State of movie table is {}\".format(state_movie_table))"
   ]
  },
  {
   "cell_type": "markdown",
   "metadata": {},
   "source": [
    "State of movie table is Full"
   ]
  },
  {
   "cell_type": "markdown",
   "metadata": {},
   "source": [
    "## Creating and adding data to Hall Table"
   ]
  },
  {
   "cell_type": "code",
   "execution_count": 7,
   "metadata": {},
   "outputs": [],
   "source": [
    "# Same set of instructions as we did for movie table\n",
    "# Keep these column names. Do not change them!\n",
    "hall_table_column_names  = ['hall_id', 'hall_name', 'seating_capacity']\n",
    "col1, col2, col3  = hall_table_column_names\n",
    "hall_table_name = \"hall_table\"\n",
    "\n",
    "# Same game as the movie table query. First write a query to drop the \n",
    "# hall table then write a query to create a new table. Remember to use .format()\n",
    "# to fill the multiline query with the column names. \n",
    "drop_table_query = \"####\"\n",
    "\n",
    "# This query is approx 5 lines\n",
    "hall_table_query = \"####\"\n",
    "\n",
    "# Similar to above this part checks the if the query runs without any issues\n",
    "try:\n",
    "    moviesdb.execute(drop_table_query)\n",
    "    moviesdb.execute(hall_table_query)\n",
    "except Exception as e:\n",
    "    print(e)"
   ]
  },
  {
   "cell_type": "code",
   "execution_count": 8,
   "metadata": {},
   "outputs": [
    {
     "name": "stdout",
     "output_type": "stream",
     "text": [
      "State of hall table is Empty\n"
     ]
    }
   ],
   "source": [
    "# Here use the get any table function with the hall table name to get the hall table\n",
    "# Then check the state of the hall table\n",
    "hall_table  = \"####\"\n",
    "state_hall_table = \"####\"\n",
    "print(\"State of hall table is {}\".format(state_hall_table))"
   ]
  },
  {
   "cell_type": "markdown",
   "metadata": {},
   "source": [
    "State of hall table is Empty\n"
   ]
  },
  {
   "cell_type": "code",
   "execution_count": 9,
   "metadata": {},
   "outputs": [
    {
     "name": "stdout",
     "output_type": "stream",
     "text": [
      "State of hall table is Full\n"
     ]
    }
   ],
   "source": [
    "# Here we will write a function to covert the hall table data from pandas dataframe to a sql table \n",
    "# and add it to the movies database. We did this earlier with the movies table but we are converting\n",
    "# the code above to a function, this is because we will be reusing the code again for tickets table\n",
    "def df_to_table(csv_path, column_names, table_name, db):\n",
    "    \n",
    "    # Read the csv file given a csv path \n",
    "    df = \"####\"\n",
    "    df.columns = \"####\"\n",
    "    \n",
    "    # Similar to what we did with movie table. Convert df to a sql table remember to use the append\n",
    "    # functionality and make sure that con=db and index=False. Otherwise tables will not append\n",
    "    \"####\" \n",
    "    \n",
    "    # Check the state of the table in the db and return both the dataframe and teh state.\n",
    "    state = \"####\"\n",
    "    return df, state \n",
    "\n",
    "\n",
    "# Use df to table to get the state hall table and hall_df \n",
    "hall_df , state_hall_table = \"####\"\n",
    "\n",
    "print(\"State of hall table is {}\".format(state_hall_table))"
   ]
  },
  {
   "cell_type": "markdown",
   "metadata": {},
   "source": [
    "State of hall table is Full\n"
   ]
  },
  {
   "cell_type": "markdown",
   "metadata": {},
   "source": [
    "## Creating and adding data to Ticket Table\n",
    "\n",
    "This part is a bit tricky since you need to add movie table and hall table columns as foreign keys create the ticket table. Rest of the code is similar to what we had above. You can look at an example of creating foreign keys [here](https://www.sqlitetutorial.net/sqlite-tutorial/sqlite-describe-table/).\n"
   ]
  },
  {
   "cell_type": "code",
   "execution_count": 10,
   "metadata": {},
   "outputs": [],
   "source": [
    "# Create a list of column names for the hall table. We will use this later\n",
    "ticket_table_column_names  = ['movie_id', 'hall_id', 'tickets_sold']\n",
    "col1, col2, col3  = ticket_table_column_names\n",
    "ticket_table_name = \"ticket_table\"\n",
    "\n",
    "# Drop the ticket table if it exists\n",
    "drop_table_query = \"####\"\n",
    "\n",
    "# The ticket table has no primary keys but it has two foreign keys attached to it. One is the movie_id that \n",
    "# comes from movie table and hall_id which comes from hall table. This query is approx 8 lines\n",
    "ticket_table_query = \"####\"\n",
    "try:\n",
    "    moviesdb.execute(drop_table_query)\n",
    "    moviesdb.execute(ticket_table_query)\n",
    "except Exception as e:\n",
    "    print(e)"
   ]
  },
  {
   "cell_type": "code",
   "execution_count": 11,
   "metadata": {},
   "outputs": [],
   "source": [
    "# Use the df to table function to get the ticket_df and state_ticket_table. Your inputs will be the ticket sales data,\n",
    "# the columns names for ticket table column, the ticket table name and the db. \n",
    "ticket_df , state_ticket_table = \"####\""
   ]
  },
  {
   "cell_type": "markdown",
   "metadata": {},
   "source": [
    "## Get rows with  large seating capacity \n",
    "At this stage all the data tables ```movie_table```, ```hall_table``` and ```ticket_table``` should be in the database. \n",
    "In this part,  you will query the database to extract the right data. The queries you will have to write will be multiple lines. The first query is get the halls that extract largest number of tickets sold. We will set the threshold of tickets sold to be the top 20% in the of the seating capacity. So you need to filter the data accordingly. The query requires you to select and display all the following columns: \n",
    "\n",
    "- Movie name\n",
    "- Hall name  \n",
    "- Seating Capacity\n",
    "- tickets sold\n",
    "\n",
    "Remember you will need to use inner joins to combine the three tables on the movie id and hall id columns. Finally you will also need to order by the seating capacity and convert the result to a dataframe"
   ]
  },
  {
   "cell_type": "code",
   "execution_count": 13,
   "metadata": {},
   "outputs": [
    {
     "data": {
      "text/html": [
       "<div>\n",
       "<style scoped>\n",
       "    .dataframe tbody tr th:only-of-type {\n",
       "        vertical-align: middle;\n",
       "    }\n",
       "\n",
       "    .dataframe tbody tr th {\n",
       "        vertical-align: top;\n",
       "    }\n",
       "\n",
       "    .dataframe thead th {\n",
       "        text-align: right;\n",
       "    }\n",
       "</style>\n",
       "<table border=\"1\" class=\"dataframe\">\n",
       "  <thead>\n",
       "    <tr style=\"text-align: right;\">\n",
       "      <th></th>\n",
       "      <th>0</th>\n",
       "      <th>1</th>\n",
       "      <th>2</th>\n",
       "      <th>3</th>\n",
       "    </tr>\n",
       "  </thead>\n",
       "  <tbody>\n",
       "    <tr>\n",
       "      <th>0</th>\n",
       "      <td>The Unimaginable</td>\n",
       "      <td>Wurchester Cinema</td>\n",
       "      <td>150</td>\n",
       "      <td>100</td>\n",
       "    </tr>\n",
       "    <tr>\n",
       "      <th>1</th>\n",
       "      <td>Ramen loving Ronin</td>\n",
       "      <td>Wang's Town Cinema</td>\n",
       "      <td>150</td>\n",
       "      <td>106</td>\n",
       "    </tr>\n",
       "    <tr>\n",
       "      <th>2</th>\n",
       "      <td>The Unimaginable</td>\n",
       "      <td>Princessville Cinema</td>\n",
       "      <td>150</td>\n",
       "      <td>136</td>\n",
       "    </tr>\n",
       "    <tr>\n",
       "      <th>3</th>\n",
       "      <td>Kobali</td>\n",
       "      <td>Quagmire Movie Hall</td>\n",
       "      <td>150</td>\n",
       "      <td>114</td>\n",
       "    </tr>\n",
       "    <tr>\n",
       "      <th>4</th>\n",
       "      <td>Senjiruven</td>\n",
       "      <td>VMC Browns</td>\n",
       "      <td>150</td>\n",
       "      <td>73</td>\n",
       "    </tr>\n",
       "  </tbody>\n",
       "</table>\n",
       "</div>"
      ],
      "text/plain": [
       "                    0                     1    2    3\n",
       "0    The Unimaginable     Wurchester Cinema  150  100\n",
       "1  Ramen loving Ronin    Wang's Town Cinema  150  106\n",
       "2    The Unimaginable  Princessville Cinema  150  136\n",
       "3              Kobali   Quagmire Movie Hall  150  114\n",
       "4          Senjiruven            VMC Browns  150   73"
      ]
     },
     "execution_count": 13,
     "metadata": {},
     "output_type": "execute_result"
    }
   ],
   "source": [
    "\n",
    "info_var = \"####\"\n",
    "filtered_result = \"####\"\n",
    "filtered_df = \"####\"\n",
    "filtered_df.head()"
   ]
  },
  {
   "cell_type": "markdown",
   "metadata": {},
   "source": [
    "Your resulting dataframe results should look like this <br>\n",
    "array([['The Unimaginable', 'Wurchester Cinema', 150, 100], <br>\n",
    "       ['Ramen loving Ronin', \"Wang's Town Cinema\", 150, 106], <br>\n",
    "       ['The Unimaginable', 'Princessville Cinema', 150, 136], <br>\n",
    "       ['Kobali', 'Quagmire Movie Hall', 150, 114], <br>\n",
    "       ['Senjiruven', 'VMC Browns', 150, 73]], dtype=object) <br>"
   ]
  },
  {
   "cell_type": "markdown",
   "metadata": {},
   "source": [
    "[('The Unimaginable', 'Princessville Cinema', 150), <br>\n",
    " ('Kobali', 'Princessville Cinema', 150), <br>\n",
    " ('Lakewalker', 'VMC Browns', 150), <br>\n",
    " ('Lakewalker', 'Ardour Movie Hall', 150), <br>\n",
    " ('Senjiruven', 'VMC Frocksburry', 150), <br>\n",
    " ('Lakewalker', 'VMC Quasiland', 150), <br>\n",
    " ('La Belle', 'Ardour Movie Hall', 150), <br>\n",
    " ('Senjiruven', 'Ardour Movie Hall', 150), <br>\n",
    " ('The Unimaginable', 'Showtime Rivermoore', 120)] <br>"
   ]
  },
  {
   "cell_type": "markdown",
   "metadata": {},
   "source": [
    "## Get rows with Maximum occupancy\n",
    "In this query you will pull data based on maximum occupancy. We define max occupancy as the ratio of tickets sold vs seating capacity. We want this ratio to be higher than 0.80. You will have to modify the query above. In order to do this calculation you will need to cast the tickets sold and seating capacity columns as floats. \n"
   ]
  },
  {
   "cell_type": "code",
   "execution_count": 14,
   "metadata": {},
   "outputs": [
    {
     "data": {
      "text/html": [
       "<div>\n",
       "<style scoped>\n",
       "    .dataframe tbody tr th:only-of-type {\n",
       "        vertical-align: middle;\n",
       "    }\n",
       "\n",
       "    .dataframe tbody tr th {\n",
       "        vertical-align: top;\n",
       "    }\n",
       "\n",
       "    .dataframe thead th {\n",
       "        text-align: right;\n",
       "    }\n",
       "</style>\n",
       "<table border=\"1\" class=\"dataframe\">\n",
       "  <thead>\n",
       "    <tr style=\"text-align: right;\">\n",
       "      <th></th>\n",
       "      <th>0</th>\n",
       "      <th>1</th>\n",
       "      <th>2</th>\n",
       "      <th>3</th>\n",
       "      <th>4</th>\n",
       "    </tr>\n",
       "  </thead>\n",
       "  <tbody>\n",
       "    <tr>\n",
       "      <th>0</th>\n",
       "      <td>The Unimaginable</td>\n",
       "      <td>Showtime Rivermoore</td>\n",
       "      <td>120</td>\n",
       "      <td>120</td>\n",
       "      <td>1.000000</td>\n",
       "    </tr>\n",
       "    <tr>\n",
       "      <th>1</th>\n",
       "      <td>Ramen loving Ronin</td>\n",
       "      <td>Showtime Rivermoore</td>\n",
       "      <td>119</td>\n",
       "      <td>120</td>\n",
       "      <td>0.991667</td>\n",
       "    </tr>\n",
       "    <tr>\n",
       "      <th>2</th>\n",
       "      <td>Senjiruven</td>\n",
       "      <td>VMC Frocksburry</td>\n",
       "      <td>148</td>\n",
       "      <td>150</td>\n",
       "      <td>0.986667</td>\n",
       "    </tr>\n",
       "    <tr>\n",
       "      <th>3</th>\n",
       "      <td>La Belle</td>\n",
       "      <td>Ardour Movie Hall</td>\n",
       "      <td>147</td>\n",
       "      <td>150</td>\n",
       "      <td>0.980000</td>\n",
       "    </tr>\n",
       "    <tr>\n",
       "      <th>4</th>\n",
       "      <td>Kobali</td>\n",
       "      <td>Showtime Shwimm's Market</td>\n",
       "      <td>116</td>\n",
       "      <td>120</td>\n",
       "      <td>0.966667</td>\n",
       "    </tr>\n",
       "  </tbody>\n",
       "</table>\n",
       "</div>"
      ],
      "text/plain": [
       "                    0                         1    2    3         4\n",
       "0    The Unimaginable       Showtime Rivermoore  120  120  1.000000\n",
       "1  Ramen loving Ronin       Showtime Rivermoore  119  120  0.991667\n",
       "2          Senjiruven           VMC Frocksburry  148  150  0.986667\n",
       "3            La Belle         Ardour Movie Hall  147  150  0.980000\n",
       "4              Kobali  Showtime Shwimm's Market  116  120  0.966667"
      ]
     },
     "execution_count": 14,
     "metadata": {},
     "output_type": "execute_result"
    }
   ],
   "source": [
    "\n",
    "info_var = \"####\"\n",
    "filtered_result = \"####\"\n",
    "filtered_df = \"####\"\n",
    "filtered_df.head()"
   ]
  },
  {
   "cell_type": "markdown",
   "metadata": {},
   "source": [
    "array([['The Unimaginable', 'Showtime Rivermoore', 120, 120, 1.0], <br>\n",
    "       ['Ramen loving Ronin', 'Showtime Rivermoore', 119, 120, <br>\n",
    "        0.9916666666666667], <br>\n",
    "       ['Senjiruven', 'VMC Frocksburry', 148, 150, 0.9866666666666667], <br>\n",
    "       ['La Belle', 'Ardour Movie Hall', 147, 150, 0.98], <br>\n",
    "       ['Kobali', \"Showtime Shwimm's Market\", 116, 120, <br>\n",
    "        0.9666666666666667]], dtype=object) <br>\n",
    " "
   ]
  },
  {
   "cell_type": "code",
   "execution_count": null,
   "metadata": {
    "tags": [
     "grade"
    ]
   },
   "outputs": [],
   "source": [
    "import requests\n",
    "from time import gmtime, strftime\n",
    "from IPython.display import clear_output\n",
    "\n",
    "user_ns = tuple(get_ipython().user_ns.items())\n",
    "user_id = ''\n",
    "lab_name = ''\n",
    "import os\n",
    "\n",
    "def display_result(result, res_code):\n",
    "    from IPython.display import display, HTML\n",
    "    js = \"<style>p.res {background-color: lightblue;} p.pas {color: green;text-align: center;font-size: 150%;} p.fail {color: red;text-align: center;font-size: 150%;}  p.wait {color: blue;text-align: center;font-size: 150%;} p.center {text-align: center;font-size: 200%;}</style>\"\n",
    "    if res_code == 'PASS':\n",
    "        #js = js + \"<script>$('#notebook-container').after('<p id=lastidp class=pas>%s</p>')</script>\"   % result\n",
    "        js = js + \"<script>$('#lastidp').replaceWith('<p id=lastidp class=pas>%s</p>')</script>)\"   % result\n",
    "    elif res_code == 'FAIL':\n",
    "        js = js + \"<script>$('#lastidp').replaceWith('<p id=lastidp class=fail>%s</p>')</script>\"   % result\n",
    "    else:\n",
    "        js = js + \"\"\"<script>\n",
    "        if($('#lastidp').length){\n",
    "        $('#lastidp').replaceWith('<p id=lastidp class=wait>%s</p>')\n",
    "        }else{\n",
    "        $('#notebook-container').after('<p id=lastidp class=wait>%s</p>')\n",
    "        }\n",
    "        </script>\n",
    "        \"\"\"   % (result,result)\n",
    "    display(HTML(js))\n",
    "\n",
    "display_result('','WAIT')\n",
    "    \n",
    "# if value_type == int:\n",
    "for name, value in user_ns:\n",
    "    if name == 'user_id':\n",
    "        user_id = value\n",
    "    if name == 'nb_name':\n",
    "        lab_name = value\n",
    "        lab_name = os.path.basename(lab_name).split('.')[0]\n",
    "\n",
    "input_content_file = lab_name + '.ipynb'\n",
    "\n",
    "import random\n",
    "n = random.randint(1001,3001)\n",
    "f = {'file': ( 'rnd' +  str(n) + '_' + input_content_file, open(input_content_file,'rb'))}\n",
    "d = {'user': user_id}\n",
    "r = requests.post('http://autograde.refactored.ai/uploader', data=d, files=f)\n",
    "#r = requests.post('http://localhost:5000/uploader', data=d, files=f)\n",
    "tm = strftime(\"%Y-%m-%d %H:%M:%S\", gmtime())\n",
    "msg = r.json()['result']['message'][0]\n",
    "res = r.json()['result']['result']\n",
    "answerid = r.json()['answerid']\n",
    "result = tm + ' - ' + msg + '    Answerid is : ' + str(answerid) \n",
    "#score = r.json()['result']['score']\n",
    "#result = tm + ' - ' + msg + '    Your result is : ' + res + '     And the score is : ' + str(score)\n",
    "#print(result)\n",
    "display_result(result,'WAIT')\n",
    "\n",
    "import time\n",
    "count = 0\n",
    "while True:\n",
    "    #r = requests.get('http://localhost:5000/get_result?answer_id=' + str(answerid))\n",
    "    r = requests.get('http://autograde.refactored.ai/get_result?answer_id=' + str(answerid))\n",
    "    res = r.json()['result']['result']\n",
    "    if res != 'WAIT':\n",
    "        tm = strftime(\"%Y-%m-%d %H:%M:%S\", gmtime())\n",
    "        msg = r.json()['result']['message'][0]\n",
    "        res = r.json()['result']['result']\n",
    "        score = r.json()['result']['score']\n",
    "        result = tm + ' - ' + msg + ',    Your result is : ' + res + '    And your score is : ' + str(score) \n",
    "        clear_output(wait=True)\n",
    "        break\n",
    "    else:\n",
    "        if(count ==0):\n",
    "            print('Waiting for your score......')\n",
    "        count = count + 1\n",
    "        time.sleep(10)\n",
    "        if(count > 10):\n",
    "            result = 'Error occurred during evaluation. Please resubmit.'\n",
    "            break\n",
    "\n",
    "display_result(result,res)"
   ]
  }
 ],
 "metadata": {
  "celltoolbar": "Tags",
  "kernelspec": {
   "display_name": "Python 3",
   "language": "python",
   "name": "python3"
  },
  "language_info": {
   "codemirror_mode": {
    "name": "ipython",
    "version": 3
   },
   "file_extension": ".py",
   "mimetype": "text/x-python",
   "name": "python",
   "nbconvert_exporter": "python",
   "pygments_lexer": "ipython3",
   "version": "3.7.4"
  }
 },
 "nbformat": 4,
 "nbformat_minor": 4
}
