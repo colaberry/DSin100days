{
 "cells": [
  {
   "cell_type": "markdown",
   "metadata": {},
   "source": [
    "# Data Preparation and Cleaning\n",
    "\n",
    "Data pre-processing techniques generally refer to the addition, deletion, or transformation of training set data. This is an important step in Predictive Analytics, as this can make or break a model.\n",
    "\n",
    "\n",
    "## Centering and Scaling\n",
    "\n",
    "To center a predictor variable, the average predictor value is subtracted from all the values. As a result of centering, the predictor has a zero mean. Similarly, to scale the data, each value of the predictor variable is divided by its standard deviation. Scaling the data coerce the values to have a common standard deviation of one. \n",
    "\n",
    "sklearn provides a module called preprocessing (sklearn.preprocessing) that is handy to perform data standardisation such as centering or scaling data.\n",
    "\n",
    "\n",
    "### Exercise:\n",
    "\n",
    "In this exercise you will be provided data in a numpyy array. You need to do the standardization to get a zero mean data and unit standard deviation. Then assign it to a variable called X_scaled."
   ]
  },
  {
   "cell_type": "code",
   "execution_count": 2,
   "metadata": {},
   "outputs": [],
   "source": [
    "from sklearn import preprocessing\n",
    "import numpy as np\n",
    "\n",
    "\n",
    "\n",
    "X_train = np.array([[ 1., -1.,  2.],\n",
    "                     [ 2.,  0.,  0.],\n",
    "                     [ 0.,  1., -1.]])\n",
    "\n",
    "#Use sklearn's preprocessing module by calling scale method.\n",
    "#write your code below:\n"
   ]
  },
  {
   "cell_type": "markdown",
   "metadata": {
    "hide_input": true
   },
   "source": [
    "### Solution\n",
    "\n",
    "```python\n",
    "X_scaled = preprocessing.scale(X_train)\n",
    "```"
   ]
  },
  {
   "cell_type": "markdown",
   "metadata": {},
   "source": [
    "## Removing Skewness\n",
    "\n",
    "One of the steps in preparing the data for statistical learning is to remove the skewness in data.\n",
    "\n",
    "An un-skewed distribution is one that is roughly symmetric. This means that the probability of falling on either side of the distribution’s mean is roughly equal. A right-skewed distribution has a large number of points on the left side of the distribution (smaller values) than on the right side (larger values).\n",
    "\n",
    "In regression a common approach is to transform the dataset to eliminate skewness in the residuals. For non-negative data the log or ⋅√ transform could be applied to limit the effect of skewness.\n",
    "\n",
    "In Data Science, some numerical values such as the moneary values, the likes of incomes, customer spends, account or purchase sizes are some of the most common sources of skewed data. They are often lognormally distributed, that is, the log of the original data is normally distributed. This means that taking the log of the data can restore the symmetry of the data."
   ]
  },
  {
   "cell_type": "code",
   "execution_count": 4,
   "metadata": {
    "scrolled": true
   },
   "outputs": [
    {
     "data": {
      "image/png": "[encoded data removed]",
      "text/plain": [
       "<Figure size 432x288 with 1 Axes>"
      ]
     },
     "metadata": {
      "needs_background": "light"
     },
     "output_type": "display_data"
    }
   ],
   "source": [
    "####################################################To Be Review By Sathwik##########################################################################\n",
    "# Given is the dataset s which is skewing positively. \n",
    "# Normalize the dataset\n",
    "\n",
    "import numpy as np\n",
    "import matplotlib.pyplot as plt\n",
    "np.random.seed(0) # So That I get all the same values everytime\n",
    "mu, sigma = 60, 1 # Basically means \n",
    "# there is more compacteness(datapoints are close to each other)  \n",
    "s = np.random.lognormal(mu, sigma, 100) # giving 100 datapoints meaning \n",
    "# the graph will be skewed since there a lot of points but majority of \n",
    "# them will placed near 60 and rest will spread out.\n",
    "import matplotlib.pyplot as plt\n",
    "plt.hist(s, 50, density=True)\n",
    "plt.show()"
   ]
  },
  {
   "cell_type": "code",
   "execution_count": 6,
   "metadata": {
    "scrolled": true
   },
   "outputs": [
    {
     "data": {
      "image/png": "[encoded data removed]",
      "text/plain": [
       "<Figure size 432x288 with 1 Axes>"
      ]
     },
     "metadata": {
      "needs_background": "light"
     },
     "output_type": "display_data"
    }
   ],
   "source": [
    "s = np.log(s)\n",
    "plt.hist(s, 50, density=True)\n",
    "plt.show()"
   ]
  },
  {
   "cell_type": "markdown",
   "metadata": {
    "hide_input": true
   },
   "source": [
    "### solution\n",
    "```Python\n",
    "s = np.log(s)\n",
    "plt.hist(s, 50, density=True)\n",
    "plt.show()\n",
    "```\n",
    "##################################^^^^^Review^^^^^##########################################################################\n"
   ]
  },
  {
   "cell_type": "markdown",
   "metadata": {},
   "source": [
    "\n",
    "## Resolve Outliers\n",
    "\n",
    "Outliers are defined as samples that are exceptionally far from the mainstream of the data. Even with a thorough understanding of the data, outliers can be hard to define. However, we can often identify an unusual value by looking at a figure. When one or more samples are suspected to be outliers, the first step is to make sure that the values are scientifically valid (e.g., positive blood pressure) and that no data recording errors have occurred. Great care should be taken not to hastily remove or change values, especially if the sample size is small.\n",
    "\n",
    "\n",
    "### Exercise\n",
    "\n",
    "In the following exercise, find out the outlier, remove the datapoint and assign the resulting dataframe to a variable df_outlier \n"
   ]
  },
  {
   "cell_type": "code",
   "execution_count": 10,
   "metadata": {},
   "outputs": [
    {
     "data": {
      "image/png": "[encoded data removed]",
      "text/plain": [
       "<Figure size 360x360 with 1 Axes>"
      ]
     },
     "metadata": {},
     "output_type": "display_data"
    }
   ],
   "source": [
    "%matplotlib inline\n",
    "import seaborn as sns\n",
    "anscombe = sns.load_dataset(\"anscombe\")\n",
    "df = anscombe.query(\"dataset == 'III'\")\n",
    "df\n",
    "sns.lmplot(x=\"x\", y=\"y\", data=df,\n",
    "           ci=None, scatter_kws={\"s\": 100});\n",
    "\n",
    "#Use sns.lmplot to visualize the data, find out the outlier data and remove it.\n",
    "#Write your code below"
   ]
  },
  {
   "cell_type": "markdown",
   "metadata": {
    "hide_input": true
   },
   "source": [
    "### Solution\n",
    "\n",
    "```python\n",
    "df_outlier = df[df.y <= 12]\n",
    "sns.lmplot(x=\"x\", y=\"y\", data=df_outlier,\n",
    "           ci=None, scatter_kws={\"s\": 100});\n",
    "```\n",
    "\n"
   ]
  },
  {
   "cell_type": "markdown",
   "metadata": {},
   "source": [
    "## Dealing with Missing Values\n",
    "\n",
    "In many cases, some predictors have no values for a given sample. This could be either that the data is not clean or simply that the predictor does not have a valid value to be included.\n",
    "\n",
    "The important task is to handle missing values by way of filling a value that will be most appropriate for the situation. The appropriateness of the value is subjective and it depends on the type of data we are dealing with. For example if we have the age of the person as the missing value, it could be filled with the most common age. If we deal with numeric values, we could fill it with mean or median values. \n",
    "\n",
    "### Finding Missing values\n",
    "\n",
    "The very first approach is to call DataFrame's info() method. In the below code listing and output, the data DataFrame's info is printed. Notice the 2nd and 3rd rows in the output. It tells you how many rows and columns.\n",
    "The following lines are the info on individual fields/columns in the dataset (first column). The second column tells you how many non-null rows. In effect, if this is less than the total number of rows, this tells you the number of null or missing data rows. \n",
    "\n",
    "```python\n",
    "DataFrame.info()\n",
    "```\n",
    "\n",
    "### Exercise\n",
    "\n",
    "Write code to load Cutsdata.csv and print field information."
   ]
  },
  {
   "cell_type": "code",
   "execution_count": 11,
   "metadata": {},
   "outputs": [],
   "source": [
    "import pandas as pd\n",
    "#data= load dataset \n"
   ]
  },
  {
   "cell_type": "markdown",
   "metadata": {
    "hide_input": true
   },
   "source": [
    "### Solution\n",
    "\n",
    "```python\n",
    "data = pd.read_csv('../../../custdata.tsv',sep='\\t',header=(0) )\n",
    "data.head()\n",
    "data.info()\n",
    "```"
   ]
  },
  {
   "cell_type": "markdown",
   "metadata": {},
   "source": [
    "## Using isnull() method\n",
    "\n",
    "We could also write a custom function to get the number of missing values for each column.\n",
    "In the below code listing, we also compute the percentage of missing values compared to the total number of rows. This gives us an idea of the seriousness of the missing data. If this is a large percentage, then it makes sense to address the issue such that we don't miss out on the sample size.\n",
    "\n",
    "### Exercise\n",
    "\n",
    "In the below exercise use the method missing_values_table to print the statistics about missing value fields."
   ]
  },
  {
   "cell_type": "code",
   "execution_count": 12,
   "metadata": {},
   "outputs": [],
   "source": [
    "def missing_values_table(df):\n",
    "        mis_val = df.isnull().sum()\n",
    "        mis_val_percent = 100 * df.isnull().sum() / len(df)\n",
    "        mis_val_table = pd.concat([mis_val, mis_val_percent], axis=1)\n",
    "        mis_val_table_ren_columns = mis_val_table.rename(\n",
    "        columns = {0 : 'Missing Values', 1 : '% of Total Values'})\n",
    "        mis_val_table_ren_columns = mis_val_table_ren_columns[\n",
    "            mis_val_table_ren_columns.iloc[:,1] != 0].sort_values(\n",
    "        '% of Total Values', ascending=False).round(1)\n",
    "        print (\"Your selected dataframe has \" + str(df.shape[1]) + \" columns.\\n\"      \n",
    "            \"There are \" + str(mis_val_table_ren_columns.shape[0]) +\n",
    "              \" columns that have missing values.\")\n",
    "        return mis_val_table_ren_columns\n"
   ]
  },
  {
   "cell_type": "markdown",
   "metadata": {
    "hide_input": true
   },
   "source": [
    "### Solution\n",
    "\n",
    "```python\n",
    "missing_values_table(data)\n",
    "```"
   ]
  },
  {
   "cell_type": "markdown",
   "metadata": {},
   "source": [
    "## Large Missing values\n",
    "\n",
    "From the above table, for example is.employed has missing values for about 1/3rd of the total values (32.8%).\n",
    "In modelling algorithms, these values could be ignored. The fact that some values are missing could be due to various reasons -  \n",
    "1. may be the data collection for the field started at alater time during the collection, \n",
    "2. perhaps the data is not applicable. For example, is.employed means they are students, for which emplyment status is not applicable.\n",
    "\n",
    "Depending on the reason for the missing data, you might need to apply some remedy for the specific missing value or set of values.\n",
    "\n",
    "## Insignificant Missing Values\n",
    "\n",
    "On inspection of the data and its summary, some of the missing value fields could be really ignored. This could be due to the fact that the number of missing values is few and far. Other reason could be that we could not arrive at a reasonable filler value perhaps due to the value being specific and could not be generalized.\n",
    "\n",
    "For example, again in the above summary the fields housing.type, recent.move and num.vehicles have the same number of rows missing - 56. If we can somehow ascertain if these are the same rows for all the three fields, then we can remove these rows from the input vector. In the following sections we will write code to determine if these missing field are for the same set of 56 rows of data.\n",
    "\n",
    "### Exercise\n",
    "\n",
    "Write code for finding rows that have multiple fields with missing values in the 'data' dataframe. "
   ]
  },
  {
   "cell_type": "code",
   "execution_count": 13,
   "metadata": {},
   "outputs": [],
   "source": [
    "#Write your code below\n"
   ]
  },
  {
   "cell_type": "markdown",
   "metadata": {
    "hide_input": true
   },
   "source": [
    "### Solution\n",
    "\n",
    "```python\n",
    "data[data['housing.type'].isnull() & data['recent.move'].isnull()]\n",
    "\n",
    "```"
   ]
  },
  {
   "cell_type": "markdown",
   "metadata": {},
   "source": [
    "## Invalid Values - describe() method\n",
    "\n",
    "The next approach is to use the describe method to get some statistic about the data.\n",
    "\n",
    "### Exercise\n",
    "\n",
    "Write code to display statistics such as mean, median, mode etc for all numeric variables in the dataframe 'data' "
   ]
  },
  {
   "cell_type": "code",
   "execution_count": 14,
   "metadata": {},
   "outputs": [],
   "source": [
    "#write our code below"
   ]
  },
  {
   "cell_type": "markdown",
   "metadata": {
    "hide_input": true
   },
   "source": [
    "### Solution\n",
    "\n",
    "```python\n",
    "data.describe()\n",
    "```\n",
    "\n",
    "Some of the observations from the last exercise:\n",
    "\n",
    "#### Income \n",
    "Negative values for income could indicate bad data. They might also have a special\n",
    "meaning, like “amount of debt.” Either way, you should check how prevalent\n",
    "the issue is, and decide what to do: Do you drop the data with negative income? Do\n",
    "you convert negative values to zero?\n",
    "\n",
    "\n",
    "#### Age\n",
    "Customers of age zero, or customers of an age\n",
    "greater than about 110 are outliers. They fall\n",
    "out of the range of expected customer values.\n",
    "Outliers could be data input errors. They\n",
    "could be special sentinel values: zero might\n",
    "mean “age unknown” or “refuse to state.”\n",
    "And some of your customers might be\n",
    "especially long-lived.\n"
   ]
  },
  {
   "cell_type": "markdown",
   "metadata": {},
   "source": [
    "## Treating missing values (NAs)\n",
    "\n",
    "We have a dataset of 1000 customer records and we found that 56 missing data records, that is approximately 6% of the data which is less. We could remove these records since the percentage is insignificant. However we have three variables, that have exactly 56 missing data records. Are these 56 records same for all the three variables?  \n",
    "\n",
    "The first step We need to find out the rows of missing values for different columns.\n",
    "\n",
    "### Exercise\n",
    "\n",
    "Write code to find number of rows with all of 'housing.type','recent.move' and 'num.vehicles', variables have missing values "
   ]
  },
  {
   "cell_type": "code",
   "execution_count": 15,
   "metadata": {},
   "outputs": [],
   "source": [
    "#Write your code below"
   ]
  },
  {
   "cell_type": "markdown",
   "metadata": {
    "hide_input": true
   },
   "source": [
    "### Solution\n",
    "\n",
    "```python\n",
    "data[data['housing.type'].isnull() & data['recent.move'].isnull() & data['num.vehicles'].isnull()].shape[0]\n",
    "```\n"
   ]
  },
  {
   "cell_type": "markdown",
   "metadata": {},
   "source": [
    "## Drop Missing \n",
    "\n",
    "Since from the above step, we found 56/1000 (5.6%) records are missing values, we could get rid of those fields.\n",
    "We could use Dataframe.dropna()\n",
    "\n",
    "### Exercise\n",
    "\n",
    "Write code to drop the 56 rows with missing values on dataframe 'data'. "
   ]
  },
  {
   "cell_type": "code",
   "execution_count": 16,
   "metadata": {},
   "outputs": [],
   "source": [
    "#write your code below"
   ]
  },
  {
   "cell_type": "markdown",
   "metadata": {
    "hide_input": true
   },
   "source": [
    "### Solution\n",
    "\n",
    "```python\n",
    "data2 = data.dropna()\n",
    "data2[data2['housing.type'].isnull() & data2['recent.move'].isnull() & data2['num.vehicles'].isnull()].shape[0]\n",
    "```"
   ]
  },
  {
   "cell_type": "markdown",
   "metadata": {},
   "source": [
    "## Fix Large missing values\n",
    "\n",
    "The variable 'is.employed' has a large number of missing values (>300). In this case, we cannot drop the values. We need to input certain value for the missing data column.\n",
    "\n",
    "### Exercise\n",
    "\n",
    "Write code to add a new variable 'is.employed.fix' with null values removed.\n"
   ]
  },
  {
   "cell_type": "code",
   "execution_count": 17,
   "metadata": {},
   "outputs": [],
   "source": [
    "#write code below"
   ]
  },
  {
   "cell_type": "markdown",
   "metadata": {
    "hide_input": true
   },
   "source": [
    "#### Solution\n",
    "\n",
    "```python\n",
    "data2['is.employed.fix'] = data2[data2['housing.type'].notnull()]\n",
    "```"
   ]
  },
  {
   "cell_type": "markdown",
   "metadata": {},
   "source": [
    "## Replace Missing values\n",
    "\n",
    "For the column is.income, we might want to impute certain value. It could be mean value.\n",
    "From the below, the income is 0 for 78 rows. \n",
    "\n",
    "### Data Collection error Vs Systematicaly missing data\n",
    "\n",
    "Data Collection error (or faulty sensor) is a case where data is simply missed out due to error.\n",
    "Conversely, Systematically missing data is the case where the data is not applicable for the scenario. For example in the income column, the income is deliberately 0 since the specific record is for a student, retired or unemployed person.\n",
    "\n",
    "The first thing we could try in case of missing data due to data collection error is fill the values with some meaningful defaults. In this case we will try with mean.\n",
    "\n",
    "### Exercise\n",
    "\n",
    "Write code to replace missing values for 'income' variable with mean value in the 'data' dataframe.\n"
   ]
  },
  {
   "cell_type": "code",
   "execution_count": 18,
   "metadata": {},
   "outputs": [],
   "source": [
    "#write your code below"
   ]
  },
  {
   "cell_type": "markdown",
   "metadata": {
    "hide_input": true
   },
   "source": [
    "### Solution\n",
    "\n",
    "```python\n",
    "import numpy as np\n",
    "mean_income = data2['income'].mean()\n",
    "mean_income\n",
    "data2['income.fix'] = np.where(data2['income']==0, mean_income, data2['income'])\n",
    "\n",
    "# Check the number of rows with income=0 after the replace\n",
    "data2[data2['income.fix']==0].shape\n",
    "```"
   ]
  },
  {
   "cell_type": "markdown",
   "metadata": {},
   "source": [
    "## Replace with Other factors\n",
    "\n",
    "In case of systematically missing data, we might need to exclude the values.\n",
    "However, in case the value is missed due to error, there could be other factors to take in to consideration rather than just the mean value.\n",
    "\n",
    "### Exercise\n",
    "\n",
    "In this exercise, use the data dataframe to replace 'income' with mean value with more meaningful value - for example use 'is.employed' field to determine if it must be replaced mean value or not."
   ]
  },
  {
   "cell_type": "code",
   "execution_count": 19,
   "metadata": {},
   "outputs": [],
   "source": [
    "#Write your code below"
   ]
  },
  {
   "cell_type": "markdown",
   "metadata": {
    "hide_input": true
   },
   "source": [
    "### Solution"
   ]
  }
 ],
 "metadata": {
  "celltoolbar": "Edit Metadata",
  "kernelspec": {
   "display_name": "Python 3",
   "language": "python",
   "name": "python3"
  },
  "language_info": {
   "codemirror_mode": {
    "name": "ipython",
    "version": 3
   },
   "file_extension": ".py",
   "mimetype": "text/x-python",
   "name": "python",
   "nbconvert_exporter": "python",
   "pygments_lexer": "ipython3",
   "version": "3.7.1"
  }
 },
 "nbformat": 4,
 "nbformat_minor": 2
}
