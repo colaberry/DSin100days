{
 "cells": [
  {
   "cell_type": "markdown",
   "metadata": {},
   "source": [
    "# Merging Data From Various Sources\n",
    "\n",
    "## Introduction\n",
    "\n",
    "In this course we will look at various options such as concatenate, join and merge dataframes.\n",
    "The pandas library provides various facilities for easily combining together Series, DataFrame, and Panel objects with various kinds of set logic for the indexes and relational algebra functionality in the case of join / merge-type operations.\n",
    "\n",
    "In this course we will look closely at using these facilities on Dataframes.\n",
    "\n",
    "\n",
    "\n",
    "## Concatenate\n",
    "\n",
    "The concat() function in pandas takes a list or dict of homogeneously-typed objects and concatenates them into one resulting object. It does all of the heavy lifting of performing concatenation operations along an axis while performing optional set logic (union or intersection) of the indexes (if any) on the other axes. \n",
    "\n",
    "Suppose we have 3 dataframes named x, y and z with the following data.\n",
    "\n",
    "```python\n",
    "In [1]: x = pd.DataFrame({'A': ['A0', 'A1', 'A2', 'A3'],\n",
    "   ...:                     'B': ['B0', 'B1', 'B2', 'B3'],\n",
    "   ...:                     'C': ['C0', 'C1', 'C2', 'C3'],\n",
    "   ...:                     'D': ['D0', 'D1', 'D2', 'D3']},\n",
    "   ...:                     index=[0, 1, 2, 3])\n",
    "   ...: \n",
    "\n",
    "In [2]: y = pd.DataFrame({'A': ['A4', 'A5', 'A6', 'A7'],\n",
    "   ...:                     'B': ['B4', 'B5', 'B6', 'B7'],\n",
    "   ...:                     'C': ['C4', 'C5', 'C6', 'C7'],\n",
    "   ...:                     'D': ['D4', 'D5', 'D6', 'D7']},\n",
    "   ...:                      index=[4, 5, 6, 7])\n",
    "   ...: \n",
    "\n",
    "In [3]: z = pd.DataFrame({'A': ['A8', 'A9', 'A10', 'A11'],\n",
    "   ...:                     'B': ['B8', 'B9', 'B10', 'B11'],\n",
    "   ...:                     'C': ['C8', 'C9', 'C10', 'C11'],\n",
    "   ...:                     'D': ['D8', 'D9', 'D10', 'D11']},\n",
    "   ...:                     index=[8, 9, 10, 11])\n",
    "\n",
    "```\n",
    "\n",
    "If we perform the concat() function on these dataframes as below:\n",
    "\n",
    "```python\n",
    "result = pd.concat([x,y,z])\n",
    "```\n",
    "Note that the three input dataframes are provided as a list to concat() function.\n",
    "Here is the output of concat().\n",
    "\n",
    "```python\n",
    "# Output\n",
    ">>> \n",
    "\n",
    "     A\t B\t C\t D\n",
    "0\tA0\tB0\tC0\tD0\n",
    "1\tA1\tB1\tC1\tD1\n",
    "2\tA2\tB2\tC2\tD2\n",
    "3\tA3\tB3\tC3\tD3\n",
    "4\tA4\tB4\tC4\tD4\n",
    "5\tA5\tB5\tC5\tD5\n",
    "6\tA6\tB6\tC6\tD6\n",
    "7\tA7\tB7\tC7\tD7\n",
    "8\tA8\tB8\tC8\tD8\n",
    "9\tA9\tB9\tC9\tD9\n",
    "10\tA10\tB10\tC10\tD10\n",
    "11\tA11\tB11\tC11\tD11\n",
    "\n",
    "```\n",
    "### Exercise\n",
    "\n",
    "Given two DataFrames representing stocks of vegetables for Alice and Bob respectively, write python code to join the two dataframes with indices remaining as it is in the inputs. Assign the resulting Dataframe to All_fruits variable.\n"
   ]
  },
  {
   "cell_type": "code",
   "execution_count": 69,
   "metadata": {
    "ExecuteTime": {
     "end_time": "2018-10-23T05:21:59.203937Z",
     "start_time": "2018-10-23T05:21:58.079540Z"
    }
   },
   "outputs": [],
   "source": [
    "#Write your code below\n",
    "import pandas as pd\n",
    "Alice_fruits = pd.DataFrame({'Apples': ['1', '4', '10', '12'],\n",
    "                  'Oranges': ['10', '11', '12', '13'],\n",
    "                  'Grapes': ['5', '6', '7', '8'],\n",
    "                  'Pears': ['5', '6', '8', '9']},\n",
    "                 index=[0, 1, 2, 3])\n",
    "Bob_fruits = pd.DataFrame({'Apples': ['8', '7', '3', '1'],\n",
    "                  'Oranges': ['7', '4', '2', '3'],\n",
    "                  'Grapes': ['5', '2', '1', '14'],\n",
    "                  'Pears': ['7', '15', '3', '12']},\n",
    "                 index=[0, 1, 2, 3])\n"
   ]
  },
  {
   "cell_type": "markdown",
   "metadata": {
    "hide_input": true
   },
   "source": [
    "### Solution\n",
    "\n",
    "```python\n",
    "#solution\n",
    "All_fruits = pd.concat([Alice_fruits,Bob_fruits])\n",
    "print(Alice_fruits)\n",
    "print(Bob_fruits)\n",
    "All_fruits\n",
    "```"
   ]
  },
  {
   "cell_type": "markdown",
   "metadata": {},
   "source": [
    "## Indices after Concat()\n",
    "\n",
    "In the previous example of concat(), note that the indices were specified as unique for different dataframes.\n",
    "Suppose we do not have unique indices in the input dataframes, the indices will be duplicated in the resulting dataframe.\n",
    "\n",
    "```python\n",
    "#Write your code below\n",
    "x = pd.DataFrame({'A': ['A0', 'A1', 'A2', 'A3'],\n",
    "                  'B': ['B0', 'B1', 'B2', 'B3'],\n",
    "                  'C': ['C0', 'C1', 'C2', 'C3'],\n",
    "                  'D': ['D0', 'D1', 'D2', 'D3']})\n",
    "y = pd.DataFrame({'A': ['A4', 'A5', 'A6', 'A7'],\n",
    "                  'B': ['B4', 'B5', 'B6', 'B7'],\n",
    "                  'C': ['C4', 'C5', 'C6', 'C7'],\n",
    "                  'D': ['D4', 'D5', 'D6', 'D7']})\n",
    "z = pd.DataFrame({'A': ['A8', 'A9', 'A10', 'A11'],\n",
    "                  'B': ['B8', 'B9', 'B10', 'B11'],\n",
    "                  'C': ['C8', 'C9', 'C10', 'C11'],\n",
    "                  'D': ['D8', 'D9', 'D10', 'D11']})\n",
    "result = pd.concat([x,y,z])\n",
    "print(x)\n",
    "print(y)\n",
    "print(z)\n",
    "result\n",
    "```\n",
    "\n",
    "Here is the output:\n",
    "\n",
    "```python\n",
    "# Output\n",
    ">>> \n",
    "A\tB\tC\tD\n",
    "0\tA0\tB0\tC0\tD0\n",
    "1\tA1\tB1\tC1\tD1\n",
    "2\tA2\tB2\tC2\tD2\n",
    "3\tA3\tB3\tC3\tD3\n",
    "0\tA4\tB4\tC4\tD4\n",
    "1\tA5\tB5\tC5\tD5\n",
    "2\tA6\tB6\tC6\tD6\n",
    "3\tA7\tB7\tC7\tD7\n",
    "0\tA8\tB8\tC8\tD8\n",
    "1\tA9\tB9\tC9\tD9\n",
    "2\tA10\tB10\tC10\tD10\n",
    "3\tA11\tB11\tC11\tD11\n",
    "\n",
    "```\n",
    "\n",
    "Note that the indices are duplicated.\n",
    "\n",
    "### Handling Duplcate Indices\n",
    "\n",
    "There are several ways to handle duplicate indices. One of the ways is to identify if indices are duplicated.\n",
    "You may do this by using 'verify_integrity=True' parameter while using concat() function.\n",
    "\n",
    "```python\n",
    "try:\n",
    "    result = pd.concat([x,y,z],verify_integrity=True)\n",
    "except ValueError as e:\n",
    "    print(\"ValueError:\", e)\n",
    "\n",
    "```\n",
    "\n",
    "Or you could ingnore index by using 'ignore_index=True' flag.\n",
    "\n",
    "```python\n",
    "try:\n",
    "    result = pd.concat([x,y,z],ignore_index=True)\n",
    "except ValueError as e:\n",
    "    print(\"ValueError:\", e)\n",
    "\n",
    "```\n",
    "\n",
    "\n",
    "### Exercise\n",
    "\n",
    "Try the concat() with the following dataframes A and B. Print Duplicate, if there are duplicate indices.\n",
    "Else print the resulting dataframe."
   ]
  },
  {
   "cell_type": "code",
   "execution_count": 2,
   "metadata": {
    "ExecuteTime": {
     "end_time": "2018-10-23T05:21:59.212915Z",
     "start_time": "2018-10-23T05:21:59.205933Z"
    },
    "collapsed": true
   },
   "outputs": [],
   "source": [
    "A = pd.DataFrame({'A': ['A0', 'A1', 'A2', 'A3'],\n",
    "                  'B': ['B0', 'B1', 'B2', 'B3'],\n",
    "                  'C': ['C0', 'C1', 'C2', 'C3']},index=[0, 1, 2,3])\n",
    "B = pd.DataFrame({'A': ['A4', 'A5', 'A6', 'A7'],\n",
    "                  'B': ['B4', 'B5', 'B6', 'B7'],\n",
    "                  'C': ['C4', 'C5', 'C6', 'C7']},index=[3, 5, 6, 7])\n",
    "\n",
    "\n"
   ]
  },
  {
   "cell_type": "markdown",
   "metadata": {
    "hide_input": true
   },
   "source": [
    "### Solution\n",
    "\n",
    "```python\n",
    "try:\n",
    "    result = pd.concat([A,B],verify_integrity=True)\n",
    "    print(result)\n",
    "except ValueError as e:\n",
    "    print(\"Duplicate\")\n",
    "```\n",
    "\n"
   ]
  },
  {
   "cell_type": "markdown",
   "metadata": {},
   "source": [
    "## Append\n",
    "\n",
    "The next method is append() method to append two dataframes.\n",
    "A useful shortcut to concat() are the append() instance methods on Series and DataFrame. These methods actually predated concat. They concatenate along axis=0, namely the index:\n",
    "\n",
    "From the previous example, let us apply append() on x and y dataframes.\n",
    "\n",
    "```python\n",
    "\n",
    "result = df1.append([x, y])\n",
    "\n",
    "```\n",
    "The result of the append() is below:\n",
    "\n",
    "```python\n",
    "\n",
    "# Output\n",
    ">>> \n",
    "\n",
    "\n",
    "A\tB\tC\tD\n",
    "0\tA0\tB0\tC0\tD0\n",
    "1\tA1\tB1\tC1\tD1\n",
    "2\tA2\tB2\tC2\tD2\n",
    "3\tA3\tB3\tC3\tD3\n",
    "4\tA4\tB4\tC4\tD4\n",
    "5\tA5\tB5\tC5\tD5\n",
    "6\tA6\tB6\tC6\tD6\n",
    "7\tA7\tB7\tC7\tD7\n",
    "8\tA8\tB8\tC8\tD8\n",
    "9\tA9\tB9\tC9\tD9\n",
    "10\tA10\tB10\tC10\tD10\n",
    "11\tA11\tB11\tC11\tD11\n",
    "```\n",
    "\n",
    "\n",
    "### Exercise\n",
    "\n",
    "In this exercise, use DataFrame's append() method to concatinate Alice_fruits, Bob_fruits Dataframes to the newly created Charlie_fruits and assing it to New_All_fruits variable. \n"
   ]
  },
  {
   "cell_type": "code",
   "execution_count": 79,
   "metadata": {
    "ExecuteTime": {
     "end_time": "2018-10-23T05:21:59.231864Z",
     "start_time": "2018-10-23T05:21:59.214910Z"
    }
   },
   "outputs": [],
   "source": [
    "Charlie_fruits = pd.DataFrame({'Apples': ['2', '8', '14', '16'],\n",
    "                  'Oranges': ['17', '16', '15', '14'],\n",
    "                  'Grapes': ['9', '11', '12', '5'],\n",
    "                  'Pears': ['8', '9', '11', '12']},\n",
    "                 index=[0, 1, 2, 3])\n",
    "\n",
    "#write your code below\n"
   ]
  },
  {
   "cell_type": "markdown",
   "metadata": {
    "hide_input": true
   },
   "source": [
    "### Solution\n",
    "\n",
    "```python\n",
    "#solution\n",
    "result = All_fruits.append([Charlie_fruits])\n",
    "result\n",
    "\n",
    "```\n"
   ]
  },
  {
   "cell_type": "markdown",
   "metadata": {},
   "source": [
    "## Join\n",
    "\n",
    "In the above lessons we looked at simple example with common column names in input Dataframes. In reality, data from different sources might have different column names and our job is to join them together and stitch a resulting dataframe. This is similar to the database SQL operation of JOIN. Pandas' concat() function also offers the join operation similar to Database join. Consider the concatenation of the following two DataFrames, which have only some columns in common:\n",
    "\n",
    "```python\n",
    "\n",
    "A = pd.DataFrame({'A': ['1', '2', '3', '4'],\n",
    "                  'B': ['4', '5', '6', '7'],\n",
    "                  'C': ['8', '9', '10', '11']})\n",
    "B = pd.DataFrame({'D': ['D1', 'D2', 'D3', 'D4'],\n",
    "                  'E': ['E1', 'E2', 'E3', 'E4'],\n",
    "                  'F': ['F1', 'F2', 'F3', 'F4']})\n",
    "```\n",
    "There is a join flag. By default, the join is a union of the input columns (join='outer'), but we can change this to an intersection of the columns using join='inner':\n",
    "\n",
    "join = 'inner' gives the inner join\n",
    "\n",
    "\n",
    "```python\n",
    "result_join = pd.concat([A, B], join='inner')\n",
    "result\n",
    "```\n",
    "\n",
    "```python \n",
    "#output\n",
    "A\tB\tC\n",
    "0\t1\t4\t8\n",
    "1\t2\t5\t9\n",
    "2\t3\t6\t10\n",
    "3\t4\t7\t11\n",
    "0\tNaN\tNaN\tNaN\n",
    "1\tNaN\tNaN\tNaN\n",
    "2\tNaN\tNaN\tNaN\n",
    "3\tNaN\tNaN\tNaN\n",
    "```\n",
    "As you can see only common from A are given as result.\n",
    "\n",
    "Another option is to directly specify the index of the remaininig colums using the join_axes argument, which takes a list of index objects. Here we'll specify that the returned columns should be the same as those of the first input:\n",
    "\n",
    "```python\n",
    "result_join = pd.concat([A, B], join_axes=[A.columns])\n",
    "result\n",
    "```\n",
    "\n",
    "\n",
    "### Exercise\n",
    "\n",
    "In this exercise, you are required to use two DataFrames namely fruits and veggies and preform a join operation using concat() to cobine fruits and veggies in to a new DataFrame fruits_veggies."
   ]
  },
  {
   "cell_type": "code",
   "execution_count": 80,
   "metadata": {
    "ExecuteTime": {
     "end_time": "2018-10-23T05:21:59.261849Z",
     "start_time": "2018-10-23T05:21:59.233858Z"
    }
   },
   "outputs": [],
   "source": [
    "\n",
    "fruits = pd.DataFrame({'Apples': ['2', '8', '14', '16'],\n",
    "                  'Oranges': ['17', '16', '15', '14'],\n",
    "                  'Grapes': ['9', '11', '12', '5'],\n",
    "                  'Pears': ['8', '9', '11', '12']})\n",
    "\n",
    "veggies = pd.DataFrame({'Tomato': ['4', '5', '6', '7'],\n",
    "                  'Potato': ['14', '15', '16', '17'],\n",
    "                  'Onion': ['24', '25', '26', '27'],\n",
    "                  'Lettuce': ['34', '35', '36', '37']})\n",
    "\n",
    "#write your code below\n"
   ]
  },
  {
   "cell_type": "markdown",
   "metadata": {
    "hide_input": true
   },
   "source": [
    "### Solution\n",
    "\n",
    "```python\n",
    "fruits_veggies = pd.concat([fruits, veggies], join_axes=[fruits.columns])\n",
    "fruits_veggies\n",
    "\n",
    "```"
   ]
  },
  {
   "cell_type": "markdown",
   "metadata": {},
   "source": [
    "## Aggregation using groupby()\n",
    "\n",
    "Let us say we have data pertaining to monthly spends for the year 2017, of various departments in a company. The data may read something like this:\n",
    "\n",
    "```python\n",
    "import pandas as pd\n",
    "\n",
    "spend_data = pd.read_csv(\"../../../data/Spend_by_dept.csv\")\n",
    "\n",
    "spend_data.head(10)\n",
    "\n",
    ">>> # Output\n",
    ">>> Department\tDate\tAmount\n",
    ">>> 0\tFinance\t17-Jan\t139083\n",
    ">>> 1\tMarketing\t17-Jan\t19329\n",
    ">>> 2\tTechnology\t17-Jan\t17445\n",
    ">>> 3\tLegal\t17-Jan\t14703\n",
    ">>> 4\tR&D\t17-Jan\t69621\n",
    ">>> 5\tFinance\t17-Feb\t131661\n",
    ">>> 6\tMarketing\t17-Feb\t127824\n",
    ">>> 7\tTechnology\t17-Feb\t137300\n",
    ">>> 8\tLegal\t17-Feb\t91937\n",
    ">>> 9\tR&D\t17-Feb\t126742\n",
    "```\n",
    "\n",
    "As we can see, the spend for each of the five departments within each month is given as a record. What if we want to see aggregated annual spend (of each department) for 2017? This is called the operation of 'aggregation', i.e., addition or calculation of an overall statistic over all observed data pertaining to a specific categorical value (here departments are the key categorical values upon which we will aggregate the monthly spend).\n",
    "\n",
    "Note: Aggregation often results in loss of some dimensional information. In this case, when annual spend is to be found by aggregating monthly spends, we will lose the break up of monthly spend by each department, post performing the aggregation.\n",
    "\n",
    "Aggregation operation can be performed by first using the 'groupyby()' function to denote which dimension/categorical values we would be aggregating for. In the given example, since we want spend by departments, the 'Department' column values will be the features for which aggregation will be performed. The feature which would get aggregated and lose its detail, in this case, would be 'Date'. The rolled up value or aggregated feature would be 'Amount'.\n",
    "\n",
    "We perform groupby as shown below:\n",
    "```python\n",
    "# groupby operation specifying feature for which grouping/aggregation will be done\n",
    "spend_data = spend_data.groupby(\"Department\")\n",
    "\n",
    "# Specifying the feature which will be aggregated and what kind of aggregation operation is to be performed. Here it is sum()\n",
    "spend_data = spend_data['Amount'].sum()\n",
    "\n",
    "spend_data.head()\n",
    "\n",
    ">>> # Output\n",
    ">>> Department\n",
    ">>> Finance       899875\n",
    ">>> Legal         903826\n",
    ">>> Marketing     716882\n",
    ">>> R&D           945543\n",
    ">>> Technology    908888\n",
    ">>> Name: Amount, dtype: int64\n",
    "```\n",
    "\n",
    "The above output shows annual spend of each department.\n",
    "\n",
    "### Exercise\n",
    "\n",
    "Now for some practice! For the same data given above, calculate and print total spend by all departments in each month.\n",
    "\n",
    "Output should contain - 1st column Year-Month, 2nd column Amount."
   ]
  },
  {
   "cell_type": "code",
   "execution_count": 81,
   "metadata": {
    "ExecuteTime": {
     "end_time": "2018-10-23T05:21:59.398449Z",
     "start_time": "2018-10-23T05:21:59.266126Z"
    }
   },
   "outputs": [
    {
     "data": {
      "text/html": [
       "<div>\n",
       "<style scoped>\n",
       "    .dataframe tbody tr th:only-of-type {\n",
       "        vertical-align: middle;\n",
       "    }\n",
       "\n",
       "    .dataframe tbody tr th {\n",
       "        vertical-align: top;\n",
       "    }\n",
       "\n",
       "    .dataframe thead th {\n",
       "        text-align: right;\n",
       "    }\n",
       "</style>\n",
       "<table border=\"1\" class=\"dataframe\">\n",
       "  <thead>\n",
       "    <tr style=\"text-align: right;\">\n",
       "      <th></th>\n",
       "      <th>Department</th>\n",
       "      <th>Date</th>\n",
       "      <th>Amount</th>\n",
       "    </tr>\n",
       "  </thead>\n",
       "  <tbody>\n",
       "    <tr>\n",
       "      <th>0</th>\n",
       "      <td>Finance</td>\n",
       "      <td>1/15/2018</td>\n",
       "      <td>139083</td>\n",
       "    </tr>\n",
       "    <tr>\n",
       "      <th>1</th>\n",
       "      <td>Marketing</td>\n",
       "      <td>1/15/2018</td>\n",
       "      <td>19329</td>\n",
       "    </tr>\n",
       "    <tr>\n",
       "      <th>2</th>\n",
       "      <td>Technology</td>\n",
       "      <td>1/15/2018</td>\n",
       "      <td>17445</td>\n",
       "    </tr>\n",
       "    <tr>\n",
       "      <th>3</th>\n",
       "      <td>Legal</td>\n",
       "      <td>1/15/2018</td>\n",
       "      <td>14703</td>\n",
       "    </tr>\n",
       "    <tr>\n",
       "      <th>4</th>\n",
       "      <td>R&amp;D</td>\n",
       "      <td>1/15/2018</td>\n",
       "      <td>69621</td>\n",
       "    </tr>\n",
       "    <tr>\n",
       "      <th>5</th>\n",
       "      <td>Finance</td>\n",
       "      <td>2/15/2018</td>\n",
       "      <td>131661</td>\n",
       "    </tr>\n",
       "    <tr>\n",
       "      <th>6</th>\n",
       "      <td>Marketing</td>\n",
       "      <td>2/15/2018</td>\n",
       "      <td>127824</td>\n",
       "    </tr>\n",
       "    <tr>\n",
       "      <th>7</th>\n",
       "      <td>Technology</td>\n",
       "      <td>2/15/2018</td>\n",
       "      <td>137300</td>\n",
       "    </tr>\n",
       "    <tr>\n",
       "      <th>8</th>\n",
       "      <td>Legal</td>\n",
       "      <td>2/15/2018</td>\n",
       "      <td>91937</td>\n",
       "    </tr>\n",
       "    <tr>\n",
       "      <th>9</th>\n",
       "      <td>R&amp;D</td>\n",
       "      <td>2/15/2018</td>\n",
       "      <td>126742</td>\n",
       "    </tr>\n",
       "  </tbody>\n",
       "</table>\n",
       "</div>"
      ],
      "text/plain": [
       "   Department       Date  Amount\n",
       "0     Finance  1/15/2018  139083\n",
       "1   Marketing  1/15/2018   19329\n",
       "2  Technology  1/15/2018   17445\n",
       "3       Legal  1/15/2018   14703\n",
       "4         R&D  1/15/2018   69621\n",
       "5     Finance  2/15/2018  131661\n",
       "6   Marketing  2/15/2018  127824\n",
       "7  Technology  2/15/2018  137300\n",
       "8       Legal  2/15/2018   91937\n",
       "9         R&D  2/15/2018  126742"
      ]
     },
     "execution_count": 81,
     "metadata": {},
     "output_type": "execute_result"
    }
   ],
   "source": [
    "import pandas as pd\n",
    "\n",
    "spend_data = pd.read_csv(\"../../../data/Spend_by_dept.csv\")\n",
    "\n",
    "spend_data.head(10)"
   ]
  },
  {
   "cell_type": "markdown",
   "metadata": {
    "ExecuteTime": {
     "end_time": "2018-10-19T05:32:27.883758Z",
     "start_time": "2018-10-19T05:32:27.878655Z"
    },
    "hide_input": true
   },
   "source": [
    "### Solution\n",
    "\n",
    "```python\n",
    "# groupby operation specifying feature for which grouping/aggregation will be done\n",
    "spend_data = spend_data.groupby(\"Date\")\n",
    "\n",
    "# Specifying the feature which will be aggregated and what kind of aggregation operation is to be performed. Here it is sum()\n",
    "spend_data = spend_data['Amount'].sum()\n",
    "\n",
    "spend_data.head()\n",
    "```"
   ]
  },
  {
   "cell_type": "markdown",
   "metadata": {
    "ExecuteTime": {
     "end_time": "2018-10-19T05:32:30.202940Z",
     "start_time": "2018-10-19T05:32:30.197992Z"
    }
   },
   "source": [
    "Note: An important observation to make is that the months in the previous exercise may have been shown in alphabetical order, instead of chronological order. This is because the 'Date' data in above data set is identified as a string instead of a date variable (Hence, 1-15-2017 is succeeded by 10-15-2017, which is then succeeded by 2-15-2017 and so on).<br>\n",
    "Therefore, in order to display chronological ordering of data, we would need to convert 'Date' feature into a date-time variable. Now, this operation can only be performed before the groupby operation is performed. Once groupby is performed on a feature, no type conversions are allowed/supported in the data frame. Hence, type conversions need to be done before groupby is attempted.\n",
    "\n",
    "An Example:\n",
    "```python\n",
    "# in-place conversion\n",
    "data_frame['column_name'] = data_frame['column_name'].apply(conversion_function)\n",
    "```\n",
    "\n",
    "### Exercise\n",
    "\n",
    "Re-do the above exercise again - calculate and print total spend by all departments in each month. This time, convert the 'Date' feature before applying groupy by.\n",
    "\n",
    "Hint: Use to_datetime() function from pandas."
   ]
  },
  {
   "cell_type": "code",
   "execution_count": 82,
   "metadata": {
    "ExecuteTime": {
     "end_time": "2018-10-22T05:25:01.717406Z",
     "start_time": "2018-10-22T05:25:01.628984Z"
    }
   },
   "outputs": [],
   "source": [
    "#Write your code below"
   ]
  },
  {
   "cell_type": "markdown",
   "metadata": {
    "ExecuteTime": {
     "end_time": "2018-10-22T05:25:01.778747Z",
     "start_time": "2018-10-22T05:25:01.723385Z"
    },
    "hide_input": true
   },
   "source": [
    "### Solution\n",
    "\n",
    "```python\n",
    "# Convert Date feature - string to datetime\n",
    "spend_data['Date'] = spend_data['Date'].apply(pd.to_datetime)\n",
    "\n",
    "# groupby operation specifying feature for which grouping/aggregation will be done\n",
    "spend_data = spend_data.groupby(\"Date\")\n",
    "\n",
    "# Specifying the feature which will be aggregated and what kind of aggregation operation is to be performed. Here it is sum()\n",
    "spend_data = spend_data['Amount'].sum()\n",
    "\n",
    "spend_data.head()\n",
    "```"
   ]
  },
  {
   "cell_type": "markdown",
   "metadata": {},
   "source": [
    "## Merge\n",
    "\n",
    "The Pandas library has a full-featured, high performance in-memory join operations similar to relational database SQL join operations. These methods perform significantly better than other open source implementations. The reason for this is careful algorithmic design and the internal layout of the data in DataFrame.\n",
    "\n",
    "Experienced users of relational databases like SQL will be familiar with the terminology used to describe join operations between two SQL-table like structures (DataFrame objects). There are several cases to consider which are very important to understand:\n",
    "\n",
    "one-to-one joins: for example when joining two DataFrame objects on their indexes (which must contain unique values).\n",
    "\n",
    "many-to-one joins: for example when joining an index (unique) to one or more columns in a different DataFrame.\n",
    "\n",
    "many-to-many joins: joining columns on columns.\n",
    "\n",
    "merge() function and a 'on' keyword can provide SQL like join feature.  \n",
    "\n",
    "Suppose we have a column C which is shared by A and B dataframes.\n",
    "\n",
    "```python\n",
    "A = pd.DataFrame({'A': ['1', '2', '3', '4'],\n",
    "                  'B': ['4', '5', '6', '7'],\n",
    "                  'C': ['8', '9', '10', '11']})\n",
    "B = pd.DataFrame({'D': ['D1', 'D2', 'D3', 'D4'],\n",
    "                  'E': ['E1', 'E2', 'E3', 'E4'],\n",
    "                  'C': ['8', '9', '10', '11']})\n",
    "\n",
    "result = pd.merge(A, B, on='C')\n",
    "\n",
    "result\n",
    "```\n",
    "\n",
    "By using the merge  and on keyword, we can do a join like a sql database join.\n",
    "\n",
    "### Exercise\n",
    "\n"
   ]
  },
  {
   "cell_type": "code",
   "execution_count": 83,
   "metadata": {
    "ExecuteTime": {
     "end_time": "2018-10-23T05:21:59.427387Z",
     "start_time": "2018-10-23T05:21:59.401455Z"
    }
   },
   "outputs": [],
   "source": [
    "#write your code below\n",
    "\n",
    "fruits = pd.DataFrame({'Apples': ['2', '8', '14', '16'],\n",
    "                  'Oranges': ['17', '16', '15', '14'],\n",
    "                  'Grapes': ['9', '11', '12', '5'],\n",
    "                  'Banana': ['34', '35', '36', '37']})\n",
    "\n",
    "veggies = pd.DataFrame({'Tomato': ['4', '5', '6', '7'],\n",
    "                  'Potato': ['14', '15', '16', '17'],\n",
    "                  'Onion': ['24', '25', '26', '27'],\n",
    "                  'Banana': ['34', '35', '36', '37']})\n",
    "\n",
    "#write your code below"
   ]
  },
  {
   "cell_type": "markdown",
   "metadata": {
    "hide_input": true
   },
   "source": [
    "### Solution\n",
    "\n",
    "```python\n",
    "#solution\n",
    "\n",
    "merge_result = pd.merge(fruits, veggies, on='Banana')\n",
    "\n",
    "merge_result\n",
    "```"
   ]
  },
  {
   "cell_type": "markdown",
   "metadata": {},
   "source": [
    "## Merging data from multiple data sources\n",
    "\n",
    "In this lesson we will learn how to fetch data from multiple data sources \n",
    "and merge them to get the complete dataset needed.\n",
    "\n",
    "In this section, we will deal with 3 types of data sources.\n",
    "\n",
    "1. A CSV file\n",
    "2. An SQL Database - sqlite\n",
    "3. An HTML web page\n",
    "<br>\n",
    "The image below shows how these various data sources are linked.<br>\n",
    "<img src=\"../../../images/merge.png\" style=\"height:70vh;\">\n",
    "<br>\n",
    "\n",
    "In the following steps, we would perform operations, using python code,\n",
    "to read the above 3 datasources and merge the data in to one clean datasource.\n",
    "\n",
    "### Exercise\n",
    "\n",
    "Use your knowledge of the pandas library to load the given csv link into a Dataframe."
   ]
  },
  {
   "cell_type": "code",
   "execution_count": 84,
   "metadata": {
    "ExecuteTime": {
     "end_time": "2018-10-23T05:21:59.439446Z",
     "start_time": "2018-10-23T05:21:59.429354Z"
    }
   },
   "outputs": [],
   "source": [
    "# Link to the dataset\n",
    "\n",
    "cust_order_link = '../../../data/Customer_Order.csv'"
   ]
  },
  {
   "cell_type": "markdown",
   "metadata": {
    "ExecuteTime": {
     "end_time": "2018-10-23T05:21:59.461270Z",
     "start_time": "2018-10-23T05:21:59.442389Z"
    },
    "hide_input": true
   },
   "source": [
    "### Solution code\n",
    "\n",
    "```python\n",
    "import pandas as pd\n",
    "\n",
    "# Reading data into tables\n",
    "df_csv_custorder = pd.read_csv(cust_order_link)\n",
    "df_csv_custorder\n",
    "```"
   ]
  },
  {
   "cell_type": "markdown",
   "metadata": {},
   "source": [
    "### Exercise\n",
    "\n",
    "The second after the above exercise is to load the data from sqlite database.\n",
    "Refer to the SQL notebooks and use your expertise in extracting data from sqlite\n",
    "databases to query data from 'product' table in the given sqlite database. Load the\n",
    "extracted data into a dataframe."
   ]
  },
  {
   "cell_type": "code",
   "execution_count": 85,
   "metadata": {
    "ExecuteTime": {
     "end_time": "2018-10-23T05:21:59.470385Z",
     "start_time": "2018-10-23T05:21:59.463285Z"
    }
   },
   "outputs": [],
   "source": [
    "productdb_link = '../../../data/products.db'"
   ]
  },
  {
   "cell_type": "markdown",
   "metadata": {
    "ExecuteTime": {
     "end_time": "2018-10-23T05:21:59.493182Z",
     "start_time": "2018-10-23T05:21:59.473235Z"
    },
    "hide_input": true
   },
   "source": [
    "### Solution code\n",
    "\n",
    "```python\n",
    "# Importing library\n",
    "import sqlite3\n",
    "\n",
    "# Connecting to the database\n",
    "oltp_con = sqlite3.connect(productdb_link)\n",
    "\n",
    "# Creating a cursor on the database connection\n",
    "oltp_cur = oltp_con.cursor()\n",
    "\n",
    "# Executing query\n",
    "oltp_cur.execute('''SELECT * FROM product''')\n",
    "products = oltp_cur.fetchall()\n",
    "\n",
    "# List of tuples - conversion to Dataframe\n",
    "df_db_products = pd.DataFrame(products, columns=['productno', 'productname'])\n",
    "df_db_products\n",
    "```"
   ]
  },
  {
   "cell_type": "markdown",
   "metadata": {},
   "source": [
    "### Exercise\n",
    "\n",
    "The third step on this lesson is to read data from HTML content on the web. Based on your \n",
    "expertise on WebScraping. Use the knowledge from the WebScraping lesson to load the given \n",
    "HTML page link into a Dataframe.\n",
    "\n",
    "https://raw.githubusercontent.com/colaberry/DSin100days/master/data/order-transactions.html\n",
    "\n",
    "Look at the above link to learn the format of HTML (class, div tags) to understand how to \n",
    "get transaction details.\n",
    "\n",
    "{\"orderno\": orderno , \"productno\" : productno , \"quantity\" : quantity , \"total\" : total}"
   ]
  },
  {
   "cell_type": "code",
   "execution_count": 86,
   "metadata": {
    "ExecuteTime": {
     "end_time": "2018-10-23T05:21:59.957539Z",
     "start_time": "2018-10-23T05:21:59.495179Z"
    }
   },
   "outputs": [],
   "source": [
    "import requests\n",
    "from bs4 import BeautifulSoup\n",
    "\n",
    "url = 'https://raw.githubusercontent.com/colaberry/DSin100days/master/data/order-transactions.html'\n",
    "\n",
    "# Write your code below"
   ]
  },
  {
   "cell_type": "markdown",
   "metadata": {
    "ExecuteTime": {
     "end_time": "2018-10-23T05:22:00.289379Z",
     "start_time": "2018-10-23T05:21:59.959185Z"
    },
    "hide_input": true
   },
   "source": [
    "### Solution code\n",
    "\n",
    "```python\n",
    "response = requests.get(url)\n",
    "html = response.content\n",
    "\n",
    "soup = BeautifulSoup(html)\n",
    "tag = soup.find_all(\"div\", class_=\"transaction\")\n",
    "#print(tag)\n",
    "transactions = []\n",
    "\n",
    "for t in tag:\n",
    "    #print(t.span.text)\n",
    "    order = t.find(\"small\", class_=\"orderno\")\n",
    "    orderno = order.text\n",
    "    product = t.find(\"small\", class_=\"productno\")\n",
    "    productno = product.text\n",
    "    qty = t.find(\"small\", class_=\"quantity\")\n",
    "    quantity = qty.text\n",
    "    ttl = t.find(\"small\", class_=\"total\")\n",
    "    total = ttl.text\n",
    "    order_detail = {\"orderno\": orderno , \"productno\" : productno , \"quantity\" : quantity , \"total\" : total}\n",
    "    #print(order_detail)\n",
    "    transactions.append(order_detail)\n",
    "\n",
    "df_web_transactions = pd.DataFrame(transactions)\n",
    "df_web_transactions\n",
    "```"
   ]
  },
  {
   "cell_type": "markdown",
   "metadata": {},
   "source": [
    "Now it is time to combine the above data sources and merge the datasets as provided in the previous lessons in this course. The below example shows python code to merge the above 3 datasets, to print the following:\n",
    "\n",
    "```python\n",
    "# Printing all 3 tables out\n",
    "print(df_web_transactions)\n",
    "print(df_db_products)\n",
    "df_csv_custorder.columns = ['customerno', 'orderno']\n",
    "print(df_csv_custorder)\n",
    "\n",
    ">>> # Output\n",
    ">>> orderno  productno  quantity   total\n",
    ">>> 0    22345       1568         1   200.0\n",
    ">>> 1    46238       4321         1   500.0\n",
    ">>> 2    66266       7317         1   700.0\n",
    ">>> 3    67222       7317         1   700.0\n",
    ">>> 4    67222       2371         1   800.0\n",
    ">>> 5    21573       2931         1  1200.0\n",
    ">>> 6    11467       5873         1   200.0\n",
    ">>> productno               productname\n",
    ">>> 0       1568               WB A1 Paper\n",
    ">>> 1       4321            3M Scotch Tape\n",
    ">>> 2       2371    Pilot pens - Set of 10\n",
    ">>> 3       2931  Pilot LE pens - Set of 3\n",
    ">>> 4       7317             Regis Stapler\n",
    ">>> 5       5873         Pidilite Glustick\n",
    ">>>    customerno  orderno\n",
    ">>> 0         100    22345\n",
    ">>> 1         101    46238\n",
    ">>> 2         102    66266\n",
    ">>> 3         100    67222\n",
    ">>> 4         102    21573\n",
    ">>> 5         101    11467\n",
    "```\n",
    "\n",
    "Print the list of product names for orders placed by customer no.100.\n",
    "```python\n",
    "# Combining transactions and product names from product table\n",
    "temp = pd.merge(df_web_transactions, df_db_products[['productno','productname']], on='productno')\n",
    "# Merging transactions and custorder table to link Customers to orders\n",
    "result = pd.merge(temp, df_csv_custorder[['customerno','orderno']], on='orderno')\n",
    "# Condition to filter products purchased by customer no.100\n",
    "prods = result[result['customerno']==100]['productname']\n",
    "print(prods)\n",
    "\n",
    ">>> # Output\n",
    ">>> 0               WB A1 Paper\n",
    ">>> 3             Regis Stapler\n",
    ">>> 4    Pilot pens - Set of 10\n",
    ">>> Name: productname, dtype: object\n",
    "```\n",
    "\n",
    "Print the list of customer numbers who have ordered the product 'Regis Stapler'.\n",
    "```python\n",
    "# Condition to extract customer nos who purchased 'Regis Stapler'\n",
    "custs = result[result['productname']=='Regis Stapler']['customerno']\n",
    "print(custs)\n",
    "\n",
    ">>> # Output\n",
    ">>> 2    102\n",
    ">>> 3    100\n",
    ">>> Name: customerno, dtype: int64\n",
    "```\n",
    "\n",
    "### Exercise\n",
    "\n",
    "Given the 3 databases on products, customers and their orders - Combine the data and create a new dataframe where \n",
    "\n",
    "* first column would be 'Customer_no'\n",
    "* second column should be 'All_orders' separated by commas\n",
    "* third column should be 'total' spent\n",
    "* <b>Note</b> that this dataframe should contain only Customer_no for people who have a total spend of more than 1000.\n",
    "\n",
    "Use all knowledge gathered so far - from pandas, python, datetime, etc. to complete this exercise."
   ]
  },
  {
   "cell_type": "code",
   "execution_count": 87,
   "metadata": {},
   "outputs": [],
   "source": [
    "# Write your code below"
   ]
  },
  {
   "cell_type": "markdown",
   "metadata": {
    "ExecuteTime": {
     "end_time": "2018-10-23T05:22:00.303335Z",
     "start_time": "2018-10-23T05:22:00.293362Z"
    },
    "hide_input": true
   },
   "source": [
    "### Solution code\n",
    "\n",
    "```python\n",
    "# Converting 'total' values into numeric from string. Using apply as 'total' feature is a series in this case\n",
    "# Always do type conversion before applying groupby\n",
    "df_web_transactions['total'] = df_web_transactions['total'].apply(pd.to_numeric)\n",
    "\n",
    "# Performing groupby and storing the copy on a new dataframe. This is necessary as many operations cannot be \n",
    "# performed after groupby. Hence original data source should be preserved in its original state\n",
    "df_web_transactions_1 = df_web_transactions.groupby(\"orderno\")\n",
    "\n",
    "# Aggregating the totals and creating a new series - total_agg. Note that the output is a pandas series\n",
    "total_agg = df_web_transactions_1['total'].sum()\n",
    "\n",
    "# Aggregated series data is to be re-cast as a Data Frame\n",
    "total_agg = pd.DataFrame(total_agg)\n",
    "\n",
    "# Resetting index on the Data Frame helps use all data columns in merges and groupbys\n",
    "total_agg = total_agg.reset_index()\n",
    "\n",
    "# Casting 'orderno' feature as string to enable concatenation within the column using comma as separator\n",
    "df_csv_custorder['orderno'] = df_csv_custorder['orderno'].astype(str)\n",
    "\n",
    "# Performing groupby and storing the copy on a new dataframe. This is necessary as many operations cannot be \n",
    "# performed after groupby. Hence original data source should be preserved in its original state\n",
    "df_csv_custorder_1 = df_csv_custorder.groupby(\"customerno\")\n",
    "\n",
    "# Combining multiple order values within the table using aggregation and string join operations\n",
    "cust_order_join = df_csv_custorder_1.orderno.agg(', '.join)\n",
    "\n",
    "# Aggregated series data is to be re-cast as a Data Frame\n",
    "cust_order_join = pd.DataFrame(cust_order_join)\n",
    "\n",
    "# Resetting index on the Data Frame helps use all data columns in merges and groupbys\n",
    "cust_order_join = cust_order_join.reset_index()\n",
    "\n",
    "# Merging customer order table with order totals (total aggregate) table\n",
    "cust_order_total = pd.merge(df_csv_custorder,total_agg,on='orderno')\n",
    "\n",
    "# Aggregating total spent by specific customer using groupby\n",
    "cust_total = pd.DataFrame(cust_order_total.groupby(\"customerno\")['total'].sum())\n",
    "\n",
    "# Resetting index on the Data Frame helps use all data columns in merges and groupbys\n",
    "cust_total = cust_total.reset_index()\n",
    "\n",
    "# Final table created by joining cust_order table and cust_total tables\n",
    "final_table = pd.merge(cust_order_join,cust_total,on='customerno')\n",
    "\n",
    "# Converting total to numeric type\n",
    "final_table['total'] = final_table['total'].apply(pd.to_numeric)\n",
    "\n",
    "# Filtering all customers with total more than 1000\n",
    "final_table[final_table['total']>1000]\n",
    "```"
   ]
  }
 ],
 "metadata": {
  "celltoolbar": "Edit Metadata",
  "kernelspec": {
   "display_name": "Python 3",
   "language": "python",
   "name": "python3"
  },
  "language_info": {
   "codemirror_mode": {
    "name": "ipython",
    "version": 3
   },
   "file_extension": ".py",
   "mimetype": "text/x-python",
   "name": "python",
   "nbconvert_exporter": "python",
   "pygments_lexer": "ipython3",
   "version": "3.7.0"
  },
  "toc": {
   "base_numbering": 1,
   "nav_menu": {},
   "number_sections": true,
   "sideBar": true,
   "skip_h1_title": false,
   "title_cell": "Table of Contents",
   "title_sidebar": "Contents",
   "toc_cell": false,
   "toc_position": {},
   "toc_section_display": true,
   "toc_window_display": false
  }
 },
 "nbformat": 4,
 "nbformat_minor": 2
}
