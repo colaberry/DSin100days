{
 "cells": [
  {
   "cell_type": "markdown",
   "metadata": {},
   "source": [
    "# Lab\n",
    "given the dataset generated below. \n",
    "Generate cost history for number of iterations = 5,10,50,100,500 and 1000. How does changing the number of iterations affect the cost curve. At what point does the loss reach a minimum? Make sure that you label yourplot.\n",
    "\n",
    "```python\n",
    "\n",
    "np.random.seed(1)\n",
    "X = 7 * np.random.rand(2000,1)\n",
    "y = 1 +5 * X+np.random.randn(2000,1)\n",
    "\n",
    "\n",
    "```\n",
    "\n",
    "\n",
    "Note: you are going to need the gradient descent functions from the main notebook for this. \n"
   ]
  },
  {
   "cell_type": "code",
   "execution_count": null,
   "metadata": {},
   "outputs": [],
   "source": []
  }
 ],
 "metadata": {
  "kernelspec": {
   "display_name": "Python 3",
   "language": "python",
   "name": "python3"
  },
  "language_info": {
   "codemirror_mode": {
    "name": "ipython",
    "version": 3
   },
   "file_extension": ".py",
   "mimetype": "text/x-python",
   "name": "python",
   "nbconvert_exporter": "python",
   "pygments_lexer": "ipython3",
   "version": "3.7.3"
  }
 },
 "nbformat": 4,
 "nbformat_minor": 2
}
