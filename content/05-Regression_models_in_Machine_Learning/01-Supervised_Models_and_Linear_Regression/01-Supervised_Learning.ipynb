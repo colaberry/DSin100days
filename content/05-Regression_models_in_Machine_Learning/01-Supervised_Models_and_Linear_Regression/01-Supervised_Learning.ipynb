{
 "cells": [
  {
   "cell_type": "markdown",
   "metadata": {},
   "source": [
    "# Introduction to Machine Learning\n",
    "\n",
    "We will now begin our journey towards machine learning. Before we start off on the journey, it is good to clear our thought process about a few key concepts such as Data Science vs Machine Learning and Data Scientist vs Machine Learning Engineer.\n",
    "\n",
    "## Data Science vs Machine Learning\n",
    "\n",
    "So why are we learning about Machine Learning in a Data Science program? In order to answer this question and gain a clearer understanding of the concepts that you are studying, we need to look into what each of the above terms mean.\n",
    "\n",
    "<b>Machine Learning:</b> One of the widely used definitions of Machine Learning is given by Arthur Samuel in 1959 - \"Field of study that gives computers the ability to learn without being explicitly programmed\". It can be treated as the ecosystem of mathematical and/or statistical models that learn patterns from data and have the ability to extend and apply these patterns to previously unseen conditions, to predict what the outcome may be.\n",
    "\n",
    "<b>Data Science:</b> It is the appropriate application of various Machine Learning models to recognize better and meaningful patterns in data. The 'Science' part of Data Science is that, it is a methodical experimentation on the data, i.e. various models are applied to the data and they are optimized/tuned, in order to improve the quality of insights drawn from the data.\n",
    "\n",
    "By this definition, we now understand that what we are learning are Machine Learning models and what we do with data using these models is Data Science.\n",
    "\n",
    "Now an important thing we need to understand here is that the two different roles in industry - Data Scientist and Machine Learning Engineer differ from each other in a manner that is not similar to the difference between Data Science and Machine Learning itself. Let us look at individual definitions of Data Scientist and Machine Learning Engineer to understand more.\n",
    "\n",
    "<b>Data Scientist:</b> A Data Scientist is someone who performs Data Science, i.e., experiments with various models on a given data set in order to better recognize and predict patterns in data. The Data Scientist is also responsible for interpreting model results and explaining the insights to business decision makers.\n",
    "\n",
    "<b>Machine Learning Engineer:</b> A Machine Learning Engineer is someone who is responsible for deploying the model built by the Data Scientist onto a stable production environment and maintaining it. These duties may include - \n",
    "* ensuring the model scales for any amount of data\n",
    "* ensure models runs periodically and provides output reliably\n",
    "* ensure model parameters are optimized and tuned for efficiency\n",
    "* ensure model doesn't break due to changes in features\n",
    "\n",
    "To summarize, Data Scientist applies Machine Learning model and a Machine Learning Engineer optimizes, deploys and maintains the model.\n",
    "\n",
    "## Types of ML approaches\n",
    "\n",
    "There are 3 main types of machine learning approaches:\n",
    "* Supervised Learning: Learning models on labeled data\n",
    "* Unsupervised Learning: Learning models on unlabled data\n",
    "* Reinforcement Learning: Learning based on feedback for actions\n",
    "\n",
    "In this course, we will learn about Supervised and Unsupervised Learning approaches in detail and get introduced to Reinforcement Learning.\n",
    "\n",
    "\n",
    "### What does Supervised Learning mean in Data Science ?\n",
    "<br>\n",
    "As Data Scientists you will be faced with obstacles regarding data handling and processing since there will datasets that won't adhere to the traditional format of collecting data. And we will explore those kinds of datasets in this section try to run statistical analysis on them.<br>\n",
    "<hr>\n",
    "In this section, of the course, we will be learning about creating statistical models from different types of data. Lets begin by deciphering the name of this section <strong>\"Supervised Learning\"</strong>\n",
    "\n",
    "<ul>\n",
    "    <li><b>Learning</b></li>\n",
    "    <small>It is the concept of learning new or existing patterns in a dataset, where datapoints are labeled. Labeled data means data which is tagged in order to convey metadata about the specific data point which can help us understand origin, meaning, affiliation and associated properties of the data point.<br>\n",
    "    </small>\n",
    "    <li><b>Supervised</b></li>\n",
    "    <small>It simply refers to the idea of using data that contains exmaples or ,in practical sence, labels for the learning to happen.<br>\n",
    "    </small>\n",
    "    <p></p>\n",
    "</ul>\n",
    "\n",
    "Since, the definition don't display the whole concept we will in later sections of this course learn how to run a statistical model on a labeled data.\n"
   ]
  },
  {
   "cell_type": "code",
   "execution_count": 4,
   "metadata": {},
   "outputs": [],
   "source": [
    "# No Exercises here "
   ]
  },
  {
   "cell_type": "markdown",
   "metadata": {
    "hide_input": true
   },
   "source": [
    "No Solution Here"
   ]
  },
  {
   "cell_type": "markdown",
   "metadata": {},
   "source": [
    "#### When is it most applicable ?\n",
    "\n",
    "As the term <strong>Supervised</strong> suggests it can mostly be applicable for data that has both features and their outputs. <br>\n",
    "Let's observe the dataset to learn how Supervised learning works.<br>\n",
    "The below dataset is a popular dataset called the Breast Cancer dataset. It contains certain features such as radius, texture, smoothness etc, these features help us in determing whether a person has (1) or doesn't(0) have cancer\n",
    "\n",
    "\n",
    "```Python\n",
    "# Import the Dataset package from the module\n",
    "from sklearn.datasets import load_breast_cancer\n",
    "\n",
    "# Select just the features and the target\n",
    "features=load_breast_cancer()['data']\n",
    "target=load_breast_cancer()['target']\n",
    "print(features[0], target[0])\n",
    "\n",
    "# Output:\n",
    ">>>\n",
    "[1.799e+01 1.038e+01 1.228e+02 1.001e+03 1.184e-01 2.776e-01 3.001e-01\n",
    " 1.471e-01 2.419e-01 7.871e-02 1.095e+00 9.053e-01 8.589e+00 1.534e+02\n",
    " 6.399e-03 4.904e-02 5.373e-02 1.587e-02 3.003e-02 6.193e-03 2.538e+01\n",
    " 1.733e+01 1.846e+02 2.019e+03 1.622e-01 6.656e-01 7.119e-01 2.654e-01\n",
    " 4.601e-01 1.189e-01] 0\n",
    "```\n",
    "\n",
    "Note: Features here refers to the columns and target refers to the outputs/labels\n",
    "\n",
    "In the above displayed object we are observing the first row in both columns. The features refer to the array of floating point number representing a certain predictor of breast cancer and number next to it ( 0 ) represents the class/target.  \n",
    "\n",
    "Statistically we can see them as independent variables and the targets are considered dependent variable.\n",
    "Supervised Learning Models work best with these sort of datasets\n",
    "\n",
    "Supervised Learning Models: <br>\n",
    "(In the sections coming up we shall learn to work with all of these models but this aims to tackle some of these)<br>\n",
    "Supervised Leanrning type of Models:- <br>\n",
    "<ol>\n",
    "    <li>Classification</li>\n",
    "    <small>The concept of classifying is assigning a certain unknown data to an entity. <br>\n",
    "        A typical process goes on by creating a model based on training data. The training data would, in this case, have labels/classes like the ones presented above for a given set of features. On the other hand we will also have a test dataset which won't have any labels. Running model on our test set helps us in understanding how useful our model can be in predicting.  \n",
    "    </small>\n",
    "    <ul>\n",
    "        <li type='a'>Decision Tree</li> \n",
    "        <img src=\"../../../images/dectree.png\" height=500 width=600/>\n",
    "        <small>We can imagine this classifier to be a set of sequential questions. Based on which it makes predictions</small>\n",
    "        <li type='a'>Random Forest Tree</li>\n",
    "        <img src=\"../../../images/randomforest.PNG\" height=600 width=700/>\n",
    "        <small>Random Forest can be conceptualized as having multiple decision trees and each decision tree contributes by to the final decision providing its predictions.</small>\n",
    "        <li type='a'> Support Vector Machine</li>\n",
    "        <img src=\"../../../images/SVM.PNG\" height=\"500\" width=\"500\">\n",
    "            <p> Support Vector Machines (SVMs) forms around the idea to make the best fit line for the dataset which equally divides the data points into certain datasets. As you can in the given picture the hyperlane divides the data points allowing for a clear classification to occur.</p>\n",
    "    </ul>\n",
    "    <li>Regression</li>\n",
    "    <small> In classification we have a set of features and only 2 or, maybe a finite, more number of classes. But in regression this changes as now we are now dealing with numeric values which are random, to the scientist, and can be of any magnitude. </small>\n",
    "    <p> Let's take a look at this example <br>\n",
    "</ol>\n",
    "\n",
    "```python\n",
    "\n",
    "# Import the Dataset package from the module\n",
    "from sklearn.datasets import load_diabetes\n",
    "import pandas as pd\n",
    "\n",
    "# Select just the features and the target\n",
    "features = load_diabetes()['data']\n",
    "target = load_diabetes()['target']\n",
    "# print(features[0], target[0])\n",
    "diabetes = pd.DataFrame(features, target)\n",
    "diabetes['target'] = diabetes.index\n",
    "diabetes.reset_index(drop=True, inplace=True)\n",
    "diabetes.head()\n",
    "```\n",
    "\n",
    "<img src=\"../../../images/diabetes.PNG\" height=\"800\" width=\"800\">\n",
    "\n",
    "<ol>\n",
    "    <p> <small> The above dataset is a sample from the diabetes dataset which reflects all its features on the columns labelled 0-9, and on the right most column shows the result. Here we see that the class of this dataset seems quite random but a real world problem would have datasets similar to this which will be conditioned to find patterns. Classification on these datasets is considered to be regressiona and they are done with a seperate set methods. </small>\n",
    "    </p>\n",
    "    <ol>\n",
    "        <li type='a'>Linear</li> A regression which tries to find the best fit line amongst the data, meaning the line represents a linear graph with the highest degree to be 1 ( we will discuss more about this in the later sections )\n",
    "        <img src=\"../../../images/linear_regression.png\" height=\"550\" width=\"550\" />\n",
    "        <li type='a'>Polynomial</li> A regression which tried its best fit through the data points but has the advantage of having degree 2 or more.\n",
    "        <img src=\"../../../images/polynomial_regression.png\" height=\"550\" width=\"550\" />\n",
    "        <li type='a'>Logistic</li> Logistic regression is used to mainly determine between finite classes, but unlike Linear and Polynomial which give straight classifications without any approximation, logistic regression takes the advatage of Sigmoid Function ( which we will discuss in the future ) and tries to give probabilities about its data points\n",
    "        <img src=\"../../../images/logistic_regression.png\" height=\"500\" width=\"500\">\n",
    "<!--         <li type='a'>Ridge</li>\n",
    "        <li type='a'>Lasso</li> -->\n",
    "    </ol>\n",
    "</ol>\n",
    "\n",
    "<strong><u>In this Section we will mostly be looking at Regression models</u></strong>"
   ]
  },
  {
   "cell_type": "code",
   "execution_count": 5,
   "metadata": {},
   "outputs": [],
   "source": [
    "# No Exercises here "
   ]
  },
  {
   "cell_type": "markdown",
   "metadata": {
    "hide_input": true
   },
   "source": [
    "No Solution Here"
   ]
  },
  {
   "cell_type": "markdown",
   "metadata": {},
   "source": [
    "### How does it differ from Unsupervised Learning ?\n",
    "\n",
    "* <b>Unsupervised</b>\n",
    "  <br>It is learning performed on unlabeled data. It refers to the condition of data that have no prior set format of inputs and outputs. Unsupervised learning helps us learn a structure from the data, which would then help us draw inferences about each group within the structure\n",
    "\n",
    "With the unlabeled datasets we can't really perform a regression or classify any particular datapoint in the dataset but we can however find similarities among these datapoints to learn the structure around the dataset. We will learn a much more detailed definition and explanation of Unsupervised Learning in the next course modules.\n",
    "\n",
    "Unsupervised Models:-\n",
    "<ol>\n",
    "    <li>Association Rule</li>\n",
    "    <li>Clustering</li>\n",
    "    <ol>\n",
    "        <li type='a'>Hierarchical Clustering</li>\n",
    "        <li type='a'>Density-based Clustering</li>\n",
    "        <li type='a'>DBScan</li>\n",
    "        <li type='a'>K-means Clustering</li>\n",
    "    </ol>\n",
    "    \n",
    "        \n",
    "</ol>\n"
   ]
  },
  {
   "cell_type": "code",
   "execution_count": 26,
   "metadata": {},
   "outputs": [],
   "source": [
    "# No Exercises here"
   ]
  },
  {
   "cell_type": "markdown",
   "metadata": {},
   "source": [
    "No Solution Here"
   ]
  }
 ],
 "metadata": {
  "celltoolbar": "Edit Metadata",
  "kernelspec": {
   "display_name": "Python 3",
   "language": "python",
   "name": "python3"
  },
  "language_info": {
   "codemirror_mode": {
    "name": "ipython",
    "version": 3
   },
   "file_extension": ".py",
   "mimetype": "text/x-python",
   "name": "python",
   "nbconvert_exporter": "python",
   "pygments_lexer": "ipython3",
   "version": "3.7.4"
  }
 },
 "nbformat": 4,
 "nbformat_minor": 2
}
