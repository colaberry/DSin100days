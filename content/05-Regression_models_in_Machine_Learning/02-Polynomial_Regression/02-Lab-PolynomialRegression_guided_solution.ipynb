{
 "cells": [
  {
   "cell_type": "markdown",
   "metadata": {},
   "source": [
    "## 02-Lab  - Polynomial Regression\n",
    "\n",
    "In this lab, you will work with Auto dataset which we had seen while Introducing Data Science .\n",
    "The dataset contains information about varoious cars/automobiles, the number of wheels, engine displacement along with their fuel efficiency.\n",
    "Your task is to fit a Polynomial model, and predict the miles-per-gallon(mpg) based on suitable input variables.\n",
    "You are required to do the data manipulation, polynomial conversion (of suitable degree), perform train-test splits,etc to create the model.\n",
    "\n",
    "Data is availabe in : https://raw.githubusercontent.com/colaberry/DSin100days/master/data/Auto.csv"
   ]
  },
  {
   "cell_type": "code",
   "execution_count": 10,
   "metadata": {},
   "outputs": [
    {
     "name": "stdout",
     "output_type": "stream",
     "text": [
      "<class 'pandas.core.frame.DataFrame'>\n",
      "Int64Index: 392 entries, 0 to 396\n",
      "Data columns (total 9 columns):\n",
      "mpg             392 non-null float64\n",
      "cylinders       392 non-null int64\n",
      "displacement    392 non-null float64\n",
      "horsepower      392 non-null float64\n",
      "weight          392 non-null int64\n",
      "acceleration    392 non-null float64\n",
      "year            392 non-null int64\n",
      "origin          392 non-null int64\n",
      "name            392 non-null object\n",
      "dtypes: float64(4), int64(4), object(1)\n",
      "memory usage: 30.6+ KB\n"
     ]
    },
    {
     "data": {
      "text/html": [
       "<div>\n",
       "<style scoped>\n",
       "    .dataframe tbody tr th:only-of-type {\n",
       "        vertical-align: middle;\n",
       "    }\n",
       "\n",
       "    .dataframe tbody tr th {\n",
       "        vertical-align: top;\n",
       "    }\n",
       "\n",
       "    .dataframe thead th {\n",
       "        text-align: right;\n",
       "    }\n",
       "</style>\n",
       "<table border=\"1\" class=\"dataframe\">\n",
       "  <thead>\n",
       "    <tr style=\"text-align: right;\">\n",
       "      <th></th>\n",
       "      <th>mpg</th>\n",
       "      <th>cylinders</th>\n",
       "      <th>displacement</th>\n",
       "      <th>horsepower</th>\n",
       "      <th>weight</th>\n",
       "      <th>acceleration</th>\n",
       "      <th>year</th>\n",
       "      <th>origin</th>\n",
       "      <th>name</th>\n",
       "    </tr>\n",
       "  </thead>\n",
       "  <tbody>\n",
       "    <tr>\n",
       "      <th>0</th>\n",
       "      <td>18.0</td>\n",
       "      <td>8</td>\n",
       "      <td>307.0</td>\n",
       "      <td>130.0</td>\n",
       "      <td>3504</td>\n",
       "      <td>12.0</td>\n",
       "      <td>70</td>\n",
       "      <td>1</td>\n",
       "      <td>chevrolet chevelle malibu</td>\n",
       "    </tr>\n",
       "    <tr>\n",
       "      <th>1</th>\n",
       "      <td>15.0</td>\n",
       "      <td>8</td>\n",
       "      <td>350.0</td>\n",
       "      <td>165.0</td>\n",
       "      <td>3693</td>\n",
       "      <td>11.5</td>\n",
       "      <td>70</td>\n",
       "      <td>1</td>\n",
       "      <td>buick skylark 320</td>\n",
       "    </tr>\n",
       "    <tr>\n",
       "      <th>2</th>\n",
       "      <td>18.0</td>\n",
       "      <td>8</td>\n",
       "      <td>318.0</td>\n",
       "      <td>150.0</td>\n",
       "      <td>3436</td>\n",
       "      <td>11.0</td>\n",
       "      <td>70</td>\n",
       "      <td>1</td>\n",
       "      <td>plymouth satellite</td>\n",
       "    </tr>\n",
       "    <tr>\n",
       "      <th>3</th>\n",
       "      <td>16.0</td>\n",
       "      <td>8</td>\n",
       "      <td>304.0</td>\n",
       "      <td>150.0</td>\n",
       "      <td>3433</td>\n",
       "      <td>12.0</td>\n",
       "      <td>70</td>\n",
       "      <td>1</td>\n",
       "      <td>amc rebel sst</td>\n",
       "    </tr>\n",
       "    <tr>\n",
       "      <th>4</th>\n",
       "      <td>17.0</td>\n",
       "      <td>8</td>\n",
       "      <td>302.0</td>\n",
       "      <td>140.0</td>\n",
       "      <td>3449</td>\n",
       "      <td>10.5</td>\n",
       "      <td>70</td>\n",
       "      <td>1</td>\n",
       "      <td>ford torino</td>\n",
       "    </tr>\n",
       "  </tbody>\n",
       "</table>\n",
       "</div>"
      ],
      "text/plain": [
       "    mpg  cylinders  displacement  horsepower  weight  acceleration  year  \\\n",
       "0  18.0          8         307.0       130.0    3504          12.0    70   \n",
       "1  15.0          8         350.0       165.0    3693          11.5    70   \n",
       "2  18.0          8         318.0       150.0    3436          11.0    70   \n",
       "3  16.0          8         304.0       150.0    3433          12.0    70   \n",
       "4  17.0          8         302.0       140.0    3449          10.5    70   \n",
       "\n",
       "   origin                       name  \n",
       "0       1  chevrolet chevelle malibu  \n",
       "1       1          buick skylark 320  \n",
       "2       1         plymouth satellite  \n",
       "3       1              amc rebel sst  \n",
       "4       1                ford torino  "
      ]
     },
     "execution_count": 10,
     "metadata": {},
     "output_type": "execute_result"
    }
   ],
   "source": [
    "# Import the library\n",
    "import pandas as pd\n",
    "import seaborn as sns\n",
    "import matplotlib.pyplot as plt\n",
    "import plotly.express as px\n",
    "import plotly.graph_objects as go\n",
    "from sklearn.preprocessing import PolynomialFeatures\n",
    "from sklearn.metrics import mean_squared_error, r2_score\n",
    "from sklearn.model_selection import train_test_split\n",
    "from sklearn.linear_model import LinearRegression\n",
    "from sklearn.metrics import mean_squared_error\n",
    "\n",
    "import numpy as np\n",
    "\n",
    "auto = pd.read_csv('https://raw.githubusercontent.com/colaberry/DSin100days/master/data/Auto.csv', na_values='?').dropna()\n",
    "auto.info()\n",
    "auto.head()\n",
    "\n",
    "#Write your code here or in other code cells down"
   ]
  },
  {
   "cell_type": "code",
   "execution_count": 11,
   "metadata": {},
   "outputs": [
    {
     "data": {
      "image/png": "[encoded data removed]",
      "text/plain": [
       "<Figure size 1440x1440 with 72 Axes>"
      ]
     },
     "metadata": {
      "needs_background": "light"
     },
     "output_type": "display_data"
    }
   ],
   "source": [
    "# First we will get the pair plot to see which variables are continuous\n",
    "sns.pairplot(auto)\n",
    "plt.show()"
   ]
  },
  {
   "cell_type": "code",
   "execution_count": 12,
   "metadata": {},
   "outputs": [
    {
     "data": {
      "application/vnd.plotly.v1+json": {
       "config": {
        "plotlyServerURL": "https://plot.ly"
       },
       "data": [
        {
         "hovertemplate": "weight=%{x}<br>mpg=%{y}<extra></extra>",
         "legendgroup": "",
         "marker": {
          "color": "#636efa",
          "symbol": "circle"
         },
         "mode": "markers",
         "name": "",
         "orientation": "v",
         "showlegend": false,
         "type": "scatter",
         "x": [
          3504,
          3693,
          3436,
          3433,
          3449,
          4341,
          4354,
          4312,
          4425,
          3850,
          3563,
          3609,
          3761,
          3086,
          2372,
          2833,
          2774,
          2587,
          2130,
          1835,
          2672,
          2430,
          2375,
          2234,
          2648,
          4615,
          4376,
          4382,
          4732,
          2130,
          2264,
          2228,
          2634,
          3439,
          3329,
          3302,
          3288,
          4209,
          4464,
          4154,
          4096,
          4955,
          4746,
          5140,
          2962,
          2408,
          3282,
          3139,
          2220,
          2123,
          2074,
          2065,
          1773,
          1613,
          1834,
          1955,
          2278,
          2126,
          2254,
          2408,
          2226,
          4274,
          4385,
          4135,
          4129,
          3672,
          4633,
          4502,
          4456,
          4422,
          2330,
          3892,
          4098,
          4294,
          4077,
          2933,
          2511,
          2979,
          2189,
          2395,
          2288,
          2506,
          2164,
          2100,
          4100,
          3672,
          3988,
          4042,
          3777,
          4952,
          4464,
          4363,
          4237,
          4735,
          4951,
          3821,
          3121,
          3278,
          2945,
          3021,
          2904,
          1950,
          4997,
          4906,
          4654,
          4499,
          2789,
          2279,
          2401,
          2379,
          2124,
          2310,
          2472,
          2265,
          4082,
          4278,
          1867,
          2158,
          2582,
          2868,
          3399,
          2660,
          2807,
          3664,
          3102,
          2901,
          3336,
          1950,
          2451,
          1836,
          2542,
          3781,
          3632,
          3613,
          4141,
          4699,
          4457,
          4638,
          4257,
          2219,
          1963,
          2300,
          1649,
          2003,
          2125,
          2108,
          2246,
          2489,
          2391,
          2000,
          3264,
          3459,
          3432,
          3158,
          4668,
          4440,
          4498,
          4657,
          3907,
          3897,
          3730,
          3785,
          3039,
          3221,
          3169,
          2171,
          2639,
          2914,
          2592,
          2702,
          2223,
          2545,
          2984,
          1937,
          3211,
          2694,
          2957,
          2945,
          2671,
          1795,
          2464,
          2220,
          2572,
          2255,
          2202,
          4215,
          4190,
          3962,
          4215,
          3233,
          3353,
          3012,
          3085,
          2035,
          2164,
          1937,
          1795,
          3651,
          3574,
          3645,
          3193,
          1825,
          1990,
          2155,
          2565,
          3150,
          3940,
          3270,
          2930,
          3820,
          4380,
          4055,
          3870,
          3755,
          2045,
          2155,
          1825,
          2300,
          1945,
          3880,
          4060,
          4140,
          4295,
          3520,
          3425,
          3630,
          3525,
          4220,
          4165,
          4325,
          4335,
          1940,
          2740,
          2265,
          2755,
          2051,
          2075,
          1985,
          2190,
          2815,
          2600,
          2720,
          1985,
          1800,
          1985,
          2070,
          1800,
          3365,
          3735,
          3570,
          3535,
          3155,
          2965,
          2720,
          3430,
          3210,
          3380,
          3070,
          3620,
          3410,
          3425,
          3445,
          3205,
          4080,
          2155,
          2560,
          2300,
          2230,
          2515,
          2745,
          2855,
          2405,
          2830,
          3140,
          2795,
          3410,
          1990,
          2135,
          3245,
          2990,
          2890,
          3265,
          3360,
          3840,
          3725,
          3955,
          3830,
          4360,
          4054,
          3605,
          3940,
          1925,
          1975,
          1915,
          2670,
          3530,
          3900,
          3190,
          3420,
          2200,
          2150,
          2020,
          2130,
          2670,
          2595,
          2700,
          2556,
          2144,
          1968,
          2120,
          2019,
          2678,
          2870,
          3003,
          3381,
          2188,
          2711,
          2542,
          2434,
          2265,
          2110,
          2800,
          2110,
          2085,
          2335,
          2950,
          3250,
          1850,
          2145,
          1845,
          2910,
          2420,
          2500,
          2290,
          2490,
          2635,
          2620,
          2725,
          2385,
          1755,
          1875,
          1760,
          2065,
          1975,
          2050,
          1985,
          2215,
          2045,
          2380,
          2190,
          2210,
          2350,
          2615,
          2635,
          3230,
          3160,
          2900,
          2930,
          3415,
          3725,
          3060,
          3465,
          2605,
          2640,
          2395,
          2575,
          2525,
          2735,
          2865,
          1980,
          2025,
          1970,
          2125,
          2125,
          2160,
          2205,
          2245,
          1965,
          1965,
          1995,
          2945,
          3015,
          2585,
          2835,
          2665,
          2370,
          2950,
          2790,
          2130,
          2295,
          2625,
          2720
         ],
         "xaxis": "x",
         "y": [
          18,
          15,
          18,
          16,
          17,
          15,
          14,
          14,
          14,
          15,
          15,
          14,
          15,
          14,
          24,
          22,
          18,
          21,
          27,
          26,
          25,
          24,
          25,
          26,
          21,
          10,
          10,
          11,
          9,
          27,
          28,
          25,
          19,
          16,
          17,
          19,
          18,
          14,
          14,
          14,
          14,
          12,
          13,
          13,
          18,
          22,
          19,
          18,
          23,
          28,
          30,
          30,
          31,
          35,
          27,
          26,
          24,
          25,
          23,
          20,
          21,
          13,
          14,
          15,
          14,
          17,
          11,
          13,
          12,
          13,
          19,
          15,
          13,
          13,
          14,
          18,
          22,
          21,
          26,
          22,
          28,
          23,
          28,
          27,
          13,
          14,
          13,
          14,
          15,
          12,
          13,
          13,
          14,
          13,
          12,
          13,
          18,
          16,
          18,
          18,
          23,
          26,
          11,
          12,
          13,
          12,
          18,
          20,
          21,
          22,
          18,
          19,
          21,
          26,
          15,
          16,
          29,
          24,
          20,
          19,
          15,
          24,
          20,
          11,
          20,
          19,
          15,
          31,
          26,
          32,
          25,
          16,
          16,
          18,
          16,
          13,
          14,
          14,
          14,
          29,
          26,
          26,
          31,
          32,
          28,
          24,
          26,
          24,
          26,
          31,
          19,
          18,
          15,
          15,
          16,
          15,
          16,
          14,
          17,
          16,
          15,
          18,
          21,
          20,
          13,
          29,
          23,
          20,
          23,
          24,
          25,
          24,
          18,
          29,
          19,
          23,
          23,
          22,
          25,
          33,
          28,
          25,
          25,
          26,
          27,
          17.5,
          16,
          15.5,
          14.5,
          22,
          22,
          24,
          22.5,
          29,
          24.5,
          29,
          33,
          20,
          18,
          18.5,
          17.5,
          29.5,
          32,
          28,
          26.5,
          20,
          13,
          19,
          19,
          16.5,
          16.5,
          13,
          13,
          13,
          31.5,
          30,
          36,
          25.5,
          33.5,
          17.5,
          17,
          15.5,
          15,
          17.5,
          20.5,
          19,
          18.5,
          16,
          15.5,
          15.5,
          16,
          29,
          24.5,
          26,
          25.5,
          30.5,
          33.5,
          30,
          30.5,
          22,
          21.5,
          21.5,
          43.1,
          36.1,
          32.8,
          39.4,
          36.1,
          19.9,
          19.4,
          20.2,
          19.2,
          20.5,
          20.2,
          25.1,
          20.5,
          19.4,
          20.6,
          20.8,
          18.6,
          18.1,
          19.2,
          17.7,
          18.1,
          17.5,
          30,
          27.5,
          27.2,
          30.9,
          21.1,
          23.2,
          23.8,
          23.9,
          20.3,
          17,
          21.6,
          16.2,
          31.5,
          29.5,
          21.5,
          19.8,
          22.3,
          20.2,
          20.6,
          17,
          17.6,
          16.5,
          18.2,
          16.9,
          15.5,
          19.2,
          18.5,
          31.9,
          34.1,
          35.7,
          27.4,
          25.4,
          23,
          27.2,
          23.9,
          34.2,
          34.5,
          31.8,
          37.3,
          28.4,
          28.8,
          26.8,
          33.5,
          41.5,
          38.1,
          32.1,
          37.2,
          28,
          26.4,
          24.3,
          19.1,
          34.3,
          29.8,
          31.3,
          37,
          32.2,
          46.6,
          27.9,
          40.8,
          44.3,
          43.4,
          36.4,
          30,
          44.6,
          33.8,
          29.8,
          32.7,
          23.7,
          35,
          32.4,
          27.2,
          26.6,
          25.8,
          23.5,
          30,
          39.1,
          39,
          35.1,
          32.3,
          37,
          37.7,
          34.1,
          34.7,
          34.4,
          29.9,
          33,
          33.7,
          32.4,
          32.9,
          31.6,
          28.1,
          30.7,
          25.4,
          24.2,
          22.4,
          26.6,
          20.2,
          17.6,
          28,
          27,
          34,
          31,
          29,
          27,
          24,
          36,
          37,
          31,
          38,
          36,
          36,
          36,
          34,
          38,
          32,
          38,
          25,
          38,
          26,
          22,
          32,
          36,
          27,
          27,
          44,
          32,
          28,
          31
         ],
         "yaxis": "y"
        }
       ],
       "layout": {
        "autosize": true,
        "legend": {
         "tracegroupgap": 0
        },
        "margin": {
         "t": 60
        },
        "template": {
         "data": {
          "bar": [
           {
            "error_x": {
             "color": "#2a3f5f"
            },
            "error_y": {
             "color": "#2a3f5f"
            },
            "marker": {
             "line": {
              "color": "#E5ECF6",
              "width": 0.5
             }
            },
            "type": "bar"
           }
          ],
          "barpolar": [
           {
            "marker": {
             "line": {
              "color": "#E5ECF6",
              "width": 0.5
             }
            },
            "type": "barpolar"
           }
          ],
          "carpet": [
           {
            "aaxis": {
             "endlinecolor": "#2a3f5f",
             "gridcolor": "white",
             "linecolor": "white",
             "minorgridcolor": "white",
             "startlinecolor": "#2a3f5f"
            },
            "baxis": {
             "endlinecolor": "#2a3f5f",
             "gridcolor": "white",
             "linecolor": "white",
             "minorgridcolor": "white",
             "startlinecolor": "#2a3f5f"
            },
            "type": "carpet"
           }
          ],
          "choropleth": [
           {
            "colorbar": {
             "outlinewidth": 0,
             "ticks": ""
            },
            "type": "choropleth"
           }
          ],
          "contour": [
           {
            "colorbar": {
             "outlinewidth": 0,
             "ticks": ""
            },
            "colorscale": [
             [
              0,
              "#0d0887"
             ],
             [
              0.1111111111111111,
              "#46039f"
             ],
             [
              0.2222222222222222,
              "#7201a8"
             ],
             [
              0.3333333333333333,
              "#9c179e"
             ],
             [
              0.4444444444444444,
              "#bd3786"
             ],
             [
              0.5555555555555556,
              "#d8576b"
             ],
             [
              0.6666666666666666,
              "#ed7953"
             ],
             [
              0.7777777777777778,
              "#fb9f3a"
             ],
             [
              0.8888888888888888,
              "#fdca26"
             ],
             [
              1,
              "#f0f921"
             ]
            ],
            "type": "contour"
           }
          ],
          "contourcarpet": [
           {
            "colorbar": {
             "outlinewidth": 0,
             "ticks": ""
            },
            "type": "contourcarpet"
           }
          ],
          "heatmap": [
           {
            "colorbar": {
             "outlinewidth": 0,
             "ticks": ""
            },
            "colorscale": [
             [
              0,
              "#0d0887"
             ],
             [
              0.1111111111111111,
              "#46039f"
             ],
             [
              0.2222222222222222,
              "#7201a8"
             ],
             [
              0.3333333333333333,
              "#9c179e"
             ],
             [
              0.4444444444444444,
              "#bd3786"
             ],
             [
              0.5555555555555556,
              "#d8576b"
             ],
             [
              0.6666666666666666,
              "#ed7953"
             ],
             [
              0.7777777777777778,
              "#fb9f3a"
             ],
             [
              0.8888888888888888,
              "#fdca26"
             ],
             [
              1,
              "#f0f921"
             ]
            ],
            "type": "heatmap"
           }
          ],
          "heatmapgl": [
           {
            "colorbar": {
             "outlinewidth": 0,
             "ticks": ""
            },
            "colorscale": [
             [
              0,
              "#0d0887"
             ],
             [
              0.1111111111111111,
              "#46039f"
             ],
             [
              0.2222222222222222,
              "#7201a8"
             ],
             [
              0.3333333333333333,
              "#9c179e"
             ],
             [
              0.4444444444444444,
              "#bd3786"
             ],
             [
              0.5555555555555556,
              "#d8576b"
             ],
             [
              0.6666666666666666,
              "#ed7953"
             ],
             [
              0.7777777777777778,
              "#fb9f3a"
             ],
             [
              0.8888888888888888,
              "#fdca26"
             ],
             [
              1,
              "#f0f921"
             ]
            ],
            "type": "heatmapgl"
           }
          ],
          "histogram": [
           {
            "marker": {
             "colorbar": {
              "outlinewidth": 0,
              "ticks": ""
             }
            },
            "type": "histogram"
           }
          ],
          "histogram2d": [
           {
            "colorbar": {
             "outlinewidth": 0,
             "ticks": ""
            },
            "colorscale": [
             [
              0,
              "#0d0887"
             ],
             [
              0.1111111111111111,
              "#46039f"
             ],
             [
              0.2222222222222222,
              "#7201a8"
             ],
             [
              0.3333333333333333,
              "#9c179e"
             ],
             [
              0.4444444444444444,
              "#bd3786"
             ],
             [
              0.5555555555555556,
              "#d8576b"
             ],
             [
              0.6666666666666666,
              "#ed7953"
             ],
             [
              0.7777777777777778,
              "#fb9f3a"
             ],
             [
              0.8888888888888888,
              "#fdca26"
             ],
             [
              1,
              "#f0f921"
             ]
            ],
            "type": "histogram2d"
           }
          ],
          "histogram2dcontour": [
           {
            "colorbar": {
             "outlinewidth": 0,
             "ticks": ""
            },
            "colorscale": [
             [
              0,
              "#0d0887"
             ],
             [
              0.1111111111111111,
              "#46039f"
             ],
             [
              0.2222222222222222,
              "#7201a8"
             ],
             [
              0.3333333333333333,
              "#9c179e"
             ],
             [
              0.4444444444444444,
              "#bd3786"
             ],
             [
              0.5555555555555556,
              "#d8576b"
             ],
             [
              0.6666666666666666,
              "#ed7953"
             ],
             [
              0.7777777777777778,
              "#fb9f3a"
             ],
             [
              0.8888888888888888,
              "#fdca26"
             ],
             [
              1,
              "#f0f921"
             ]
            ],
            "type": "histogram2dcontour"
           }
          ],
          "mesh3d": [
           {
            "colorbar": {
             "outlinewidth": 0,
             "ticks": ""
            },
            "type": "mesh3d"
           }
          ],
          "parcoords": [
           {
            "line": {
             "colorbar": {
              "outlinewidth": 0,
              "ticks": ""
             }
            },
            "type": "parcoords"
           }
          ],
          "pie": [
           {
            "automargin": true,
            "type": "pie"
           }
          ],
          "scatter": [
           {
            "marker": {
             "colorbar": {
              "outlinewidth": 0,
              "ticks": ""
             }
            },
            "type": "scatter"
           }
          ],
          "scatter3d": [
           {
            "line": {
             "colorbar": {
              "outlinewidth": 0,
              "ticks": ""
             }
            },
            "marker": {
             "colorbar": {
              "outlinewidth": 0,
              "ticks": ""
             }
            },
            "type": "scatter3d"
           }
          ],
          "scattercarpet": [
           {
            "marker": {
             "colorbar": {
              "outlinewidth": 0,
              "ticks": ""
             }
            },
            "type": "scattercarpet"
           }
          ],
          "scattergeo": [
           {
            "marker": {
             "colorbar": {
              "outlinewidth": 0,
              "ticks": ""
             }
            },
            "type": "scattergeo"
           }
          ],
          "scattergl": [
           {
            "marker": {
             "colorbar": {
              "outlinewidth": 0,
              "ticks": ""
             }
            },
            "type": "scattergl"
           }
          ],
          "scattermapbox": [
           {
            "marker": {
             "colorbar": {
              "outlinewidth": 0,
              "ticks": ""
             }
            },
            "type": "scattermapbox"
           }
          ],
          "scatterpolar": [
           {
            "marker": {
             "colorbar": {
              "outlinewidth": 0,
              "ticks": ""
             }
            },
            "type": "scatterpolar"
           }
          ],
          "scatterpolargl": [
           {
            "marker": {
             "colorbar": {
              "outlinewidth": 0,
              "ticks": ""
             }
            },
            "type": "scatterpolargl"
           }
          ],
          "scatterternary": [
           {
            "marker": {
             "colorbar": {
              "outlinewidth": 0,
              "ticks": ""
             }
            },
            "type": "scatterternary"
           }
          ],
          "surface": [
           {
            "colorbar": {
             "outlinewidth": 0,
             "ticks": ""
            },
            "colorscale": [
             [
              0,
              "#0d0887"
             ],
             [
              0.1111111111111111,
              "#46039f"
             ],
             [
              0.2222222222222222,
              "#7201a8"
             ],
             [
              0.3333333333333333,
              "#9c179e"
             ],
             [
              0.4444444444444444,
              "#bd3786"
             ],
             [
              0.5555555555555556,
              "#d8576b"
             ],
             [
              0.6666666666666666,
              "#ed7953"
             ],
             [
              0.7777777777777778,
              "#fb9f3a"
             ],
             [
              0.8888888888888888,
              "#fdca26"
             ],
             [
              1,
              "#f0f921"
             ]
            ],
            "type": "surface"
           }
          ],
          "table": [
           {
            "cells": {
             "fill": {
              "color": "#EBF0F8"
             },
             "line": {
              "color": "white"
             }
            },
            "header": {
             "fill": {
              "color": "#C8D4E3"
             },
             "line": {
              "color": "white"
             }
            },
            "type": "table"
           }
          ]
         },
         "layout": {
          "annotationdefaults": {
           "arrowcolor": "#2a3f5f",
           "arrowhead": 0,
           "arrowwidth": 1
          },
          "coloraxis": {
           "colorbar": {
            "outlinewidth": 0,
            "ticks": ""
           }
          },
          "colorscale": {
           "diverging": [
            [
             0,
             "#8e0152"
            ],
            [
             0.1,
             "#c51b7d"
            ],
            [
             0.2,
             "#de77ae"
            ],
            [
             0.3,
             "#f1b6da"
            ],
            [
             0.4,
             "#fde0ef"
            ],
            [
             0.5,
             "#f7f7f7"
            ],
            [
             0.6,
             "#e6f5d0"
            ],
            [
             0.7,
             "#b8e186"
            ],
            [
             0.8,
             "#7fbc41"
            ],
            [
             0.9,
             "#4d9221"
            ],
            [
             1,
             "#276419"
            ]
           ],
           "sequential": [
            [
             0,
             "#0d0887"
            ],
            [
             0.1111111111111111,
             "#46039f"
            ],
            [
             0.2222222222222222,
             "#7201a8"
            ],
            [
             0.3333333333333333,
             "#9c179e"
            ],
            [
             0.4444444444444444,
             "#bd3786"
            ],
            [
             0.5555555555555556,
             "#d8576b"
            ],
            [
             0.6666666666666666,
             "#ed7953"
            ],
            [
             0.7777777777777778,
             "#fb9f3a"
            ],
            [
             0.8888888888888888,
             "#fdca26"
            ],
            [
             1,
             "#f0f921"
            ]
           ],
           "sequentialminus": [
            [
             0,
             "#0d0887"
            ],
            [
             0.1111111111111111,
             "#46039f"
            ],
            [
             0.2222222222222222,
             "#7201a8"
            ],
            [
             0.3333333333333333,
             "#9c179e"
            ],
            [
             0.4444444444444444,
             "#bd3786"
            ],
            [
             0.5555555555555556,
             "#d8576b"
            ],
            [
             0.6666666666666666,
             "#ed7953"
            ],
            [
             0.7777777777777778,
             "#fb9f3a"
            ],
            [
             0.8888888888888888,
             "#fdca26"
            ],
            [
             1,
             "#f0f921"
            ]
           ]
          },
          "colorway": [
           "#636efa",
           "#EF553B",
           "#00cc96",
           "#ab63fa",
           "#FFA15A",
           "#19d3f3",
           "#FF6692",
           "#B6E880",
           "#FF97FF",
           "#FECB52"
          ],
          "font": {
           "color": "#2a3f5f"
          },
          "geo": {
           "bgcolor": "white",
           "lakecolor": "white",
           "landcolor": "#E5ECF6",
           "showlakes": true,
           "showland": true,
           "subunitcolor": "white"
          },
          "hoverlabel": {
           "align": "left"
          },
          "hovermode": "closest",
          "mapbox": {
           "style": "light"
          },
          "paper_bgcolor": "white",
          "plot_bgcolor": "#E5ECF6",
          "polar": {
           "angularaxis": {
            "gridcolor": "white",
            "linecolor": "white",
            "ticks": ""
           },
           "bgcolor": "#E5ECF6",
           "radialaxis": {
            "gridcolor": "white",
            "linecolor": "white",
            "ticks": ""
           }
          },
          "scene": {
           "xaxis": {
            "backgroundcolor": "#E5ECF6",
            "gridcolor": "white",
            "gridwidth": 2,
            "linecolor": "white",
            "showbackground": true,
            "ticks": "",
            "zerolinecolor": "white"
           },
           "yaxis": {
            "backgroundcolor": "#E5ECF6",
            "gridcolor": "white",
            "gridwidth": 2,
            "linecolor": "white",
            "showbackground": true,
            "ticks": "",
            "zerolinecolor": "white"
           },
           "zaxis": {
            "backgroundcolor": "#E5ECF6",
            "gridcolor": "white",
            "gridwidth": 2,
            "linecolor": "white",
            "showbackground": true,
            "ticks": "",
            "zerolinecolor": "white"
           }
          },
          "shapedefaults": {
           "line": {
            "color": "#2a3f5f"
           }
          },
          "ternary": {
           "aaxis": {
            "gridcolor": "white",
            "linecolor": "white",
            "ticks": ""
           },
           "baxis": {
            "gridcolor": "white",
            "linecolor": "white",
            "ticks": ""
           },
           "bgcolor": "#E5ECF6",
           "caxis": {
            "gridcolor": "white",
            "linecolor": "white",
            "ticks": ""
           }
          },
          "title": {
           "x": 0.05
          },
          "xaxis": {
           "automargin": true,
           "gridcolor": "white",
           "linecolor": "white",
           "ticks": "",
           "title": {
            "standoff": 15
           },
           "zerolinecolor": "white",
           "zerolinewidth": 2
          },
          "yaxis": {
           "automargin": true,
           "gridcolor": "white",
           "linecolor": "white",
           "ticks": "",
           "title": {
            "standoff": 15
           },
           "zerolinecolor": "white",
           "zerolinewidth": 2
          }
         }
        },
        "xaxis": {
         "anchor": "y",
         "autorange": true,
         "domain": [
          0,
          1
         ],
         "range": [
          1406.4017688850224,
          5346.598231114977
         ],
         "title": {
          "text": "weight"
         },
         "type": "linear"
        },
        "yaxis": {
         "anchor": "x",
         "autorange": true,
         "domain": [
          0,
          1
         ],
         "range": [
          6.334069981583793,
          49.265930018416206
         ],
         "title": {
          "text": "mpg"
         },
         "type": "linear"
        }
       }
      },
      "image/png": "[encoded data removed]",
      "text/html": [
       "<div>\n",
       "        \n",
       "        \n",
       "            <div id=\"c4c22c21-06c3-4fdd-84cd-81649df38de3\" class=\"plotly-graph-div\" style=\"height:525px; width:100%;\"></div>\n",
       "            <script type=\"text/javascript\">\n",
       "                require([\"plotly\"], function(Plotly) {\n",
       "                    window.PLOTLYENV=window.PLOTLYENV || {};\n",
       "                    \n",
       "                if (document.getElementById(\"c4c22c21-06c3-4fdd-84cd-81649df38de3\")) {\n",
       "                    Plotly.newPlot(\n",
       "                        'c4c22c21-06c3-4fdd-84cd-81649df38de3',\n",
       "                        [{\"hovertemplate\": \"weight=%{x}<br>mpg=%{y}<extra></extra>\", \"legendgroup\": \"\", \"marker\": {\"color\": \"#636efa\", \"symbol\": \"circle\"}, \"mode\": \"markers\", \"name\": \"\", \"orientation\": \"v\", \"showlegend\": false, \"type\": \"scatter\", \"x\": [3504, 3693, 3436, 3433, 3449, 4341, 4354, 4312, 4425, 3850, 3563, 3609, 3761, 3086, 2372, 2833, 2774, 2587, 2130, 1835, 2672, 2430, 2375, 2234, 2648, 4615, 4376, 4382, 4732, 2130, 2264, 2228, 2634, 3439, 3329, 3302, 3288, 4209, 4464, 4154, 4096, 4955, 4746, 5140, 2962, 2408, 3282, 3139, 2220, 2123, 2074, 2065, 1773, 1613, 1834, 1955, 2278, 2126, 2254, 2408, 2226, 4274, 4385, 4135, 4129, 3672, 4633, 4502, 4456, 4422, 2330, 3892, 4098, 4294, 4077, 2933, 2511, 2979, 2189, 2395, 2288, 2506, 2164, 2100, 4100, 3672, 3988, 4042, 3777, 4952, 4464, 4363, 4237, 4735, 4951, 3821, 3121, 3278, 2945, 3021, 2904, 1950, 4997, 4906, 4654, 4499, 2789, 2279, 2401, 2379, 2124, 2310, 2472, 2265, 4082, 4278, 1867, 2158, 2582, 2868, 3399, 2660, 2807, 3664, 3102, 2901, 3336, 1950, 2451, 1836, 2542, 3781, 3632, 3613, 4141, 4699, 4457, 4638, 4257, 2219, 1963, 2300, 1649, 2003, 2125, 2108, 2246, 2489, 2391, 2000, 3264, 3459, 3432, 3158, 4668, 4440, 4498, 4657, 3907, 3897, 3730, 3785, 3039, 3221, 3169, 2171, 2639, 2914, 2592, 2702, 2223, 2545, 2984, 1937, 3211, 2694, 2957, 2945, 2671, 1795, 2464, 2220, 2572, 2255, 2202, 4215, 4190, 3962, 4215, 3233, 3353, 3012, 3085, 2035, 2164, 1937, 1795, 3651, 3574, 3645, 3193, 1825, 1990, 2155, 2565, 3150, 3940, 3270, 2930, 3820, 4380, 4055, 3870, 3755, 2045, 2155, 1825, 2300, 1945, 3880, 4060, 4140, 4295, 3520, 3425, 3630, 3525, 4220, 4165, 4325, 4335, 1940, 2740, 2265, 2755, 2051, 2075, 1985, 2190, 2815, 2600, 2720, 1985, 1800, 1985, 2070, 1800, 3365, 3735, 3570, 3535, 3155, 2965, 2720, 3430, 3210, 3380, 3070, 3620, 3410, 3425, 3445, 3205, 4080, 2155, 2560, 2300, 2230, 2515, 2745, 2855, 2405, 2830, 3140, 2795, 3410, 1990, 2135, 3245, 2990, 2890, 3265, 3360, 3840, 3725, 3955, 3830, 4360, 4054, 3605, 3940, 1925, 1975, 1915, 2670, 3530, 3900, 3190, 3420, 2200, 2150, 2020, 2130, 2670, 2595, 2700, 2556, 2144, 1968, 2120, 2019, 2678, 2870, 3003, 3381, 2188, 2711, 2542, 2434, 2265, 2110, 2800, 2110, 2085, 2335, 2950, 3250, 1850, 2145, 1845, 2910, 2420, 2500, 2290, 2490, 2635, 2620, 2725, 2385, 1755, 1875, 1760, 2065, 1975, 2050, 1985, 2215, 2045, 2380, 2190, 2210, 2350, 2615, 2635, 3230, 3160, 2900, 2930, 3415, 3725, 3060, 3465, 2605, 2640, 2395, 2575, 2525, 2735, 2865, 1980, 2025, 1970, 2125, 2125, 2160, 2205, 2245, 1965, 1965, 1995, 2945, 3015, 2585, 2835, 2665, 2370, 2950, 2790, 2130, 2295, 2625, 2720], \"xaxis\": \"x\", \"y\": [18.0, 15.0, 18.0, 16.0, 17.0, 15.0, 14.0, 14.0, 14.0, 15.0, 15.0, 14.0, 15.0, 14.0, 24.0, 22.0, 18.0, 21.0, 27.0, 26.0, 25.0, 24.0, 25.0, 26.0, 21.0, 10.0, 10.0, 11.0, 9.0, 27.0, 28.0, 25.0, 19.0, 16.0, 17.0, 19.0, 18.0, 14.0, 14.0, 14.0, 14.0, 12.0, 13.0, 13.0, 18.0, 22.0, 19.0, 18.0, 23.0, 28.0, 30.0, 30.0, 31.0, 35.0, 27.0, 26.0, 24.0, 25.0, 23.0, 20.0, 21.0, 13.0, 14.0, 15.0, 14.0, 17.0, 11.0, 13.0, 12.0, 13.0, 19.0, 15.0, 13.0, 13.0, 14.0, 18.0, 22.0, 21.0, 26.0, 22.0, 28.0, 23.0, 28.0, 27.0, 13.0, 14.0, 13.0, 14.0, 15.0, 12.0, 13.0, 13.0, 14.0, 13.0, 12.0, 13.0, 18.0, 16.0, 18.0, 18.0, 23.0, 26.0, 11.0, 12.0, 13.0, 12.0, 18.0, 20.0, 21.0, 22.0, 18.0, 19.0, 21.0, 26.0, 15.0, 16.0, 29.0, 24.0, 20.0, 19.0, 15.0, 24.0, 20.0, 11.0, 20.0, 19.0, 15.0, 31.0, 26.0, 32.0, 25.0, 16.0, 16.0, 18.0, 16.0, 13.0, 14.0, 14.0, 14.0, 29.0, 26.0, 26.0, 31.0, 32.0, 28.0, 24.0, 26.0, 24.0, 26.0, 31.0, 19.0, 18.0, 15.0, 15.0, 16.0, 15.0, 16.0, 14.0, 17.0, 16.0, 15.0, 18.0, 21.0, 20.0, 13.0, 29.0, 23.0, 20.0, 23.0, 24.0, 25.0, 24.0, 18.0, 29.0, 19.0, 23.0, 23.0, 22.0, 25.0, 33.0, 28.0, 25.0, 25.0, 26.0, 27.0, 17.5, 16.0, 15.5, 14.5, 22.0, 22.0, 24.0, 22.5, 29.0, 24.5, 29.0, 33.0, 20.0, 18.0, 18.5, 17.5, 29.5, 32.0, 28.0, 26.5, 20.0, 13.0, 19.0, 19.0, 16.5, 16.5, 13.0, 13.0, 13.0, 31.5, 30.0, 36.0, 25.5, 33.5, 17.5, 17.0, 15.5, 15.0, 17.5, 20.5, 19.0, 18.5, 16.0, 15.5, 15.5, 16.0, 29.0, 24.5, 26.0, 25.5, 30.5, 33.5, 30.0, 30.5, 22.0, 21.5, 21.5, 43.1, 36.1, 32.8, 39.4, 36.1, 19.9, 19.4, 20.2, 19.2, 20.5, 20.2, 25.1, 20.5, 19.4, 20.6, 20.8, 18.6, 18.1, 19.2, 17.7, 18.1, 17.5, 30.0, 27.5, 27.2, 30.9, 21.1, 23.2, 23.8, 23.9, 20.3, 17.0, 21.6, 16.2, 31.5, 29.5, 21.5, 19.8, 22.3, 20.2, 20.6, 17.0, 17.6, 16.5, 18.2, 16.9, 15.5, 19.2, 18.5, 31.9, 34.1, 35.7, 27.4, 25.4, 23.0, 27.2, 23.9, 34.2, 34.5, 31.8, 37.3, 28.4, 28.8, 26.8, 33.5, 41.5, 38.1, 32.1, 37.2, 28.0, 26.4, 24.3, 19.1, 34.3, 29.8, 31.3, 37.0, 32.2, 46.6, 27.9, 40.8, 44.3, 43.4, 36.4, 30.0, 44.6, 33.8, 29.8, 32.7, 23.7, 35.0, 32.4, 27.2, 26.6, 25.8, 23.5, 30.0, 39.1, 39.0, 35.1, 32.3, 37.0, 37.7, 34.1, 34.7, 34.4, 29.9, 33.0, 33.7, 32.4, 32.9, 31.6, 28.1, 30.7, 25.4, 24.2, 22.4, 26.6, 20.2, 17.6, 28.0, 27.0, 34.0, 31.0, 29.0, 27.0, 24.0, 36.0, 37.0, 31.0, 38.0, 36.0, 36.0, 36.0, 34.0, 38.0, 32.0, 38.0, 25.0, 38.0, 26.0, 22.0, 32.0, 36.0, 27.0, 27.0, 44.0, 32.0, 28.0, 31.0], \"yaxis\": \"y\"}],\n",
       "                        {\"legend\": {\"tracegroupgap\": 0}, \"margin\": {\"t\": 60}, \"template\": {\"data\": {\"bar\": [{\"error_x\": {\"color\": \"#2a3f5f\"}, \"error_y\": {\"color\": \"#2a3f5f\"}, \"marker\": {\"line\": {\"color\": \"#E5ECF6\", \"width\": 0.5}}, \"type\": \"bar\"}], \"barpolar\": [{\"marker\": {\"line\": {\"color\": \"#E5ECF6\", \"width\": 0.5}}, \"type\": \"barpolar\"}], \"carpet\": [{\"aaxis\": {\"endlinecolor\": \"#2a3f5f\", \"gridcolor\": \"white\", \"linecolor\": \"white\", \"minorgridcolor\": \"white\", \"startlinecolor\": \"#2a3f5f\"}, \"baxis\": {\"endlinecolor\": \"#2a3f5f\", \"gridcolor\": \"white\", \"linecolor\": \"white\", \"minorgridcolor\": \"white\", \"startlinecolor\": \"#2a3f5f\"}, \"type\": \"carpet\"}], \"choropleth\": [{\"colorbar\": {\"outlinewidth\": 0, \"ticks\": \"\"}, \"type\": \"choropleth\"}], \"contour\": [{\"colorbar\": {\"outlinewidth\": 0, \"ticks\": \"\"}, \"colorscale\": [[0.0, \"#0d0887\"], [0.1111111111111111, \"#46039f\"], [0.2222222222222222, \"#7201a8\"], [0.3333333333333333, \"#9c179e\"], [0.4444444444444444, \"#bd3786\"], [0.5555555555555556, \"#d8576b\"], [0.6666666666666666, \"#ed7953\"], [0.7777777777777778, \"#fb9f3a\"], [0.8888888888888888, \"#fdca26\"], [1.0, \"#f0f921\"]], \"type\": \"contour\"}], \"contourcarpet\": [{\"colorbar\": {\"outlinewidth\": 0, \"ticks\": \"\"}, \"type\": \"contourcarpet\"}], \"heatmap\": [{\"colorbar\": {\"outlinewidth\": 0, \"ticks\": \"\"}, \"colorscale\": [[0.0, \"#0d0887\"], [0.1111111111111111, \"#46039f\"], [0.2222222222222222, \"#7201a8\"], [0.3333333333333333, \"#9c179e\"], [0.4444444444444444, \"#bd3786\"], [0.5555555555555556, \"#d8576b\"], [0.6666666666666666, \"#ed7953\"], [0.7777777777777778, \"#fb9f3a\"], [0.8888888888888888, \"#fdca26\"], [1.0, \"#f0f921\"]], \"type\": \"heatmap\"}], \"heatmapgl\": [{\"colorbar\": {\"outlinewidth\": 0, \"ticks\": \"\"}, \"colorscale\": [[0.0, \"#0d0887\"], [0.1111111111111111, \"#46039f\"], [0.2222222222222222, \"#7201a8\"], [0.3333333333333333, \"#9c179e\"], [0.4444444444444444, \"#bd3786\"], [0.5555555555555556, \"#d8576b\"], [0.6666666666666666, \"#ed7953\"], [0.7777777777777778, \"#fb9f3a\"], [0.8888888888888888, \"#fdca26\"], [1.0, \"#f0f921\"]], \"type\": \"heatmapgl\"}], \"histogram\": [{\"marker\": {\"colorbar\": {\"outlinewidth\": 0, \"ticks\": \"\"}}, \"type\": \"histogram\"}], \"histogram2d\": [{\"colorbar\": {\"outlinewidth\": 0, \"ticks\": \"\"}, \"colorscale\": [[0.0, \"#0d0887\"], [0.1111111111111111, \"#46039f\"], [0.2222222222222222, \"#7201a8\"], [0.3333333333333333, \"#9c179e\"], [0.4444444444444444, \"#bd3786\"], [0.5555555555555556, \"#d8576b\"], [0.6666666666666666, \"#ed7953\"], [0.7777777777777778, \"#fb9f3a\"], [0.8888888888888888, \"#fdca26\"], [1.0, \"#f0f921\"]], \"type\": \"histogram2d\"}], \"histogram2dcontour\": [{\"colorbar\": {\"outlinewidth\": 0, \"ticks\": \"\"}, \"colorscale\": [[0.0, \"#0d0887\"], [0.1111111111111111, \"#46039f\"], [0.2222222222222222, \"#7201a8\"], [0.3333333333333333, \"#9c179e\"], [0.4444444444444444, \"#bd3786\"], [0.5555555555555556, \"#d8576b\"], [0.6666666666666666, \"#ed7953\"], [0.7777777777777778, \"#fb9f3a\"], [0.8888888888888888, \"#fdca26\"], [1.0, \"#f0f921\"]], \"type\": \"histogram2dcontour\"}], \"mesh3d\": [{\"colorbar\": {\"outlinewidth\": 0, \"ticks\": \"\"}, \"type\": \"mesh3d\"}], \"parcoords\": [{\"line\": {\"colorbar\": {\"outlinewidth\": 0, \"ticks\": \"\"}}, \"type\": \"parcoords\"}], \"pie\": [{\"automargin\": true, \"type\": \"pie\"}], \"scatter\": [{\"marker\": {\"colorbar\": {\"outlinewidth\": 0, \"ticks\": \"\"}}, \"type\": \"scatter\"}], \"scatter3d\": [{\"line\": {\"colorbar\": {\"outlinewidth\": 0, \"ticks\": \"\"}}, \"marker\": {\"colorbar\": {\"outlinewidth\": 0, \"ticks\": \"\"}}, \"type\": \"scatter3d\"}], \"scattercarpet\": [{\"marker\": {\"colorbar\": {\"outlinewidth\": 0, \"ticks\": \"\"}}, \"type\": \"scattercarpet\"}], \"scattergeo\": [{\"marker\": {\"colorbar\": {\"outlinewidth\": 0, \"ticks\": \"\"}}, \"type\": \"scattergeo\"}], \"scattergl\": [{\"marker\": {\"colorbar\": {\"outlinewidth\": 0, \"ticks\": \"\"}}, \"type\": \"scattergl\"}], \"scattermapbox\": [{\"marker\": {\"colorbar\": {\"outlinewidth\": 0, \"ticks\": \"\"}}, \"type\": \"scattermapbox\"}], \"scatterpolar\": [{\"marker\": {\"colorbar\": {\"outlinewidth\": 0, \"ticks\": \"\"}}, \"type\": \"scatterpolar\"}], \"scatterpolargl\": [{\"marker\": {\"colorbar\": {\"outlinewidth\": 0, \"ticks\": \"\"}}, \"type\": \"scatterpolargl\"}], \"scatterternary\": [{\"marker\": {\"colorbar\": {\"outlinewidth\": 0, \"ticks\": \"\"}}, \"type\": \"scatterternary\"}], \"surface\": [{\"colorbar\": {\"outlinewidth\": 0, \"ticks\": \"\"}, \"colorscale\": [[0.0, \"#0d0887\"], [0.1111111111111111, \"#46039f\"], [0.2222222222222222, \"#7201a8\"], [0.3333333333333333, \"#9c179e\"], [0.4444444444444444, \"#bd3786\"], [0.5555555555555556, \"#d8576b\"], [0.6666666666666666, \"#ed7953\"], [0.7777777777777778, \"#fb9f3a\"], [0.8888888888888888, \"#fdca26\"], [1.0, \"#f0f921\"]], \"type\": \"surface\"}], \"table\": [{\"cells\": {\"fill\": {\"color\": \"#EBF0F8\"}, \"line\": {\"color\": \"white\"}}, \"header\": {\"fill\": {\"color\": \"#C8D4E3\"}, \"line\": {\"color\": \"white\"}}, \"type\": \"table\"}]}, \"layout\": {\"annotationdefaults\": {\"arrowcolor\": \"#2a3f5f\", \"arrowhead\": 0, \"arrowwidth\": 1}, \"coloraxis\": {\"colorbar\": {\"outlinewidth\": 0, \"ticks\": \"\"}}, \"colorscale\": {\"diverging\": [[0, \"#8e0152\"], [0.1, \"#c51b7d\"], [0.2, \"#de77ae\"], [0.3, \"#f1b6da\"], [0.4, \"#fde0ef\"], [0.5, \"#f7f7f7\"], [0.6, \"#e6f5d0\"], [0.7, \"#b8e186\"], [0.8, \"#7fbc41\"], [0.9, \"#4d9221\"], [1, \"#276419\"]], \"sequential\": [[0.0, \"#0d0887\"], [0.1111111111111111, \"#46039f\"], [0.2222222222222222, \"#7201a8\"], [0.3333333333333333, \"#9c179e\"], [0.4444444444444444, \"#bd3786\"], [0.5555555555555556, \"#d8576b\"], [0.6666666666666666, \"#ed7953\"], [0.7777777777777778, \"#fb9f3a\"], [0.8888888888888888, \"#fdca26\"], [1.0, \"#f0f921\"]], \"sequentialminus\": [[0.0, \"#0d0887\"], [0.1111111111111111, \"#46039f\"], [0.2222222222222222, \"#7201a8\"], [0.3333333333333333, \"#9c179e\"], [0.4444444444444444, \"#bd3786\"], [0.5555555555555556, \"#d8576b\"], [0.6666666666666666, \"#ed7953\"], [0.7777777777777778, \"#fb9f3a\"], [0.8888888888888888, \"#fdca26\"], [1.0, \"#f0f921\"]]}, \"colorway\": [\"#636efa\", \"#EF553B\", \"#00cc96\", \"#ab63fa\", \"#FFA15A\", \"#19d3f3\", \"#FF6692\", \"#B6E880\", \"#FF97FF\", \"#FECB52\"], \"font\": {\"color\": \"#2a3f5f\"}, \"geo\": {\"bgcolor\": \"white\", \"lakecolor\": \"white\", \"landcolor\": \"#E5ECF6\", \"showlakes\": true, \"showland\": true, \"subunitcolor\": \"white\"}, \"hoverlabel\": {\"align\": \"left\"}, \"hovermode\": \"closest\", \"mapbox\": {\"style\": \"light\"}, \"paper_bgcolor\": \"white\", \"plot_bgcolor\": \"#E5ECF6\", \"polar\": {\"angularaxis\": {\"gridcolor\": \"white\", \"linecolor\": \"white\", \"ticks\": \"\"}, \"bgcolor\": \"#E5ECF6\", \"radialaxis\": {\"gridcolor\": \"white\", \"linecolor\": \"white\", \"ticks\": \"\"}}, \"scene\": {\"xaxis\": {\"backgroundcolor\": \"#E5ECF6\", \"gridcolor\": \"white\", \"gridwidth\": 2, \"linecolor\": \"white\", \"showbackground\": true, \"ticks\": \"\", \"zerolinecolor\": \"white\"}, \"yaxis\": {\"backgroundcolor\": \"#E5ECF6\", \"gridcolor\": \"white\", \"gridwidth\": 2, \"linecolor\": \"white\", \"showbackground\": true, \"ticks\": \"\", \"zerolinecolor\": \"white\"}, \"zaxis\": {\"backgroundcolor\": \"#E5ECF6\", \"gridcolor\": \"white\", \"gridwidth\": 2, \"linecolor\": \"white\", \"showbackground\": true, \"ticks\": \"\", \"zerolinecolor\": \"white\"}}, \"shapedefaults\": {\"line\": {\"color\": \"#2a3f5f\"}}, \"ternary\": {\"aaxis\": {\"gridcolor\": \"white\", \"linecolor\": \"white\", \"ticks\": \"\"}, \"baxis\": {\"gridcolor\": \"white\", \"linecolor\": \"white\", \"ticks\": \"\"}, \"bgcolor\": \"#E5ECF6\", \"caxis\": {\"gridcolor\": \"white\", \"linecolor\": \"white\", \"ticks\": \"\"}}, \"title\": {\"x\": 0.05}, \"xaxis\": {\"automargin\": true, \"gridcolor\": \"white\", \"linecolor\": \"white\", \"ticks\": \"\", \"title\": {\"standoff\": 15}, \"zerolinecolor\": \"white\", \"zerolinewidth\": 2}, \"yaxis\": {\"automargin\": true, \"gridcolor\": \"white\", \"linecolor\": \"white\", \"ticks\": \"\", \"title\": {\"standoff\": 15}, \"zerolinecolor\": \"white\", \"zerolinewidth\": 2}}}, \"xaxis\": {\"anchor\": \"y\", \"domain\": [0.0, 1.0], \"title\": {\"text\": \"weight\"}}, \"yaxis\": {\"anchor\": \"x\", \"domain\": [0.0, 1.0], \"title\": {\"text\": \"mpg\"}}},\n",
       "                        {\"responsive\": true}\n",
       "                    ).then(function(){\n",
       "                            \n",
       "var gd = document.getElementById('c4c22c21-06c3-4fdd-84cd-81649df38de3');\n",
       "var x = new MutationObserver(function (mutations, observer) {{\n",
       "        var display = window.getComputedStyle(gd).display;\n",
       "        if (!display || display === 'none') {{\n",
       "            console.log([gd, 'removed!']);\n",
       "            Plotly.purge(gd);\n",
       "            observer.disconnect();\n",
       "        }}\n",
       "}});\n",
       "\n",
       "// Listen for the removal of the full notebook cells\n",
       "var notebookContainer = gd.closest('#notebook-container');\n",
       "if (notebookContainer) {{\n",
       "    x.observe(notebookContainer, {childList: true});\n",
       "}}\n",
       "\n",
       "// Listen for the clearing of the current output cell\n",
       "var outputEl = gd.closest('.output');\n",
       "if (outputEl) {{\n",
       "    x.observe(outputEl, {childList: true});\n",
       "}}\n",
       "\n",
       "                        })\n",
       "                };\n",
       "                });\n",
       "            </script>\n",
       "        </div>"
      ]
     },
     "metadata": {},
     "output_type": "display_data"
    }
   ],
   "source": [
    "# We are going to use the weight as the feature and mpg as the target\n",
    "# We are plotting it using plotly\n",
    "dataset = auto[['weight', 'mpg']]\n",
    "px.scatter(dataset, x='weight', y='mpg')"
   ]
  },
  {
   "cell_type": "code",
   "execution_count": 13,
   "metadata": {},
   "outputs": [],
   "source": [
    "# We select the feature and the target from the dataframe called dataset\n",
    "target = dataset['mpg']\n",
    "features = dataset['weight']\n",
    "\n",
    "# Perform test train split with test_size = 0.2 and random state = 2\n",
    "train_x, test_x, train_y, test_y = train_test_split(features,target, test_size=0.2, random_state=2)\n",
    "\n",
    "# Use np.newaxis to add a dimension to the training and testing sets. This is required to run fit transform for Polynomial features\n",
    "# and to run Fit for linear regression \n",
    "train_x = train_x.values[:, np.newaxis]\n",
    "train_y = train_y.values[:, np.newaxis]\n",
    "\n",
    "test_x = test_x.values[:, np.newaxis]\n",
    "test_y = test_y.values[:, np.newaxis]\n",
    "\n",
    "# Generate polynomial features, generate 2nd order features\n",
    "num_features = 2\n",
    "poly = PolynomialFeatures(num_features)\n",
    "\n",
    "# Use fit transform on the features of the training set  to get poly features\n",
    "poly_features = poly.fit_transform(train_x)\n",
    "\n"
   ]
  },
  {
   "cell_type": "code",
   "execution_count": 18,
   "metadata": {},
   "outputs": [
    {
     "data": {
      "application/vnd.plotly.v1+json": {
       "config": {
        "plotlyServerURL": "https://plot.ly"
       },
       "data": [
        {
         "mode": "markers",
         "name": "Training values",
         "type": "scatter",
         "x": [
          3193,
          2572,
          3433,
          3211,
          3410,
          2700,
          2720,
          2160,
          3360,
          1760,
          2135,
          4633,
          3265,
          2745,
          2035,
          2380,
          3761,
          3086,
          3415,
          3445,
          1800,
          2130,
          4165,
          2075,
          1836,
          3233,
          2545,
          1825,
          3730,
          2694,
          2830,
          3302,
          2020,
          2835,
          3021,
          2300,
          2051,
          3563,
          2472,
          1850,
          3605,
          1925,
          2725,
          4952,
          2702,
          2635,
          2665,
          2300,
          2110,
          3353,
          2945,
          2582,
          1845,
          1995,
          3785,
          2226,
          2045,
          3940,
          3609,
          3205,
          1985,
          2957,
          4295,
          3336,
          1950,
          1965,
          4380,
          2464,
          3420,
          4077,
          2789,
          4363,
          1975,
          2542,
          2234,
          2230,
          3693,
          2223,
          4154,
          2310,
          2385,
          1834,
          3449,
          4654,
          2145,
          2678,
          3155,
          3672,
          4335,
          2155,
          3432,
          2639,
          4354,
          3525,
          3190,
          4498,
          2560,
          2164,
          2290,
          3892,
          3520,
          2395,
          4042,
          4129,
          2372,
          3150,
          3820,
          2130,
          2150,
          3630,
          2188,
          3158,
          2019,
          4906,
          4220,
          4668,
          2420,
          3399,
          2900,
          3380,
          2125,
          1985,
          2962,
          2265,
          4141,
          1963,
          4735,
          1950,
          3613,
          4341,
          1990,
          2542,
          2395,
          1970,
          4440,
          4278,
          2155,
          2795,
          2158,
          3940,
          2205,
          2065,
          2202,
          1985,
          2025,
          4096,
          3250,
          4464,
          2490,
          2125,
          3169,
          2556,
          3850,
          4209,
          2295,
          2408,
          1755,
          2855,
          2110,
          2130,
          3288,
          2220,
          4746,
          2595,
          2370,
          3897,
          2126,
          2171,
          2108,
          2807,
          3245,
          3830,
          4499,
          2615,
          2890,
          3955,
          2930,
          3651,
          3070,
          2219,
          2525,
          2800,
          2279,
          4425,
          3381,
          2735,
          3160,
          3012,
          2755,
          2430,
          2865,
          2585,
          3840,
          2189,
          3282,
          2050,
          2120,
          2210,
          3880,
          1985,
          3570,
          4699,
          1825,
          2190,
          2124,
          3015,
          4135,
          4237,
          2070,
          4385,
          3504,
          4382,
          2605,
          3535,
          2945,
          3962,
          2391,
          2815,
          1975,
          2910,
          3907,
          2003,
          3140,
          2408,
          1990,
          2930,
          2500,
          2000,
          3664,
          2774,
          3425,
          2045,
          4325,
          1968,
          2790,
          3278,
          2901,
          4274,
          2506,
          2720,
          2278,
          1835,
          3988,
          1800,
          4638,
          2711,
          3329,
          3900,
          4257,
          3430,
          2511,
          4376,
          4054,
          5140,
          3121,
          2100,
          2965,
          4215,
          4294,
          3735,
          3365,
          2265,
          2405,
          4457,
          3530,
          2123,
          3270,
          1965,
          2245,
          3632,
          2074,
          2190,
          1773,
          2288,
          2228,
          2660,
          4055,
          2350,
          2130,
          1795,
          3777,
          2950,
          2085,
          3210,
          2254,
          3439,
          4464,
          3725,
          2065,
          2640,
          3425,
          4997,
          1937,
          2914,
          1915,
          1867,
          3102,
          1945,
          4360,
          2265,
          3139,
          3755,
          2950,
          3821,
          3039,
          4080,
          3060,
          2933,
          2200,
          2375,
          4098,
          2833,
          2592
         ],
         "y": [
          17.5,
          25,
          16,
          19,
          18.1,
          26.8,
          21.5,
          36,
          20.6,
          35.1,
          29.5,
          11,
          20.2,
          23.2,
          29,
          29.9,
          15,
          14,
          22.4,
          17.7,
          36.1,
          27,
          15.5,
          33.5,
          32,
          22,
          24,
          36,
          15,
          23,
          20.3,
          19,
          31.8,
          22,
          18,
          27.2,
          30.5,
          15,
          21,
          44.6,
          19.2,
          31.9,
          23.5,
          12,
          24,
          31.6,
          32,
          26,
          40.8,
          22,
          18,
          20,
          29.8,
          38,
          18,
          21,
          31.5,
          18.5,
          14,
          18.1,
          32.8,
          23,
          15,
          15,
          31,
          38,
          16.5,
          28,
          23.9,
          14,
          18,
          13,
          34.1,
          31.3,
          26,
          30.9,
          15,
          25,
          14,
          19,
          30,
          27,
          17,
          13,
          33.8,
          28,
          20.5,
          14,
          16,
          28,
          15,
          23,
          14,
          18.5,
          27.2,
          16,
          27.5,
          28,
          32.4,
          15,
          17.5,
          34,
          14,
          14,
          24,
          20,
          16.5,
          27,
          34.5,
          19,
          34.3,
          15,
          37.2,
          12,
          16,
          16,
          23.7,
          15,
          25.4,
          20.6,
          28,
          43.1,
          18,
          26,
          16,
          26,
          13,
          26,
          18,
          15,
          31.5,
          25,
          22,
          31,
          15,
          16,
          30,
          21.6,
          24,
          13,
          36,
          32.3,
          27,
          30,
          37,
          14,
          30,
          13,
          27.2,
          38,
          13,
          33.5,
          15,
          14,
          32,
          22,
          39.1,
          23.8,
          46.6,
          44,
          18,
          23,
          13,
          28.8,
          36,
          16,
          25,
          29,
          24,
          20,
          21.5,
          18.2,
          12,
          32.9,
          22.3,
          16.5,
          24.2,
          20,
          20.8,
          29,
          29,
          27.9,
          20,
          14,
          19.1,
          27,
          30.7,
          24,
          25.5,
          24,
          24,
          26,
          17,
          26,
          19,
          37.7,
          32.1,
          33.7,
          17.5,
          34.1,
          20.2,
          13,
          29.5,
          33,
          18,
          38,
          15,
          14,
          39.4,
          14,
          18,
          11,
          28,
          19.2,
          22,
          15.5,
          26,
          22,
          37,
          32.7,
          17,
          32,
          17,
          20,
          32,
          19,
          35,
          31,
          11,
          18,
          20.5,
          34.4,
          15.5,
          38.1,
          27,
          16,
          19,
          13,
          23,
          31,
          24,
          26,
          13,
          36.1,
          14,
          29.8,
          17,
          23,
          14,
          20.5,
          22,
          10,
          15.5,
          13,
          18,
          27,
          20.2,
          17.5,
          13,
          19.4,
          19.9,
          26,
          23.9,
          14,
          25.4,
          28,
          19,
          32,
          34,
          16,
          30,
          30.5,
          31,
          28,
          25,
          24,
          13,
          32.4,
          37.3,
          33,
          15,
          36.4,
          44.3,
          19.4,
          23,
          16,
          14,
          26.6,
          30,
          27,
          19.2,
          11,
          29,
          20,
          35.7,
          29,
          20,
          33.5,
          16.9,
          32.2,
          18,
          13,
          27,
          13,
          21,
          17.5,
          20.2,
          18,
          34.2,
          25,
          13,
          22,
          23
         ]
        },
        {
         "marker": {
          "color": "green"
         },
         "mode": "markers",
         "name": "Predicted values",
         "type": "scatter",
         "x": [
          3193,
          2572,
          3433,
          3211,
          3410,
          2700,
          2720,
          2160,
          3360,
          1760,
          2135,
          4633,
          3265,
          2745,
          2035,
          2380,
          3761,
          3086,
          3415,
          3445,
          1800,
          2130,
          4165,
          2075,
          1836,
          3233,
          2545,
          1825,
          3730,
          2694,
          2830,
          3302,
          2020,
          2835,
          3021,
          2300,
          2051,
          3563,
          2472,
          1850,
          3605,
          1925,
          2725,
          4952,
          2702,
          2635,
          2665,
          2300,
          2110,
          3353,
          2945,
          2582,
          1845,
          1995,
          3785,
          2226,
          2045,
          3940,
          3609,
          3205,
          1985,
          2957,
          4295,
          3336,
          1950,
          1965,
          4380,
          2464,
          3420,
          4077,
          2789,
          4363,
          1975,
          2542,
          2234,
          2230,
          3693,
          2223,
          4154,
          2310,
          2385,
          1834,
          3449,
          4654,
          2145,
          2678,
          3155,
          3672,
          4335,
          2155,
          3432,
          2639,
          4354,
          3525,
          3190,
          4498,
          2560,
          2164,
          2290,
          3892,
          3520,
          2395,
          4042,
          4129,
          2372,
          3150,
          3820,
          2130,
          2150,
          3630,
          2188,
          3158,
          2019,
          4906,
          4220,
          4668,
          2420,
          3399,
          2900,
          3380,
          2125,
          1985,
          2962,
          2265,
          4141,
          1963,
          4735,
          1950,
          3613,
          4341,
          1990,
          2542,
          2395,
          1970,
          4440,
          4278,
          2155,
          2795,
          2158,
          3940,
          2205,
          2065,
          2202,
          1985,
          2025,
          4096,
          3250,
          4464,
          2490,
          2125,
          3169,
          2556,
          3850,
          4209,
          2295,
          2408,
          1755,
          2855,
          2110,
          2130,
          3288,
          2220,
          4746,
          2595,
          2370,
          3897,
          2126,
          2171,
          2108,
          2807,
          3245,
          3830,
          4499,
          2615,
          2890,
          3955,
          2930,
          3651,
          3070,
          2219,
          2525,
          2800,
          2279,
          4425,
          3381,
          2735,
          3160,
          3012,
          2755,
          2430,
          2865,
          2585,
          3840,
          2189,
          3282,
          2050,
          2120,
          2210,
          3880,
          1985,
          3570,
          4699,
          1825,
          2190,
          2124,
          3015,
          4135,
          4237,
          2070,
          4385,
          3504,
          4382,
          2605,
          3535,
          2945,
          3962,
          2391,
          2815,
          1975,
          2910,
          3907,
          2003,
          3140,
          2408,
          1990,
          2930,
          2500,
          2000,
          3664,
          2774,
          3425,
          2045,
          4325,
          1968,
          2790,
          3278,
          2901,
          4274,
          2506,
          2720,
          2278,
          1835,
          3988,
          1800,
          4638,
          2711,
          3329,
          3900,
          4257,
          3430,
          2511,
          4376,
          4054,
          5140,
          3121,
          2100,
          2965,
          4215,
          4294,
          3735,
          3365,
          2265,
          2405,
          4457,
          3530,
          2123,
          3270,
          1965,
          2245,
          3632,
          2074,
          2190,
          1773,
          2288,
          2228,
          2660,
          4055,
          2350,
          2130,
          1795,
          3777,
          2950,
          2085,
          3210,
          2254,
          3439,
          4464,
          3725,
          2065,
          2640,
          3425,
          4997,
          1937,
          2914,
          1915,
          1867,
          3102,
          1945,
          4360,
          2265,
          3139,
          3755,
          2950,
          3821,
          3039,
          4080,
          3060,
          2933,
          2200,
          2375,
          4098,
          2833,
          2592
         ],
         "y": [
          20.471244768598297,
          25.952691433508598,
          18.735531165752946,
          20.333665219136947,
          18.892626507903366,
          24.705984723947992,
          24.51666904446651,
          30.37758595898171,
          19.240898320662012,
          35.27516520145615,
          30.666321135810662,
          13.257408231719381,
          19.928127572183335,
          24.282108068213745,
          31.844413210894068,
          27.936545100700833,
          16.70844463551029,
          21.313850720574322,
          18.858308656718393,
          18.654346264501,
          34.75873690154043,
          30.724345987589665,
          14.759387938844156,
          31.36873131824933,
          34.29901880299326,
          20.167142292752807,
          26.223419707985137,
          34.43897889190289,
          16.882976661742767,
          24.76306835686217,
          23.501917972044517,
          19.656495236877745,
          32.02432191090851,
          23.456857886215374,
          21.846420732676137,
          28.80345269637411,
          31.65342924381835,
          17.884439427381423,
          26.968909145160936,
          34.12153601904211,
          17.62285096575242,
          33.183098221120346,
          24.46957163827382,
          12.698600545102423,
          24.686986480060668,
          25.331493586816073,
          25.040852473676786,
          28.80345269637411,
          30.95737144941637,
          19.29039536610737,
          22.488965182155006,
          25.85310698270692,
          34.18483938267212,
          32.32602185368731,
          16.575767851250447,
          29.626448861338254,
          31.72493710490646,
          15.770283728802589,
          17.598278567064156,
          20.37939171707906,
          32.44735006909633,
          22.38608837535954,
          14.260789665555052,
          19.411358137118583,
          32.874915895366605,
          32.691117765567206,
          13.968630401926866,
          27.05180678463322,
          18.82408341100448,
          15.132431483287846,
          23.874903754212284,
          14.024921216161353,
          32.56904870638963,
          26.25366731721934,
          29.536498389189248,
          29.581443991513005,
          17.095948987453518,
          29.660241408005035,
          14.804449645219684,
          28.693792770319966,
          27.883150522475354,
          34.32443275391633,
          18.627403165753336,
          13.20903101804813,
          30.550549248665867,
          24.915943320482995,
          20.76563177297657,
          17.219081041591664,
          14.119969156300897,
          30.435147783405355,
          18.742320651613085,
          25.292548819017675,
          14.055155629066576,
          18.126745114829703,
          20.494291376402074,
          13.607410029735206,
          26.072681731357875,
          30.331603175381957,
          28.913483044312535,
          16.010211539185192,
          18.159025645651127,
          27.776639182437606,
          15.28877440588711,
          14.908529512734248,
          28.022169045241434,
          20.804765108657207,
          16.386105480160047,
          30.724345987589665,
          30.49280221330008,
          17.470245831396966,
          30.05695109131465,
          20.742196222194295,
          32.03634545799355,
          12.755922173748182,
          14.54080256416622,
          13.177687075883775,
          27.511981428086962,
          18.968451751768498,
          22.8795038683039,
          19.100478329905712,
          30.782463444839735,
          32.44735006909633,
          22.34338046849558,
          29.190179509902336,
          14.85828224725752,
          32.715576028028835,
          13.037735321927215,
          32.874915895366605,
          17.573765435877363,
          14.099357262113081,
          32.38663965865629,
          26.25366731721934,
          27.776639182437606,
          32.630036933242884,
          13.778513685449695,
          14.322433076017411,
          30.435147783405355,
          23.819931526038495,
          30.400599576094635,
          15.770283728802589,
          29.863696785367033,
          31.487096158584087,
          29.89772269782091,
          32.44735006909633,
          31.964259738765954,
          15.04945987528604,
          20.039693434547814,
          13.70620085145238,
          26.783256243557517,
          30.782463444839735,
          20.656551094176876,
          26.112797032310603,
          16.22714934688289,
          14.583623218141852,
          28.858421567607785,
          27.63872822110553,
          35.34013546356543,
          23.277543597609494,
          30.95737144941637,
          30.724345987589665,
          19.758678660192103,
          29.694067292641407,
          13.016347278176134,
          25.724200977381727,
          28.043612073565015,
          15.9848208554114,
          30.770832544952036,
          30.25127591650785,
          30.980755488413585,
          23.710387125325965,
          20.07706726627812,
          16.332749680516713,
          13.604569241161514,
          25.527106438330335,
          22.967308903185426,
          15.697056531461257,
          22.618311294965004,
          17.343846656239478,
          21.443492823613,
          29.70534999595788,
          26.42570015341647,
          23.77422320191186,
          29.034944264321155,
          13.824792690709543,
          19.093496224665756,
          24.37565464230164,
          20.726591042767005,
          21.921394700764907,
          24.188931916010134,
          27.4067665646442,
          23.18844208613298,
          25.823303879733842,
          16.279764302757656,
          30.04555355721405,
          19.80269380902884,
          31.665337960119267,
          30.84067350756088,
          29.807061015654085,
          16.071527010564253,
          32.44735006909633,
          17.84038758363502,
          13.11086632516271,
          34.43897889190289,
          30.034159727332295,
          30.794098048946275,
          21.896370040099058,
          14.883339204056703,
          14.475506793924858,
          31.427867435681172,
          13.95227801212954,
          18.262945653045293,
          13.962078333351414,
          25.62546849691389,
          18.062461869600064,
          22.488965182155006,
          15.663169064219545,
          27.81919926782659,
          23.637653862358377,
          32.56904870638963,
          22.79206925530665,
          15.93431730427703,
          32.229225985116784,
          20.8833095964317,
          27.63872822110553,
          32.38663965865629,
          22.618311294965004,
          26.680634333304724,
          32.26549665418941,
          17.266418180172906,
          24.012917739114464,
          18.789950770761642,
          31.72493710490646,
          14.15461865078801,
          32.65445815351609,
          23.865732455636206,
          19.83211132596351,
          22.870743738019378,
          14.3370929850823,
          26.619238989657504,
          24.51666904446651,
          29.046008418725897,
          34.311723926345365,
          15.538890438633842,
          34.75873690154043,
          13.245741678758236,
          24.60167774140045,
          19.461477491329532,
          15.969630895773236,
          14.400058801671541,
          18.755910735989886,
          26.568178069302995,
          13.981778989703884,
          15.234659935938488,
          12.545807538738465,
          21.03356463549442,
          31.074439813156147,
          22.317800175003327,
          14.560210934508866,
          14.264386114772684,
          16.85458556070629,
          19.20565441476633,
          29.190179509902336,
          27.67049826428414,
          13.72707169368045,
          18.094557189479346,
          30.805736357271655,
          19.89112416233732,
          32.691117765567206,
          29.41320358085344,
          17.458137434557287,
          31.380551133298013,
          30.034159727332295,
          35.10667591357662,
          28.935533564526338,
          29.603939017987948,
          25.089061145522322,
          15.230174474198577,
          28.258857284946203,
          30.724345987589665,
          34.82296631988115,
          16.619756375997788,
          22.44603502216048,
          31.250736899798838,
          20.34127704158019,
          29.312659390092726,
          18.6948720391878,
          13.70620085145238,
          16.911460368250303,
          31.487096158584087,
          25.282821887615185,
          18.789950770761642,
          12.650109426899185,
          33.03488177568881,
          22.75719912823535,
          33.30701938971933,
          33.906997271623666,
          21.185156897559395,
          32.93636714957521,
          14.03496601582684,
          29.190179509902336,
          20.891184418412784,
          16.74194721127111,
          22.44603502216048,
          16.380753231210925,
          21.697372921677427,
          15.119241801824813,
          21.525000686461738,
          22.592375396463837,
          29.920425160551048,
          27.990032284397394,
          15.040803810407866,
          23.474870807890497,
          25.753892953789517
         ]
        }
       ],
       "layout": {
        "autosize": true,
        "template": {
         "data": {
          "bar": [
           {
            "error_x": {
             "color": "#2a3f5f"
            },
            "error_y": {
             "color": "#2a3f5f"
            },
            "marker": {
             "line": {
              "color": "#E5ECF6",
              "width": 0.5
             }
            },
            "type": "bar"
           }
          ],
          "barpolar": [
           {
            "marker": {
             "line": {
              "color": "#E5ECF6",
              "width": 0.5
             }
            },
            "type": "barpolar"
           }
          ],
          "carpet": [
           {
            "aaxis": {
             "endlinecolor": "#2a3f5f",
             "gridcolor": "white",
             "linecolor": "white",
             "minorgridcolor": "white",
             "startlinecolor": "#2a3f5f"
            },
            "baxis": {
             "endlinecolor": "#2a3f5f",
             "gridcolor": "white",
             "linecolor": "white",
             "minorgridcolor": "white",
             "startlinecolor": "#2a3f5f"
            },
            "type": "carpet"
           }
          ],
          "choropleth": [
           {
            "colorbar": {
             "outlinewidth": 0,
             "ticks": ""
            },
            "type": "choropleth"
           }
          ],
          "contour": [
           {
            "colorbar": {
             "outlinewidth": 0,
             "ticks": ""
            },
            "colorscale": [
             [
              0,
              "#0d0887"
             ],
             [
              0.1111111111111111,
              "#46039f"
             ],
             [
              0.2222222222222222,
              "#7201a8"
             ],
             [
              0.3333333333333333,
              "#9c179e"
             ],
             [
              0.4444444444444444,
              "#bd3786"
             ],
             [
              0.5555555555555556,
              "#d8576b"
             ],
             [
              0.6666666666666666,
              "#ed7953"
             ],
             [
              0.7777777777777778,
              "#fb9f3a"
             ],
             [
              0.8888888888888888,
              "#fdca26"
             ],
             [
              1,
              "#f0f921"
             ]
            ],
            "type": "contour"
           }
          ],
          "contourcarpet": [
           {
            "colorbar": {
             "outlinewidth": 0,
             "ticks": ""
            },
            "type": "contourcarpet"
           }
          ],
          "heatmap": [
           {
            "colorbar": {
             "outlinewidth": 0,
             "ticks": ""
            },
            "colorscale": [
             [
              0,
              "#0d0887"
             ],
             [
              0.1111111111111111,
              "#46039f"
             ],
             [
              0.2222222222222222,
              "#7201a8"
             ],
             [
              0.3333333333333333,
              "#9c179e"
             ],
             [
              0.4444444444444444,
              "#bd3786"
             ],
             [
              0.5555555555555556,
              "#d8576b"
             ],
             [
              0.6666666666666666,
              "#ed7953"
             ],
             [
              0.7777777777777778,
              "#fb9f3a"
             ],
             [
              0.8888888888888888,
              "#fdca26"
             ],
             [
              1,
              "#f0f921"
             ]
            ],
            "type": "heatmap"
           }
          ],
          "heatmapgl": [
           {
            "colorbar": {
             "outlinewidth": 0,
             "ticks": ""
            },
            "colorscale": [
             [
              0,
              "#0d0887"
             ],
             [
              0.1111111111111111,
              "#46039f"
             ],
             [
              0.2222222222222222,
              "#7201a8"
             ],
             [
              0.3333333333333333,
              "#9c179e"
             ],
             [
              0.4444444444444444,
              "#bd3786"
             ],
             [
              0.5555555555555556,
              "#d8576b"
             ],
             [
              0.6666666666666666,
              "#ed7953"
             ],
             [
              0.7777777777777778,
              "#fb9f3a"
             ],
             [
              0.8888888888888888,
              "#fdca26"
             ],
             [
              1,
              "#f0f921"
             ]
            ],
            "type": "heatmapgl"
           }
          ],
          "histogram": [
           {
            "marker": {
             "colorbar": {
              "outlinewidth": 0,
              "ticks": ""
             }
            },
            "type": "histogram"
           }
          ],
          "histogram2d": [
           {
            "colorbar": {
             "outlinewidth": 0,
             "ticks": ""
            },
            "colorscale": [
             [
              0,
              "#0d0887"
             ],
             [
              0.1111111111111111,
              "#46039f"
             ],
             [
              0.2222222222222222,
              "#7201a8"
             ],
             [
              0.3333333333333333,
              "#9c179e"
             ],
             [
              0.4444444444444444,
              "#bd3786"
             ],
             [
              0.5555555555555556,
              "#d8576b"
             ],
             [
              0.6666666666666666,
              "#ed7953"
             ],
             [
              0.7777777777777778,
              "#fb9f3a"
             ],
             [
              0.8888888888888888,
              "#fdca26"
             ],
             [
              1,
              "#f0f921"
             ]
            ],
            "type": "histogram2d"
           }
          ],
          "histogram2dcontour": [
           {
            "colorbar": {
             "outlinewidth": 0,
             "ticks": ""
            },
            "colorscale": [
             [
              0,
              "#0d0887"
             ],
             [
              0.1111111111111111,
              "#46039f"
             ],
             [
              0.2222222222222222,
              "#7201a8"
             ],
             [
              0.3333333333333333,
              "#9c179e"
             ],
             [
              0.4444444444444444,
              "#bd3786"
             ],
             [
              0.5555555555555556,
              "#d8576b"
             ],
             [
              0.6666666666666666,
              "#ed7953"
             ],
             [
              0.7777777777777778,
              "#fb9f3a"
             ],
             [
              0.8888888888888888,
              "#fdca26"
             ],
             [
              1,
              "#f0f921"
             ]
            ],
            "type": "histogram2dcontour"
           }
          ],
          "mesh3d": [
           {
            "colorbar": {
             "outlinewidth": 0,
             "ticks": ""
            },
            "type": "mesh3d"
           }
          ],
          "parcoords": [
           {
            "line": {
             "colorbar": {
              "outlinewidth": 0,
              "ticks": ""
             }
            },
            "type": "parcoords"
           }
          ],
          "pie": [
           {
            "automargin": true,
            "type": "pie"
           }
          ],
          "scatter": [
           {
            "marker": {
             "colorbar": {
              "outlinewidth": 0,
              "ticks": ""
             }
            },
            "type": "scatter"
           }
          ],
          "scatter3d": [
           {
            "line": {
             "colorbar": {
              "outlinewidth": 0,
              "ticks": ""
             }
            },
            "marker": {
             "colorbar": {
              "outlinewidth": 0,
              "ticks": ""
             }
            },
            "type": "scatter3d"
           }
          ],
          "scattercarpet": [
           {
            "marker": {
             "colorbar": {
              "outlinewidth": 0,
              "ticks": ""
             }
            },
            "type": "scattercarpet"
           }
          ],
          "scattergeo": [
           {
            "marker": {
             "colorbar": {
              "outlinewidth": 0,
              "ticks": ""
             }
            },
            "type": "scattergeo"
           }
          ],
          "scattergl": [
           {
            "marker": {
             "colorbar": {
              "outlinewidth": 0,
              "ticks": ""
             }
            },
            "type": "scattergl"
           }
          ],
          "scattermapbox": [
           {
            "marker": {
             "colorbar": {
              "outlinewidth": 0,
              "ticks": ""
             }
            },
            "type": "scattermapbox"
           }
          ],
          "scatterpolar": [
           {
            "marker": {
             "colorbar": {
              "outlinewidth": 0,
              "ticks": ""
             }
            },
            "type": "scatterpolar"
           }
          ],
          "scatterpolargl": [
           {
            "marker": {
             "colorbar": {
              "outlinewidth": 0,
              "ticks": ""
             }
            },
            "type": "scatterpolargl"
           }
          ],
          "scatterternary": [
           {
            "marker": {
             "colorbar": {
              "outlinewidth": 0,
              "ticks": ""
             }
            },
            "type": "scatterternary"
           }
          ],
          "surface": [
           {
            "colorbar": {
             "outlinewidth": 0,
             "ticks": ""
            },
            "colorscale": [
             [
              0,
              "#0d0887"
             ],
             [
              0.1111111111111111,
              "#46039f"
             ],
             [
              0.2222222222222222,
              "#7201a8"
             ],
             [
              0.3333333333333333,
              "#9c179e"
             ],
             [
              0.4444444444444444,
              "#bd3786"
             ],
             [
              0.5555555555555556,
              "#d8576b"
             ],
             [
              0.6666666666666666,
              "#ed7953"
             ],
             [
              0.7777777777777778,
              "#fb9f3a"
             ],
             [
              0.8888888888888888,
              "#fdca26"
             ],
             [
              1,
              "#f0f921"
             ]
            ],
            "type": "surface"
           }
          ],
          "table": [
           {
            "cells": {
             "fill": {
              "color": "#EBF0F8"
             },
             "line": {
              "color": "white"
             }
            },
            "header": {
             "fill": {
              "color": "#C8D4E3"
             },
             "line": {
              "color": "white"
             }
            },
            "type": "table"
           }
          ]
         },
         "layout": {
          "annotationdefaults": {
           "arrowcolor": "#2a3f5f",
           "arrowhead": 0,
           "arrowwidth": 1
          },
          "coloraxis": {
           "colorbar": {
            "outlinewidth": 0,
            "ticks": ""
           }
          },
          "colorscale": {
           "diverging": [
            [
             0,
             "#8e0152"
            ],
            [
             0.1,
             "#c51b7d"
            ],
            [
             0.2,
             "#de77ae"
            ],
            [
             0.3,
             "#f1b6da"
            ],
            [
             0.4,
             "#fde0ef"
            ],
            [
             0.5,
             "#f7f7f7"
            ],
            [
             0.6,
             "#e6f5d0"
            ],
            [
             0.7,
             "#b8e186"
            ],
            [
             0.8,
             "#7fbc41"
            ],
            [
             0.9,
             "#4d9221"
            ],
            [
             1,
             "#276419"
            ]
           ],
           "sequential": [
            [
             0,
             "#0d0887"
            ],
            [
             0.1111111111111111,
             "#46039f"
            ],
            [
             0.2222222222222222,
             "#7201a8"
            ],
            [
             0.3333333333333333,
             "#9c179e"
            ],
            [
             0.4444444444444444,
             "#bd3786"
            ],
            [
             0.5555555555555556,
             "#d8576b"
            ],
            [
             0.6666666666666666,
             "#ed7953"
            ],
            [
             0.7777777777777778,
             "#fb9f3a"
            ],
            [
             0.8888888888888888,
             "#fdca26"
            ],
            [
             1,
             "#f0f921"
            ]
           ],
           "sequentialminus": [
            [
             0,
             "#0d0887"
            ],
            [
             0.1111111111111111,
             "#46039f"
            ],
            [
             0.2222222222222222,
             "#7201a8"
            ],
            [
             0.3333333333333333,
             "#9c179e"
            ],
            [
             0.4444444444444444,
             "#bd3786"
            ],
            [
             0.5555555555555556,
             "#d8576b"
            ],
            [
             0.6666666666666666,
             "#ed7953"
            ],
            [
             0.7777777777777778,
             "#fb9f3a"
            ],
            [
             0.8888888888888888,
             "#fdca26"
            ],
            [
             1,
             "#f0f921"
            ]
           ]
          },
          "colorway": [
           "#636efa",
           "#EF553B",
           "#00cc96",
           "#ab63fa",
           "#FFA15A",
           "#19d3f3",
           "#FF6692",
           "#B6E880",
           "#FF97FF",
           "#FECB52"
          ],
          "font": {
           "color": "#2a3f5f"
          },
          "geo": {
           "bgcolor": "white",
           "lakecolor": "white",
           "landcolor": "#E5ECF6",
           "showlakes": true,
           "showland": true,
           "subunitcolor": "white"
          },
          "hoverlabel": {
           "align": "left"
          },
          "hovermode": "closest",
          "mapbox": {
           "style": "light"
          },
          "paper_bgcolor": "white",
          "plot_bgcolor": "#E5ECF6",
          "polar": {
           "angularaxis": {
            "gridcolor": "white",
            "linecolor": "white",
            "ticks": ""
           },
           "bgcolor": "#E5ECF6",
           "radialaxis": {
            "gridcolor": "white",
            "linecolor": "white",
            "ticks": ""
           }
          },
          "scene": {
           "xaxis": {
            "backgroundcolor": "#E5ECF6",
            "gridcolor": "white",
            "gridwidth": 2,
            "linecolor": "white",
            "showbackground": true,
            "ticks": "",
            "zerolinecolor": "white"
           },
           "yaxis": {
            "backgroundcolor": "#E5ECF6",
            "gridcolor": "white",
            "gridwidth": 2,
            "linecolor": "white",
            "showbackground": true,
            "ticks": "",
            "zerolinecolor": "white"
           },
           "zaxis": {
            "backgroundcolor": "#E5ECF6",
            "gridcolor": "white",
            "gridwidth": 2,
            "linecolor": "white",
            "showbackground": true,
            "ticks": "",
            "zerolinecolor": "white"
           }
          },
          "shapedefaults": {
           "line": {
            "color": "#2a3f5f"
           }
          },
          "ternary": {
           "aaxis": {
            "gridcolor": "white",
            "linecolor": "white",
            "ticks": ""
           },
           "baxis": {
            "gridcolor": "white",
            "linecolor": "white",
            "ticks": ""
           },
           "bgcolor": "#E5ECF6",
           "caxis": {
            "gridcolor": "white",
            "linecolor": "white",
            "ticks": ""
           }
          },
          "title": {
           "x": 0.05
          },
          "xaxis": {
           "automargin": true,
           "gridcolor": "white",
           "linecolor": "white",
           "ticks": "",
           "title": {
            "standoff": 15
           },
           "zerolinecolor": "white",
           "zerolinewidth": 2
          },
          "yaxis": {
           "automargin": true,
           "gridcolor": "white",
           "linecolor": "white",
           "ticks": "",
           "title": {
            "standoff": 15
           },
           "zerolinecolor": "white",
           "zerolinewidth": 2
          }
         }
        },
        "title": {
         "text": "Predicted values vs training data"
        },
        "xaxis": {
         "autorange": true,
         "range": [
          1555.9982537834692,
          5339.001746216531
         ],
         "title": {
          "text": "weight"
         },
         "type": "linear"
        },
        "yaxis": {
         "autorange": true,
         "range": [
          7.3191082802547776,
          49.28089171974523
         ],
         "title": {
          "text": "mpg"
         },
         "type": "linear"
        }
       }
      },
      "image/png": "[encoded data removed]",
      "text/html": [
       "<div>\n",
       "        \n",
       "        \n",
       "            <div id=\"1c873785-cc4c-411c-92d0-24195a0c7100\" class=\"plotly-graph-div\" style=\"height:525px; width:100%;\"></div>\n",
       "            <script type=\"text/javascript\">\n",
       "                require([\"plotly\"], function(Plotly) {\n",
       "                    window.PLOTLYENV=window.PLOTLYENV || {};\n",
       "                    \n",
       "                if (document.getElementById(\"1c873785-cc4c-411c-92d0-24195a0c7100\")) {\n",
       "                    Plotly.newPlot(\n",
       "                        '1c873785-cc4c-411c-92d0-24195a0c7100',\n",
       "                        [{\"mode\": \"markers\", \"name\": \"Training values\", \"type\": \"scatter\", \"x\": [3193, 2572, 3433, 3211, 3410, 2700, 2720, 2160, 3360, 1760, 2135, 4633, 3265, 2745, 2035, 2380, 3761, 3086, 3415, 3445, 1800, 2130, 4165, 2075, 1836, 3233, 2545, 1825, 3730, 2694, 2830, 3302, 2020, 2835, 3021, 2300, 2051, 3563, 2472, 1850, 3605, 1925, 2725, 4952, 2702, 2635, 2665, 2300, 2110, 3353, 2945, 2582, 1845, 1995, 3785, 2226, 2045, 3940, 3609, 3205, 1985, 2957, 4295, 3336, 1950, 1965, 4380, 2464, 3420, 4077, 2789, 4363, 1975, 2542, 2234, 2230, 3693, 2223, 4154, 2310, 2385, 1834, 3449, 4654, 2145, 2678, 3155, 3672, 4335, 2155, 3432, 2639, 4354, 3525, 3190, 4498, 2560, 2164, 2290, 3892, 3520, 2395, 4042, 4129, 2372, 3150, 3820, 2130, 2150, 3630, 2188, 3158, 2019, 4906, 4220, 4668, 2420, 3399, 2900, 3380, 2125, 1985, 2962, 2265, 4141, 1963, 4735, 1950, 3613, 4341, 1990, 2542, 2395, 1970, 4440, 4278, 2155, 2795, 2158, 3940, 2205, 2065, 2202, 1985, 2025, 4096, 3250, 4464, 2490, 2125, 3169, 2556, 3850, 4209, 2295, 2408, 1755, 2855, 2110, 2130, 3288, 2220, 4746, 2595, 2370, 3897, 2126, 2171, 2108, 2807, 3245, 3830, 4499, 2615, 2890, 3955, 2930, 3651, 3070, 2219, 2525, 2800, 2279, 4425, 3381, 2735, 3160, 3012, 2755, 2430, 2865, 2585, 3840, 2189, 3282, 2050, 2120, 2210, 3880, 1985, 3570, 4699, 1825, 2190, 2124, 3015, 4135, 4237, 2070, 4385, 3504, 4382, 2605, 3535, 2945, 3962, 2391, 2815, 1975, 2910, 3907, 2003, 3140, 2408, 1990, 2930, 2500, 2000, 3664, 2774, 3425, 2045, 4325, 1968, 2790, 3278, 2901, 4274, 2506, 2720, 2278, 1835, 3988, 1800, 4638, 2711, 3329, 3900, 4257, 3430, 2511, 4376, 4054, 5140, 3121, 2100, 2965, 4215, 4294, 3735, 3365, 2265, 2405, 4457, 3530, 2123, 3270, 1965, 2245, 3632, 2074, 2190, 1773, 2288, 2228, 2660, 4055, 2350, 2130, 1795, 3777, 2950, 2085, 3210, 2254, 3439, 4464, 3725, 2065, 2640, 3425, 4997, 1937, 2914, 1915, 1867, 3102, 1945, 4360, 2265, 3139, 3755, 2950, 3821, 3039, 4080, 3060, 2933, 2200, 2375, 4098, 2833, 2592], \"y\": [17.5, 25.0, 16.0, 19.0, 18.1, 26.8, 21.5, 36.0, 20.6, 35.1, 29.5, 11.0, 20.2, 23.2, 29.0, 29.9, 15.0, 14.0, 22.4, 17.7, 36.1, 27.0, 15.5, 33.5, 32.0, 22.0, 24.0, 36.0, 15.0, 23.0, 20.3, 19.0, 31.8, 22.0, 18.0, 27.2, 30.5, 15.0, 21.0, 44.6, 19.2, 31.9, 23.5, 12.0, 24.0, 31.6, 32.0, 26.0, 40.8, 22.0, 18.0, 20.0, 29.8, 38.0, 18.0, 21.0, 31.5, 18.5, 14.0, 18.1, 32.8, 23.0, 15.0, 15.0, 31.0, 38.0, 16.5, 28.0, 23.9, 14.0, 18.0, 13.0, 34.1, 31.3, 26.0, 30.9, 15.0, 25.0, 14.0, 19.0, 30.0, 27.0, 17.0, 13.0, 33.8, 28.0, 20.5, 14.0, 16.0, 28.0, 15.0, 23.0, 14.0, 18.5, 27.2, 16.0, 27.5, 28.0, 32.4, 15.0, 17.5, 34.0, 14.0, 14.0, 24.0, 20.0, 16.5, 27.0, 34.5, 19.0, 34.3, 15.0, 37.2, 12.0, 16.0, 16.0, 23.7, 15.0, 25.4, 20.6, 28.0, 43.1, 18.0, 26.0, 16.0, 26.0, 13.0, 26.0, 18.0, 15.0, 31.5, 25.0, 22.0, 31.0, 15.0, 16.0, 30.0, 21.6, 24.0, 13.0, 36.0, 32.3, 27.0, 30.0, 37.0, 14.0, 30.0, 13.0, 27.2, 38.0, 13.0, 33.5, 15.0, 14.0, 32.0, 22.0, 39.1, 23.8, 46.6, 44.0, 18.0, 23.0, 13.0, 28.8, 36.0, 16.0, 25.0, 29.0, 24.0, 20.0, 21.5, 18.2, 12.0, 32.9, 22.3, 16.5, 24.2, 20.0, 20.8, 29.0, 29.0, 27.9, 20.0, 14.0, 19.1, 27.0, 30.7, 24.0, 25.5, 24.0, 24.0, 26.0, 17.0, 26.0, 19.0, 37.7, 32.1, 33.7, 17.5, 34.1, 20.2, 13.0, 29.5, 33.0, 18.0, 38.0, 15.0, 14.0, 39.4, 14.0, 18.0, 11.0, 28.0, 19.2, 22.0, 15.5, 26.0, 22.0, 37.0, 32.7, 17.0, 32.0, 17.0, 20.0, 32.0, 19.0, 35.0, 31.0, 11.0, 18.0, 20.5, 34.4, 15.5, 38.1, 27.0, 16.0, 19.0, 13.0, 23.0, 31.0, 24.0, 26.0, 13.0, 36.1, 14.0, 29.8, 17.0, 23.0, 14.0, 20.5, 22.0, 10.0, 15.5, 13.0, 18.0, 27.0, 20.2, 17.5, 13.0, 19.4, 19.9, 26.0, 23.9, 14.0, 25.4, 28.0, 19.0, 32.0, 34.0, 16.0, 30.0, 30.5, 31.0, 28.0, 25.0, 24.0, 13.0, 32.4, 37.3, 33.0, 15.0, 36.4, 44.3, 19.4, 23.0, 16.0, 14.0, 26.6, 30.0, 27.0, 19.2, 11.0, 29.0, 20.0, 35.7, 29.0, 20.0, 33.5, 16.9, 32.2, 18.0, 13.0, 27.0, 13.0, 21.0, 17.5, 20.2, 18.0, 34.2, 25.0, 13.0, 22.0, 23.0]}, {\"marker\": {\"color\": \"green\"}, \"mode\": \"markers\", \"name\": \"Predicted values\", \"type\": \"scatter\", \"x\": [3193, 2572, 3433, 3211, 3410, 2700, 2720, 2160, 3360, 1760, 2135, 4633, 3265, 2745, 2035, 2380, 3761, 3086, 3415, 3445, 1800, 2130, 4165, 2075, 1836, 3233, 2545, 1825, 3730, 2694, 2830, 3302, 2020, 2835, 3021, 2300, 2051, 3563, 2472, 1850, 3605, 1925, 2725, 4952, 2702, 2635, 2665, 2300, 2110, 3353, 2945, 2582, 1845, 1995, 3785, 2226, 2045, 3940, 3609, 3205, 1985, 2957, 4295, 3336, 1950, 1965, 4380, 2464, 3420, 4077, 2789, 4363, 1975, 2542, 2234, 2230, 3693, 2223, 4154, 2310, 2385, 1834, 3449, 4654, 2145, 2678, 3155, 3672, 4335, 2155, 3432, 2639, 4354, 3525, 3190, 4498, 2560, 2164, 2290, 3892, 3520, 2395, 4042, 4129, 2372, 3150, 3820, 2130, 2150, 3630, 2188, 3158, 2019, 4906, 4220, 4668, 2420, 3399, 2900, 3380, 2125, 1985, 2962, 2265, 4141, 1963, 4735, 1950, 3613, 4341, 1990, 2542, 2395, 1970, 4440, 4278, 2155, 2795, 2158, 3940, 2205, 2065, 2202, 1985, 2025, 4096, 3250, 4464, 2490, 2125, 3169, 2556, 3850, 4209, 2295, 2408, 1755, 2855, 2110, 2130, 3288, 2220, 4746, 2595, 2370, 3897, 2126, 2171, 2108, 2807, 3245, 3830, 4499, 2615, 2890, 3955, 2930, 3651, 3070, 2219, 2525, 2800, 2279, 4425, 3381, 2735, 3160, 3012, 2755, 2430, 2865, 2585, 3840, 2189, 3282, 2050, 2120, 2210, 3880, 1985, 3570, 4699, 1825, 2190, 2124, 3015, 4135, 4237, 2070, 4385, 3504, 4382, 2605, 3535, 2945, 3962, 2391, 2815, 1975, 2910, 3907, 2003, 3140, 2408, 1990, 2930, 2500, 2000, 3664, 2774, 3425, 2045, 4325, 1968, 2790, 3278, 2901, 4274, 2506, 2720, 2278, 1835, 3988, 1800, 4638, 2711, 3329, 3900, 4257, 3430, 2511, 4376, 4054, 5140, 3121, 2100, 2965, 4215, 4294, 3735, 3365, 2265, 2405, 4457, 3530, 2123, 3270, 1965, 2245, 3632, 2074, 2190, 1773, 2288, 2228, 2660, 4055, 2350, 2130, 1795, 3777, 2950, 2085, 3210, 2254, 3439, 4464, 3725, 2065, 2640, 3425, 4997, 1937, 2914, 1915, 1867, 3102, 1945, 4360, 2265, 3139, 3755, 2950, 3821, 3039, 4080, 3060, 2933, 2200, 2375, 4098, 2833, 2592], \"y\": [20.471244768598297, 25.952691433508598, 18.735531165752946, 20.333665219136947, 18.892626507903366, 24.705984723947992, 24.51666904446651, 30.37758595898171, 19.240898320662012, 35.27516520145615, 30.666321135810662, 13.257408231719381, 19.928127572183335, 24.282108068213745, 31.844413210894068, 27.936545100700833, 16.70844463551029, 21.313850720574322, 18.858308656718393, 18.654346264501, 34.75873690154043, 30.724345987589665, 14.759387938844156, 31.36873131824933, 34.29901880299326, 20.167142292752807, 26.223419707985137, 34.43897889190289, 16.882976661742767, 24.76306835686217, 23.501917972044517, 19.656495236877745, 32.02432191090851, 23.456857886215374, 21.846420732676137, 28.80345269637411, 31.65342924381835, 17.884439427381423, 26.968909145160936, 34.12153601904211, 17.62285096575242, 33.183098221120346, 24.46957163827382, 12.698600545102423, 24.686986480060668, 25.331493586816073, 25.040852473676786, 28.80345269637411, 30.95737144941637, 19.29039536610737, 22.488965182155006, 25.85310698270692, 34.18483938267212, 32.32602185368731, 16.575767851250447, 29.626448861338254, 31.72493710490646, 15.770283728802589, 17.598278567064156, 20.37939171707906, 32.44735006909633, 22.38608837535954, 14.260789665555052, 19.411358137118583, 32.874915895366605, 32.691117765567206, 13.968630401926866, 27.05180678463322, 18.82408341100448, 15.132431483287846, 23.874903754212284, 14.024921216161353, 32.56904870638963, 26.25366731721934, 29.536498389189248, 29.581443991513005, 17.095948987453518, 29.660241408005035, 14.804449645219684, 28.693792770319966, 27.883150522475354, 34.32443275391633, 18.627403165753336, 13.20903101804813, 30.550549248665867, 24.915943320482995, 20.76563177297657, 17.219081041591664, 14.119969156300897, 30.435147783405355, 18.742320651613085, 25.292548819017675, 14.055155629066576, 18.126745114829703, 20.494291376402074, 13.607410029735206, 26.072681731357875, 30.331603175381957, 28.913483044312535, 16.010211539185192, 18.159025645651127, 27.776639182437606, 15.28877440588711, 14.908529512734248, 28.022169045241434, 20.804765108657207, 16.386105480160047, 30.724345987589665, 30.49280221330008, 17.470245831396966, 30.05695109131465, 20.742196222194295, 32.03634545799355, 12.755922173748182, 14.54080256416622, 13.177687075883775, 27.511981428086962, 18.968451751768498, 22.8795038683039, 19.100478329905712, 30.782463444839735, 32.44735006909633, 22.34338046849558, 29.190179509902336, 14.85828224725752, 32.715576028028835, 13.037735321927215, 32.874915895366605, 17.573765435877363, 14.099357262113081, 32.38663965865629, 26.25366731721934, 27.776639182437606, 32.630036933242884, 13.778513685449695, 14.322433076017411, 30.435147783405355, 23.819931526038495, 30.400599576094635, 15.770283728802589, 29.863696785367033, 31.487096158584087, 29.89772269782091, 32.44735006909633, 31.964259738765954, 15.04945987528604, 20.039693434547814, 13.70620085145238, 26.783256243557517, 30.782463444839735, 20.656551094176876, 26.112797032310603, 16.22714934688289, 14.583623218141852, 28.858421567607785, 27.63872822110553, 35.34013546356543, 23.277543597609494, 30.95737144941637, 30.724345987589665, 19.758678660192103, 29.694067292641407, 13.016347278176134, 25.724200977381727, 28.043612073565015, 15.9848208554114, 30.770832544952036, 30.25127591650785, 30.980755488413585, 23.710387125325965, 20.07706726627812, 16.332749680516713, 13.604569241161514, 25.527106438330335, 22.967308903185426, 15.697056531461257, 22.618311294965004, 17.343846656239478, 21.443492823613, 29.70534999595788, 26.42570015341647, 23.77422320191186, 29.034944264321155, 13.824792690709543, 19.093496224665756, 24.37565464230164, 20.726591042767005, 21.921394700764907, 24.188931916010134, 27.4067665646442, 23.18844208613298, 25.823303879733842, 16.279764302757656, 30.04555355721405, 19.80269380902884, 31.665337960119267, 30.84067350756088, 29.807061015654085, 16.071527010564253, 32.44735006909633, 17.84038758363502, 13.11086632516271, 34.43897889190289, 30.034159727332295, 30.794098048946275, 21.896370040099058, 14.883339204056703, 14.475506793924858, 31.427867435681172, 13.95227801212954, 18.262945653045293, 13.962078333351414, 25.62546849691389, 18.062461869600064, 22.488965182155006, 15.663169064219545, 27.81919926782659, 23.637653862358377, 32.56904870638963, 22.79206925530665, 15.93431730427703, 32.229225985116784, 20.8833095964317, 27.63872822110553, 32.38663965865629, 22.618311294965004, 26.680634333304724, 32.26549665418941, 17.266418180172906, 24.012917739114464, 18.789950770761642, 31.72493710490646, 14.15461865078801, 32.65445815351609, 23.865732455636206, 19.83211132596351, 22.870743738019378, 14.3370929850823, 26.619238989657504, 24.51666904446651, 29.046008418725897, 34.311723926345365, 15.538890438633842, 34.75873690154043, 13.245741678758236, 24.60167774140045, 19.461477491329532, 15.969630895773236, 14.400058801671541, 18.755910735989886, 26.568178069302995, 13.981778989703884, 15.234659935938488, 12.545807538738465, 21.03356463549442, 31.074439813156147, 22.317800175003327, 14.560210934508866, 14.264386114772684, 16.85458556070629, 19.20565441476633, 29.190179509902336, 27.67049826428414, 13.72707169368045, 18.094557189479346, 30.805736357271655, 19.89112416233732, 32.691117765567206, 29.41320358085344, 17.458137434557287, 31.380551133298013, 30.034159727332295, 35.10667591357662, 28.935533564526338, 29.603939017987948, 25.089061145522322, 15.230174474198577, 28.258857284946203, 30.724345987589665, 34.82296631988115, 16.619756375997788, 22.44603502216048, 31.250736899798838, 20.34127704158019, 29.312659390092726, 18.6948720391878, 13.70620085145238, 16.911460368250303, 31.487096158584087, 25.282821887615185, 18.789950770761642, 12.650109426899185, 33.03488177568881, 22.75719912823535, 33.30701938971933, 33.906997271623666, 21.185156897559395, 32.93636714957521, 14.03496601582684, 29.190179509902336, 20.891184418412784, 16.74194721127111, 22.44603502216048, 16.380753231210925, 21.697372921677427, 15.119241801824813, 21.525000686461738, 22.592375396463837, 29.920425160551048, 27.990032284397394, 15.040803810407866, 23.474870807890497, 25.753892953789517]}],\n",
       "                        {\"template\": {\"data\": {\"bar\": [{\"error_x\": {\"color\": \"#2a3f5f\"}, \"error_y\": {\"color\": \"#2a3f5f\"}, \"marker\": {\"line\": {\"color\": \"#E5ECF6\", \"width\": 0.5}}, \"type\": \"bar\"}], \"barpolar\": [{\"marker\": {\"line\": {\"color\": \"#E5ECF6\", \"width\": 0.5}}, \"type\": \"barpolar\"}], \"carpet\": [{\"aaxis\": {\"endlinecolor\": \"#2a3f5f\", \"gridcolor\": \"white\", \"linecolor\": \"white\", \"minorgridcolor\": \"white\", \"startlinecolor\": \"#2a3f5f\"}, \"baxis\": {\"endlinecolor\": \"#2a3f5f\", \"gridcolor\": \"white\", \"linecolor\": \"white\", \"minorgridcolor\": \"white\", \"startlinecolor\": \"#2a3f5f\"}, \"type\": \"carpet\"}], \"choropleth\": [{\"colorbar\": {\"outlinewidth\": 0, \"ticks\": \"\"}, \"type\": \"choropleth\"}], \"contour\": [{\"colorbar\": {\"outlinewidth\": 0, \"ticks\": \"\"}, \"colorscale\": [[0.0, \"#0d0887\"], [0.1111111111111111, \"#46039f\"], [0.2222222222222222, \"#7201a8\"], [0.3333333333333333, \"#9c179e\"], [0.4444444444444444, \"#bd3786\"], [0.5555555555555556, \"#d8576b\"], [0.6666666666666666, \"#ed7953\"], [0.7777777777777778, \"#fb9f3a\"], [0.8888888888888888, \"#fdca26\"], [1.0, \"#f0f921\"]], \"type\": \"contour\"}], \"contourcarpet\": [{\"colorbar\": {\"outlinewidth\": 0, \"ticks\": \"\"}, \"type\": \"contourcarpet\"}], \"heatmap\": [{\"colorbar\": {\"outlinewidth\": 0, \"ticks\": \"\"}, \"colorscale\": [[0.0, \"#0d0887\"], [0.1111111111111111, \"#46039f\"], [0.2222222222222222, \"#7201a8\"], [0.3333333333333333, \"#9c179e\"], [0.4444444444444444, \"#bd3786\"], [0.5555555555555556, \"#d8576b\"], [0.6666666666666666, \"#ed7953\"], [0.7777777777777778, \"#fb9f3a\"], [0.8888888888888888, \"#fdca26\"], [1.0, \"#f0f921\"]], \"type\": \"heatmap\"}], \"heatmapgl\": [{\"colorbar\": {\"outlinewidth\": 0, \"ticks\": \"\"}, \"colorscale\": [[0.0, \"#0d0887\"], [0.1111111111111111, \"#46039f\"], [0.2222222222222222, \"#7201a8\"], [0.3333333333333333, \"#9c179e\"], [0.4444444444444444, \"#bd3786\"], [0.5555555555555556, \"#d8576b\"], [0.6666666666666666, \"#ed7953\"], [0.7777777777777778, \"#fb9f3a\"], [0.8888888888888888, \"#fdca26\"], [1.0, \"#f0f921\"]], \"type\": \"heatmapgl\"}], \"histogram\": [{\"marker\": {\"colorbar\": {\"outlinewidth\": 0, \"ticks\": \"\"}}, \"type\": \"histogram\"}], \"histogram2d\": [{\"colorbar\": {\"outlinewidth\": 0, \"ticks\": \"\"}, \"colorscale\": [[0.0, \"#0d0887\"], [0.1111111111111111, \"#46039f\"], [0.2222222222222222, \"#7201a8\"], [0.3333333333333333, \"#9c179e\"], [0.4444444444444444, \"#bd3786\"], [0.5555555555555556, \"#d8576b\"], [0.6666666666666666, \"#ed7953\"], [0.7777777777777778, \"#fb9f3a\"], [0.8888888888888888, \"#fdca26\"], [1.0, \"#f0f921\"]], \"type\": \"histogram2d\"}], \"histogram2dcontour\": [{\"colorbar\": {\"outlinewidth\": 0, \"ticks\": \"\"}, \"colorscale\": [[0.0, \"#0d0887\"], [0.1111111111111111, \"#46039f\"], [0.2222222222222222, \"#7201a8\"], [0.3333333333333333, \"#9c179e\"], [0.4444444444444444, \"#bd3786\"], [0.5555555555555556, \"#d8576b\"], [0.6666666666666666, \"#ed7953\"], [0.7777777777777778, \"#fb9f3a\"], [0.8888888888888888, \"#fdca26\"], [1.0, \"#f0f921\"]], \"type\": \"histogram2dcontour\"}], \"mesh3d\": [{\"colorbar\": {\"outlinewidth\": 0, \"ticks\": \"\"}, \"type\": \"mesh3d\"}], \"parcoords\": [{\"line\": {\"colorbar\": {\"outlinewidth\": 0, \"ticks\": \"\"}}, \"type\": \"parcoords\"}], \"pie\": [{\"automargin\": true, \"type\": \"pie\"}], \"scatter\": [{\"marker\": {\"colorbar\": {\"outlinewidth\": 0, \"ticks\": \"\"}}, \"type\": \"scatter\"}], \"scatter3d\": [{\"line\": {\"colorbar\": {\"outlinewidth\": 0, \"ticks\": \"\"}}, \"marker\": {\"colorbar\": {\"outlinewidth\": 0, \"ticks\": \"\"}}, \"type\": \"scatter3d\"}], \"scattercarpet\": [{\"marker\": {\"colorbar\": {\"outlinewidth\": 0, \"ticks\": \"\"}}, \"type\": \"scattercarpet\"}], \"scattergeo\": [{\"marker\": {\"colorbar\": {\"outlinewidth\": 0, \"ticks\": \"\"}}, \"type\": \"scattergeo\"}], \"scattergl\": [{\"marker\": {\"colorbar\": {\"outlinewidth\": 0, \"ticks\": \"\"}}, \"type\": \"scattergl\"}], \"scattermapbox\": [{\"marker\": {\"colorbar\": {\"outlinewidth\": 0, \"ticks\": \"\"}}, \"type\": \"scattermapbox\"}], \"scatterpolar\": [{\"marker\": {\"colorbar\": {\"outlinewidth\": 0, \"ticks\": \"\"}}, \"type\": \"scatterpolar\"}], \"scatterpolargl\": [{\"marker\": {\"colorbar\": {\"outlinewidth\": 0, \"ticks\": \"\"}}, \"type\": \"scatterpolargl\"}], \"scatterternary\": [{\"marker\": {\"colorbar\": {\"outlinewidth\": 0, \"ticks\": \"\"}}, \"type\": \"scatterternary\"}], \"surface\": [{\"colorbar\": {\"outlinewidth\": 0, \"ticks\": \"\"}, \"colorscale\": [[0.0, \"#0d0887\"], [0.1111111111111111, \"#46039f\"], [0.2222222222222222, \"#7201a8\"], [0.3333333333333333, \"#9c179e\"], [0.4444444444444444, \"#bd3786\"], [0.5555555555555556, \"#d8576b\"], [0.6666666666666666, \"#ed7953\"], [0.7777777777777778, \"#fb9f3a\"], [0.8888888888888888, \"#fdca26\"], [1.0, \"#f0f921\"]], \"type\": \"surface\"}], \"table\": [{\"cells\": {\"fill\": {\"color\": \"#EBF0F8\"}, \"line\": {\"color\": \"white\"}}, \"header\": {\"fill\": {\"color\": \"#C8D4E3\"}, \"line\": {\"color\": \"white\"}}, \"type\": \"table\"}]}, \"layout\": {\"annotationdefaults\": {\"arrowcolor\": \"#2a3f5f\", \"arrowhead\": 0, \"arrowwidth\": 1}, \"coloraxis\": {\"colorbar\": {\"outlinewidth\": 0, \"ticks\": \"\"}}, \"colorscale\": {\"diverging\": [[0, \"#8e0152\"], [0.1, \"#c51b7d\"], [0.2, \"#de77ae\"], [0.3, \"#f1b6da\"], [0.4, \"#fde0ef\"], [0.5, \"#f7f7f7\"], [0.6, \"#e6f5d0\"], [0.7, \"#b8e186\"], [0.8, \"#7fbc41\"], [0.9, \"#4d9221\"], [1, \"#276419\"]], \"sequential\": [[0.0, \"#0d0887\"], [0.1111111111111111, \"#46039f\"], [0.2222222222222222, \"#7201a8\"], [0.3333333333333333, \"#9c179e\"], [0.4444444444444444, \"#bd3786\"], [0.5555555555555556, \"#d8576b\"], [0.6666666666666666, \"#ed7953\"], [0.7777777777777778, \"#fb9f3a\"], [0.8888888888888888, \"#fdca26\"], [1.0, \"#f0f921\"]], \"sequentialminus\": [[0.0, \"#0d0887\"], [0.1111111111111111, \"#46039f\"], [0.2222222222222222, \"#7201a8\"], [0.3333333333333333, \"#9c179e\"], [0.4444444444444444, \"#bd3786\"], [0.5555555555555556, \"#d8576b\"], [0.6666666666666666, \"#ed7953\"], [0.7777777777777778, \"#fb9f3a\"], [0.8888888888888888, \"#fdca26\"], [1.0, \"#f0f921\"]]}, \"colorway\": [\"#636efa\", \"#EF553B\", \"#00cc96\", \"#ab63fa\", \"#FFA15A\", \"#19d3f3\", \"#FF6692\", \"#B6E880\", \"#FF97FF\", \"#FECB52\"], \"font\": {\"color\": \"#2a3f5f\"}, \"geo\": {\"bgcolor\": \"white\", \"lakecolor\": \"white\", \"landcolor\": \"#E5ECF6\", \"showlakes\": true, \"showland\": true, \"subunitcolor\": \"white\"}, \"hoverlabel\": {\"align\": \"left\"}, \"hovermode\": \"closest\", \"mapbox\": {\"style\": \"light\"}, \"paper_bgcolor\": \"white\", \"plot_bgcolor\": \"#E5ECF6\", \"polar\": {\"angularaxis\": {\"gridcolor\": \"white\", \"linecolor\": \"white\", \"ticks\": \"\"}, \"bgcolor\": \"#E5ECF6\", \"radialaxis\": {\"gridcolor\": \"white\", \"linecolor\": \"white\", \"ticks\": \"\"}}, \"scene\": {\"xaxis\": {\"backgroundcolor\": \"#E5ECF6\", \"gridcolor\": \"white\", \"gridwidth\": 2, \"linecolor\": \"white\", \"showbackground\": true, \"ticks\": \"\", \"zerolinecolor\": \"white\"}, \"yaxis\": {\"backgroundcolor\": \"#E5ECF6\", \"gridcolor\": \"white\", \"gridwidth\": 2, \"linecolor\": \"white\", \"showbackground\": true, \"ticks\": \"\", \"zerolinecolor\": \"white\"}, \"zaxis\": {\"backgroundcolor\": \"#E5ECF6\", \"gridcolor\": \"white\", \"gridwidth\": 2, \"linecolor\": \"white\", \"showbackground\": true, \"ticks\": \"\", \"zerolinecolor\": \"white\"}}, \"shapedefaults\": {\"line\": {\"color\": \"#2a3f5f\"}}, \"ternary\": {\"aaxis\": {\"gridcolor\": \"white\", \"linecolor\": \"white\", \"ticks\": \"\"}, \"baxis\": {\"gridcolor\": \"white\", \"linecolor\": \"white\", \"ticks\": \"\"}, \"bgcolor\": \"#E5ECF6\", \"caxis\": {\"gridcolor\": \"white\", \"linecolor\": \"white\", \"ticks\": \"\"}}, \"title\": {\"x\": 0.05}, \"xaxis\": {\"automargin\": true, \"gridcolor\": \"white\", \"linecolor\": \"white\", \"ticks\": \"\", \"title\": {\"standoff\": 15}, \"zerolinecolor\": \"white\", \"zerolinewidth\": 2}, \"yaxis\": {\"automargin\": true, \"gridcolor\": \"white\", \"linecolor\": \"white\", \"ticks\": \"\", \"title\": {\"standoff\": 15}, \"zerolinecolor\": \"white\", \"zerolinewidth\": 2}}}, \"title\": {\"text\": \"Predicted values vs training data\"}, \"xaxis\": {\"title\": {\"text\": \"weight\"}}, \"yaxis\": {\"title\": {\"text\": \"mpg\"}}},\n",
       "                        {\"responsive\": true}\n",
       "                    ).then(function(){\n",
       "                            \n",
       "var gd = document.getElementById('1c873785-cc4c-411c-92d0-24195a0c7100');\n",
       "var x = new MutationObserver(function (mutations, observer) {{\n",
       "        var display = window.getComputedStyle(gd).display;\n",
       "        if (!display || display === 'none') {{\n",
       "            console.log([gd, 'removed!']);\n",
       "            Plotly.purge(gd);\n",
       "            observer.disconnect();\n",
       "        }}\n",
       "}});\n",
       "\n",
       "// Listen for the removal of the full notebook cells\n",
       "var notebookContainer = gd.closest('#notebook-container');\n",
       "if (notebookContainer) {{\n",
       "    x.observe(notebookContainer, {childList: true});\n",
       "}}\n",
       "\n",
       "// Listen for the clearing of the current output cell\n",
       "var outputEl = gd.closest('.output');\n",
       "if (outputEl) {{\n",
       "    x.observe(outputEl, {childList: true});\n",
       "}}\n",
       "\n",
       "                        })\n",
       "                };\n",
       "                });\n",
       "            </script>\n",
       "        </div>"
      ]
     },
     "metadata": {},
     "output_type": "display_data"
    }
   ],
   "source": [
    "# Perform linear regression with poly features as the x input and get predicted values base on poly features\n",
    "lr_poly = LinearRegression()\n",
    "lr_poly.fit(poly_features, train_y)\n",
    "predicted_values = lr_poly.predict(poly_features)\n",
    "\n",
    "# Visualizing the predicted values and the actual y values\n",
    "# Input the x and y values for the plot, the x and y will be the raw training data and labels from the data frame dataset. You can use train_x and train_y\n",
    "# but you will need to use ravel plot using plotly \n",
    "training_data = go.Scatter(x=train_x.ravel(), y=train_y.ravel(), name='Training values',  mode='markers')\n",
    "predicted_points = go.Scatter(x=train_x.ravel(), y=predicted_values.ravel(), name='Predicted values',  mode='markers', marker= {'color':'green'})\n",
    "\n",
    "fig = go.Figure(data = [training_data, predicted_points])\n",
    "fig.update_layout(title=\"Predicted values vs training data\", xaxis_title=\"weight\", yaxis_title=\"mpg\")\n",
    "fig.show()\n"
   ]
  },
  {
   "cell_type": "markdown",
   "metadata": {},
   "source": [
    "<img src=\"../../../images/poly_regression_lab_plt1.png\"><img>"
   ]
  },
  {
   "cell_type": "code",
   "execution_count": 21,
   "metadata": {},
   "outputs": [
    {
     "data": {
      "application/vnd.plotly.v1+json": {
       "config": {
        "plotlyServerURL": "https://plot.ly"
       },
       "data": [
        {
         "mode": "markers",
         "name": "Testing values",
         "type": "scatter",
         "x": [
          1955,
          2330,
          3003,
          1795,
          2144,
          2335,
          2945,
          2401,
          3645,
          3436,
          2164,
          3459,
          2215,
          2984,
          2671,
          2634,
          1937,
          3870,
          2246,
          3221,
          4422,
          2434,
          2672,
          4615,
          2600,
          3574,
          2648,
          3620,
          4657,
          4215,
          2720,
          1875,
          4312,
          4140,
          1940,
          2220,
          4732,
          1613,
          2300,
          2565,
          2155,
          3264,
          2868,
          4100,
          2620,
          3725,
          3230,
          3085,
          2740,
          3781,
          2870,
          2489,
          4502,
          2451,
          2670,
          4190,
          2264,
          2125,
          2575,
          2990,
          4082,
          2379,
          4951,
          2625,
          3410,
          2587,
          4060,
          4456,
          2515,
          2979,
          2635,
          4955,
          1649,
          2904,
          2255,
          2670,
          3672,
          3465,
          1980
         ],
         "y": [
          26,
          19,
          24.3,
          33,
          41.5,
          43.4,
          25,
          21,
          18.5,
          18,
          24.5,
          18,
          34.7,
          18,
          25,
          19,
          29,
          13,
          26,
          20,
          13,
          37,
          25,
          10,
          21.5,
          18,
          21,
          18.6,
          14,
          14.5,
          25.1,
          39,
          14,
          15.5,
          29,
          25,
          9,
          35,
          25.5,
          26.5,
          30,
          19,
          19,
          13,
          25.8,
          17.6,
          28.1,
          22.5,
          24.5,
          16,
          26.4,
          24,
          13,
          26,
          27.4,
          16,
          28,
          36,
          31,
          19.8,
          15,
          22,
          12,
          28,
          16.2,
          21,
          17,
          12,
          21.1,
          21,
          26.6,
          12,
          31,
          23,
          26,
          28.4,
          17,
          17.6,
          36
         ]
        },
        {
         "marker": {
          "color": "green"
         },
         "mode": "markers",
         "name": "Predicted values",
         "type": "scatter",
         "x": [
          1955,
          2330,
          3003,
          1795,
          2144,
          2335,
          2945,
          2401,
          3645,
          3436,
          2164,
          3459,
          2215,
          2984,
          2671,
          2634,
          1937,
          3870,
          2246,
          3221,
          4422,
          2434,
          2672,
          4615,
          2600,
          3574,
          2648,
          3620,
          4657,
          4215,
          2720,
          1875,
          4312,
          4140,
          1940,
          2220,
          4732,
          1613,
          2300,
          2565,
          2155,
          3264,
          2868,
          4100,
          2620,
          3725,
          3230,
          3085,
          2740,
          3781,
          2870,
          2489,
          4502,
          2451,
          2670,
          4190,
          2264,
          2125,
          2575,
          2990,
          4082,
          2379,
          4951,
          2625,
          3410,
          2587,
          4060,
          4456,
          2515,
          2979,
          2635,
          4955,
          1649,
          2904,
          2255,
          2670,
          3672,
          3465,
          1980
         ],
         "y": [
          32.813557246629074,
          28.47558418386452,
          21.996668710579925,
          34.82296631988115,
          30.56210976839556,
          28.421263550928337,
          22.488965182155006,
          27.71291018091941,
          17.37979401643655,
          18.715184933485574,
          30.331603175381957,
          18.56030471420314,
          29.750517851412212,
          22.156565831290493,
          24.983124306683948,
          25.341239039312775,
          33.03488177568881,
          16.123030700786174,
          29.402017187226882,
          20.257750726740866,
          13.834148505670257,
          27.36478433739469,
          24.973515910284426,
          13.300174595680005,
          25.674788434412278,
          17.815296594308748,
          25.205139788273584,
          17.531010068725948,
          13.202253339401999,
          14.560210934508866,
          24.51666904446651,
          33.806408282958095,
          14.200216774338266,
          14.862449146176942,
          32.99791100925489,
          29.694067292641407,
          13.043646213364134,
          37.22395183953151,
          28.80345269637411,
          26.022620950090925,
          30.435147783405355,
          19.935539366809074,
          23.161783864957464,
          15.032162562405063,
          25.478064317245163,
          16.911460368250303,
          20.189744394295445,
          21.321925570372912,
          24.32883505252215,
          16.597732479873386,
          23.14403023860133,
          26.793538807786433,
          13.596069100753482,
          27.187021074647724,
          24.992736407302317,
          14.658641868288129,
          29.20129552337088,
          30.782463444839735,
          25.92277720397025,
          22.10592753916282,
          15.110467201943663,
          27.947235129002465,
          12.69976332254032,
          25.42911480163106,
          18.892626507903366,
          25.803453665512677,
          15.20780272878168,
          13.730068059445543,
          26.52739600895856,
          22.198866274081738,
          25.331493586816073,
          12.695134438101775,
          36.739296939734494,
          22.844485572478888,
          29.30150633443575,
          24.992736407302317,
          17.219081041591664,
          18.52022344577749,
          32.50815308500745
         ]
        }
       ],
       "layout": {
        "autosize": true,
        "template": {
         "data": {
          "bar": [
           {
            "error_x": {
             "color": "#2a3f5f"
            },
            "error_y": {
             "color": "#2a3f5f"
            },
            "marker": {
             "line": {
              "color": "#E5ECF6",
              "width": 0.5
             }
            },
            "type": "bar"
           }
          ],
          "barpolar": [
           {
            "marker": {
             "line": {
              "color": "#E5ECF6",
              "width": 0.5
             }
            },
            "type": "barpolar"
           }
          ],
          "carpet": [
           {
            "aaxis": {
             "endlinecolor": "#2a3f5f",
             "gridcolor": "white",
             "linecolor": "white",
             "minorgridcolor": "white",
             "startlinecolor": "#2a3f5f"
            },
            "baxis": {
             "endlinecolor": "#2a3f5f",
             "gridcolor": "white",
             "linecolor": "white",
             "minorgridcolor": "white",
             "startlinecolor": "#2a3f5f"
            },
            "type": "carpet"
           }
          ],
          "choropleth": [
           {
            "colorbar": {
             "outlinewidth": 0,
             "ticks": ""
            },
            "type": "choropleth"
           }
          ],
          "contour": [
           {
            "colorbar": {
             "outlinewidth": 0,
             "ticks": ""
            },
            "colorscale": [
             [
              0,
              "#0d0887"
             ],
             [
              0.1111111111111111,
              "#46039f"
             ],
             [
              0.2222222222222222,
              "#7201a8"
             ],
             [
              0.3333333333333333,
              "#9c179e"
             ],
             [
              0.4444444444444444,
              "#bd3786"
             ],
             [
              0.5555555555555556,
              "#d8576b"
             ],
             [
              0.6666666666666666,
              "#ed7953"
             ],
             [
              0.7777777777777778,
              "#fb9f3a"
             ],
             [
              0.8888888888888888,
              "#fdca26"
             ],
             [
              1,
              "#f0f921"
             ]
            ],
            "type": "contour"
           }
          ],
          "contourcarpet": [
           {
            "colorbar": {
             "outlinewidth": 0,
             "ticks": ""
            },
            "type": "contourcarpet"
           }
          ],
          "heatmap": [
           {
            "colorbar": {
             "outlinewidth": 0,
             "ticks": ""
            },
            "colorscale": [
             [
              0,
              "#0d0887"
             ],
             [
              0.1111111111111111,
              "#46039f"
             ],
             [
              0.2222222222222222,
              "#7201a8"
             ],
             [
              0.3333333333333333,
              "#9c179e"
             ],
             [
              0.4444444444444444,
              "#bd3786"
             ],
             [
              0.5555555555555556,
              "#d8576b"
             ],
             [
              0.6666666666666666,
              "#ed7953"
             ],
             [
              0.7777777777777778,
              "#fb9f3a"
             ],
             [
              0.8888888888888888,
              "#fdca26"
             ],
             [
              1,
              "#f0f921"
             ]
            ],
            "type": "heatmap"
           }
          ],
          "heatmapgl": [
           {
            "colorbar": {
             "outlinewidth": 0,
             "ticks": ""
            },
            "colorscale": [
             [
              0,
              "#0d0887"
             ],
             [
              0.1111111111111111,
              "#46039f"
             ],
             [
              0.2222222222222222,
              "#7201a8"
             ],
             [
              0.3333333333333333,
              "#9c179e"
             ],
             [
              0.4444444444444444,
              "#bd3786"
             ],
             [
              0.5555555555555556,
              "#d8576b"
             ],
             [
              0.6666666666666666,
              "#ed7953"
             ],
             [
              0.7777777777777778,
              "#fb9f3a"
             ],
             [
              0.8888888888888888,
              "#fdca26"
             ],
             [
              1,
              "#f0f921"
             ]
            ],
            "type": "heatmapgl"
           }
          ],
          "histogram": [
           {
            "marker": {
             "colorbar": {
              "outlinewidth": 0,
              "ticks": ""
             }
            },
            "type": "histogram"
           }
          ],
          "histogram2d": [
           {
            "colorbar": {
             "outlinewidth": 0,
             "ticks": ""
            },
            "colorscale": [
             [
              0,
              "#0d0887"
             ],
             [
              0.1111111111111111,
              "#46039f"
             ],
             [
              0.2222222222222222,
              "#7201a8"
             ],
             [
              0.3333333333333333,
              "#9c179e"
             ],
             [
              0.4444444444444444,
              "#bd3786"
             ],
             [
              0.5555555555555556,
              "#d8576b"
             ],
             [
              0.6666666666666666,
              "#ed7953"
             ],
             [
              0.7777777777777778,
              "#fb9f3a"
             ],
             [
              0.8888888888888888,
              "#fdca26"
             ],
             [
              1,
              "#f0f921"
             ]
            ],
            "type": "histogram2d"
           }
          ],
          "histogram2dcontour": [
           {
            "colorbar": {
             "outlinewidth": 0,
             "ticks": ""
            },
            "colorscale": [
             [
              0,
              "#0d0887"
             ],
             [
              0.1111111111111111,
              "#46039f"
             ],
             [
              0.2222222222222222,
              "#7201a8"
             ],
             [
              0.3333333333333333,
              "#9c179e"
             ],
             [
              0.4444444444444444,
              "#bd3786"
             ],
             [
              0.5555555555555556,
              "#d8576b"
             ],
             [
              0.6666666666666666,
              "#ed7953"
             ],
             [
              0.7777777777777778,
              "#fb9f3a"
             ],
             [
              0.8888888888888888,
              "#fdca26"
             ],
             [
              1,
              "#f0f921"
             ]
            ],
            "type": "histogram2dcontour"
           }
          ],
          "mesh3d": [
           {
            "colorbar": {
             "outlinewidth": 0,
             "ticks": ""
            },
            "type": "mesh3d"
           }
          ],
          "parcoords": [
           {
            "line": {
             "colorbar": {
              "outlinewidth": 0,
              "ticks": ""
             }
            },
            "type": "parcoords"
           }
          ],
          "pie": [
           {
            "automargin": true,
            "type": "pie"
           }
          ],
          "scatter": [
           {
            "marker": {
             "colorbar": {
              "outlinewidth": 0,
              "ticks": ""
             }
            },
            "type": "scatter"
           }
          ],
          "scatter3d": [
           {
            "line": {
             "colorbar": {
              "outlinewidth": 0,
              "ticks": ""
             }
            },
            "marker": {
             "colorbar": {
              "outlinewidth": 0,
              "ticks": ""
             }
            },
            "type": "scatter3d"
           }
          ],
          "scattercarpet": [
           {
            "marker": {
             "colorbar": {
              "outlinewidth": 0,
              "ticks": ""
             }
            },
            "type": "scattercarpet"
           }
          ],
          "scattergeo": [
           {
            "marker": {
             "colorbar": {
              "outlinewidth": 0,
              "ticks": ""
             }
            },
            "type": "scattergeo"
           }
          ],
          "scattergl": [
           {
            "marker": {
             "colorbar": {
              "outlinewidth": 0,
              "ticks": ""
             }
            },
            "type": "scattergl"
           }
          ],
          "scattermapbox": [
           {
            "marker": {
             "colorbar": {
              "outlinewidth": 0,
              "ticks": ""
             }
            },
            "type": "scattermapbox"
           }
          ],
          "scatterpolar": [
           {
            "marker": {
             "colorbar": {
              "outlinewidth": 0,
              "ticks": ""
             }
            },
            "type": "scatterpolar"
           }
          ],
          "scatterpolargl": [
           {
            "marker": {
             "colorbar": {
              "outlinewidth": 0,
              "ticks": ""
             }
            },
            "type": "scatterpolargl"
           }
          ],
          "scatterternary": [
           {
            "marker": {
             "colorbar": {
              "outlinewidth": 0,
              "ticks": ""
             }
            },
            "type": "scatterternary"
           }
          ],
          "surface": [
           {
            "colorbar": {
             "outlinewidth": 0,
             "ticks": ""
            },
            "colorscale": [
             [
              0,
              "#0d0887"
             ],
             [
              0.1111111111111111,
              "#46039f"
             ],
             [
              0.2222222222222222,
              "#7201a8"
             ],
             [
              0.3333333333333333,
              "#9c179e"
             ],
             [
              0.4444444444444444,
              "#bd3786"
             ],
             [
              0.5555555555555556,
              "#d8576b"
             ],
             [
              0.6666666666666666,
              "#ed7953"
             ],
             [
              0.7777777777777778,
              "#fb9f3a"
             ],
             [
              0.8888888888888888,
              "#fdca26"
             ],
             [
              1,
              "#f0f921"
             ]
            ],
            "type": "surface"
           }
          ],
          "table": [
           {
            "cells": {
             "fill": {
              "color": "#EBF0F8"
             },
             "line": {
              "color": "white"
             }
            },
            "header": {
             "fill": {
              "color": "#C8D4E3"
             },
             "line": {
              "color": "white"
             }
            },
            "type": "table"
           }
          ]
         },
         "layout": {
          "annotationdefaults": {
           "arrowcolor": "#2a3f5f",
           "arrowhead": 0,
           "arrowwidth": 1
          },
          "coloraxis": {
           "colorbar": {
            "outlinewidth": 0,
            "ticks": ""
           }
          },
          "colorscale": {
           "diverging": [
            [
             0,
             "#8e0152"
            ],
            [
             0.1,
             "#c51b7d"
            ],
            [
             0.2,
             "#de77ae"
            ],
            [
             0.3,
             "#f1b6da"
            ],
            [
             0.4,
             "#fde0ef"
            ],
            [
             0.5,
             "#f7f7f7"
            ],
            [
             0.6,
             "#e6f5d0"
            ],
            [
             0.7,
             "#b8e186"
            ],
            [
             0.8,
             "#7fbc41"
            ],
            [
             0.9,
             "#4d9221"
            ],
            [
             1,
             "#276419"
            ]
           ],
           "sequential": [
            [
             0,
             "#0d0887"
            ],
            [
             0.1111111111111111,
             "#46039f"
            ],
            [
             0.2222222222222222,
             "#7201a8"
            ],
            [
             0.3333333333333333,
             "#9c179e"
            ],
            [
             0.4444444444444444,
             "#bd3786"
            ],
            [
             0.5555555555555556,
             "#d8576b"
            ],
            [
             0.6666666666666666,
             "#ed7953"
            ],
            [
             0.7777777777777778,
             "#fb9f3a"
            ],
            [
             0.8888888888888888,
             "#fdca26"
            ],
            [
             1,
             "#f0f921"
            ]
           ],
           "sequentialminus": [
            [
             0,
             "#0d0887"
            ],
            [
             0.1111111111111111,
             "#46039f"
            ],
            [
             0.2222222222222222,
             "#7201a8"
            ],
            [
             0.3333333333333333,
             "#9c179e"
            ],
            [
             0.4444444444444444,
             "#bd3786"
            ],
            [
             0.5555555555555556,
             "#d8576b"
            ],
            [
             0.6666666666666666,
             "#ed7953"
            ],
            [
             0.7777777777777778,
             "#fb9f3a"
            ],
            [
             0.8888888888888888,
             "#fdca26"
            ],
            [
             1,
             "#f0f921"
            ]
           ]
          },
          "colorway": [
           "#636efa",
           "#EF553B",
           "#00cc96",
           "#ab63fa",
           "#FFA15A",
           "#19d3f3",
           "#FF6692",
           "#B6E880",
           "#FF97FF",
           "#FECB52"
          ],
          "font": {
           "color": "#2a3f5f"
          },
          "geo": {
           "bgcolor": "white",
           "lakecolor": "white",
           "landcolor": "#E5ECF6",
           "showlakes": true,
           "showland": true,
           "subunitcolor": "white"
          },
          "hoverlabel": {
           "align": "left"
          },
          "hovermode": "closest",
          "mapbox": {
           "style": "light"
          },
          "paper_bgcolor": "white",
          "plot_bgcolor": "#E5ECF6",
          "polar": {
           "angularaxis": {
            "gridcolor": "white",
            "linecolor": "white",
            "ticks": ""
           },
           "bgcolor": "#E5ECF6",
           "radialaxis": {
            "gridcolor": "white",
            "linecolor": "white",
            "ticks": ""
           }
          },
          "scene": {
           "xaxis": {
            "backgroundcolor": "#E5ECF6",
            "gridcolor": "white",
            "gridwidth": 2,
            "linecolor": "white",
            "showbackground": true,
            "ticks": "",
            "zerolinecolor": "white"
           },
           "yaxis": {
            "backgroundcolor": "#E5ECF6",
            "gridcolor": "white",
            "gridwidth": 2,
            "linecolor": "white",
            "showbackground": true,
            "ticks": "",
            "zerolinecolor": "white"
           },
           "zaxis": {
            "backgroundcolor": "#E5ECF6",
            "gridcolor": "white",
            "gridwidth": 2,
            "linecolor": "white",
            "showbackground": true,
            "ticks": "",
            "zerolinecolor": "white"
           }
          },
          "shapedefaults": {
           "line": {
            "color": "#2a3f5f"
           }
          },
          "ternary": {
           "aaxis": {
            "gridcolor": "white",
            "linecolor": "white",
            "ticks": ""
           },
           "baxis": {
            "gridcolor": "white",
            "linecolor": "white",
            "ticks": ""
           },
           "bgcolor": "#E5ECF6",
           "caxis": {
            "gridcolor": "white",
            "linecolor": "white",
            "ticks": ""
           }
          },
          "title": {
           "x": 0.05
          },
          "xaxis": {
           "automargin": true,
           "gridcolor": "white",
           "linecolor": "white",
           "ticks": "",
           "title": {
            "standoff": 15
           },
           "zerolinecolor": "white",
           "zerolinewidth": 2
          },
          "yaxis": {
           "automargin": true,
           "gridcolor": "white",
           "linecolor": "white",
           "ticks": "",
           "title": {
            "standoff": 15
           },
           "zerolinecolor": "white",
           "zerolinewidth": 2
          }
         }
        },
        "title": {
         "text": "Predicted values vs training data"
        },
        "xaxis": {
         "autorange": true,
         "range": [
          1416.5261932479627,
          5151.4738067520375
         ],
         "title": {
          "text": "weight"
         },
         "type": "linear"
        },
        "yaxis": {
         "autorange": true,
         "range": [
          6.480254777070064,
          45.91974522292993
         ],
         "title": {
          "text": "mpg"
         },
         "type": "linear"
        }
       }
      },
      "image/png": "[encoded data removed]",
      "text/html": [
       "<div>\n",
       "        \n",
       "        \n",
       "            <div id=\"0ff7cb04-a625-41b1-a3f8-b86a55b0d8af\" class=\"plotly-graph-div\" style=\"height:525px; width:100%;\"></div>\n",
       "            <script type=\"text/javascript\">\n",
       "                require([\"plotly\"], function(Plotly) {\n",
       "                    window.PLOTLYENV=window.PLOTLYENV || {};\n",
       "                    \n",
       "                if (document.getElementById(\"0ff7cb04-a625-41b1-a3f8-b86a55b0d8af\")) {\n",
       "                    Plotly.newPlot(\n",
       "                        '0ff7cb04-a625-41b1-a3f8-b86a55b0d8af',\n",
       "                        [{\"mode\": \"markers\", \"name\": \"Testing values\", \"type\": \"scatter\", \"x\": [1955, 2330, 3003, 1795, 2144, 2335, 2945, 2401, 3645, 3436, 2164, 3459, 2215, 2984, 2671, 2634, 1937, 3870, 2246, 3221, 4422, 2434, 2672, 4615, 2600, 3574, 2648, 3620, 4657, 4215, 2720, 1875, 4312, 4140, 1940, 2220, 4732, 1613, 2300, 2565, 2155, 3264, 2868, 4100, 2620, 3725, 3230, 3085, 2740, 3781, 2870, 2489, 4502, 2451, 2670, 4190, 2264, 2125, 2575, 2990, 4082, 2379, 4951, 2625, 3410, 2587, 4060, 4456, 2515, 2979, 2635, 4955, 1649, 2904, 2255, 2670, 3672, 3465, 1980], \"y\": [26.0, 19.0, 24.3, 33.0, 41.5, 43.4, 25.0, 21.0, 18.5, 18.0, 24.5, 18.0, 34.7, 18.0, 25.0, 19.0, 29.0, 13.0, 26.0, 20.0, 13.0, 37.0, 25.0, 10.0, 21.5, 18.0, 21.0, 18.6, 14.0, 14.5, 25.1, 39.0, 14.0, 15.5, 29.0, 25.0, 9.0, 35.0, 25.5, 26.5, 30.0, 19.0, 19.0, 13.0, 25.8, 17.6, 28.1, 22.5, 24.5, 16.0, 26.4, 24.0, 13.0, 26.0, 27.4, 16.0, 28.0, 36.0, 31.0, 19.8, 15.0, 22.0, 12.0, 28.0, 16.2, 21.0, 17.0, 12.0, 21.1, 21.0, 26.6, 12.0, 31.0, 23.0, 26.0, 28.4, 17.0, 17.6, 36.0]}, {\"marker\": {\"color\": \"green\"}, \"mode\": \"markers\", \"name\": \"Predicted values\", \"type\": \"scatter\", \"x\": [1955, 2330, 3003, 1795, 2144, 2335, 2945, 2401, 3645, 3436, 2164, 3459, 2215, 2984, 2671, 2634, 1937, 3870, 2246, 3221, 4422, 2434, 2672, 4615, 2600, 3574, 2648, 3620, 4657, 4215, 2720, 1875, 4312, 4140, 1940, 2220, 4732, 1613, 2300, 2565, 2155, 3264, 2868, 4100, 2620, 3725, 3230, 3085, 2740, 3781, 2870, 2489, 4502, 2451, 2670, 4190, 2264, 2125, 2575, 2990, 4082, 2379, 4951, 2625, 3410, 2587, 4060, 4456, 2515, 2979, 2635, 4955, 1649, 2904, 2255, 2670, 3672, 3465, 1980], \"y\": [32.813557246629074, 28.47558418386452, 21.996668710579925, 34.82296631988115, 30.56210976839556, 28.421263550928337, 22.488965182155006, 27.71291018091941, 17.37979401643655, 18.715184933485574, 30.331603175381957, 18.56030471420314, 29.750517851412212, 22.156565831290493, 24.983124306683948, 25.341239039312775, 33.03488177568881, 16.123030700786174, 29.402017187226882, 20.257750726740866, 13.834148505670257, 27.36478433739469, 24.973515910284426, 13.300174595680005, 25.674788434412278, 17.815296594308748, 25.205139788273584, 17.531010068725948, 13.202253339401999, 14.560210934508866, 24.51666904446651, 33.806408282958095, 14.200216774338266, 14.862449146176942, 32.99791100925489, 29.694067292641407, 13.043646213364134, 37.22395183953151, 28.80345269637411, 26.022620950090925, 30.435147783405355, 19.935539366809074, 23.161783864957464, 15.032162562405063, 25.478064317245163, 16.911460368250303, 20.189744394295445, 21.321925570372912, 24.32883505252215, 16.597732479873386, 23.14403023860133, 26.793538807786433, 13.596069100753482, 27.187021074647724, 24.992736407302317, 14.658641868288129, 29.20129552337088, 30.782463444839735, 25.92277720397025, 22.10592753916282, 15.110467201943663, 27.947235129002465, 12.69976332254032, 25.42911480163106, 18.892626507903366, 25.803453665512677, 15.20780272878168, 13.730068059445543, 26.52739600895856, 22.198866274081738, 25.331493586816073, 12.695134438101775, 36.739296939734494, 22.844485572478888, 29.30150633443575, 24.992736407302317, 17.219081041591664, 18.52022344577749, 32.50815308500745]}],\n",
       "                        {\"template\": {\"data\": {\"bar\": [{\"error_x\": {\"color\": \"#2a3f5f\"}, \"error_y\": {\"color\": \"#2a3f5f\"}, \"marker\": {\"line\": {\"color\": \"#E5ECF6\", \"width\": 0.5}}, \"type\": \"bar\"}], \"barpolar\": [{\"marker\": {\"line\": {\"color\": \"#E5ECF6\", \"width\": 0.5}}, \"type\": \"barpolar\"}], \"carpet\": [{\"aaxis\": {\"endlinecolor\": \"#2a3f5f\", \"gridcolor\": \"white\", \"linecolor\": \"white\", \"minorgridcolor\": \"white\", \"startlinecolor\": \"#2a3f5f\"}, \"baxis\": {\"endlinecolor\": \"#2a3f5f\", \"gridcolor\": \"white\", \"linecolor\": \"white\", \"minorgridcolor\": \"white\", \"startlinecolor\": \"#2a3f5f\"}, \"type\": \"carpet\"}], \"choropleth\": [{\"colorbar\": {\"outlinewidth\": 0, \"ticks\": \"\"}, \"type\": \"choropleth\"}], \"contour\": [{\"colorbar\": {\"outlinewidth\": 0, \"ticks\": \"\"}, \"colorscale\": [[0.0, \"#0d0887\"], [0.1111111111111111, \"#46039f\"], [0.2222222222222222, \"#7201a8\"], [0.3333333333333333, \"#9c179e\"], [0.4444444444444444, \"#bd3786\"], [0.5555555555555556, \"#d8576b\"], [0.6666666666666666, \"#ed7953\"], [0.7777777777777778, \"#fb9f3a\"], [0.8888888888888888, \"#fdca26\"], [1.0, \"#f0f921\"]], \"type\": \"contour\"}], \"contourcarpet\": [{\"colorbar\": {\"outlinewidth\": 0, \"ticks\": \"\"}, \"type\": \"contourcarpet\"}], \"heatmap\": [{\"colorbar\": {\"outlinewidth\": 0, \"ticks\": \"\"}, \"colorscale\": [[0.0, \"#0d0887\"], [0.1111111111111111, \"#46039f\"], [0.2222222222222222, \"#7201a8\"], [0.3333333333333333, \"#9c179e\"], [0.4444444444444444, \"#bd3786\"], [0.5555555555555556, \"#d8576b\"], [0.6666666666666666, \"#ed7953\"], [0.7777777777777778, \"#fb9f3a\"], [0.8888888888888888, \"#fdca26\"], [1.0, \"#f0f921\"]], \"type\": \"heatmap\"}], \"heatmapgl\": [{\"colorbar\": {\"outlinewidth\": 0, \"ticks\": \"\"}, \"colorscale\": [[0.0, \"#0d0887\"], [0.1111111111111111, \"#46039f\"], [0.2222222222222222, \"#7201a8\"], [0.3333333333333333, \"#9c179e\"], [0.4444444444444444, \"#bd3786\"], [0.5555555555555556, \"#d8576b\"], [0.6666666666666666, \"#ed7953\"], [0.7777777777777778, \"#fb9f3a\"], [0.8888888888888888, \"#fdca26\"], [1.0, \"#f0f921\"]], \"type\": \"heatmapgl\"}], \"histogram\": [{\"marker\": {\"colorbar\": {\"outlinewidth\": 0, \"ticks\": \"\"}}, \"type\": \"histogram\"}], \"histogram2d\": [{\"colorbar\": {\"outlinewidth\": 0, \"ticks\": \"\"}, \"colorscale\": [[0.0, \"#0d0887\"], [0.1111111111111111, \"#46039f\"], [0.2222222222222222, \"#7201a8\"], [0.3333333333333333, \"#9c179e\"], [0.4444444444444444, \"#bd3786\"], [0.5555555555555556, \"#d8576b\"], [0.6666666666666666, \"#ed7953\"], [0.7777777777777778, \"#fb9f3a\"], [0.8888888888888888, \"#fdca26\"], [1.0, \"#f0f921\"]], \"type\": \"histogram2d\"}], \"histogram2dcontour\": [{\"colorbar\": {\"outlinewidth\": 0, \"ticks\": \"\"}, \"colorscale\": [[0.0, \"#0d0887\"], [0.1111111111111111, \"#46039f\"], [0.2222222222222222, \"#7201a8\"], [0.3333333333333333, \"#9c179e\"], [0.4444444444444444, \"#bd3786\"], [0.5555555555555556, \"#d8576b\"], [0.6666666666666666, \"#ed7953\"], [0.7777777777777778, \"#fb9f3a\"], [0.8888888888888888, \"#fdca26\"], [1.0, \"#f0f921\"]], \"type\": \"histogram2dcontour\"}], \"mesh3d\": [{\"colorbar\": {\"outlinewidth\": 0, \"ticks\": \"\"}, \"type\": \"mesh3d\"}], \"parcoords\": [{\"line\": {\"colorbar\": {\"outlinewidth\": 0, \"ticks\": \"\"}}, \"type\": \"parcoords\"}], \"pie\": [{\"automargin\": true, \"type\": \"pie\"}], \"scatter\": [{\"marker\": {\"colorbar\": {\"outlinewidth\": 0, \"ticks\": \"\"}}, \"type\": \"scatter\"}], \"scatter3d\": [{\"line\": {\"colorbar\": {\"outlinewidth\": 0, \"ticks\": \"\"}}, \"marker\": {\"colorbar\": {\"outlinewidth\": 0, \"ticks\": \"\"}}, \"type\": \"scatter3d\"}], \"scattercarpet\": [{\"marker\": {\"colorbar\": {\"outlinewidth\": 0, \"ticks\": \"\"}}, \"type\": \"scattercarpet\"}], \"scattergeo\": [{\"marker\": {\"colorbar\": {\"outlinewidth\": 0, \"ticks\": \"\"}}, \"type\": \"scattergeo\"}], \"scattergl\": [{\"marker\": {\"colorbar\": {\"outlinewidth\": 0, \"ticks\": \"\"}}, \"type\": \"scattergl\"}], \"scattermapbox\": [{\"marker\": {\"colorbar\": {\"outlinewidth\": 0, \"ticks\": \"\"}}, \"type\": \"scattermapbox\"}], \"scatterpolar\": [{\"marker\": {\"colorbar\": {\"outlinewidth\": 0, \"ticks\": \"\"}}, \"type\": \"scatterpolar\"}], \"scatterpolargl\": [{\"marker\": {\"colorbar\": {\"outlinewidth\": 0, \"ticks\": \"\"}}, \"type\": \"scatterpolargl\"}], \"scatterternary\": [{\"marker\": {\"colorbar\": {\"outlinewidth\": 0, \"ticks\": \"\"}}, \"type\": \"scatterternary\"}], \"surface\": [{\"colorbar\": {\"outlinewidth\": 0, \"ticks\": \"\"}, \"colorscale\": [[0.0, \"#0d0887\"], [0.1111111111111111, \"#46039f\"], [0.2222222222222222, \"#7201a8\"], [0.3333333333333333, \"#9c179e\"], [0.4444444444444444, \"#bd3786\"], [0.5555555555555556, \"#d8576b\"], [0.6666666666666666, \"#ed7953\"], [0.7777777777777778, \"#fb9f3a\"], [0.8888888888888888, \"#fdca26\"], [1.0, \"#f0f921\"]], \"type\": \"surface\"}], \"table\": [{\"cells\": {\"fill\": {\"color\": \"#EBF0F8\"}, \"line\": {\"color\": \"white\"}}, \"header\": {\"fill\": {\"color\": \"#C8D4E3\"}, \"line\": {\"color\": \"white\"}}, \"type\": \"table\"}]}, \"layout\": {\"annotationdefaults\": {\"arrowcolor\": \"#2a3f5f\", \"arrowhead\": 0, \"arrowwidth\": 1}, \"coloraxis\": {\"colorbar\": {\"outlinewidth\": 0, \"ticks\": \"\"}}, \"colorscale\": {\"diverging\": [[0, \"#8e0152\"], [0.1, \"#c51b7d\"], [0.2, \"#de77ae\"], [0.3, \"#f1b6da\"], [0.4, \"#fde0ef\"], [0.5, \"#f7f7f7\"], [0.6, \"#e6f5d0\"], [0.7, \"#b8e186\"], [0.8, \"#7fbc41\"], [0.9, \"#4d9221\"], [1, \"#276419\"]], \"sequential\": [[0.0, \"#0d0887\"], [0.1111111111111111, \"#46039f\"], [0.2222222222222222, \"#7201a8\"], [0.3333333333333333, \"#9c179e\"], [0.4444444444444444, \"#bd3786\"], [0.5555555555555556, \"#d8576b\"], [0.6666666666666666, \"#ed7953\"], [0.7777777777777778, \"#fb9f3a\"], [0.8888888888888888, \"#fdca26\"], [1.0, \"#f0f921\"]], \"sequentialminus\": [[0.0, \"#0d0887\"], [0.1111111111111111, \"#46039f\"], [0.2222222222222222, \"#7201a8\"], [0.3333333333333333, \"#9c179e\"], [0.4444444444444444, \"#bd3786\"], [0.5555555555555556, \"#d8576b\"], [0.6666666666666666, \"#ed7953\"], [0.7777777777777778, \"#fb9f3a\"], [0.8888888888888888, \"#fdca26\"], [1.0, \"#f0f921\"]]}, \"colorway\": [\"#636efa\", \"#EF553B\", \"#00cc96\", \"#ab63fa\", \"#FFA15A\", \"#19d3f3\", \"#FF6692\", \"#B6E880\", \"#FF97FF\", \"#FECB52\"], \"font\": {\"color\": \"#2a3f5f\"}, \"geo\": {\"bgcolor\": \"white\", \"lakecolor\": \"white\", \"landcolor\": \"#E5ECF6\", \"showlakes\": true, \"showland\": true, \"subunitcolor\": \"white\"}, \"hoverlabel\": {\"align\": \"left\"}, \"hovermode\": \"closest\", \"mapbox\": {\"style\": \"light\"}, \"paper_bgcolor\": \"white\", \"plot_bgcolor\": \"#E5ECF6\", \"polar\": {\"angularaxis\": {\"gridcolor\": \"white\", \"linecolor\": \"white\", \"ticks\": \"\"}, \"bgcolor\": \"#E5ECF6\", \"radialaxis\": {\"gridcolor\": \"white\", \"linecolor\": \"white\", \"ticks\": \"\"}}, \"scene\": {\"xaxis\": {\"backgroundcolor\": \"#E5ECF6\", \"gridcolor\": \"white\", \"gridwidth\": 2, \"linecolor\": \"white\", \"showbackground\": true, \"ticks\": \"\", \"zerolinecolor\": \"white\"}, \"yaxis\": {\"backgroundcolor\": \"#E5ECF6\", \"gridcolor\": \"white\", \"gridwidth\": 2, \"linecolor\": \"white\", \"showbackground\": true, \"ticks\": \"\", \"zerolinecolor\": \"white\"}, \"zaxis\": {\"backgroundcolor\": \"#E5ECF6\", \"gridcolor\": \"white\", \"gridwidth\": 2, \"linecolor\": \"white\", \"showbackground\": true, \"ticks\": \"\", \"zerolinecolor\": \"white\"}}, \"shapedefaults\": {\"line\": {\"color\": \"#2a3f5f\"}}, \"ternary\": {\"aaxis\": {\"gridcolor\": \"white\", \"linecolor\": \"white\", \"ticks\": \"\"}, \"baxis\": {\"gridcolor\": \"white\", \"linecolor\": \"white\", \"ticks\": \"\"}, \"bgcolor\": \"#E5ECF6\", \"caxis\": {\"gridcolor\": \"white\", \"linecolor\": \"white\", \"ticks\": \"\"}}, \"title\": {\"x\": 0.05}, \"xaxis\": {\"automargin\": true, \"gridcolor\": \"white\", \"linecolor\": \"white\", \"ticks\": \"\", \"title\": {\"standoff\": 15}, \"zerolinecolor\": \"white\", \"zerolinewidth\": 2}, \"yaxis\": {\"automargin\": true, \"gridcolor\": \"white\", \"linecolor\": \"white\", \"ticks\": \"\", \"title\": {\"standoff\": 15}, \"zerolinecolor\": \"white\", \"zerolinewidth\": 2}}}, \"title\": {\"text\": \"Predicted values vs training data\"}, \"xaxis\": {\"title\": {\"text\": \"weight\"}}, \"yaxis\": {\"title\": {\"text\": \"mpg\"}}},\n",
       "                        {\"responsive\": true}\n",
       "                    ).then(function(){\n",
       "                            \n",
       "var gd = document.getElementById('0ff7cb04-a625-41b1-a3f8-b86a55b0d8af');\n",
       "var x = new MutationObserver(function (mutations, observer) {{\n",
       "        var display = window.getComputedStyle(gd).display;\n",
       "        if (!display || display === 'none') {{\n",
       "            console.log([gd, 'removed!']);\n",
       "            Plotly.purge(gd);\n",
       "            observer.disconnect();\n",
       "        }}\n",
       "}});\n",
       "\n",
       "// Listen for the removal of the full notebook cells\n",
       "var notebookContainer = gd.closest('#notebook-container');\n",
       "if (notebookContainer) {{\n",
       "    x.observe(notebookContainer, {childList: true});\n",
       "}}\n",
       "\n",
       "// Listen for the clearing of the current output cell\n",
       "var outputEl = gd.closest('.output');\n",
       "if (outputEl) {{\n",
       "    x.observe(outputEl, {childList: true});\n",
       "}}\n",
       "\n",
       "                        })\n",
       "                };\n",
       "                });\n",
       "            </script>\n",
       "        </div>"
      ]
     },
     "metadata": {},
     "output_type": "display_data"
    }
   ],
   "source": [
    "# Convert test_x to poly features and run predict on lr_poly to get predicted_values_test\n",
    "poly_features_test = poly.fit_transform(test_x)\n",
    "predicted_values_test = lr_poly.predict(poly_features_test)\n",
    "\n",
    "# Similar to the plot above, use test_x and y and ravel\n",
    "testing_data = go.Scatter(x=test_x.ravel(), y=test_y.ravel(), name='Testing values',  mode='markers')\n",
    "predicted_points_test = go.Scatter(x=test_x.ravel(), y=predicted_values_test.ravel(), name='Predicted values',  mode='markers', marker= {'color':'green'})\n",
    "\n",
    "fig = go.Figure(data = [testing_data, predicted_points_test])\n",
    "fig.update_layout(title=\"Predicted values vs training data\", xaxis_title=\"weight\", yaxis_title=\"mpg\")\n",
    "fig.show()"
   ]
  },
  {
   "cell_type": "markdown",
   "metadata": {},
   "source": [
    "<img src=\"../../../images/poly_regression_lab_plt2.png\"><img>"
   ]
  },
  {
   "cell_type": "markdown",
   "metadata": {},
   "source": [
    "Next lets get the Root mean squae error metric for this analysis"
   ]
  },
  {
   "cell_type": "code",
   "execution_count": 16,
   "metadata": {},
   "outputs": [
    {
     "name": "stdout",
     "output_type": "stream",
     "text": [
      "Prediction on training set 4.19\n",
      "Prediction on testing set 4.04\n"
     ]
    }
   ],
   "source": [
    "# Take the square root of the mean square error mertic to get rmse\n",
    "rmse_training = np.sqrt(mean_squared_error(train_y, predicted_values))\n",
    "rmse_testing = np.sqrt(mean_squared_error(test_y, predicted_values_test))\n",
    "print(\"Prediction on training set {:.2f}\".format(rmse_training))\n",
    "print(\"Prediction on testing set {:.2f}\".format(rmse_testing))\n"
   ]
  },
  {
   "cell_type": "code",
   "execution_count": null,
   "metadata": {},
   "outputs": [],
   "source": []
  }
 ],
 "metadata": {
  "kernelspec": {
   "display_name": "Python 3",
   "language": "python",
   "name": "python3"
  },
  "language_info": {
   "codemirror_mode": {
    "name": "ipython",
    "version": 3
   },
   "file_extension": ".py",
   "mimetype": "text/x-python",
   "name": "python",
   "nbconvert_exporter": "python",
   "pygments_lexer": "ipython3",
   "version": "3.7.3"
  }
 },
 "nbformat": 4,
 "nbformat_minor": 4
}
