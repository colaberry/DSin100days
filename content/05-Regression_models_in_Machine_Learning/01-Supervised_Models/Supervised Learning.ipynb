{
 "cells": [
  {
   "cell_type": "markdown",
   "metadata": {},
   "source": [
    "# Supervised Learning\n",
    "### What does Supervised Learning mean in Data Science ?\n",
    "<br>\n",
    "As Data Scientists you will be faced with obstacles regarding data handling and processing since there will datasets that won't adhere to the traditional format of collecting data. And we will explore those kinds of datasets in this section try to run statistical analysis on them <br>\n",
    "<hr>\n",
    "In this section, of the course, we will be learning about creating statistical models from different types of data. Lets begin by deciphering the name of this section <strong>\"Supervised Learning\"</strong>\n",
    "\n",
    "<ul>\n",
    "    <li><b>Learning</b></li>\n",
    "    <small>It is the concept of learning new or existing patternsi in a dataset. <br>\n",
    "    </small>\n",
    "    <li><b>Supervised</b></li>\n",
    "    <small>It simply refers to the idea of using data that contains exmaples or ,in practical sence, labels for the learning to happen.<br>\n",
    "    </small>\n",
    "    <p></p>\n",
    "</ul>\n",
    "\n",
    "Since, the definition don't display the whole concept we will in later sections of this course learn how to run a statistical model on a labeled data.\n"
   ]
  },
  {
   "cell_type": "code",
   "execution_count": 4,
   "metadata": {},
   "outputs": [],
   "source": [
    "# No Exercises here "
   ]
  },
  {
   "cell_type": "markdown",
   "metadata": {},
   "source": [
    "No Solution Here"
   ]
  },
  {
   "cell_type": "markdown",
   "metadata": {},
   "source": [
    "#### When is it most applicable ?\n",
    "As the term <strong>Supervised</strong> suggests it can mostly be applicable for data that has both features and their outputs. <br>\n",
    "Let's observe the dataset to learn how Supervised learning works.<br>\n",
    "The below dataset is a popular dataset called the Breast Cancer dataset. It contains certain features such as radius, texture, smoothness etc, these features help us in determing whether a person has (1) or doesn't(0) have cancer\n",
    "\n",
    "\n",
    "```Python\n",
    "# Import the Dataset package from the module\n",
    "from sklearn.datasets import load_breast_cancer\n",
    "\n",
    "# Select just the features and the target\n",
    "features=load_breast_cancer()['data']\n",
    "target=load_breast_cancer()['target']\n",
    "print(features[0], target[0])\n",
    "```\n",
    "\n",
    "\n",
    "<img src=\"p.png\" height=\"300\" width=\"550\">\n",
    "\n",
    "Note: Features here refers to the columns and target refers to the outputs/labels\n",
    "\n",
    "In the above displayed object we are observing the first row in both columns. The features refer to the array of floating point number representing a certain predictor of breast cancer and number next to it ( 0 ) represents the class/target.  \n",
    "\n",
    "Statistically we can see them as independent variables and the targets are considered dependent variable.\n",
    "Supervised Learning Models work best with these sort of datasets\n",
    "\n",
    "Supervised Learning Models: <br>\n",
    "(In the sections coming up we shall learn to work with all of these models but this aims to tackle some of these)<br>\n",
    "Supervised Leanrning type of Models:- <br>\n",
    "<ol>\n",
    "    <li>Classification</li>\n",
    "    <small>The concept of classifying is assigning a certain unknown data to an entity. <br>\n",
    "        A typical process goes on by creating a model based on training data. The training data would, in this case, have labels/classes like the ones presented above for a given set of features. On the other hand we will also have a test dataset which won't have any labels. Running model on our test set helps us in understanding how useful our model can be in predicting.  \n",
    "    </small>\n",
    "    <ul>\n",
    "        <li type='a'>Decision Tree</li> \n",
    "        <img src='DT.jpg' height=200 width=200/>\n",
    "        <small>We can imagine this classifier to be a set of sequential questions. Based on which it makes predictions</small>\n",
    "        <li type='a'>Random Forest Tree</li>\n",
    "        <img src='random.png' height=200 width=200/>\n",
    "        <small>Random Forest can be conceptualized as having multiple decision trees and each decision tree contributes by to the final decision providing its predictions.</small>\n",
    "        <li type='a'> Support Vector Machine</li>\n",
    "        <img src=\"svm-fig-1.png\" height=\"200\" width=\"200\">\n",
    "            <p> Support Vector Machines (SVMs) forms around the idea to make the best fit line for the dataset which equally divides the data points into certain datasets. As you can in the given picture the hyperlane divides the data points allowing for a clear classification to occur.</p>\n",
    "    </ul>\n",
    "    <li>Regression</li>\n",
    "    <small> In classification we have a set of features and only 2 or, maybe a finite, more number of classes. But in regression this changes as now we are now dealing with numeric values which are random, to the scientist, and can be of any magnitude. </small>\n",
    "    <p> Let's take a look at this example <br>\n",
    "    <img src=\"diabetes.png\" height=\"200\" width=\"600\">\n",
    "        <small> The above dataset is a sample from the diabetes dataset which reflects all its features on the columns labelled 0-9, and on the right most column shows the result. Here we see that the class of this dataset seems quite random but a real world problem would have datasets similar to this which will be conditioned to find patterns. Classification on these datasets is considered to be regressiona and they are done with a seperate set methods. </small>\n",
    "    </p>\n",
    "    <ol>\n",
    "        <li type='a'>Linear</li> A regression which tries to find the best fit line amongst the data, meaning the line represents a linear graph with the highest degree to be 1 ( we will discuss more about this in the later sections )\n",
    "        <img src=\"Linear Regr.png\" height=\"250\" width=\"250\" />\n",
    "        <li type='a'>Polynomial</li> A regression which tried its best fit through the data points but has the advantage of having degree 2 or more.\n",
    "        <img src=\"PolinomialRegr.png\" height=\"250\" width=\"250\" />\n",
    "        <li type='a'>Logistic</li> Logistic regression is used to mainly determine between finite classes, but unlike Linear and Polynomial which give straight classifications without any approximation, logistic regression takes the advatage of Sigmoid Function ( which we will discuss in the future ) and tries to give probabilities about its data points\n",
    "        <img src=\"Logistic.png\" height=\"200\" width=\"500\">\n",
    "<!--         <li type='a'>Ridge</li>\n",
    "        <li type='a'>Lasso</li> -->\n",
    "    </ol>\n",
    "</ol>\n",
    "\n",
    "<strong><u>In this Section we will mostly be looking at Regression models</u></strong>"
   ]
  },
  {
   "cell_type": "code",
   "execution_count": 5,
   "metadata": {},
   "outputs": [],
   "source": [
    "# No Exercises here "
   ]
  },
  {
   "cell_type": "markdown",
   "metadata": {},
   "source": [
    "No Solution Here"
   ]
  },
  {
   "cell_type": "markdown",
   "metadata": {},
   "source": [
    "### How does it differ from Unsupervised Learning ?\n",
    "<ul>\n",
    "    <li><b> Unsupervised </b></li>\n",
    "    <small>It refers to the condition of data that have no prior set format of inputs and outputs.  <br>\n",
    "    </small> \n",
    "</ul>\n",
    "\n",
    "Datasets Include:-<br>\n",
    "<img src='cluster.png' width=\"250\" height=\"250\">\n",
    "\n",
    "With the above dataset we can't really perform a regression or classify any particular datapoint in the dataset but we can however find similarities among these datapoints to find a common denomenator. <br>\n",
    "Note: This is the Iris datset and it comes with a class but inorder to explain how clustering works we can visualize the above dataset as is.\n",
    "\n",
    "Unsupervised Models:-\n",
    "<ol>\n",
    "    <li>Association Rule</li> A data mining concept that is used to find similarities between certain products/objects allowing for the model to group them together.<br>\n",
    "    <small>Examples of implementing Association Rule can be found on many online retail stores such ebay, amazon which suggests products based on your initial viewing. The psychology here is that when a user buys a product they are inclined to buy a product that is somewhat similar to it.</small>\n",
    "    <li>Clustering</li> is the process of grouping datapoints based on some similarities and these similarities can be calculated through different algorithms\n",
    "    <ol>\n",
    "        <li type='a'>Hierarchical Clustering</li> refers to the concept of seperating data points based on a certain parameters such as distance and density. The spliting continues until the model finds all groups to be almost pure. In Hierarchical Clustering, this process takes place with the help of graph in a shape of tree upside down. \n",
    "        <li type='a'>DBSCAN</li> (Density-Based Spatial Clustering of Applications and Noise) is an another form of clustering algorithm that helps find density amongst the datsets by calculating distance. \n",
    "        <li type='a'>K-means Clustering</li> works similar to its classifier in theory. K refers to the number centroids the user wants. Centroids refers to the numbers of groups/clusters one would require. \n",
    "    </ol>\n",
    "    \n",
    "        \n",
    "</ol>\n"
   ]
  },
  {
   "cell_type": "code",
   "execution_count": 26,
   "metadata": {},
   "outputs": [],
   "source": [
    "# No Exercises here"
   ]
  },
  {
   "cell_type": "markdown",
   "metadata": {},
   "source": [
    "No Solution Here"
   ]
  }
 ],
 "metadata": {
  "kernelspec": {
   "display_name": "Python 3",
   "language": "python",
   "name": "python3"
  },
  "language_info": {
   "codemirror_mode": {
    "name": "ipython",
    "version": 3
   },
   "file_extension": ".py",
   "mimetype": "text/x-python",
   "name": "python",
   "nbconvert_exporter": "python",
   "pygments_lexer": "ipython3",
   "version": "3.6.8"
  }
 },
 "nbformat": 4,
 "nbformat_minor": 2
}
