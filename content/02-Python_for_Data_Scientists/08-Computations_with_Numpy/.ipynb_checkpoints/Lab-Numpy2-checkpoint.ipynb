{
 "cells": [
  {
   "cell_type": "markdown",
   "metadata": {},
   "source": [
    "## Numpy Lab 2\n",
    "\n",
    "Create a numpy array A of shape 3*3 with random values from 100 to 300 and modify the array such that:\n",
    "\n",
    "1. If an element of array A is greater than 200% of the minimum value in the array, then reduce the value by half.\n",
    "2. Further if an element of array A is less than 50% of the maximum value, then increase the value by 50%. \n",
    "3. Assign the resultant array to B \n",
    "\n",
    "Hint: Refer to numpy documentation at  https://docs.scipy.org/doc/numpy/user/quickstart.html"
   ]
  },
  {
   "cell_type": "code",
   "execution_count": null,
   "metadata": {},
   "outputs": [],
   "source": [
    "\n"
   ]
  }
 ],
 "metadata": {
  "kernelspec": {
   "display_name": "Python 3",
   "language": "python",
   "name": "python3"
  },
  "language_info": {
   "codemirror_mode": {
    "name": "ipython",
    "version": 3
   },
   "file_extension": ".py",
   "mimetype": "text/x-python",
   "name": "python",
   "nbconvert_exporter": "python",
   "pygments_lexer": "ipython3",
   "version": "3.6.8"
  }
 },
 "nbformat": 4,
 "nbformat_minor": 1
}
