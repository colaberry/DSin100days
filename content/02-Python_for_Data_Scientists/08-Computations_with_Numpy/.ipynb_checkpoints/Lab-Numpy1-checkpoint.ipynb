{
 "cells": [
  {
   "cell_type": "markdown",
   "metadata": {},
   "source": [
    "## Numpy Lab 1 \n",
    "\n",
    "Write a python program that creates two arrays with the following description:\n",
    "\n",
    "1. Array 'a' - is a 3*3 array and has numbers from 10 to 46 with equal space between.\n",
    "2. Array 'b' is a 3*2 array and has number 60 to 180 with equal space between each element.\n",
    "3. Create a new array 'c' and assign it with the result of multiplication of Arrays - a *  b\n",
    "\n",
    "Hint: Refer to numpy documentation at  https://docs.scipy.org/doc/numpy/user/quickstart.html"
   ]
  },
  {
   "cell_type": "code",
   "execution_count": null,
   "metadata": {
    "collapsed": true
   },
   "outputs": [],
   "source": []
  }
 ],
 "metadata": {
  "kernelspec": {
   "display_name": "Python 3",
   "language": "python",
   "name": "python3"
  },
  "language_info": {
   "codemirror_mode": {
    "name": "ipython",
    "version": 3
   },
   "file_extension": ".py",
   "mimetype": "text/x-python",
   "name": "python",
   "nbconvert_exporter": "python",
   "pygments_lexer": "ipython3",
   "version": "3.6.8"
  }
 },
 "nbformat": 4,
 "nbformat_minor": 1
}
