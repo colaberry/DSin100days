{
 "cells": [
  {
   "cell_type": "markdown",
   "metadata": {},
   "source": [
    "## Reading Garbled Telephone Directory using Regular Expression\n",
    "\n",
    "You are given a garbled telephone directory as a string. Write a program to retrieve the phone numbers and names.\n",
    "In the input text, the names and phone numbers are mixed with some garbled text. Names start with Name:<First Last> and interspersed with some text. Finally the 10 digit phone number in the format 123-456-7890 along with some mixed text.\n",
    "You are reguired to extract 3 names and phone numbers and assign it to a list of dictionaries\n",
    "\n",
    "Input Example: phone_direct = \"Name:John Doe 'snumber201-442-2345was lost and the second Name is Name:Jane Dow and her number is @203-123-4683. The third number is Name:David Doe with the number #202-101-2021.\"\n",
    "\n",
    "\n",
    "Output Example:\n",
    "contacts = {\"John Doe\" : \"201-442-2345\"}\n",
    "\n",
    "Name your output variable as 'contacts'.\n",
    "\n",
    "Note: Do not modify the code within method definition get_answer_1().\n",
    "\n",
    "Hint use regular expression. https://docs.python.org/2/howto/regex.html\n"
   ]
  },
  {
   "cell_type": "code",
   "execution_count": 2,
   "metadata": {},
   "outputs": [],
   "source": [
    "phone_direct = \"Name:John Doe 'snumber201-442-2345was lost and the second Name is Name:Jane Dow and her number is @203-123-4683. The third number is Name:David Doe with the number #202-101-2021.\"\n",
    "\n",
    "##Provide your solution below \n",
    "\n",
    "\n",
    "\n",
    "contacts = ''\n",
    "\n"
   ]
  }
 ],
 "metadata": {
  "celltoolbar": "Tags",
  "kernelspec": {
   "display_name": "Python 3",
   "language": "python",
   "name": "python3"
  },
  "language_info": {
   "codemirror_mode": {
    "name": "ipython",
    "version": 3
   },
   "file_extension": ".py",
   "mimetype": "text/x-python",
   "name": "python",
   "nbconvert_exporter": "python",
   "pygments_lexer": "ipython3",
   "version": "3.7.3"
  }
 },
 "nbformat": 4,
 "nbformat_minor": 1
}
