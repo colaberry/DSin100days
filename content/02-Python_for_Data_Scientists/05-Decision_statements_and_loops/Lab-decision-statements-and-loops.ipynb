{
 "cells": [
  {
   "cell_type": "markdown",
   "metadata": {},
   "source": [
    "## Count Numbers \n",
    "Write a python program to loop through integers from 501 to 1500 (both inclusive) and then count the number of integers such that the integer is:\n",
    "1. Divisible by 2\n",
    "2. Divisible by 3\n",
    "3. Divisible by 5\n",
    "\n",
    "You can repeat tthe same number in two categories. For example 6 is divisible by both 2 and 3. Hence must be counted under both categories.\n",
    "\n",
    "Finally save them in variable total_divisible_by_2, total_divisible_by_3 and total_divisible_by_5 for counts of numbers divisble by 2,3 and 5 respectively.\n"
   ]
  },
  {
   "cell_type": "code",
   "execution_count": 3,
   "metadata": {},
   "outputs": [],
   "source": [
    "total_divisible_by_2 = total_divisible_by_3 = total_divisible_by_5 = 0\n",
    "\n",
    "# Write logic to solve the lab\n",
    "\n"
   ]
  }
 ],
 "metadata": {
  "kernelspec": {
   "display_name": "Python 3",
   "language": "python",
   "name": "python3"
  },
  "language_info": {
   "codemirror_mode": {
    "name": "ipython",
    "version": 3
   },
   "file_extension": ".py",
   "mimetype": "text/x-python",
   "name": "python",
   "nbconvert_exporter": "python",
   "pygments_lexer": "ipython3",
   "version": "3.6.8"
  }
 },
 "nbformat": 4,
 "nbformat_minor": 1
}
