{
 "cells": [
  {
   "cell_type": "markdown",
   "metadata": {
    "tags": [
     "l2",
     "content",
     "s2"
    ]
   },
   "source": [
    "# Decision statements and Loops in Python\n",
    "\n",
    "As a continuation of the previous lessons, here we introduce decision statements and loops.\n",
    "\n",
    "### Loops\n",
    "\n",
    "The two commonly used loops are the While loop and the For loop.\n",
    "\n",
    "#### While Loop\n",
    "Note that Python works with indentation and no braces are necessary. The next line of code following the loops or conditions or function blocks should have an indentation of two spaces or four spaces.\n",
    "\n",
    "Syntax: \n",
    "\n",
    "```\n",
    "While :\n",
    "  statements\n",
    "Example:\n",
    "i = 1\n",
    "while i < 5:\n",
    "  i += 1\n",
    "```\n",
    "\n",
    "Example: \n",
    "\n",
    "```Python\n",
    "a = 1\n",
    "\n",
    "while a < 10:\n",
    "    a += 1\n",
    "    print(a)\n",
    "```\n",
    "\n",
    "\n",
    "\n",
    "#### For Loop\n",
    "The For loop works in a similar way as the while loop. Please put emphasis on the syntax here. We will using the \n",
    "'in' operator for the function of this loop.\n",
    "\n",
    "Syntax:\n",
    "\n",
    "range(1, 10) -- generates a list of numbers from 1 to 10\n",
    "\n",
    "for i in range(1, 10):\n",
    "\n",
    "   statements\n",
    "\n",
    "\n",
    "Example:\n",
    "```Python\n",
    "for i in range(1, 11):\n",
    "    print(i)\n",
    "```\n",
    "Ref: https://docs.python.org/3/tutorial/controlflow.html\n",
    "\n",
    "\n",
    "### Exercise\n",
    "Given: <br>\n",
    "```Python\n",
    "array = [1,'a',2,'b','3',4]\n",
    "array2 = []\n",
    "```\n",
    "<ol>\n",
    "    <li>Use a For Loop Reversely to add the values in array2</li>\n",
    "    <li>Empty out array</li>\n",
    "    <li>Use a While Loop reversely to add the values from array2 to array</li>\n",
    "</ol>"
   ]
  },
  {
   "cell_type": "code",
   "execution_count": 1,
   "metadata": {
    "tags": [
     "l2",
     "ce",
     "s2"
    ]
   },
   "outputs": [],
   "source": [
    "# Write Your solution here\n",
    "array = [1,'a',2,'b','3',4]\n",
    "array2 = []"
   ]
  },
  {
   "cell_type": "markdown",
   "metadata": {
    "hide_input": true,
    "tags": [
     "l2",
     "s2",
     "ans"
    ]
   },
   "source": [
    "### Solution Code\n",
    "```Python\n",
    "array = [1,'a',2,'b','3',4]\n",
    "array2 = []\n",
    "for i in range(len(array)-1, -1, -1):\n",
    "    array2.append(array[i])\n",
    "print(array2)\n",
    "array = []\n",
    "i = len(array2)-1 \n",
    "while 0 <= i:\n",
    "    array.append(array2)\n",
    "    i -= 1\n",
    "print(array2)\n",
    "```"
   ]
  },
  {
   "cell_type": "markdown",
   "metadata": {},
   "source": [
    "### Comprehension\n",
    "Comprehension expressions are described as one line loops in python. These comprehensions help in reducing the verbosity for simple loopes \n",
    "\n",
    "Syntax\n",
    "```\n",
    "a = [do something(i) for i in array (if condition - optional)]\n",
    "```\n",
    "Example\n",
    "```Python\n",
    "a = [1,2,3]\n",
    "a = [i+1 for i in a]\n",
    "```\n",
    "Exercise\n",
    "```Python\n",
    "arr = ['1', 2, '4', '5', 65,'100']\n",
    "sum_var = 0\n",
    "```\n",
    "Convert all the string elements and then sum them up and sum_var<br>\n",
    "<b>sum()</b> is used to add all the elements in the array "
   ]
  },
  {
   "cell_type": "code",
   "execution_count": 2,
   "metadata": {},
   "outputs": [],
   "source": [
    "# Write your Solution here\n",
    "arr = ['1', 2, '4', '5', 65,'100']\n",
    "sum_var = 0"
   ]
  },
  {
   "cell_type": "markdown",
   "metadata": {},
   "source": [
    "### Solution\n",
    "```Python\n",
    "arr = ['1', 2, '4', '5', 65,'100']\n",
    "sum_var = 0\n",
    "sum_var = sum([int(i) for i in arr if type(i) is str])\n",
    "sum_var\n",
    "```"
   ]
  },
  {
   "cell_type": "markdown",
   "metadata": {},
   "source": [
    "### Loop Control\n",
    "In Python there is a certain way to restrict/limit the number of iteration a for/while loop can go through. Essentially, these are designed to manipulate the control flow of a loop.\n",
    "\n",
    "#### Break\n",
    "Helps Breaking the loop on a certain condition(s)\n",
    "\n",
    "Syntax:\n",
    "```\n",
    "while condition:\n",
    "    if condition:\n",
    "        break\n",
    "\n",
    "for i in range():\n",
    "    if i is condition:\n",
    "        break\n",
    "```\n",
    "\n",
    "Example:\n",
    "```Python\n",
    "i = 0\n",
    "while i < 10:\n",
    "    if i > 3:\n",
    "        break\n",
    "    print(i)\n",
    "    i = i+1\n",
    "\n",
    "for i in range(10):\n",
    "    if i > 3:\n",
    "        break\n",
    "    print(i)\n",
    "```\n",
    "\n",
    "#### Continue\n",
    "Continue's functionality is somewhat opposite to break, where it lets the loop iterate and the moment the compiler reads it, the compiler continues to the next iteration\n",
    "\n",
    "Syntax:\n",
    "```\n",
    "while condition:\n",
    "    if condition:\n",
    "        continue\n",
    "        \n",
    "for i in range():\n",
    "    if condition:\n",
    "        continue\n",
    "```\n",
    "\n",
    "Example:\n",
    "```Python\n",
    "i = 0\n",
    "while i < 5:\n",
    "    if i == 3:\n",
    "        i = i + 1\n",
    "        continue\n",
    "    print(i)\n",
    "    i = i + 1\n",
    "    \n",
    "for i in range(5):\n",
    "    if i == 3:\n",
    "        continue\n",
    "    print(i)\n",
    "```\n",
    "\n",
    "#### Exercise \n",
    "```Python\n",
    "a = [100, -220, 113, -50, 65, -70, -10, 15, 65]\n",
    "```\n",
    "Add +ve ints until the sum becomes larger than 250"
   ]
  },
  {
   "cell_type": "code",
   "execution_count": 1,
   "metadata": {},
   "outputs": [],
   "source": [
    "# Write your Solution here\n",
    "arr = [100, -220, 113, -50, 65, -70, -10, 15, 65]\n",
    "sum_var = 0"
   ]
  },
  {
   "cell_type": "markdown",
   "metadata": {},
   "source": [
    "```Python\n",
    "arr = [100, -220, 113, -50, 65, -70, -10, 15, 65]\n",
    "sum_var = 0\n",
    "for i in arr:\n",
    "    if i < 0:\n",
    "        continue\n",
    "    if sum_var > 250:\n",
    "        break\n",
    "    \n",
    "    sum_var += i\n",
    "```"
   ]
  },
  {
   "cell_type": "markdown",
   "metadata": {
    "tags": [
     "l3",
     "s3",
     "content"
    ]
   },
   "source": [
    "## Decision Making\n",
    "\n",
    "Decision Making is to execute a set of statements based on the validation of a condition. The decision making in Python involves an 'if' condition that is written as:\n",
    "\n",
    "Syntax:\n",
    "\n",
    "\n",
    "if condition:\n",
    "\n",
    "  statements\n",
    "\n",
    "Ref: https://docs.python.org/3/tutorial/controlflow.html\n",
    "\n",
    "#### Exercise\n",
    "\n",
    "Push even numbers in [0, 10] to the list variable even_numbers\n",
    "\n",
    "print even_numbers"
   ]
  },
  {
   "cell_type": "code",
   "execution_count": 6,
   "metadata": {
    "collapsed": true,
    "tags": [
     "l3",
     "s3",
     "ce"
    ]
   },
   "outputs": [],
   "source": [
    "even_numbers = []\n",
    "x = range(0, 10)"
   ]
  },
  {
   "cell_type": "markdown",
   "metadata": {
    "hide_input": true,
    "tags": [
     "l3",
     "s3",
     "hint"
    ]
   },
   "source": [
    "### Solution code\n",
    "\n",
    "```python\n",
    "\n",
    "for i in x:\n",
    "    if (i%2) == 0:\n",
    "        even_numbers.append(i)\n",
    "print(even_numbers)\n",
    "\n",
    "```"
   ]
  },
  {
   "cell_type": "markdown",
   "metadata": {},
   "source": [
    "## If-elif-else\n",
    "\n",
    "An advanced approach to decision making will be to have multiple conditions checked. Here we use an 'if...elif...else' construct that is written as:\n",
    "\n",
    "Syntax:\n",
    "\n",
    "\n",
    "if condition:\n",
    "\n",
    "  statement(s)\n",
    "elif:\n",
    "  statement(s)\n",
    ".\n",
    ".\n",
    ".\n",
    "elif\n",
    "  statement(s)\n",
    "\n",
    "\n",
    "Ref: https://docs.python.org/3/reference/compound_stmts.html#if\n",
    "\n",
    "#### Exercise\n",
    "\n",
    "In a range of numbers [0, 10] add numbers to the lists divisible_by_2, divisible_by_3, divisible_by_5 when a given number is divisible by 2,3 or 5 (lowest divisor) respectively.\n"
   ]
  },
  {
   "cell_type": "code",
   "execution_count": 4,
   "metadata": {
    "collapsed": true
   },
   "outputs": [],
   "source": [
    "x = range(1, 10)"
   ]
  },
  {
   "cell_type": "markdown",
   "metadata": {
    "hide_input": true
   },
   "source": [
    "### Solution code\n",
    "\n",
    "```python\n",
    "\n",
    "for i in x:\n",
    "    if (i%2) == 0:\n",
    "        print(\"{} is divisible by 2\".format(i))\n",
    "    elif(i%3) == 0:\n",
    "        print(\"{} is divisible by 3\".format(i))\n",
    "    elif(i%5) == 0:\n",
    "        print(\"{} is divisible by 5\".format(i))\n",
    "    else:\n",
    "        print(\"{} is not divisible by any of the numbers 2,3 or 5\".format(i))\n",
    "\n",
    "```"
   ]
  }
 ],
 "metadata": {
  "celltoolbar": "Edit Metadata",
  "executed_sections": [],
  "kernelspec": {
   "display_name": "Python 3",
   "language": "python",
   "name": "python3"
  },
  "language_info": {
   "codemirror_mode": {
    "name": "ipython",
    "version": 3
   },
   "file_extension": ".py",
   "mimetype": "text/x-python",
   "name": "python",
   "nbconvert_exporter": "python",
   "pygments_lexer": "ipython3",
   "version": "3.6.5"
  },
  "rf_version": 1
 },
 "nbformat": 4,
 "nbformat_minor": 2
}
