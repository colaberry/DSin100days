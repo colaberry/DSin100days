{
 "cells": [
  {
   "cell_type": "markdown",
   "metadata": {},
   "source": [
    "### Lab : Install Jupyter and Create a Notebook \n",
    "\n",
    "In this lab, you are required to:\n",
    "\n",
    "* Install Jupyter on you local system. (You can do a standalone installation, but Anaconda distribution is recommended)\n",
    "* Run \"jupyter notebook\"\n",
    "* Create a new python3 notebook, with the following contents: <br>\n",
    "    1st Cell -  A markdown cell with Heading1 as \"My First Notebook\" <br>\n",
    "    2nd Cell -  A code cell with one line \"print('Hello World!')\" <br>\n",
    "* Run All cells and Save\n"
   ]
  }
 ],
 "metadata": {
  "kernelspec": {
   "display_name": "Python 3",
   "language": "python",
   "name": "python3"
  },
  "language_info": {
   "codemirror_mode": {
    "name": "ipython",
    "version": 3
   },
   "file_extension": ".py",
   "mimetype": "text/x-python",
   "name": "python",
   "nbconvert_exporter": "python",
   "pygments_lexer": "ipython3",
   "version": "3.6.8"
  }
 },
 "nbformat": 4,
 "nbformat_minor": 2
}
