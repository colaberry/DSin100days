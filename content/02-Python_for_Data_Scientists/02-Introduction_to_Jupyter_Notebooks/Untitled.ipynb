{
 "cells": [
  {
   "cell_type": "code",
   "execution_count": 1,
   "metadata": {},
   "outputs": [
    {
     "ename": "SyntaxError",
     "evalue": "invalid syntax (<ipython-input-1-90a279445e63>, line 14)",
     "output_type": "error",
     "traceback": [
      "\u001b[1;36m  File \u001b[1;32m\"<ipython-input-1-90a279445e63>\"\u001b[1;36m, line \u001b[1;32m14\u001b[0m\n\u001b[1;33m    Example of date strings\u001b[0m\n\u001b[1;37m             ^\u001b[0m\n\u001b[1;31mSyntaxError\u001b[0m\u001b[1;31m:\u001b[0m invalid syntax\n"
     ]
    }
   ],
   "source": [
    "from datetime import datetime\n",
    "import pandas_datareader.data as web\n",
    "\n",
    "# Importing the dataset\n",
    "df = web.DataReader(\"aapl\", 'morningstar',\n",
    "                    datetime(2015, 1, 1),\n",
    "                    datetime(2016, 7, 1)).reset_index()\n",
    "\n",
    "# Creating Scatter object with series of datetime objects as x and series of daily highs of Apple's stock as y\n",
    "data = [go.Scatter(x=df.Date, y=df.High)]\n",
    "\n",
    "# Visualizing the plot\n",
    "ofl.iplot(data)\n",
    "Example of date strings\n",
    "\n",
    "# Importing pandas to read from csv file\n",
    "import pandas as pd\n",
    "\n",
    "df = pd.read_csv(\"https://raw.githubusercontent.com/plotly/datasets/master/finance-charts-apple.csv\")\n",
    "\n",
    "# Creating Scatter object with series of datetime objects as x and series of closing price of Apple's stock as y\n",
    "data = [go.Scatter(\n",
    "          x=df.Date,\n",
    "          y=df['AAPL.Close'])]\n",
    "\n",
    "ofl.iplot(data)"
   ]
  },
  {
   "cell_type": "code",
   "execution_count": null,
   "metadata": {},
   "outputs": [],
   "source": []
  }
 ],
 "metadata": {
  "kernelspec": {
   "display_name": "Python 3",
   "language": "python",
   "name": "python3"
  },
  "language_info": {
   "codemirror_mode": {
    "name": "ipython",
    "version": 3
   },
   "file_extension": ".py",
   "mimetype": "text/x-python",
   "name": "python",
   "nbconvert_exporter": "python",
   "pygments_lexer": "ipython3",
   "version": "3.6.5"
  }
 },
 "nbformat": 4,
 "nbformat_minor": 2
}
