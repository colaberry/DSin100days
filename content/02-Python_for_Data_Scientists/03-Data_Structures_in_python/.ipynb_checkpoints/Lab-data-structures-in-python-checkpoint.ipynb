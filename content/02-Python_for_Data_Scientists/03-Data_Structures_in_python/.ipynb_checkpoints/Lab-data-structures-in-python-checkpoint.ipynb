{
 "cells": [
  {
   "cell_type": "markdown",
   "metadata": {},
   "source": [
    "## Grocery List\n",
    "\n",
    "Given a grocery list with the items and quantity, for 3 friends Alice, Bob and Charlie. You are also provided a price list for all the items. Write a python program to calculate the total bill amount for Alice, Bob, and Charlie and save it in a dictionary object.\n",
    "\n",
    "Input Example: grocery_list = {\"Alice\" : {\"Apples\": 10 , \"Bananas\" : 5}}\n",
    "\n",
    "price_list = {\"Apples\" : 1.00, \"Bananas\" : 0.50}\n",
    "\n",
    "Output Example:\n",
    "bills = {\"Alice\" : 12.50}"
   ]
  },
  {
   "cell_type": "code",
   "execution_count": 1,
   "metadata": {
    "collapsed": true
   },
   "outputs": [],
   "source": [
    "#Data \n",
    "grocery_list = {\"Alice\" : {\"Apples\": 3 , \"Bananas\" : 2, \"Potatoes\": 20 , \"Tomatoes\" : 20} , \"Bob\" : {\"Apples\": 15 , \"Bananas\" : 8, \"Potatoes\": 6 }, \"Charlie\" : {\"Apples\": 20 , \"Bananas\" : 12, \"Tomatoes\" : 18}}\n",
    "price_list = {\"Apples\" : 1.00, \"Bananas\" : 0.50 , \"Potatoes\": 2.00 , \"Tomatoes\" : 5.50}\n"
   ]
  }
 ],
 "metadata": {
  "kernelspec": {
   "display_name": "Python 3",
   "language": "python",
   "name": "python3"
  },
  "language_info": {
   "codemirror_mode": {
    "name": "ipython",
    "version": 3
   },
   "file_extension": ".py",
   "mimetype": "text/x-python",
   "name": "python",
   "nbconvert_exporter": "python",
   "pygments_lexer": "ipython3",
   "version": "3.6.8"
  }
 },
 "nbformat": 4,
 "nbformat_minor": 1
}
