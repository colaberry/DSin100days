{
 "cells": [
  {
   "cell_type": "markdown",
   "metadata": {},
   "source": [
    "## Python Lists\n",
    "\n",
    "Python lists are equivalent to arrays. For example:\n",
    "\n",
    "fruits = [\"Mango\", \"Banana\", \"Apple\", \"Orange\"]\n",
    "\n",
    "Python lists can have multiple types of objects. For example:\n",
    "\n",
    "mixed_list = [\"Apple\", 3, 25.68, \"This is a mixed list\"]\n",
    "\n",
    "### Exercise\n",
    "\n",
    "Create a list vegetables with Tomato, Spinach, Asparagus, Lettuce and Jalapenos as the elements and print the list out"
   ]
  },
  {
   "cell_type": "code",
   "execution_count": 12,
   "metadata": {
    "collapsed": true,
    "tags": [
     "l2",
     "ce",
     "s2"
    ]
   },
   "outputs": [],
   "source": [
    "# Create a list of vegetables\n",
    "# Use 'vegetables' as the variable name of the list.\n"
   ]
  },
  {
   "cell_type": "markdown",
   "metadata": {
    "collapsed": true,
    "hide_input": true,
    "tags": [
     "l2",
     "s2",
     "hint"
    ]
   },
   "source": [
    "## Solution\n",
    "\n",
    "```python\n",
    "\n",
    "vegetables = [\"Tomato\", \"Spinach\", \"Asparagus\", \"Lettuce\", \"Jalapenos\"]\n",
    "print (vegetables)\n",
    "\n",
    "```"
   ]
  },
  {
   "cell_type": "markdown",
   "metadata": {
    "tags": [
     "l3",
     "s3",
     "content"
    ]
   },
   "source": [
    "## Indexing in a list\n",
    "\n",
    "You can access the objects with the indices:\n",
    "\n",
    "To access the first object:\n",
    "\n",
    "```python\n",
    "fruits[0]\n",
    "# Output\n",
    ">>> 'Mango'\n",
    "```\n",
    "\n",
    "To access the last object, esp when the length of the list is large, a useful index method is to use negative index that refers to objects from the end of the list:\n",
    "\n",
    "```python\n",
    "fruits[-1]\n",
    "# Output\n",
    ">>> 'Orange'\n",
    "```\n",
    "\n",
    "The flexibility of python is that it can contain various objects of different types unlike many other languages:\n",
    "\n",
    "```python\n",
    "collection = [\"cost\", 100, \"Apples\", 5.0]\n",
    "```\n",
    "\n",
    "Ref: https://docs.python.org/3/tutorial/datastructures.html\n",
    "\n",
    "<img src=\"https://s3.amazonaws.com/rfv2/list.png\" style=\"width: 170px;\">\n",
    "\n",
    "### Exercise\n",
    "\n",
    "* Retrieve the third element in the vegetables list created before and assign it to variable, veg_2\n",
    "* Retrieve the last element using the negative index and assign it to the varible veg_1\n",
    "* Print out veg_1 and veg_2 variables"
   ]
  },
  {
   "cell_type": "code",
   "execution_count": 16,
   "metadata": {
    "collapsed": true,
    "tags": [
     "l3",
     "s3",
     "ce"
    ]
   },
   "outputs": [],
   "source": [
    "# Use the indexing to retrieve the variables You don't have to re-initialize the variable 'vegetables' here, as it is already initialized by you in the previous exercise and available in memory for you to reuse through out this lesson.\n",
    "# Index of a list starts with 0"
   ]
  },
  {
   "cell_type": "markdown",
   "metadata": {
    "collapsed": true,
    "hide_input": true,
    "tags": [
     "l3",
     "s3",
     "hint"
    ]
   },
   "source": [
    "## Solution\n",
    "\n",
    "```python\n",
    "\n",
    "veg_2 = vegetables[2]\n",
    "veg_1 = vegetables[-1]\n",
    "print (veg_2, veg_1)\n",
    "\n",
    "```"
   ]
  },
  {
   "cell_type": "markdown",
   "metadata": {},
   "source": [
    "## Useful indexing tricks\n",
    "\n",
    "Inexing in Python is really advanced and helps retrieve elements of a list in more than just the traditional way. We have seen some simple indexing above. In this section we will have a look at some advanced indexing which would help retrieve elements satisfying some simple conditions.\n",
    "\n",
    "### The colon and string reversal using indexing\n",
    "\n",
    "In most programming languages a string is a list/array of characters. So the string reversal operations are the same (or similar) to array or list reversal.\n",
    "\n",
    "The colon plays an important part in indexing in Python.\n",
    "* Using a single colon to separate two indices: The number on the left side of the colon is the lower index (generally inclusive) and the number on the right side of the colon is the upper index (generally exclusive). This notation retrieves all elements of the list starting from the lower index up to the upper index.\n",
    "* Using two colons to separate two indices and an iterator: A second colon can be used to separate the upper index with an iterator. The iterator is a number which determines the increment the index will take while traversing the list/array. By default this number is '1', so the index increases one place at a time, i.e., next index = previous index + increment.\n",
    "\n",
    "```python\n",
    "# Single colon example\n",
    "\n",
    "a = [1,2,3,4,5,6,8,10] # Defining the list\n",
    "a[2:6] # 2 is lower index and 6 is upper index\n",
    "\n",
    ">>> [3, 4, 5, 6] # Output\n",
    "\n",
    "# Double colon example\n",
    "\n",
    "a = [1,2,3,4,5,6,8,10] # Defining the list\n",
    "a[2:6:2] # 2 is lower index and 6 is upper index and 2 is iterator/increment in index\n",
    "\n",
    ">>> [3, 5] # Output\n",
    "\n",
    "# Another double colon example\n",
    "\n",
    "a = [1,2,3,4,5,6,8,10] # Defining the list\n",
    "a[::2] # 0 is lower index and len(a)-1 is upper index and 2 is iterator/increment in index\n",
    "\n",
    ">>> [1, 3, 5, 8] # Output\n",
    "\n",
    "# Yet another example\n",
    "\n",
    "a = [1,2,3,4,5,6,8,10] # Defining the list\n",
    "a[1::2] # 1 is lower index and len(a)-1 is upper index and 2 is iterator/increment in index\n",
    "\n",
    ">>> [2, 4, 6, 10] # Output\n",
    "```\n",
    "\n",
    "Now, what would happen if the iterator were to be set to a negative number, say -1. The list would be traversed and elements retrieved in a reverse order. This is how we can actually perform a list/string reversal.\n",
    "\n",
    "```python\n",
    "# List reversal example\n",
    "\n",
    "a = [1,2,3,4,5,6,8,10] # Defining the list\n",
    "a[::-1] # 0 is lower index and len(a)-1 is upper index and -1 is iterator/increment in index; Traverse list in reverse order\n",
    "\n",
    ">>> [10, 8, 6, 5, 4, 3, 2, 1] # Output\n",
    "```\n",
    "\n",
    "#### Exercise\n",
    "\n",
    "Given two lists: a = [36,21,6,23,77,14,7,24,4,13] and b = [48,14,1,3,63,23,24,53,21,59]\n",
    "* Starting from the first element of list a, retrieve every third element of the list. Print the result.\n",
    "* Starting from the first element of list b, select every alternate element of the list, in reverse order. Print the result.\n",
    "* Retrieve every alternate number, starting from first element from list a and every alternate element, starting from second element from list b, subtract elements of list b from list a and print both the lists."
   ]
  },
  {
   "cell_type": "code",
   "execution_count": null,
   "metadata": {
    "ExecuteTime": {
     "end_time": "2018-08-21T15:27:04.689739Z",
     "start_time": "2018-08-21T15:27:04.599973Z"
    },
    "collapsed": true
   },
   "outputs": [],
   "source": []
  },
  {
   "cell_type": "markdown",
   "metadata": {
    "hide_input": true
   },
   "source": [
    "### Solution code\n",
    "\n",
    "```python\n",
    "a = [36,21,6,23,77,14,7,24,4,13]\n",
    "print(a[::3])\n",
    "\n",
    "b = [48,14,1,3,63,23,24,53,21,59]\n",
    "print(b[::-2])\n",
    "\n",
    "\n",
    "print(a[::2],\"\\n\",b[1::2])\n",
    "```"
   ]
  },
  {
   "cell_type": "markdown",
   "metadata": {
    "tags": [
     "l4",
     "s4",
     "content"
    ]
   },
   "source": [
    "## List As Stack\n",
    "\n",
    "<img src=\"https://s3.amazonaws.com/rfv2/stack.png\" style=\"width: 350px;\">\n",
    "A list in python can be used as a stack and is flexible to support stack operations such as push and pop.\n",
    "\n",
    "#### Push\n",
    "\n",
    "Use the .append() command to push objects to a list.\n",
    "\n",
    "#### Pop\n",
    "\n",
    "Use the .pop() command to pop objects from a list.\n",
    "\n",
    "### Exercise\n",
    "\n",
    "* Use Stack operations on the vegetables list to first pop Jalapenos off the list, and then add Celery. Print the new list out.\n",
    "\n"
   ]
  },
  {
   "cell_type": "code",
   "execution_count": 20,
   "metadata": {
    "collapsed": true,
    "tags": [
     "l4",
     "s4",
     "ce"
    ]
   },
   "outputs": [],
   "source": [
    "vegetables = [\"Tomato\", \"Spinach\", \"Asparagus\", \"Lettuce\", \"Jalapenos\"]\n",
    "\n",
    "# We recommend re-initializing variable 'vegetables' with Tomato, Spinach, Asparagus, Lettuce and Jalapenos at the beginning of this exercise. When you run the code push and pop operations change the data in the vegetables list. If you do not initialize the variable vegetables, when you execute the same code multiple times, you might get different results as the new code gets executed on changed list.\n",
    "# Re-initialize the vegetables list by going back to the previous exercise and running it again or create a new vegetables list with in this exercise.\n",
    "# Do this re-inializing step first, before each time you run the pop operation.\n",
    "# pop jalapenos, push celery and print\n"
   ]
  },
  {
   "cell_type": "markdown",
   "metadata": {
    "collapsed": true,
    "hide_input": true,
    "tags": [
     "s4",
     "l4",
     "hint"
    ]
   },
   "source": [
    "## Solution\n",
    "\n",
    "```python\n",
    "\n",
    "vegetables.pop(-1)\n",
    "vegetables.append(\"Celery\")\n",
    "vegetables\n",
    "\n",
    "```"
   ]
  },
  {
   "cell_type": "markdown",
   "metadata": {
    "tags": [
     "l5",
     "content",
     "s5"
    ]
   },
   "source": [
    "## List As Queue\n",
    "\n",
    "A queue is a data structure similar to real-life queue systems. A queue follows FIFO process, i.e. First-in-First-out, for insertion and deletion of elements. For example, lets assume one end of a queue to be front and the other to be rear end. When the first element is inserted in this queue, because it is the only element present, it faces both front and rear end. But when the second element is inserted, this element faces the front end and the first element takes the rear end. From then on, every element that gets added faces the front end and the first element remains at the rear end, till its deleted. After its deletion, the second element takes rear end.\n",
    "\n",
    "Python lists can be used as queues as well. The collections module contains a function called 'deque'. It converts any list variable into a 'double-ended queue'. Once the variable is converted into a double ended queue, elements can be added using the 'append' operation and deleted using the 'pop' operation in the FIFO (First-In-First-Out) order. The insertion of an element or the enqueue(append) operation is illustrated in the diagram below:\n",
    "\n",
    "<img src=\"https://s3.amazonaws.com/rfv2/enqueue.png\" style=\"width: 350px;\">\n",
    "\n",
    "Below given example code shows 'pop' operation on a list.\n",
    "\n",
    "from collections import deque\n",
    "\n",
    "fruit_queue = deque([\"Apples\", \"Oranges\", \"Mango\"])\n",
    "fruit_queue.append(\"Banana\")        \n",
    "fruit_queue.popleft()  \n",
    "\n",
    "The output of the block of code given above is:\n",
    "'Apples'. The 'popleft' operation works by removing the first inserted element first (FIFO - First In, First Out) as shown below;\n",
    "\n",
    "<img src=\"../../../images/deque.png\" style=\"width: 350px;\">\n",
    "\n",
    "### Exercise\n",
    "\n",
    "Convert the vegetables list into a queue with the name 'vegetables_queue' and pop the leftmost element. Print the remaining queue."
   ]
  },
  {
   "cell_type": "code",
   "execution_count": 24,
   "metadata": {
    "collapsed": true,
    "tags": [
     "l5",
     "ce",
     "s5"
    ]
   },
   "outputs": [],
   "source": [
    "from collections import deque\n",
    "vegetables = [\"Tomato\", \"Spinach\", \"Asparagus\", \"Lettuce\", \"Jalapenos\"]\n",
    "vegetables.pop(-1)\n",
    "vegetables.append(\"Celery\")\n",
    "# Read the code examples given in 'List as queue' lesson and apply the same\n",
    "#enter your code here"
   ]
  },
  {
   "cell_type": "markdown",
   "metadata": {
    "collapsed": true,
    "hide_input": true,
    "tags": [
     "l5",
     "s5",
     "hint"
    ]
   },
   "source": [
    "\n",
    "## Solution\n",
    "\n",
    "```python\n",
    "\n",
    "vegetables_queue = deque(vegetables)\n",
    "vegetables_queue.popleft()\n",
    "print(vegetables_queue)\n",
    "\n",
    "```"
   ]
  },
  {
   "cell_type": "markdown",
   "metadata": {},
   "source": [
    "### Nested Lists\n",
    "\n",
    "When each element of a list is itself a list, such a structure is called a nested list.  \n",
    "In real-world data processing you may often need to write programs to store tabular data, such as a set of rows and columns. You may also have the need to create a list where each element of the list is in turn a list. A nested list could have multiple levels.  \n",
    "A simple list of lists, where all elements are homogenous (same data type) in nature is similar to a two-dimensional array. In Python any table can be represented as a list of lists or nested list. \n",
    "\n",
    "An example code on creation of a list of lists, is given below:\n",
    "```python\n",
    "# A list of lists\n",
    "list_of_lists = [[1, 2, 3], [4, 5, 6]]\n",
    "\n",
    "# Printing first sub-list\n",
    "print(list_of_lists[0])\n",
    "# Output\n",
    ">>> [1, 2, 3]\n",
    "\n",
    "# Printing second sub-list\n",
    "print(list_of_lists[1])\n",
    "# Output\n",
    ">>> [4, 5, 6]\n",
    "```\n",
    "As you can see in the example, the sub-lists, i.e.,the lists inside the outer list can be accessed just like any other element, using the indices. In order to access the element within the nested list, we use another set of braces and the second index to indicate the position in the nested list.\n",
    "\n",
    "For example:\n",
    "```python\n",
    "# A list of lists\n",
    "list_of_lists = [[1, 2, 3], [4, 5, 6]]\n",
    "\n",
    "# Printing second element in second list\n",
    "print(list_of_lists[1][1])\n",
    "# Output\n",
    ">>> 5\n",
    "\n",
    "# Printing third element in first list\n",
    "print(list_of_lists[0][2])\n",
    "# Output\n",
    ">>> 3\n",
    "```\n",
    "\n",
    "The number of indices increases as the dimensionality (level of nesting) goes up. For a 3-level nested list, there will be 3 indices to access elements on the lowest level. Use of single index will return a 2-level nested list, use of 2 indices will return a list, and use of all 3 indices will return an element in the inner most list.\n",
    "\n",
    "Example:\n",
    "```python\n",
    "# A list of lists\n",
    "list_of_lists = [[[1, 2, 3], [4, 5, 6]], [[7, 8, 9], [10, 11, 12]], [[13, 14, 15], [16, 17, 18]]]\n",
    "\n",
    "# Printing the second 2-level nested list\n",
    "print(list_of_lists[1])\n",
    "# Output\n",
    ">>> [[7, 8, 9], [10, 11, 12]]\n",
    "\n",
    "# Printing the second list in the second 2-level nested list\n",
    "print(list_of_lists[1][1])\n",
    "# Output\n",
    ">>> [10, 11, 12]\n",
    "\n",
    "# Printing the second element of the second list in the second 2-level nested list\n",
    "print(list_of_lists[1][1][1])\n",
    "# Output\n",
    ">>> 11\n",
    "```\n",
    "Ref: https://docs.python.org/3.6/tutorial/datastructures.html#nested-list-comprehensions\n",
    "\n",
    "#### Exercise\n",
    "\n",
    "A 2-level nested list, is equivalent to a 2-dimensional array and is commonly known as a 'matrix'.\n",
    "Given a list of lists matrix = [[1, 5, 9], [2, 6, 10], [3, 7, 11], [4, 8, 12]], write a simple python program to swap the position of the second element of the last list with the third element of the first list.\n",
    "\n",
    "You may use another (temporary storage) variable 'temp' to perform the swap."
   ]
  },
  {
   "cell_type": "code",
   "execution_count": 38,
   "metadata": {
    "ExecuteTime": {
     "end_time": "2018-08-24T13:57:35.871070Z",
     "start_time": "2018-08-24T13:57:35.864096Z"
    }
   },
   "outputs": [
    {
     "name": "stdout",
     "output_type": "stream",
     "text": [
      "[[1, 5, 8], [2, 6, 10], [3, 7, 11], [4, 9, 12]]\n"
     ]
    }
   ],
   "source": [
    "# data\n",
    "matrix = [[1, 5, 9], [2, 6, 10], [3, 7, 11], [4, 8, 12]]"
   ]
  },
  {
   "cell_type": "markdown",
   "metadata": {
    "hide_input": true
   },
   "source": [
    "\n",
    "## Solution\n",
    "\n",
    "```python\n",
    "# the simple swap\n",
    "temp = matrix[3][1]\n",
    "matrix[3][1] = matrix[0][2]\n",
    "matrix[0][2] = temp\n",
    "\n",
    "print(matrix)\n",
    "```"
   ]
  }
 ],
 "metadata": {
  "anaconda-cloud": {},
  "celltoolbar": "Edit Metadata",
  "executed_sections": [],
  "kernelspec": {
   "display_name": "Python 3",
   "language": "python",
   "name": "python3"
  },
  "language_info": {
   "codemirror_mode": {
    "name": "ipython",
    "version": 3
   },
   "file_extension": ".py",
   "mimetype": "text/x-python",
   "name": "python",
   "nbconvert_exporter": "python",
   "pygments_lexer": "ipython3",
   "version": "3.7.0"
  }
 },
 "nbformat": 4,
 "nbformat_minor": 2
}
