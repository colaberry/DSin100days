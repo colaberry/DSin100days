{
 "cells": [
  {
   "cell_type": "markdown",
   "metadata": {},
   "source": [
    "### Lab : Create a Library \n",
    "\n",
    "In this lab, you are required to create your own libary as described below:\n",
    "\n",
    "* Create a library with name \"dsin100\"\n",
    "* Within the library Write a module with a class name \"Greetings\"\n",
    "* The class must have a function definition \"sayHello\" that takes a name and prints the following:\n",
    "   \"Hello <name>, Welcome to DSin100 Class\"\n",
    "* Install the library in you local python environment.\n",
    "* After restarting your jupyter notebook open this notebook.\n",
    "* In the notebook, Import this library, call the sayHello method within Greetings class and pass your name.\n",
    "\n",
    "\n",
    "You are required to to take a screenshot of this notebook (with output) and submit for evaluation."
   ]
  },
  {
   "cell_type": "code",
   "execution_count": 1,
   "metadata": {},
   "outputs": [],
   "source": [
    "#Write your solution below:"
   ]
  }
 ],
 "metadata": {
  "kernelspec": {
   "display_name": "Python 3",
   "language": "python",
   "name": "python3"
  },
  "language_info": {
   "codemirror_mode": {
    "name": "ipython",
    "version": 3
   },
   "file_extension": ".py",
   "mimetype": "text/x-python",
   "name": "python",
   "nbconvert_exporter": "python",
   "pygments_lexer": "ipython3",
   "version": "3.6.8"
  }
 },
 "nbformat": 4,
 "nbformat_minor": 2
}
