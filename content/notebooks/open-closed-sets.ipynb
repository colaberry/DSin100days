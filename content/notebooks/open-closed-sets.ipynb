{
 "cells": [
  {
   "cell_type": "markdown",
   "metadata": {
    "tags": [
     "s1",
     "content",
     "l1"
    ]
   },
   "source": [
    "## Open Ball\n",
    "\n",
    "Let $X$ represent the metric space with distance function $d$. Consider a point $x \\in X$ and radius $r$, where $r$ is a real number > 0. An open ball, denoted as $B(x,r)$, is a set of all points $y \\in X$ such that the distance between $x$ and $y$ is strictly less than $r$. \n",
    "\n",
    "$B(x,r) \\quad=\\quad \\{\\,y \\in X \\,\\,|\\,\\, d(x,y) < r\\,\\}$\n",
    "\n",
    "The image below depicts an open ball using a dashed line, because it does not include the boundary $r$.\n",
    "\n",
    "<img src=\"../images/openball.png\" style=\"width: 700px;\">\n",
    "\n",
    "## Open and Closed Sets\n",
    "\n",
    "Let $M$ represent the metric space with distance function $d$. A set $X \\subseteq M$ is open if for every element $ x \\in X $, there exists a $\\delta$ > 0 such that $B(x, \\delta) \\subset X$. $\\delta$ is a function of $x$.\n",
    "\n",
    "A set $C \\subset M$ is closed, if the complement $C^c = M-C$ is open.\n",
    "\n",
    "The image below shows the concept of open and closed sets. For every element $x$ in $X$, there exists an open ball $B(x,\\delta)$, such that the ball lies entirely within $X$. Note that X is an open set is depicted by dashed line. \n",
    "$X^c$, the complement of X, which is every element in $M$ that is not in $X$, is a closed set and it includes the boundary of $X$, as shown by the orange line. \n",
    "\n",
    "<img src=\"../images/set.png\" style=\"width: 700px;\">\n",
    "\n",
    "\n",
    "## Neighborhood\n",
    "\n",
    "$N$ is a neighborhood of $y \\in Y$, if $y \\in N$ and there exists $\\varepsilon > 0$ such that $B(y,\\varepsilon) \\subseteq N$.\n",
    "\n",
    "The image below shows the element $y$ in $Y$ and its neighborhood $N$. The open ball $B(y,\\varepsilon)$ is contained in $N$.\n",
    "\n",
    "<img src=\"../images/neighbor.png\" style=\"width:700px;\">\n",
    "\n",
    "\n"
   ]
  },
  {
   "cell_type": "code",
   "execution_count": null,
   "metadata": {
    "collapsed": true,
    "tags": [
     "s1",
     "ce",
     "l1"
    ]
   },
   "outputs": [],
   "source": []
  },
  {
   "cell_type": "code",
   "execution_count": null,
   "metadata": {
    "collapsed": true,
    "tags": [
     "s1",
     "l1",
     "hint"
    ]
   },
   "outputs": [],
   "source": []
  },
  {
   "cell_type": "code",
   "execution_count": null,
   "metadata": {
    "collapsed": true,
    "tags": [
     "s1",
     "l1",
     "ans"
    ]
   },
   "outputs": [],
   "source": []
  },
  {
   "cell_type": "code",
   "execution_count": null,
   "metadata": {
    "collapsed": true,
    "tags": [
     "s1",
     "hid",
     "l1"
    ]
   },
   "outputs": [],
   "source": []
  }
 ],
 "metadata": {
  "executed_sections": [],
  "kernelspec": {
   "display_name": "Python 3",
   "language": "python",
   "name": "python3"
  },
  "language_info": {
   "codemirror_mode": {
    "name": "ipython",
    "version": 3
   },
   "file_extension": ".py",
   "mimetype": "text/x-python",
   "name": "python",
   "nbconvert_exporter": "python",
   "pygments_lexer": "ipython3",
   "version": "3.6.1"
  }
 },
 "nbformat": 4,
 "nbformat_minor": 2
}
