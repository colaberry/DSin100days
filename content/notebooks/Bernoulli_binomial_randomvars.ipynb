{
 "cells": [
  {
   "cell_type": "markdown",
   "metadata": {
    "tags": [
     "s1",
     "content",
     "l1"
    ]
   },
   "source": [
    "## Bernoulli random variable and Binomial Distribution\n",
    "\n",
    "### Bernoulli random variable\n",
    "\n",
    "Consider an event 'E' which has only two outcomes, \"success\" and \"failure\", such that, if the probability of a 'success' as outcome of the event in any given occurence is consistent, and is equal to 'p', then the probability of 'failure' as an outcome of the event should be '1-p'. Each independent occurence of such an event E, is said to be a Bernoulli trial. Now consider the event of tossing a coin. If success is defined as 'tossing a head' and failure is defined as 'tossing a tail', then each flip of the coin, which is independent of another flip (or occurence of same event), is said to be a Bernoulli trial. In this case, a coin flip had only two outcomes, but what if the event was to be a 'rolling of a die'? It has 6 outcomes, in the form of the 6 numbers on each of its faces. The outcomes of this event also can be modeled in a way so as to apply Bernoulli distribution (which will be discussed later in this course). \n",
    "\n",
    "Lets define success of rolling a (single) die as 'rolling a 2 or a 4' and failure be defined as 'rolling 1,3,5 or 6'. Now, we have only two outcomes for each roll of the die. Assuming it is a perfectly manufactured die, having equal probabilities of landing on either of the six faces, we can calculate the probability of success and failure as follows:\n",
    "\n",
    "Say x is the event of rolling a success on a perfect die. It is a discrete random variable with the probability distribution function of\n",
    "\n",
    "P(x)=$\\left\\{\\begin{array}(1/6+1/6\\, =\\, 1/3\\\\1/6+1/6+1/6+1/6\\, =\\, 2/3\\\\0\\quad if\\, none\\, of\\, the\\, faces\\, lands\\\\\\end{array}\\right\\}$\n",
    "\n",
    "Now the event of rolling a die essentially has been converted into a Bernoulli trial, by considering all the possible outcomes (the exhaustive list) of the event and classifying them as success or failure. The discrete random variable, in this case can also be called a Bernoulli random variable and the probability distribution followed by a Bernoulli random variable is called the Bernoulli distribution. The general probability function of a Bernoulli random variable, x is given by:\n",
    "\n",
    "P(x)=$\\left\\{\\begin{array}(p\\quad if\\, x\\, is\\, a\\, success\\\\1-p\\quad if\\, x\\, is\\, a\\, failure\\\\0\\quad if\\, x\\, does\\, not\\, belong\\, to\\, the\\, completely\\, exhaustive\\, set\\, of\\, possible\\, outcomes\\\\\\end{array}\\right\\}$\n",
    "\n",
    "#### Variance of a Bernoulli random variable\n",
    "\n",
    "Variance of a bernoulli random variable is the spread of the values that the Bernoulli random variable can take. It can be calculated by multiplying the probability of success with the probability of failure.\n",
    "\n",
    "$Variance\\, of\\, x\\, =\\, p*(1-p)$\n",
    "\n",
    "### Expected value of a Bernoulli random variable\n",
    "\n",
    "In order to understand the concept of expected value, let us consider the example of a 'Wheel of Fortune'. Lets say our wheel of fortune consists of only two segments - minor segment (108<sup>o</sup> with a purple shading) and major segment (252<sup>o</sup> with a yellow shading). When the wheel is spun, the arrow, whose location is absolute, points to a specific segment when the wheel stops spinning. If at the end of the spin, if the arrow is pointing to the purple segment, the spinner wins, and if the arrow is pointing to the yellow segment the spinner loses.\n",
    "\n",
    "<img src=\"../images/WoF.jpg\">\n",
    "\n",
    "In this case, the probability of success is $(108/360)$, which is $0.3$ and probability of failure is $(252/360)$ $=$ $0.7$. Lets denote success as 1 and failure as 0. Let x be the Bernoulli random variable, S be the sample space of events, i.e., S={0,1} and P(x) be the probability of x. Now an expected value of a Bernoulli random variable is calculated as \n",
    "\n",
    "Expected Value = $\\Sigma_{x\\in S} (xP(x))$\n",
    "\n",
    "Expected Value (for a single spin of Wheel of Fortune) = $1*(0.3)+0*(0.7)$ = $0.3$\n",
    "\n",
    "If success and failure of an random variable are defined by 1 and 0 respectively, then we can say that the probability of success 'p' itself is the expected value of that Bernoulli random variable. This concept can be utilized to model and solve real life problems. If success and failure is associated with a 'reward' $r_i$, then expected value over a large number of trials can be calculated as:\n",
    "\n",
    "Expected Value (of large number of repeated trials over time) = (reward for success \\* probability of success) + (reward for failure \\* probability of failure)\n",
    "\n",
    "This expected value would tell us the average return/value for each trial over a long run.\n",
    "\n",
    "### Exercise\n",
    "\n",
    "Consider the wheel of fortune from the theory you have just read above. Probability of succeeding is 0.3, i.e., landing on the purple segment and probability of failure is 0.7, i.e., landing on the yellow segment. Now if success is acheived then you get a payout of \\$10 and if you fail, you have to pay back \\$5 to the host of the game. This essentially redefines success as +10 dollars in your account and failure as -5 dollars from your account.\n",
    "\n",
    "Calculate:\n",
    "* variance of random variable of spinning the wheel of fortune\n",
    "* expected value of the above random variable\n",
    "\n",
    "Also Answer:\n",
    "* If this game is played repeatedly, who would benefit on the long run? The player or the one who is hosting the game? Calculate Expected value over long run using above formula and assign it to the variable 'EV_longrun'. Use a simple if...elif...else statement to print out 'player is benefitted over longrun' if the average value on each game (EV_longrun) is positive, and 'host is benefitted over longrun' if it is negative and 'No one is benefitted over longrun' if it is zero."
   ]
  },
  {
   "cell_type": "code",
   "execution_count": 4,
   "metadata": {
    "collapsed": true,
    "tags": [
     "s1",
     "ce",
     "l1"
    ]
   },
   "outputs": [],
   "source": [
    "# pre-loaded code\n",
    "# probability of success\n",
    "p = 0.3\n",
    "# sample space of outcomes - 1 is success and 0 is failure\n",
    "result = [1,0]\n",
    "# rewards associated with success and failure - +10 is success, -5 is failure\n",
    "rewards = [10,-5]\n",
    "\n",
    "# Modify below code\n",
    "Variance = \n",
    "Expected_value = \n",
    "EV_longrun = \n",
    "\n",
    "print(Variance,Expected_value,EV_longrun)"
   ]
  },
  {
   "cell_type": "markdown",
   "metadata": {
    "tags": [
     "s1",
     "l1",
     "hint"
    ]
   },
   "source": [
    "### Hint\n",
    "\n",
    "Refer to the formulas and concepts discussed above"
   ]
  },
  {
   "cell_type": "code",
   "execution_count": 7,
   "metadata": {
    "tags": [
     "s1",
     "l1",
     "ans"
    ]
   },
   "outputs": [
    {
     "name": "stdout",
     "output_type": "stream",
     "text": [
      "host is benefitted over longrun\n",
      "0.21 0.3 -0.5\n"
     ]
    }
   ],
   "source": [
    "# Solution\n",
    "\n",
    "Variance = p*(1-p)\n",
    "Expected_value = (result[0]*p)+(result[1]*(1-p))\n",
    "EV_longrun = (rewards[0]*p)+(rewards[1]*(1-p))\n",
    "\n",
    "if(EV_longrun>0):\n",
    "    print(\"player is benefitted over longrun\")\n",
    "elif(EV_longrun<0):\n",
    "    print(\"host is benefitted over longrun\")\n",
    "else:\n",
    "    print(\"No one is benefitted over longrun\")\n",
    "print(Variance,Expected_value,EV_longrun)"
   ]
  },
  {
   "cell_type": "code",
   "execution_count": 6,
   "metadata": {
    "tags": [
     "s1",
     "hid",
     "l1"
    ]
   },
   "outputs": [
    {
     "name": "stdout",
     "output_type": "stream",
     "text": [
      "Continue\n"
     ]
    }
   ],
   "source": [
    "# ref_assert_var\n",
    "\n",
    "try:\n",
    "    if(Variance==0.21 and Expected_value==0.3 and EV_longrun==-0.5):\n",
    "        ref_assert_var = True\n",
    "        print(\"Continue\")\n",
    "    else:\n",
    "        ref_assert_var = False\n",
    "        print('Please follow the instructions given and use the same variables provided in the instructions.')\n",
    "except Exception:\n",
    "    print('Please follow the instructions given and use the same variables provided in the instructions.')"
   ]
  },
  {
   "cell_type": "markdown",
   "metadata": {
    "tags": [
     "l2",
     "content",
     "s2"
    ]
   },
   "source": [
    "### Binomial random variable\n",
    "\n",
    "Note: In the examples given below, power is denoted by '^' symbol. However, in Python, power is denoted by '**'.\n",
    "\n",
    "If a Bernoulli trial is repeated 'n' number of times and the probability of success or failure is defined using the outcomes of all the trials involved, then the random variable underlying this probability is called a binomial random variable and its probability function is said to follow a binomial distribution. The Bernoulli distribution is infact a type of Binomial distribution, where n=1 (single trial).\n",
    "\n",
    "Now lets consider the above example of the 'Wheel of Fortune' and learn more about binomial distribution. Lets say you have 3 chances to spin the wheel of fortune. In each of the trials, you are spinning the same wheel, hence the probabilities of success and failure remain the same, i.e., 0.3 and 0.7 respectively. The rewards also remain same in each trial. If you win you get paid \\$10 and if you lose, you have to pay \\$5 out of your pocket. There are four different distinct possibilities for these group of trials\n",
    "* 0 successes and 3 failures\n",
    "* 1 success and 2 failures\n",
    "* 2 successes and 1 faiure\n",
    "* 3 successes and 0 failures\n",
    "\n",
    "So the sample space of the random variable x (which is defined as number of successes in 'n' trials) would be S={0,1,2,3}. In order for x to qualify as a binomial random variable, the following properties need to be satisfied:\n",
    "\n",
    "* There should be a fixed number of trials, n - in this case we have n=3 trials\n",
    "* The probability of success should be consistent across each trial - in our case, since we are using same wheel and same rules in each trial spin, we have a fixed probability of success in each trial, i.e., 0.3\n",
    "* The trials should be independent of each other - there is no relation or dependence of one spin and another\n",
    "\n",
    "Hence, we can say that x is a binomial random variable. And the probability function of a binomial random variable is defined as:\n",
    "\n",
    "$P(x=k)=$ $\\left(\\begin{array}((C^n_k)p^k(1-p)^{n-k}\\\\\\end{array}\\right)$\n",
    "\n",
    "$where\\, n=number\\, of\\, trials\\\\\\quad\\quad k=number\\, of\\, successes\\\\\\quad\\quad p=probability\\, of\\, success\\, on\\, any\\, one\\, trial$\n",
    "\n",
    "In our case,\n",
    "\n",
    "Probability of having all three successes is:\n",
    "$P(x=3)= (C^3_3)*(0.3)^3(1-0.3)^{3-3}=1*(0.027)*(0.7)^0=0.027$\n",
    "\n",
    "### Expected value of a binomial random variable\n",
    "\n",
    "If x is modeled as the random variable associated with number of successes in 'n' number of fixed trials, then expected value of x can be calculated by:\n",
    "\n",
    "$Expected\\, Value = \\Sigma_{k\\in S}k(C^n_k)p^k(1-p)^{n-k}$\n",
    "\n",
    "In our example, where n=3 trials expected value would be:\n",
    "\n",
    "$Expected\\, Value = [0*(C^3_0)*(0.3)^0*(1-0.3)^{3-0}]\\\\\\qquad\\qquad\\qquad+[1*(C^3_1)*(0.3)^1*(1-0.3)^{3-1}]\\\\\\qquad\\qquad\\qquad+[2*(C^3_2)*(0.3)^2*(1-0.3)^{3-2}]\\\\\\qquad\\qquad\\qquad+[3*(C^3_3)*(0.3)^3*(1-0.3)^{3-3}]=[0+0.441+0.378+0.081]=0.9$\n",
    "\n",
    "Now a very interesting thing to notice here is that expected value of a binomial random variable over n trials is equal to the probability of success multiplied by the number of trials (i.e., 0.3\\*3).\n",
    "\n",
    "Given x = binomial random variable, p = probability of success, n = number of trials, S = sample space of all values (outcomes) of x\n",
    "\n",
    "Expected Value = n\\*p\n",
    "\n",
    "### Exercise\n",
    "\n",
    "Consider the wheel of fortune example discussed so far. Everything remains same, probability of success is 0.3, failure probability is 0.7, payout on success is \\$10 and on failure, you pay $5 out of your pocket. Lets say you are given 5 chances (i.e., n=5) to spin the wheel. Calculate:\n",
    "\n",
    "* Probability of winning more than \\$30 at the end of all 5 trials. Assign it to a variable 'p30'.\n",
    "* Expected value of the given binomial random variable. Assign it to a variable 'Expected_value'"
   ]
  },
  {
   "cell_type": "code",
   "execution_count": 13,
   "metadata": {
    "collapsed": true,
    "tags": [
     "l2",
     "ce",
     "s2"
    ]
   },
   "outputs": [],
   "source": [
    "# Pre-loaded code\n",
    "\n",
    "import math\n",
    "\n",
    "def combination(n,r):\n",
    "    if n<r or r<0:\n",
    "        print(\"Negative selections are not defined\")\n",
    "    elif n<=0:\n",
    "        print(\"Factorial is either a complex number or is not defined. Cannot calculate\")\n",
    "    elif r==0 or n==r:\n",
    "        return 1\n",
    "    else:\n",
    "        return (math.factorial(n)/(math.factorial(n-r)*math.factorial(r)))\n",
    "\n",
    "# probability of success    \n",
    "p = 0.3\n",
    "# sample space of outcomes - 1 is success and 0 is failure\n",
    "S = [0,1,2,3,4,5]\n",
    "# iteration variable which takes values of the sample space given above\n",
    "k = 0\n",
    "# number of trials - n\n",
    "n = 5\n",
    "\n",
    "# Modify the below code\n",
    "p30 = \n",
    "Expected_value = 0\n",
    "\n",
    "print(p30,Expected_value)"
   ]
  },
  {
   "cell_type": "markdown",
   "metadata": {
    "tags": [
     "l2",
     "s2",
     "hint"
    ]
   },
   "source": [
    "### Hint\n",
    "\n",
    "Refer to the formulas and concepts discussed above."
   ]
  },
  {
   "cell_type": "code",
   "execution_count": 19,
   "metadata": {
    "tags": [
     "l2",
     "s2",
     "ans"
    ]
   },
   "outputs": [
    {
     "name": "stdout",
     "output_type": "stream",
     "text": [
      "0.12554999999999997 1.4999999999999996\n"
     ]
    }
   ],
   "source": [
    "# Solution\n",
    "\n",
    "p30 = (4*(combination(n,4))*((p)**4)*((1-p)**(n-4)))+(5*(combination(n,5))*((p)**5)*((1-p)**(n-5)))\n",
    "\n",
    "# re-initializing Expected_value variable to clear garbage values\n",
    "Expected_value = 0\n",
    "\n",
    "for k in S:\n",
    "    Expected_value+=(k*(combination(n,k))*((p)**k)*((1-p)**(n-k)))\n",
    "    \n",
    "print(p30,Expected_value)"
   ]
  },
  {
   "cell_type": "code",
   "execution_count": 23,
   "metadata": {
    "tags": [
     "l2",
     "hid",
     "s2"
    ]
   },
   "outputs": [
    {
     "name": "stdout",
     "output_type": "stream",
     "text": [
      "Continue\n"
     ]
    }
   ],
   "source": [
    "# ref_assert_var\n",
    "\n",
    "try:\n",
    "    if(round(p30,4)==0.1255 and round(Expected_value,4)==1.5):\n",
    "        ref_assert_var = True\n",
    "        print(\"Continue\")\n",
    "    else:\n",
    "        ref_assert_var = False\n",
    "        print('Please follow the instructions given and use the same variables provided in the instructions.')\n",
    "except Exception:\n",
    "    print('Please follow the instructions given and use the same variables provided in the instructions.')"
   ]
  }
 ],
 "metadata": {
  "executed_sections": [],
  "kernelspec": {
   "display_name": "Python 3",
   "language": "python",
   "name": "python3"
  },
  "language_info": {
   "codemirror_mode": {
    "name": "ipython",
    "version": 3
   },
   "file_extension": ".py",
   "mimetype": "text/x-python",
   "name": "python",
   "nbconvert_exporter": "python",
   "pygments_lexer": "ipython3",
   "version": "3.6.1"
  }
 },
 "nbformat": 4,
 "nbformat_minor": 2
}
