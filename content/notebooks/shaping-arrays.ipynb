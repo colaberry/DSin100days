{
 "cells": [
  {
   "cell_type": "markdown",
   "metadata": {
    "tags": [
     "s1",
     "content",
     "l1"
    ]
   },
   "source": [
    "# Array Shape Manipulation\n",
    "\n",
    "Sometimes a Data Analyst might be required to run shape manipulation algorithms on the data which needs to be changed in shape, dimensions or property so as to be merged or concatenated with another array. Therefore it is really important to know how to perform these fucntions in Python. \n",
    "\n",
    "Array shape manipulation is performed by the following functions - \n",
    "\n",
    "## Array Shape Flattening\n",
    "\n",
    "For flattening, **ravel()** function is used. This function returns a flattened one-dimensional array. A copy is made only if needed. The returned array will have the same type as that of the input array. \n",
    "\n",
    "### Exercise\n",
    "\n",
    "Apply ravel function to flatten the multi-dimensional array into a single dimension. For example you can transform\n",
    "[[1 2 3]\n",
    " [4 5 6]] to [1 2 3 4 5 6] by invoking .ravel on the array.\n",
    " \n",
    " * Flatten the array below, a and assign it to the variable, b."
   ]
  },
  {
   "cell_type": "code",
   "execution_count": 61,
   "metadata": {
    "tags": [
     "s1",
     "ce",
     "l1"
    ]
   },
   "outputs": [
    {
     "name": "stdout",
     "output_type": "stream",
     "text": [
      "The original array is:\n",
      "[[1 2 3]\n",
      " [4 5 6]]\n"
     ]
    }
   ],
   "source": [
    "import numpy as np \n",
    "a = np.array([[1,2,3],[4,5,6]])\n",
    "print('The original array is:' )\n",
    "print(a) "
   ]
  },
  {
   "cell_type": "markdown",
   "metadata": {
    "tags": [
     "s1",
     "l1",
     "hint"
    ]
   },
   "source": []
  },
  {
   "cell_type": "code",
   "execution_count": 62,
   "metadata": {
    "tags": [
     "s1",
     "l1",
     "ans"
    ]
   },
   "outputs": [
    {
     "name": "stdout",
     "output_type": "stream",
     "text": [
      "[1 2 3 4 5 6]\n"
     ]
    }
   ],
   "source": [
    "b = a.ravel()\n",
    "print(b)"
   ]
  },
  {
   "cell_type": "code",
   "execution_count": 63,
   "metadata": {
    "tags": [
     "s1",
     "hid",
     "l1"
    ]
   },
   "outputs": [
    {
     "name": "stdout",
     "output_type": "stream",
     "text": [
      "True\n"
     ]
    }
   ],
   "source": [
    "ref_tmp_var = False\n",
    "\n",
    "try:\n",
    "    import numpy as np\n",
    "\n",
    "    if np.all(b == [1, 2, 3,4, 5, 6]):\n",
    "        ref_assert_var = True\n",
    "        ref_tmp_var = True\n",
    "    else:\n",
    "        ref_assert_var = False\n",
    "        print('Please follow the instructions given and use the same variables provided in the instructions.')\n",
    "except Exception:\n",
    "    print('Please follow the instructions given and use the same variables provided in the instructions.')\n",
    "\n",
    "assert ref_tmp_var"
   ]
  },
  {
   "cell_type": "markdown",
   "metadata": {
    "tags": [
     "l2",
     "content",
     "s2"
    ]
   },
   "source": [
    "## Re-Shaping the Array:\n",
    "\n",
    "In python we can reshape the array, that is change it from 1 dimension to 2 dimension or may be 3 dimension using the function called **reshape()**. In some cases reshape can also be used for flattening but not everytime.\n",
    "\n",
    "### Exercise\n",
    "\n",
    "Apply reshape function to reshape the one-dimensional array into a multi-dimensional array. For example you can transform [0 1 2 3 4 5] to [[0 1]\n",
    " [2 3]\n",
    " [4 5]] by invoking .reshape on the array.\n",
    "* Reshape the array below, a and assign it to the variable, b."
   ]
  },
  {
   "cell_type": "code",
   "execution_count": 65,
   "metadata": {
    "tags": [
     "l2",
     "ce",
     "s2"
    ]
   },
   "outputs": [
    {
     "name": "stdout",
     "output_type": "stream",
     "text": [
      "Original array:  [0 1 2 3 4 5] \n",
      "\n"
     ]
    }
   ],
   "source": [
    "a = np.array([0, 1, 2, 3 , 4, 5])\n",
    "print('Original array: ',a,'\\n')"
   ]
  },
  {
   "cell_type": "markdown",
   "metadata": {
    "tags": [
     "l2",
     "s2",
     "hint"
    ]
   },
   "source": []
  },
  {
   "cell_type": "code",
   "execution_count": 66,
   "metadata": {
    "tags": [
     "l2",
     "s2",
     "ans"
    ]
   },
   "outputs": [
    {
     "name": "stdout",
     "output_type": "stream",
     "text": [
      "Array after using reshape function: \n",
      " [[0 1]\n",
      " [2 3]\n",
      " [4 5]]\n"
     ]
    }
   ],
   "source": [
    "b=a.reshape(3,2)\n",
    "print('Array after using reshape function: \\n',b)"
   ]
  },
  {
   "cell_type": "code",
   "execution_count": 1,
   "metadata": {
    "tags": [
     "l2",
     "hid",
     "s2"
    ]
   },
   "outputs": [
    {
     "name": "stdout",
     "output_type": "stream",
     "text": [
      "Please follow the instructions given and use the same variables provided in the instructions.\n"
     ]
    }
   ],
   "source": [
    "ref_tmp_var = False\n",
    "\n",
    "try:\n",
    "    import numpy as np\n",
    "\n",
    "    if np.all(b == [[(0,1),(2,3),(4,5)]]):\n",
    "        ref_assert_var = True\n",
    "        ref_tmp_var = True\n",
    "    else:\n",
    "        ref_assert_var = False\n",
    "        print('Please follow the instructions given and use the same variables provided in the instructions.')\n",
    "except Exception:\n",
    "    print('Please follow the instructions given and use the same variables provided in the instructions.')\n",
    "\n",
    "assert ref_tmp_var"
   ]
  },
  {
   "cell_type": "markdown",
   "metadata": {
    "tags": [
     "l3",
     "s3",
     "content"
    ]
   },
   "source": [
    "## Resizing\n",
    "\n",
    "Sometimes it required to shrink or expand the current array, this is called **resizing**. Resizing of an array can be changed with **nparray.resize()**\n",
    "\n",
    "### Exercise\n",
    "\n",
    "Apply resize to array having 5 elements and resize it to 8 elements. For example you can resize [0 1 2 3 4] to [0 1 2 3 4 0 0 0] by invoking .resize on the array.\n",
    "* Resize the array a below and print the result."
   ]
  },
  {
   "cell_type": "code",
   "execution_count": 68,
   "metadata": {
    "tags": [
     "l3",
     "s3",
     "ce"
    ]
   },
   "outputs": [
    {
     "name": "stdout",
     "output_type": "stream",
     "text": [
      "Original array:  [0 1 2 3 4] \n",
      "\n"
     ]
    }
   ],
   "source": [
    "a=np.arange(5)\n",
    "print('Original array: ',a,'\\n')"
   ]
  },
  {
   "cell_type": "markdown",
   "metadata": {
    "tags": [
     "l3",
     "s3",
     "hint"
    ]
   },
   "source": []
  },
  {
   "cell_type": "code",
   "execution_count": 69,
   "metadata": {
    "tags": [
     "l3",
     "s3",
     "ans"
    ]
   },
   "outputs": [
    {
     "name": "stdout",
     "output_type": "stream",
     "text": [
      "Array after using res function: \n",
      " [0 1 2 3 4 0 0 0]\n"
     ]
    }
   ],
   "source": [
    "a.resize((8,))\n",
    "print('Array after using res function: \\n',a)"
   ]
  },
  {
   "cell_type": "code",
   "execution_count": 70,
   "metadata": {
    "tags": [
     "l3",
     "s3",
     "hid"
    ]
   },
   "outputs": [
    {
     "name": "stdout",
     "output_type": "stream",
     "text": [
      "True\n"
     ]
    }
   ],
   "source": [
    "ref_tmp_var = False\n",
    "\n",
    "try:\n",
    "    import numpy as np\n",
    "\n",
    "    if np.all(a == [0, 1, 2, 3, 4, 0, 0, 0]):\n",
    "        ref_assert_var = True\n",
    "        ref_tmp_var = True\n",
    "    else:\n",
    "        ref_assert_var = False\n",
    "        print('Please follow the instructions given and use the same variables provided in the instructions.')\n",
    "except Exception:\n",
    "    print('Please follow the instructions given and use the same variables provided in the instructions.')\n",
    "\n",
    "assert ref_tmp_var"
   ]
  },
  {
   "cell_type": "markdown",
   "metadata": {
    "tags": [
     "l4",
     "s4",
     "content"
    ]
   },
   "source": [
    "### Adding a New Dimension:\n",
    "\n",
    "Indexing with the np.newaxis object allows us to add an axis to an array. Simply put, the newaxis is used to increase the dimension of the existing array by one more dimension, when used once. Thus,\n",
    "\n",
    "1D array will become 2D array\n",
    "\n",
    "2D array will become 3D array\n",
    "\n",
    "3D array will become 4D array and so on..\n",
    "\n",
    "Example:\n",
    "\n",
    "Let's say you want to add the following two arrays:\n",
    "\n",
    "```python\n",
    "a1 = np.array([1, 2, 3, 4, 5])\n",
    "a2 = np.array([5, 4, 3])\n",
    "print('a1:',a1,'\\na2:',a2)\n",
    "\n",
    "a1: [1 2 3 4 5] \n",
    "a2: [5 4 3]\n",
    "```\n",
    "\n",
    "If we try to add these two arrays, it will show is a **\"valueerror\"**, but we can add them by changing the axis.\n",
    "\n",
    "### Exercise\n",
    "\n",
    "Apply newaxis function to arrays above, print the new transformed array and then add the 2 arrays.\n",
    "* Transform and add the two arrays and assign it to new variable, b."
   ]
  },
  {
   "cell_type": "code",
   "execution_count": null,
   "metadata": {
    "collapsed": true,
    "tags": [
     "l4",
     "s4",
     "ce"
    ]
   },
   "outputs": [],
   "source": [
    "a1 = np.array([1, 2, 3, 4, 5])\n",
    "a2 = np.array([5, 4, 3])\n"
   ]
  },
  {
   "cell_type": "code",
   "execution_count": null,
   "metadata": {
    "collapsed": true,
    "tags": [
     "s4",
     "l4",
     "hint"
    ]
   },
   "outputs": [],
   "source": []
  },
  {
   "cell_type": "code",
   "execution_count": 72,
   "metadata": {
    "tags": [
     "s4",
     "l4",
     "ans"
    ]
   },
   "outputs": [
    {
     "name": "stdout",
     "output_type": "stream",
     "text": [
      "a1_new: [[1]\n",
      " [2]\n",
      " [3]\n",
      " [4]\n",
      " [5]] \n",
      "\n",
      "Addition of two arrays: [[ 6  5  4]\n",
      " [ 7  6  5]\n",
      " [ 8  7  6]\n",
      " [ 9  8  7]\n",
      " [10  9  8]]\n"
     ]
    }
   ],
   "source": [
    "a1_new=a1[:, np.newaxis]\n",
    "print('a1_new:',a1_new,'\\n')\n",
    "b = a1_new + a2\n",
    "print('Addition of two arrays:',b)"
   ]
  },
  {
   "cell_type": "code",
   "execution_count": 73,
   "metadata": {
    "tags": [
     "s4",
     "hid",
     "l4"
    ]
   },
   "outputs": [
    {
     "name": "stdout",
     "output_type": "stream",
     "text": [
      "True\n"
     ]
    }
   ],
   "source": [
    "ref_tmp_var = False\n",
    "\n",
    "try:\n",
    "    import numpy as np\n",
    "\n",
    "    if np.all(a1_new == [[1],[2],[3],[4],[5]]) and np.all(b == [[ 6,  5,  4],[ 7,  6,  5],[ 8,  7,  6],[ 9,  8,  7],[10,  9,  8]]):\n",
    "        ref_assert_var = True\n",
    "        print('Hence we can now add the two arrays, these types of data manipulation techniques come really handy for a Data Analyst while preprocessing the data.')\n",
    "        ref_tmp_var = True\n",
    "    else:\n",
    "        ref_assert_var = False\n",
    "        print('Please follow the instructions given and use the same variables provided in the instructions.')\n",
    "except Exception:\n",
    "    print('Please follow the instructions given and use the same variables provided in the instructions.')\n",
    "\n",
    "assert ref_tmp_var"
   ]
  },
  {
   "cell_type": "markdown",
   "metadata": {
    "tags": [
     "l5",
     "content",
     "s5"
    ]
   },
   "source": [
    "### Transpose of an Array:\n",
    "\n",
    "In python, transpose of an array can be achienved by using **transpose()** function. This function permutes the dimension of the given array. It returns a view wherever possible. The function takes the following parameters.\n",
    "\n",
    "numpy.transpose(arr, axes)\n",
    "\n",
    "* arr: The array to be transposed\n",
    "* axes: List of ints, corresponding to the dimensions. By default, the dimensions are reversed\n",
    "\n",
    "### Exercise\n",
    "\n",
    "Apply transpose function to arrays below, print the new transformed array and take out its transpose. For example you can transpose [[0 1 2],[3 4 5],[6 7 8]] to [[0 3 6],[1 4 7],[2 5 8]] by invoking .transpose on the array.\n",
    "* Find the transpose of the array and assign it to a variable,b."
   ]
  },
  {
   "cell_type": "code",
   "execution_count": 74,
   "metadata": {
    "tags": [
     "l5",
     "ce",
     "s5"
    ]
   },
   "outputs": [
    {
     "name": "stdout",
     "output_type": "stream",
     "text": [
      "The original array is:\n",
      "[[0 1 2]\n",
      " [3 4 5]\n",
      " [6 7 8]]\n"
     ]
    }
   ],
   "source": [
    "a = np.arange(9).reshape(3,3) \n",
    "print('The original array is:' )\n",
    "print(a)"
   ]
  },
  {
   "cell_type": "markdown",
   "metadata": {
    "tags": [
     "l5",
     "s5",
     "hint"
    ]
   },
   "source": []
  },
  {
   "cell_type": "code",
   "execution_count": 75,
   "metadata": {
    "tags": [
     "l5",
     "s5",
     "ans"
    ]
   },
   "outputs": [
    {
     "name": "stdout",
     "output_type": "stream",
     "text": [
      "\n",
      " The transposed array is:\n",
      "[[0 3 6]\n",
      " [1 4 7]\n",
      " [2 5 8]]\n"
     ]
    }
   ],
   "source": [
    "b=np.transpose(a)\n",
    "print('\\n The transposed array is:')\n",
    "print(b)"
   ]
  },
  {
   "cell_type": "code",
   "execution_count": 76,
   "metadata": {
    "tags": [
     "hid",
     "l5",
     "s5"
    ]
   },
   "outputs": [
    {
     "name": "stdout",
     "output_type": "stream",
     "text": [
      "True\n"
     ]
    }
   ],
   "source": [
    "ref_tmp_var = False\n",
    "\n",
    "try:\n",
    "    import numpy as np\n",
    "\n",
    "    if np.all(b == [[0, 3, 6],[1, 4, 7],[2, 5, 8]]):\n",
    "        ref_assert_var = True\n",
    "        ref_tmp_var = True\n",
    "    else:\n",
    "        ref_assert_var = False\n",
    "        print('Please follow the instructions given and use the same variables provided in the instructions.')\n",
    "except Exception:\n",
    "    print('Please follow the instructions given and use the same variables provided in the instructions.')\n",
    "\n",
    "assert ref_tmp_var"
   ]
  }
 ],
 "metadata": {
  "executed_sections": [],
  "kernelspec": {
   "display_name": "Python 3",
   "language": "python",
   "name": "python3"
  },
  "language_info": {
   "codemirror_mode": {
    "name": "ipython",
    "version": 3
   },
   "file_extension": ".py",
   "mimetype": "text/x-python",
   "name": "python",
   "nbconvert_exporter": "python",
   "pygments_lexer": "ipython3",
   "version": "3.5.2"
  },
  "rf_version": 1
 },
 "nbformat": 4,
 "nbformat_minor": 2
}
