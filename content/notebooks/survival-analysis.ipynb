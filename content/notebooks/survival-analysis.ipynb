{
 "cells": [
  {
   "cell_type": "markdown",
   "metadata": {
    "tags": [
     "s1",
     "content",
     "l1"
    ]
   },
   "source": [
    "# Survival Analysis\n",
    "\n",
    "Survival Analysis is the analysis of any 'time to event' response variable. A 'time to event' variable reflects the the waiting time until the occurence of a well-defined event. This time is often referred to as a failure time, survival time, or event time. For example,\n",
    "* Time until a machine fails\n",
    "* Time until brake failure\n",
    "* Time until tumor recurrence\n",
    "\n",
    "Typical problem statements in survival analysis are:\n",
    "* Probability of patient survival for the next 2 years\n",
    "* Difference in survival between groups (say between trial drug and placebo/standard drug) \n",
    "\n",
    "\n",
    "Time to event variables have a set of unique features. \n",
    "\n",
    "1. Times to event are always positive.\n",
    "2. They are usually continous and their distributions are often skewed. For example, in a study assessing time to recurrence in patients, the majority of events may occur early in the follow up with very few occurring later. On the other hand, in a study of time to death, the majority of events (deaths) may occur later in the follow up. \n",
    "3. Standard statistical procedures that assume normality of distributions do not apply. Nonparametric procedures could be invoked except for the fact that there are additional issues. Specifically, complete data (actual time to event data) is not always available on each participant in a study. In many studies, participants are enrolled over a period of time (months or years) and the study ends on a specific calendar date. Thus, participants who enroll later are followed for a shorter period than participants who enroll early. \n",
    "4. Some participants may drop out of the study before the end of the follow-up period. For some units the event of interest has not occurred at the time the data are analyzed. In these cases, we have incomplete information. The actual survival time is not known because the study ends or because a participant drops out of the study before experiencing the event. For these cases, the data we have is that the participants survival time is greater than their last observed follow-up time. The times recorded for incomplete cases are called censored times.\n",
    "\n",
    "\n",
    "## Censoring\n",
    "\n",
    "As discussed above, censoring implies that we have some information about a subject’s event time, but the exact event time is unknown. Censoring should be random for survival analysis to be valid. There are many types of censoring, most common being right censoring. \n",
    "The three most common reasons for right censoring are:\n",
    "* Even does not occur before the study ends: Example, say study is to run different cars for 200,000 miles and see when they breakdown. The study is designed to end exactly at 200,000 miles. If a car does not breakdown by then, it is a censored data.\n",
    "* Subject withdraws from the study: Most weight loss studies face this issue due to subject dropping out.\n",
    "* Subject dies before study ends (where death is not the event in the study)\n",
    "\n",
    "Right censoring is further classified into Type I and Type II censoring. \n",
    "\n",
    "* In the above car breakdown example, instead of 200,000 miles, consider a study for driving cars and designed to end after time C. Any subject who does not have an event(car breakdown) observed within this time is censored. This is Type I censoring.\n",
    "* Consider a study where 100 cars are driven and the study is designed to end after 30 flat tires, that is, the study ends when there is a pre-specified number of events. This is Type II censoring.\n",
    "\n",
    "The below image depicts censoring in a study with 8 subjects.\n",
    "\n",
    "<img src=\"../images/censoring.png\" style=\"width: 700px;\">\n",
    "\n",
    "\n",
    "### Exercise\n",
    "\n",
    "Consider a factory of machine parts. Stress testing is conducted on these parts and a study is designed for time to failure of the parts. 1000 parts are sampled at random, and the study is designed to stop after 2 weeks. What is the censoring type. Assign 'Type I' or 'Type II' to the variable cens."
   ]
  },
  {
   "cell_type": "code",
   "execution_count": null,
   "metadata": {
    "collapsed": true,
    "tags": [
     "s1",
     "ce",
     "l1"
    ]
   },
   "outputs": [],
   "source": [
    "#cens = ''"
   ]
  },
  {
   "cell_type": "markdown",
   "metadata": {
    "tags": [
     "s1",
     "l1",
     "hint"
    ]
   },
   "source": [
    "Refer to above discussion"
   ]
  },
  {
   "cell_type": "code",
   "execution_count": null,
   "metadata": {
    "collapsed": true,
    "tags": [
     "s1",
     "l1",
     "ans"
    ]
   },
   "outputs": [],
   "source": [
    "cens='Type I'"
   ]
  },
  {
   "cell_type": "code",
   "execution_count": null,
   "metadata": {
    "collapsed": true,
    "tags": [
     "s1",
     "hid",
     "l1"
    ]
   },
   "outputs": [],
   "source": [
    "try:\n",
    "    if cens == 'Type I':\n",
    "        ref_assert_var = True\n",
    "        print('continue')\n",
    "    else:\n",
    "        ref_assert_var = False\n",
    "        print('Please follow the instructions given and use the same variables provided in the instructions. ')\n",
    "except Exception:\n",
    "    print('Please follow the instructions given and use the same variables provided in the instructions. ')"
   ]
  },
  {
   "cell_type": "markdown",
   "metadata": {
    "tags": [
     "l2",
     "content",
     "s2"
    ]
   },
   "source": [
    "## Hazard and Survival Function\n",
    "\n",
    "Let T denote the continous non-negative random variable that represents the time to event response variable. T has the probability density function (pdf), f(t) and cumulative distribution function (cdf), F(t) = Pr{T <= t}. This gives the probability that the event has occurred by duration t. The survival function is derived as shown below.\n",
    "S(t) = Pr(T > t) = 1 − Pr(T <= t) = 1 - F(t).\n",
    "\n",
    "The survival function gives the probability that a subject will survive past time t. The survival function has the following properties:\n",
    "* As t ranges from 0 to $\\infty$, S(t) is non-increasing\n",
    "* At time t = 0, S(t) = 1 => the probability of surviving past time 0 is 1. \n",
    "* At time t = $\\infty$, S(t) = 0 => as time goes to $\\infty$, the survival function tends to 0.\n",
    "\n",
    "The hazard function, h(t), is an alternative characteristic of the districution of T. It is the instantaneous rate at which events occur, given there were no previous events.\n",
    "\n",
    "$h(t) = \\left\\{\\frac{f(t)}{S(t)}\\right\\}$\n",
    "\n",
    "\n",
    "H(t) is the cumulative hazard function which describes the accumulated risk up to time t. If any of the functions F(t), S(t), H(t), or h(t) is known, we can derive the other functions.\n",
    "\n",
    "The below image shows the survival and hazard functions for two drugs where the event is death. It is clear from the survival function that the performance of Drug A is better because the survival probability is higher than that of Drug B at all times $t$.\n",
    "\n",
    "<img src=\"../images/survival-hazard.png\" style=\"width: 900px;\">\n",
    "\n",
    "\n",
    "### Estimating $S(t)$ and $H(t)$\n",
    "\n",
    "We can use both parametric and non-parametric methods to estimate the survival function. We would have to assume that every subject follows the same survival function. When there is no censoring, a non-parametric estimator or $S(t)$ is $1-F_n(t)$, where $F_n(t)$ is the empirical cumulative distribution function of the response variable $T$. In case of censoring, we can estimate $S(t)$ using the Kaplan-Meier product-limit estimator. By making further assumptions and by specifying a parametric form for $S(t)$, we can estimate the expected failure times and derive smooth functions for estimating $S(t)$ and $H(t)$. Weibull, exponential, log-normal and log-logistic are some of the popular distributions used for estimating survival functions.\n",
    "\n",
    "The Kaplan-Meier estimator estimates the survival function using the following product:\n",
    "\n",
    "$\\hat{S}\\;(t)= \\displaystyle\\prod_{t_i < t} \\frac {n_i−d_i}{n_i}$\n",
    "where $d_i$ are the number of events at time $t$ and $n_i$ is the number of subjects at risk of event just prior to time $t$.\n",
    "\n",
    "\n",
    "### Exercise\n",
    "\n",
    "Let us now look at the marriage dissolution in US dataset. The dataset has 3771 couples where the unit of observation is the couple and the event of interest is divorce, with interview and widowhood treated as censoring events. We have two fixed covariates: education of the husband and one indicator of the couple's ethnicity: whether the couple is mixed. The variables are:\n",
    "\n",
    "id: a couple number.\n",
    "heduc: education of the husband, coded\n",
    "0 = less than 12 years,\n",
    "1 = 12 to 15 years, and\n",
    "2 = 16 or more years.\n",
    "mixed: coded 1 if the husband and wife have different ethnicity (defined as black or other), 0 otherwise.\n",
    "years: duration of marriage, from the date of wedding to divorce or censoring (due to widowhood or interview).\n",
    "div: the failure indicator, coded 1 for divorce and 0 for censoring.\n",
    "\n",
    "Dataset souce: http://data.princeton.edu/wws509/datasets/#divorce\n",
    "\n",
    "The lifelines library can be used to estimate survival function. Use the following code to read in the data and plot the survival function using the Kaplan-Meier estimator."
   ]
  },
  {
   "cell_type": "code",
   "execution_count": 7,
   "metadata": {
    "tags": [
     "l2",
     "ce",
     "s2"
    ]
   },
   "outputs": [
    {
     "data": {
      "text/plain": [
       "<matplotlib.axes._subplots.AxesSubplot at 0x1115510f0>"
      ]
     },
     "execution_count": 7,
     "metadata": {},
     "output_type": "execute_result"
    },
    {
     "data": {
      "image/png": "[encoded data removed]",
      "text/plain": [
       "<matplotlib.figure.Figure at 0x111559080>"
      ]
     },
     "metadata": {},
     "output_type": "display_data"
    }
   ],
   "source": [
    "%matplotlib inline\n",
    "\n",
    "import pandas as pd\n",
    "from lifelines import KaplanMeierFitter\n",
    "\n",
    "div_df = pd.read_csv(\"../data/divorce.csv\", header=None)\n",
    "columns = ['ID', 'HEduc', 'Mixed', 'Years','Div']\n",
    "div_df.columns = columns\n",
    "\n",
    "kmf = KaplanMeierFitter()\n",
    "kmf.fit(durations = div_df.Years, \n",
    "        event_observed = div_df.Div)\n",
    "kmf.plot()"
   ]
  },
  {
   "cell_type": "markdown",
   "metadata": {
    "tags": [
     "l2",
     "s2",
     "hint"
    ]
   },
   "source": []
  },
  {
   "cell_type": "code",
   "execution_count": null,
   "metadata": {
    "collapsed": true,
    "tags": [
     "l2",
     "s2",
     "ans"
    ]
   },
   "outputs": [],
   "source": []
  },
  {
   "cell_type": "code",
   "execution_count": 6,
   "metadata": {
    "tags": [
     "l2",
     "hid",
     "s2"
    ]
   },
   "outputs": [
    {
     "name": "stdout",
     "output_type": "stream",
     "text": [
      "continue\n"
     ]
    }
   ],
   "source": [
    "try:\n",
    "    a=1\n",
    "    if a == 1:\n",
    "        ref_assert_var = True\n",
    "        print('continue')\n",
    "    else:\n",
    "        ref_assert_var = False\n",
    "        print('Please follow the instructions given and use the same variables provided in the instructions. ')\n",
    "except Exception:\n",
    "    print('Please follow the instructions given and use the same variables provided in the instructions. ')"
   ]
  }
 ],
 "metadata": {
  "executed_sections": [],
  "kernelspec": {
   "display_name": "Python 3",
   "language": "python",
   "name": "python3"
  },
  "language_info": {
   "codemirror_mode": {
    "name": "ipython",
    "version": 3
   },
   "file_extension": ".py",
   "mimetype": "text/x-python",
   "name": "python",
   "nbconvert_exporter": "python",
   "pygments_lexer": "ipython3",
   "version": "3.6.1"
  }
 },
 "nbformat": 4,
 "nbformat_minor": 2
}
