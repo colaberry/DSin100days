{
 "cells": [
  {
   "cell_type": "markdown",
   "metadata": {
    "tags": [
     "s1",
     "content",
     "l1"
    ]
   },
   "source": [
    "# Data Science workflow\n",
    "\n",
    "## Origins of Data Science\n",
    "\n",
    "### History \n",
    "\n",
    "The term has existed over 30 years and is originally attributed to Prof. Peter Naur from University of Copenhagen in 1974. Those days Data Science mostly referred to the process of data processing methods that acquired sophistication over time. A statistical dimension was provided by Prof. Jeff Wu at the Univeristy of Michigan in 1997 at the Indian Statistical Institute famously titled \"Statistics = Data Science?\". However, Data Science has evovled since then adding more dimensions such as Machine Learning, Applied Mathematics and other Engineering methods. \n",
    "\n",
    "### Definition\n",
    "\n",
    "Wiki defines Data Science as \"Data Science employs techniques and theories drawn from many fields with the broad areas of mathematics, statistics, operations research, information science and computer science, including signal processing, probability models, machine learning, statistical learning, data mininig, database, data engineering, pattern recognition and learning, visualization, predictive analysis, uncertainty modeling, data warehousing, data compression, computer programming, artificial intelligence, and high performance computing.\" This definition mostly arises from a variety of fields within the academia and industry which have shaped the field. The area of Data Science, is still evolving with many fields from Physics, Mathematics, Statistics and Engineering adding a plethora of methods, all aimed at solving complex problems.\n",
    "\n",
    "### What is Data Science? \n",
    "\n",
    "Data Science refers to solving complex problems by understanding data through exploratory data analysis. This involves many steps, primary amongst which are  Exploratory Data Analysis (EDA), Modeling and Algorithms followed by results and Data Visualization.\n",
    "\n",
    "### Who is a Data Scientist?\n",
    "\n",
    "A Data Scientist is an individual who can use data and statistical ability to discover, explore and interpret the given data and thereby building mathematical models that fits the data and then produce useful results. Harvard Business Review called the job as \"The sexiest job of the 21st Century\". \n",
    "\n",
    "### Technology Stack\n",
    "\n",
    "Data Scientist technology stack varies across different organizations depending on the need. Primarily, Data Scientists use Python, R, various Python libraries such as Pandas and Scikit-Learn. Few Data Scientists could be expected to also work on large data sets that range in 100s of GB or several TBs, though typically Data Engineers and Computer Progammers fill in for roles of scaling these algorithms. \n",
    "\n",
    "### Course Prerequisites\n",
    "\n",
    "- Basic knowledge of Python\n",
    "\n",
    "- Mathematics - Including Calculus, Linear Algebra, Probability and Statistics.\n",
    "\n",
    "<br/>\n",
    "## Exercise:\n",
    "\n",
    "One of the key factors known to have sparked off interest in Data Science is the famous \"Netflix Prize\", a competition that provided $1 Million to any winning team or individual who could build the best recommendation engine for movie ratings to predict user ratings for movies, just based on previous ratings. \n",
    "\n",
    "Suppose a user ranks interest in each category from a scale of 0 - 10:\n",
    "\n",
    "####  User Interest of Movie category\n",
    "<pre>\n",
    "Feel Good\tHorror\tComedy\tAdult\tTragedy\n",
    "10.0\t0.0\t5.0\t1.0\t2.0\n",
    "</pre>\n",
    "How do we find a movie that has components as shown below that aligns with the user? Let us use a prediction metric to predict the movie match to the user on a scale of 1 to 10.\n",
    " \n",
    "\n",
    "#### Movie Category\n",
    "<pre>\n",
    "Feel Good\tHorror\tComedy\tAdult\tTragedy\n",
    "7.0\t2.0\t9.0\t7.0\t2.0\n",
    "</pre>\n",
    "This is a sample lesson that illustrates how to work with the console. You can edit code as per instructions, assign results to variables and then click on Run to execute them. \n",
    "\n",
    " - Click on Run to detemine what is the match of the movie to the user preference on a scale of 1 to 10. "
   ]
  },
  {
   "cell_type": "code",
   "execution_count": 1,
   "metadata": {
    "tags": [
     "s1",
     "ce",
     "l1"
    ]
   },
   "outputs": [
    {
     "name": "stdout",
     "output_type": "stream",
     "text": [
      "Movie match to the user on a scale of 1 to 10: 8.06225774829855\n"
     ]
    }
   ],
   "source": [
    "from scipy.spatial import distance\n",
    "\n",
    "# Prediction of movie interest based on user preferences on a scale to 1-10\n",
    "user_pref = [10.0, 0.0, 5.0, 1.0, 2.0]\n",
    "movie_features = [7.0, 2.0, 9.0, 7.0, 2.0]\n",
    "\n",
    "user_match = distance.euclidean(user_pref, movie_features)\n",
    "print(\"Movie match to the user on a scale of 1 to 10:\", user_match)\n",
    "\n"
   ]
  },
  {
   "cell_type": "markdown",
   "metadata": {
    "tags": [
     "s1",
     "l1",
     "hint"
    ]
   },
   "source": []
  },
  {
   "cell_type": "code",
   "execution_count": null,
   "metadata": {
    "collapsed": true,
    "tags": [
     "s1",
     "l1",
     "ans"
    ]
   },
   "outputs": [],
   "source": []
  },
  {
   "cell_type": "code",
   "execution_count": 2,
   "metadata": {
    "tags": [
     "s1",
     "hid",
     "l1"
    ]
   },
   "outputs": [
    {
     "name": "stdout",
     "output_type": "stream",
     "text": [
      "continue\n"
     ]
    }
   ],
   "source": [
    "ref_tmp_var = False\n",
    "\n",
    "\n",
    "try:\n",
    "    ref_assert_var = True\n",
    "    \n",
    "    \n",
    "    \n",
    "    \n",
    "except Exception:\n",
    "    print('Please follow the instructions given and use the same variables provided in the instructions.')\n",
    "else:\n",
    "    if ref_assert_var:\n",
    "        ref_tmp_var = True\n",
    "    else:\n",
    "        print('Please follow the instructions given and use the same variables provided in the instructions.')\n",
    "\n",
    "\n",
    "assert ref_tmp_var"
   ]
  },
  {
   "cell_type": "markdown",
   "metadata": {
    "tags": [
     "l2",
     "content",
     "s2"
    ]
   },
   "source": [
    "\n",
    "\n",
    "\n",
    "<br/><br/><br/>\n",
    "## Data Science Workflow\n",
    "\n",
    "### Pipeline\n",
    "\n",
    "A Data Science workflow or a pipeline refers to the standard activities that a Data Scientist performs from acquiring data to communicating the final results. \n",
    "\n",
    "Here are the important steps in the Data Science pipeline:\n",
    "\n",
    "- Data Acquisition\n",
    "- Exploratory Data Analysis (EDA)\n",
    "- Problem Identification\n",
    "- Modeling\n",
    "- Model Validation and Fine Tuning\n",
    "- Communicating Final Results\n",
    "- Scaling and Big Data\n",
    " \n",
    " <img src=\"../images/ds-workflow.png\", style=\"width: 700px;\">\n",
    "\n",
    " \n",
    "### 1. Data Acquisition\n",
    "\n",
    "Acquiring data is the first step in the pipeline. This involves working with Data Engineers or Infrastructure Engineers to provide data in a structured format such as JSON, csv, or Text. Data Engineers are expected to provide the data in the known format to the Data Scientists. This involves parsing the data and pushing it to a SQL database or a format that is easy to work with. This can involve applying a known schema to the data that is already known or can be inferred from the original data. When original data is in unstructured format, the data needs to be cleaned and relevant data extracted from it. This involves using a regular expression parser or multiple methods of parsing such as using perl and unix scripts, or language of your choice to clean the data.\n",
    "\n",
    "<br/>\n",
    "## Exercise:\n",
    "\n",
    "The requests module connects to a URL and retrieves content from it. Here we shall retrieve data about women in STEM (Science, Tech, Engineering & Math). The response from the requests is parsed through iter_lines() function, which is an iterator. Iterator objects are objects where you can access values by looping through them. \n",
    "\n",
    "- Given the csv file about Women in STEM, read the contents of the file line by line and push it to a list variable,\n",
    "- stem_women.\n",
    "- Print out first 5 elements of the list."
   ]
  },
  {
   "cell_type": "code",
   "execution_count": 3,
   "metadata": {
    "collapsed": true,
    "tags": [
     "l2",
     "ce",
     "s2"
    ]
   },
   "outputs": [],
   "source": [
    "import requests\n",
    "\n",
    "url = \"https://raw.githubusercontent.com/Colaberry/538data/master/college-majors/women-stem.csv\"\n",
    "r = requests.get(url)\n",
    "text = r.iter_lines()\n",
    "stem_women = []\n",
    "\n"
   ]
  },
  {
   "cell_type": "markdown",
   "metadata": {
    "tags": [
     "l2",
     "s2",
     "hint"
    ]
   },
   "source": [
    "<p>Insert code to read the output line by line</p>\n",
    "\n",
    "<p> </p>"
   ]
  },
  {
   "cell_type": "code",
   "execution_count": 4,
   "metadata": {
    "tags": [
     "l2",
     "s2",
     "ans"
    ]
   },
   "outputs": [
    {
     "name": "stdout",
     "output_type": "stream",
     "text": [
      "[b'Rank,Major_code,Major,Major_category,Total,Men,Women,ShareWomen,Median', b'1,2419,PETROLEUM ENGINEERING,Engineering,2339,2057,282,0.120564344,110000', b'2,2416,MINING AND MINERAL ENGINEERING,Engineering,756,679,77,0.101851852,75000', b'3,2415,METALLURGICAL ENGINEERING,Engineering,856,725,131,0.153037383,73000', b'4,2417,NAVAL ARCHITECTURE AND MARINE ENGINEERING,Engineering,1258,1123,135,0.107313196,70000']\n"
     ]
    }
   ],
   "source": [
    "for row in text:\n",
    "  stem_women.append(row)\n",
    "\n",
    "print(stem_women[0:5])"
   ]
  },
  {
   "cell_type": "code",
   "execution_count": 5,
   "metadata": {
    "tags": [
     "l2",
     "hid",
     "s2"
    ]
   },
   "outputs": [
    {
     "name": "stdout",
     "output_type": "stream",
     "text": [
      "continue\n"
     ]
    }
   ],
   "source": [
    "ref_tmp_var = False\n",
    "\n",
    "\n",
    "try:\n",
    "    ref_assert_var = False\n",
    "    r = requests.get(url)\n",
    "    text = r.iter_lines()\n",
    "    stem_women_ = []\n",
    "    for row in text:\n",
    "      stem_women_.append(row)\n",
    "    \n",
    "    import numpy as np\n",
    "    \n",
    "    ref_assert_var = False\n",
    "    if np.all(stem_women == stem_women_):\n",
    "        ref_assert_var = True\n",
    "    \n",
    "except Exception:\n",
    "    print('Please follow the instructions given and use the same variables provided in the instructions.')\n",
    "else:\n",
    "    if ref_assert_var:\n",
    "        ref_tmp_var = True\n",
    "    else:\n",
    "        print('Please follow the instructions given and use the same variables provided in the instructions.')\n",
    "\n",
    "\n",
    "assert ref_tmp_var"
   ]
  },
  {
   "cell_type": "markdown",
   "metadata": {
    "tags": [
     "l3",
     "s3",
     "content"
    ]
   },
   "source": [
    "\n",
    "\n",
    "<br/><br/><br/>\n",
    "## Exploratory Data Analysis\n",
    "\n",
    "### 2. Exploratory Data Analysis (EDA)\n",
    "\n",
    "Exploratory Data Analysis is the second step which involves looking at various statistics and visualizations generated from various dimensions of the dataset. This helps identifying anomalies, errors and identifying other areas of Machine Learning problems. For example, let us say we are looking to identify a dataset that has a column full of social security numbers which largely contain correct numbers but could contain anomalies of few entries with 0s (000-00-0000). This is clearly wrong as we can see and could lead to problems in applying machine learning techniques. We can identify such spurious numbers by looking at statistics such as frequency counts. There are other ways by looking at the graphs too by which we can identify such spurious data. Hence, this is the crucial step in the Data Science pipeline.\n",
    "\n",
    "### 3. Problem Identification\n",
    "\n",
    "Post EDA, we can identify if the any of the Machine Learning models such as prediction, clustering can be applied to the dataset.\n",
    "\n",
    "### 4. Modeling\n",
    "\n",
    "Modeling refers to applying Machine Learning models the dataset that follow basic principles. We shall study about these models in the future lessons.\n",
    "\n",
    "### 5. Model Validation and Fine Tuning\n",
    "\n",
    "The models we have built so far need to be validated for performance. Later, most often, a parameter tuning is performed which increases the performance of the model on the test dataset. \n",
    "\n",
    "### 6. Communicating Final Results\n",
    "\n",
    "It is important to communicate final results to the business or non-technical audience. Hence, visualization forms an important part of Data Science. We shall learn how to couple great visualizations in your Data Science pipeline to effectively communciate your results.\n",
    "\n",
    "### 7. Scaling and Big Data\n",
    "\n",
    "The models that perform greatly on small datasets might not do so on large datasets due to the variance present in the dataset. Hence, working with big data and scaling up the algorithms is a challenge. The models are initially validated with small datasets before working with big data.\n",
    "\n",
    "<br/>\n",
    "## Exercise:\n",
    "\n",
    "### NBA Win Probabilities\n",
    "\n",
    "The data contains every NBA team’s chance of winning in every minute across every Game. The column 'team' contaims various teams and the various columns contain the winning probablities across each game.\n",
    "\n",
    "nba_data.head()\n",
    "<pre>\n",
    "      team         0              1              2             3             4             5           6  \\\n",
    "0    Hawks  0.50659  0.51033  0.51500  0.51631  0.51853  0.52819  0.53316  \n",
    "1     Nets    0.50290  0.50561  0.50916  0.51488  0.51580  0.51226  0.52629  \n",
    "2   Celtics   0.50072  0.50446  0.49667  0.49552  0.49248  0.49178  0.48757  \n",
    "3   Hornets 0.49680  0.49290  0.49334  0.48998  0.48366  0.48375  0.48789  \n",
    "4    Bulls  0.49521  0.49411  0.49999  0.49727  0.48183  0.47770  0.47760   \n",
    "         7        8   ...                    39            40           41          42           43  \\\n",
    "0  0.52887  0.53559   ...     0.71627  0.73074  0.74168  0.76403  0.78034  \n",
    "1  0.51997  0.52036   ...     0.40743  0.41453  0.42484  0.42403  0.44106  \n",
    "2  0.48156  0.46489   ...     0.41242  0.40990  0.39759  0.41533  0.42298  \n",
    "3  0.48325  0.47458   ...     0.46885  0.46520  0.46380  0.44927  0.45589  \n",
    "4  0.48167  0.48419   ...     0.53731  0.54208  0.55070  0.55343  0.53974   \n",
    "        44           45           46           47           48 \n",
    "0  0.78955  0.79571  0.81632  0.83095  0.80556 \n",
    "1  0.43498  0.40266  0.39979  0.41820  0.42308 \n",
    "2  0.41764  0.43214  0.39493  0.39146  0.41176 \n",
    "3  0.44461  0.44333  0.42749  0.40301  0.40196 \n",
    "4  0.54905  0.55394  0.58889  0.62055  0.63889\n",
    "</pre>\n",
    "https://fivethirtyeight.com/features/every-nba-teams-chance-of-winning-in-every-minute-across-every-game/\n",
    "\n",
    "- Given these probabilities, find out which team is most likely to win in all games?\n",
    "- Assign the team name to the variable, winning_team and print it out. \n",
    "- Use the Hint feature to look up the command to print out the answer. "
   ]
  },
  {
   "cell_type": "code",
   "execution_count": 6,
   "metadata": {
    "collapsed": true,
    "tags": [
     "l3",
     "s3",
     "ce"
    ]
   },
   "outputs": [],
   "source": [
    "import pandas as pd\n",
    "\n",
    "winning_team = 'None'\n",
    "\n",
    "nba_data = pd.read_csv(\"https://raw.githubusercontent.com/colaberry/538data/master/nba-winprobs/nba.tsv\", sep = '\\t')\n",
    "winning_team_row = nba_data[nba_data['48'] == nba_data['48'].max()]\n"
   ]
  },
  {
   "cell_type": "markdown",
   "metadata": {
    "tags": [
     "l3",
     "s3",
     "hint"
    ]
   },
   "source": [
    "<p>Print out the variable, winning_team_row. You can access any column with winning_team_row['column name']</p>"
   ]
  },
  {
   "cell_type": "code",
   "execution_count": 7,
   "metadata": {
    "tags": [
     "l3",
     "s3",
     "ans"
    ]
   },
   "outputs": [
    {
     "name": "stdout",
     "output_type": "stream",
     "text": [
      "9    Warriors\n",
      "Name: team, dtype: object\n"
     ]
    }
   ],
   "source": [
    "winning_team = winning_team_row['team']\n",
    "print(winning_team)"
   ]
  },
  {
   "cell_type": "code",
   "execution_count": 8,
   "metadata": {
    "tags": [
     "l3",
     "s3",
     "hid"
    ]
   },
   "outputs": [
    {
     "name": "stdout",
     "output_type": "stream",
     "text": [
      "continue\n"
     ]
    }
   ],
   "source": [
    "ref_tmp_var = False\n",
    "\n",
    "try:\n",
    "    ref_assert_var = False\n",
    "    winning_team_ = winning_team_row['team']\n",
    "    \n",
    "    if np.all(winning_team_ == winning_team):\n",
    "        ref_assert_var = True\n",
    "    else:\n",
    "        ref_assert_var = False\n",
    "    \n",
    "except Exception:\n",
    "    print('Please follow the instructions given and use the same variables provided in the instructions.')\n",
    "else:\n",
    "    if ref_assert_var:\n",
    "        ref_tmp_var = True\n",
    "    else:\n",
    "        print('Please follow the instructions given and use the same variables provided in the instructions.')\n",
    "\n",
    "assert ref_tmp_var"
   ]
  }
 ],
 "metadata": {
  "executed_sections": [],
  "kernelspec": {
   "display_name": "Python 3",
   "language": "python",
   "name": "python3"
  },
  "language_info": {
   "codemirror_mode": {
    "name": "ipython",
    "version": 3
   },
   "file_extension": ".py",
   "mimetype": "text/x-python",
   "name": "python",
   "nbconvert_exporter": "python",
   "pygments_lexer": "ipython3",
   "version": "3.6.1"
  },
  "rf_version": 1
 },
 "nbformat": 4,
 "nbformat_minor": 2
}
