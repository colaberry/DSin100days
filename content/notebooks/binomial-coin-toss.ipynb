{
 "cells": [
  {
   "cell_type": "markdown",
   "metadata": {
    "tags": [
     "s1",
     "content",
     "l1"
    ]
   },
   "source": [
    "### BINOMIAL DISTRIBUTION - COIN TOSS EXPERIMENT\n",
    "\n",
    "\n",
    "Let us consider an experiment of tossing a biased coin, in which p is the probability of 'heads' and n is the number of tosses. An experiment is defined as a series of trials. In this case, an experiment will consist of n trials/tosses. We will repeat the experiment 1000 times to simulate the binomial distribution. \n",
    "\n",
    "We must check if the experiment follows the assumptions of binomial distribution:\n",
    "\n",
    "1. Each trial is an independent of the other, meaning outcome of one toss does not affect that of others.\n",
    "2. There are only two possible outcomes for each trial, heads or tails.\n",
    "3. The probability of 'success', p is the same across the n trials.\n",
    "3. The number of trials, n is fixed.\n",
    "\n",
    "Consider n tosses of a coin. Since the tosses are independent, we can calculate the probability of an outcome by multiplying the individual probabilities in each toss. Probability of 'heads' is p and that of 'tails' is 1-p. Outcome of one experiment with n tosses, has k heads and n-k tails and has probability **p<sup>k</sup>(1-p)<sup>3-k</sup>**.\n",
    "There are ${n} \\choose {k}$ number of distinct n-toss sequences that contain k heads. This forms the binomial coefficient.\n",
    "\n",
    "Binomial probability mass function (pmf) = ${n} \\choose {k}$ **p<sup>k</sup>(1-p)<sup>n-k</sup>**\n",
    "\n",
    "We can now go ahead and simulate our experiment."
   ]
  },
  {
   "cell_type": "code",
   "execution_count": 35,
   "metadata": {
    "collapsed": true,
    "tags": [
     "s1",
     "ce",
     "l1"
    ]
   },
   "outputs": [],
   "source": [
    "%matplotlib inline\n",
    "import random\n",
    "from scipy.stats import binom\n",
    "import matplotlib.pyplot as plt\n",
    "\n",
    "def toss(p,n):\n",
    "    heads = 0\n",
    "    for i in range(n):\n",
    "        if random.random() < p:\n",
    "            heads += 1\n",
    "    return heads #This gives the number of heads in a single experiment of n trials\n",
    "\n",
    "size = range(1,1000)\n",
    "n,p = 30,0.6\n",
    "\n",
    "k = [] #Holds the number of heads from each experiment\n",
    "pmf= [] #Holds the binomial pmf of each experiment\n",
    "\n",
    "random.seed(12345)\n"
   ]
  },
  {
   "cell_type": "markdown",
   "metadata": {
    "collapsed": true,
    "tags": [
     "s1",
     "l1",
     "hint"
    ]
   },
   "source": [
    "Use toss function to create list of k values, sort them and for each k, calculate pmf using binom.pmf function. Plot k and pmf to get the distribution plot. "
   ]
  },
  {
   "cell_type": "code",
   "execution_count": 36,
   "metadata": {
    "tags": [
     "s1",
     "l1",
     "ans"
    ]
   },
   "outputs": [
    {
     "data": {
      "text/plain": [
       "[<matplotlib.lines.Line2D at 0x11cb827b8>]"
      ]
     },
     "execution_count": 36,
     "metadata": {},
     "output_type": "execute_result"
    },
    {
     "data": {
      "image/png": "[encoded data removed]",
      "text/plain": [
       "<matplotlib.figure.Figure at 0x11cbfe208>"
      ]
     },
     "metadata": {},
     "output_type": "display_data"
    }
   ],
   "source": [
    "for i in size:\n",
    "    k.append(toss(p,n))\n",
    "\n",
    "k.sort()\n",
    "\n",
    "for i in k:\n",
    "    pk = binom.pmf(i,n,p)\n",
    "    pmf.append(pk)\n",
    "\n",
    "plt.plot(k,pmf) "
   ]
  },
  {
   "cell_type": "code",
   "execution_count": 38,
   "metadata": {
    "tags": [
     "s1",
     "hid",
     "l1"
    ]
   },
   "outputs": [
    {
     "name": "stdout",
     "output_type": "stream",
     "text": [
      "continue\n"
     ]
    }
   ],
   "source": [
    "ref_tmp_var = False\n",
    "\n",
    "try:\n",
    "    head = k[:10]\n",
    "    prob = pmf[:10]\n",
    "    ks = [9, 9, 10, 10, 11, 11, 11, 11, 12, 12]\n",
    "    pmfs = [round(x,4) for x in [0.00063412401653505015, 0.00063412401653505015, 0.0019974906520854141, 0.0019974906520854141, 0.005447701778414739, 0.005447701778414739, 0.005447701778414739, 0.005447701778414739, 0.012938291723735, 0.012938291723735]]\n",
    "    if ks == head and pmfs == [round(a,4) for a in prob]:\n",
    "        ref_assert_var = True\n",
    "        ref_tmp_var = True\n",
    "    else:\n",
    "        ref_assert_var = False\n",
    "        print('Please follow the instructions given and use the same variables provided in the instructions. ')\n",
    "except Exception:\n",
    "    print('Please follow the instructions given and use the same variables provided in the instructions. ')\n",
    "\n",
    "assert ref_tmp_var"
   ]
  }
 ],
 "metadata": {
  "executed_sections": [],
  "kernelspec": {
   "display_name": "Python 3",
   "language": "python",
   "name": "python3"
  },
  "language_info": {
   "codemirror_mode": {
    "name": "ipython",
    "version": 3
   },
   "file_extension": ".py",
   "mimetype": "text/x-python",
   "name": "python",
   "nbconvert_exporter": "python",
   "pygments_lexer": "ipython3",
   "version": "3.6.1"
  }
 },
 "nbformat": 4,
 "nbformat_minor": 2
}
