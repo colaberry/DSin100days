{
 "cells": [
  {
   "cell_type": "markdown",
   "metadata": {
    "tags": [
     "s1",
     "content",
     "l1"
    ]
   },
   "source": [
    "# Mutually Exclusive Events\n",
    "\n",
    "\n",
    "\n",
    "## What are mutually exclusive events?\n",
    "\n",
    "When an action is performed, if the occurrence of one event (or rather the outcome) prevents the occurrence of all other possible events/outcomes of the action, then the events/outcomes are said to be mutually exclusive events. Heads and Tails - outcomes of a coin toss are mutually exclusive as a head essentially means that tails has not occurred within that flip. Similarly the rolling of a die. The outcomes are all mutually exclusive, i.e., landing a certain number means that all other outcomes/numbers are not obtained within that roll.\n",
    "\n",
    "Let us look at the following example. Consider a box with 6 green colored balls and 4 red colored balls with numbers on the balls. Drawing a green ball excludes the possibility of drawing a red ball and vice versa within a single draw. Hence, it is a mutually exclusive event.\n",
    "\n",
    "<img src=\"../images/bib.png\", style=\"height:60vh;\">\n",
    "\n",
    "#### Case 1: Mutually Exclusive Events\n",
    "    * Event A - Drawing a green ball\n",
    "    * Event B - Drawing a red ball\n",
    "\n",
    "#### Case 2: Not Mutually Exclusive Events\n",
    "    * Event A - Drawing a green ball\n",
    "    * Event B - Drawing an even numbered ball\n",
    "\n",
    "<img src=\"../images/balldraw4.png\", style=\"height:60vh;\">\n",
    "\n",
    "Now in case 1, events A and B are said to be mutually exclusive, as within a single draw, you cannot acheive 2 and 3. In case 2, it is possible to acheive both events/outcomes in a single draw. If you draw the ball numbered 4, you would have obtained an even numbered ball as well as a green ball and hence, in this case, A and B are not mutually exclusive events. \n",
    "\n",
    "\n",
    "\n",
    "## Joint probability\n",
    "\n",
    "The draws example is illustrated in the figure below:\n",
    "\n",
    "<img src=\"../images/balldraw2.png\", style=\"height:55vh;\">\n",
    "\n",
    "We see that the probability of drawing a green ball in the second draw is conditional upon the outcome of the first draw. Hence this is conditional probability of P(Green|Red) or P(Green|Green) depending upon the outcome of the first draw. Joint probability would be the combined probability of expected outcomes of both the draws. Lets say we want to find out the combined probability of drawing a red ball in the first draw and a green ball in the second draw. We calculated this by multiplying the probability of drawing a red ball in first draw with the conditional probability of drawing a green ball in the second draw, given that we know we drew a red ball in the first draw.\n",
    "\n",
    "Countable additivity of joint probabilities of all possible combination of outcomes would yeild the total probability of having a specific outcome in the second draw, irrespective of the outcome of the first draw. Lets say we want to calculate the total probability of drawing a green ball in the second draw, we should calculate joint probabilities of all possible combination of outcomes and add the probabilities together to get the total probability. Let us practice with the exercise below.\n",
    "\n",
    "\n",
    "\n",
    "## Conditional Probability\n",
    "\n",
    "The probability of drawing a ball without replacement, the proabability of drawing a ball in the second turn is the conditional probability. This is because, the first draw affects the probability of the second draw. \n",
    "\n",
    "\n",
    "### Exercise\n",
    "\n",
    "Calculate the total probability of drawing a green ball in the second draw. Note that there would be two ways in which this could be acheived. Assign joint probabilities of combination of events to e1 and e2. Assign total probability to P_y."
   ]
  },
  {
   "cell_type": "code",
   "execution_count": 4,
   "metadata": {
    "collapsed": true,
    "tags": [
     "s1",
     "ce",
     "l1"
    ]
   },
   "outputs": [],
   "source": [
    "# Pre-loaded code\n",
    "\n",
    "e1 = 0\n",
    "e2 = 0\n",
    "P_y = 0"
   ]
  },
  {
   "cell_type": "markdown",
   "metadata": {
    "tags": [
     "s1",
     "l1",
     "hint"
    ]
   },
   "source": [
    "# Hint\n",
    "\n",
    "Note that a green ball can be drawn in the second draw in two ways - 1st draw green & 2nd draw green or 1st draw red and second draw green. Also observe that probabilities of drawing green and red balls would change in the second draw, as in this case, balls are being drawn without replacement."
   ]
  },
  {
   "cell_type": "code",
   "execution_count": 5,
   "metadata": {
    "tags": [
     "s1",
     "l1",
     "ans"
    ]
   },
   "outputs": [
    {
     "name": "stdout",
     "output_type": "stream",
     "text": [
      "Total probability is: 0.60\n"
     ]
    }
   ],
   "source": [
    "# Solution\n",
    "\n",
    "e1 = (6/10)*(5/9)\n",
    "e2 = (4/10)*(6/9)\n",
    "\n",
    "P_y = e1 + e2\n",
    "\n",
    "print(\"Total probability is: %.2f\" %P_y)"
   ]
  },
  {
   "cell_type": "code",
   "execution_count": 6,
   "metadata": {
    "tags": [
     "s1",
     "hid",
     "l1"
    ]
   },
   "outputs": [
    {
     "name": "stdout",
     "output_type": "stream",
     "text": [
      "continue\n"
     ]
    }
   ],
   "source": [
    "ref_tmp_var = False\n",
    "\n",
    "# ref_assert_var block\n",
    "\n",
    "try:\n",
    "    ref_assert_var = False\n",
    "    test1 = (6/10)*(5/9)\n",
    "    test2 = (4/10)*(6/9)\n",
    "    test3 = 0.60\n",
    "    \n",
    "    if test1 == e1 and test2 == e2 and test3 == P_y:\n",
    "      ref_assert_var = True\n",
    "    \n",
    "except Exception:\n",
    "    print('Please follow the instructions given and use the same variables provided in the instructions.')\n",
    "else:\n",
    "    if ref_assert_var == True:\n",
    "        ref_tmp_var = True\n",
    "    else:\n",
    "        print('Please follow the instructions given and use the same variables provided in the instructions.')\n",
    "\n",
    "assert ref_tmp_var"
   ]
  }
 ],
 "metadata": {
  "executed_sections": [],
  "kernelspec": {
   "display_name": "Python 3",
   "language": "python",
   "name": "python3"
  },
  "language_info": {
   "codemirror_mode": {
    "name": "ipython",
    "version": 3
   },
   "file_extension": ".py",
   "mimetype": "text/x-python",
   "name": "python",
   "nbconvert_exporter": "python",
   "pygments_lexer": "ipython3",
   "version": "3.5.2"
  }
 },
 "nbformat": 4,
 "nbformat_minor": 2
}
