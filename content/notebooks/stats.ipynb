{
 "cells": [
  {
   "cell_type": "markdown",
   "metadata": {
    "tags": [
     "s1",
     "content",
     "l1"
    ]
   },
   "source": [
    "# Probability\n",
    "\n",
    "## Probability Basics\n",
    "\n",
    "### Random Experiment\n",
    "\n",
    "An experiment is random if the outcome of the experiment is not certain. An example is a coin toss where the outcome could be a head or a tail. \n",
    "\n",
    "### Sample Space\n",
    "\n",
    "A set of all possible outcomes of an experiment is termed as a sample space. \n",
    "\n",
    "Considering the coin toss as a random experiment the sample space consists of all possible outcomes:\n",
    "```python\n",
    "S ={Head, Tail} \n",
    "```\n",
    "\n",
    "<img src=\"../images/sample_space.png\" style=\"width: 350px;\">\n",
    "\n",
    "\n",
    "<br/>\n",
    "## Exercise:\n",
    "Generate the sample space of a dice thrown and assign it to a numpy array, sample_space.\n",
    "\n",
    " - Print out the array"
   ]
  },
  {
   "cell_type": "code",
   "execution_count": 1,
   "metadata": {
    "collapsed": true,
    "tags": [
     "s1",
     "ce",
     "l1"
    ]
   },
   "outputs": [],
   "source": [
    "import numpy as np\n",
    "\n",
    "# Modify the code below\n",
    "sample_space = np.array([])\n"
   ]
  },
  {
   "cell_type": "markdown",
   "metadata": {
    "tags": [
     "s1",
     "l1",
     "hint"
    ]
   },
   "source": [
    "<p>What are the possible outcomes of a dice throw?</p>"
   ]
  },
  {
   "cell_type": "code",
   "execution_count": 2,
   "metadata": {
    "tags": [
     "s1",
     "l1",
     "ans"
    ]
   },
   "outputs": [
    {
     "name": "stdout",
     "output_type": "stream",
     "text": [
      "[1 2 3 4 5 6]\n"
     ]
    }
   ],
   "source": [
    "sample_space = np.array([1, 2, 3, 4, 5, 6])\n",
    "print(sample_space)"
   ]
  },
  {
   "cell_type": "code",
   "execution_count": 3,
   "metadata": {
    "tags": [
     "s1",
     "hid",
     "l1"
    ]
   },
   "outputs": [
    {
     "name": "stdout",
     "output_type": "stream",
     "text": [
      "continue\n"
     ]
    }
   ],
   "source": [
    "ref_tmp_var = False\n",
    "\n",
    "\n",
    "try:\n",
    "    ref_assert_var = False\n",
    "    sample_space_ = np.array([1, 2, 3, 4, 5, 6])\n",
    "    \n",
    "    if np.all(sample_space == sample_space_):\n",
    "      ref_assert_var = True\n",
    "    else:\n",
    "      ref_assert_var = False\n",
    "    \n",
    "except Exception:\n",
    "    print('Please follow the instructions given and use the same variables provided in the instructions.')\n",
    "else:\n",
    "    if ref_assert_var:\n",
    "        ref_tmp_var = True\n",
    "    else:\n",
    "        print('Please follow the instructions given and use the same variables provided in the instructions.')\n",
    "\n",
    "\n",
    "assert ref_tmp_var"
   ]
  },
  {
   "cell_type": "markdown",
   "metadata": {
    "tags": [
     "l2",
     "content",
     "s2"
    ]
   },
   "source": [
    "\n",
    "\n",
    "\n",
    "<br/><br/><br/>\n",
    "## Random Variables\n",
    "\n",
    "A probabilistic event has various possible outcomes. A random variable is a variable that is a set of all these possible outcomes. There are two types of random variables, discrete random variable and continous random variable:\n",
    "\n",
    "### Discrete Random Variable\n",
    "\n",
    "Consider the rolling of a die where possible outcomes as we learnt are between 1 to 6. Hence a random variable, \n",
    "```python\n",
    "p_d = {1, 2, 3, 4, 5, 6}\n",
    "```\n",
    "\n",
    "Similarly, a random variable that describes a coin toss:\n",
    "```python\n",
    "p_c = {1, 0}\n",
    "```\n",
    "\n",
    "## Continous Random Variable\n",
    "\n",
    "A Continous random variable can take on infinite values. Commonly the values are bounded by an interval. For example, picking a value on a number line in the interval (0, 1].\n",
    "\n",
    "<img src=\"../images/random_variable.png\" style=\"width: 700px;\">\n",
    "\n",
    "\n",
    "<br/>\n",
    "## Exercise:\n",
    "\n",
    "Consider an event where two dice are rolled.\n",
    "\n",
    " - Let D1 be the number on the first die\n",
    " - Let D2 be the number on the second die.\n",
    " - Let Y be the event that denotes the sum of the two random variables:\n",
    "  - Y = D1 + D2\n",
    " - What values can Y take? Assign the list of values to a list variable Y and print it out."
   ]
  },
  {
   "cell_type": "code",
   "execution_count": 4,
   "metadata": {
    "collapsed": true,
    "tags": [
     "l2",
     "ce",
     "s2"
    ]
   },
   "outputs": [],
   "source": [
    "import numpy as np\n",
    "\n",
    "Y = []\n"
   ]
  },
  {
   "cell_type": "markdown",
   "metadata": {
    "tags": [
     "l2",
     "s2",
     "hint"
    ]
   },
   "source": [
    "<p>Use np.arange(min, max+1, step) function</p>"
   ]
  },
  {
   "cell_type": "code",
   "execution_count": 5,
   "metadata": {
    "tags": [
     "l2",
     "s2",
     "ans"
    ]
   },
   "outputs": [
    {
     "name": "stdout",
     "output_type": "stream",
     "text": [
      "[ 2  3  4  5  6  7  8  9 10 11 12]\n"
     ]
    }
   ],
   "source": [
    "Y = np.arange(2, 13, 1)\n",
    "print(Y)"
   ]
  },
  {
   "cell_type": "code",
   "execution_count": 6,
   "metadata": {
    "tags": [
     "l2",
     "hid",
     "s2"
    ]
   },
   "outputs": [
    {
     "name": "stdout",
     "output_type": "stream",
     "text": [
      "continue\n"
     ]
    }
   ],
   "source": [
    "ref_tmp_var = False\n",
    "\n",
    "\n",
    "try:\n",
    "    ref_assert_var = False\n",
    "    Y_ = np.arange(2, 13, 1)\n",
    "    \n",
    "    if np.all(Y == Y_):\n",
    "      ref_assert_var = True\n",
    "    else:\n",
    "      ref_assert_var = False\n",
    "    \n",
    "except Exception:\n",
    "    print('Please follow the instructions given and use the same variables provided in the instructions.')\n",
    "else:\n",
    "    if ref_assert_var:\n",
    "        ref_tmp_var = True\n",
    "    else:\n",
    "        print('Please follow the instructions given and use the same variables provided in the instructions.')\n",
    "\n",
    "\n",
    "assert ref_tmp_var"
   ]
  },
  {
   "cell_type": "markdown",
   "metadata": {
    "tags": [
     "l3",
     "s3",
     "content"
    ]
   },
   "source": [
    "\n",
    "\n",
    "<br/><br/><br/>\n",
    "## Event Types\n",
    "\n",
    "Probability of an event = Number of occurences of the event / Number of events in the sample space.\n",
    "\n",
    "\n",
    "### Dependent Events\n",
    "\n",
    "Dependent events are events where occurence of an event A is dependent or is affected by the occurence of the event B. Hence, the probability of the event A:\n",
    "\n",
    "P(A|B)\n",
    "\n",
    "For example, after picking a black ball from a box of colored balls, the probability of picking a black ball again will be small. In other words, the second event's probability is dependent on the color of the ball picked in the first event.\n",
    "\n",
    "<img src=\"../images/dep_event.png\" style=\"width: 700px;\">\n",
    "\n",
    "\n",
    "### Independent Events\n",
    "\n",
    "Independent events are events where the occurence of an event in the sample space are not dependent or are affected by the occurrence of the rest of the events.\n",
    "\n",
    "Hence, occurrence of the events A, B, C simultaneously is a product of the occurrence of the events independently. \n",
    "\n",
    "P(A, B, C) = P(A) x P(B) x P(C)\n",
    "\n",
    "Since A is independent of B, probability of A given B, P(A|B) = P(A).\n",
    "\n",
    "For example, if we pick a card from a deck and replace it before picking the next card, the probability of the second event is unaffected by the first event.\n",
    "\n",
    "<img src=\"../images/indep_event.png\" style=\"width: 700px;\">\n",
    "\n",
    "\n",
    "\n",
    "### Mutually Exclusive Events\n",
    "\n",
    "Mutually exclusive events are events where occurrence of an event guarantees non-occurrence of the other events. An example is occurrence of a number 1 on dice throw will exclude occurrence of 2, 3, 4, 5 and 6.\n",
    "\n",
    "\n",
    "<br/>\n",
    "## Exercise:\n",
    "\n",
    "What is the probability of an event in the rolling of the dice.\n",
    "\n",
    " - Assign to variable p_dice and print the value"
   ]
  },
  {
   "cell_type": "code",
   "execution_count": 5,
   "metadata": {
    "collapsed": true,
    "tags": [
     "l3",
     "s3",
     "ce"
    ]
   },
   "outputs": [],
   "source": [
    "# Occurence of an event / No. of events in the sample space"
   ]
  },
  {
   "cell_type": "markdown",
   "metadata": {
    "tags": [
     "l3",
     "s3",
     "hint"
    ]
   },
   "source": [
    "<p>define the sample space</p>"
   ]
  },
  {
   "cell_type": "code",
   "execution_count": 7,
   "metadata": {
    "collapsed": true,
    "tags": [
     "l3",
     "s3",
     "ans"
    ]
   },
   "outputs": [],
   "source": [
    "p_dice = 1.0/6.0"
   ]
  },
  {
   "cell_type": "code",
   "execution_count": 8,
   "metadata": {
    "tags": [
     "l3",
     "s3",
     "hid"
    ]
   },
   "outputs": [
    {
     "name": "stdout",
     "output_type": "stream",
     "text": [
      "continue\n"
     ]
    }
   ],
   "source": [
    "ref_tmp_var = False\n",
    "\n",
    "\n",
    "try:\n",
    "    ref_assert_var = False\n",
    "    comp_ = abs(p_dice - 0.167)\n",
    "    \n",
    "    if comp_ < 0.1:\n",
    "      ref_assert_var = True\n",
    "    else:\n",
    "      ref_assert_var = False\n",
    "    \n",
    "except Exception:\n",
    "    print('Please follow the instructions given and use the same variables provided in the instructions.')\n",
    "else:\n",
    "    if ref_assert_var:\n",
    "        ref_tmp_var = True\n",
    "    else:\n",
    "        print('Please follow the instructions given and use the same variables provided in the instructions.')\n",
    "\n",
    "\n",
    "assert ref_tmp_var"
   ]
  },
  {
   "cell_type": "markdown",
   "metadata": {
    "tags": [
     "l4",
     "s4",
     "content"
    ]
   },
   "source": [
    "\n",
    "\n",
    "\n",
    "<br/><br/><br/>\n",
    "## Probability Distributions\n",
    "\n",
    "### Probability Distributions\n",
    "\n",
    "Probability Distributions are functions of a discrete random variable that measure the probability that the variable will lie in an interval. They are of two types: \n",
    "\n",
    " - Probability Density Function (pdf)\n",
    " - Probability Mass Function (pmf)\n",
    "\n",
    "A function where the area under the curve within an interval of values yields a probability of that variable that lies in the interval. This is applicable for continuous random variables.\n",
    "\n",
    "### Probability Mass Function (PMF)\n",
    "\n",
    "A PMF is a histogram of probability of a discrete random variable. This is most useful for our study of Data Science. Let us continue to understand pmf via the previous example of rolling two dice.\n",
    "\n",
    "### Two Rolling Dice Problem\n",
    "\n",
    "We looked at the scenario where two dice was rolled and studied the associated random variable. Mathematically,\n",
    "\n",
    " - D1: Random variable that a single die is rolled\n",
    " - D2: Random variable that another single die is rolled\n",
    " - Y = D1 + D2, the random variable of interest\n",
    " \n",
    "Suppose our outcome is the number 4, the possible combinations that led to the outcome are:\n",
    "\n",
    "\n",
    "<img src=\"../images/sumofdice.png\" style=\"width: 350px;\">\n",
    "\n",
    "<img src=\"../images/twodice.png\" style=\"width: 350px;\">\n",
    "\n",
    "\n",
    "\n",
    "\n",
    "You can observe that there are 4 combinations that yield the outcome 4. Also these individual combinations occur with the same probability as they are independent events (Each roll of two dice is an event and hence one event doesnt affect any other event or roll or two dice). Since the combination of 2 and 2 are just one combination, the two dice yield the combination once, hence the number of occurences of the unique combination of (2, 2) is 1.\n",
    "\n",
    "If you were to count all possible combinations of D1, D2 for each value of Y = {2, 3, ..., 12}, then there would be 36 numbers.\n",
    "\n",
    "Hence, the probability of number 4 = {3 combinations / 36 combinations } = 1/12 = 0.083\n",
    "\n",
    "\n",
    "<br/>\n",
    "## Exercise:\n",
    "\n",
    "Scenario: You are in a guessing game where two dice are rolled and you are rewarded if you guessed the total number correctly.\n",
    "\n",
    " - What number would you bet on and why?\n",
    " - Assign the possible combinations of the random variable as tuples to the list Y.\n",
    " - Compute the probability of your number and assign it to p_y."
   ]
  },
  {
   "cell_type": "code",
   "execution_count": 9,
   "metadata": {
    "collapsed": true,
    "tags": [
     "l4",
     "s4",
     "ce"
    ]
   },
   "outputs": [],
   "source": [
    "import numpy as np\n",
    "\n",
    "Y = []\n",
    "\n"
   ]
  },
  {
   "cell_type": "markdown",
   "metadata": {
    "tags": [
     "s4",
     "l4",
     "hint"
    ]
   },
   "source": [
    "<p>You would like to guess the number that has the higest probability.</p>"
   ]
  },
  {
   "cell_type": "code",
   "execution_count": 10,
   "metadata": {
    "collapsed": true,
    "tags": [
     "s4",
     "l4",
     "ans"
    ]
   },
   "outputs": [],
   "source": [
    "Y = np.array([(1, 6), (6, 1), (2, 5), (5, 2), (3, 4), (4, 3)])\n",
    "p_y = 6/36"
   ]
  },
  {
   "cell_type": "code",
   "execution_count": 11,
   "metadata": {
    "tags": [
     "s4",
     "hid",
     "l4"
    ]
   },
   "outputs": [
    {
     "name": "stdout",
     "output_type": "stream",
     "text": [
      "continue\n"
     ]
    }
   ],
   "source": [
    "ref_tmp_var = False\n",
    "\n",
    "\n",
    "try:\n",
    "    ref_assert_var = False\n",
    "    Y_ = np.array([(1, 6), (6, 1), (2, 5), (5, 2), (3, 4), (4, 3)])\n",
    "    p_y_ = 6/36\n",
    "    \n",
    "    if np.all(Y == Y_) and (p_y == p_y_):\n",
    "      ref_assert_var = True\n",
    "    else:\n",
    "      ref_assert_var = False\n",
    "    \n",
    "except Exception:\n",
    "    print('Please follow the instructions given and use the same variables provided in the instructions.')\n",
    "else:\n",
    "    if ref_assert_var:\n",
    "        ref_tmp_var = True\n",
    "    else:\n",
    "        print('Please follow the instructions given and use the same variables provided in the instructions.')\n",
    "\n",
    "\n",
    "assert ref_tmp_var"
   ]
  }
 ],
 "metadata": {
  "executed_sections": [],
  "kernelspec": {
   "display_name": "Python 3",
   "language": "python",
   "name": "python3"
  },
  "language_info": {
   "codemirror_mode": {
    "name": "ipython",
    "version": 3
   },
   "file_extension": ".py",
   "mimetype": "text/x-python",
   "name": "python",
   "nbconvert_exporter": "python",
   "pygments_lexer": "ipython3",
   "version": "3.6.1"
  },
  "rf_version": 1
 },
 "nbformat": 4,
 "nbformat_minor": 2
}
