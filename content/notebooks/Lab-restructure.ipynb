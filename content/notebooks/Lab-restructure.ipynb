{
 "cells": [
  {
   "cell_type": "markdown",
   "metadata": {},
   "source": [
    "# Lab Restructuring"
   ]
  },
  {
   "cell_type": "code",
   "execution_count": 23,
   "metadata": {},
   "outputs": [
    {
     "name": "stdout",
     "output_type": "stream",
     "text": [
      "File Count is  51\n",
      "{02-Lab-Agglomerative-clustering.ipynb: /home/mani/workspace/dsin100days/DEV/DSin100days/content/07-Unsupervised_Models/06-Heirarchical_Clustering/02-Lab-Agglomerative-clustering.ipynb,\n",
      "  02-Lab-DBSCAN-clustering.ipynb: /home/mani/workspace/dsin100days/DEV/DSin100days/content/07-Unsupervised_Models/03-DBScan/02-Lab-DBSCAN-clustering.ipynb,\n",
      "  02-Lab-KMeans-clustering.ipynb: /home/mani/workspace/dsin100days/DEV/DSin100days/content/07-Unsupervised_Models/02-K-means_Clustering/02-Lab-KMeans-clustering.ipynb,\n",
      "  02-Lab-LogisticRegression.ipynb: /home/mani/workspace/dsin100days/DEV/DSin100days/content/06-Classification_models_in_Machine_Learning/01-Classification_-_Logistic_Regression/02-Lab-LogisticRegression.ipynb,\n",
      "  02-Lab-PCA.ipynb: /home/mani/workspace/dsin100days/DEV/DSin100days/content/07-Unsupervised_Models/04-Dimensionality_Reduction_-_PCA/02-Lab-PCA.ipynb,\n",
      "  02-Lab-PolynomialRegression.ipynb: /home/mani/workspace/dsin100days/DEV/DSin100days/content/05-Regression_models_in_Machine_Learning/02-Polynomial_Regression/02-Lab-PolynomialRegression.ipynb,\n",
      "  02-Lab-Regularization-Ridge.ipynb: /home/mani/workspace/dsin100days/DEV/DSin100days/content/05-Regression_models_in_Machine_Learning/05-Regularization/02-Lab-Regularization-Ridge.ipynb,\n",
      "  02-Lab-SVD.ipynb: /home/mani/workspace/dsin100days/DEV/DSin100days/content/07-Unsupervised_Models/05-Single_value_decomposition/02-Lab-SVD.ipynb,\n",
      "  02-Lab-SVR-Linear.ipynb: /home/mani/workspace/dsin100days/DEV/DSin100days/content/05-Regression_models_in_Machine_Learning/08-Support_Vector_Machines_-_SVR/02-Lab-SVR-Linear.ipynb,\n",
      "  02-Lab-XGBoost-Classification.ipynb: /home/mani/workspace/dsin100days/DEV/DSin100days/content/06-Classification_models_in_Machine_Learning/08-XGBoost/02-Lab-XGBoost-Classification.ipynb,\n",
      "  03-Lab-Regularization-Lasso.ipynb: /home/mani/workspace/dsin100days/DEV/DSin100days/content/05-Regression_models_in_Machine_Learning/05-Regularization/03-Lab-Regularization-Lasso.ipynb,\n",
      "  03-Lab-SVR-Poly.ipynb: /home/mani/workspace/dsin100days/DEV/DSin100days/content/05-Regression_models_in_Machine_Learning/08-Support_Vector_Machines_-_SVR/03-Lab-SVR-Poly.ipynb,\n",
      "  03-Lab-XGBoost-Regression.ipynb: /home/mani/workspace/dsin100days/DEV/DSin100days/content/06-Classification_models_in_Machine_Learning/08-XGBoost/03-Lab-XGBoost-Regression.ipynb,\n",
      "  Lab-Bias-Variance.ipynb: /home/mani/workspace/dsin100days/DEV/DSin100days/content/05-Regression_models_in_Machine_Learning/06-Bias_variance_trade_off/Lab-Bias-Variance.ipynb,\n",
      "  Lab-BoostedTrees.ipynb: /home/mani/workspace/dsin100days/DEV/DSin100days/content/06-Classification_models_in_Machine_Learning/07-Boosted_Trees/Lab-BoostedTrees.ipynb,\n",
      "  Lab-Data_Visualization1.ipynb: /home/mani/workspace/dsin100days/DEV/DSin100days/content/02-Python_for_Data_Scientists/10-Data_Visualization_with_Matplotlib_and_Plotly/Lab-Data_Visualization1.ipynb,\n",
      "  Lab-Data_Visualization2.ipynb: /home/mani/workspace/dsin100days/DEV/DSin100days/content/02-Python_for_Data_Scientists/10-Data_Visualization_with_Matplotlib_and_Plotly/Lab-Data_Visualization2.ipynb,\n",
      "  Lab-Dataframes.ipynb: /home/mani/workspace/dsin100days/DEV/DSin100days/content/02-Python_for_Data_Scientists/09-Data_Analysis_with_Pandas/Lab-Dataframes.ipynb,\n",
      "  Lab-DecisionTrees.ipynb: /home/mani/workspace/dsin100days/DEV/DSin100days/content/06-Classification_models_in_Machine_Learning/05-Decision_Trees/Lab-DecisionTrees.ipynb,\n",
      "  Lab-How_to_do_Data_Science.ipynb: /home/mani/workspace/dsin100days/DEV/DSin100days/content/01-The_Process_of_Data_Science/02-How_to_do_Data_Science/Lab-How_to_do_Data_Science.ipynb,\n",
      "  Lab-Intro-to-Python.ipynb: /home/mani/workspace/dsin100days/DEV/DSin100days/content/02-Python_for_Data_Scientists/01-Introduction_to_Python/Lab-Intro-to-Python.ipynb,\n",
      "  Lab-Intro_to_data.ipynb: /home/mani/workspace/dsin100days/DEV/DSin100days/content/03-Data_Handling_101_for_Data_Scientists/01-What_is_Data_and_Data_formats/Lab-Intro_to_data.ipynb,\n",
      "  Lab-Intro_to_statsmodels_and_sklearn.ipynb: /home/mani/workspace/dsin100days/DEV/DSin100days/content/02-Python_for_Data_Scientists/11-Introduction_to_Stats_Models_Sklearn/Lab-Intro_to_statsmodels_and_sklearn.ipynb,\n",
      "  Lab-Libraries_and_Functions.ipynb: /home/mani/workspace/dsin100days/DEV/DSin100days/content/02-Python_for_Data_Scientists/06-Libraries_and_functions/Lab-Libraries_and_Functions.ipynb,\n",
      "  Lab-LinearRegression.ipynb: /home/mani/workspace/dsin100days/DEV/DSin100days/content/05-Regression_models_in_Machine_Learning/01-Supervised_Models_and_Linear_Regression/Lab-LinearRegression.ipynb,\n",
      "  Lab-Naives-Bayes-Classifier.ipynb: /home/mani/workspace/dsin100days/DEV/DSin100days/content/06-Classification_models_in_Machine_Learning/03-Naives_Bayes_Classifier/Lab-Naives-Bayes-Classifier.ipynb,\n",
      "  Lab-Numpy1.ipynb: /home/mani/workspace/dsin100days/DEV/DSin100days/content/02-Python_for_Data_Scientists/08-Computations_with_Numpy/Lab-Numpy1.ipynb,\n",
      "  Lab-Numpy2.ipynb: /home/mani/workspace/dsin100days/DEV/DSin100days/content/02-Python_for_Data_Scientists/08-Computations_with_Numpy/Lab-Numpy2.ipynb,\n",
      "  Lab-Probability.ipynb: /home/mani/workspace/dsin100days/DEV/DSin100days/content/04-Math_and_Stats_for_Data_Science/05-Distributions_and_associated_statistics/Lab-Probability.ipynb,\n",
      "  Lab-RandomForest.ipynb: /home/mani/workspace/dsin100days/DEV/DSin100days/content/06-Classification_models_in_Machine_Learning/06-Random_Forests/Lab-RandomForest.ipynb,\n",
      "  Lab-SVC.ipynb: /home/mani/workspace/dsin100days/DEV/DSin100days/content/06-Classification_models_in_Machine_Learning/04-Support_Vector_Machines_-_SVC/Lab-SVC.ipynb,\n",
      "  Lab-SVM_SVC.ipynb: /home/mani/workspace/dsin100days/DEV/DSin100days/content/05-Regression_models_in_Machine_Learning/08-Support_Vector_Machines_-_SVR/Lab-SVM_SVC.ipynb,\n",
      "  Lab-What_is_Data_Science.ipynb: /home/mani/workspace/dsin100days/DEV/DSin100days/content/01-The_Process_of_Data_Science/01-What_is_Data_Science/Lab-What_is_Data_Science.ipynb,\n",
      "  Lab-creating-reusable-programs.ipynb: /home/mani/workspace/dsin100days/DEV/DSin100days/content/02-Python_for_Data_Scientists/07-Creating_reusable_programs/Lab-creating-reusable-programs.ipynb,\n",
      "  Lab-data-structures-in-python.ipynb: /home/mani/workspace/dsin100days/DEV/DSin100days/content/02-Python_for_Data_Scientists/03-Data_Structures_in_python/Lab-data-structures-in-python.ipynb,\n",
      "  Lab-dealing-with-strings-and-dates.ipynb: /home/mani/workspace/dsin100days/DEV/DSin100days/content/02-Python_for_Data_Scientists/04-Dealing_with_strings_and_dates/Lab-dealing-with-strings-and-dates.ipynb,\n",
      "  Lab-decision-statements-and-loops.ipynb: /home/mani/workspace/dsin100days/DEV/DSin100days/content/02-Python_for_Data_Scientists/05-Decision_statements_and_loops/Lab-decision-statements-and-loops.ipynb,\n",
      "  Lab-file-io.ipynb: /home/mani/workspace/dsin100days/DEV/DSin100days/content/03-Data_Handling_101_for_Data_Scientists/05-File_io_using_Python/Lab-file-io.ipynb,\n",
      "  Lab-introduction-to-jupyter-notebooks.ipynb: /home/mani/workspace/dsin100days/DEV/DSin100days/content/02-Python_for_Data_Scientists/02-Introduction_to_Jupyter_Notebooks/Lab-introduction-to-jupyter-notebooks.ipynb,\n",
      "  Lab_API.ipynb: /home/mani/workspace/dsin100days/DEV/DSin100days/content/03-Data_Handling_101_for_Data_Scientists/06-Data_import_using_APIs/Lab_API.ipynb,\n",
      "  Lab_Data_formats.ipynb: /home/mani/workspace/dsin100days/DEV/DSin100days/content/03-Data_Handling_101_for_Data_Scientists/04-Dealing_with_CSVs_TIFFs_and_other_file_formats_in_Python/Lab_Data_formats.ipynb,\n",
      "  Lab_MCT.ipynb: /home/mani/workspace/dsin100days/DEV/DSin100days/content/04-Math_and_Stats_for_Data_Science/03-Introduction_to_Statistics/Lab_MCT.ipynb,\n",
      "  Lab_Relational_data.ipynb: /home/mani/workspace/dsin100days/DEV/DSin100days/content/03-Data_Handling_101_for_Data_Scientists/02-Relational_Data/Lab_Relational_data.ipynb,\n",
      "  Lab_SGD.ipynb: /home/mani/workspace/dsin100days/DEV/DSin100days/content/05-Regression_models_in_Machine_Learning/10-Stochastic_Gradient_Descent/Lab_SGD.ipynb,\n",
      "  Lab_SQL_in_Python.ipynb: /home/mani/workspace/dsin100days/DEV/DSin100days/content/03-Data_Handling_101_for_Data_Scientists/03-SQL_in_Python/Lab_SQL_in_Python.ipynb,\n",
      "  Lab_Set_Theory.ipynb: /home/mani/workspace/dsin100days/DEV/DSin100days/content/04-Math_and_Stats_for_Data_Science/01-Introduction_to_set_theory/Lab_Set_Theory.ipynb,\n",
      "  Lab_data_preparation.ipynb: /home/mani/workspace/dsin100days/DEV/DSin100days/content/03-Data_Handling_101_for_Data_Scientists/09-Data_Cleaning/Lab_data_preparation.ipynb,\n",
      "  Lab_webscraping_using_python.ipynb: /home/mani/workspace/dsin100days/DEV/DSin100days/content/03-Data_Handling_101_for_Data_Scientists/07-Web_Scraping_using_Python/Lab_webscraping_using_python.ipynb,\n",
      "  Merging_Data_Lab.ipynb: /home/mani/workspace/dsin100days/DEV/DSin100days/content/03-Data_Handling_101_for_Data_Scientists/08-Merging_data_from_various_sources/Merging_Data_Lab.ipynb}\n",
      "\n"
     ]
    }
   ],
   "source": [
    "import glob\n",
    "import shutil\n",
    "import os\n",
    "import yaml\n",
    "\n",
    "source_path = '/home/mani/workspace/dsin100days/DEV/DSin100days/'\n",
    "dst_path = '/home/mani/workspace/flat_labs'\n",
    "\n",
    "#create directory if does not exists\n",
    "if not os.path.exists(dst_path):\n",
    "    os.makedirs(dst_path)\n",
    "    \n",
    "file_names = []\n",
    "labs = []\n",
    "lab_maps = {}\n",
    "\n",
    "## Reading the files from sub-directories\n",
    "for full_path in glob.iglob(source_path + '**/*Lab*.ipynb', recursive=True):\n",
    "    lab_name = os.path.basename(full_path)\n",
    "    labs.append(lab_name)\n",
    "    file_names.append(full_path)\n",
    "    lab_maps[lab_name] = str(full_path)\n",
    "    #Copying the lab files\n",
    "    shutil.copy(full_path, dst_path)\n",
    "\n",
    "#Creating the YAML content\n",
    "data = dict(zip(labs, file_names))\n",
    "print('File Count is ', len(fileNames))\n",
    "\n",
    "# Writing the filename mappings to YAML file - labfiles.yaml\n",
    "fs = open(dst_path + '/01-config-labfiles.yaml', 'w+')\n",
    "yaml.dump(lab_maps, fs, explicit_start=True)\n",
    "print(yaml.dump(data))\n"
   ]
  }
 ],
 "metadata": {
  "kernelspec": {
   "display_name": "Python 3",
   "language": "python",
   "name": "python3"
  }
 },
 "nbformat": 4,
 "nbformat_minor": 2
}
