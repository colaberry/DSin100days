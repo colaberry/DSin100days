{
 "cells": [
  {
   "cell_type": "markdown",
   "metadata": {
    "tags": [
     "s1",
     "content",
     "l1"
    ]
   },
   "source": [
    "# Welcome to the Machine Learning Track!\n",
    "\n",
    "The Machine Learning Track is intended for students who wish to develop their knowledge of machine learning techniques and applications. Machine learning is a rapidly expanding field with many applications in diverse areas such as artificial intelligence, bioinformatics, fraud detection, intelligent systems, perception, finance, information retrieval, and other areas. Since it is a rapidly growing area that is driving pervasive technological change, machine learning has developed a variety of its own sub-fields, specialized technical tools and methodologies.\n",
    "\n",
    "Machine learning, according to Arthur Samuel, gives **\"computers the ability to learn without being explicitly programmed\"**. Machine Learning consists of two terms Machine and Learning, which can be also be thought as a \"Machine that learns\"\n",
    "\n",
    "<img src=\"../images/ML_venn_diagram.png\", style=\"width: 600px;\">\n",
    "\n",
    "## Role of a Machine Learning Engineer\n",
    "\n",
    "Machine learning engineer's are generally a part of engineering organization and they generally build, implement, and maintain production machine learning systems(e.g. recommendations, personalized ranking, and a lot more). \n",
    "They are responsible for maintaining the health of machine learning systems, including speed, reliability, and performance. They develop internal machine learning frameworks and abstractions to facilitate common tasks such as training / testing, feature use / reuse / creation / storage, and deployment. These abstractions are used by both machine learning engineers and data scientists.\n",
    "\n",
    "## Difference between Data Scientist and Machine Learning Engineer\n",
    "\n",
    "The algorithms used by Data Analyst or Data Scientist are the ones designed and created by Machine Learning Engineer. They build the algorithms and then pass it to Data Scientist to implement them. There is generally an overlap in some part of a role of Machine leanring Engineer and Data Scientist. The role of Data Scientist leans more toward Statistical Analysis Research and the ML Engineer leans more toward Data/Engineering. The following diagram will help us to understand about the responsibilites of both Machine Learning Engineer and Data Scientist.\n",
    "\n",
    "## Areas of Machine Learning.\n",
    "\n",
    "These are different areas of machine learning:\n",
    "\n",
    "* Supervised Learning\n",
    "* Unsupervised Learning\n",
    "* Reinforcement learning\n",
    "* Recommendations\n",
    "\n",
    "A broad set of algorithms are shown here:\n",
    "\n",
    "<img src=\"../images/supervised_unsupervised_learning.png\", style=\"width: 600px;\">\n",
    "\n",
    "We shall proceed to learn Supervised learning next.\n",
    "\n",
    "## What can I expect out of this course?\n",
    "\n",
    "This course is expected to provide an in depth knowledge of all the concepts required by a Machine Leraning Engineer. The course content imparts the knowledge of a concept and immediately provides an opportunity to apply the concepts learned. The exhaustive content introduces (and allows intensive practice of) all concepts, knowledge of which is essential to succeed as a Machine Learning Engineer. However, continuous practice is recommended for gaining expertise in application of concepts to various situations that may be encountered in a professional environment.\n",
    "\n",
    "## Pre-requisites - Python\n",
    "\n",
    "Basic level of python is expected for this track. You will need to learn python if you aren't conversant with it at:\n",
    "\n",
    "* https://refactored.ai/path/python/\n",
    "\n",
    "If you are already familiar with python basics then you can proceed with the course."
   ]
  },
  {
   "cell_type": "code",
   "execution_count": null,
   "metadata": {
    "collapsed": true,
    "tags": [
     "s1",
     "ce",
     "l1"
    ]
   },
   "outputs": [],
   "source": [
    "#run and submit to complete the course"
   ]
  },
  {
   "cell_type": "markdown",
   "metadata": {
    "tags": [
     "s1",
     "l1",
     "hint"
    ]
   },
   "source": []
  },
  {
   "cell_type": "code",
   "execution_count": null,
   "metadata": {
    "collapsed": true,
    "tags": [
     "s1",
     "l1",
     "ans"
    ]
   },
   "outputs": [],
   "source": []
  },
  {
   "cell_type": "code",
   "execution_count": null,
   "metadata": {
    "collapsed": true,
    "tags": [
     "s1",
     "hid",
     "l1"
    ]
   },
   "outputs": [],
   "source": [
    "ref_tmp_var = False\n",
    "\n",
    "ref_tmp_var = True\n",
    "\n",
    "assert ref_tmp_var"
   ]
  }
 ],
 "metadata": {
  "executed_sections": [],
  "kernelspec": {
   "display_name": "Python 3",
   "language": "python",
   "name": "python3"
  },
  "language_info": {
   "codemirror_mode": {
    "name": "ipython",
    "version": 3
   },
   "file_extension": ".py",
   "mimetype": "text/x-python",
   "name": "python",
   "nbconvert_exporter": "python",
   "pygments_lexer": "ipython3",
   "version": "3.6.0"
  }
 },
 "nbformat": 4,
 "nbformat_minor": 2
}
