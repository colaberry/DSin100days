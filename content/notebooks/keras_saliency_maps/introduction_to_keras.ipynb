{
 "cells": [
  {
   "cell_type": "markdown",
   "metadata": {},
   "source": [
    "TensorFlow provides three ways to code up neural networks. The first is a graph mode where you can define and carry out calculations on a computational graph. The second is Eager mode which is more dynamic in nature. In Eager more you do not need to define a computational graph to run the code network and it allow for quick prototyping. The third mode is the subject of this notebook called the Keras API. Keras was a high level prototyping framework for deep learning. TensorFlow adopted keras into it's ecosystem due to its ease of use. TensorlFlow now provides Keras as part of it main platform. \n",
    "\n",
    "Keras is possibly the easiest deep learning framework to learn. As you will see over the course of this notebook, Keras is intuitive and its well integrated with  with TensorFlow. \n",
    "\n",
    "We will look at the following topics over the course of this notebook- \n",
    "\n",
    "1) Building a MNIST model in Keras <br>\n",
    "2) Saving and loading models <br>\n",
    "3) Import a pretrained VGG 16 model in Keras <br> \n",
    "4) Getting intermediate layer outputs <br> \n",
    "\n",
    "We first start by building a MNIST model\n",
    "\n",
    "## 1) Building a MNIST model in Keras \n",
    "\n",
    "The MNIST dataset is a image dataset of handwritten digits. These images are grayscale images and range from digits 0 to 9. The classification task is to identify which digit based on the image. MNIST is a standard benchmarking dataset that is easy to train since the image sizes are small (28 X 28).\n",
    "\n",
    "We start with the import statements below. Notice we are importing layers from keras directly. As of TensorFlow 2.0 all TensorFlow layers are now by default keras layers. Hence, they can be used to construct TensorFlow or Keras based networks.\n",
    "\n",
    "\n"
   ]
  },
  {
   "cell_type": "code",
   "execution_count": 2,
   "metadata": {
    "ExecuteTime": {
     "end_time": "2020-02-11T00:01:57.013598Z",
     "start_time": "2020-02-11T00:01:57.004603Z"
    }
   },
   "outputs": [
    {
     "name": "stdout",
     "output_type": "stream",
     "text": [
      "2.0.0\n"
     ]
    },
    {
     "data": {
      "text/plain": [
       "True"
      ]
     },
     "execution_count": 2,
     "metadata": {},
     "output_type": "execute_result"
    }
   ],
   "source": [
    "import tensorflow as tf \n",
    "import numpy as np \n",
    "# import matplotlib.pyplot as plt\n",
    "\n",
    "from tensorflow.keras.layers import Dense, Flatten, Conv2D, InputLayer\n",
    "from tensorflow.keras import Model\n",
    "from tensorflow.keras import backend as k \n",
    "\n",
    "import imagenet_classes as ic \n",
    "\n",
    "# checking the version of tensorflow\n",
    "print(tf.__version__) \n",
    "\n",
    "\n",
    "# In TensorFlow 2.0 this is the way\n",
    "# to activate eager execution mode\n",
    "# and ONLY this way. \n",
    "tf.executing_eagerly()\n"
   ]
  },
  {
   "cell_type": "markdown",
   "metadata": {},
   "source": [
    "We have also included tf.executing_eagerly() since we want Eager execution turned on so we can perform tensor calculations when needed.\n",
    "\n",
    "The first line of the code below imports the mnist dataset from keras.datasets. The load data function allows us to acquire th test and train sets. Next we normalize the dataset by dividing it by 255 since these are grayscale images. \n",
    "\n",
    "The x_train and x_test objects are TensorFlow eager tensors containing 60,000 images in the training set and 10,000 images. TensorFlow and Keras require the tensor dimensions of the form  (Number of images, Height, Width, Number of channels ), therefore we need to add an extra dimension to account for the channel. These channels are added through tf.newaxis. \n",
    "We print the final shape of the training set and the test set to check if the dimensions are proper.\n"
   ]
  },
  {
   "cell_type": "code",
   "execution_count": 3,
   "metadata": {
    "ExecuteTime": {
     "end_time": "2020-02-11T00:01:58.691910Z",
     "start_time": "2020-02-11T00:01:58.267680Z"
    }
   },
   "outputs": [
    {
     "name": "stdout",
     "output_type": "stream",
     "text": [
      "training set shape (60000, 28, 28, 1)\n",
      "test set shape (10000, 28, 28, 1)\n"
     ]
    }
   ],
   "source": [
    "# get minst data\n",
    "mnist = tf.keras.datasets.mnist\n",
    "\n",
    "(x_train, y_train), (x_test, y_test) = mnist.load_data()\n",
    "\n",
    "x_train = x_train / 255.0\n",
    "x_test =  x_test / 255.0\n",
    "\n",
    "# add channel \n",
    "# Add a channels dimension\n",
    "x_train = x_train[..., tf.newaxis]\n",
    "x_test = x_test[..., tf.newaxis]\n",
    "\n",
    "print(\"training set shape {}\".format(x_train.shape))\n",
    "print(\"test set shape {}\".format(x_test.shape))\n",
    "\n"
   ]
  },
  {
   "cell_type": "markdown",
   "metadata": {},
   "source": [
    "A Keras model is defined using the \"Sequential\" method from Keras.models. We provide Sequential with a list of layers which are compiled into the model. The first layer we are providing is the InputLayer. We provide this layer with information about the input image's shape and a name for the layer. It is a good habit to provide names to each Keras layer since it makes it more intuitive to track layers and identify layers when we are trying to get layer-wise output. \n",
    "\n",
    "The next layer is a 2D convolution layer with 32 filters. Each convolution filter is 3X3 in shape with Relu activation and padding as \"same\". We specific the kernel size which is the size of the convolutional filter.   The \"same\" padding ensures that the output of the convolution layer is a 28 X 28 size feature map which is the size of the original image. You can change the padding to \"valid\" which will reduce the size of the feature map size to 26 X 26. For more information on padding check out the [Keras documentation on convolutional layers](https://keras.io/layers/convolutional/). \n",
    "\n",
    "The Flatten layer takes the convolutional layer and lays it out N X 1 vector. The convolution layer takes a 28 X 28 image and outputs a 28 X 28 X 32 matrix where we have 32 filters of size 28 X 28. Flatten takes this matrix and makes it into a  (28 X 28 X 32 ) X 1 vector which is a 25088 X 1 vector. We flatten a convolutional layer so that we can us dense layers to get an output. \n",
    "\n",
    "Next, we have a dense layer with 128 nodes. This layers take the flatten layer as an input and uses Relu activation. Following this we have another dense layer with 10 nodes which acts the output layer. We use a softmax activation to convert output values to probability values. \n",
    "\n",
    "We compile the model where we specify the type of loss, optimizer type, and the metric. We use a sparse categorical cross entropy since our labels are single digits 0 to 9. If we had used categorical cross entropy we would have to one hot encode the labels. The \"adam\" optimizer is usually a good optimizer to go with when we are solving a classification problem. For this network, honestly the type of optimizer does not matter, since the network is small.  \n",
    "\n",
    "In the last line we run model.fit() to train the model. We provide the batch size we want to use for training and also the number of epochs. We are running the training for only 1 epoch since this is a simple example.\n",
    "\n",
    "While training Keras will output the loss, the accuracy and the estimated time to complete the training. If the loss does not start decreasing as you are training the network or alternatively the accuracy does not keep increasing then stop the code, modify the network and start retraining. The accuracy will be reported between 0 and 1 so for example a value of 0.40 would be 40% accuracy. Typically at the end of each epoch the loss should reduce significantly and in subsequent epochs should come down close to 0. \n"
   ]
  },
  {
   "cell_type": "code",
   "execution_count": null,
   "metadata": {
    "ExecuteTime": {
     "start_time": "2020-02-11T00:01:59.665Z"
    }
   },
   "outputs": [
    {
     "name": "stdout",
     "output_type": "stream",
     "text": [
      "Train on 60000 samples\n",
      "50432/60000 [========================>.....] - ETA: 0s - loss: 0.1479 - accuracy: 0.9565"
     ]
    }
   ],
   "source": [
    "\n",
    "\n",
    "\n",
    "model = tf.keras.models.Sequential(\n",
    "\n",
    "    [   InputLayer( input_shape=( 28,28,1), name=\"input\"),\n",
    "        Conv2D(filters=32, kernel_size=3, activation='relu',padding='same',name=\"conv1\" ),\n",
    "        Flatten(),\n",
    "        Dense(128, input_shape=(25088,1), name=\"fc1\", activation=\"relu\"),\n",
    "        Dense(10, input_shape=(128,1), name=\"fc2\", activation=\"softmax\"),\n",
    "    ]\n",
    ")\n",
    "\n",
    "\n",
    "model.compile(loss= \"sparse_categorical_crossentropy\", \n",
    "                  optimizer=\"adam\" , \n",
    "                  metrics=['accuracy'])\n",
    "\n",
    "preds = model.fit(x_train, y_train, batch_size=32, epochs=1)\n",
    "\n"
   ]
  },
  {
   "cell_type": "markdown",
   "metadata": {},
   "source": [
    "Keras provides a useful tool to take a look at model called model.summary(). For large models this comes in handy since we can see the various operations that form the model. \n"
   ]
  },
  {
   "cell_type": "code",
   "execution_count": null,
   "metadata": {
    "ExecuteTime": {
     "start_time": "2020-02-11T00:02:01.578Z"
    }
   },
   "outputs": [],
   "source": [
    "model.summary()"
   ]
  },
  {
   "cell_type": "markdown",
   "metadata": {},
   "source": [
    "\n",
    "Once the model finished training it can be used on single examples using model.predict(). We run the predict function on an example image from the training set. The output is an array of 10 numbers. Each number represents the probability of each class and lies between 0 and 1. Running numpy's argmax on the array tells the max index is 5 meaning the image be of the number 5. We check this by displaying the image and sure enough we see the image represents the digit 5. \n",
    "\n",
    "\n"
   ]
  },
  {
   "cell_type": "code",
   "execution_count": null,
   "metadata": {
    "ExecuteTime": {
     "end_time": "2020-02-07T02:56:05.762098Z",
     "start_time": "2020-02-07T02:56:05.006319Z"
    }
   },
   "outputs": [],
   "source": [
    "\n",
    "single_example = x_train[0].reshape(1,28,28,1)\n",
    "softmax_output = model.predict(single_example)\n",
    "print(\"softmax output max index {}\".format(np.argmax(softmax_output)))\n",
    "\n",
    "# display image \n",
    "plt.imshow(single_example.reshape(28,28))"
   ]
  },
  {
   "cell_type": "markdown",
   "metadata": {
    "ExecuteTime": {
     "end_time": "2020-02-07T00:22:47.982543Z",
     "start_time": "2020-02-07T00:22:47.725913Z"
    },
    "run_control": {
     "marked": false
    }
   },
   "source": [
    "## 2) Saving and loading models\n",
    "Once we have trained a model it would be useful to save it. Keras offers the \"save\" and \"load\" commands to save and load models. The models ideally should be saved in an .h5 file. Below, we give the model a name and the .h5 extension to save the model. We then delete the model, reload and run summary and predict another image with it to show that loading the model works. \n",
    "\n"
   ]
  },
  {
   "cell_type": "code",
   "execution_count": null,
   "metadata": {
    "ExecuteTime": {
     "end_time": "2020-02-07T02:56:06.042065Z",
     "start_time": "2020-02-07T02:56:05.771158Z"
    }
   },
   "outputs": [],
   "source": [
    "model.save(\"keras_mnist_model.h5\")\n",
    "del model \n"
   ]
  },
  {
   "cell_type": "code",
   "execution_count": null,
   "metadata": {
    "ExecuteTime": {
     "end_time": "2020-02-07T02:56:07.761354Z",
     "start_time": "2020-02-07T02:56:06.052971Z"
    }
   },
   "outputs": [],
   "source": [
    "mnist_model = tf.keras.models.load_model(\"keras_mnist_model.h5\")\n",
    "mnist_model.summary()"
   ]
  },
  {
   "cell_type": "code",
   "execution_count": null,
   "metadata": {
    "ExecuteTime": {
     "end_time": "2020-02-07T02:56:08.812421Z",
     "start_time": "2020-02-07T02:56:07.778526Z"
    }
   },
   "outputs": [],
   "source": [
    "mnist_model.predict(single_example)\n",
    "softmax_output = mnist_model.predict(single_example)\n",
    "print(\"softmax output max index {}\".format(np.argmax(softmax_output)))\n",
    "\n",
    "# display image \n",
    "plt.imshow(single_example.reshape(28,28))"
   ]
  },
  {
   "cell_type": "markdown",
   "metadata": {},
   "source": [
    "We ran the model on the same example to show that loaded model provides the same output as the saved model. \n",
    "\n",
    "Next, we will look at importing existing models provided by Keras and how to run prediction on them. \n",
    "\n",
    "## 3) Importing and working with VGG 16 model \n",
    " In this section we will import a vgg 16 model and run prediction on a single example to show how to work with pre-trained models. It is possible to train a pre-trained model based on custom data but we will keep that for a separate tutorial. This exercise is there to get you comfortable with Keras. \n",
    " \n",
    " We import the VGG 16 from the keras.applications package. The include top argument is set to true since we are importing both the feature extractor part, which is the convolutional layers and the classifier part, which is the last dense layer named prediction. The weights are imagenet since imagenet can predict 1000 classes.\n"
   ]
  },
  {
   "cell_type": "code",
   "execution_count": null,
   "metadata": {
    "ExecuteTime": {
     "end_time": "2020-02-07T02:56:14.442617Z",
     "start_time": "2020-02-07T02:56:08.817722Z"
    }
   },
   "outputs": [],
   "source": [
    "# import a vgg 16 model \n",
    "vgg16_model = tf.keras.applications.VGG16(include_top=True,\n",
    "                                           weights='imagenet')\n",
    "\n",
    "# layers in a vgg16 model\n",
    "vgg16_model.summary()"
   ]
  },
  {
   "cell_type": "markdown",
   "metadata": {},
   "source": [
    "Once we have the model we need to prepare out example image. VGG 16 takes an image size of (224,224,3) meaning it takes an RGB image of size 224 X 224. We import out image and rescale to this size. \n",
    "\n"
   ]
  },
  {
   "cell_type": "code",
   "execution_count": null,
   "metadata": {
    "ExecuteTime": {
     "end_time": "2020-02-07T02:56:14.557566Z",
     "start_time": "2020-02-07T02:56:14.447940Z"
    }
   },
   "outputs": [],
   "source": [
    "cat_img = plt.imread(\"cat_example.jpg\")\n",
    "cat_img_tf = tf.convert_to_tensor(cat_img)\n",
    "cat_img_reshaped = tf.image.resize(cat_img_tf, size=[224,224])\n",
    "cat_img_reshaped = tf.reshape(cat_img_reshaped,[1, 224, 224,3])\n",
    "# reshaped image \n",
    "print(\"cat image size reshaped {}\" .format(cat_img_reshaped.shape))"
   ]
  },
  {
   "cell_type": "markdown",
   "metadata": {},
   "source": [
    "Now that we have resized image, we will run model.predict to predict the image's class. "
   ]
  },
  {
   "cell_type": "code",
   "execution_count": null,
   "metadata": {
    "ExecuteTime": {
     "end_time": "2020-02-07T02:56:15.963867Z",
     "start_time": "2020-02-07T02:56:14.563184Z"
    }
   },
   "outputs": [],
   "source": [
    "softmax_output = vgg16_model.predict(cat_img_reshaped)\n",
    "class_index = np.argmax(softmax_output)\n",
    "print(\"class index {}\".format(class_index))\n"
   ]
  },
  {
   "cell_type": "markdown",
   "metadata": {},
   "source": [
    "We imported a python file with imagenet class names and in the code below we put the value of the class index to see what is the output class. "
   ]
  },
  {
   "cell_type": "code",
   "execution_count": null,
   "metadata": {
    "ExecuteTime": {
     "end_time": "2020-02-07T02:56:17.083214Z",
     "start_time": "2020-02-07T02:56:15.974264Z"
    }
   },
   "outputs": [],
   "source": [
    "print(\"imagenet class of our output is {}\".format(ic.imagenet_classes[class_index]))\n",
    "      "
   ]
  },
  {
   "cell_type": "markdown",
   "metadata": {
    "ExecuteTime": {
     "end_time": "2020-02-07T02:06:23.591103Z",
     "start_time": "2020-02-07T02:06:23.577053Z"
    },
    "run_control": {
     "marked": false
    }
   },
   "source": [
    "The VGG 16 model predicts that the image represents an egyptian cat. The cat in the image looks similar to an egyptian mau cat hence the mode makes the guess. You can replace the image with some other image to test out the accuracy of the output. \n",
    "\n",
    "Next, we will look at how to get intermediate layer outputs. "
   ]
  },
  {
   "cell_type": "markdown",
   "metadata": {},
   "source": [
    "## 4) layer output \n",
    "\n",
    "There are times when we need to access acquire the output of the neural network in the intermediate layers. For instance, if we want to understand what is happening in the network we need to visualize the feature maps generated by the convolutional layers or for instance the results we achieve in the dense layer. It is possible to write functions in Keras to get the output of the network in the intermediate layers. This is where naming out layers comes in handy. \n",
    "\n",
    "\n",
    "We design a function using the Model object from tensorflow.keras. Model takes our mnist_model inputs as inputs and the outputs as the output of the convolutional layer. If we have done this right, then we should have 1 X 28 X 28 X 32 size tensor. Printing conv_layer_output confirms that we have the correct layer. \n",
    "\n"
   ]
  },
  {
   "cell_type": "code",
   "execution_count": null,
   "metadata": {
    "ExecuteTime": {
     "end_time": "2020-02-07T02:56:17.113468Z",
     "start_time": "2020-02-07T02:55:19.763Z"
    }
   },
   "outputs": [],
   "source": [
    "mnist_layer_output  = Model(inputs= mnist_model.input, outputs=mnist_model.get_layer(\"conv1\").output)\n",
    "conv_layer_output = mnist_layer_output(single_example)\n",
    "print(conv_layer_output.shape)\n",
    "\n"
   ]
  },
  {
   "cell_type": "markdown",
   "metadata": {},
   "source": [
    "What if we want the first dense layer from the mnist model. We write -"
   ]
  },
  {
   "cell_type": "code",
   "execution_count": null,
   "metadata": {
    "ExecuteTime": {
     "end_time": "2020-02-07T02:56:17.118456Z",
     "start_time": "2020-02-07T02:55:19.938Z"
    }
   },
   "outputs": [],
   "source": [
    "mnist_fc_output  = Model(inputs= mnist_model.input, outputs=mnist_model.get_layer(\"fc1\").output)\n",
    "fc_layer_output = mnist_fc_output(single_example)\n",
    "print(fc_layer_output.shape)\n"
   ]
  },
  {
   "cell_type": "markdown",
   "metadata": {},
   "source": [
    "The fc output is a tensor with 128 elements. We can print the values in an array by calling on numpy\n"
   ]
  },
  {
   "cell_type": "code",
   "execution_count": null,
   "metadata": {
    "ExecuteTime": {
     "end_time": "2020-02-07T02:56:17.125345Z",
     "start_time": "2020-02-07T02:55:20.038Z"
    }
   },
   "outputs": [],
   "source": [
    "fc_layer_output.numpy()"
   ]
  },
  {
   "cell_type": "markdown",
   "metadata": {
    "ExecuteTime": {
     "end_time": "2020-02-07T00:22:51.593363Z",
     "start_time": "2020-02-07T00:22:51.230597Z"
    }
   },
   "source": [
    "##  Conclusion \n",
    "\n",
    " We have covered some of the basic functionalities of Keras in this notebook. As you can see, Keras is intuitve and easy to use. It is reduces the steep learning curve of other deep learning frameworks and integrates well with TensorFlow. This notebook is by no means a exhaustive exploration of all the tools in Keras but meant to be a starting point to working with it.We will cover many more Keras functionalities as we proceed through the course."
   ]
  }
 ],
 "metadata": {
  "kernelspec": {
   "display_name": "Python [conda env:tf-gpu]",
   "language": "python",
   "name": "conda-env-tf-gpu-py"
  },
  "language_info": {
   "codemirror_mode": {
    "name": "ipython",
    "version": 3
   },
   "file_extension": ".py",
   "mimetype": "text/x-python",
   "name": "python",
   "nbconvert_exporter": "python",
   "pygments_lexer": "ipython3",
   "version": "3.7.6"
  },
  "latex_envs": {
   "LaTeX_envs_menu_present": true,
   "autoclose": true,
   "autocomplete": true,
   "bibliofile": "biblio.bib",
   "cite_by": "apalike",
   "current_citInitial": 1,
   "eqLabelWithNumbers": true,
   "eqNumInitial": 1,
   "hotkeys": {
    "equation": "Ctrl-E",
    "itemize": "Ctrl-I"
   },
   "labels_anchors": false,
   "latex_user_defs": false,
   "report_style_numbering": true,
   "user_envs_cfg": false
  },
  "toc": {
   "base_numbering": 1,
   "nav_menu": {},
   "number_sections": true,
   "sideBar": true,
   "skip_h1_title": false,
   "title_cell": "Table of Contents",
   "title_sidebar": "Contents",
   "toc_cell": false,
   "toc_position": {},
   "toc_section_display": true,
   "toc_window_display": false
  },
  "varInspector": {
   "cols": {
    "lenName": 16,
    "lenType": 16,
    "lenVar": 40
   },
   "kernels_config": {
    "python": {
     "delete_cmd_postfix": "",
     "delete_cmd_prefix": "del ",
     "library": "var_list.py",
     "varRefreshCmd": "print(var_dic_list())"
    },
    "r": {
     "delete_cmd_postfix": ") ",
     "delete_cmd_prefix": "rm(",
     "library": "var_list.r",
     "varRefreshCmd": "cat(var_dic_list()) "
    }
   },
   "types_to_exclude": [
    "module",
    "function",
    "builtin_function_or_method",
    "instance",
    "_Feature"
   ],
   "window_display": false
  }
 },
 "nbformat": 4,
 "nbformat_minor": 4
}
