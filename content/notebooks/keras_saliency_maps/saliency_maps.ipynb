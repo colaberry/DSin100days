{
 "cells": [
  {
   "cell_type": "code",
   "execution_count": 1,
   "metadata": {
    "ExecuteTime": {
     "end_time": "2020-02-05T23:06:49.350927Z",
     "start_time": "2020-02-05T23:06:43.991149Z"
    }
   },
   "outputs": [
    {
     "name": "stdout",
     "output_type": "stream",
     "text": [
      "2.0.0\n"
     ]
    },
    {
     "data": {
      "text/plain": [
       "True"
      ]
     },
     "execution_count": 1,
     "metadata": {},
     "output_type": "execute_result"
    }
   ],
   "source": [
    "import tensorflow as tf \n",
    "import numpy as np \n",
    "import matplotlib.pyplot as plt\n",
    "\n",
    "# checking the version of tensorflow\n",
    "print(tf.__version__) \n",
    "\n",
    "\n",
    "# In TensorFlow 2.0 this is the way\n",
    "# to activate eager execution mode\n",
    "# and ONLY this way. \n",
    "tf.executing_eagerly()\n"
   ]
  },
  {
   "cell_type": "code",
   "execution_count": 2,
   "metadata": {
    "ExecuteTime": {
     "end_time": "2020-02-05T23:06:52.413407Z",
     "start_time": "2020-02-05T23:06:49.353929Z"
    },
    "code_folding": [
     23
    ],
    "run_control": {
     "marked": false
    }
   },
   "outputs": [
    {
     "name": "stdout",
     "output_type": "stream",
     "text": [
      "training set shape (60000, 28, 28, 1)\n",
      "test set shape (10000, 28, 28, 1)\n"
     ]
    }
   ],
   "source": [
    "# get minst data\n",
    "mnist = tf.keras.datasets.mnist\n",
    "\n",
    "(x_train, y_train), (x_test, y_test) = mnist.load_data()\n",
    "\n",
    "x_train = x_train / 255.0\n",
    "x_test =  x_test / 255.0\n",
    "\n",
    "\n",
    "# add channel \n",
    "# Add a channels dimension\n",
    "x_train = x_train[..., tf.newaxis]\n",
    "x_test = x_test[..., tf.newaxis]\n",
    "\n",
    "print(\"training set shape {}\".format(x_train.shape))\n",
    "print(\"test set shape {}\".format(x_test.shape))\n",
    "\n",
    "\n",
    "    \n",
    "# shuffle and batch the training set\n",
    "batch_size = 32 \n",
    "num_images = 50000\n",
    "\n",
    "train_ds = tf.data.Dataset.from_tensor_slices(\n",
    "    (x_train, y_train)).shuffle(num_images).batch(batch_size)\n",
    "\n",
    "\n",
    "# batch the test set \n",
    "test_ds = tf.data.Dataset.from_tensor_slices((x_test, y_test)).batch(batch_size)\n"
   ]
  },
  {
   "cell_type": "code",
   "execution_count": 4,
   "metadata": {
    "ExecuteTime": {
     "end_time": "2020-02-05T23:07:54.379918Z",
     "start_time": "2020-02-05T23:06:58.386302Z"
    }
   },
   "outputs": [
    {
     "name": "stdout",
     "output_type": "stream",
     "text": [
      "Train on 60000 samples\n",
      "Epoch 1/5\n",
      "60000/60000 [==============================] - 12s 203us/sample - loss: 1.6717 - accuracy: 0.3850- loss: 1.7072 - accu -\n",
      "Epoch 2/5\n",
      "60000/60000 [==============================] - 10s 170us/sample - loss: 1.2770 - accuracy: 0.5748\n",
      "Epoch 3/5\n",
      "60000/60000 [==============================] - 11s 183us/sample - loss: 0.9983 - accuracy: 0.6953\n",
      "Epoch 4/5\n",
      "60000/60000 [==============================] - 11s 186us/sample - loss: 0.7902 - accuracy: 0.7628- loss:\n",
      "Epoch 5/5\n",
      "60000/60000 [==============================] - 11s 183us/sample - loss: 0.6520 - accuracy: 0.8019\n"
     ]
    }
   ],
   "source": [
    "from tensorflow.keras.layers import Dense, Flatten, Conv2D, InputLayer, GlobalAveragePooling2D\n",
    "from tensorflow.keras import Model\n",
    "from tensorflow.keras import backend as k \n",
    "\n",
    "\n",
    "\n",
    "a = tf.keras.backend.placeholder(dtype=tf.float32, shape=(None, 28,28,1))\n",
    "\n",
    "model = tf.keras.models.Sequential(\n",
    "\n",
    "    [   InputLayer( input_shape=( 28,28,1), name=\"input\"),\n",
    "        Conv2D(32, 3, activation='relu',padding='valid',name=\"conv1\" ),\n",
    "        Conv2D(32, 3, activation='relu',padding='same',name=\"conv2\" ),\n",
    "        GlobalAveragePooling2D(),\n",
    "        Dense(10, input_shape=(128,1), name=\"fc2\", activation=\"softmax\"),\n",
    "    ]\n",
    ")\n",
    "\n",
    "\n",
    "model.compile(loss= \"sparse_categorical_crossentropy\", \n",
    "                  optimizer=\"adam\" , \n",
    "                  metrics=['accuracy'])\n",
    "\n",
    "preds = model.fit(x_train, y_train, batch_size=32, epochs=5)\n",
    "\n"
   ]
  },
  {
   "cell_type": "code",
   "execution_count": null,
   "metadata": {},
   "outputs": [],
   "source": [
    "\n",
    "single_example = x_train[0].reshape(1,28,28,1)"
   ]
  },
  {
   "cell_type": "markdown",
   "metadata": {},
   "source": [
    "## Vanilla gradient\n"
   ]
  },
  {
   "cell_type": "code",
   "execution_count": 5,
   "metadata": {
    "ExecuteTime": {
     "end_time": "2020-02-05T23:08:02.358797Z",
     "start_time": "2020-02-05T23:08:02.342799Z"
    }
   },
   "outputs": [],
   "source": [
    "\n",
    "\n",
    "    # vanilla = GradientSaliency(model, Y_train_label[i])\n",
    "\n",
    "input_tensors = [model.input]\n",
    "\n",
    "gradients = model.optimizer.get_gradients(model.output[0][3], model.input)\n",
    "\n",
    "compute_gradients = k.function(inputs = input_tensors, outputs = gradients)\n",
    "\n",
    "gradient_fun  = Model(inputs= model.input, outputs=gradients)\n",
    "\n",
    "gradients_value = gradient_fun(single_example.astype(\"float32\"))\n",
    "gradient_fun(single_example.astype(\"float32\"))\n"
   ]
  },
  {
   "cell_type": "code",
   "execution_count": null,
   "metadata": {},
   "outputs": [],
   "source": [
    "plt.imshow(gradients_value.numpy().reshape(28,28))"
   ]
  },
  {
   "cell_type": "code",
   "execution_count": null,
   "metadata": {},
   "outputs": [],
   "source": [
    "plt.imshow(single_example.reshape(28,28))"
   ]
  },
  {
   "cell_type": "markdown",
   "metadata": {
    "ExecuteTime": {
     "end_time": "2020-02-04T21:53:40.223528Z",
     "start_time": "2020-02-04T21:53:40.211586Z"
    }
   },
   "source": [
    "## Class activation maps "
   ]
  },
  {
   "cell_type": "code",
   "execution_count": 93,
   "metadata": {
    "ExecuteTime": {
     "end_time": "2020-02-05T23:34:46.408346Z",
     "start_time": "2020-02-05T23:34:46.142346Z"
    }
   },
   "outputs": [],
   "source": [
    "img_indx = 87\n",
    "single_example = x_test[img_indx].reshape(1,28,28,1)\n",
    "label = int(y_train[img_indx])\n",
    "last_layer_weights = model.weights[-2]\n",
    "get_conv_layer = Model(inputs=model.input, outputs=model.get_layer(\"conv2\").output)\n",
    "layer_feature_maps = get_conv_layer.predict(single_example)\n",
    "weights = last_layer_weights[:,label]\n",
    "\n",
    "cam = 0 \n",
    "for k in range(layer_feature_maps.shape[-1]): \n",
    "     cam += weights[k]*layer_feature_maps[:,:,:,k]\n",
    "\n",
    "        \n",
    "cam = tf.reshape(cam,[26,26,1])\n",
    "cam_resized= tf.image.resize(cam,[28,28])\n",
    "    "
   ]
  },
  {
   "cell_type": "code",
   "execution_count": 94,
   "metadata": {
    "ExecuteTime": {
     "end_time": "2020-02-05T23:34:47.657054Z",
     "start_time": "2020-02-05T23:34:47.314040Z"
    }
   },
   "outputs": [
    {
     "data": {
      "text/plain": [
       "<matplotlib.image.AxesImage at 0x1d8369ef4c8>"
      ]
     },
     "execution_count": 94,
     "metadata": {},
     "output_type": "execute_result"
    },
    {
     "data": {
      "image/png": "[encoded data removed]",
      "text/plain": [
       "<Figure size 432x288 with 1 Axes>"
      ]
     },
     "metadata": {
      "needs_background": "light"
     },
     "output_type": "display_data"
    },
    {
     "data": {
      "image/png": "[encoded data removed]",
      "text/plain": [
       "<Figure size 432x288 with 1 Axes>"
      ]
     },
     "metadata": {
      "needs_background": "light"
     },
     "output_type": "display_data"
    }
   ],
   "source": [
    "cam_numpy = cam_resized.numpy()\n",
    "new_cam = cam_numpy.reshape(28,28)\n",
    "import matplotlib.pyplot as plt\n",
    "plt.imshow(new_cam)\n",
    "plt.figure()\n",
    "plt.imshow(single_example.reshape(28,28))"
   ]
  },
  {
   "cell_type": "code",
   "execution_count": 85,
   "metadata": {
    "ExecuteTime": {
     "end_time": "2020-02-05T23:29:58.457767Z",
     "start_time": "2020-02-05T23:29:58.433803Z"
    }
   },
   "outputs": [
    {
     "data": {
      "text/plain": [
       "TensorShape([26, 1])"
      ]
     },
     "execution_count": 85,
     "metadata": {},
     "output_type": "execute_result"
    }
   ],
   "source": []
  },
  {
   "cell_type": "code",
   "execution_count": null,
   "metadata": {
    "ExecuteTime": {
     "end_time": "2020-02-05T23:29:59.282035Z",
     "start_time": "2020-02-05T23:29:59.270111Z"
    }
   },
   "outputs": [],
   "source": []
  },
  {
   "cell_type": "code",
   "execution_count": 81,
   "metadata": {
    "ExecuteTime": {
     "end_time": "2020-02-05T23:29:21.614252Z",
     "start_time": "2020-02-05T23:29:21.595261Z"
    }
   },
   "outputs": [
    {
     "data": {
      "text/plain": [
       "4"
      ]
     },
     "execution_count": 81,
     "metadata": {},
     "output_type": "execute_result"
    }
   ],
   "source": [
    "label"
   ]
  },
  {
   "cell_type": "code",
   "execution_count": null,
   "metadata": {},
   "outputs": [],
   "source": []
  }
 ],
 "metadata": {
  "kernelspec": {
   "display_name": "Python 3",
   "language": "python",
   "name": "python3"
  },
  "language_info": {
   "codemirror_mode": {
    "name": "ipython",
    "version": 3
   },
   "file_extension": ".py",
   "mimetype": "text/x-python",
   "name": "python",
   "nbconvert_exporter": "python",
   "pygments_lexer": "ipython3",
   "version": "3.7.6"
  },
  "latex_envs": {
   "LaTeX_envs_menu_present": true,
   "autoclose": true,
   "autocomplete": true,
   "bibliofile": "biblio.bib",
   "cite_by": "apalike",
   "current_citInitial": 1,
   "eqLabelWithNumbers": true,
   "eqNumInitial": 1,
   "hotkeys": {
    "equation": "Ctrl-E",
    "itemize": "Ctrl-I"
   },
   "labels_anchors": false,
   "latex_user_defs": false,
   "report_style_numbering": true,
   "user_envs_cfg": false
  },
  "toc": {
   "base_numbering": 1,
   "nav_menu": {},
   "number_sections": true,
   "sideBar": true,
   "skip_h1_title": false,
   "title_cell": "Table of Contents",
   "title_sidebar": "Contents",
   "toc_cell": false,
   "toc_position": {},
   "toc_section_display": true,
   "toc_window_display": false
  },
  "varInspector": {
   "cols": {
    "lenName": 16,
    "lenType": 16,
    "lenVar": 40
   },
   "kernels_config": {
    "python": {
     "delete_cmd_postfix": "",
     "delete_cmd_prefix": "del ",
     "library": "var_list.py",
     "varRefreshCmd": "print(var_dic_list())"
    },
    "r": {
     "delete_cmd_postfix": ") ",
     "delete_cmd_prefix": "rm(",
     "library": "var_list.r",
     "varRefreshCmd": "cat(var_dic_list()) "
    }
   },
   "types_to_exclude": [
    "module",
    "function",
    "builtin_function_or_method",
    "instance",
    "_Feature"
   ],
   "window_display": false
  }
 },
 "nbformat": 4,
 "nbformat_minor": 4
}
