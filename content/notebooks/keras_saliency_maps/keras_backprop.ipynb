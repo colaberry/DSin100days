{
 "cells": [
  {
   "cell_type": "code",
   "execution_count": 1,
   "metadata": {
    "ExecuteTime": {
     "end_time": "2020-02-06T00:14:13.789114Z",
     "start_time": "2020-02-06T00:14:09.476101Z"
    }
   },
   "outputs": [
    {
     "name": "stdout",
     "output_type": "stream",
     "text": [
      "2.0.0\n"
     ]
    },
    {
     "data": {
      "text/plain": [
       "True"
      ]
     },
     "execution_count": 1,
     "metadata": {},
     "output_type": "execute_result"
    }
   ],
   "source": [
    "import tensorflow as tf \n",
    "import numpy as np \n",
    "import matplotlib.pyplot as plt\n",
    "\n",
    "# checking the version of tensorflow\n",
    "print(tf.__version__) \n",
    "\n",
    "\n",
    "# In TensorFlow 2.0 this is the way\n",
    "# to activate eager execution mode\n",
    "# and ONLY this way. \n",
    "tf.executing_eagerly()\n"
   ]
  },
  {
   "cell_type": "code",
   "execution_count": 2,
   "metadata": {
    "ExecuteTime": {
     "end_time": "2020-02-06T00:14:16.855399Z",
     "start_time": "2020-02-06T00:14:13.792114Z"
    }
   },
   "outputs": [
    {
     "name": "stdout",
     "output_type": "stream",
     "text": [
      "training set shape (60000, 28, 28, 1)\n",
      "test set shape (10000, 28, 28, 1)\n"
     ]
    }
   ],
   "source": [
    "# get minst data\n",
    "mnist = tf.keras.datasets.mnist\n",
    "\n",
    "(x_train, y_train), (x_test, y_test) = mnist.load_data()\n",
    "\n",
    "x_train = x_train / 255.0\n",
    "x_test =  x_test / 255.0\n",
    "\n",
    "\n",
    "# add channel \n",
    "# Add a channels dimension\n",
    "x_train = x_train[..., tf.newaxis]\n",
    "x_test = x_test[..., tf.newaxis]\n",
    "\n",
    "print(\"training set shape {}\".format(x_train.shape))\n",
    "print(\"test set shape {}\".format(x_test.shape))\n",
    "\n",
    "\n",
    "    \n",
    "# shuffle and batch the training set\n",
    "batch_size = 32 \n",
    "num_images = 50000\n",
    "\n",
    "train_ds = tf.data.Dataset.from_tensor_slices(\n",
    "    (x_train, y_train)).shuffle(num_images).batch(batch_size)\n",
    "\n",
    "\n",
    "# batch the test set \n",
    "test_ds = tf.data.Dataset.from_tensor_slices((x_test, y_test)).batch(batch_size)\n"
   ]
  },
  {
   "cell_type": "code",
   "execution_count": 3,
   "metadata": {
    "ExecuteTime": {
     "end_time": "2020-02-06T00:14:33.786114Z",
     "start_time": "2020-02-06T00:14:16.863403Z"
    }
   },
   "outputs": [
    {
     "name": "stdout",
     "output_type": "stream",
     "text": [
      "Train on 60000 samples\n",
      "60000/60000 [==============================] - 16s 273us/sample - loss: 0.1157 - accuracy: 0.9639\n"
     ]
    }
   ],
   "source": [
    "from tensorflow.keras.layers import Dense, Flatten, Conv2D, InputLayer\n",
    "from tensorflow.keras import Model\n",
    "from tensorflow.keras import backend as k \n",
    "from tensorflow.python.keras import Sequential\n",
    "\n",
    "a = tf.keras.backend.placeholder(dtype=tf.float32, shape=(None, 28,28,1))\n",
    "\n",
    "model = Sequential(\n",
    "\n",
    "    [   InputLayer( input_shape=( 28,28,1), name=\"input\"),\n",
    "        Conv2D(32, 3, activation='relu',padding='same',name=\"conv1\" ),\n",
    "        Conv2D(28, 3, activation='relu',padding='same',name=\"conv2\" ),\n",
    "        Conv2D(16, 3, activation='relu',padding='same',name=\"conv3\" ),\n",
    "        \n",
    "        Flatten(),\n",
    "        Dense(128, input_shape=(25088,1), name=\"fc1\", activation=\"relu\"),\n",
    "        Dense(10, input_shape=(128,1), name=\"fc2\", activation=\"softmax\"),\n",
    "    ]\n",
    ")\n",
    "\n",
    "\n",
    "model.compile(loss= \"sparse_categorical_crossentropy\", \n",
    "                  optimizer=\"adam\" , \n",
    "                  metrics=['accuracy'])\n",
    "\n",
    "preds = model.fit(x_train, y_train, batch_size=32, epochs=1)\n",
    "\n"
   ]
  },
  {
   "cell_type": "code",
   "execution_count": 4,
   "metadata": {
    "ExecuteTime": {
     "end_time": "2020-02-06T00:14:33.818189Z",
     "start_time": "2020-02-06T00:14:33.797182Z"
    }
   },
   "outputs": [],
   "source": [
    "@tf.RegisterGradient(\"GuidedRelu\")\n",
    "def _GuidedReluGrad(op, grad):\n",
    "   gate_f = tf.cast(op.outputs[0] > 0, \"float32\") #for f^l > 0\n",
    "   gate_R = tf.cast(grad > 0, \"float32\") #for R^l+1 > 0\n",
    "   return gate_f * gate_R * grad"
   ]
  },
  {
   "cell_type": "code",
   "execution_count": 15,
   "metadata": {
    "ExecuteTime": {
     "end_time": "2020-02-06T00:16:11.130111Z",
     "start_time": "2020-02-06T00:16:11.081112Z"
    }
   },
   "outputs": [
    {
     "ename": "AttributeError",
     "evalue": "'_GeneratorContextManager' object has no attribute 'gradient_override_map'",
     "output_type": "error",
     "traceback": [
      "\u001b[1;31m---------------------------------------------------------------------------\u001b[0m",
      "\u001b[1;31mAttributeError\u001b[0m                            Traceback (most recent call last)",
      "\u001b[1;32m<ipython-input-15-d55f19c197a0>\u001b[0m in \u001b[0;36m<module>\u001b[1;34m\u001b[0m\n\u001b[0;32m      2\u001b[0m \u001b[1;33m\u001b[0m\u001b[0m\n\u001b[0;32m      3\u001b[0m \u001b[1;33m\u001b[0m\u001b[0m\n\u001b[1;32m----> 4\u001b[1;33m \u001b[1;32mwith\u001b[0m \u001b[0mtf\u001b[0m\u001b[1;33m.\u001b[0m\u001b[0mGraph\u001b[0m\u001b[1;33m(\u001b[0m\u001b[1;33m)\u001b[0m\u001b[1;33m.\u001b[0m\u001b[0mas_default\u001b[0m\u001b[1;33m(\u001b[0m\u001b[1;33m)\u001b[0m\u001b[1;33m.\u001b[0m\u001b[0mgradient_override_map\u001b[0m\u001b[1;33m(\u001b[0m\u001b[1;33m{\u001b[0m\u001b[1;34m\"relu\"\u001b[0m\u001b[1;33m:\u001b[0m \u001b[1;34m\"GuidedRelu\"\u001b[0m\u001b[1;33m}\u001b[0m\u001b[1;33m)\u001b[0m\u001b[1;33m:\u001b[0m\u001b[1;33m\u001b[0m\u001b[1;33m\u001b[0m\u001b[0m\n\u001b[0m\u001b[0;32m      5\u001b[0m             \u001b[0minput_tensors\u001b[0m \u001b[1;33m=\u001b[0m \u001b[1;33m[\u001b[0m\u001b[0mmodel\u001b[0m\u001b[1;33m.\u001b[0m\u001b[0minput\u001b[0m\u001b[1;33m]\u001b[0m\u001b[1;33m\u001b[0m\u001b[1;33m\u001b[0m\u001b[0m\n\u001b[0;32m      6\u001b[0m             \u001b[0mgradients\u001b[0m \u001b[1;33m=\u001b[0m \u001b[0mmodel\u001b[0m\u001b[1;33m.\u001b[0m\u001b[0moptimizer\u001b[0m\u001b[1;33m.\u001b[0m\u001b[0mget_gradients\u001b[0m\u001b[1;33m(\u001b[0m\u001b[0mmodel\u001b[0m\u001b[1;33m.\u001b[0m\u001b[0moutput\u001b[0m\u001b[1;33m[\u001b[0m\u001b[1;36m0\u001b[0m\u001b[1;33m]\u001b[0m\u001b[1;33m[\u001b[0m\u001b[1;36m3\u001b[0m\u001b[1;33m]\u001b[0m\u001b[1;33m,\u001b[0m \u001b[0mmodel\u001b[0m\u001b[1;33m.\u001b[0m\u001b[0minput\u001b[0m\u001b[1;33m)\u001b[0m\u001b[1;33m\u001b[0m\u001b[1;33m\u001b[0m\u001b[0m\n",
      "\u001b[1;31mAttributeError\u001b[0m: '_GeneratorContextManager' object has no attribute 'gradient_override_map'"
     ]
    }
   ],
   "source": [
    "\n",
    "single_example = x_train[0].reshape(1,28,28,1)\n",
    "\n",
    "\n",
    "with tf.Graph().as_default().gradient_override_map({\"relu\": \"GuidedRelu\"}):\n",
    "            input_tensors = [model.input]\n",
    "            gradients = model.optimizer.get_gradients(model.output[0][3], model.input)\n",
    "            gradient_fun  = Model(inputs=input_tensors, outputs=gradients)\n",
    "            grad_values = gradient_fun.predict(single_example)"
   ]
  },
  {
   "cell_type": "code",
   "execution_count": 6,
   "metadata": {
    "ExecuteTime": {
     "end_time": "2020-02-06T00:14:34.438580Z",
     "start_time": "2020-02-06T00:14:34.426719Z"
    },
    "run_control": {
     "marked": false
    }
   },
   "outputs": [
    {
     "data": {
      "text/plain": [
       "-0.39277148"
      ]
     },
     "execution_count": 6,
     "metadata": {},
     "output_type": "execute_result"
    }
   ],
   "source": [
    "np.min(grad_values)"
   ]
  },
  {
   "cell_type": "code",
   "execution_count": null,
   "metadata": {
    "ExecuteTime": {
     "end_time": "2020-02-05T00:53:38.086274Z",
     "start_time": "2020-02-05T00:53:38.074703Z"
    }
   },
   "outputs": [],
   "source": []
  },
  {
   "cell_type": "code",
   "execution_count": null,
   "metadata": {
    "ExecuteTime": {
     "end_time": "2020-02-05T01:20:48.888390Z",
     "start_time": "2020-02-05T01:20:48.878372Z"
    }
   },
   "outputs": [],
   "source": [
    "\n"
   ]
  },
  {
   "cell_type": "code",
   "execution_count": null,
   "metadata": {
    "ExecuteTime": {
     "end_time": "2020-02-05T01:20:49.647640Z",
     "start_time": "2020-02-05T01:20:49.637751Z"
    }
   },
   "outputs": [],
   "source": []
  },
  {
   "cell_type": "code",
   "execution_count": 7,
   "metadata": {
    "ExecuteTime": {
     "end_time": "2020-02-06T00:14:34.640876Z",
     "start_time": "2020-02-06T00:14:34.443598Z"
    }
   },
   "outputs": [
    {
     "data": {
      "text/plain": [
       "<matplotlib.image.AxesImage at 0x2519cb10f08>"
      ]
     },
     "execution_count": 7,
     "metadata": {},
     "output_type": "execute_result"
    },
    {
     "data": {
      "image/png": "[encoded data removed]",
      "text/plain": [
       "<Figure size 432x288 with 1 Axes>"
      ]
     },
     "metadata": {
      "needs_background": "light"
     },
     "output_type": "display_data"
    }
   ],
   "source": [
    "plt.imshow(single_example.reshape(28,28))"
   ]
  },
  {
   "cell_type": "markdown",
   "metadata": {},
   "source": [
    "## Functional API \n"
   ]
  },
  {
   "cell_type": "code",
   "execution_count": 8,
   "metadata": {
    "ExecuteTime": {
     "end_time": "2020-02-06T00:14:34.656871Z",
     "start_time": "2020-02-06T00:14:34.645873Z"
    }
   },
   "outputs": [],
   "source": [
    "\n",
    "# class MyModel(Model):\n",
    "#     def __init__(self):\n",
    "#         super(MyModel, self).__init__()\n",
    "#         self.conv1 = Conv2D(32, 3, activation='relu',padding='same' )\n",
    "#         self.flatten = Flatten()\n",
    "#         self.d1 = Dense(128, activation='relu')\n",
    "#         self.d2 = Dense(10, activation='softmax')\n",
    "#         self.conv1_save = []\n",
    "        \n",
    "#     def call(self, x):\n",
    "#         x = self.conv1(x)\n",
    "#         x = self.flatten(x)\n",
    "#         x = self.d1(x)\n",
    "#         return self.d2(x)\n",
    "\n",
    "# # Create an instance of the model\n",
    "# model = MyModel()"
   ]
  },
  {
   "cell_type": "code",
   "execution_count": 9,
   "metadata": {
    "ExecuteTime": {
     "end_time": "2020-02-06T00:14:34.671919Z",
     "start_time": "2020-02-06T00:14:34.660881Z"
    }
   },
   "outputs": [],
   "source": [
    "# # loss function \n",
    "# loss_object = tf.keras.losses.SparseCategoricalCrossentropy()\n",
    "\n",
    "# # adam optimizer\n",
    "# optimizer = tf.keras.optimizers.Adam()\n",
    "\n",
    "# train_loss = tf.keras.metrics.Mean(name='train_loss')\n",
    "# train_accuracy = tf.keras.metrics.SparseCategoricalAccuracy(name='train_accuracy')\n",
    "\n",
    "# test_loss = tf.keras.metrics.Mean(name='test_loss')\n",
    "# test_accuracy = tf.keras.metrics.SparseCategoricalAccuracy(name='test_accuracy')\n",
    "\n",
    "# @tf.function\n",
    "# def train_step(images, labels):\n",
    "\n",
    "#     with tf.GradientTape() as tape:\n",
    "    \n",
    "#         predictions = model(images, training=True)\n",
    "#         loss = loss_object(labels, predictions)\n",
    "    \n",
    "#     # apply gradients\n",
    "#     gradients = tape.gradient(loss, model.trainable_variables)\n",
    "#     optimizer.apply_gradients(zip(gradients, model.trainable_variables))\n",
    "    \n",
    "#     # calculate training loss \n",
    "#     train_loss(loss)\n",
    "#     train_accuracy(labels, predictions)\n",
    "    \n",
    "# @tf.function\n",
    "# def test_step(images, labels):\n",
    "  \n",
    "#     predictions = model(images, training=False)\n",
    "#     t_loss = loss_object(labels, predictions)\n",
    "\n",
    "#     test_loss(t_loss)\n",
    "#     test_accuracy(labels, predictions)\n",
    "\n"
   ]
  },
  {
   "cell_type": "code",
   "execution_count": 10,
   "metadata": {
    "ExecuteTime": {
     "end_time": "2020-02-06T00:14:34.703897Z",
     "start_time": "2020-02-06T00:14:34.681881Z"
    }
   },
   "outputs": [],
   "source": [
    "# EPOCHS = 1\n",
    "\n",
    "# for epoch in range(EPOCHS):\n",
    "#     # reset metrics for train set\n",
    "#     train_loss.reset_states()\n",
    "#     train_accuracy.reset_states()\n",
    "    \n",
    "#     # rest metrics for test set\n",
    "#     test_loss.reset_states()\n",
    "#     test_accuracy.reset_states()\n",
    "\n",
    "#     # run training step\n",
    "#     for images, labels in train_ds:\n",
    "#         train_step(images, labels)\n",
    "    \n",
    "#     # run test set \n",
    "#     for test_images, test_labels in test_ds:\n",
    "#         test_step(test_images, test_labels)\n",
    "\n",
    "#     # print the epoch number, loss and various metrics\n",
    "#     template = 'Epoch {}, Loss: {}, Accuracy: {}, Test Loss: {}, Test Accuracy: {}'\n",
    "#     print(template.format(epoch+1,\n",
    "#                             train_loss.result(),\n",
    "#                             train_accuracy.result()*100,\n",
    "#                             test_loss.result(),\n",
    "#                             test_accuracy.result()*100))"
   ]
  },
  {
   "cell_type": "code",
   "execution_count": 11,
   "metadata": {
    "ExecuteTime": {
     "end_time": "2020-02-06T00:14:34.735878Z",
     "start_time": "2020-02-06T00:14:34.713900Z"
    }
   },
   "outputs": [],
   "source": [
    "# with tf.Graph().as_default() as g:\n",
    "#     with g.gradient_override_map({\"Relu\": \"GuidedRelu\"}):\n",
    "#         with tf.GradientTape() as tape:\n",
    "#             predictions = model(single_example)\n",
    "#             loss = predictions[:, 3]\n",
    "\n"
   ]
  },
  {
   "cell_type": "code",
   "execution_count": 12,
   "metadata": {
    "ExecuteTime": {
     "end_time": "2020-02-06T00:14:34.765876Z",
     "start_time": "2020-02-06T00:14:34.746877Z"
    }
   },
   "outputs": [],
   "source": [
    "\n",
    "# import cv2\n",
    "\n",
    "# gradients = model.optimizer.get_gradients(model.output[0][3], model.input)\n",
    "\n",
    "# grad_model = tf.keras.models.Model([model.inputs], [model.get_layer(\"conv3\").output, model.output])\n",
    "# possible_backprop =  tf.keras.models.Model(model.inputs, gradients)\n",
    "# grads = possible_backprop.predict(single_example)\n",
    "\n",
    "# # with tf.GradientTape() as tape:\n",
    "# #     predictions = possible_backprop(tf.convert_to_tensor(single_example))\n",
    "# #     loss = predictions[:, 3]\n",
    "\n",
    "# # output = conv_outputs[0]\n",
    "# # grads = tape.gradient(loss, )\n",
    "\n",
    "# gate_f = tf.cast(output > 0, 'float32')\n",
    "# gate_r = tf.cast(grads > 0, 'float32')\n",
    "# guided_grads = tf.cast(output > 0, 'float32') * tf.cast(grads > 0, 'float32') * grads\n",
    "\n",
    "# weights = tf.reduce_mean(guided_grads, axis=(0, 1))\n",
    "\n",
    "# cam = np.ones(output.shape[0: 2], dtype = np.float32)\n",
    "\n",
    "# for i, w in enumerate(weights):\n",
    "#     cam += w * output[:, :, i]\n",
    "\n",
    "# cam = cv2.resize(cam.numpy(), (28, 28))\n",
    "# cam = np.maximum(cam, 0)\n",
    "# heatmap = (cam - cam.min()) / (cam.max() - cam.min())\n",
    "\n",
    "# cam = cv2.applyColorMap(np.uint8(255*heatmap), cv2.COLORMAP_JET)\n",
    "\n",
    "# output_image = cv2.addWeighted(cv2.cvtColor(single_example.astype('uint8'), cv2.COLOR_RGB2BGR), 0.5, cam, 1, 0)\n",
    "\n",
    "# cv2.imwrite('cam.png', output_image)\n"
   ]
  },
  {
   "cell_type": "code",
   "execution_count": 13,
   "metadata": {
    "ExecuteTime": {
     "end_time": "2020-02-06T00:14:34.796876Z",
     "start_time": "2020-02-06T00:14:34.773874Z"
    }
   },
   "outputs": [],
   "source": [
    "# import matplotlib.pyplot as plt \n",
    "# plt.imshow(cam)"
   ]
  },
  {
   "cell_type": "code",
   "execution_count": null,
   "metadata": {
    "ExecuteTime": {
     "end_time": "2020-02-05T01:33:25.644416Z",
     "start_time": "2020-02-05T01:33:25.619824Z"
    }
   },
   "outputs": [],
   "source": [
    " "
   ]
  },
  {
   "cell_type": "code",
   "execution_count": null,
   "metadata": {},
   "outputs": [],
   "source": []
  }
 ],
 "metadata": {
  "kernelspec": {
   "display_name": "Python 3",
   "language": "python",
   "name": "python3"
  },
  "language_info": {
   "codemirror_mode": {
    "name": "ipython",
    "version": 3
   },
   "file_extension": ".py",
   "mimetype": "text/x-python",
   "name": "python",
   "nbconvert_exporter": "python",
   "pygments_lexer": "ipython3",
   "version": "3.7.6"
  },
  "latex_envs": {
   "LaTeX_envs_menu_present": true,
   "autoclose": true,
   "autocomplete": true,
   "bibliofile": "biblio.bib",
   "cite_by": "apalike",
   "current_citInitial": 1,
   "eqLabelWithNumbers": true,
   "eqNumInitial": 1,
   "hotkeys": {
    "equation": "Ctrl-E",
    "itemize": "Ctrl-I"
   },
   "labels_anchors": false,
   "latex_user_defs": false,
   "report_style_numbering": true,
   "user_envs_cfg": false
  },
  "toc": {
   "base_numbering": 1,
   "nav_menu": {},
   "number_sections": true,
   "sideBar": true,
   "skip_h1_title": false,
   "title_cell": "Table of Contents",
   "title_sidebar": "Contents",
   "toc_cell": false,
   "toc_position": {},
   "toc_section_display": true,
   "toc_window_display": false
  },
  "varInspector": {
   "cols": {
    "lenName": 16,
    "lenType": 16,
    "lenVar": 40
   },
   "kernels_config": {
    "python": {
     "delete_cmd_postfix": "",
     "delete_cmd_prefix": "del ",
     "library": "var_list.py",
     "varRefreshCmd": "print(var_dic_list())"
    },
    "r": {
     "delete_cmd_postfix": ") ",
     "delete_cmd_prefix": "rm(",
     "library": "var_list.r",
     "varRefreshCmd": "cat(var_dic_list()) "
    }
   },
   "types_to_exclude": [
    "module",
    "function",
    "builtin_function_or_method",
    "instance",
    "_Feature"
   ],
   "window_display": false
  }
 },
 "nbformat": 4,
 "nbformat_minor": 4
}
