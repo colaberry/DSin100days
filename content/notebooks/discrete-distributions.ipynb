{
 "cells": [
  {
   "cell_type": "markdown",
   "metadata": {
    "tags": [
     "s1",
     "content",
     "l1"
    ]
   },
   "source": [
    "# Discrete Distributions or Probability Mass Functions (PMFs)\n",
    "\n",
    "Probability distribution is a function that generates the probabilities of occurrence of all possible outcomes in an experiment. Consider an experiement of rolling of the die. If the random variable X is used to denote the outcome of the die roll, then the probability distribution of X would take the value $\\frac{1}{6}$ for $X \\to \\{1, 2, 3, 4, 5, 6\\}$.\n",
    "\n",
    "\n",
    "## Bernoulli Distribution\n",
    "\n",
    "Bernoulli distribution is the probability distribution of a random variable that takes a boolean value such as a 1 or 0. The Probability Mass Function of Bernoulli distribution is mathematically defined as:\n",
    "\n",
    "For a possible outcome k, \n",
    "\n",
    "$$f(k,p) = {p^k}({{1-p})^{(1-k)}} $$\n",
    "\n",
    "\n",
    "where p is the probability of outcome 1 and 1-p is the probability of outcome 0.<br>\n",
    "\n",
    "### Examples\n",
    "\n",
    "Result of a coin toss, if patient has disease or not, any experiment with outcome of success or failure.\n",
    "\n",
    "\n",
    "<img src=\"../images/bernoulli.png\" style=\"width: 700px;\">\n",
    "\n",
    "\n",
    "Let us now plot a Bernoulli distribution\n",
    "\n",
    "### Exercise\n",
    "\n",
    "* Increase number of samples to 1000 and use bernoulli.stats() function to determine the mean of the distribution.\n",
    "* Assign it to variable, mu and print it out."
   ]
  },
  {
   "cell_type": "code",
   "execution_count": 19,
   "metadata": {
    "tags": [
     "s1",
     "ce",
     "l1"
    ]
   },
   "outputs": [
    {
     "data": {
      "image/png": "[encoded data removed]",
      "text/plain": [
       "<matplotlib.figure.Figure at 0x2090ee12240>"
      ]
     },
     "metadata": {},
     "output_type": "display_data"
    }
   ],
   "source": [
    "%matplotlib inline\n",
    "from scipy.stats import bernoulli\n",
    "import numpy as np\n",
    "import seaborn as sns\n",
    "\n",
    "p = 0.3\n",
    "x = bernoulli.rvs(p, size=1000)\n",
    "sns.distplot(x, kde=False);"
   ]
  },
  {
   "cell_type": "markdown",
   "metadata": {
    "tags": [
     "s1",
     "l1",
     "hint"
    ]
   },
   "source": [
    "Use stats function."
   ]
  },
  {
   "cell_type": "code",
   "execution_count": 20,
   "metadata": {
    "tags": [
     "s1",
     "l1",
     "ans"
    ]
   },
   "outputs": [
    {
     "name": "stdout",
     "output_type": "stream",
     "text": [
      "0.3\n"
     ]
    }
   ],
   "source": [
    "mu = bernoulli.stats(p, moments='m')\n",
    "print(mu)"
   ]
  },
  {
   "cell_type": "code",
   "execution_count": 21,
   "metadata": {
    "tags": [
     "s1",
     "hid",
     "l1"
    ]
   },
   "outputs": [
    {
     "name": "stdout",
     "output_type": "stream",
     "text": [
      "continue\n"
     ]
    }
   ],
   "source": [
    "ref_tmp_var = False\n",
    "\n",
    "try:\n",
    "    if mu == 0.3:\n",
    "        ref_assert_var = True\n",
    "        ref_tmp_var = True\n",
    "    else:\n",
    "        ref_assert_var = False\n",
    "        print('Please follow the instructions given and use the same variables provided in the instructions.')\n",
    "except Exception:\n",
    "    print('Please follow the instructions given and use the same variables provided in the instructions.')\n",
    "\n",
    "assert ref_tmp_var"
   ]
  },
  {
   "cell_type": "markdown",
   "metadata": {
    "tags": [
     "l2",
     "content",
     "s2"
    ]
   },
   "source": [
    "\n",
    "<br/><br/><br/>\n",
    "## Binomial Distribution\n",
    "\n",
    "The number of successes, $x$ in a fixed number of $n$ independent Bernoulli trials with probability of success $p$ or $\\theta$, follows a binomial distribution. $n$ and $p$ are always fixed in a binomial distribution.\n",
    "\n",
    "\n",
    "<img src=\"../images/binomial.png\" style=\"width: 700px;\">\n",
    "\n",
    "\n",
    "### Examples\n",
    "\n",
    "Number of heads after tossing a coin 100 times. Number of defective bulbs after inspecting 1000 bulbs.\n",
    "\n",
    "\n",
    "### Exercise\n",
    "\n",
    "Let us generate numbers that conform to a binomial distribution. Given N = 40, p=0.5 and the numbers distributed according to the binomial pmf, compute the mean and variance and assign it to variables, mu and var."
   ]
  },
  {
   "cell_type": "code",
   "execution_count": 22,
   "metadata": {
    "tags": [
     "l2",
     "ce",
     "s2"
    ]
   },
   "outputs": [
    {
     "data": {
      "text/plain": [
       "<matplotlib.axes._subplots.AxesSubplot at 0x2090f0c0390>"
      ]
     },
     "execution_count": 22,
     "metadata": {},
     "output_type": "execute_result"
    },
    {
     "data": {
      "image/png": "[encoded data removed]",
      "text/plain": [
       "<matplotlib.figure.Figure at 0x2090eee7400>"
      ]
     },
     "metadata": {},
     "output_type": "display_data"
    }
   ],
   "source": [
    "%matplotlib inline\n",
    "\n",
    "import numpy as np\n",
    "import seaborn as sns\n",
    "\n",
    "N = 40\n",
    "p = 0.5\n",
    "binomial_x = np.random.binomial(N, p, 10)\n",
    "sns.distplot(binomial_x)\n",
    "\n",
    "# Compute mean and variance"
   ]
  },
  {
   "cell_type": "markdown",
   "metadata": {
    "tags": [
     "l2",
     "s2",
     "hint"
    ]
   },
   "source": [
    "Use formula for mu & var."
   ]
  },
  {
   "cell_type": "code",
   "execution_count": 23,
   "metadata": {
    "tags": [
     "l2",
     "s2",
     "ans"
    ]
   },
   "outputs": [
    {
     "name": "stdout",
     "output_type": "stream",
     "text": [
      "20.0 10.0\n"
     ]
    }
   ],
   "source": [
    "mu = N*p\n",
    "var = N*p*(1-p)\n",
    "print(mu, var)"
   ]
  },
  {
   "cell_type": "code",
   "execution_count": 24,
   "metadata": {
    "tags": [
     "l2",
     "hid",
     "s2"
    ]
   },
   "outputs": [
    {
     "name": "stdout",
     "output_type": "stream",
     "text": [
      "continue\n"
     ]
    }
   ],
   "source": [
    "ref_tmp_var = False\n",
    "\n",
    "try:\n",
    "    if (mu==20.0) and (var==10.0):\n",
    "        ref_assert_var = True\n",
    "        ref_tmp_var = True\n",
    "    else:\n",
    "        ref_assert_var = False\n",
    "        print('Please follow the instructions given and use the same variables provided in the instructions.')\n",
    "except Exception:\n",
    "    print('Please follow the instructions given and use the same variables provided in the instructions.')\n",
    "\n",
    "assert ref_tmp_var"
   ]
  },
  {
   "cell_type": "markdown",
   "metadata": {
    "tags": [
     "l3",
     "s3",
     "content"
    ]
   },
   "source": [
    "### Coin toss experiment\n",
    "\n",
    "Let us consider an experiment of tossing a biased coin, in which p is the probability of 'heads' and n is the number of tosses. An experiment is defined as a series of trials. In this case, an experiment will consist of n trials/tosses. We will repeat the experiment 1000 times to simulate the binomial distribution. \n",
    "\n",
    "We must check if the experiment follows the assumptions of binomial distribution:\n",
    "\n",
    "1. Each trial is an independent of the other, meaning outcome of one toss does not affect that of others.\n",
    "2. There are only two possible outcomes for each trial, heads or tails.\n",
    "3. The probability of 'success', p is the same across the n trials.\n",
    "3. The number of trials, n is fixed.\n",
    "\n",
    "Consider n tosses of a coin. Since the tosses are independent, we can calculate the probability of an outcome by multiplying the individual probabilities in each toss. Probability of 'heads' is p and that of 'tails' is 1-p. Outcome of one experiment with n tosses, has k heads and n-k tails and has probability **p<sup>k</sup>(1-p)<sup>n-k</sup>**.\n",
    "There are ${n} \\choose {k}$ number of distinct n-toss sequences that contain k heads. This forms the binomial coefficient.\n",
    "\n",
    "Binomial probability mass function (pmf) = ${n} \\choose {k}$ **p<sup>k</sup>(1-p)<sup>n-k</sup>**\n",
    "\n",
    "We can now go ahead and simulate our experiment.\n",
    "\n",
    "### Exercise\n",
    "\n",
    "Assume the experiment consists of n=30 coin tosses, the probability of getting heads, p=0.6 and this experiment is repeated 1000 times. Generate a random distribution, k which holds number of heads of each repetition of the experiment. Calculate pmf for each value of k and plot a graph with k and corresponding pmf values. "
   ]
  },
  {
   "cell_type": "code",
   "execution_count": 25,
   "metadata": {
    "collapsed": true,
    "tags": [
     "l3",
     "s3",
     "ce"
    ]
   },
   "outputs": [],
   "source": [
    "%matplotlib inline\n",
    "import random\n",
    "from scipy.stats import binom\n",
    "import matplotlib.pyplot as plt\n",
    "\n",
    "def toss(p,n):\n",
    "    heads = 0\n",
    "    for i in range(n):\n",
    "        if random.random() < p:\n",
    "            heads += 1\n",
    "    return heads #This gives the number of heads in a single experiment of n trials\n",
    "\n",
    "size = range(1,1001)\n",
    "n,p = 30,0.6\n",
    "\n",
    "k = [] #Holds the number of heads from each experiment\n",
    "pmf= [] #Holds the binomial pmf of each experiment\n",
    "\n",
    "random.seed(12345)\n",
    "\n"
   ]
  },
  {
   "cell_type": "markdown",
   "metadata": {
    "tags": [
     "l3",
     "s3",
     "hint"
    ]
   },
   "source": [
    "Use toss function to create list of k values, sort them and for each k, calculate pmf using binom.pmf function. Plot k and pmf to get the distribution plot. "
   ]
  },
  {
   "cell_type": "code",
   "execution_count": 26,
   "metadata": {
    "tags": [
     "l3",
     "s3",
     "ans"
    ]
   },
   "outputs": [
    {
     "data": {
      "text/plain": [
       "[<matplotlib.lines.Line2D at 0x2090eeb7198>]"
      ]
     },
     "execution_count": 26,
     "metadata": {},
     "output_type": "execute_result"
    },
    {
     "data": {
      "image/png": "[encoded data removed]",
      "text/plain": [
       "<matplotlib.figure.Figure at 0x2090d943f98>"
      ]
     },
     "metadata": {},
     "output_type": "display_data"
    }
   ],
   "source": [
    "for i in size:\n",
    "    k.append(toss(p,n))\n",
    "\n",
    "k.sort()\n",
    "\n",
    "for i in k:\n",
    "    pk = binom.pmf(i,n,p)\n",
    "    pmf.append(pk)\n",
    "\n",
    "plt.plot(k,pmf) "
   ]
  },
  {
   "cell_type": "code",
   "execution_count": 27,
   "metadata": {
    "tags": [
     "l3",
     "s3",
     "hid"
    ]
   },
   "outputs": [
    {
     "name": "stdout",
     "output_type": "stream",
     "text": [
      "continue\n"
     ]
    }
   ],
   "source": [
    "ref_tmp_var = False\n",
    "\n",
    "try:\n",
    "    head = k[:10]\n",
    "    prob = pmf[:10]\n",
    "    ks = [9, 9, 10, 10, 11, 11, 11, 11, 12, 12]\n",
    "    pmfs = [round(x,4) for x in [0.00063412401653505015, 0.00063412401653505015, 0.0019974906520854141, 0.0019974906520854141, 0.005447701778414739, 0.005447701778414739, 0.005447701778414739, 0.005447701778414739, 0.012938291723735, 0.012938291723735]]\n",
    "    if ks == head and pmfs == [round(a,4) for a in prob]:\n",
    "        ref_assert_var = True\n",
    "        ref_tmp_var = True\n",
    "    else:\n",
    "        ref_assert_var = False\n",
    "        print('Please follow the instructions given and use the same variables provided in the instructions. ')\n",
    "except Exception:\n",
    "    print('Please follow the instructions given and use the same variables provided in the instructions. ')\n",
    "\n",
    "assert ref_tmp_var"
   ]
  },
  {
   "cell_type": "markdown",
   "metadata": {
    "tags": [
     "l4",
     "s4",
     "content"
    ]
   },
   "source": [
    "## Cumulative Distributions\n",
    "\n",
    "Any random variable, whether discrete or continous, may be defined by its cumulative distribution function. CDF of a random variable $X$ is denoted by $F_X(x)$ and gives the cumulative probability upto the value $x$, which is $P(X \\leq x)$ for all $x$. In other words, CDF is the proportion of the population having values less than or equal to $x$. \n",
    "\n",
    "\n",
    "### Binomial distribution\n",
    "\n",
    "Consider a binomial random variable $X \\sim Binomial(n,\\mathrm p)$.<br><br>\n",
    "Binomial probability mass function, $p_X(x)$ = ${n} \\choose {k}$ p<sup>k</sup>(1-p)<sup>n-k</sup>.\n",
    "$\\quad$We can derive the cumulative distribution function as,<br><br> \n",
    "$F_X(x) \\quad=\\quad P(X \\leq x) \\quad=\\quad \\sum\\limits_{k=0}^{x} p_X(k)$\n",
    "$\\quad=\\quad \\sum\\limits_{k=0}^{x}$ ${n} \\choose {k}$ p<sup>k</sup>(1-p)<sup>n-k</sup>\n",
    "\n",
    "Coin toss is a perfect example of a binomial random variable. Consider tossing a biased coin, in which p is the probability of 'heads'(success), and n is the number of tosses. Let n=10, p=0.8. To find probability of 2 or less successes,<br>\n",
    "$F_X(x=2) = P_X(X \\leq 2) = p_X(0) + p_X(1) + p_X(2)$\n",
    "<br>\n",
    "\n",
    "* Given the cdf plot, calculate the probability of occurence of number of heads greater than 6 and assign it to p_x"
   ]
  },
  {
   "cell_type": "code",
   "execution_count": 28,
   "metadata": {
    "tags": [
     "l4",
     "s4",
     "ce"
    ]
   },
   "outputs": [
    {
     "name": "stdout",
     "output_type": "stream",
     "text": [
      "Probability of 7 successes = 0.201326592\n",
      "Probability of 7 successes or less = 0.3222004736\n"
     ]
    },
    {
     "data": {
      "image/png": "[encoded data removed]",
      "text/plain": [
       "<matplotlib.figure.Figure at 0x2090edd39b0>"
      ]
     },
     "metadata": {},
     "output_type": "display_data"
    }
   ],
   "source": [
    "%matplotlib inline\n",
    "import numpy as np\n",
    "from scipy.stats import binom\n",
    "import matplotlib.pyplot as plt\n",
    "\n",
    "# Plot cdf of a binomial random variable\n",
    "x = np.linspace(0,20,100)\n",
    "cdf = binom.cdf(x, n=50, p=0.2)\n",
    "plt.plot(x,cdf)\n",
    "\n",
    "# Read the following example\n",
    "\n",
    "# Find probability of k = 7 successes, with n=10 and p=0.8\n",
    "pmf7 = binom.pmf(k=7, n=10, p=0.8)\n",
    "print(\"Probability of 7 successes =\", pmf7)\n",
    "\n",
    "# Read the following example\n",
    "\n",
    "# Find probability of k = 7 successes or less, with n=10 and p=0.8\n",
    "cdf7 = binom.cdf(k=7, n=10, p=0.8)\n",
    "print(\"Probability of 7 successes or less =\",cdf7)\n",
    "\n",
    "# Find probability of k > 6 successes, with n=10 and p=0.8\n",
    "# p_x ="
   ]
  },
  {
   "cell_type": "markdown",
   "metadata": {
    "tags": [
     "s4",
     "l4",
     "hint"
    ]
   },
   "source": [
    "Read the example solution code given for k=7 and k<=7 successes and compute probability of occurence of greater than 6 heads."
   ]
  },
  {
   "cell_type": "code",
   "execution_count": 29,
   "metadata": {
    "tags": [
     "s4",
     "l4",
     "ans"
    ]
   },
   "outputs": [
    {
     "name": "stdout",
     "output_type": "stream",
     "text": [
      "Probability of more than 6 successes = 0.8791261184\n"
     ]
    }
   ],
   "source": [
    "p_x = 1 - binom.cdf(k=6, n=10, p=0.8)\n",
    "print(\"Probability of more than 6 successes =\", p_x)"
   ]
  },
  {
   "cell_type": "code",
   "execution_count": 30,
   "metadata": {
    "tags": [
     "s4",
     "hid",
     "l4"
    ]
   },
   "outputs": [
    {
     "name": "stdout",
     "output_type": "stream",
     "text": [
      "continue\n"
     ]
    }
   ],
   "source": [
    "ref_tmp_var = False\n",
    "\n",
    "try:\n",
    "    if abs(p_x - 0.8791) < 0.01:\n",
    "        ref_assert_var = True\n",
    "        ref_tmp_var = True\n",
    "    else:\n",
    "        ref_assert_var = False\n",
    "        print('Please follow the instructions given and use the same variables provided in the instructions. ')\n",
    "except Exception:\n",
    "    print('Please follow the instructions given and use the same variables provided in the instructions. ')\n",
    "\n",
    "assert ref_tmp_var"
   ]
  },
  {
   "cell_type": "markdown",
   "metadata": {
    "tags": [
     "l5",
     "content",
     "s5"
    ]
   },
   "source": [
    "\n",
    "<br/><br/><br/>\n",
    "## Geometric Distribution\n",
    "\n",
    "The number of trials until the first success in a series of Bernoulli trials follows a geometric distribution.\n",
    "\n",
    "\n",
    "<img src=\"../images/geometric.png\" style=\"width: 700px;\">\n",
    "\n",
    "\n",
    "### Examples\n",
    "Number of coin tosses before the first time coin shows head. Number of bulbs tested before the first defective bulb is found. Number of patients screened in hospital before first positive case of a disease.\n",
    "\n",
    "### Exercise\n",
    "\n",
    "Let us generate numbers that conform to geometric distribution. Compute mean and variance for the exponential distribution and assign to variables mu and var."
   ]
  },
  {
   "cell_type": "code",
   "execution_count": 31,
   "metadata": {
    "tags": [
     "l5",
     "ce",
     "s5"
    ]
   },
   "outputs": [
    {
     "data": {
      "text/plain": [
       "<matplotlib.axes._subplots.AxesSubplot at 0x2090f5d4828>"
      ]
     },
     "execution_count": 31,
     "metadata": {},
     "output_type": "execute_result"
    },
    {
     "data": {
      "image/png": "[encoded data removed]",
      "text/plain": [
       "<matplotlib.figure.Figure at 0x2090f4ee048>"
      ]
     },
     "metadata": {},
     "output_type": "display_data"
    }
   ],
   "source": [
    "N = 40\n",
    "p = 0.7\n",
    "\n",
    "binomial_x = np.random.geometric(0.7, 10)\n",
    "sns.distplot(binomial_x)\n",
    "\n",
    "# Compute mean and variance"
   ]
  },
  {
   "cell_type": "markdown",
   "metadata": {
    "tags": [
     "l5",
     "s5",
     "hint"
    ]
   },
   "source": [
    "use formula for mu and var"
   ]
  },
  {
   "cell_type": "code",
   "execution_count": 32,
   "metadata": {
    "tags": [
     "l5",
     "s5",
     "ans"
    ]
   },
   "outputs": [
    {
     "name": "stdout",
     "output_type": "stream",
     "text": [
      "Mean:  0.42857142857142866 Variance:  0.6122448979591838\n"
     ]
    }
   ],
   "source": [
    "mu = (1-p)/p\n",
    "var = (1-p)/p**2\n",
    "\n",
    "print(\"Mean: \", mu, \"Variance: \", var)"
   ]
  },
  {
   "cell_type": "code",
   "execution_count": 33,
   "metadata": {
    "tags": [
     "hid",
     "l5",
     "s5"
    ]
   },
   "outputs": [
    {
     "name": "stdout",
     "output_type": "stream",
     "text": [
      "continue\n"
     ]
    }
   ],
   "source": [
    "ref_tmp_var = False\n",
    "\n",
    "try:\n",
    "    if (abs(mu - 0.428) < 0.1) and (abs(var - 0.612) < 0.1):\n",
    "        ref_assert_var = True\n",
    "        ref_tmp_var = True\n",
    "    else:\n",
    "        ref_assert_var = False\n",
    "        print('Please follow the instructions given and use the same variables provided in the instructions.')\n",
    "        \n",
    "except Exception:\n",
    "    print('Please follow the instructions given and use the same variables provided in the instructions.')\n",
    "\n",
    "assert ref_tmp_var"
   ]
  },
  {
   "cell_type": "markdown",
   "metadata": {
    "tags": [
     "content",
     "l6",
     "s6"
    ]
   },
   "source": [
    "\n",
    "<br><br/><br/>\n",
    "## Poisson Distribution\n",
    "\n",
    "The probability distribution of a Poisson random variable X is the number of events occurring in a given time interval.\n",
    "\n",
    "Poisson distribution of discrete random variables is defined mathematically as\n",
    "\n",
    "$$P(X)=e^{-μ}\\frac{μ^x} {x!}$$\n",
    "\n",
    "\n",
    "<img src=\"../images/poisson.png\" style=\"width: 700px;\">\n",
    "\n",
    "\n",
    "where\n",
    "\n",
    "X = 0, 1, 2, …\n",
    "\n",
    "e = 2.71828\n",
    "\n",
    "μ = mean number of events in the given time interval\n",
    "\n",
    "### Examples\n",
    "\n",
    "Number of cars crossing a traffic signal in 30 minutes. Number of phone calls at a service desk in 5 minutes. Number of patients coming into a hospital every hour.\n",
    "\n",
    "### Exercise\n",
    "\n",
    "Let us now plot a poisson distribution. \n",
    "\n",
    "* Increase number of samples to 1000 and use np.mean function to determine the mean of the distribution.\n",
    "* Assign it to variable, mu and print it out."
   ]
  },
  {
   "cell_type": "code",
   "execution_count": 34,
   "metadata": {
    "tags": [
     "ce",
     "l6",
     "s6"
    ]
   },
   "outputs": [
    {
     "data": {
      "text/plain": [
       "<matplotlib.axes._subplots.AxesSubplot at 0x2090d368710>"
      ]
     },
     "execution_count": 34,
     "metadata": {},
     "output_type": "execute_result"
    },
    {
     "data": {
      "image/png": "[encoded data removed]",
      "text/plain": [
       "<matplotlib.figure.Figure at 0x2090da099e8>"
      ]
     },
     "metadata": {},
     "output_type": "display_data"
    }
   ],
   "source": [
    "ax = sns.plt.subplots(figsize=(18, 8))\n",
    "x = np.random.poisson(lam=2, size=100)\n",
    "sns.distplot(x)"
   ]
  },
  {
   "cell_type": "markdown",
   "metadata": {
    "tags": [
     "l6",
     "s6",
     "hint"
    ]
   },
   "source": [
    "use formula for mu and var."
   ]
  },
  {
   "cell_type": "code",
   "execution_count": 35,
   "metadata": {
    "tags": [
     "l6",
     "s6",
     "ans"
    ]
   },
   "outputs": [
    {
     "name": "stdout",
     "output_type": "stream",
     "text": [
      "2.018\n"
     ]
    },
    {
     "data": {
      "image/png": "[encoded data removed]",
      "text/plain": [
       "<matplotlib.figure.Figure at 0x2090f627b70>"
      ]
     },
     "metadata": {},
     "output_type": "display_data"
    }
   ],
   "source": [
    "ax = sns.plt.subplots(figsize=(18, 8))\n",
    "x = np.random.poisson(lam=2, size=1000)\n",
    "sns.distplot(x)\n",
    "\n",
    "mu = np.mean(x)\n",
    "print(mu)"
   ]
  },
  {
   "cell_type": "code",
   "execution_count": 36,
   "metadata": {
    "tags": [
     "hid",
     "s6",
     "l6"
    ]
   },
   "outputs": [
    {
     "name": "stdout",
     "output_type": "stream",
     "text": [
      "continue\n"
     ]
    }
   ],
   "source": [
    "ref_tmp_var = False\n",
    "\n",
    "try:\n",
    "    if (abs(mu - 1.921) < 0.25):\n",
    "        ref_assert_var = True\n",
    "        ref_tmp_var = True\n",
    "    else:\n",
    "        ref_assert_var = False\n",
    "        print('Please follow the instructions given and use the same variables provided in the instructions.')        \n",
    "except Exception:\n",
    "    print('Please follow the instructions given and use the same variables provided in the instructions.')   \n",
    "\n",
    "assert ref_tmp_var"
   ]
  }
 ],
 "metadata": {
  "executed_sections": [],
  "kernelspec": {
   "display_name": "Python 3",
   "language": "python",
   "name": "python3"
  },
  "language_info": {
   "codemirror_mode": {
    "name": "ipython",
    "version": 3
   },
   "file_extension": ".py",
   "mimetype": "text/x-python",
   "name": "python",
   "nbconvert_exporter": "python",
   "pygments_lexer": "ipython3",
   "version": "3.6.0"
  }
 },
 "nbformat": 4,
 "nbformat_minor": 2
}
