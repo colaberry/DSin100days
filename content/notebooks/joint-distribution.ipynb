{
 "cells": [
  {
   "cell_type": "markdown",
   "metadata": {
    "tags": [
     "s1",
     "content",
     "l1"
    ]
   },
   "source": [
    "# Joint Distribution\n",
    "\n",
    "Consider two discrete random variables X and Y.  The function given by\n",
    "f (x, y) = P(X = x, Y = y) for each pair of values (x, y) within the\n",
    "range of X is called the joint probability distribution of X and Y.\n",
    "\n",
    "\n",
    "### Example\n",
    "\n",
    "A coin is tossed twice. Let x denote the number of heads on the first toss and Y the total number of heads on the 2 tosses. \n",
    "Assume that the coin is biased and a head has a 60% chance of occurring:\n",
    "\n",
    "X = First head\n",
    "Y = No of heads in 2 tosses\n",
    "\n",
    "\n",
    "Let us look at a joint probability table for this:\n",
    "\n",
    "\\begin{array}{ l | c | r }\n",
    "     \\hline\n",
    "     H/T & X & Y & JP \\\\ \n",
    "     \\hline\n",
    "     HH & 1 & 2 & 0.36 \\\\ \n",
    "     \\hline\n",
    "     HT & 1 & 1 & 0.24 \\\\ \n",
    "     \\hline\n",
    "     TH & 0 & 1 & 0.24 \\\\ \n",
    "     \\hline\n",
    "     TT & 0 & 0 & 0.16 \\\\ \n",
    "   \\hline\n",
    "\\end{array}\n",
    "\n",
    "The joint probability distribution looks like :\n",
    "\n",
    "\\begin{array}{ l | c | r }\n",
    "     \\hline\n",
    "     Y/X-> & 0 & 1 \\\\ \n",
    "     \\hline\n",
    "     0 & 0.16 & 0 \\\\ \n",
    "     \\hline\n",
    "     1 & 0.24 & 0.24 \\\\ \n",
    "     \\hline\n",
    "     2 & 0 & 0.36 \\\\ \n",
    "     \\hline\n",
    "\\end{array}\n",
    "\n",
    "\n",
    "\n",
    "\n",
    "### Marginal Distribution\n",
    "\n",
    "For a given two random variables X and Y whose joint distribution is known, the marginal distribution of X is simply the probability distribution of X averaging over information about Y. It is the probability distribution of X when the value of Y is not known. This is typically calculated by summing or integrating the joint probability distribution over Y.\n",
    "\n",
    "For discrete random variable , marginal distribution of variable X is obtained by summing up the distribution of X over values of Y.\n",
    "\n",
    "Let us consider the above joint distribution again:\n",
    "\n",
    "\n",
    "\\begin{array}{ l | c | r }\n",
    "     \\hline\n",
    "     Y/X-> & 0 & 1 \\\\ \n",
    "     \\hline\n",
    "     0 & 0.16 & 0 \\\\ \n",
    "     \\hline\n",
    "     1 & 0.24 & 0.24 \\\\ \n",
    "     \\hline\n",
    "     2 & 0 & 0.36 \\\\ \n",
    "     \\hline\n",
    "\\end{array}\n",
    "\n",
    "\n",
    "\n",
    "For the above joint distribution the marginal distribution is below:\n",
    "\n",
    "Marginal Distribution of X:\n",
    "\n",
    "\\begin{array}{ l | c | r }\n",
    "     \\hline\n",
    "     X-> & 0 & 1 \\\\ \n",
    "     \\hline\n",
    "     f(x) & 0.4 & 0.6 \\\\ \n",
    "     \\hline\n",
    "\\end{array}\n",
    "\n",
    "\n",
    "Marginal Distribution of Y:\n",
    "\n",
    "\\begin{array}{ l | c | r }\n",
    "     \\hline\n",
    "     Y-> & 0 & 1  & 2 \\\\ \n",
    "     \\hline\n",
    "     f(y) & 0.16 & 0.48 & 0.36 \\\\ \n",
    "     \\hline\n",
    "\\end{array}\n",
    "\n",
    "\n",
    "### Corpus of words\n",
    "\n",
    "Let us consider the case of a corpus (collection) of 100 words in a text. The words are tabulated below based on their frequency of occurrence and the probability - \n",
    "c(w) = count\n",
    "P(w) = Probability\n",
    "X = word length\n",
    "Y- number of Vowels.\n",
    "\n",
    "\n",
    "Let us look at a joint probability table for this:\n",
    "\n",
    "\\begin{array}{ l | c | r }\n",
    "     \\hline\n",
    "     word & c(w) & P(w) & X & Y  \\\\ \n",
    "     \\hline\n",
    "     the & 30 & 0.30  & 3 & 1 \\\\ \n",
    "     \\hline\n",
    "     to & 18 & 0.18  & 2 & 1 \\\\ \n",
    "     \\hline\n",
    "     will & 16 & 0.16  & 4 & 1 \\\\ \n",
    "     \\hline\n",
    "     of & 10 & 0.10  & 2 & 1 \\\\ \n",
    "     \\hline\n",
    "     hello & 7 & 0.07  & 5 & 2 \\\\ \n",
    "     \\hline\n",
    "     in & 6 & 0.06  & 2 & 1 \\\\ \n",
    "     \\hline\n",
    "     tools & 4 & 0.04  & 5 & 2 \\\\ \n",
    "     \\hline\n",
    "     pose & 3 & 0.03  & 4 & 2 \\\\ \n",
    "     \\hline\n",
    "     taste & 3 & 0.03  & 5 & 2 \\\\ \n",
    "     \\hline\n",
    "     PGM & 3 & 0.03  & 3 & 0 \\\\ \n",
    "     \\hline\n",
    "\\end{array}\n",
    "\n",
    "The joint probability distribution looks like :\n",
    "\n",
    "\\begin{array}{ l | c | r }\n",
    "     \\hline\n",
    "     Y/X-> & 2 & 3 & 4 & 5 \\\\ \n",
    "     \\hline\n",
    "     0 & 0 & 0.03 & 0 & 0 \\\\ \n",
    "     \\hline\n",
    "     1 & 0.34 & 0.30 & 0.16 & 0 \\\\ \n",
    "     \\hline\n",
    "     2 & 0 & 0 & 0.03 & 0.14 \\\\ \n",
    "     \\hline\n",
    "\\end{array}\n",
    "\n",
    "\n",
    "\n",
    "Marginal Distribution of X:\n",
    "\n",
    "\\begin{array}{ l | c | r }\n",
    "     \\hline\n",
    "     X-> & 2 & 3 & 4 & 5 \\\\ \n",
    "     \\hline\n",
    "     f(X) & 0.34 & 0.33 & 0.19 & 0.14 \\\\ \n",
    "     \\hline\n",
    "\\end{array}\n",
    "\n",
    "\n",
    "Marginal Distribution of Y:\n",
    "\n",
    "\\begin{array}{ l | c | r }\n",
    "     \\hline\n",
    "     Y-> & 0 & 1  & 2 \\\\ \n",
    "     \\hline\n",
    "     f(Y) & 0.03 & 0.80 & 0.17 \\\\ \n",
    "     \\hline\n",
    "\\end{array}\n",
    "\n",
    "\n",
    "\n"
   ]
  },
  {
   "cell_type": "code",
   "execution_count": 1,
   "metadata": {
    "collapsed": true,
    "tags": [
     "s1",
     "ce",
     "l1"
    ]
   },
   "outputs": [],
   "source": [
    "#Exercise\n",
    "a = 1"
   ]
  },
  {
   "cell_type": "markdown",
   "metadata": {
    "tags": [
     "s1",
     "l1",
     "hint"
    ]
   },
   "source": [
    "Hint here"
   ]
  },
  {
   "cell_type": "code",
   "execution_count": 7,
   "metadata": {
    "collapsed": true,
    "tags": [
     "s1",
     "l1",
     "ans"
    ]
   },
   "outputs": [],
   "source": [
    "#Solution code goes here"
   ]
  },
  {
   "cell_type": "code",
   "execution_count": 8,
   "metadata": {
    "tags": [
     "s1",
     "hid",
     "l1"
    ]
   },
   "outputs": [
    {
     "name": "stdout",
     "output_type": "stream",
     "text": [
      "continue\n"
     ]
    }
   ],
   "source": [
    "ref_tmp_var = False\n",
    "\n",
    "try:\n",
    "    if a == 1: \n",
    "        ref_assert_var = True\n",
    "        ref_tmp_var = True\n",
    "    else:\n",
    "        ref_assert_var = False\n",
    "        print('Please follow the instructions given and use the same variables provided in the instructions.')\n",
    "except Exception:\n",
    "    print('Please follow the instructions given and use the same variables provided in the instructions.')\n",
    "\n",
    "assert ref_tmp_var"
   ]
  }
 ],
 "metadata": {
  "executed_sections": [],
  "kernelspec": {
   "display_name": "Python 3",
   "language": "python",
   "name": "python3"
  },
  "language_info": {
   "codemirror_mode": {
    "name": "ipython",
    "version": 3
   },
   "file_extension": ".py",
   "mimetype": "text/x-python",
   "name": "python",
   "nbconvert_exporter": "python",
   "pygments_lexer": "ipython3",
   "version": "3.6.1"
  }
 },
 "nbformat": 4,
 "nbformat_minor": 2
}
