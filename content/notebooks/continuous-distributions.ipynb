{
 "cells": [
  {
   "cell_type": "markdown",
   "metadata": {
    "tags": [
     "s1",
     "content",
     "l1"
    ]
   },
   "source": [
    "# Continuous Distributions\n",
    "\n",
    "\n",
    "## Uniform Distribution\n",
    "\n",
    "A symmetric distribution on the interval $(a,b)$, uniform random variable is defined mathematically as:\n",
    "\n",
    "$$\\begin{gather*}\n",
    "f(X) =    \n",
    "\\begin{cases}\n",
    "  \\frac{1}{b-a} & X \\in [a, b], where -inf < a < b < inf\\\\    \n",
    "  0 & otherwise   \n",
    "\\end{cases}\n",
    "\\end{gather*}$$\n",
    "\n",
    "\n",
    "<img src=\"../images/uniform.png\" style=\"width: 700px;\">\n",
    "\n",
    "\n",
    "### Examples\n",
    "\n",
    "Frequently used in simulations and modeling events which are equally likely. Consider waiting at the train station for a train that comes every hour. You do not know the arrival time of the previous train, but the next train will arrive within the hour and the probability of time of arrival is same at all times. The arrival time of the next train is a continuous uniform distribution.\n",
    "\n",
    "### Exercise\n",
    "\n",
    "Let us start to generate uniformly random numbers.\n",
    "* Compute mean and variance of the uniform random variable and assign it to the variables mean and variance."
   ]
  },
  {
   "cell_type": "code",
   "execution_count": 2,
   "metadata": {
    "tags": [
     "s1",
     "ce",
     "l1"
    ]
   },
   "outputs": [
    {
     "name": "stdout",
     "output_type": "stream",
     "text": [
      "\n"
     ]
    }
   ],
   "source": [
    "%matplotlib inline\n",
    "import matplotlib\n",
    "import numpy as np\n",
    "import seaborn as sns\n",
    "\n",
    "a = -1\n",
    "b = 1\n",
    "uniform_x = np.random.uniform(a, b, 1000)\n",
    "sns.distplot(uniform_x)"
   ]
  },
  {
   "cell_type": "markdown",
   "metadata": {
    "tags": [
     "s1",
     "l1",
     "hint"
    ]
   },
   "source": [
    "Use formula for mean and variance."
   ]
  },
  {
   "cell_type": "code",
   "execution_count": null,
   "metadata": {
    "collapsed": true,
    "tags": [
     "s1",
     "l1",
     "ans"
    ]
   },
   "outputs": [],
   "source": [
    "mean = (a + b)/2\n",
    "variance = (b - a)**2/12 \n",
    "\n",
    "print(\"Mean:\", mean, \"| Variance:\", variance)"
   ]
  },
  {
   "cell_type": "code",
   "execution_count": null,
   "metadata": {
    "collapsed": true,
    "tags": [
     "s1",
     "hid",
     "l1"
    ]
   },
   "outputs": [],
   "source": [
    "ref_tmp_var = False\n",
    "\n",
    "try:\n",
    "    if (mean == 0.0) and (abs(variance - 0.33) < 0.1): \n",
    "        ref_assert_var = True\n",
    "        ref_tmp_var = True\n",
    "    else:\n",
    "        ref_assert_var = False\n",
    "        print('Please follow the instructions given and use the same variables provided in the instructions.')\n",
    "except Exception:\n",
    "    print('Please follow the instructions given and use the same variables provided in the instructions.')\n",
    "\n",
    "assert ref_tmp_var"
   ]
  },
  {
   "cell_type": "markdown",
   "metadata": {
    "tags": [
     "l2",
     "content",
     "s2"
    ]
   },
   "source": [
    "\n",
    "<br/><br/><br/>\n",
    "## Gaussian (Normal) distribution\n",
    "\n",
    "Normal or Gaussian distribution of continuous random variables is defined mathematically as\n",
    "\n",
    "$$y=\\frac{e^{-(X-μ)^2/(2σ^2)}} {σ \\sqrt {2π}}$$\n",
    "\n",
    "\n",
    "<img src=\"../images/gaussian.png\" style=\"width: 700px;\">\n",
    "\n",
    "\n",
    "where \n",
    "\n",
    "μ is the mean, \n",
    "σ is the standard deviation, \n",
    "$σ^2$ is the variance, \n",
    "π = 3.14(approx), \n",
    "e = 2.718(approx)\n",
    "\n",
    "\n",
    "### Examples\n",
    "\n",
    "Heights of people, test scores etc. Normal distribution has same mean, median and mode. \n",
    "\n",
    "### Exercise\n",
    "\n",
    "Let's get started with a Gaussian distribution and plot it. Notice the bell shaped curve.\n",
    "* Compute the probability of x=0 using norm.pdf function and assign it to the variable prob. Use Shift+tab to look up the function input arguments."
   ]
  },
  {
   "cell_type": "code",
   "execution_count": null,
   "metadata": {
    "collapsed": true,
    "tags": [
     "l2",
     "ce",
     "s2"
    ]
   },
   "outputs": [],
   "source": [
    "from scipy.stats import norm\n",
    "\n",
    "ax = sns.plt.subplots(figsize=(18, 8))\n",
    "x = np.random.normal(scale=1.0, size=100)\n",
    "sns.distplot(x)"
   ]
  },
  {
   "cell_type": "markdown",
   "metadata": {
    "tags": [
     "l2",
     "s2",
     "hint"
    ]
   },
   "source": [
    "Use numpy random.normal(scale=1.0, size=100)."
   ]
  },
  {
   "cell_type": "code",
   "execution_count": null,
   "metadata": {
    "collapsed": true,
    "tags": [
     "l2",
     "s2",
     "ans"
    ]
   },
   "outputs": [],
   "source": [
    "x = np.random.normal(scale=1.0, size=100)\n",
    "sns.distplot(x)\n",
    "prob = norm.pdf(0, scale=1, loc=0)\n",
    "print(prob)"
   ]
  },
  {
   "cell_type": "code",
   "execution_count": null,
   "metadata": {
    "collapsed": true,
    "tags": [
     "l2",
     "hid",
     "s2"
    ]
   },
   "outputs": [],
   "source": [
    "ref_tmp_var = False\n",
    "\n",
    "try:\n",
    "    if abs(prob - 0.3989) < 0.1:\n",
    "        ref_assert_var = True\n",
    "        ref_tmp_var = True\n",
    "    else:\n",
    "        ref_assert_var = False\n",
    "        print('Please follow the instructions given and use the same variables provided in the instructions.')\n",
    "except Exception:\n",
    "    print('Please follow the instructions given and use the same variables provided in the instructions.')\n",
    "\n",
    "assert ref_tmp_var"
   ]
  },
  {
   "cell_type": "markdown",
   "metadata": {
    "tags": [
     "l3",
     "s3",
     "content"
    ]
   },
   "source": [
    "## Exponential distribution\n",
    "\n",
    "Exponential distribution is a continuous probability distribution that models the time elapsed between events. The Probability Density Function of exponential distribution is mathematically defined as\n",
    "\n",
    "\n",
    "$$f(x,λ) = \\begin{cases}\n",
    "   λe^{λx} & \\text{for }x> 0\\\\    \n",
    "   0    & \\text{for }x\\le 0\\\\\n",
    "\\end{cases}$$\n",
    "\n",
    "where λ > 0 is the average number of occurences in a unit of time.\n",
    "\n",
    "\n",
    "<img src=\"../images/exponential_dist.png\" style=\"width: 700px;\">\n",
    "\n",
    "\n",
    "### Examples\n",
    "\n",
    "On average, a customer care desk receives $\\mu$ calls in an hour. Remember $\\mu$ follows a Poisson distribution. The time between two calls, follows an exponential distribution with $\\lambda = \\frac{1}{\\mu}$\n",
    "\n",
    "### Exercise\n",
    "\n",
    "Let us now plot a Exponential distribution.\n",
    "* Compute the mean and variance of the Exponential Distribution and assign it to mu, var."
   ]
  },
  {
   "cell_type": "code",
   "execution_count": 23,
   "metadata": {
    "tags": [
     "l3",
     "s3",
     "ce"
    ]
   },
   "outputs": [
    {
     "data": {
      "image/png": "[encoded data removed]",
      "text/plain": [
       "<matplotlib.figure.Figure at 0x11e7945c0>"
      ]
     },
     "metadata": {},
     "output_type": "display_data"
    }
   ],
   "source": [
    "import matplotlib.pyplot as plt\n",
    "from scipy import stats\n",
    "%matplotlib inline\n",
    "from scipy.stats import expon\n",
    "import numpy as np \n",
    "import seaborn as sns\n",
    "\n",
    "lambdax = 2\n",
    "\n",
    "x = expon.rvs(0, 1/lambdax , 1000)\n",
    "\n",
    "loc, scale = expon.fit(x, floc=0)\n",
    "\n",
    "sns.distplot(x, kde=False, fit=stats.expon);"
   ]
  },
  {
   "cell_type": "markdown",
   "metadata": {
    "tags": [
     "l3",
     "s3",
     "hint"
    ]
   },
   "source": [
    "Use $\\mu = \\frac{1}{\\lambda}$ and $\\sigma^2=\\frac{1}{\\lambda^2}$"
   ]
  },
  {
   "cell_type": "code",
   "execution_count": 9,
   "metadata": {
    "tags": [
     "l3",
     "s3",
     "ans"
    ]
   },
   "outputs": [
    {
     "name": "stdout",
     "output_type": "stream",
     "text": [
      "0.5 0.25\n"
     ]
    }
   ],
   "source": [
    "mu = 1/lambdax\n",
    "var = 1/(lambdax**2)\n",
    "print(mu, var)"
   ]
  },
  {
   "cell_type": "code",
   "execution_count": 10,
   "metadata": {
    "tags": [
     "l3",
     "s3",
     "hid"
    ]
   },
   "outputs": [
    {
     "name": "stdout",
     "output_type": "stream",
     "text": [
      "continue\n"
     ]
    }
   ],
   "source": [
    "ref_tmp_var = False\n",
    "\n",
    "try:\n",
    "    if (mu == 0.5) and (var==0.25):\n",
    "        ref_assert_var = True\n",
    "        ref_tmp_var = True\n",
    "    else:\n",
    "        ref_assert_var = False\n",
    "        print('Please follow the instructions given and use the same variables provided in the instructions.')\n",
    "except Exception:\n",
    "    print('Please follow the instructions given and use the same variables provided in the instructions.')\n",
    "\n",
    "assert ref_tmp_var"
   ]
  },
  {
   "cell_type": "markdown",
   "metadata": {
    "tags": [
     "l4",
     "s4",
     "content"
    ]
   },
   "source": [
    "## Gamma distribution\n",
    "\n",
    "Gamma distribution is a continuous probability distribution. The Probability Density Function of Gamma distribution is mathematically defined as\n",
    "\n",
    "$$f(x,α,β) = \\frac {β^α x^{α-1}{e^{-βx}}} {Γ(α)} $$\n",
    "\n",
    "\n",
    "where Γ(α) is a complete Gamma function.\n",
    "\n",
    "\n",
    "### Examples\n",
    "\n",
    "Typical events modeled using gamma distribution are accumulated rainfall, aggregate loan default, load on server etc.\n",
    "\n",
    "### Exercise\n",
    "\n",
    "Let's plot a Gamma distribution. \n",
    "* Compute the mean and variance of the Gamma Distribution and assign it to mu, var."
   ]
  },
  {
   "cell_type": "code",
   "execution_count": 32,
   "metadata": {
    "tags": [
     "l4",
     "s4",
     "ce"
    ]
   },
   "outputs": [
    {
     "data": {
      "image/png": "[encoded data removed]",
      "text/plain": [
       "<matplotlib.figure.Figure at 0x1114b9ba8>"
      ]
     },
     "metadata": {},
     "output_type": "display_data"
    }
   ],
   "source": [
    "import matplotlib.pyplot as plt\n",
    "from scipy import stats\n",
    "%matplotlib inline\n",
    "import numpy as np \n",
    "import seaborn as sns\n",
    "\n",
    "alpha = 2\n",
    "beta = 1\n",
    "x = np.random.gamma(alpha, beta, size=200)\n",
    "g = sns.distplot(x, kde=False, fit=stats.gamma);"
   ]
  },
  {
   "cell_type": "markdown",
   "metadata": {
    "tags": [
     "s4",
     "l4",
     "hint"
    ]
   },
   "source": [
    "Use $\\mu = \\frac{\\alpha}{\\beta}$ and $\\sigma^2=\\frac{\\alpha}{\\beta^2}$"
   ]
  },
  {
   "cell_type": "code",
   "execution_count": 33,
   "metadata": {
    "tags": [
     "s4",
     "l4",
     "ans"
    ]
   },
   "outputs": [
    {
     "name": "stdout",
     "output_type": "stream",
     "text": [
      "2.0 2.0\n"
     ]
    }
   ],
   "source": [
    "mu = alpha/beta\n",
    "var = alpha/(beta*beta)\n",
    "print(mu, var)"
   ]
  },
  {
   "cell_type": "code",
   "execution_count": 36,
   "metadata": {
    "tags": [
     "s4",
     "hid",
     "l4"
    ]
   },
   "outputs": [
    {
     "name": "stdout",
     "output_type": "stream",
     "text": [
      "continue\n"
     ]
    }
   ],
   "source": [
    "ref_tmp_var = False\n",
    "\n",
    "try:\n",
    "    if (mu == 2.0) and (var==2.0):\n",
    "        ref_assert_var = True\n",
    "        ref_tmp_var = True\n",
    "    else:\n",
    "        ref_assert_var = False\n",
    "        print('Please follow the instructions given and use the same variables provided in the instructions.')\n",
    "except Exception:\n",
    "    print('Please follow the instructions given and use the same variables provided in the instructions.')\n",
    "\n",
    "assert ref_tmp_var"
   ]
  }
 ],
 "metadata": {
  "executed_sections": [],
  "kernelspec": {
   "display_name": "Python 3",
   "language": "python",
   "name": "python3"
  },
  "language_info": {
   "codemirror_mode": {
    "name": "ipython",
    "version": 3
   },
   "file_extension": ".py",
   "mimetype": "text/x-python",
   "name": "python",
   "nbconvert_exporter": "python",
   "pygments_lexer": "ipython3",
   "version": "3.6.1"
  }
 },
 "nbformat": 4,
 "nbformat_minor": 2
}
