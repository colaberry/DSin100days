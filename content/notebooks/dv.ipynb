{
 "cells": [
  {
   "cell_type": "markdown",
   "metadata": {
    "tags": [
     "s1",
     "content",
     "l1"
    ]
   },
   "source": [
    "# Data Visualization\n",
    "\n",
    "## Data Visualization\n",
    "\n",
    "### Data Visualization\n",
    "\n",
    "Data Visualization is an important part of Data Science. It is an effective way to communicate your findings about the dataset post exploratory analysis as well as results through powerful visualizations. The goals of visualization are:\n",
    "\n",
    "* To gain powerful insights into data that aren't obvious with statistics. \n",
    "* Business and non-technical audience are able to comprehend the results.\n",
    "* Useful for stories so peer data scientists can understand the analysis. \n",
    "\n",
    "Matplotlib is a basic graphing library in python. It is one of the most commonly used package by data scientists for visualization. Matplotlib doesn't have the all the necessary types of plots that could make the visualizations powerful. There are many data visualization libraries, some of which use Matplotlib in the background to render the visualizations. However it is important to study and understand how to display graphs using Matplotlib as it is a base library.\n",
    "\n",
    "### Matplotlib\n",
    "\n",
    "Let us learn to use matplotlib by plotting the sine curve. The sine of a variable can be computed using the numpy library with np.sin() function.\n",
    "\n",
    "```python\n",
    "import matplotlib.pyplot as plt\n",
    "import numpy as np\n",
    "\n",
    "x = np.linspace(-np.pi, np.pi, 100)\n",
    "plt.plot(x, np.sin(x))\n",
    "plt.xlabel('Theta')\n",
    "plt.ylabel('y=sin(x)')\n",
    "plt.show()\n",
    "```\n",
    "<img src='https://s3.amazonaws.com/rfjh/media/CKEditorImages/2017/05/01/sine.png'/>\n",
    "\n",
    "<br/>\n",
    "## Exercise:\n",
    "\n",
    "### The Gaussian Normal Distribution\n",
    "\n",
    "The Gaussian Normal probability distribution is a commonly occuring type of probability distribution where the values peak around the mean with highest probability and taper down on either sides. The greater the area under the curve, then greater is the presence of a population around the mean for such a dataset. matlplotlib has mlab which is useful for computing the normal distribution y values.\n",
    "\n",
    "- The function mlab.normpdf(samples, mean, variance) will generate y values, and code below will plot the curve for the x values.\n",
    "- Seeing the above example, generate 100 values of x from -20 to 20 for which y is computed."
   ]
  },
  {
   "cell_type": "code",
   "execution_count": 2,
   "metadata": {
    "tags": [
     "s1",
     "ce",
     "l1"
    ]
   },
   "outputs": [
    {
     "name": "stdout",
     "output_type": "stream",
     "text": [
      "\n"
     ]
    }
   ],
   "source": [
    "import math\n",
    "import matplotlib.pyplot as plt\n",
    "import numpy as np\n",
    "import matplotlib.mlab as mlab\n",
    "\n",
    "mean = 0.5\n",
    "var_squared = 20.0\n",
    "var = math.sqrt(var_squared)\n",
    "\n",
    "# Generate 100 values of x from -20 to 20."
   ]
  },
  {
   "cell_type": "markdown",
   "metadata": {
    "tags": [
     "s1",
     "l1",
     "hint"
    ]
   },
   "source": [
    "<p>use np.linspace(min, max, number of samples)</p>"
   ]
  },
  {
   "cell_type": "code",
   "execution_count": null,
   "metadata": {
    "collapsed": true,
    "tags": [
     "s1",
     "l1",
     "ans"
    ]
   },
   "outputs": [],
   "source": [
    "x = np.linspace(-20, 20, 100)\n",
    "y = mlab.normpdf(x, mean, var)\n",
    "\n",
    "plt.xlabel('X')\n",
    "plt.ylabel('Probability') \n",
    "dv_a = plt.plot(x, y)"
   ]
  },
  {
   "cell_type": "code",
   "execution_count": null,
   "metadata": {
    "collapsed": true,
    "tags": [
     "s1",
     "hid",
     "l1"
    ]
   },
   "outputs": [],
   "source": [
    "ref_tmp_var = False\n",
    "\n",
    "\n",
    "try:\n",
    "    ref_assert_var = False\n",
    "    x_ = np.linspace(-20, 20, 100)\n",
    "    \n",
    "    if np.all(x == x_):\n",
    "      ref_assert_var = True\n",
    "      out = plt\n",
    "    else:\n",
    "      ref_assert_var = False\n",
    "    \n",
    "except Exception:\n",
    "    print('Please follow the instructions given and use the same variables provided in the instructions.')\n",
    "else:\n",
    "    if ref_assert_var:\n",
    "        ref_tmp_var = True\n",
    "    else:\n",
    "        print('Please follow the instructions given and use the same variables provided in the instructions.')\n",
    "\n",
    "\n",
    "assert ref_tmp_var"
   ]
  },
  {
   "cell_type": "markdown",
   "metadata": {
    "tags": [
     "l2",
     "content",
     "s2"
    ]
   },
   "source": [
    "\n",
    "\n",
    "\n",
    "<br/><br/><br/>\n",
    "## The Scatter Plot\n",
    "\n",
    "The scatter plot is a 2-D plot that provides a visualization of how two variables are correlated with each other. If at any given (x, y), we observe a dense population then we can infer that when the value of x is high, the value of y is also high and vice versa.\n",
    "\n",
    "### Seaborn Data Visualization library \n",
    "\n",
    "Seaborn data visualization library is built on top of matplotlib but with much more powerful features. The graphs produced are also aesthetic and convey more information useful for Data Scientists. We shall use seaborn for many of our visualizations. It is commonly imported as sns. Seaborn has many example datasets that can be loaded into a dataframe. Let us try to visualize how people tip with the 'tips' dataset:\n",
    "\n",
    "```python\n",
    "import numpy as np\n",
    "import pandas as pd\n",
    "import seaborn as sns\n",
    "\n",
    "sns.set(style=\"white\", color_codes=True)\n",
    "tips = sns.load_dataset(\"tips\")\n",
    "g = sns.jointplot(x=\"total_bill\", y=\"tip\", data=tips)\n",
    "\n",
    "# You should use sns.plt.show() to look up the graph if you are using a console.\n",
    "```\n",
    "\n",
    "<img src='https://s3.amazonaws.com/rfjh/media/CKEditorImages/2017/05/01/Screen_Shot_2017-05-01_at_2.42.00_PM.png'/>\n",
    "\n",
    "You can see that there is a dense presence of values between $10:20 total_bill vs $1:3. This means that as many people consume food in the dense range, the tips are also correlated in another range.\n",
    "\n",
    "<br/>\n",
    "## Exercise:\n",
    "\n",
    "### The Gaussian Normal Distribution in Seaborn.\n",
    "\n",
    "- Given the distplot function, distplot(x) and the numpy.random.normal(size=) function, generate a 100 sized sample and generate a distribution plot."
   ]
  },
  {
   "cell_type": "code",
   "execution_count": 1,
   "metadata": {
    "collapsed": true,
    "tags": [
     "l2",
     "ce",
     "s2"
    ]
   },
   "outputs": [],
   "source": [
    "import numpy as np\n",
    "import seaborn as sns\n",
    "\n",
    "# Add code to generate a distribution plot\n",
    "\n"
   ]
  },
  {
   "cell_type": "markdown",
   "metadata": {
    "tags": [
     "l2",
     "s2",
     "hint"
    ]
   },
   "source": [
    "<p>use x = np.random.normal(size=100) and pass this value to sns.distplot()</p>"
   ]
  },
  {
   "cell_type": "code",
   "execution_count": null,
   "metadata": {
    "collapsed": true,
    "tags": [
     "l2",
     "s2",
     "ans"
    ]
   },
   "outputs": [],
   "source": [
    "x = np.random.normal(size=100)\n",
    "sns.plt.ylabel('Probability') \n",
    "sns.plt.xlabel('X')\n",
    "y = sns.distplot(x)"
   ]
  },
  {
   "cell_type": "code",
   "execution_count": 4,
   "metadata": {
    "tags": [
     "l2",
     "hid",
     "s2"
    ]
   },
   "outputs": [
    {
     "name": "stdout",
     "output_type": "stream",
     "text": [
      "name 'y' is not defined\n",
      "Please follow the instructions given and use the same variables provided in the instructions.\n"
     ]
    },
    {
     "data": {
      "image/png": "[encoded data removed]",
      "text/plain": [
       "<matplotlib.figure.Figure at 0x7f460f473f28>"
      ]
     },
     "metadata": {},
     "output_type": "display_data"
    }
   ],
   "source": [
    "ref_tmp_var = False\n",
    "\n",
    "\n",
    "try:\n",
    "    ref_assert_var = False\n",
    "    x_ = np.random.normal(size=100)\n",
    "    y_ = sns.distplot(x_)\n",
    "    a = y_.get_lines()[0].get_data()\n",
    "    \n",
    "    if (len(a) == len(y.get_lines()[0].get_data())):\n",
    "      ref_assert_var = True\n",
    "      out = y.get_figure()\n",
    "    else:\n",
    "      ref_assert_var = False\n",
    "    \n",
    "except Exception:\n",
    "    print('Please follow the instructions given and use the same variables provided in the instructions.')\n",
    "else:\n",
    "    if ref_assert_var:\n",
    "        ref_tmp_var = True\n",
    "    else:\n",
    "        print('Please follow the instructions given and use the same variables provided in the instructions.')\n",
    "\n",
    "\n",
    "assert ref_tmp_var"
   ]
  },
  {
   "cell_type": "markdown",
   "metadata": {
    "tags": [
     "l3",
     "s3",
     "content"
    ]
   },
   "source": [
    "\n",
    "\n",
    "\n",
    "<br/><br/><br/>\n",
    "## The Violin plots\n",
    "\n",
    "Violin plots are 2-D plots that can represent the distribution of datasets for two types of qualifiers within a dataset. For example, if we want to understand how tipping is done on various days by Men vs Women, we generate a violinplot:\n",
    "```python\n",
    "import seaborn as sns\n",
    "\n",
    "tips = sns.load_dataset(\"tips\")\n",
    "sns.violinplot(x=\"day\", y=\"total_bill\", hue=\"sex\", data=tips, split=True,\n",
    "               inner=\"quart\", palette={\"Male\": \"b\", \"Female\": \"y\"})\n",
    " ```\n",
    " \n",
    " <img src='https://s3.amazonaws.com/rfjh/media/CKEditorImages/2017/05/01/violin_1.png'/>\n",
    "You can see that a gaussian normal distribution has been aligned vertically for Male and Female for each day. For example, area under the curve on Friday for Females is much larger than Males with mean around the $15 range. We can interpret that more females tend to hangout and spend more on Fridays!\n",
    "\n",
    "<br/>\n",
    "## Exercise:\n",
    "- Given the violinplots above, remove the hue variable along with the palette and generate the plot.\n",
    "- Assign the plot to variable violin_tips_plot. What do you observe?"
   ]
  },
  {
   "cell_type": "code",
   "execution_count": 6,
   "metadata": {
    "collapsed": true,
    "tags": [
     "l3",
     "s3",
     "ce"
    ]
   },
   "outputs": [],
   "source": [
    "import seaborn as sns\n",
    "\n",
    "tips = sns.load_dataset(\"tips\")\n",
    "\n",
    "# Add code below with no hue and palette.\n",
    "\n"
   ]
  },
  {
   "cell_type": "markdown",
   "metadata": {
    "tags": [
     "l3",
     "s3",
     "hint"
    ]
   },
   "source": []
  },
  {
   "cell_type": "code",
   "execution_count": null,
   "metadata": {
    "collapsed": true,
    "tags": [
     "l3",
     "s3",
     "ans"
    ]
   },
   "outputs": [],
   "source": [
    "# Draw a nested violinplot and split the violins for easier comparison\n",
    "violin_tips_plot = sns.violinplot(x=\"day\", y=\"total_bill\", data=tips, split=True, inner=\"quart\")"
   ]
  },
  {
   "cell_type": "code",
   "execution_count": null,
   "metadata": {
    "collapsed": true,
    "tags": [
     "l3",
     "s3",
     "hid"
    ]
   },
   "outputs": [],
   "source": [
    "ref_tmp_var = False\n",
    "\n",
    "\n",
    "try:\n",
    "    ref_assert_var = False\n",
    "    violin_tips_plot_ = sns.violinplot(x=\"day\", y=\"total_bill\", data=tips, split=True, inner=\"quart\")\n",
    "    \n",
    "    if (len(violin_tips_plot.__dict__) == len(violin_tips_plot_.__dict__)):\n",
    "      ref_assert_var = True\n",
    "      out = violin_tips_plot.get_figure()\n",
    "    else:\n",
    "      ref_assert_var = False\n",
    "    \n",
    "except Exception:\n",
    "    print('Please follow the instructions given and use the same variables provided in the instructions.')\n",
    "else:\n",
    "    if ref_assert_var:\n",
    "        ref_tmp_var = True\n",
    "    else:\n",
    "        print('Please follow the instructions given and use the same variables provided in the instructions.')\n",
    "\n",
    "\n",
    "assert ref_tmp_var"
   ]
  }
 ],
 "metadata": {
  "executed_sections": [],
  "kernelspec": {
   "display_name": "Python 3",
   "language": "python",
   "name": "python3"
  },
  "language_info": {
   "codemirror_mode": {
    "name": "ipython",
    "version": 3
   },
   "file_extension": ".py",
   "mimetype": "text/x-python",
   "name": "python",
   "nbconvert_exporter": "python",
   "pygments_lexer": "ipython3",
   "version": "3.5.2"
  },
  "rf_version": 1
 },
 "nbformat": 4,
 "nbformat_minor": 2
}
