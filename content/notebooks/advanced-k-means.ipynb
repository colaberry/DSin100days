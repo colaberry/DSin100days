{
 "cells": [
  {
   "cell_type": "markdown",
   "metadata": {
    "tags": [
     "s1",
     "content",
     "l1"
    ]
   },
   "source": [
    "# Advanced k-means\n",
    "\n",
    "## Let us prepare the 'normal' data\n",
    "\n",
    "To start with clustering, let us consider the datasets which follow the Gaussian 'normal' distribution with a low variance. To do so, we can synthesize a dataset using sklearn make_blob feature. The centers of these gaussian blobs need to be specified. In two dimensions, we need to specify the centers, standard deviation and number of samples as 2000. Here is the gaussian normal distribution function:\n",
    "\n",
    "$$P(x) = \\frac{1}{{\\sigma \\sqrt {2\\pi } }}e^{{\\frac{ - \\left( {x - \\mu } \\right)^2 }{2\\sigma^2 } }}$$\n",
    "\n",
    "We can create this using make_blobs function. \n",
    "\n",
    "\n",
    "## k-means \n",
    "\n",
    "* Basic algorithm. Good to test out the linearity of the clusters.\n",
    "* Given $d$ observations, $\\{\\mathbf{x}_1,\\dots,\\mathbf{x}_d\\}$, the observations are associated with k clusters, $\\mathbf{C} = \\{C_1,\\dots,C_k\\}$\n",
    "\n",
    "$$\\underset{\\mathbf{C}}{\\textrm{argmin}} \\sum_{i=1}^{k} \\sum_{\\mathbf{x} \\in C_i} \\left|\\left| \\mathbf{x} - \\mathbf{\\mu}_i \\right|\\right|^2 \\;$$,\n",
    "\n",
    "Let us create 5 blobs:\n",
    "\n",
    "```python\n",
    "from sklearn.datasets import make_blobs\n",
    "centers = [[1, 1], [-1, -1], [1, -1], [-2,2], [0,2]]\n",
    "X, y = make_blobs(n_samples=2000, centers=centers, cluster_std=0.3,\n",
    "                                             random_state=0)\n",
    "                                             ```\n",
    "The working of the algorithm is explained in the figure below:\n",
    "\n",
    "<img src=\"../images/k-means.png\", style=\"width: 700px;\"> \n",
    "\n",
    "<br/>\n",
    "## Exercise:\n",
    "- Visualize the blob from the X dataset by using the seaborn pairplot as sns.pairplot() and assign it to the variable g"
   ]
  },
  {
   "cell_type": "code",
   "execution_count": 1,
   "metadata": {
    "collapsed": true,
    "tags": [
     "s1",
     "ce",
     "l1"
    ]
   },
   "outputs": [],
   "source": [
    "from matplotlib import pyplot as plt\n",
    "from sklearn.datasets import make_blobs\n",
    "from sklearn import mixture \n",
    "from sklearn.mixture import GaussianMixture\n",
    "\n",
    "import numpy as np\n",
    "import seaborn as sns\n",
    "import pandas as pd\n",
    "\n",
    "plt.rcParams['figure.figsize'] = (10.0, 8.0) # set default size of plots\n",
    "plt.rcParams['image.interpolation'] = 'nearest'\n",
    "plt.rcParams['image.cmap'] = 'gray'\n",
    "\n",
    "#Create clusters using make_blob feature\n",
    "centers = [[1, 1], [-1, -1], [1, -1],[-2,2],[0,2]]\n",
    "X, y = make_blobs(n_samples=2000, centers=centers, cluster_std=0.3,\n",
    "                            random_state=0)\n",
    "\n",
    "# Transform the data into a dataframe\n",
    "blob_df = pd.DataFrame({'X_0':X[:,0], 'X_1':X[:,1], 'y':y})\n",
    "\n",
    "# Visualize the pair plot and assign it to the variable g\n"
   ]
  },
  {
   "cell_type": "markdown",
   "metadata": {
    "tags": [
     "s1",
     "l1",
     "hint"
    ]
   },
   "source": [
    "<p>Use g = sns.pairplot(x_vars=<1st dimension column>, y_vars= <2nd dimension column>, hue=\"y\", data = blob_df)</p>"
   ]
  },
  {
   "cell_type": "code",
   "execution_count": null,
   "metadata": {
    "collapsed": true,
    "tags": [
     "s1",
     "l1",
     "ans"
    ]
   },
   "outputs": [],
   "source": [
    "g = sns.pairplot(x_vars=\"X_0\", y_vars=\"X_1\", hue=\"y\", data = blob_df)\n",
    "g.fig.set_size_inches(14, 6)"
   ]
  },
  {
   "cell_type": "code",
   "execution_count": null,
   "metadata": {
    "collapsed": true,
    "tags": [
     "s1",
     "hid",
     "l1"
    ]
   },
   "outputs": [],
   "source": [
    "ref_tmp_var = False\n",
    "\n",
    "\n",
    "try:\n",
    "    ref_assert_var = False\n",
    "    g_ = sns.pairplot(x_vars=\"X_0\", y_vars=\"X_1\", hue=\"y\", data = blob_df)\n",
    "    \n",
    "    import numpy as np\n",
    "    \n",
    "    if np.all(g.data.y == g_.data.y):\n",
    "      ref_assert_var = True\n",
    "      out = g\n",
    "    else:\n",
    "      ref_assert_var = False\n",
    "    \n",
    "except Exception:\n",
    "    print('Please follow the instructions given and use the same variables provided in the instructions.')\n",
    "else:\n",
    "    if ref_assert_var:\n",
    "        ref_tmp_var = True\n",
    "    else:\n",
    "        print('Please follow the instructions given and use the same variables provided in the instructions.')\n",
    "\n",
    "\n",
    "assert ref_tmp_var"
   ]
  },
  {
   "cell_type": "markdown",
   "metadata": {
    "tags": [
     "l2",
     "content",
     "s2"
    ]
   },
   "source": [
    "\n",
    "<br/><br/><br/>\n",
    "## ML Engineer's favorite - The k-means\n",
    "\n",
    "We shall now apply k-means to this dataset and observe its performance.\n",
    "\n",
    "k-means is used as a basic unsupervised learning algorithm. The procedure follows a simple and easy way to classify a given data set through a fixed number of clusters, apriori.\n",
    "\n",
    "The Algorithm for K means is as follow -\n",
    "\n",
    " - Select the desired number of clusters k\n",
    " - Select k initial observations as seeds\n",
    " - Calculate average cluster values (cluster centroids) over each variable (for the initial iteration, this will simply be the initial seed observations)\n",
    " - Assign each of the other training observations to the cluster with the nearest centroid \n",
    " - Recalculate cluster centroids (averages) based on the assignments from step 4\n",
    " - Iterate between steps 4 and 5, stop when the error reduced below a threshold.\n",
    "\n",
    "<br/>\n",
    "## Exercise:\n",
    "\n",
    " * Form a dataframe with y as the labels and generate a plot."
   ]
  },
  {
   "cell_type": "code",
   "execution_count": 2,
   "metadata": {
    "collapsed": true,
    "tags": [
     "l2",
     "ce",
     "s2"
    ]
   },
   "outputs": [],
   "source": [
    "from sklearn.cluster import KMeans\n",
    "\n",
    "kmeans = KMeans(n_clusters=5)\n",
    "kmeans.fit(X)\n",
    "\n",
    "centroid = kmeans.cluster_centers_\n",
    "labels = kmeans.labels_\n",
    "\n",
    "#Visualize the k-means clusters\n"
   ]
  },
  {
   "cell_type": "markdown",
   "metadata": {
    "tags": [
     "l2",
     "s2",
     "hint"
    ]
   },
   "source": []
  },
  {
   "cell_type": "code",
   "execution_count": null,
   "metadata": {
    "collapsed": true,
    "tags": [
     "l2",
     "s2",
     "ans"
    ]
   },
   "outputs": [],
   "source": [
    "blob_df['k_means_cluster'] = labels\n",
    "g = sns.pairplot(x_vars=\"X_0\", y_vars=\"X_1\", hue=\"k_means_cluster\", data = blob_df)\n",
    "g.fig.set_size_inches(14, 6)\n",
    "sns.despine()\n",
    "sns.plt.show()"
   ]
  },
  {
   "cell_type": "code",
   "execution_count": null,
   "metadata": {
    "collapsed": true,
    "tags": [
     "l2",
     "hid",
     "s2"
    ]
   },
   "outputs": [],
   "source": [
    "ref_tmp_var = False\n",
    "\n",
    "\n",
    "try:\n",
    "    ref_assert_var = False\n",
    "    blob_df_ = pd.DataFrame({'X_0':X[:,0], 'X_1':X[:,1], 'y':labels})\n",
    "    \n",
    "    import numpy as np\n",
    "    \n",
    "    if np.all(blob_df['k_means_cluster'] == labels):\n",
    "      ref_assert_var = True\n",
    "      out = g\n",
    "    else:\n",
    "      ref_assert_var = False\n",
    "    \n",
    "except Exception:\n",
    "    print('Please follow the instructions given and use the same variables provided in the instructions.')\n",
    "else:\n",
    "    if ref_assert_var:\n",
    "        ref_tmp_var = True\n",
    "    else:\n",
    "        print('Please follow the instructions given and use the same variables provided in the instructions.')\n",
    "\n",
    "\n",
    "assert ref_tmp_var"
   ]
  },
  {
   "cell_type": "markdown",
   "metadata": {
    "tags": [
     "l3",
     "s3",
     "content"
    ]
   },
   "source": [
    "\n",
    "<br/><br/><br/>\n",
    "## Silhouette Scores\n",
    "\n",
    "The Silhouette Coefficient is a metric to estimate the optimum number of clusters. It uses average intra-cluster distance and average nearest-cluster distance for each sample. Higher the value of the score, the better the estimate. Typically the silhoutte scores go high and then fall peaking at an optimum cluster number. The values lie between -1.0 and 1.0.\n",
    "\n",
    "```python\n",
    "k_clusters = []\n",
    "sil_coeffecients = []\n",
    "\n",
    "for n_cluster in range(2,11):\n",
    "    kmeans = KMeans(n_clusters = n_cluster).fit(X)\n",
    "    label = kmeans.labels_\n",
    "    sil_coeff = silhouette_score(X, label)\n",
    "    print(\"For n_clusters={}, Silhouette Coefficient = {}\".format(n_cluster, sil_coeff))\n",
    "    sil_coeffecients.append(sil_coeff)\n",
    "    k_clusters.append(n_cluster)\n",
    "    \n",
    "plt.plot(k_clusters, sil_coeffecients)\n",
    "plt.ylabel('Silhouette Coefficient'), plt.xlabel('No. of Clusters')\n",
    "plt.show()\n",
    "```\n",
    "\n",
    "<img src='https://s3.amazonaws.com/rfjh/media/silhoutte_scores.png' style='float: left;'/>\n",
    "\n",
    "\n",
    "<br/><br/><br/><br/><br/><br/><br/><br/><br/><br/><br/><br/><br/><br/><br/><br/><br/><br/><br/><br/><br/><br/><br/><br/><br/>\n",
    "## Exercise\n",
    "* From the above plot retrieve the optimum number of clusters and assign it to the variable k_best. \n",
    "* Print it out.\n"
   ]
  },
  {
   "cell_type": "code",
   "execution_count": null,
   "metadata": {
    "collapsed": true,
    "tags": [
     "l3",
     "s3",
     "ce"
    ]
   },
   "outputs": [],
   "source": [
    "from sklearn.metrics import silhouette_score\n",
    "\n",
    "k_clusters = []\n",
    "sil_coeffecients = []\n",
    "\n",
    "for n_cluster in range(2,11):\n",
    "    kmeans = KMeans(n_clusters = n_cluster).fit(X)\n",
    "    label = kmeans.labels_\n",
    "    sil_coeff = silhouette_score(X, label)\n",
    "    print(\"For n_clusters={}, Silhouette Coefficient = {}\".format(n_cluster, sil_coeff))\n",
    "    sil_coeffecients.append(sil_coeff)\n",
    "    k_clusters.append(n_cluster)\n",
    "    \n",
    "plt.plot(k_clusters, sil_coeffecients)\n",
    "plt.ylabel('Silhouette Coefficient'), plt.xlabel('No. of Clusters')\n",
    "plt.show()\n",
    "\n"
   ]
  },
  {
   "cell_type": "markdown",
   "metadata": {
    "tags": [
     "l3",
     "s3",
     "hint"
    ]
   },
   "source": []
  },
  {
   "cell_type": "code",
   "execution_count": null,
   "metadata": {
    "collapsed": true,
    "tags": [
     "l3",
     "s3",
     "ans"
    ]
   },
   "outputs": [],
   "source": [
    "sil_best = max(sil_coeffecients)\n",
    "k_best_index = sil_coeffecients.index(sil_best)\n",
    "k_best = k_clusters[k_best_index]\n",
    "print(\"Optimum Number of Clusters:\", k_best)"
   ]
  },
  {
   "cell_type": "code",
   "execution_count": null,
   "metadata": {
    "collapsed": true,
    "tags": [
     "l3",
     "s3",
     "hid"
    ]
   },
   "outputs": [],
   "source": [
    "ref_tmp_var = False\n",
    "\n",
    "\n",
    "try:\n",
    "    ref_assert_var = False\n",
    "    \n",
    "    \n",
    "    ref_assert_var = False\n",
    "    if k_best == 5:\n",
    "        ref_assert_var = True\n",
    "    else:\n",
    "        ref_assert_var = False\n",
    "    \n",
    "except Exception:\n",
    "    print('Please follow the instructions given and use the same variables provided in the instructions.')\n",
    "else:\n",
    "    if ref_assert_var:\n",
    "        ref_tmp_var = True\n",
    "    else:\n",
    "        print('Please follow the instructions given and use the same variables provided in the instructions.')\n",
    "\n",
    "\n",
    "assert ref_tmp_var"
   ]
  }
 ],
 "metadata": {
  "executed_sections": [],
  "kernelspec": {
   "display_name": "Python 3",
   "language": "python",
   "name": "python3"
  },
  "language_info": {
   "codemirror_mode": {
    "name": "ipython",
    "version": 3
   },
   "file_extension": ".py",
   "mimetype": "text/x-python",
   "name": "python",
   "nbconvert_exporter": "python",
   "pygments_lexer": "ipython3",
   "version": "3.6.0"
  },
  "rf_version": 1
 },
 "nbformat": 4,
 "nbformat_minor": 2
}
