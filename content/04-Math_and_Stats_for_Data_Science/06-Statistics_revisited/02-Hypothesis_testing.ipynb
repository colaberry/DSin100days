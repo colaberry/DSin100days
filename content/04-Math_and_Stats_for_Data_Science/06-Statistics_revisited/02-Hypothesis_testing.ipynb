{
 "cells": [
  {
   "cell_type": "markdown",
   "metadata": {
    "ExecuteTime": {
     "end_time": "2018-12-16T03:08:17.330493Z",
     "start_time": "2018-12-16T03:08:14.815187Z"
    }
   },
   "source": [
    "#### Run the below code to import all libraries required to run sample code within this notebook"
   ]
  },
  {
   "cell_type": "code",
   "execution_count": 14,
   "metadata": {},
   "outputs": [
    {
     "data": {
      "text/html": [
       "<script>requirejs.config({paths: { 'plotly': ['https://cdn.plot.ly/plotly-latest.min']},});if(!window.Plotly) {{require(['plotly'],function(plotly) {window.Plotly=plotly;});}}</script>"
      ],
      "text/vnd.plotly.v1+html": [
       "<script>requirejs.config({paths: { 'plotly': ['https://cdn.plot.ly/plotly-latest.min']},});if(!window.Plotly) {{require(['plotly'],function(plotly) {window.Plotly=plotly;});}}</script>"
      ]
     },
     "metadata": {},
     "output_type": "display_data"
    },
    {
     "data": {
      "text/html": [
       "\n",
       "    <div class=\"bk-root\">\n",
       "        <a href=\"https://bokeh.pydata.org\" target=\"_blank\" class=\"bk-logo bk-logo-small bk-logo-notebook\"></a>\n",
       "        <span id=\"faaf3f67-d302-45a8-b640-9fd221f92dfc\">Loading BokehJS ...</span>\n",
       "    </div>"
      ]
     },
     "metadata": {},
     "output_type": "display_data"
    },
    {
     "data": {
      "application/javascript": [
       "\n",
       "(function(root) {\n",
       "  function now() {\n",
       "    return new Date();\n",
       "  }\n",
       "\n",
       "  var force = true;\n",
       "\n",
       "  if (typeof (root._bokeh_onload_callbacks) === \"undefined\" || force === true) {\n",
       "    root._bokeh_onload_callbacks = [];\n",
       "    root._bokeh_is_loading = undefined;\n",
       "  }\n",
       "\n",
       "  var JS_MIME_TYPE = 'application/javascript';\n",
       "  var HTML_MIME_TYPE = 'text/html';\n",
       "  var EXEC_MIME_TYPE = 'application/vnd.bokehjs_exec.v0+json';\n",
       "  var CLASS_NAME = 'output_bokeh rendered_html';\n",
       "\n",
       "  /**\n",
       "   * Render data to the DOM node\n",
       "   */\n",
       "  function render(props, node) {\n",
       "    var script = document.createElement(\"script\");\n",
       "    node.appendChild(script);\n",
       "  }\n",
       "\n",
       "  /**\n",
       "   * Handle when an output is cleared or removed\n",
       "   */\n",
       "  function handleClearOutput(event, handle) {\n",
       "    var cell = handle.cell;\n",
       "\n",
       "    var id = cell.output_area._bokeh_element_id;\n",
       "    var server_id = cell.output_area._bokeh_server_id;\n",
       "    // Clean up Bokeh references\n",
       "    if (id !== undefined) {\n",
       "      Bokeh.index[id].model.document.clear();\n",
       "      delete Bokeh.index[id];\n",
       "    }\n",
       "\n",
       "    if (server_id !== undefined) {\n",
       "      // Clean up Bokeh references\n",
       "      var cmd = \"from bokeh.io.state import curstate; print(curstate().uuid_to_server['\" + server_id + \"'].get_sessions()[0].document.roots[0]._id)\";\n",
       "      cell.notebook.kernel.execute(cmd, {\n",
       "        iopub: {\n",
       "          output: function(msg) {\n",
       "            var element_id = msg.content.text.trim();\n",
       "            Bokeh.index[element_id].model.document.clear();\n",
       "            delete Bokeh.index[element_id];\n",
       "          }\n",
       "        }\n",
       "      });\n",
       "      // Destroy server and session\n",
       "      var cmd = \"import bokeh.io.notebook as ion; ion.destroy_server('\" + server_id + \"')\";\n",
       "      cell.notebook.kernel.execute(cmd);\n",
       "    }\n",
       "  }\n",
       "\n",
       "  /**\n",
       "   * Handle when a new output is added\n",
       "   */\n",
       "  function handleAddOutput(event, handle) {\n",
       "    var output_area = handle.output_area;\n",
       "    var output = handle.output;\n",
       "\n",
       "    // limit handleAddOutput to display_data with EXEC_MIME_TYPE content only\n",
       "    if ((output.output_type != \"display_data\") || (!output.data.hasOwnProperty(EXEC_MIME_TYPE))) {\n",
       "      return\n",
       "    }\n",
       "\n",
       "    var toinsert = output_area.element.find(\".\" + CLASS_NAME.split(' ')[0]);\n",
       "\n",
       "    if (output.metadata[EXEC_MIME_TYPE][\"id\"] !== undefined) {\n",
       "      toinsert[toinsert.length - 1].firstChild.textContent = output.data[JS_MIME_TYPE];\n",
       "      // store reference to embed id on output_area\n",
       "      output_area._bokeh_element_id = output.metadata[EXEC_MIME_TYPE][\"id\"];\n",
       "    }\n",
       "    if (output.metadata[EXEC_MIME_TYPE][\"server_id\"] !== undefined) {\n",
       "      var bk_div = document.createElement(\"div\");\n",
       "      bk_div.innerHTML = output.data[HTML_MIME_TYPE];\n",
       "      var script_attrs = bk_div.children[0].attributes;\n",
       "      for (var i = 0; i < script_attrs.length; i++) {\n",
       "        toinsert[toinsert.length - 1].firstChild.setAttribute(script_attrs[i].name, script_attrs[i].value);\n",
       "      }\n",
       "      // store reference to server id on output_area\n",
       "      output_area._bokeh_server_id = output.metadata[EXEC_MIME_TYPE][\"server_id\"];\n",
       "    }\n",
       "  }\n",
       "\n",
       "  function register_renderer(events, OutputArea) {\n",
       "\n",
       "    function append_mime(data, metadata, element) {\n",
       "      // create a DOM node to render to\n",
       "      var toinsert = this.create_output_subarea(\n",
       "        metadata,\n",
       "        CLASS_NAME,\n",
       "        EXEC_MIME_TYPE\n",
       "      );\n",
       "      this.keyboard_manager.register_events(toinsert);\n",
       "      // Render to node\n",
       "      var props = {data: data, metadata: metadata[EXEC_MIME_TYPE]};\n",
       "      render(props, toinsert[toinsert.length - 1]);\n",
       "      element.append(toinsert);\n",
       "      return toinsert\n",
       "    }\n",
       "\n",
       "    /* Handle when an output is cleared or removed */\n",
       "    events.on('clear_output.CodeCell', handleClearOutput);\n",
       "    events.on('delete.Cell', handleClearOutput);\n",
       "\n",
       "    /* Handle when a new output is added */\n",
       "    events.on('output_added.OutputArea', handleAddOutput);\n",
       "\n",
       "    /**\n",
       "     * Register the mime type and append_mime function with output_area\n",
       "     */\n",
       "    OutputArea.prototype.register_mime_type(EXEC_MIME_TYPE, append_mime, {\n",
       "      /* Is output safe? */\n",
       "      safe: true,\n",
       "      /* Index of renderer in `output_area.display_order` */\n",
       "      index: 0\n",
       "    });\n",
       "  }\n",
       "\n",
       "  // register the mime type if in Jupyter Notebook environment and previously unregistered\n",
       "  if (root.Jupyter !== undefined) {\n",
       "    var events = require('base/js/events');\n",
       "    var OutputArea = require('notebook/js/outputarea').OutputArea;\n",
       "\n",
       "    if (OutputArea.prototype.mime_types().indexOf(EXEC_MIME_TYPE) == -1) {\n",
       "      register_renderer(events, OutputArea);\n",
       "    }\n",
       "  }\n",
       "\n",
       "  \n",
       "  if (typeof (root._bokeh_timeout) === \"undefined\" || force === true) {\n",
       "    root._bokeh_timeout = Date.now() + 5000;\n",
       "    root._bokeh_failed_load = false;\n",
       "  }\n",
       "\n",
       "  var NB_LOAD_WARNING = {'data': {'text/html':\n",
       "     \"<div style='background-color: #fdd'>\\n\"+\n",
       "     \"<p>\\n\"+\n",
       "     \"BokehJS does not appear to have successfully loaded. If loading BokehJS from CDN, this \\n\"+\n",
       "     \"may be due to a slow or bad network connection. Possible fixes:\\n\"+\n",
       "     \"</p>\\n\"+\n",
       "     \"<ul>\\n\"+\n",
       "     \"<li>re-rerun `output_notebook()` to attempt to load from CDN again, or</li>\\n\"+\n",
       "     \"<li>use INLINE resources instead, as so:</li>\\n\"+\n",
       "     \"</ul>\\n\"+\n",
       "     \"<code>\\n\"+\n",
       "     \"from bokeh.resources import INLINE\\n\"+\n",
       "     \"output_notebook(resources=INLINE)\\n\"+\n",
       "     \"</code>\\n\"+\n",
       "     \"</div>\"}};\n",
       "\n",
       "  function display_loaded() {\n",
       "    var el = document.getElementById(\"faaf3f67-d302-45a8-b640-9fd221f92dfc\");\n",
       "    if (el != null) {\n",
       "      el.textContent = \"BokehJS is loading...\";\n",
       "    }\n",
       "    if (root.Bokeh !== undefined) {\n",
       "      if (el != null) {\n",
       "        el.textContent = \"BokehJS \" + root.Bokeh.version + \" successfully loaded.\";\n",
       "      }\n",
       "    } else if (Date.now() < root._bokeh_timeout) {\n",
       "      setTimeout(display_loaded, 100)\n",
       "    }\n",
       "  }\n",
       "\n",
       "\n",
       "  function run_callbacks() {\n",
       "    try {\n",
       "      root._bokeh_onload_callbacks.forEach(function(callback) { callback() });\n",
       "    }\n",
       "    finally {\n",
       "      delete root._bokeh_onload_callbacks\n",
       "    }\n",
       "    console.info(\"Bokeh: all callbacks have finished\");\n",
       "  }\n",
       "\n",
       "  function load_libs(js_urls, callback) {\n",
       "    root._bokeh_onload_callbacks.push(callback);\n",
       "    if (root._bokeh_is_loading > 0) {\n",
       "      console.log(\"Bokeh: BokehJS is being loaded, scheduling callback at\", now());\n",
       "      return null;\n",
       "    }\n",
       "    if (js_urls == null || js_urls.length === 0) {\n",
       "      run_callbacks();\n",
       "      return null;\n",
       "    }\n",
       "    console.log(\"Bokeh: BokehJS not loaded, scheduling load and callback at\", now());\n",
       "    root._bokeh_is_loading = js_urls.length;\n",
       "    for (var i = 0; i < js_urls.length; i++) {\n",
       "      var url = js_urls[i];\n",
       "      var s = document.createElement('script');\n",
       "      s.src = url;\n",
       "      s.async = false;\n",
       "      s.onreadystatechange = s.onload = function() {\n",
       "        root._bokeh_is_loading--;\n",
       "        if (root._bokeh_is_loading === 0) {\n",
       "          console.log(\"Bokeh: all BokehJS libraries loaded\");\n",
       "          run_callbacks()\n",
       "        }\n",
       "      };\n",
       "      s.onerror = function() {\n",
       "        console.warn(\"failed to load library \" + url);\n",
       "      };\n",
       "      console.log(\"Bokeh: injecting script tag for BokehJS library: \", url);\n",
       "      document.getElementsByTagName(\"head\")[0].appendChild(s);\n",
       "    }\n",
       "  };var element = document.getElementById(\"faaf3f67-d302-45a8-b640-9fd221f92dfc\");\n",
       "  if (element == null) {\n",
       "    console.log(\"Bokeh: ERROR: autoload.js configured with elementid 'faaf3f67-d302-45a8-b640-9fd221f92dfc' but no matching script tag was found. \")\n",
       "    return false;\n",
       "  }\n",
       "\n",
       "  var js_urls = [\"https://cdn.pydata.org/bokeh/release/bokeh-0.12.16.min.js\", \"https://cdn.pydata.org/bokeh/release/bokeh-widgets-0.12.16.min.js\", \"https://cdn.pydata.org/bokeh/release/bokeh-tables-0.12.16.min.js\", \"https://cdn.pydata.org/bokeh/release/bokeh-gl-0.12.16.min.js\"];\n",
       "\n",
       "  var inline_js = [\n",
       "    function(Bokeh) {\n",
       "      Bokeh.set_log_level(\"info\");\n",
       "    },\n",
       "    \n",
       "    function(Bokeh) {\n",
       "      \n",
       "    },\n",
       "    function(Bokeh) {\n",
       "      console.log(\"Bokeh: injecting CSS: https://cdn.pydata.org/bokeh/release/bokeh-0.12.16.min.css\");\n",
       "      Bokeh.embed.inject_css(\"https://cdn.pydata.org/bokeh/release/bokeh-0.12.16.min.css\");\n",
       "      console.log(\"Bokeh: injecting CSS: https://cdn.pydata.org/bokeh/release/bokeh-widgets-0.12.16.min.css\");\n",
       "      Bokeh.embed.inject_css(\"https://cdn.pydata.org/bokeh/release/bokeh-widgets-0.12.16.min.css\");\n",
       "      console.log(\"Bokeh: injecting CSS: https://cdn.pydata.org/bokeh/release/bokeh-tables-0.12.16.min.css\");\n",
       "      Bokeh.embed.inject_css(\"https://cdn.pydata.org/bokeh/release/bokeh-tables-0.12.16.min.css\");\n",
       "    }\n",
       "  ];\n",
       "\n",
       "  function run_inline_js() {\n",
       "    \n",
       "    if ((root.Bokeh !== undefined) || (force === true)) {\n",
       "      for (var i = 0; i < inline_js.length; i++) {\n",
       "        inline_js[i].call(root, root.Bokeh);\n",
       "      }if (force === true) {\n",
       "        display_loaded();\n",
       "      }} else if (Date.now() < root._bokeh_timeout) {\n",
       "      setTimeout(run_inline_js, 100);\n",
       "    } else if (!root._bokeh_failed_load) {\n",
       "      console.log(\"Bokeh: BokehJS failed to load within specified timeout.\");\n",
       "      root._bokeh_failed_load = true;\n",
       "    } else if (force !== true) {\n",
       "      var cell = $(document.getElementById(\"faaf3f67-d302-45a8-b640-9fd221f92dfc\")).parents('.cell').data().cell;\n",
       "      cell.output_area.append_execute_result(NB_LOAD_WARNING)\n",
       "    }\n",
       "\n",
       "  }\n",
       "\n",
       "  if (root._bokeh_is_loading === 0) {\n",
       "    console.log(\"Bokeh: BokehJS loaded, going straight to plotting\");\n",
       "    run_inline_js();\n",
       "  } else {\n",
       "    load_libs(js_urls, function() {\n",
       "      console.log(\"Bokeh: BokehJS plotting callback run at\", now());\n",
       "      run_inline_js();\n",
       "    });\n",
       "  }\n",
       "}(window));"
      ],
      "application/vnd.bokehjs_load.v0+json": "\n(function(root) {\n  function now() {\n    return new Date();\n  }\n\n  var force = true;\n\n  if (typeof (root._bokeh_onload_callbacks) === \"undefined\" || force === true) {\n    root._bokeh_onload_callbacks = [];\n    root._bokeh_is_loading = undefined;\n  }\n\n  \n\n  \n  if (typeof (root._bokeh_timeout) === \"undefined\" || force === true) {\n    root._bokeh_timeout = Date.now() + 5000;\n    root._bokeh_failed_load = false;\n  }\n\n  var NB_LOAD_WARNING = {'data': {'text/html':\n     \"<div style='background-color: #fdd'>\\n\"+\n     \"<p>\\n\"+\n     \"BokehJS does not appear to have successfully loaded. If loading BokehJS from CDN, this \\n\"+\n     \"may be due to a slow or bad network connection. Possible fixes:\\n\"+\n     \"</p>\\n\"+\n     \"<ul>\\n\"+\n     \"<li>re-rerun `output_notebook()` to attempt to load from CDN again, or</li>\\n\"+\n     \"<li>use INLINE resources instead, as so:</li>\\n\"+\n     \"</ul>\\n\"+\n     \"<code>\\n\"+\n     \"from bokeh.resources import INLINE\\n\"+\n     \"output_notebook(resources=INLINE)\\n\"+\n     \"</code>\\n\"+\n     \"</div>\"}};\n\n  function display_loaded() {\n    var el = document.getElementById(\"faaf3f67-d302-45a8-b640-9fd221f92dfc\");\n    if (el != null) {\n      el.textContent = \"BokehJS is loading...\";\n    }\n    if (root.Bokeh !== undefined) {\n      if (el != null) {\n        el.textContent = \"BokehJS \" + root.Bokeh.version + \" successfully loaded.\";\n      }\n    } else if (Date.now() < root._bokeh_timeout) {\n      setTimeout(display_loaded, 100)\n    }\n  }\n\n\n  function run_callbacks() {\n    try {\n      root._bokeh_onload_callbacks.forEach(function(callback) { callback() });\n    }\n    finally {\n      delete root._bokeh_onload_callbacks\n    }\n    console.info(\"Bokeh: all callbacks have finished\");\n  }\n\n  function load_libs(js_urls, callback) {\n    root._bokeh_onload_callbacks.push(callback);\n    if (root._bokeh_is_loading > 0) {\n      console.log(\"Bokeh: BokehJS is being loaded, scheduling callback at\", now());\n      return null;\n    }\n    if (js_urls == null || js_urls.length === 0) {\n      run_callbacks();\n      return null;\n    }\n    console.log(\"Bokeh: BokehJS not loaded, scheduling load and callback at\", now());\n    root._bokeh_is_loading = js_urls.length;\n    for (var i = 0; i < js_urls.length; i++) {\n      var url = js_urls[i];\n      var s = document.createElement('script');\n      s.src = url;\n      s.async = false;\n      s.onreadystatechange = s.onload = function() {\n        root._bokeh_is_loading--;\n        if (root._bokeh_is_loading === 0) {\n          console.log(\"Bokeh: all BokehJS libraries loaded\");\n          run_callbacks()\n        }\n      };\n      s.onerror = function() {\n        console.warn(\"failed to load library \" + url);\n      };\n      console.log(\"Bokeh: injecting script tag for BokehJS library: \", url);\n      document.getElementsByTagName(\"head\")[0].appendChild(s);\n    }\n  };var element = document.getElementById(\"faaf3f67-d302-45a8-b640-9fd221f92dfc\");\n  if (element == null) {\n    console.log(\"Bokeh: ERROR: autoload.js configured with elementid 'faaf3f67-d302-45a8-b640-9fd221f92dfc' but no matching script tag was found. \")\n    return false;\n  }\n\n  var js_urls = [\"https://cdn.pydata.org/bokeh/release/bokeh-0.12.16.min.js\", \"https://cdn.pydata.org/bokeh/release/bokeh-widgets-0.12.16.min.js\", \"https://cdn.pydata.org/bokeh/release/bokeh-tables-0.12.16.min.js\", \"https://cdn.pydata.org/bokeh/release/bokeh-gl-0.12.16.min.js\"];\n\n  var inline_js = [\n    function(Bokeh) {\n      Bokeh.set_log_level(\"info\");\n    },\n    \n    function(Bokeh) {\n      \n    },\n    function(Bokeh) {\n      console.log(\"Bokeh: injecting CSS: https://cdn.pydata.org/bokeh/release/bokeh-0.12.16.min.css\");\n      Bokeh.embed.inject_css(\"https://cdn.pydata.org/bokeh/release/bokeh-0.12.16.min.css\");\n      console.log(\"Bokeh: injecting CSS: https://cdn.pydata.org/bokeh/release/bokeh-widgets-0.12.16.min.css\");\n      Bokeh.embed.inject_css(\"https://cdn.pydata.org/bokeh/release/bokeh-widgets-0.12.16.min.css\");\n      console.log(\"Bokeh: injecting CSS: https://cdn.pydata.org/bokeh/release/bokeh-tables-0.12.16.min.css\");\n      Bokeh.embed.inject_css(\"https://cdn.pydata.org/bokeh/release/bokeh-tables-0.12.16.min.css\");\n    }\n  ];\n\n  function run_inline_js() {\n    \n    if ((root.Bokeh !== undefined) || (force === true)) {\n      for (var i = 0; i < inline_js.length; i++) {\n        inline_js[i].call(root, root.Bokeh);\n      }if (force === true) {\n        display_loaded();\n      }} else if (Date.now() < root._bokeh_timeout) {\n      setTimeout(run_inline_js, 100);\n    } else if (!root._bokeh_failed_load) {\n      console.log(\"Bokeh: BokehJS failed to load within specified timeout.\");\n      root._bokeh_failed_load = true;\n    } else if (force !== true) {\n      var cell = $(document.getElementById(\"faaf3f67-d302-45a8-b640-9fd221f92dfc\")).parents('.cell').data().cell;\n      cell.output_area.append_execute_result(NB_LOAD_WARNING)\n    }\n\n  }\n\n  if (root._bokeh_is_loading === 0) {\n    console.log(\"Bokeh: BokehJS loaded, going straight to plotting\");\n    run_inline_js();\n  } else {\n    load_libs(js_urls, function() {\n      console.log(\"Bokeh: BokehJS plotting callback run at\", now());\n      run_inline_js();\n    });\n  }\n}(window));"
     },
     "metadata": {},
     "output_type": "display_data"
    }
   ],
   "source": [
    "# Just run the below code\n",
    "\n",
    "import numpy as np \n",
    "from ipywidgets import interact, interactive, fixed, interact_manual\n",
    "import ipywidgets as widgets\n",
    " \n",
    "from plotly.offline import download_plotlyjs, init_notebook_mode, plot, iplot\n",
    "from plotly import graph_objs as go\n",
    "init_notebook_mode(connected=True)\n",
    "import numpy as np\n",
    "\n",
    "import random\n",
    "\n",
    "from IPython.display import display, Math\n",
    "\n",
    "from bokeh.io import show, output_notebook\n",
    "from bokeh.plotting import figure, show\n",
    "from scipy.stats import norm \n",
    "from bokeh import plotting as pl\n",
    "from bokeh.models import HoverTool, Arrow, OpenHead, NormalHead, VeeHead\n",
    "\n",
    "\n",
    "output_notebook()"
   ]
  },
  {
   "cell_type": "markdown",
   "metadata": {
    "hide_input": true
   },
   "source": [
    "### Solution code\n",
    "\n",
    "```python\n",
    "# Just run above code\n",
    "```"
   ]
  },
  {
   "cell_type": "markdown",
   "metadata": {},
   "source": [
    "Now that we have established an understand of ideas like what is statistical population or sample and looked at elementary ideas of estimates, we are going to utilize all of these to actually start doing some statistics. The first thing we are going to tackle is called hypothesis testing. There is a bit of vocabulary that you will need for this. Fear not we will cover it in detail with lots of examples. \n",
    "\n",
    "But first we need to motivate why we need to learn hypothesis testing. Suppose I give you a problem where \n",
    "\n",
    "\n",
    "To deal with problems like this we need to utilize hypothesis testing. This notebook is going be broken down into the following sections- \n",
    "\n",
    "1) Basic idea behind hypothesis testing <br>\n",
    "2) Types of error <br>\n",
    "3) Examples of hypothesis testing <br>\n",
    "4) One sided and two sided tests <br>\n",
    "5) p values <br>\n",
    "\n",
    "\n",
    "# Basic idea behind hypothesis testing \n",
    "\n",
    "\n",
    "Suppose you are a web designer. Your are rebuilding a really sweet website for this new company that you are working with. Your are done everything except for the opening page, you can't seem to decide what color you want to choose for it hence you ask your boss. Your boss says we have had a red opening page for the longest time and that it works. You say, na! If we switch the color to green we will get more people to stay on the site since green is pleasing to the eye. \n",
    "\n",
    "How would you resolve this situation by using data ? \n",
    "\n",
    "This is where we can utilize hypothesis testing. The various steps of hypothesis testing are- \n",
    "\n",
    "* Define what statistic you want to use for doing hypothesis test- we are going to be mostly using the mean \n",
    "* Define the alternate and the null hypothesis in terms of step 1 \n",
    "* Define a significance level for your problem   \n",
    "* Calculate the test statistic  \n",
    "* Compare the test statistic to the significance level and based on the condition either accept or reject the null hypothesis\n",
    "\n",
    "1) Defining the statistic that you are going to be using \n",
    "\n",
    "Let's take problem that we defined earlier. One statistic we can use is the mean time spent on the website. Suppose your boss gives you the data of how much time people spend on the current opening page which is red. You get the mean value of the time spent there, say it's 5 mins. Hence, our definition of Null and Alternate hypothesis will have to be in terms of this parameter, which is the mean or average amount of time that people spend on the website. \n",
    "\n",
    "2) Define the null and alternate hypothesis \n",
    "\n",
    "In step 1, we mentioned that the average time spent on the website opening page was currently 5 mins. So your alternate hypothesis will be that average time spent on the website will be greater than 5 mins after the change in the page color. \n",
    "Your null hypothesis is that even after the change of color to green, the average time spent on the opening page will be less than or equal to 5. So let's write this down in a more formal way- \n",
    "\n",
    "$H_o : \\mu_o \\leq 5$  mins  <br>\n",
    "\n",
    "$H_a : \\mu_a > 5$ mins \n",
    "\n",
    "\n",
    "3) Defining the significance level \n",
    "\n",
    "The significance level (also known as the alpha level) is a probability value. This is a threshold beyond which you will reject the null hypothesis. This is the equivalent of saying that If more than 5 in 100 samples, the mean is different from a threshold we set, then we will reject the null hypothesis. This will become clear as we go along. Typically when a significance level is not given, you can assume a significance level denoted by $\\alpha$ as $\\alpha= 0.05$\n",
    "\n",
    "4) Calculate the test statistic\n",
    "\n",
    "This is the main calculation that we have to do. In our example, what our boss gave us essentially defines a population of time spent on the opening page. We can get a mean from that. Then what we do is generate our own sample. We do this by first making a change in the opening page to green and then recording average time people spend on it. Suppose we took a sample, after the color change, of 10 people and found that people spent on average about 6 mins on the website. Given the population standard deviation of 1 min. Then our sample mean $\\bar x= 6 $ mins. Once we have this information we plug this into - \n",
    "\n",
    "\n",
    "$\\begin{align}z_c = \\dfrac{({\\bar x - \\mu_p})}{\\bar \\sigma} \\end{align}$\n",
    "\n",
    "where\n",
    "\n",
    "${\\bar \\sigma} = {\\sigma_p}/{\\sqrt{n}}$\n",
    "\n",
    "$z_c$ is called the critical value or sometimes the test statistic <br>\n",
    "$\\bar x$ is the sample mean  <br>\n",
    "$\\mu $ is the population mean  <br>\n",
    "$\\bar \\sigma $ is the sample standard deviation <br>\n",
    "$\\sigma_p $ is the population standard deviation <br>\n",
    "$n$ is the sample size. In our case $n =10$\n",
    "\n",
    "Note, so we can only define the test statistic above since we have chose our statistic to be mean, if we change that to something else. The expression above will also change \n",
    "\n",
    "What we are actually looking at in equation (1) is nothing more than normal distribution. See, since in our sample size of the population will be greater than 30 units we can represent the population mean as a normal distribution. Once we do that calculating $z_c$ is easy since all we have to do is plug in the numbers and we will get $z_c$. So let's actually do that. \n",
    "\n",
    "Question: calculate the value of z_c from equation(1). Hint the rest of the numbers are in the problem definition"
   ]
  },
  {
   "cell_type": "code",
   "execution_count": 15,
   "metadata": {
    "ExecuteTime": {
     "end_time": "2018-12-16T03:08:17.364404Z",
     "start_time": "2018-12-16T03:08:17.344427Z"
    }
   },
   "outputs": [
    {
     "name": "stdout",
     "output_type": "stream",
     "text": [
      "critical value is  3.1622776601683795\n"
     ]
    }
   ],
   "source": [
    "# Just run the below code\n",
    "\n",
    "# answer \n",
    "sigma = 1 \n",
    "mean_pop = 5 \n",
    "mean_sample =6 \n",
    "sample_size = 10\n",
    "\n",
    "z_c = (mean_sample-mean_pop)* (np.sqrt(sample_size)/sigma)\n",
    "print(\"critical value is \", z_c )\n",
    " "
   ]
  },
  {
   "cell_type": "markdown",
   "metadata": {
    "hide_input": true
   },
   "source": [
    "### Solution code\n",
    "\n",
    "```python\n",
    "# Just run above code\n",
    "```"
   ]
  },
  {
   "cell_type": "markdown",
   "metadata": {},
   "source": [
    "The critical value is shown above. so what's next \n",
    "\n",
    "5) Compare the significance level and the critical value to decide whether accept or reject the null hypothesis \n",
    "\n",
    "In order to do this we actually need to get the z value for the significance level. So how do we do that? Well we go back to our normal probability distribution. All we need to do is figure out what is the z value for a given value of probability. This is done using the percent point function. Below we have provided an interactive interface where you can change the values of the significance level and print out the corresponding z value. "
   ]
  },
  {
   "cell_type": "code",
   "execution_count": 27,
   "metadata": {
    "ExecuteTime": {
     "end_time": "2018-12-16T03:08:17.921885Z",
     "start_time": "2018-12-16T03:08:17.365373Z"
    }
   },
   "outputs": [
    {
     "data": {
      "application/vnd.jupyter.widget-view+json": {
       "model_id": "40e45c8dba1b477887650b6bf4d69cde",
       "version_major": 2,
       "version_minor": 0
      },
      "text/plain": [
       "interactive(children=(FloatText(value=5.0, description='significance_level', step=0.001), Output()), _dom_clas…"
      ]
     },
     "metadata": {},
     "output_type": "display_data"
    }
   ],
   "source": [
    "# Just run the below code\n",
    "\n",
    "conf_int =0 \n",
    "xrange =np.linspace(-5,5,10000)\n",
    "pdf = norm(0,1).pdf(xrange)\n",
    "#answer\n",
    "tools_to_show= 'box_zoom,pan,save,hover,reset,tap,wheel_zoom'        \n",
    "\n",
    "\n",
    "\n",
    "def get_sig_lvl(significance_level): \n",
    "    \n",
    "    fig = pl.figure(x_range=[-5,5], \n",
    "                    plot_height=400,\n",
    "                    tools = tools_to_show,\n",
    "                    title=\"Enter significance level (in %) - Figure 1\",\n",
    "                    x_axis_label= \"z-values\",\n",
    "                    y_axis_label =\"Count\")\n",
    "    \n",
    "    fig.line(x=xrange, y= pdf, line_width = 4)\n",
    "\n",
    "    fig.xgrid.grid_line_color = None\n",
    "    fig.y_range.start = 0\n",
    "    \n",
    "    hover = fig.select(dict(type=HoverTool))\n",
    "    hover.tooltips = [(\"xvalue\", \"@x\"), (\"yvalue\", \"@y\")]\n",
    "   \n",
    "    # calculate the z value \n",
    "    z_value = norm.ppf((100-significance_level)/100)\n",
    "   \n",
    "    shade_x = np.arange(z_value,5.0,0.001)\n",
    "    shade_region=norm.pdf(shade_x)\n",
    "    \n",
    "    shade_region[0] = 0 \n",
    "    shade_region[-1] = 0\n",
    "    \n",
    "    fig.patch(shade_x, shade_region, color=\"red\", alpha =0.4)\n",
    "    \n",
    "    fig.text(x=-0.8, y=0.2, text=[\"Acceptance \\nregion\"], )\n",
    "    \n",
    "    reject_text_x = 2.15\n",
    "    reject_text_y = 0.15\n",
    "    fig.text(x =reject_text_x ,y = reject_text_y, text=[\"Rejection region\"])\n",
    "    arrow_y_end = shade_region[int(shade_region.size/2)]\n",
    "    arrow_x_end = shade_x[int(shade_x.size/5)]\n",
    "    \n",
    "    \n",
    "    fig.add_layout(Arrow(end=NormalHead(fill_color=\"black\"),\n",
    "                   x_start=reject_text_x+0.5,\n",
    "                   y_start=reject_text_y-0.001,\n",
    "                   x_end=arrow_x_end,\n",
    "                   y_end=arrow_y_end+0.01))\n",
    "\n",
    "    \n",
    "    show(fig)\n",
    "\n",
    "    print(\"z value for the given significance level: \",z_value)\n",
    "    return None \n",
    "\n",
    "\n",
    "\n",
    "\n",
    "interact(get_sig_lvl, \n",
    "                 significance_level = widgets.FloatText(value = 5, \n",
    "                                                        min =50,\n",
    "                                                        max = 99.9, \n",
    "                                                        step =0.001)\n",
    "                );\n"
   ]
  },
  {
   "cell_type": "markdown",
   "metadata": {
    "hide_input": true
   },
   "source": [
    "### Solution code\n",
    "\n",
    "```python\n",
    "# Just run above code\n",
    "```"
   ]
  },
  {
   "cell_type": "markdown",
   "metadata": {},
   "source": [
    "We call the red region in the above plot as the rejection region. This is because all the points in that region. All the z values in that region are above threshold that we have set for ourselves. If your calculated test statistic and the number that we get from equation (1) is in the rejection region, then we can say that hey! let's reject the null hypothesis. Else we have to accept the null hypothesis. So in our case - \n",
    "\n",
    "$z_c  =  3.16$<br> \n",
    "$z_\\alpha  =  1.65$<br>\n",
    "\n",
    "therefore <br>\n",
    "$z_{\\alpha} < z_c$\n",
    "\n",
    "where\n",
    "\n",
    "$z_{\\alpha}$ is the z value at the significance level given by $\\alpha =0.05$\n",
    "\n",
    "\n",
    "Hence we can reject the null hypothesis. What does it mean when it comes to the actual problem? This means the change in the amount of time the user spends on the website is \"statistically significant\". What this also means is that in some ways the new mean, i.e sample mean $\\bar x$ can be thought of as a new distribution and not something that falls within the current distribution. \n",
    "\n",
    "\n",
    "# One tailed tests \n",
    "\n",
    "What we saw above was an example of a one tailed test or , more specifically, a right tailed test. It is a right tailed test since we were looking at condition where the sample mean was greater than the population mean. In z-value distribution the rejection region will lie to the right of the mean. Suppose you find that the average time the user spends on the page is actually 4.5 mins rather than the population mean of 5. Would you then say it's statistically different from what you had before? \n",
    "\n",
    "\n",
    "Question : Given the new sample mean $\\bar x = 4.5$ min calculate the test statistic (equation (1)), assume a significance level of 5 % for this problem \n"
   ]
  },
  {
   "cell_type": "code",
   "execution_count": 28,
   "metadata": {
    "ExecuteTime": {
     "end_time": "2018-12-16T03:08:17.937844Z",
     "start_time": "2018-12-16T03:08:17.927871Z"
    }
   },
   "outputs": [
    {
     "name": "stdout",
     "output_type": "stream",
     "text": [
      "critical value is  -1.5811388300841898\n"
     ]
    }
   ],
   "source": [
    "# Just run the below code\n",
    "\n",
    "# answer \n",
    "sigma = 1 \n",
    "mean_pop = 5 \n",
    "mean_sample =4.5\n",
    "sample_size = 10\n",
    "\n",
    "z_c = (mean_sample-mean_pop)* (np.sqrt(sample_size)/sigma)\n",
    "print(\"critical value is \", z_c )\n",
    " "
   ]
  },
  {
   "cell_type": "markdown",
   "metadata": {
    "hide_input": true
   },
   "source": [
    "### Solution code\n",
    "\n",
    "```python\n",
    "# Just run above code\n",
    "```"
   ]
  },
  {
   "cell_type": "markdown",
   "metadata": {
    "ExecuteTime": {
     "end_time": "2018-12-14T18:37:51.903999Z",
     "start_time": "2018-12-14T18:37:51.898046Z"
    }
   },
   "source": [
    "What is this...our z value is negative, looking at figure 1. It makes sense, since a negative value means that it is to the left side of the mean. But to go to step 5 we need the $z_\\alpha$ value\n",
    "\n",
    "Question:  Calculate the $z_\\alpha$ value given $\\alpha = 5$% and using the value of $z_c$  from the last question, should we accept or reject the null hypothesis? "
   ]
  },
  {
   "cell_type": "code",
   "execution_count": 18,
   "metadata": {
    "ExecuteTime": {
     "end_time": "2018-12-16T03:08:17.961787Z",
     "start_time": "2018-12-16T03:08:17.941837Z"
    }
   },
   "outputs": [
    {
     "name": "stdout",
     "output_type": "stream",
     "text": [
      "z_alpha for 5 % significance level is:  -1.6448536269514729\n"
     ]
    }
   ],
   "source": [
    "# Just run the below code\n",
    "\n",
    "# answer \n",
    "alpha = 5\n",
    "z_alpha = norm.ppf(alpha/100)\n",
    "print(\"z_alpha for 5 % significance level is: \", z_alpha)"
   ]
  },
  {
   "cell_type": "markdown",
   "metadata": {
    "hide_input": true
   },
   "source": [
    "### Solution code\n",
    "\n",
    "```python\n",
    "# Just run above code\n",
    "```"
   ]
  },
  {
   "cell_type": "markdown",
   "metadata": {},
   "source": [
    "So we have- \n",
    "\n",
    "\n",
    "$z_c  =  -1.58$<br> \n",
    "$z_\\alpha  =  -1.65$<br>\n",
    "\n",
    "therefore <br>\n",
    "$z_{\\alpha} < z_c$\n",
    "\n",
    "In this case we need $z_{\\alpha} > z_c$ to reject the null hypothesis, hence we are accepting the null hypothesis.  Remember the larger the magnitude of the negative number the small a number it is so -100 is smaller than -50. \n",
    "\n",
    "Similar to how we built a visualization for a right tailed test. Here is one for a left tailed test. "
   ]
  },
  {
   "cell_type": "code",
   "execution_count": 19,
   "metadata": {
    "ExecuteTime": {
     "end_time": "2018-12-16T03:08:18.367692Z",
     "start_time": "2018-12-16T03:08:17.966764Z"
    }
   },
   "outputs": [
    {
     "data": {
      "application/vnd.jupyter.widget-view+json": {
       "model_id": "0cb8cae90f544856a89c13c945c3c08c",
       "version_major": 2,
       "version_minor": 0
      },
      "text/plain": [
       "interactive(children=(FloatText(value=5.0, description='significance_level', step=0.001), Output()), _dom_clas…"
      ]
     },
     "metadata": {},
     "output_type": "display_data"
    }
   ],
   "source": [
    "# Just run the below code\n",
    "\n",
    "conf_int =0 \n",
    "xrange =np.linspace(-5,5,10000)\n",
    "pdf = norm(0,1).pdf(xrange)\n",
    "#answer\n",
    "tools_to_show= 'box_zoom,pan,save,hover,reset,tap,wheel_zoom'        \n",
    "\n",
    "\n",
    "\n",
    "def get_sig_lvl(significance_level): \n",
    "    \n",
    "    fig = pl.figure(x_range=[-5,5], \n",
    "                    plot_height=400,\n",
    "                    tools = tools_to_show,\n",
    "                    title=\"Enter significance level (in %) - Figure 2\",\n",
    "                    x_axis_label= \"z-values\",\n",
    "                    y_axis_label =\"Count\")\n",
    "    \n",
    "    fig.line(x=xrange, y= pdf, line_width = 4)\n",
    "\n",
    "    fig.xgrid.grid_line_color = None\n",
    "    fig.y_range.start = 0\n",
    "    \n",
    "    hover = fig.select(dict(type=HoverTool))\n",
    "    hover.tooltips = [(\"xvalue\", \"@x\"), (\"yvalue\", \"@y\")]\n",
    "   \n",
    "    # calculate the z value \n",
    "    z_value = norm.ppf((significance_level)/100)\n",
    "   \n",
    "    shade_x = np.arange(-5.0,z_value, 0.001)\n",
    "    shade_region=norm.pdf(shade_x)\n",
    "    \n",
    "    shade_region[0] = 0 \n",
    "    shade_region[-1] = 0\n",
    "    \n",
    "    fig.patch(shade_x, shade_region, color=\"red\", alpha =0.4)\n",
    "    \n",
    "    fig.text(x=-0.8, y=0.2, text=[\"Acceptance \\nregion\"], )\n",
    "    \n",
    "    reject_text_x = -4.15\n",
    "    reject_text_y = 0.15\n",
    "    \n",
    "    fig.text(x =reject_text_x ,y = reject_text_y, text=[\"Rejection region\"])\n",
    "    \n",
    "    arrow_y_end = shade_region[int(shade_region.size/2)]\n",
    "    arrow_x_end = shade_x[int(shade_x.size*0.8)]\n",
    "    \n",
    "    \n",
    "    fig.add_layout(Arrow(end=NormalHead(fill_color=\"black\"),\n",
    "                   x_start=reject_text_x+0.5,\n",
    "                   y_start=reject_text_y-0.001,\n",
    "                   x_end=arrow_x_end,\n",
    "                   y_end=arrow_y_end+0.01))\n",
    "\n",
    "    \n",
    "    show(fig)\n",
    "\n",
    "    print(\"z value for the given significance level: \",z_value)\n",
    "    return None \n",
    "\n",
    "\n",
    "\n",
    "\n",
    "interact(get_sig_lvl, \n",
    "                 significance_level = widgets.FloatText(value = 5, \n",
    "                                                        min =50,\n",
    "                                                        max = 99.9, \n",
    "                                                        step =0.001)\n",
    "                );\n",
    "\n"
   ]
  },
  {
   "cell_type": "markdown",
   "metadata": {
    "hide_input": true
   },
   "source": [
    "### Solution code\n",
    "\n",
    "```python\n",
    "# Just run above code\n",
    "```"
   ]
  },
  {
   "cell_type": "markdown",
   "metadata": {},
   "source": [
    "So now we have a calculator for a right tailed test as well. So we have seen simple examples of both right tailed and left tailed distributions. What about a two tailed test? That is next. \n",
    "\n",
    "# Two tailed test\n",
    "\n",
    "To look at the two tailed test, let's redefine the problem your boss gave you. Suppose your boss said hey! as long as variation in count is not more than 3%, it's alright. So from this we can get that standard deviation will essentially be 1.5 mins. So given this information we can calculate the value of $z_c$ "
   ]
  },
  {
   "cell_type": "code",
   "execution_count": 20,
   "metadata": {
    "ExecuteTime": {
     "end_time": "2018-12-16T03:08:18.380658Z",
     "start_time": "2018-12-16T03:08:18.369687Z"
    }
   },
   "outputs": [
    {
     "name": "stdout",
     "output_type": "stream",
     "text": [
      "critical value is  -1.0540925533894598\n"
     ]
    }
   ],
   "source": [
    "# Just run the below code\n",
    "\n",
    "# answer \n",
    "sigma =1.5\n",
    "mean_pop = 5 \n",
    "mean_sample =4.5\n",
    "sample_size = 10\n",
    "\n",
    "z_c = (mean_sample-mean_pop)* (np.sqrt(sample_size)/sigma)\n",
    "print(\"critical value is \", z_c )\n",
    " "
   ]
  },
  {
   "cell_type": "markdown",
   "metadata": {
    "hide_input": true
   },
   "source": [
    "### Solution code\n",
    "\n",
    "```python\n",
    "# Just run above code\n",
    "```"
   ]
  },
  {
   "cell_type": "markdown",
   "metadata": {},
   "source": [
    "Our critical value is slightly different from the last time since our standard deviation changed. Now our significance level will remain the same BUT the significance level is 5% across both tails so we are going to have to divide it hence- \n",
    "\n",
    "$\\begin{align} \\alpha =0.05 \\end{align}$ <br>\n",
    "\n",
    "$\\begin{align} \\alpha_{tt} = \\alpha /2  = 0.025 \\end{align}$\n",
    "\n",
    "where $\\alpha_{tt}$ is the two tailed value of alpha. So we will infact have two values for $z_\\alpha$ since we are considering the two tailed test. Below is the calculation.\n"
   ]
  },
  {
   "cell_type": "code",
   "execution_count": 21,
   "metadata": {
    "ExecuteTime": {
     "end_time": "2018-12-16T03:08:18.410579Z",
     "start_time": "2018-12-16T03:08:18.396615Z"
    }
   },
   "outputs": [
    {
     "name": "stdout",
     "output_type": "stream",
     "text": [
      "z_alpha for 5 % significance level is:-1.9599639845400545 and 1.9599639845400545 \n"
     ]
    }
   ],
   "source": [
    "# Just run the below code\n",
    "\n",
    "alpha_tt = 2.5\n",
    "z_alpha = norm.ppf(alpha_tt/100)\n",
    "print(\"z_alpha for 5 % significance level is:{} and {} \" .format(z_alpha, -z_alpha))\n"
   ]
  },
  {
   "cell_type": "markdown",
   "metadata": {
    "hide_input": true
   },
   "source": [
    "### Solution code\n",
    "\n",
    "```python\n",
    "# Just run above code\n",
    "```"
   ]
  },
  {
   "cell_type": "markdown",
   "metadata": {},
   "source": [
    "What we did here was calculate the z value for a significance level of 2.5 and since are considering both ends of the distribution. Remember we can do this ONLY because the normal distribution is symmetric. If we had a non-symmetric\n",
    "distribution then we CANNOT do this. This is very important because if we naively apply a hypothesis test to a problem where the sample mean is not approximated by a normal distribution then you are in trouble. \n",
    "\n",
    "So now that we have these value we can go to step 5) and compare the values of $z_c$ and $z_{\\alpha_{tt}}$  \n",
    "\n",
    "So we have- \n",
    "\n",
    "\n",
    "$z_c  =  -1.05$<br> \n",
    "$z_\\alpha  =  \\pm 1.96$<br>\n",
    "\n",
    "therefore <br>\n",
    "neither $z_{\\alpha_{tt}} < z_c$ nor $z_{\\alpha_{tt}} > z_c$ \n",
    "\n",
    "So we cannot reject the null hypothesis.\n",
    "\n",
    "\n",
    "So let's now visualize a two tailed test figure.\n",
    "\n"
   ]
  },
  {
   "cell_type": "code",
   "execution_count": 22,
   "metadata": {
    "ExecuteTime": {
     "end_time": "2018-12-16T03:08:18.716760Z",
     "start_time": "2018-12-16T03:08:18.412572Z"
    }
   },
   "outputs": [
    {
     "data": {
      "application/vnd.jupyter.widget-view+json": {
       "model_id": "40d1f009d7d6436faec61563660fb19a",
       "version_major": 2,
       "version_minor": 0
      },
      "text/plain": [
       "interactive(children=(FloatText(value=5.0, description='significance_level', step=0.001), Output()), _dom_clas…"
      ]
     },
     "metadata": {},
     "output_type": "display_data"
    }
   ],
   "source": [
    "# Just run the below code\n",
    "\n",
    "conf_int =0 \n",
    "xrange =np.linspace(-5,5,10000)\n",
    "pdf = norm(0,1).pdf(xrange)\n",
    "#answer\n",
    "tools_to_show= 'box_zoom,pan,save,hover,reset,tap,wheel_zoom'        \n",
    "\n",
    "\n",
    "def shade_reject_region(z_min,z_max ): \n",
    "    shade_x  = np.arange(z_min,z_max,0.001)\n",
    "    shade_region  =norm.pdf(shade_x)\n",
    "    \n",
    "    shade_region[0] = 0 \n",
    "    shade_region[-1] = 0\n",
    "   \n",
    "    return shade_x, shade_region\n",
    "\n",
    "def get_sig_lvl(significance_level): \n",
    "    \n",
    "    fig = pl.figure(x_range=[-5,5], \n",
    "                    plot_height=400,\n",
    "                    tools = tools_to_show,\n",
    "                    title=\"Enter significance level (in %) - Figure 3\",\n",
    "                    x_axis_label= \"z-values\",\n",
    "                    y_axis_label =\"Count\")\n",
    "    \n",
    "    fig.line(x=xrange, y= pdf, line_width = 4)\n",
    "\n",
    "    fig.xgrid.grid_line_color = None\n",
    "    fig.y_range.start = 0\n",
    "    \n",
    "    hover = fig.select(dict(type=HoverTool))\n",
    "    hover.tooltips = [(\"xvalue\", \"@x\"), (\"yvalue\", \"@y\")]\n",
    "   \n",
    "    # calculate right \n",
    "    z_value = norm.ppf((100-significance_level/2)/100)\n",
    "    right_shade, right_region= shade_reject_region(z_value,5)\n",
    "    fig.patch(right_shade, right_region, color=\"red\", alpha =0.4)\n",
    "    \n",
    "    # calculate right \n",
    "    z_value = norm.ppf((significance_level/2)/100)\n",
    "    left_shade, left_region= shade_reject_region(-5,z_value)\n",
    "    fig.patch(left_shade, left_region, color=\"red\", alpha =0.4)\n",
    "    \n",
    "    fig.text(x=-0.8, y=0.2, text=[\"Acceptance \\nregion\"], )\n",
    "    \n",
    "    # right reject region title\n",
    "    \n",
    "    reject_text_x = 2.15\n",
    "    reject_text_y = 0.15\n",
    "    fig.text(x =reject_text_x ,y = reject_text_y, text=[\"Rejection region\"])\n",
    "    arrow_y_end = right_region[int(right_region.size/2)]\n",
    "    arrow_x_end = right_shade[int(right_shade.size/5)]\n",
    "    \n",
    "    \n",
    "    fig.add_layout(Arrow(end=NormalHead(fill_color=\"black\"),\n",
    "                   x_start=reject_text_x+0.5,\n",
    "                   y_start=reject_text_y-0.001,\n",
    "                   x_end=arrow_x_end,\n",
    "                   y_end=arrow_y_end+0.01))\n",
    "\n",
    "    # left reject region title \n",
    "    \n",
    "    reject_text_x = -4.15\n",
    "    reject_text_y = 0.15\n",
    "    fig.text(x =reject_text_x ,y = reject_text_y, text=[\"Rejection region\"])\n",
    "    arrow_y_end = left_region[int(left_region.size/2)]\n",
    "    arrow_x_end = left_shade[int(right_shade.size*0.8)]\n",
    "    \n",
    "    \n",
    "    fig.add_layout(Arrow(end=NormalHead(fill_color=\"black\"),\n",
    "                   x_start=reject_text_x+0.5,\n",
    "                   y_start=reject_text_y-0.001,\n",
    "                   x_end=arrow_x_end,\n",
    "                   y_end=arrow_y_end+0.01))\n",
    "\n",
    "    \n",
    "    show(fig)\n",
    "\n",
    "    print(\"z value for the given significance level: {} and {}\".format(z_value,-z_value))\n",
    "    return None \n",
    "\n",
    "\n",
    "\n",
    "\n",
    "interact(get_sig_lvl, \n",
    "                 significance_level = widgets.FloatText(value = 5, \n",
    "                                                        min =50,\n",
    "                                                        max = 99.9, \n",
    "                                                        step =0.001)\n",
    "                );\n"
   ]
  },
  {
   "cell_type": "markdown",
   "metadata": {
    "hide_input": true
   },
   "source": [
    "### Solution code\n",
    "\n",
    "```python\n",
    "# Just run above code\n",
    "```"
   ]
  },
  {
   "cell_type": "markdown",
   "metadata": {},
   "source": [
    "So that cover all types of hypothesis tests that you can do. Sounds great but there are couple of more topics that we need to cover in order get a better understanding, one import topic is to undestand the kind of errors that can happen while we do hypothesis testing. \n",
    "\n",
    "\n",
    "# Types of Errors \n",
    "\n",
    "When working with hypothesis testing there are two types of error that you need to be careful about, both are, uninterestingly labeled as - Type I error and Type II error. They are \n",
    "\n",
    "* Type I error - Rejecting the null hypothesis when it should be accepted\n",
    "* Type II error -  Accepting null hypothesis when it should be rejected \n",
    "\n",
    "Depending on the situation one type of error will be worse then another type. For instance, in the above example, suppose we made a Type I error and said that the average time after changing the page color went up when in reality it stayed the same, then it's okay. But suppose in second case where the average time spent viewing the page was less than population, we might actually lose revenue by making a Type II error since we assume that the null hypothesis can be accepted but the truth is that we need to actually reject it and accept the alternate hypothesis. This is especially true in the field of medicine where accepting the wrong hypothesis can be fatal to a patient! Either way in all cases. Be careful about making these errors. \n",
    "\n",
    "So how can we get around these types of errors? Collect more data! The larger your sample size is the smaller its standard deviation will be. Remember from equation(1) the standard error is proportional to the inverse of the square root of the sample size. So the larger that sample size is the smaller standard error is! So use this to your advantage. \n",
    "\n",
    "\n",
    "# P-values\n",
    "\n",
    "There is one more super important topic we need to cover before we close this section. That is the topic of p-value. So whenever you read about hypothesis testing you will very often come across this term. In fact, in many softwares and statistical packages you will find that apart from giving you $z_c$ values, it will output p-values as well. Sometime studies or academic papers will just report p-values rather any other information \n",
    "\n",
    "The technical definition of p-value is-  \" the probability for a given statistical model that, when the null hypothesis is true, the statistical summary (such as the sample mean difference between two compared groups) would be greater than or equal to the actual observed results.\" This is from wikipedia and honestly the first time I read it, it just did not make any sense. So we are going to go slowly and understand what it is. \n",
    "\n",
    "For this purpose we are going back to the left tailed condition- \n",
    "\n",
    "$\\begin{align*} & \\text{So we have-} \\end{align*}$\n",
    "<br>\n",
    "<br>\n",
    "$\\begin{align*} n = 10  \\\\ \\mu_p = 5 \\\\ \\bar x = 4 \\\\ \\bar \\sigma = 1 \\\\ \\alpha = 5\\% \\end{align*}$\n",
    "<br>\n",
    "<br>\n",
    "\n",
    "$\\begin{align*} \\text{From which we acquired-} \\end{align*}$\n",
    "<br>\n",
    "<br>\n",
    "\n",
    "$\\begin{align*} z_c  =  -1.58  \\\\ z_\\alpha  =  -1.65 \\end{align*}$\n",
    "\n",
    "\n",
    "$\\begin{align*} \\text{and we got the conclusion} \\end{align*}$\n",
    "<br>\n",
    "$z_{\\alpha} < z_c$\n",
    "<br>\n",
    "$\\begin{align*}\\text{In this case we had accepted null hypothesis since this was a left tailed distribution.} \\end{align*}$\n",
    "\n",
    "\n",
    "\n",
    "There is another way to go about it. See we used the significance level which is a probability to calculate the $z_\\alpha$, we can do the reverse with $z_c$. So let's use the cdf again for this purpose. \n",
    "\n",
    "Question: calculate the probability associated with the $z_c$ and compare it to the significance level. What can you tell about accepting rejecting the null hypothesis from this comparison? \n"
   ]
  },
  {
   "cell_type": "code",
   "execution_count": 23,
   "metadata": {
    "ExecuteTime": {
     "end_time": "2018-12-16T03:08:18.736706Z",
     "start_time": "2018-12-16T03:08:18.723743Z"
    }
   },
   "outputs": [
    {
     "name": "stdout",
     "output_type": "stream",
     "text": [
      "probability asscociated with critical z value is:  0.06\n"
     ]
    }
   ],
   "source": [
    "# Just run the below code\n",
    "\n",
    "#answer \n",
    "z_c= -1.58 \n",
    "probability_c = norm.cdf(z_c)\n",
    "print(\"probability asscociated with critical z value is: \", round(probability_c,2))\n"
   ]
  },
  {
   "cell_type": "markdown",
   "metadata": {
    "hide_input": true
   },
   "source": [
    "### Solution code\n",
    "\n",
    "```python\n",
    "# Just run above code\n",
    "```"
   ]
  },
  {
   "cell_type": "markdown",
   "metadata": {},
   "source": [
    "So if we compare the probability for $z_c$ with that of the significance level then we will find that probability $> \\alpha$.  Under this condition is when we accepted the null hypothesis. \n",
    "\n",
    "Now let us do the same for the right tailed test here we had -\n",
    "\n",
    "$z_c  =  3.16$<br> \n",
    "$z_\\alpha  =  1.65$<br>\n",
    "\n",
    "Question: Again calculate the probability associated with the $z_c$ and compare it to the significance level. What can you tell about accepting rejecting the null hypothesis from this comparison? Compare this to the case when we had a left tailed test \n"
   ]
  },
  {
   "cell_type": "code",
   "execution_count": 24,
   "metadata": {
    "ExecuteTime": {
     "end_time": "2018-12-16T18:54:32.668004Z",
     "start_time": "2018-12-16T18:54:32.623124Z"
    }
   },
   "outputs": [
    {
     "name": "stdout",
     "output_type": "stream",
     "text": [
      "probability asscociated with critical z value is:  0.0007888456943755395\n"
     ]
    }
   ],
   "source": [
    "# Just run the below code\n",
    "\n",
    "#answer \n",
    "z_c= 3.16\n",
    "probability_c = 1-norm.cdf(z_c)\n",
    "print(\"probability asscociated with critical z value is: \",probability_c)\n"
   ]
  },
  {
   "cell_type": "markdown",
   "metadata": {
    "hide_input": true
   },
   "source": [
    "### Solution code\n",
    "\n",
    "```python\n",
    "# Just run above code\n",
    "```"
   ]
  },
  {
   "cell_type": "markdown",
   "metadata": {},
   "source": [
    "You see what we did there, we did not directly take the value of $z_c$ that we did $1-$probability since we want the probability value from the right side. We calculated the probability value and found it to be $0.0008$ now $0.0008 < \\alpha$ and under this condition we accepted the significance level. So this probability value that we are calculating from the $z_c$ is question useful since we can just ask if it is great or lesser than the significance level. It saves us from writing down a $z_\\alpha$ value and let us directly deal with probabilities. This probability value is called p-value. So we can generalize the message and say-  \n",
    "\n",
    "* $\\alpha \\gt  \\text {p-value} \\qquad  \\text {then reject the null hypothesis}$\n",
    "<br>\n",
    "* $\\alpha \\lt  \\text {p-value}  \\qquad \\text {then accept the null hypothesis}$\n",
    "\n",
    "The above general rule applies to the probability calculated from a two tailed test as well. The difference comes in how we calculate the p-value. The p-value for a two tail test is double that for a single tail test of the same $z_c$ value since you can find a sample on the other extreme of  of the the distribution. So now that we can presented the definition of p value, let's visualize it- \n"
   ]
  },
  {
   "cell_type": "code",
   "execution_count": 25,
   "metadata": {
    "ExecuteTime": {
     "end_time": "2018-12-16T19:31:32.696708Z",
     "start_time": "2018-12-16T19:31:31.355472Z"
    },
    "scrolled": true
   },
   "outputs": [
    {
     "data": {
      "application/vnd.jupyter.widget-view+json": {
       "model_id": "67fa61a29c284d23b507366c11c5d815",
       "version_major": 2,
       "version_minor": 0
      },
      "text/plain": [
       "interactive(children=(FloatText(value=5.0, description='significance_level', step=0.001), FloatText(value=-2.0…"
      ]
     },
     "metadata": {},
     "output_type": "display_data"
    }
   ],
   "source": [
    "# Just run the below code\n",
    "\n",
    "conf_int =0 \n",
    "xrange =np.linspace(-5,5,10000)\n",
    "pdf = norm(0,1).pdf(xrange)\n",
    "#answer\n",
    "tools_to_show= 'box_zoom,pan,save,hover,reset,tap,wheel_zoom'        \n",
    "\n",
    "\n",
    "def shade_reject_region(z_min,z_max ): \n",
    "    shade_x  = np.arange(z_min,z_max,0.001)\n",
    "    shade_region  =norm.pdf(shade_x)\n",
    "    \n",
    "    shade_region[0] = 0 \n",
    "    shade_region[-1] = 0\n",
    "   \n",
    "    return shade_x, shade_region\n",
    "\n",
    "def get_sig_lvl(significance_level, z_c): \n",
    "    \n",
    "    fig = pl.figure(x_range=[-5,5], \n",
    "                    plot_height=400,\n",
    "                    tools = tools_to_show,\n",
    "                    title=\"Enter significance level (in %) - Figure 3\",\n",
    "                    x_axis_label= \"z-values\",\n",
    "                    y_axis_label =\"Count\")\n",
    "    \n",
    "    fig.line(x=xrange, y= pdf, line_width = 4)\n",
    "\n",
    "    fig.xgrid.grid_line_color = None\n",
    "    fig.y_range.start = 0\n",
    "    \n",
    "    hover = fig.select(dict(type=HoverTool))\n",
    "    hover.tooltips = [(\"xvalue\", \"@x\"), (\"yvalue\", \"@y\")]\n",
    "   \n",
    "    # calculate right \n",
    "    z_value = norm.ppf((significance_level)/100)\n",
    "    right_shade, right_region= shade_reject_region(-5, z_value)\n",
    "    fig.patch(right_shade, right_region, color=\"red\", alpha =0.4)\n",
    "    \n",
    "    # calculate pvalue \n",
    "    p_value = norm.cdf(z_c)\n",
    "    left_shade, left_region= shade_reject_region(-5, z_c,)\n",
    "    fig.patch(left_shade, left_region, color=\"blue\", alpha =0.4)\n",
    "    \n",
    "    fig.text(x=-0.8, y=0.2, text=[\"Acceptance \\nregion\"], )\n",
    "    \n",
    "#     # right reject region title\n",
    "    \n",
    "    reject_text_x = -4.15\n",
    "    reject_text_y = 0.15\n",
    "    fig.text(x =reject_text_x ,y = reject_text_y, text=[\"Significance level \"])\n",
    "    arrow_y_end = right_region[int(right_region.size/2)]+0.05\n",
    "    arrow_x_end = right_shade[int(right_shade.size*0.99)]\n",
    "    \n",
    "    \n",
    "    fig.add_layout(Arrow(end=NormalHead(fill_color=\"black\"),\n",
    "                   x_start=reject_text_x+1.75,\n",
    "                   y_start=reject_text_y-0.001,\n",
    "                   x_end=arrow_x_end,\n",
    "                   y_end=arrow_y_end+0.01))\n",
    "\n",
    "    # left reject region title \n",
    "    \n",
    "    reject_text_x = -4.15\n",
    "    reject_text_y = 0.1\n",
    "    fig.text(x =reject_text_x ,y = reject_text_y, text=[\"Area = P-value\"])\n",
    "    arrow_y_end = left_region[int(left_region.size/2)]\n",
    "    arrow_x_end = left_shade[int(left_shade.size*0.8)]\n",
    "    \n",
    "    \n",
    "    fig.add_layout(Arrow(end=NormalHead(fill_color=\"black\"),\n",
    "                   x_start=reject_text_x+0.5,\n",
    "                   y_start=reject_text_y-0.001,\n",
    "                   x_end=arrow_x_end,\n",
    "                   y_end=arrow_y_end+0.01))\n",
    "\n",
    "    \n",
    "    show(fig)\n",
    "\n",
    "    print(\"z value for the given significance level: {} \".format(z_value))\n",
    "    print(\"p value  :  {}\".format(p_value))\n",
    "    return None \n",
    "\n",
    "\n",
    "\n",
    "\n",
    "interact(get_sig_lvl, \n",
    "                 significance_level = widgets.FloatText(value = 5, \n",
    "                                                        min =50,\n",
    "                                                        max = 99.9, \n",
    "                                                        step =0.001), \n",
    "                   z_c = widgets.FloatText(value = -2, \n",
    "                                                        min =-5,\n",
    "                                                        max = 0, \n",
    "                                                        step =0.001)\n",
    "                );\n"
   ]
  },
  {
   "cell_type": "markdown",
   "metadata": {
    "hide_input": true
   },
   "source": [
    "### Solution code\n",
    "\n",
    "```python\n",
    "# Just run above code\n",
    "```"
   ]
  },
  {
   "cell_type": "markdown",
   "metadata": {},
   "source": [
    "In the above illustration, area in the blue region is known as the p value.\n",
    "\n",
    "So with this we close this notebook. In this notebook book we have looked at a basic overview of hypothesis testing. Next part we will look at another type of hypothesis testing called the chi square test. \n",
    "\n"
   ]
  },
  {
   "cell_type": "code",
   "execution_count": 26,
   "metadata": {},
   "outputs": [],
   "source": [
    "# No exercise"
   ]
  },
  {
   "cell_type": "markdown",
   "metadata": {
    "ExecuteTime": {
     "end_time": "2018-12-14T15:53:40.520883Z",
     "start_time": "2018-12-14T15:53:40.517886Z"
    },
    "hide_input": true
   },
   "source": [
    "### Solution code\n",
    "\n",
    "```python\n",
    "# Just run above code\n",
    "```"
   ]
  }
 ],
 "metadata": {
  "celltoolbar": "Edit Metadata",
  "kernelspec": {
   "display_name": "Python 3",
   "language": "python",
   "name": "python3"
  },
  "language_info": {
   "codemirror_mode": {
    "name": "ipython",
    "version": 3
   },
   "file_extension": ".py",
   "mimetype": "text/x-python",
   "name": "python",
   "nbconvert_exporter": "python",
   "pygments_lexer": "ipython3",
   "version": "3.7.3"
  },
  "latex_envs": {
   "LaTeX_envs_menu_present": true,
   "autoclose": true,
   "autocomplete": true,
   "bibliofile": "biblio.bib",
   "cite_by": "apalike",
   "current_citInitial": 1,
   "eqLabelWithNumbers": true,
   "eqNumInitial": 1,
   "hotkeys": {
    "equation": "Ctrl-E",
    "itemize": "Ctrl-I"
   },
   "labels_anchors": false,
   "latex_user_defs": false,
   "report_style_numbering": true,
   "user_envs_cfg": false
  },
  "toc": {
   "base_numbering": 1,
   "nav_menu": {},
   "number_sections": true,
   "sideBar": true,
   "skip_h1_title": false,
   "title_cell": "Table of Contents",
   "title_sidebar": "Contents",
   "toc_cell": false,
   "toc_position": {},
   "toc_section_display": true,
   "toc_window_display": false
  },
  "varInspector": {
   "cols": {
    "lenName": 16,
    "lenType": 16,
    "lenVar": 40
   },
   "kernels_config": {
    "python": {
     "delete_cmd_postfix": "",
     "delete_cmd_prefix": "del ",
     "library": "var_list.py",
     "varRefreshCmd": "print(var_dic_list())"
    },
    "r": {
     "delete_cmd_postfix": ") ",
     "delete_cmd_prefix": "rm(",
     "library": "var_list.r",
     "varRefreshCmd": "cat(var_dic_list()) "
    }
   },
   "types_to_exclude": [
    "module",
    "function",
    "builtin_function_or_method",
    "instance",
    "_Feature"
   ],
   "window_display": false
  }
 },
 "nbformat": 4,
 "nbformat_minor": 2
}
