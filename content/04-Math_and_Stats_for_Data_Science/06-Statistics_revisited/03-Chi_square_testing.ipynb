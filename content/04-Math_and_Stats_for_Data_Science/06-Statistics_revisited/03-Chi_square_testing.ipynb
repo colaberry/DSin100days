{
 "cells": [
  {
   "cell_type": "markdown",
   "metadata": {},
   "source": [
    "#### Run the below code to import all libraries required to run sample code within this notebook"
   ]
  },
  {
   "cell_type": "code",
   "execution_count": 2,
   "metadata": {
    "ExecuteTime": {
     "end_time": "2019-01-05T20:51:06.948793Z",
     "start_time": "2019-01-05T20:51:01.831427Z"
    }
   },
   "outputs": [
    {
     "data": {
      "text/html": [
       "<script>requirejs.config({paths: { 'plotly': ['https://cdn.plot.ly/plotly-latest.min']},});if(!window.Plotly) {{require(['plotly'],function(plotly) {window.Plotly=plotly;});}}</script>"
      ],
      "text/vnd.plotly.v1+html": [
       "<script>requirejs.config({paths: { 'plotly': ['https://cdn.plot.ly/plotly-latest.min']},});if(!window.Plotly) {{require(['plotly'],function(plotly) {window.Plotly=plotly;});}}</script>"
      ]
     },
     "metadata": {},
     "output_type": "display_data"
    },
    {
     "data": {
      "text/html": [
       "\n",
       "    <div class=\"bk-root\">\n",
       "        <a href=\"https://bokeh.pydata.org\" target=\"_blank\" class=\"bk-logo bk-logo-small bk-logo-notebook\"></a>\n",
       "        <span id=\"56d1780b-ceb1-42cf-926e-6b12776c2bad\">Loading BokehJS ...</span>\n",
       "    </div>"
      ]
     },
     "metadata": {},
     "output_type": "display_data"
    },
    {
     "data": {
      "application/javascript": [
       "\n",
       "(function(root) {\n",
       "  function now() {\n",
       "    return new Date();\n",
       "  }\n",
       "\n",
       "  var force = true;\n",
       "\n",
       "  if (typeof (root._bokeh_onload_callbacks) === \"undefined\" || force === true) {\n",
       "    root._bokeh_onload_callbacks = [];\n",
       "    root._bokeh_is_loading = undefined;\n",
       "  }\n",
       "\n",
       "  var JS_MIME_TYPE = 'application/javascript';\n",
       "  var HTML_MIME_TYPE = 'text/html';\n",
       "  var EXEC_MIME_TYPE = 'application/vnd.bokehjs_exec.v0+json';\n",
       "  var CLASS_NAME = 'output_bokeh rendered_html';\n",
       "\n",
       "  /**\n",
       "   * Render data to the DOM node\n",
       "   */\n",
       "  function render(props, node) {\n",
       "    var script = document.createElement(\"script\");\n",
       "    node.appendChild(script);\n",
       "  }\n",
       "\n",
       "  /**\n",
       "   * Handle when an output is cleared or removed\n",
       "   */\n",
       "  function handleClearOutput(event, handle) {\n",
       "    var cell = handle.cell;\n",
       "\n",
       "    var id = cell.output_area._bokeh_element_id;\n",
       "    var server_id = cell.output_area._bokeh_server_id;\n",
       "    // Clean up Bokeh references\n",
       "    if (id !== undefined) {\n",
       "      Bokeh.index[id].model.document.clear();\n",
       "      delete Bokeh.index[id];\n",
       "    }\n",
       "\n",
       "    if (server_id !== undefined) {\n",
       "      // Clean up Bokeh references\n",
       "      var cmd = \"from bokeh.io.state import curstate; print(curstate().uuid_to_server['\" + server_id + \"'].get_sessions()[0].document.roots[0]._id)\";\n",
       "      cell.notebook.kernel.execute(cmd, {\n",
       "        iopub: {\n",
       "          output: function(msg) {\n",
       "            var element_id = msg.content.text.trim();\n",
       "            Bokeh.index[element_id].model.document.clear();\n",
       "            delete Bokeh.index[element_id];\n",
       "          }\n",
       "        }\n",
       "      });\n",
       "      // Destroy server and session\n",
       "      var cmd = \"import bokeh.io.notebook as ion; ion.destroy_server('\" + server_id + \"')\";\n",
       "      cell.notebook.kernel.execute(cmd);\n",
       "    }\n",
       "  }\n",
       "\n",
       "  /**\n",
       "   * Handle when a new output is added\n",
       "   */\n",
       "  function handleAddOutput(event, handle) {\n",
       "    var output_area = handle.output_area;\n",
       "    var output = handle.output;\n",
       "\n",
       "    // limit handleAddOutput to display_data with EXEC_MIME_TYPE content only\n",
       "    if ((output.output_type != \"display_data\") || (!output.data.hasOwnProperty(EXEC_MIME_TYPE))) {\n",
       "      return\n",
       "    }\n",
       "\n",
       "    var toinsert = output_area.element.find(\".\" + CLASS_NAME.split(' ')[0]);\n",
       "\n",
       "    if (output.metadata[EXEC_MIME_TYPE][\"id\"] !== undefined) {\n",
       "      toinsert[toinsert.length - 1].firstChild.textContent = output.data[JS_MIME_TYPE];\n",
       "      // store reference to embed id on output_area\n",
       "      output_area._bokeh_element_id = output.metadata[EXEC_MIME_TYPE][\"id\"];\n",
       "    }\n",
       "    if (output.metadata[EXEC_MIME_TYPE][\"server_id\"] !== undefined) {\n",
       "      var bk_div = document.createElement(\"div\");\n",
       "      bk_div.innerHTML = output.data[HTML_MIME_TYPE];\n",
       "      var script_attrs = bk_div.children[0].attributes;\n",
       "      for (var i = 0; i < script_attrs.length; i++) {\n",
       "        toinsert[toinsert.length - 1].firstChild.setAttribute(script_attrs[i].name, script_attrs[i].value);\n",
       "      }\n",
       "      // store reference to server id on output_area\n",
       "      output_area._bokeh_server_id = output.metadata[EXEC_MIME_TYPE][\"server_id\"];\n",
       "    }\n",
       "  }\n",
       "\n",
       "  function register_renderer(events, OutputArea) {\n",
       "\n",
       "    function append_mime(data, metadata, element) {\n",
       "      // create a DOM node to render to\n",
       "      var toinsert = this.create_output_subarea(\n",
       "        metadata,\n",
       "        CLASS_NAME,\n",
       "        EXEC_MIME_TYPE\n",
       "      );\n",
       "      this.keyboard_manager.register_events(toinsert);\n",
       "      // Render to node\n",
       "      var props = {data: data, metadata: metadata[EXEC_MIME_TYPE]};\n",
       "      render(props, toinsert[toinsert.length - 1]);\n",
       "      element.append(toinsert);\n",
       "      return toinsert\n",
       "    }\n",
       "\n",
       "    /* Handle when an output is cleared or removed */\n",
       "    events.on('clear_output.CodeCell', handleClearOutput);\n",
       "    events.on('delete.Cell', handleClearOutput);\n",
       "\n",
       "    /* Handle when a new output is added */\n",
       "    events.on('output_added.OutputArea', handleAddOutput);\n",
       "\n",
       "    /**\n",
       "     * Register the mime type and append_mime function with output_area\n",
       "     */\n",
       "    OutputArea.prototype.register_mime_type(EXEC_MIME_TYPE, append_mime, {\n",
       "      /* Is output safe? */\n",
       "      safe: true,\n",
       "      /* Index of renderer in `output_area.display_order` */\n",
       "      index: 0\n",
       "    });\n",
       "  }\n",
       "\n",
       "  // register the mime type if in Jupyter Notebook environment and previously unregistered\n",
       "  if (root.Jupyter !== undefined) {\n",
       "    var events = require('base/js/events');\n",
       "    var OutputArea = require('notebook/js/outputarea').OutputArea;\n",
       "\n",
       "    if (OutputArea.prototype.mime_types().indexOf(EXEC_MIME_TYPE) == -1) {\n",
       "      register_renderer(events, OutputArea);\n",
       "    }\n",
       "  }\n",
       "\n",
       "  \n",
       "  if (typeof (root._bokeh_timeout) === \"undefined\" || force === true) {\n",
       "    root._bokeh_timeout = Date.now() + 5000;\n",
       "    root._bokeh_failed_load = false;\n",
       "  }\n",
       "\n",
       "  var NB_LOAD_WARNING = {'data': {'text/html':\n",
       "     \"<div style='background-color: #fdd'>\\n\"+\n",
       "     \"<p>\\n\"+\n",
       "     \"BokehJS does not appear to have successfully loaded. If loading BokehJS from CDN, this \\n\"+\n",
       "     \"may be due to a slow or bad network connection. Possible fixes:\\n\"+\n",
       "     \"</p>\\n\"+\n",
       "     \"<ul>\\n\"+\n",
       "     \"<li>re-rerun `output_notebook()` to attempt to load from CDN again, or</li>\\n\"+\n",
       "     \"<li>use INLINE resources instead, as so:</li>\\n\"+\n",
       "     \"</ul>\\n\"+\n",
       "     \"<code>\\n\"+\n",
       "     \"from bokeh.resources import INLINE\\n\"+\n",
       "     \"output_notebook(resources=INLINE)\\n\"+\n",
       "     \"</code>\\n\"+\n",
       "     \"</div>\"}};\n",
       "\n",
       "  function display_loaded() {\n",
       "    var el = document.getElementById(\"56d1780b-ceb1-42cf-926e-6b12776c2bad\");\n",
       "    if (el != null) {\n",
       "      el.textContent = \"BokehJS is loading...\";\n",
       "    }\n",
       "    if (root.Bokeh !== undefined) {\n",
       "      if (el != null) {\n",
       "        el.textContent = \"BokehJS \" + root.Bokeh.version + \" successfully loaded.\";\n",
       "      }\n",
       "    } else if (Date.now() < root._bokeh_timeout) {\n",
       "      setTimeout(display_loaded, 100)\n",
       "    }\n",
       "  }\n",
       "\n",
       "\n",
       "  function run_callbacks() {\n",
       "    try {\n",
       "      root._bokeh_onload_callbacks.forEach(function(callback) { callback() });\n",
       "    }\n",
       "    finally {\n",
       "      delete root._bokeh_onload_callbacks\n",
       "    }\n",
       "    console.info(\"Bokeh: all callbacks have finished\");\n",
       "  }\n",
       "\n",
       "  function load_libs(js_urls, callback) {\n",
       "    root._bokeh_onload_callbacks.push(callback);\n",
       "    if (root._bokeh_is_loading > 0) {\n",
       "      console.log(\"Bokeh: BokehJS is being loaded, scheduling callback at\", now());\n",
       "      return null;\n",
       "    }\n",
       "    if (js_urls == null || js_urls.length === 0) {\n",
       "      run_callbacks();\n",
       "      return null;\n",
       "    }\n",
       "    console.log(\"Bokeh: BokehJS not loaded, scheduling load and callback at\", now());\n",
       "    root._bokeh_is_loading = js_urls.length;\n",
       "    for (var i = 0; i < js_urls.length; i++) {\n",
       "      var url = js_urls[i];\n",
       "      var s = document.createElement('script');\n",
       "      s.src = url;\n",
       "      s.async = false;\n",
       "      s.onreadystatechange = s.onload = function() {\n",
       "        root._bokeh_is_loading--;\n",
       "        if (root._bokeh_is_loading === 0) {\n",
       "          console.log(\"Bokeh: all BokehJS libraries loaded\");\n",
       "          run_callbacks()\n",
       "        }\n",
       "      };\n",
       "      s.onerror = function() {\n",
       "        console.warn(\"failed to load library \" + url);\n",
       "      };\n",
       "      console.log(\"Bokeh: injecting script tag for BokehJS library: \", url);\n",
       "      document.getElementsByTagName(\"head\")[0].appendChild(s);\n",
       "    }\n",
       "  };var element = document.getElementById(\"56d1780b-ceb1-42cf-926e-6b12776c2bad\");\n",
       "  if (element == null) {\n",
       "    console.log(\"Bokeh: ERROR: autoload.js configured with elementid '56d1780b-ceb1-42cf-926e-6b12776c2bad' but no matching script tag was found. \")\n",
       "    return false;\n",
       "  }\n",
       "\n",
       "  var js_urls = [\"https://cdn.pydata.org/bokeh/release/bokeh-0.12.16.min.js\", \"https://cdn.pydata.org/bokeh/release/bokeh-widgets-0.12.16.min.js\", \"https://cdn.pydata.org/bokeh/release/bokeh-tables-0.12.16.min.js\", \"https://cdn.pydata.org/bokeh/release/bokeh-gl-0.12.16.min.js\"];\n",
       "\n",
       "  var inline_js = [\n",
       "    function(Bokeh) {\n",
       "      Bokeh.set_log_level(\"info\");\n",
       "    },\n",
       "    \n",
       "    function(Bokeh) {\n",
       "      \n",
       "    },\n",
       "    function(Bokeh) {\n",
       "      console.log(\"Bokeh: injecting CSS: https://cdn.pydata.org/bokeh/release/bokeh-0.12.16.min.css\");\n",
       "      Bokeh.embed.inject_css(\"https://cdn.pydata.org/bokeh/release/bokeh-0.12.16.min.css\");\n",
       "      console.log(\"Bokeh: injecting CSS: https://cdn.pydata.org/bokeh/release/bokeh-widgets-0.12.16.min.css\");\n",
       "      Bokeh.embed.inject_css(\"https://cdn.pydata.org/bokeh/release/bokeh-widgets-0.12.16.min.css\");\n",
       "      console.log(\"Bokeh: injecting CSS: https://cdn.pydata.org/bokeh/release/bokeh-tables-0.12.16.min.css\");\n",
       "      Bokeh.embed.inject_css(\"https://cdn.pydata.org/bokeh/release/bokeh-tables-0.12.16.min.css\");\n",
       "    }\n",
       "  ];\n",
       "\n",
       "  function run_inline_js() {\n",
       "    \n",
       "    if ((root.Bokeh !== undefined) || (force === true)) {\n",
       "      for (var i = 0; i < inline_js.length; i++) {\n",
       "        inline_js[i].call(root, root.Bokeh);\n",
       "      }if (force === true) {\n",
       "        display_loaded();\n",
       "      }} else if (Date.now() < root._bokeh_timeout) {\n",
       "      setTimeout(run_inline_js, 100);\n",
       "    } else if (!root._bokeh_failed_load) {\n",
       "      console.log(\"Bokeh: BokehJS failed to load within specified timeout.\");\n",
       "      root._bokeh_failed_load = true;\n",
       "    } else if (force !== true) {\n",
       "      var cell = $(document.getElementById(\"56d1780b-ceb1-42cf-926e-6b12776c2bad\")).parents('.cell').data().cell;\n",
       "      cell.output_area.append_execute_result(NB_LOAD_WARNING)\n",
       "    }\n",
       "\n",
       "  }\n",
       "\n",
       "  if (root._bokeh_is_loading === 0) {\n",
       "    console.log(\"Bokeh: BokehJS loaded, going straight to plotting\");\n",
       "    run_inline_js();\n",
       "  } else {\n",
       "    load_libs(js_urls, function() {\n",
       "      console.log(\"Bokeh: BokehJS plotting callback run at\", now());\n",
       "      run_inline_js();\n",
       "    });\n",
       "  }\n",
       "}(window));"
      ],
      "application/vnd.bokehjs_load.v0+json": "\n(function(root) {\n  function now() {\n    return new Date();\n  }\n\n  var force = true;\n\n  if (typeof (root._bokeh_onload_callbacks) === \"undefined\" || force === true) {\n    root._bokeh_onload_callbacks = [];\n    root._bokeh_is_loading = undefined;\n  }\n\n  \n\n  \n  if (typeof (root._bokeh_timeout) === \"undefined\" || force === true) {\n    root._bokeh_timeout = Date.now() + 5000;\n    root._bokeh_failed_load = false;\n  }\n\n  var NB_LOAD_WARNING = {'data': {'text/html':\n     \"<div style='background-color: #fdd'>\\n\"+\n     \"<p>\\n\"+\n     \"BokehJS does not appear to have successfully loaded. If loading BokehJS from CDN, this \\n\"+\n     \"may be due to a slow or bad network connection. Possible fixes:\\n\"+\n     \"</p>\\n\"+\n     \"<ul>\\n\"+\n     \"<li>re-rerun `output_notebook()` to attempt to load from CDN again, or</li>\\n\"+\n     \"<li>use INLINE resources instead, as so:</li>\\n\"+\n     \"</ul>\\n\"+\n     \"<code>\\n\"+\n     \"from bokeh.resources import INLINE\\n\"+\n     \"output_notebook(resources=INLINE)\\n\"+\n     \"</code>\\n\"+\n     \"</div>\"}};\n\n  function display_loaded() {\n    var el = document.getElementById(\"56d1780b-ceb1-42cf-926e-6b12776c2bad\");\n    if (el != null) {\n      el.textContent = \"BokehJS is loading...\";\n    }\n    if (root.Bokeh !== undefined) {\n      if (el != null) {\n        el.textContent = \"BokehJS \" + root.Bokeh.version + \" successfully loaded.\";\n      }\n    } else if (Date.now() < root._bokeh_timeout) {\n      setTimeout(display_loaded, 100)\n    }\n  }\n\n\n  function run_callbacks() {\n    try {\n      root._bokeh_onload_callbacks.forEach(function(callback) { callback() });\n    }\n    finally {\n      delete root._bokeh_onload_callbacks\n    }\n    console.info(\"Bokeh: all callbacks have finished\");\n  }\n\n  function load_libs(js_urls, callback) {\n    root._bokeh_onload_callbacks.push(callback);\n    if (root._bokeh_is_loading > 0) {\n      console.log(\"Bokeh: BokehJS is being loaded, scheduling callback at\", now());\n      return null;\n    }\n    if (js_urls == null || js_urls.length === 0) {\n      run_callbacks();\n      return null;\n    }\n    console.log(\"Bokeh: BokehJS not loaded, scheduling load and callback at\", now());\n    root._bokeh_is_loading = js_urls.length;\n    for (var i = 0; i < js_urls.length; i++) {\n      var url = js_urls[i];\n      var s = document.createElement('script');\n      s.src = url;\n      s.async = false;\n      s.onreadystatechange = s.onload = function() {\n        root._bokeh_is_loading--;\n        if (root._bokeh_is_loading === 0) {\n          console.log(\"Bokeh: all BokehJS libraries loaded\");\n          run_callbacks()\n        }\n      };\n      s.onerror = function() {\n        console.warn(\"failed to load library \" + url);\n      };\n      console.log(\"Bokeh: injecting script tag for BokehJS library: \", url);\n      document.getElementsByTagName(\"head\")[0].appendChild(s);\n    }\n  };var element = document.getElementById(\"56d1780b-ceb1-42cf-926e-6b12776c2bad\");\n  if (element == null) {\n    console.log(\"Bokeh: ERROR: autoload.js configured with elementid '56d1780b-ceb1-42cf-926e-6b12776c2bad' but no matching script tag was found. \")\n    return false;\n  }\n\n  var js_urls = [\"https://cdn.pydata.org/bokeh/release/bokeh-0.12.16.min.js\", \"https://cdn.pydata.org/bokeh/release/bokeh-widgets-0.12.16.min.js\", \"https://cdn.pydata.org/bokeh/release/bokeh-tables-0.12.16.min.js\", \"https://cdn.pydata.org/bokeh/release/bokeh-gl-0.12.16.min.js\"];\n\n  var inline_js = [\n    function(Bokeh) {\n      Bokeh.set_log_level(\"info\");\n    },\n    \n    function(Bokeh) {\n      \n    },\n    function(Bokeh) {\n      console.log(\"Bokeh: injecting CSS: https://cdn.pydata.org/bokeh/release/bokeh-0.12.16.min.css\");\n      Bokeh.embed.inject_css(\"https://cdn.pydata.org/bokeh/release/bokeh-0.12.16.min.css\");\n      console.log(\"Bokeh: injecting CSS: https://cdn.pydata.org/bokeh/release/bokeh-widgets-0.12.16.min.css\");\n      Bokeh.embed.inject_css(\"https://cdn.pydata.org/bokeh/release/bokeh-widgets-0.12.16.min.css\");\n      console.log(\"Bokeh: injecting CSS: https://cdn.pydata.org/bokeh/release/bokeh-tables-0.12.16.min.css\");\n      Bokeh.embed.inject_css(\"https://cdn.pydata.org/bokeh/release/bokeh-tables-0.12.16.min.css\");\n    }\n  ];\n\n  function run_inline_js() {\n    \n    if ((root.Bokeh !== undefined) || (force === true)) {\n      for (var i = 0; i < inline_js.length; i++) {\n        inline_js[i].call(root, root.Bokeh);\n      }if (force === true) {\n        display_loaded();\n      }} else if (Date.now() < root._bokeh_timeout) {\n      setTimeout(run_inline_js, 100);\n    } else if (!root._bokeh_failed_load) {\n      console.log(\"Bokeh: BokehJS failed to load within specified timeout.\");\n      root._bokeh_failed_load = true;\n    } else if (force !== true) {\n      var cell = $(document.getElementById(\"56d1780b-ceb1-42cf-926e-6b12776c2bad\")).parents('.cell').data().cell;\n      cell.output_area.append_execute_result(NB_LOAD_WARNING)\n    }\n\n  }\n\n  if (root._bokeh_is_loading === 0) {\n    console.log(\"Bokeh: BokehJS loaded, going straight to plotting\");\n    run_inline_js();\n  } else {\n    load_libs(js_urls, function() {\n      console.log(\"Bokeh: BokehJS plotting callback run at\", now());\n      run_inline_js();\n    });\n  }\n}(window));"
     },
     "metadata": {},
     "output_type": "display_data"
    }
   ],
   "source": [
    "import numpy as np \n",
    "from ipywidgets import interact, interactive, fixed, interact_manual\n",
    "import ipywidgets as widgets\n",
    " \n",
    "from plotly.offline import download_plotlyjs, init_notebook_mode, plot, iplot\n",
    "from plotly import graph_objs as go\n",
    "init_notebook_mode(connected=True)\n",
    "import numpy as np\n",
    "\n",
    "import random\n",
    "import pandas as pd\n",
    "from IPython.display import display, Math\n",
    "\n",
    "from bokeh.io import show, output_notebook\n",
    "from bokeh.plotting import figure, show\n",
    "from scipy.stats import norm \n",
    "from bokeh import plotting as pl\n",
    "from bokeh.models import HoverTool, Arrow, OpenHead, NormalHead, VeeHead\n",
    "import statsmodels.api as sm\n",
    "from scipy.stats import chi2_contingency\n",
    "from scipy import stats\n",
    "\n",
    "\n",
    "output_notebook()\n"
   ]
  },
  {
   "cell_type": "markdown",
   "metadata": {
    "hide_input": true
   },
   "source": [
    "### Solution code\n",
    "\n",
    "```python\n",
    "# Just run the above code\n",
    "```"
   ]
  },
  {
   "cell_type": "markdown",
   "metadata": {},
   "source": [
    "So far we have been talking about general concepts, from here on we are going to get into a few specific examples and techniques. In many ways, we needed to cover hypothesis testing before we could come to chi square testing and other topics since in essence chi square testing is a specific type of hypothesis testing. \n",
    "\n",
    "Chi square testing deals with categorical data, we are going to first learn about running a chi square test of independence. Before that we need to talk a little bit about how to represent categorical variables.\n",
    "\n",
    "So let us get into it. In this notebook we are going to cover  <br> \n",
    "\n",
    "1) Describing Catergorical data - Contingency table <br>\n",
    "2) Chi square testing steps \n",
    "\n",
    "##  Describing Categorical Data\n",
    "\n",
    "So far we have not really made a distinction between continuous data and categorical data. Continuous data is data that represents variables like weight, height, speed etc, these are quantities that can take any value in a given range. Also there is a clear ordering between the numbers. Typically, continuous values tend to be numbers, either integers, or real numbers of some sort. Categorical variables represent quantities which belong to a certain category. The most common example would be say gender (male and female) or colors etc. Categorical variables can also be numerical, example ratings (1,2,3 etc ) of a song. \n",
    "\n",
    "One thing we should always keep in mind is that some categorical variables will have ordering. Like ratings, where $1 \\lt 2 \\lt 3 $ where as in some cases categorical variable may not have a specific ordering, for example female $\\gt$ male or vice versa does not really make any sense.\n",
    "\n",
    "So to process further we will use a dataset from UCI dataset, its called the Flags dataset. It is a dataset that contains various design aspects of flags. The data dictionary can be found here- \n",
    "https://data.world/uci/flags/workspace/file?filename=flag.names.txt\n",
    "\n",
    "Question: Import the csv file \"flags_data.csv\" into pandas and display its head row"
   ]
  },
  {
   "cell_type": "code",
   "execution_count": 3,
   "metadata": {
    "ExecuteTime": {
     "end_time": "2019-01-05T22:08:21.889742Z",
     "start_time": "2019-01-05T22:08:21.833894Z"
    }
   },
   "outputs": [
    {
     "data": {
      "text/html": [
       "<div>\n",
       "<style scoped>\n",
       "    .dataframe tbody tr th:only-of-type {\n",
       "        vertical-align: middle;\n",
       "    }\n",
       "\n",
       "    .dataframe tbody tr th {\n",
       "        vertical-align: top;\n",
       "    }\n",
       "\n",
       "    .dataframe thead th {\n",
       "        text-align: right;\n",
       "    }\n",
       "</style>\n",
       "<table border=\"1\" class=\"dataframe\">\n",
       "  <thead>\n",
       "    <tr style=\"text-align: right;\">\n",
       "      <th></th>\n",
       "      <th>0</th>\n",
       "      <th>1</th>\n",
       "      <th>2</th>\n",
       "      <th>3</th>\n",
       "      <th>4</th>\n",
       "      <th>5</th>\n",
       "      <th>6</th>\n",
       "      <th>7</th>\n",
       "      <th>8</th>\n",
       "      <th>9</th>\n",
       "      <th>...</th>\n",
       "      <th>20</th>\n",
       "      <th>21</th>\n",
       "      <th>22</th>\n",
       "      <th>23</th>\n",
       "      <th>24</th>\n",
       "      <th>25</th>\n",
       "      <th>26</th>\n",
       "      <th>27</th>\n",
       "      <th>28</th>\n",
       "      <th>29</th>\n",
       "    </tr>\n",
       "  </thead>\n",
       "  <tbody>\n",
       "    <tr>\n",
       "      <th>0</th>\n",
       "      <td>Afghanistan</td>\n",
       "      <td>5</td>\n",
       "      <td>1</td>\n",
       "      <td>648</td>\n",
       "      <td>16</td>\n",
       "      <td>10</td>\n",
       "      <td>2</td>\n",
       "      <td>0</td>\n",
       "      <td>3</td>\n",
       "      <td>5</td>\n",
       "      <td>...</td>\n",
       "      <td>0</td>\n",
       "      <td>0</td>\n",
       "      <td>1</td>\n",
       "      <td>0</td>\n",
       "      <td>0</td>\n",
       "      <td>1</td>\n",
       "      <td>0</td>\n",
       "      <td>0</td>\n",
       "      <td>black</td>\n",
       "      <td>green</td>\n",
       "    </tr>\n",
       "    <tr>\n",
       "      <th>1</th>\n",
       "      <td>Albania</td>\n",
       "      <td>3</td>\n",
       "      <td>1</td>\n",
       "      <td>29</td>\n",
       "      <td>3</td>\n",
       "      <td>6</td>\n",
       "      <td>6</td>\n",
       "      <td>0</td>\n",
       "      <td>0</td>\n",
       "      <td>3</td>\n",
       "      <td>...</td>\n",
       "      <td>0</td>\n",
       "      <td>0</td>\n",
       "      <td>1</td>\n",
       "      <td>0</td>\n",
       "      <td>0</td>\n",
       "      <td>0</td>\n",
       "      <td>1</td>\n",
       "      <td>0</td>\n",
       "      <td>red</td>\n",
       "      <td>red</td>\n",
       "    </tr>\n",
       "    <tr>\n",
       "      <th>2</th>\n",
       "      <td>Algeria</td>\n",
       "      <td>4</td>\n",
       "      <td>1</td>\n",
       "      <td>2388</td>\n",
       "      <td>20</td>\n",
       "      <td>8</td>\n",
       "      <td>2</td>\n",
       "      <td>2</td>\n",
       "      <td>0</td>\n",
       "      <td>3</td>\n",
       "      <td>...</td>\n",
       "      <td>0</td>\n",
       "      <td>0</td>\n",
       "      <td>1</td>\n",
       "      <td>1</td>\n",
       "      <td>0</td>\n",
       "      <td>0</td>\n",
       "      <td>0</td>\n",
       "      <td>0</td>\n",
       "      <td>green</td>\n",
       "      <td>white</td>\n",
       "    </tr>\n",
       "    <tr>\n",
       "      <th>3</th>\n",
       "      <td>American-Samoa</td>\n",
       "      <td>6</td>\n",
       "      <td>3</td>\n",
       "      <td>0</td>\n",
       "      <td>0</td>\n",
       "      <td>1</td>\n",
       "      <td>1</td>\n",
       "      <td>0</td>\n",
       "      <td>0</td>\n",
       "      <td>5</td>\n",
       "      <td>...</td>\n",
       "      <td>0</td>\n",
       "      <td>0</td>\n",
       "      <td>0</td>\n",
       "      <td>0</td>\n",
       "      <td>1</td>\n",
       "      <td>1</td>\n",
       "      <td>1</td>\n",
       "      <td>0</td>\n",
       "      <td>blue</td>\n",
       "      <td>red</td>\n",
       "    </tr>\n",
       "    <tr>\n",
       "      <th>4</th>\n",
       "      <td>Andorra</td>\n",
       "      <td>3</td>\n",
       "      <td>1</td>\n",
       "      <td>0</td>\n",
       "      <td>0</td>\n",
       "      <td>6</td>\n",
       "      <td>0</td>\n",
       "      <td>3</td>\n",
       "      <td>0</td>\n",
       "      <td>3</td>\n",
       "      <td>...</td>\n",
       "      <td>0</td>\n",
       "      <td>0</td>\n",
       "      <td>0</td>\n",
       "      <td>0</td>\n",
       "      <td>0</td>\n",
       "      <td>0</td>\n",
       "      <td>0</td>\n",
       "      <td>0</td>\n",
       "      <td>blue</td>\n",
       "      <td>red</td>\n",
       "    </tr>\n",
       "  </tbody>\n",
       "</table>\n",
       "<p>5 rows × 30 columns</p>\n",
       "</div>"
      ],
      "text/plain": [
       "               0   1   2     3   4   5   6   7   8   9   ...    20  21  22  \\\n",
       "0     Afghanistan   5   1   648  16  10   2   0   3   5  ...     0   0   1   \n",
       "1         Albania   3   1    29   3   6   6   0   0   3  ...     0   0   1   \n",
       "2         Algeria   4   1  2388  20   8   2   2   0   3  ...     0   0   1   \n",
       "3  American-Samoa   6   3     0   0   1   1   0   0   5  ...     0   0   0   \n",
       "4         Andorra   3   1     0   0   6   0   3   0   3  ...     0   0   0   \n",
       "\n",
       "   23  24  25  26 27     28     29  \n",
       "0   0   0   1   0  0  black  green  \n",
       "1   0   0   0   1  0    red    red  \n",
       "2   1   0   0   0  0  green  white  \n",
       "3   0   1   1   1  0   blue    red  \n",
       "4   0   0   0   0  0   blue    red  \n",
       "\n",
       "[5 rows x 30 columns]"
      ]
     },
     "execution_count": 3,
     "metadata": {},
     "output_type": "execute_result"
    }
   ],
   "source": [
    "#answer \n",
    "flags_data = pd.read_csv(\"../../../data/flags_data.csv\", header =None)\n",
    "flags_data.head()"
   ]
  },
  {
   "cell_type": "markdown",
   "metadata": {
    "hide_input": true
   },
   "source": [
    "### Solution code\n",
    "\n",
    "```python\n",
    "# Just run the above code\n",
    "```"
   ]
  },
  {
   "cell_type": "markdown",
   "metadata": {
    "ExecuteTime": {
     "end_time": "2019-01-03T19:34:19.777467Z",
     "start_time": "2019-01-03T19:34:19.771481Z"
    }
   },
   "source": [
    "In the last two lines we merely imported the data from that dataset. Notice we set header = None. This is because we don't know what the column names are. For that purpose we must go back to the UCI page for the dataset and look at data dictionary.\n",
    "\n",
    "So you can see there are 30 columns in the dataset. \n",
    "We do not want all of them, let us just take a look at three columns. The three columns that we are going to take are: \n",
    "\n",
    "|column number | column titles: | column description|\n",
    "|--------------|----------------|-------------------|\n",
    "|4             | population:    | in round millions |\n",
    "|27            | text :         | 1 if any letters or writing on the flag (e.g., a motto or slogan), 0 otherwise|\n",
    "|28            | topleft:       | colour in the top-left corner (moving right to decide  tie-breaks) |\n",
    "\n"
   ]
  },
  {
   "cell_type": "code",
   "execution_count": 4,
   "metadata": {
    "ExecuteTime": {
     "end_time": "2019-01-05T20:51:07.040531Z",
     "start_time": "2019-01-05T20:51:07.027569Z"
    }
   },
   "outputs": [
    {
     "data": {
      "text/html": [
       "<div>\n",
       "<style scoped>\n",
       "    .dataframe tbody tr th:only-of-type {\n",
       "        vertical-align: middle;\n",
       "    }\n",
       "\n",
       "    .dataframe tbody tr th {\n",
       "        vertical-align: top;\n",
       "    }\n",
       "\n",
       "    .dataframe thead th {\n",
       "        text-align: right;\n",
       "    }\n",
       "</style>\n",
       "<table border=\"1\" class=\"dataframe\">\n",
       "  <thead>\n",
       "    <tr style=\"text-align: right;\">\n",
       "      <th></th>\n",
       "      <th>population</th>\n",
       "      <th>text</th>\n",
       "      <th>topleft</th>\n",
       "    </tr>\n",
       "  </thead>\n",
       "  <tbody>\n",
       "    <tr>\n",
       "      <th>0</th>\n",
       "      <td>16</td>\n",
       "      <td>0</td>\n",
       "      <td>black</td>\n",
       "    </tr>\n",
       "    <tr>\n",
       "      <th>1</th>\n",
       "      <td>3</td>\n",
       "      <td>0</td>\n",
       "      <td>red</td>\n",
       "    </tr>\n",
       "    <tr>\n",
       "      <th>2</th>\n",
       "      <td>20</td>\n",
       "      <td>0</td>\n",
       "      <td>green</td>\n",
       "    </tr>\n",
       "    <tr>\n",
       "      <th>3</th>\n",
       "      <td>0</td>\n",
       "      <td>0</td>\n",
       "      <td>blue</td>\n",
       "    </tr>\n",
       "    <tr>\n",
       "      <th>4</th>\n",
       "      <td>0</td>\n",
       "      <td>0</td>\n",
       "      <td>blue</td>\n",
       "    </tr>\n",
       "  </tbody>\n",
       "</table>\n",
       "</div>"
      ],
      "text/plain": [
       "   population  text topleft\n",
       "0          16     0   black\n",
       "1           3     0     red\n",
       "2          20     0   green\n",
       "3           0     0    blue\n",
       "4           0     0    blue"
      ]
     },
     "execution_count": 4,
     "metadata": {},
     "output_type": "execute_result"
    }
   ],
   "source": [
    "flags_data_subset  = flags_data[[4,27,28]] #selecting the columns \n",
    "flags_data_subset.columns = [\"population\",\"text\", \"topleft\"]  #labeling the columns \n",
    "flags_data_subset.head() "
   ]
  },
  {
   "cell_type": "markdown",
   "metadata": {
    "hide_input": true
   },
   "source": [
    "### Solution code\n",
    "\n",
    "```python\n",
    "# Just run the above code\n",
    "```"
   ]
  },
  {
   "cell_type": "markdown",
   "metadata": {},
   "source": [
    "Question: Now that you have this information can you write down which type of variables the columns are? \n",
    "\n",
    "Answer: Population is essentially a continuous variable, since it's unbounded it can take any value. Where as the other two are categorical variables. As far as the text column is concerned, its a binary yes or no where as the topleft variable can take multiple values which are colors.  \n",
    "\n",
    "\n",
    "So we have two categorical and continuous variables, now we care only about the categorical variables. How can we describe categorical data? Well below is a method called contingency table. "
   ]
  },
  {
   "cell_type": "code",
   "execution_count": 5,
   "metadata": {
    "ExecuteTime": {
     "end_time": "2019-01-05T20:51:07.089395Z",
     "start_time": "2019-01-05T20:51:07.042869Z"
    }
   },
   "outputs": [
    {
     "data": {
      "text/html": [
       "<div>\n",
       "<style scoped>\n",
       "    .dataframe tbody tr th:only-of-type {\n",
       "        vertical-align: middle;\n",
       "    }\n",
       "\n",
       "    .dataframe tbody tr th {\n",
       "        vertical-align: top;\n",
       "    }\n",
       "\n",
       "    .dataframe thead th {\n",
       "        text-align: right;\n",
       "    }\n",
       "</style>\n",
       "<table border=\"1\" class=\"dataframe\">\n",
       "  <thead>\n",
       "    <tr style=\"text-align: right;\">\n",
       "      <th>topleft</th>\n",
       "      <th>black</th>\n",
       "      <th>blue</th>\n",
       "      <th>gold</th>\n",
       "      <th>green</th>\n",
       "      <th>orange</th>\n",
       "      <th>red</th>\n",
       "      <th>white</th>\n",
       "      <th>total</th>\n",
       "    </tr>\n",
       "    <tr>\n",
       "      <th>text</th>\n",
       "      <th></th>\n",
       "      <th></th>\n",
       "      <th></th>\n",
       "      <th></th>\n",
       "      <th></th>\n",
       "      <th></th>\n",
       "      <th></th>\n",
       "      <th></th>\n",
       "    </tr>\n",
       "  </thead>\n",
       "  <tbody>\n",
       "    <tr>\n",
       "      <th>0</th>\n",
       "      <td>12</td>\n",
       "      <td>41</td>\n",
       "      <td>6</td>\n",
       "      <td>29</td>\n",
       "      <td>4</td>\n",
       "      <td>51</td>\n",
       "      <td>35</td>\n",
       "      <td>178</td>\n",
       "    </tr>\n",
       "    <tr>\n",
       "      <th>1</th>\n",
       "      <td>0</td>\n",
       "      <td>2</td>\n",
       "      <td>0</td>\n",
       "      <td>3</td>\n",
       "      <td>0</td>\n",
       "      <td>5</td>\n",
       "      <td>6</td>\n",
       "      <td>16</td>\n",
       "    </tr>\n",
       "  </tbody>\n",
       "</table>\n",
       "</div>"
      ],
      "text/plain": [
       "topleft  black  blue  gold  green  orange  red  white  total\n",
       "text                                                        \n",
       "0           12    41     6     29       4   51     35    178\n",
       "1            0     2     0      3       0    5      6     16"
      ]
     },
     "execution_count": 5,
     "metadata": {},
     "output_type": "execute_result"
    }
   ],
   "source": [
    "contingency_table = pd.crosstab(flags_data_subset[\"text\"], flags_data_subset[\"topleft\"])\n",
    "contingency_table[\"total\"] = contingency_table.sum(axis= 1)\n",
    "contingency_table.head()\n"
   ]
  },
  {
   "cell_type": "markdown",
   "metadata": {
    "hide_input": true
   },
   "source": [
    "### Solution code\n",
    "\n",
    "```python\n",
    "# Just run the above code\n",
    "```"
   ]
  },
  {
   "cell_type": "markdown",
   "metadata": {},
   "source": [
    "Question: What is the contingency table describing? What does the total column represent? \n",
    "\n",
    "Answer: The contingency table tells us what is the relationship between the levels of each categorical variables. For instance, \"0\" and \"1\" are two levels in the \"text\" column. \"black\" is a level in the \"topleft\" column. The first column of the contingency table tells us for rows where \"topleft\" has a value of \"black\", there are no flags (each row represents a single country's flag) where there is text on the flag but there are 12 countries where there is no text on the flag.\n",
    "\n",
    "Think about what the total values represent? They are the total number of flags where there is text on the flag (16 in total) and flags where there is no text on the flag (178 flags in total)\n",
    "\n",
    "Question: What should the sum of the total column represent with respect to the flags dataset? \n",
    "\n",
    "Answer: The total should represent the total number of flags i.e the total number of rows in the dataset. Hope makes sense. See, regardless of the type of value that you have in the text column, the total number of rows will always be conserved. This is an important sanity check to have.\n",
    "\n",
    "Before we delve into the chi square testing part, lets recall what we are doing in terms of population and samples. So in this case, we can consider our dataset a population. What we are doing by pulling certain features is really to pull features of the population and checking if there is a dependency.\n",
    "Now that we have this in place let's run a chi square hypothesis test on this dataset. \n",
    "\n",
    "\n",
    "## Chi square testing for independence of variables \n",
    "\n",
    "The procedure for chi square testing is somewhat similar to hypothesis testing- \n",
    "\n",
    "1) Define the null and alternate hypothesis <br>\n",
    "2) Fix the significance level  <br>\n",
    "3) Calculate the test statistic  <br> \n",
    "4) Compare the test statistic to the significance level <br> \n",
    "\n",
    "\n",
    "This is a pretty straight procedure. Step 1 is actually also pre-defined. \n",
    "\n",
    "1) Define the null and alternate hypothesis- \n",
    "\n",
    "Null hypothesis: $\\qquad$ two categorical variables are independent <br>\n",
    "Alternate hypothesis: $\\qquad$ two categorical variables are <b>not </b> independent \n",
    "\n",
    "\n",
    "2) Fix the significance level \n",
    " \n",
    "Similar to hypothesis testing we are going to stick with 5% as the significance level. \n",
    "\n",
    "3) Calculate the test statistic \n",
    "       \n",
    "Here is where the fun is. So the test statistic for a chi-square test is a bit different. I will state it and define the terms\n",
    "\n",
    "\n",
    "\\begin{equation}\n",
    " \\chi^{2} = \\sum^{mrows}_{r =1} {\\sum^{mcols}_{c=1}} \\dfrac{(O_{r,c} -E_{r,c})^{2}}{E_{r,c}}\n",
    "\\end{equation}\n",
    "\n",
    "where <br>\n",
    "\n",
    "$\\chi^{2}$  - is the test statistic  <br>\n",
    "$O_{r,c}$ is the observed frequency <br>\n",
    "$E_{r,c}$ is the expected frequency<br>\n",
    "$mrows$ is the max number of rows in the dataset <br>\n",
    "$mcols$ is the max number of columns in the dataset <br>\n",
    "\n",
    "\n",
    "We call $E$ and $O$ as frequencies since in the contingency table each value represents the frequency with which a certain value appears. \n",
    "\n",
    "The sum is over all rows and columns. Yeah it looks messy but we will decode it step by step so hold on! \n",
    "\n",
    "For this purpose we will not stick with the \"text\" and \"topleft\". This is because, you need  <b>a minimum of count of 5 in contingency table for each  category level for you to apply chi square test </b>. This is an important point to keep in mind. You cannot use the chi-square test under the circumstances: In our contingency table we see a lot of values where we have a count of 0. \n",
    "\n",
    "The two columns we have chosen have a binary value (yes or no) for if we have green color in the flag or blue color in the flag. \n"
   ]
  },
  {
   "cell_type": "code",
   "execution_count": 6,
   "metadata": {
    "ExecuteTime": {
     "end_time": "2019-01-05T20:51:07.107343Z",
     "start_time": "2019-01-05T20:51:07.092384Z"
    }
   },
   "outputs": [
    {
     "data": {
      "text/html": [
       "<div>\n",
       "<style scoped>\n",
       "    .dataframe tbody tr th:only-of-type {\n",
       "        vertical-align: middle;\n",
       "    }\n",
       "\n",
       "    .dataframe tbody tr th {\n",
       "        vertical-align: top;\n",
       "    }\n",
       "\n",
       "    .dataframe thead th {\n",
       "        text-align: right;\n",
       "    }\n",
       "</style>\n",
       "<table border=\"1\" class=\"dataframe\">\n",
       "  <thead>\n",
       "    <tr style=\"text-align: right;\">\n",
       "      <th></th>\n",
       "      <th>green</th>\n",
       "      <th>blue</th>\n",
       "    </tr>\n",
       "  </thead>\n",
       "  <tbody>\n",
       "    <tr>\n",
       "      <th>0</th>\n",
       "      <td>1</td>\n",
       "      <td>0</td>\n",
       "    </tr>\n",
       "    <tr>\n",
       "      <th>1</th>\n",
       "      <td>0</td>\n",
       "      <td>0</td>\n",
       "    </tr>\n",
       "    <tr>\n",
       "      <th>2</th>\n",
       "      <td>1</td>\n",
       "      <td>0</td>\n",
       "    </tr>\n",
       "    <tr>\n",
       "      <th>3</th>\n",
       "      <td>0</td>\n",
       "      <td>1</td>\n",
       "    </tr>\n",
       "    <tr>\n",
       "      <th>4</th>\n",
       "      <td>0</td>\n",
       "      <td>1</td>\n",
       "    </tr>\n",
       "  </tbody>\n",
       "</table>\n",
       "</div>"
      ],
      "text/plain": [
       "   green  blue\n",
       "0      1     0\n",
       "1      0     0\n",
       "2      1     0\n",
       "3      0     1\n",
       "4      0     1"
      ]
     },
     "execution_count": 6,
     "metadata": {},
     "output_type": "execute_result"
    }
   ],
   "source": [
    "flags_data_subset2  = flags_data[[11,12]] #selecting the columns \n",
    "flags_data_subset2.columns = [\"green\",\"blue\"]  #labeling the columns \n",
    "flags_data_subset2.head()"
   ]
  },
  {
   "cell_type": "markdown",
   "metadata": {
    "hide_input": true
   },
   "source": [
    "### Solution code\n",
    "\n",
    "```python\n",
    "# Just run the above code\n",
    "```"
   ]
  },
  {
   "cell_type": "markdown",
   "metadata": {},
   "source": [
    "Question: Generate a contingency table for the data above. Do you think we can use a chi square test given the new contingency table values? \n",
    "\n",
    "Let's find out...(Execute the code below)"
   ]
  },
  {
   "cell_type": "code",
   "execution_count": 7,
   "metadata": {
    "ExecuteTime": {
     "end_time": "2019-01-05T20:51:07.141246Z",
     "start_time": "2019-01-05T20:51:07.111087Z"
    }
   },
   "outputs": [
    {
     "data": {
      "text/html": [
       "<div>\n",
       "<style scoped>\n",
       "    .dataframe tbody tr th:only-of-type {\n",
       "        vertical-align: middle;\n",
       "    }\n",
       "\n",
       "    .dataframe tbody tr th {\n",
       "        vertical-align: top;\n",
       "    }\n",
       "\n",
       "    .dataframe thead th {\n",
       "        text-align: right;\n",
       "    }\n",
       "</style>\n",
       "<table border=\"1\" class=\"dataframe\">\n",
       "  <thead>\n",
       "    <tr style=\"text-align: right;\">\n",
       "      <th>blue</th>\n",
       "      <th>0</th>\n",
       "      <th>1</th>\n",
       "      <th>total</th>\n",
       "    </tr>\n",
       "    <tr>\n",
       "      <th>green</th>\n",
       "      <th></th>\n",
       "      <th></th>\n",
       "      <th></th>\n",
       "    </tr>\n",
       "  </thead>\n",
       "  <tbody>\n",
       "    <tr>\n",
       "      <th>0</th>\n",
       "      <td>36</td>\n",
       "      <td>67</td>\n",
       "      <td>103</td>\n",
       "    </tr>\n",
       "    <tr>\n",
       "      <th>1</th>\n",
       "      <td>59</td>\n",
       "      <td>32</td>\n",
       "      <td>91</td>\n",
       "    </tr>\n",
       "  </tbody>\n",
       "</table>\n",
       "</div>"
      ],
      "text/plain": [
       "blue    0   1  total\n",
       "green               \n",
       "0      36  67    103\n",
       "1      59  32     91"
      ]
     },
     "execution_count": 7,
     "metadata": {},
     "output_type": "execute_result"
    }
   ],
   "source": [
    "# answer code\n",
    "\n",
    "new_cont_table = pd.crosstab(flags_data_subset2[\"green\"],flags_data_subset2[\"blue\"]) \n",
    "new_cont_table[\"total\"] =new_cont_table.sum(axis=1)\n",
    "new_cont_table\n"
   ]
  },
  {
   "cell_type": "markdown",
   "metadata": {
    "hide_input": true
   },
   "source": [
    "### Solution code\n",
    "\n",
    "```python\n",
    "# Just run the above code\n",
    "```"
   ]
  },
  {
   "cell_type": "markdown",
   "metadata": {},
   "source": [
    "Looking at the values in the contingency table we can be sure that all values are greater than 5. \n",
    "Now let us calculate the test statistic. For that what we need to do first is calculating the expected frequency.\n",
    "\n",
    "### Expected frequency\n",
    "\n",
    "For this purpose we need to make an addition to the contingency table. We need to add the row total as well. The total value we have is the column total as well. \n",
    "\n",
    "Question: can you add new row called \"row total\" to the contingency table and rename the \"total\" column as well ? \n"
   ]
  },
  {
   "cell_type": "code",
   "execution_count": 8,
   "metadata": {
    "ExecuteTime": {
     "end_time": "2019-01-05T20:51:07.187112Z",
     "start_time": "2019-01-05T20:51:07.144236Z"
    }
   },
   "outputs": [
    {
     "data": {
      "text/html": [
       "<div>\n",
       "<style scoped>\n",
       "    .dataframe tbody tr th:only-of-type {\n",
       "        vertical-align: middle;\n",
       "    }\n",
       "\n",
       "    .dataframe tbody tr th {\n",
       "        vertical-align: top;\n",
       "    }\n",
       "\n",
       "    .dataframe thead th {\n",
       "        text-align: right;\n",
       "    }\n",
       "</style>\n",
       "<table border=\"1\" class=\"dataframe\">\n",
       "  <thead>\n",
       "    <tr style=\"text-align: right;\">\n",
       "      <th>blue</th>\n",
       "      <th>blue_no</th>\n",
       "      <th>blue_yes</th>\n",
       "      <th>row total</th>\n",
       "    </tr>\n",
       "  </thead>\n",
       "  <tbody>\n",
       "    <tr>\n",
       "      <th>green_no</th>\n",
       "      <td>36</td>\n",
       "      <td>67</td>\n",
       "      <td>103</td>\n",
       "    </tr>\n",
       "    <tr>\n",
       "      <th>green_yes</th>\n",
       "      <td>59</td>\n",
       "      <td>32</td>\n",
       "      <td>91</td>\n",
       "    </tr>\n",
       "    <tr>\n",
       "      <th>column total</th>\n",
       "      <td>95</td>\n",
       "      <td>99</td>\n",
       "      <td>194</td>\n",
       "    </tr>\n",
       "  </tbody>\n",
       "</table>\n",
       "</div>"
      ],
      "text/plain": [
       "blue          blue_no  blue_yes  row total\n",
       "green_no           36        67        103\n",
       "green_yes          59        32         91\n",
       "column total       95        99        194"
      ]
     },
     "execution_count": 8,
     "metadata": {},
     "output_type": "execute_result"
    }
   ],
   "source": [
    "# I just copied these lines from above since I want to redefine new_cont_table each time\n",
    "new_cont_table = pd.crosstab(flags_data_subset2[\"green\"],flags_data_subset2[\"blue\"]) \n",
    "new_cont_table[\"total\"] =new_cont_table.sum(axis=1)\n",
    "\n",
    "# renaming a column \n",
    "new_cont_table = new_cont_table.rename(index= str,columns ={0:\"blue_no\", 1:\"blue_yes\", \"total\":\"row total\"})\n",
    "new_cont_table = new_cont_table.append([new_cont_table.sum()])\n",
    "new_cont_table.index = [ \"green_no\", \"green_yes\", \"column total\"]\n",
    "new_cont_table"
   ]
  },
  {
   "cell_type": "markdown",
   "metadata": {
    "hide_input": true
   },
   "source": [
    "### Solution code\n",
    "\n",
    "```python\n",
    "# Just run the above code\n",
    "```"
   ]
  },
  {
   "cell_type": "markdown",
   "metadata": {
    "ExecuteTime": {
     "end_time": "2019-01-03T22:18:44.010660Z",
     "start_time": "2019-01-03T22:18:44.005678Z"
    }
   },
   "source": [
    "Don't worry if you could not get the correct answer for the above case. \n",
    "\n",
    "Now the expected frequency has to be calculated for each element in contingency table except for the column and row total elements. \n",
    "\n",
    "So for blue_yes and green_no expected frequency will be: \n",
    " \n",
    " \n",
    "Expected frequency (green_no, blue_yes)  = $\\dfrac { \\text{column total for green_no}  *  \\text{ row total for blue_yes}}{\\text{total of the dataset} }$ \n",
    "\n",
    "total of the dataset is nothing but the sum of all the values in the contingency table. Well that is just the value we have at the index -(row_total, column total). \n",
    "\n"
   ]
  },
  {
   "cell_type": "code",
   "execution_count": 9,
   "metadata": {
    "ExecuteTime": {
     "end_time": "2019-01-05T20:51:07.197085Z",
     "start_time": "2019-01-05T20:51:07.189184Z"
    }
   },
   "outputs": [
    {
     "name": "stdout",
     "output_type": "stream",
     "text": [
      "expected frequency for the index  green_no, blue_yes is 52.56185567010309 \n"
     ]
    }
   ],
   "source": [
    "tot_blue_yes = 99 \n",
    "tot_green_no = 103\n",
    "#blue yes, green no expected frequency is - \n",
    "expected_freq_12  = tot_blue_yes*tot_green_no/194 \n",
    "print(\"expected frequency for the index  green_no, blue_yes is {} \" .format(str(expected_freq_12)))\n"
   ]
  },
  {
   "cell_type": "markdown",
   "metadata": {
    "hide_input": true
   },
   "source": [
    "### Solution code\n",
    "\n",
    "```python\n",
    "# Just run the above code\n",
    "```"
   ]
  },
  {
   "cell_type": "markdown",
   "metadata": {
    "ExecuteTime": {
     "end_time": "2019-01-03T23:37:28.734328Z",
     "start_time": "2019-01-03T23:37:28.727345Z"
    }
   },
   "source": [
    "The observed frequency is 67. So you can see that there is a difference between the expected and the observed frequency. Now its up to you to do the rest of them. I have used the notation expected_freq_21 because I am looking at row 1 and column 2 in the contingency table. \n",
    "\n",
    "Question: Can you calculate the rest of the expected frequency values? There are three more to go!\n",
    "\n"
   ]
  },
  {
   "cell_type": "code",
   "execution_count": 10,
   "metadata": {
    "ExecuteTime": {
     "end_time": "2019-01-05T20:51:07.217028Z",
     "start_time": "2019-01-05T20:51:07.200223Z"
    }
   },
   "outputs": [
    {
     "name": "stdout",
     "output_type": "stream",
     "text": [
      "expected frequency for the index  green_no, blue_no is 50.43814432989691 \n",
      "expected frequency for the index  green_yes, blue_no is 44.56185567010309 \n",
      "expected frequency for the index  green_yes, blue_yes is 46.43814432989691 \n"
     ]
    }
   ],
   "source": [
    "# green_no, blue_no \n",
    "tot_blue_no = 95 \n",
    "tot_green_no = 103\n",
    "expected_freq_11  = tot_blue_no*tot_green_no/194 \n",
    "print(\"expected frequency for the index  green_no, blue_no is {} \" .format(str(expected_freq_11)))\n",
    "\n",
    "\n",
    "# green_yes, blue_no \n",
    "tot_blue_no = 95 \n",
    "tot_green_yes = 91\n",
    "expected_freq_21  = tot_blue_no*tot_green_yes/194 \n",
    "print(\"expected frequency for the index  green_yes, blue_no is {} \" .format(str(expected_freq_21)))\n",
    "\n",
    "\n",
    "# green_yes, blue_yes \n",
    "tot_blue_yes = 99\n",
    "tot_green_yes = 91\n",
    "expected_freq_22  = tot_blue_yes*tot_green_yes/194 \n",
    "print(\"expected frequency for the index  green_yes, blue_yes is {} \" .format(str(expected_freq_22)))\n"
   ]
  },
  {
   "cell_type": "markdown",
   "metadata": {
    "hide_input": true
   },
   "source": [
    "### Solution code\n",
    "\n",
    "```python\n",
    "# Just run the above code\n",
    "```"
   ]
  },
  {
   "cell_type": "markdown",
   "metadata": {},
   "source": [
    "Now that we have the expected frequencies, we can finally expand the test statistic and calculate it.<br>\n",
    "The test statistic in the expanded state is \n",
    "\n",
    "\\begin{equation}\n",
    " \\chi^{2} = \\dfrac{(O_{1,1} -E_{1,1})^{2}}{E_{1,1}}  +\\dfrac{(O_{1,2} -E_{1,2})^{2}}{E_{1,2}} +\\dfrac{(O_{2,1} -E_{2,1})^{2}}{E_{2,1}} + \\dfrac{(O_{2,2} -E_{2,2})^{2}}{E_{2,2}} \n",
    "\\end{equation}\n",
    "\n",
    "what we have done here is expanding the sums. The sums were over row and column. Since we have a two by two matrix. When we expand it, it will be 4 elements. If it's a 3 by 3 matrix then we will have 9 elements and so on.. <br>\n",
    "\n",
    "Now I am going to calculate the first element. You can do the rest! \n"
   ]
  },
  {
   "cell_type": "code",
   "execution_count": 11,
   "metadata": {
    "ExecuteTime": {
     "end_time": "2019-01-05T20:51:07.229993Z",
     "start_time": "2019-01-05T20:51:07.220018Z"
    }
   },
   "outputs": [
    {
     "name": "stdout",
     "output_type": "stream",
     "text": [
      "first term in equation (2) is 4.132983369242845\n"
     ]
    }
   ],
   "source": [
    "O_11 = 36  # from the contingency table \n",
    "E_11 = expected_freq_11\n",
    "\n",
    "first_term = np.square(O_11 - E_11)/E_11\n",
    "print(\"first term in equation (2) is {}\".format(first_term ))\n"
   ]
  },
  {
   "cell_type": "markdown",
   "metadata": {
    "hide_input": true
   },
   "source": [
    "### Solution code\n",
    "\n",
    "```python\n",
    "# Just run the above code\n",
    "```"
   ]
  },
  {
   "cell_type": "markdown",
   "metadata": {
    "ExecuteTime": {
     "end_time": "2019-01-04T00:03:11.891675Z",
     "start_time": "2019-01-04T00:03:11.883727Z"
    }
   },
   "source": [
    "Question: calculate the rest of the terms from equation (2) and sum everything to get the chi square value \n"
   ]
  },
  {
   "cell_type": "code",
   "execution_count": 12,
   "metadata": {
    "ExecuteTime": {
     "end_time": "2019-01-05T20:51:07.260962Z",
     "start_time": "2019-01-05T20:51:07.232994Z"
    }
   },
   "outputs": [
    {
     "name": "stdout",
     "output_type": "stream",
     "text": [
      "second term in equation (2) is 3.96599414220273\n",
      "third term in equation (2) is 4.677992165186956\n",
      "fourth term in equation (2) is 4.488982380734958\n",
      "\n",
      " Chi square value:  17.265952057367493\n"
     ]
    }
   ],
   "source": [
    "#answer \n",
    "#second term \n",
    "O_12 = 67  # from the contingency table \n",
    "E_12 = expected_freq_12\n",
    "\n",
    "second_term = np.square(O_12 - E_12)/E_12\n",
    "print(\"second term in equation (2) is {}\".format(second_term ))\n",
    "\n",
    "#third \n",
    "O_21 = 59  # from the contingency table \n",
    "E_21 = expected_freq_21\n",
    "\n",
    "third_term = np.square(O_21 - E_21)/E_21\n",
    "print(\"third term in equation (2) is {}\".format(third_term ))\n",
    "\n",
    "\n",
    "\n",
    "#fourth term \n",
    "O_22 = 32  # from the contingency table \n",
    "E_22 = expected_freq_22\n",
    "\n",
    "fourth_term = np.square(O_22 - E_22)/E_22\n",
    "print(\"fourth term in equation (2) is {}\".format(fourth_term ))\n",
    "\n",
    "\n",
    "chi_square_value = first_term+second_term+third_term+fourth_term\n",
    "print(\"\\n Chi square value:  {}\".format(chi_square_value))"
   ]
  },
  {
   "cell_type": "markdown",
   "metadata": {
    "hide_input": true
   },
   "source": [
    "### Solution code\n",
    "\n",
    "```python\n",
    "# Just run the above code\n",
    "```"
   ]
  },
  {
   "cell_type": "markdown",
   "metadata": {},
   "source": [
    "Now that we have this values. Lets actually calculate the p-value directly from this. But wait...What distribution do we use? Normal distribution right ? AHA! NO. In the distributions sections you would have gone through the chi square distribution that is what we have to use. If you remember, for that distribution you needed something called the degrees of freedom. So how do we calculate that in this case? \n",
    "\n",
    "Well it's just: <br>\n",
    "\n",
    "\\begin{equation}\n",
    "\\text{Degrees of freedom }\\text{(DF)}    = (\\text{number of columns} -1)* (\\text{number of rows} -1)\n",
    "\\end{equation}\n",
    "\n",
    "we need the degree of freedom to actually be able to draw out the chi square distribution. For our contingency matrix we just have a degree of freedom of 1. Check your calculation from equation (3)!\n",
    "\n",
    "Now let's use a chi square calculator "
   ]
  },
  {
   "cell_type": "code",
   "execution_count": 13,
   "metadata": {
    "ExecuteTime": {
     "end_time": "2019-01-05T20:51:07.873833Z",
     "start_time": "2019-01-05T20:51:07.263894Z"
    }
   },
   "outputs": [
    {
     "data": {
      "application/vnd.jupyter.widget-view+json": {
       "model_id": "d21b5e95d1034f4f996b9435984936ec",
       "version_major": 2,
       "version_minor": 0
      },
      "text/plain": [
       "interactive(children=(FloatText(value=5.0, description='significance_level', step=0.001), FloatText(value=5.0,…"
      ]
     },
     "metadata": {},
     "output_type": "display_data"
    }
   ],
   "source": [
    "conf_int =0 \n",
    "xrange =np.linspace(0,10,10000)\n",
    "\n",
    "#answer\n",
    "tools_to_show= 'box_zoom,pan,save,hover,reset,tap,wheel_zoom'        \n",
    "\n",
    "\n",
    "\n",
    "def get_sig_lvl(significance_level, chi_val_crtic, df): \n",
    "    xrange =np.linspace(0,chi_val_crtic+5,10000)\n",
    "    pdf = stats.chi2.pdf(xrange, df)\n",
    "\n",
    "    fig = pl.figure(x_range=[0,chi_val_crtic+5], \n",
    "                    plot_height=400,\n",
    "                    tools = tools_to_show,\n",
    "                    title=\"Chi square test calculator: Figure 1\",\n",
    "                    x_axis_label= \"chi-square values\",\n",
    "                    y_axis_label =\"Probability distribution\")\n",
    "    \n",
    "    fig.line(x=xrange, y= pdf, line_width = 4)\n",
    "\n",
    "    fig.xgrid.grid_line_color = None\n",
    "    fig.y_range.start = 0\n",
    "    \n",
    "    hover = fig.select(dict(type=HoverTool))\n",
    "    hover.tooltips = [(\"xvalue\", \"@x\"), (\"yvalue\", \"@y\")]\n",
    "   \n",
    "#     # calculate right \n",
    "    z_value = stats.chi2.ppf(1-(significance_level)/100, df)\n",
    "\n",
    "#     # calculate pvalue \n",
    "    p_value = 1.0-stats.chi2.cdf(chi_val_crtic,df)\n",
    "\n",
    "    show(fig)\n",
    "\n",
    "    print(\"z value for the given significance level: {} \".format(z_value))\n",
    "    print(\"p value  :  {}\".format(p_value))\n",
    "    return None \n",
    "\n",
    "\n",
    "\n",
    "\n",
    "interact(get_sig_lvl, \n",
    "                 significance_level = widgets.FloatText(value = 5, \n",
    "                                                        min =50,\n",
    "                                                        max = 99.9, \n",
    "                                                         step =0.001), \n",
    "                   chi_val_crtic = widgets.FloatText(value = 5, \n",
    "                                                        min =0,\n",
    "                                                        max = 1000, \n",
    "                                                        step =0.001),\n",
    "                  df = widgets.IntText(value = 1, \n",
    "                                                        min =1,\n",
    "                                                        max = 100, \n",
    "                                                        step =1)\n",
    "     \n",
    "        \n",
    "        );\n"
   ]
  },
  {
   "cell_type": "markdown",
   "metadata": {
    "hide_input": true
   },
   "source": [
    "### Solution code\n",
    "\n",
    "```python\n",
    "# Just run the above code\n",
    "```"
   ]
  },
  {
   "cell_type": "markdown",
   "metadata": {},
   "source": [
    "In the calculator above there are three values you can adjust. The significance level, the chi value and the degrees of freedom. You can insert the values that we have acquired in solving the problem. So we have- \n",
    "\n",
    "Significance level = 5% <br>\n",
    "$\\chi^2 = 17.27$ (rounded up) <br>\n",
    "df = 1 from  equation (3) <br>\n",
    "\n",
    "So when we enter this we find that the p-value is a real small value of of $0.0000324$. So what does all this mean? \n",
    "\n",
    "Question: Given that the significance level is 5% do we accept or reject the null hypothesis. what does this mean? \n",
    "\n",
    "Answer: what this means is that we need to reject the null hypothesis and accept the alternate hypothesis. This is because the p-value is much more smaller than the significance level that we have set. \n",
    "\n",
    "Now there are a couple of details that we need to talk about. For that let us look at the chi square distribution again. We have fixed the number of degrees of freedom and we want to vary the significance level. So the task for you is to vary the significance level and see what happens. \n",
    "\n",
    "Question: What happens when you change the value of the significance level? What does this mean? Hint: which side is the rejection growing\n",
    "\n",
    "Answer: As you change the significance level you will see that the rejection region goes from right to left i.e it goes larger values of chi square to smaller values of chi square. Hence for a large significance level, we will have a small value of chi square and vice versa. What this basically translates to is that small difference between the observed and expected frequency will ensure that the null hypothesis is met. This is an important point to keep in mind! To understand this better just look at equation 2. "
   ]
  },
  {
   "cell_type": "code",
   "execution_count": 14,
   "metadata": {
    "ExecuteTime": {
     "end_time": "2019-01-05T21:21:59.635083Z",
     "start_time": "2019-01-05T21:21:59.412701Z"
    }
   },
   "outputs": [
    {
     "data": {
      "application/vnd.jupyter.widget-view+json": {
       "model_id": "07423a65046e4c2e887051bad8e9b955",
       "version_major": 2,
       "version_minor": 0
      },
      "text/plain": [
       "interactive(children=(FloatSlider(value=5.0, description='significance_level', max=10.0, min=2.0, step=0.001),…"
      ]
     },
     "metadata": {},
     "output_type": "display_data"
    }
   ],
   "source": [
    "conf_int =0 \n",
    "\n",
    "#answer\n",
    "tools_to_show= 'box_zoom,pan,save,hover,reset,tap,wheel_zoom'        \n",
    "\n",
    "def shade_reject_region(z_min,z_max, df ): \n",
    "    shade_x  = np.arange(z_min,z_max,0.001)\n",
    "    shade_region  =stats.chi2.pdf(shade_x,df)\n",
    "    \n",
    "    shade_region[0] = 0 \n",
    "    shade_region[-1] = 0\n",
    "   \n",
    "    return shade_x, shade_region\n",
    "\n",
    "def get_sig_lvl(significance_level, chi_val_crtic, df): \n",
    "    xrange =np.linspace(0,chi_val_crtic+15,10000)\n",
    "    pdf = stats.chi2.pdf(xrange, df)\n",
    "\n",
    "    fig = pl.figure(x_range=[0,chi_val_crtic+15], \n",
    "                    plot_height=400,\n",
    "                    tools = tools_to_show,\n",
    "                    title=\"Chi square test calculator: Figure 1\",\n",
    "                    x_axis_label= \"chi-square values\",\n",
    "                    y_axis_label =\"Probability distribution\")\n",
    "    \n",
    "    fig.line(x=xrange, y= pdf, line_width = 4)\n",
    "\n",
    "    fig.xgrid.grid_line_color = None\n",
    "    fig.y_range.start = 0\n",
    "    \n",
    "    hover = fig.select(dict(type=HoverTool))\n",
    "    hover.tooltips = [(\"xvalue\", \"@x\"), (\"yvalue\", \"@y\")]\n",
    "   \n",
    "#     # calculate right \n",
    "    z_value = stats.chi2.ppf(1-(significance_level)/100, df)\n",
    "\n",
    "#     # calculate pvalue \n",
    "    p_value = 1.0-stats.chi2.cdf(chi_val_crtic,df)\n",
    "\n",
    "    \n",
    "    \n",
    "    left_shade, left_region= shade_reject_region(z_value,chi_val_crtic+15, df)\n",
    "    fig.patch(left_shade, left_region, color=\"red\", alpha =0.4)\n",
    "# left reject region title \n",
    "    \n",
    "    reject_text_x =  z_value\n",
    "    reject_text_y = 0.1\n",
    "    fig.text(x =reject_text_x ,y = reject_text_y, text=[\"Significance\\n level\"])\n",
    "    arrow_y_end = left_region[int(left_region.size/2)]\n",
    "    arrow_x_end = left_shade[int(left_shade.size*0.01)]\n",
    "    \n",
    "    \n",
    "    fig.add_layout(Arrow(end=NormalHead(fill_color=\"black\"),\n",
    "                   x_start=reject_text_x+0.5,\n",
    "                   y_start=reject_text_y-0.001,\n",
    "                   x_end=arrow_x_end,\n",
    "                   y_end=arrow_y_end+0.01))\n",
    "\n",
    "    show(fig)\n",
    "\n",
    "    print(\"z value for the given significance level: {} \".format(z_value))\n",
    "    print(\"p value  :  {}\".format(p_value))\n",
    "    return None \n",
    "\n",
    "\n",
    "\n",
    "\n",
    "\n",
    "interact_manual(get_sig_lvl, \n",
    "                 significance_level = widgets.FloatSlider( value = 5,\n",
    "                                                        min =2,\n",
    "                                                        max = 10, \n",
    "                                                         step =0.001), \n",
    "                   chi_val_crtic = widgets.FloatText(value = 5, \n",
    "                                                        min =0,\n",
    "                                                        max = 1000, \n",
    "                                                        step =0.001),\n",
    "                  df = widgets.IntText(value = 3, \n",
    "                                                        min =1,\n",
    "                                                        max = 100, \n",
    "                                                        step =1)\n",
    "     \n",
    "        \n",
    "        );\n"
   ]
  },
  {
   "cell_type": "markdown",
   "metadata": {
    "hide_input": true
   },
   "source": [
    "### Solution code\n",
    "\n",
    "```python\n",
    "# Just run the above code\n",
    "```"
   ]
  },
  {
   "cell_type": "markdown",
   "metadata": {},
   "source": [
    "So far you got to see how the hand calculation of the chi square test is done. Well lucky for you, you are learning ( and by now, hopefully) using python a lot! Python has a nice module to implement chi square test. Its called 'scipy.stats'. I love this library since it makes our lives so much easier. See below how you can just do all what we did above but had with 1 line of code! Remember when you write the code always set correction to false. The correction is something called yates corrections, it applies when you have small values of chi square and the degree of freedom is 1. In our cause we don't care much about it now."
   ]
  },
  {
   "cell_type": "code",
   "execution_count": 15,
   "metadata": {
    "ExecuteTime": {
     "end_time": "2019-01-05T21:51:46.892106Z",
     "start_time": "2019-01-05T21:51:46.877728Z"
    }
   },
   "outputs": [
    {
     "name": "stdout",
     "output_type": "stream",
     "text": [
      "chi squared value is 17.265952057367493\n",
      "\n",
      " P-value is 3.2495779824285224e-05\n",
      "\n",
      " degrees of freedom of the table 1\n",
      "\n",
      " Exptected values  \n",
      "[[50.43814433 52.56185567]\n",
      " [44.56185567 46.43814433]]\n"
     ]
    }
   ],
   "source": [
    "chi_value, p_value, df_new, expected_values= chi2_contingency(np.array([[36,67],[59,32]]), correction= False)\n",
    "\n",
    "print(\"chi squared value is {}\".format(chi_value))\n",
    "print(\"\\n P-value is {}\".format(p_value))\n",
    "print(\"\\n degrees of freedom of the table {}\".format(df_new))\n",
    "print(\"\\n Exptected values  \\n{}\".format(expected_values))\n"
   ]
  },
  {
   "cell_type": "markdown",
   "metadata": {
    "hide_input": true
   },
   "source": [
    "### Solution code\n",
    "\n",
    "```python\n",
    "# Just run the above code\n",
    "```"
   ]
  },
  {
   "cell_type": "markdown",
   "metadata": {
    "ExecuteTime": {
     "end_time": "2019-01-05T21:22:31.262621Z",
     "start_time": "2019-01-05T21:22:31.256596Z"
    }
   },
   "source": [
    "Chi square tests are fairly easy to run once you understand the underlying idea. \n",
    "\n",
    "We have covered only one use of the chi square test. There are other uses for it: \n",
    "\n",
    "1) Chi square test for homogeneity: where we are trying to see if the same variable from two different populations will be differently distributed.   \n",
    "\n",
    "2) Chi square test for goodness of fit: This is specifically used when you have a single categorical variable and you want to see if it fits a certain type of distribution. This distribution might be an assumption that you might be making about the process or it might be a result from a previous observation.\n",
    "\n",
    "We are not going into the details of these tests. For your curiosity you might want to check out - \n",
    "https://stattrek.com/chi-square-test/goodness-of-fit.aspx?Tutorial=AP\n",
    "\n"
   ]
  },
  {
   "cell_type": "code",
   "execution_count": 16,
   "metadata": {},
   "outputs": [],
   "source": [
    "# End of notebook"
   ]
  },
  {
   "cell_type": "markdown",
   "metadata": {
    "hide_input": true
   },
   "source": [
    "### Solution code\n",
    "\n",
    "```python\n",
    "# End of notebook\n",
    "```"
   ]
  }
 ],
 "metadata": {
  "celltoolbar": "Edit Metadata",
  "kernelspec": {
   "display_name": "Python 3",
   "language": "python",
   "name": "python3"
  },
  "language_info": {
   "codemirror_mode": {
    "name": "ipython",
    "version": 3
   },
   "file_extension": ".py",
   "mimetype": "text/x-python",
   "name": "python",
   "nbconvert_exporter": "python",
   "pygments_lexer": "ipython3",
   "version": "3.7.3"
  },
  "latex_envs": {
   "LaTeX_envs_menu_present": true,
   "autoclose": true,
   "autocomplete": true,
   "bibliofile": "biblio.bib",
   "cite_by": "apalike",
   "current_citInitial": 1,
   "eqLabelWithNumbers": true,
   "eqNumInitial": 1,
   "hotkeys": {
    "equation": "Ctrl-E",
    "itemize": "Ctrl-I"
   },
   "labels_anchors": false,
   "latex_user_defs": false,
   "report_style_numbering": true,
   "user_envs_cfg": false
  },
  "toc": {
   "base_numbering": 1,
   "nav_menu": {},
   "number_sections": true,
   "sideBar": true,
   "skip_h1_title": false,
   "title_cell": "Table of Contents",
   "title_sidebar": "Contents",
   "toc_cell": false,
   "toc_position": {},
   "toc_section_display": true,
   "toc_window_display": false
  },
  "varInspector": {
   "cols": {
    "lenName": 16,
    "lenType": 16,
    "lenVar": 40
   },
   "kernels_config": {
    "python": {
     "delete_cmd_postfix": "",
     "delete_cmd_prefix": "del ",
     "library": "var_list.py",
     "varRefreshCmd": "print(var_dic_list())"
    },
    "r": {
     "delete_cmd_postfix": ") ",
     "delete_cmd_prefix": "rm(",
     "library": "var_list.r",
     "varRefreshCmd": "cat(var_dic_list()) "
    }
   },
   "types_to_exclude": [
    "module",
    "function",
    "builtin_function_or_method",
    "instance",
    "_Feature"
   ],
   "window_display": false
  }
 },
 "nbformat": 4,
 "nbformat_minor": 2
}
