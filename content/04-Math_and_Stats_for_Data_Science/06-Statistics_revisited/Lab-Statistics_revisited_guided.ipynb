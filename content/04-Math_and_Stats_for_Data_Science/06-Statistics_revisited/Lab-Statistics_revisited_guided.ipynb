{
 "cells": [
  {
   "cell_type": "code",
   "execution_count": 1,
   "metadata": {
    "ExecuteTime": {
     "end_time": "2020-06-22T23:02:49.936979Z",
     "start_time": "2020-06-22T23:02:49.361328Z"
    }
   },
   "outputs": [],
   "source": [
    "import numpy as np \n",
    "import random\n",
    "import matplotlib.pyplot as plt\n",
    "from IPython.display import display, Math\n",
    "\n",
    "from bokeh.io import show, output_notebook\n",
    "from scipy.stats import norm \n",
    "from scipy.stats import chi2_contingency\n",
    "\n"
   ]
  },
  {
   "cell_type": "markdown",
   "metadata": {},
   "source": []
  },
  {
   "cell_type": "markdown",
   "metadata": {
    "ExecuteTime": {
     "end_time": "2019-09-24T18:28:56.499614Z",
     "start_time": "2019-09-24T18:28:56.490874Z"
    }
   },
   "source": [
    "### Part 1: P-value\n",
    "\n",
    "\n",
    "\n",
    "Problem statement: We have a school full of students. The average height of the school students is 6 ft with a standard deviation of 0.5 ft. We take class of 100 students from the school. Assume the student heights are normally distributed\n",
    "\n",
    "\n",
    "1) Calculate the z-score for the class of 100 students <br>\n",
    "2) Calculate the p-value of the sample mean\n",
    "\n",
    "If we set a significance level of 5%. Is the sample mean less than the significant level or not? \n"
   ]
  },
  {
   "cell_type": "code",
   "execution_count": 3,
   "metadata": {
    "ExecuteTime": {
     "end_time": "2020-06-22T23:02:50.133892Z",
     "start_time": "2020-06-22T23:02:50.129631Z"
    }
   },
   "outputs": [
    {
     "name": "stdout",
     "output_type": "stream",
     "text": [
      "The z test statistic for the sample is 0.6058285207569725 \n",
      "The p-value for the z-test is 0.2723143143051443\n"
     ]
    }
   ],
   "source": [
    "\n",
    "xrange =np.linspace(0,20,1000)\n",
    "\n",
    "pop_mean = ## What is the population mean? \n",
    "pop_std = ## What is the population standard deviation? \n",
    "sample_size = ### What is the sample size?\n",
    "\n",
    "# Sampling from the population distribution\n",
    "np.random.seed(1) ### DO NOT CHANGE OR DELELET THIS \n",
    "samples = ## Using numpy random.normal generate 100 samples from a normal distribution \n",
    "\n",
    "\n",
    "### ANSWER 1 ### \n",
    "# Calcuate z-value\n",
    "lower = ## Calculate the denominator of the z-test statistic\n",
    "upper = ## Calcuate the numerator of the z-test statistic\n",
    "z_sample = upper/lower\n",
    "\n",
    "\n",
    "### ANSWER 2 ### \n",
    "# Calculate p value \n",
    "pvalue = ## Calcuate the p-value. You have to use the cumulative distribution function to get the p-value \n",
    "\n",
    "# calcuate significance level value\n",
    "significance_level = 0.05 \n",
    "z_c = ## Convert the significance level to a z-score, \n",
    "      ## remember we used the ppf function in the notes to do this \n",
    "pvalue = 1 - pvalue \n",
    "\n",
    "print(\"The z test statistic for the sample is {} \".format(z_sample))\n",
    "print(\"The p-value for the z-test is {}\".format(pvalue))\n",
    "\n"
   ]
  },
  {
   "cell_type": "markdown",
   "metadata": {},
   "source": [
    "The z test statistic for the sample is 0.6058285207569725 <br>\n",
    "The p-value for the z-test is 0.2723143143051443"
   ]
  },
  {
   "cell_type": "markdown",
   "metadata": {},
   "source": [
    "### PART 2: Sampling distribution\n",
    "\n",
    "Suppose we decide to take 100 samples of 10 students each from the school, do the following- <br>\n",
    "\n",
    "1) can you plot the sampling distribution of mean height?  A histogram of the sample means should be good<br>\n",
    "2) What would be the standard deviation of the sampling distribution? <br>\n",
    "3) Now take 1000 samples from the population distribution. What is the standard deviation? <br>\n",
    "4) Show that $\\sigma_{s} = \\dfrac{\\sigma_{p}}{\\sqrt{n}}$. "
   ]
  },
  {
   "cell_type": "code",
   "execution_count": 7,
   "metadata": {
    "ExecuteTime": {
     "end_time": "2020-06-22T23:04:07.243490Z",
     "start_time": "2020-06-22T23:04:07.119727Z"
    }
   },
   "outputs": [
    {
     "data": {
      "image/png": "[encoded data removed]",
      "text/plain": [
       "<Figure size 720x576 with 1 Axes>"
      ]
     },
     "metadata": {
      "needs_background": "light"
     },
     "output_type": "display_data"
    }
   ],
   "source": [
    "np.random.seed(3)\n",
    "\n",
    "### ANSWER 1  ### \n",
    "means = []\n",
    "num_samples = 100 \n",
    "sample_size = 10\n",
    "pop_mean = 6\n",
    "pop_std = 0.5\n",
    "size = [num_samples, sample_size]\n",
    "\n",
    "samples = np.random.normal(pop_mean, pop_std, size=size)\n",
    "mean_samples = np.mean(samples, axis=1)\n",
    "\n",
    "plt.figure(figsize=(10,8))\n",
    "plt.hist(mean_samples)\n",
    "plt.xlabel(\"Student heights\", fontsize=20)\n",
    "plt.ylabel(\"Sampling distribution\", fontsize=20)\n",
    "plt.show()\n"
   ]
  },
  {
   "cell_type": "markdown",
   "metadata": {
    "ExecuteTime": {
     "end_time": "2020-06-22T23:43:06.065815Z",
     "start_time": "2020-06-22T23:43:06.062029Z"
    }
   },
   "source": [
    "<img src=\"../../../images/stats_revisited_fig1.png\">"
   ]
  },
  {
   "cell_type": "code",
   "execution_count": 28,
   "metadata": {
    "ExecuteTime": {
     "end_time": "2020-06-22T23:19:15.965917Z",
     "start_time": "2020-06-22T23:19:15.960896Z"
    }
   },
   "outputs": [
    {
     "name": "stdout",
     "output_type": "stream",
     "text": [
      "Sample standard deviation for 100 samples with sample size 10 is 0.16\n",
      "Sample standard deviation for 1000 samples with sample size 10 is 0.16\n",
      "Standard deviation of sampling distribution = 0.16\n",
      "Population standard deviation over the root of sample size = 0.16\n"
     ]
    }
   ],
   "source": [
    "### ANSWER 2 ### \n",
    "# numpy gives us a simple way of getting t=\n",
    "sample_std = ## Get the standard deviation of the sampling distribution of means\n",
    "print(\"Sample standard deviation for 100 samples with sample size 10 is {:.2f}\".format(sample_std))\n",
    "\n",
    "### ANSWER 3 ### \n",
    "np.random.seed(3)\n",
    "num_samples = # Get the number of samples from the question\n",
    "sample_size = 10\n",
    "pop_mean = 6 \n",
    "pop_std = 0.5\n",
    "\n",
    "size = ## You want numpy's random.normal to output 1000 samples where each sample is of size 10. \n",
    "       ## Write a list to pass to the size parameter of numpy random normal \n",
    "samples = ## Write the numpy random normal line to get 1000 samples from a distribution whose parameters\n",
    "            ## are pop_mean and pop_std \n",
    "    \n",
    "mean_samples_1000 = np.mean(samples, axis=1)\n",
    "sample_std_1000 = np.std(mean_samples)\n",
    "print(\"Sample standard deviation for 1000 samples with sample size 10 is {:.2f}\".format(sample_std_1000))\n",
    "\n",
    "\n",
    "### ANSWER 4 ### \n",
    "# To show this we need to calcuate the right hand side of the in question 4 \n",
    "rhs = ## To get the RHS you need to translate the equation in question 4 to code\n",
    "\n",
    "print(\"Standard deviation of sampling distribution = {:.2f}\".format(sample_std_1000))\n",
    "print(\"Population standard deviation over the root of sample size = {:.2f}\".format(rhs))\n"
   ]
  },
  {
   "cell_type": "markdown",
   "metadata": {},
   "source": [
    " Sample standard deviation for 100 samples with sample size 10 is 0.16 <br>\n",
    "Sample standard deviation for 1000 samples with sample size 10 is 0.16 <br>\n",
    "Standard deviation of sampling distribution = 0.16 <br>\n",
    "Population standard deviation over the root of sample size = 0.16 <br>\n"
   ]
  },
  {
   "cell_type": "markdown",
   "metadata": {
    "ExecuteTime": {
     "end_time": "2019-09-24T19:37:49.119703Z",
     "start_time": "2019-09-24T19:37:49.110282Z"
    }
   },
   "source": [
    "### Part 2: A simple Chi-Square test  \n",
    "\n",
    " you are given a contingency table generated from a data set. The data set represents men/women who like/dislike walking in the morning. You are asked, can you identify if these these categorical are related or not. How would you go about it? \n",
    " \n",
    " Contingency table = [[36, 67],[32,59]]\n",
    " "
   ]
  },
  {
   "cell_type": "code",
   "execution_count": 33,
   "metadata": {
    "ExecuteTime": {
     "end_time": "2020-06-22T23:26:39.732240Z",
     "start_time": "2020-06-22T23:26:39.720481Z"
    }
   },
   "outputs": [
    {
     "name": "stdout",
     "output_type": "stream",
     "text": [
      "Chi square test statistic value is 0.01432\n",
      "P-value of the chi-square test is 0.90\n"
     ]
    }
   ],
   "source": [
    "cont_table = [[36, 67],[32,59]]\n",
    " \n",
    "chi_square_results = ## Use the chiquare function in scipy.stats to compute chi-square test values\n",
    "\n",
    "## You may have to look at the documentation of the functions for this section\n",
    "chi_square_teststatistic = ## From the chi_square_reusults, get the test statistic\n",
    "chi_p_value = ## From the chi_square_results,get the p_value\n",
    "\n",
    "print(\"Chi square test statistic value is {:.5f}\".format(chi_square_teststatistic))\n",
    "print(\"P-value of the chi-square test is {:.2f}\".format(chi_p_value))"
   ]
  },
  {
   "cell_type": "code",
   "execution_count": null,
   "metadata": {
    "tags": [
     "grade"
    ]
   },
   "outputs": [],
   "source": [
    "import requests\n",
    "from time import gmtime, strftime\n",
    "from IPython.display import clear_output\n",
    "\n",
    "user_ns = tuple(get_ipython().user_ns.items())\n",
    "user_id = ''\n",
    "lab_name = ''\n",
    "import os\n",
    "\n",
    "def display_result(result, res_code):\n",
    "    from IPython.display import display, HTML\n",
    "    js = \"<style>p.res {background-color: lightblue;} p.pas {color: green;text-align: center;font-size: 150%;} p.fail {color: red;text-align: center;font-size: 150%;}  p.wait {color: blue;text-align: center;font-size: 150%;} p.center {text-align: center;font-size: 200%;}</style>\"\n",
    "    if res_code == 'PASS':\n",
    "        #js = js + \"<script>$('#notebook-container').after('<p id=lastidp class=pas>%s</p>')</script>\"   % result\n",
    "        js = js + \"<script>$('#lastidp').replaceWith('<p id=lastidp class=pas>%s</p>')</script>)\"   % result\n",
    "    elif res_code == 'FAIL':\n",
    "        js = js + \"<script>$('#lastidp').replaceWith('<p id=lastidp class=fail>%s</p>')</script>\"   % result\n",
    "    else:\n",
    "        js = js + \"\"\"<script>\n",
    "        if($('#lastidp').length){\n",
    "        $('#lastidp').replaceWith('<p id=lastidp class=wait>%s</p>')\n",
    "        }else{\n",
    "        $('#notebook-container').after('<p id=lastidp class=wait>%s</p>')\n",
    "        }\n",
    "        </script>\n",
    "        \"\"\"   % (result,result)\n",
    "    display(HTML(js))\n",
    "\n",
    "display_result('','WAIT')\n",
    "    \n",
    "# if value_type == int:\n",
    "for name, value in user_ns:\n",
    "    if name == 'user_id':\n",
    "        user_id = value\n",
    "    if name == 'nb_name':\n",
    "        lab_name = value\n",
    "        lab_name = os.path.basename(lab_name).split('.')[0]\n",
    "\n",
    "input_content_file = lab_name + '.ipynb'\n",
    "\n",
    "import random\n",
    "n = random.randint(1001,3001)\n",
    "f = {'file': ( 'rnd' +  str(n) + '_' + input_content_file, open(input_content_file,'rb'))}\n",
    "d = {'user': user_id}\n",
    "r = requests.post('http://autograde.refactored.ai/uploader', data=d, files=f)\n",
    "#r = requests.post('http://localhost:5000/uploader', data=d, files=f)\n",
    "tm = strftime(\"%Y-%m-%d %H:%M:%S\", gmtime())\n",
    "msg = r.json()['result']['message'][0]\n",
    "res = r.json()['result']['result']\n",
    "answerid = r.json()['answerid']\n",
    "result = tm + ' - ' + msg + '    Answerid is : ' + str(answerid) \n",
    "#score = r.json()['result']['score']\n",
    "#result = tm + ' - ' + msg + '    Your result is : ' + res + '     And the score is : ' + str(score)\n",
    "#print(result)\n",
    "display_result(result,'WAIT')\n",
    "\n",
    "import time\n",
    "count = 0\n",
    "while True:\n",
    "    #r = requests.get('http://localhost:5000/get_result?answer_id=' + str(answerid))\n",
    "    r = requests.get('http://autograde.refactored.ai/get_result?answer_id=' + str(answerid))\n",
    "    res = r.json()['result']['result']\n",
    "    if res != 'WAIT':\n",
    "        tm = strftime(\"%Y-%m-%d %H:%M:%S\", gmtime())\n",
    "        msg = r.json()['result']['message'][0]\n",
    "        res = r.json()['result']['result']\n",
    "        score = r.json()['result']['score']\n",
    "        result = tm + ' - ' + msg + ',    Your result is : ' + res + '    And your score is : ' + str(score) \n",
    "        clear_output(wait=True)\n",
    "        break\n",
    "    else:\n",
    "        if(count ==0):\n",
    "            print('Waiting for your score......')\n",
    "        count = count + 1\n",
    "        time.sleep(10)\n",
    "        if(count > 10):\n",
    "            result = 'Error occurred during evaluation. Please resubmit.'\n",
    "            break\n",
    "\n",
    "display_result(result,res)"
   ]
  }
 ],
 "metadata": {
  "celltoolbar": "Tags",
  "kernelspec": {
   "display_name": "Python 3",
   "language": "python",
   "name": "python3"
  },
  "language_info": {
   "codemirror_mode": {
    "name": "ipython",
    "version": 3
   },
   "file_extension": ".py",
   "mimetype": "text/x-python",
   "name": "python",
   "nbconvert_exporter": "python",
   "pygments_lexer": "ipython3",
   "version": "3.7.4"
  },
  "latex_envs": {
   "LaTeX_envs_menu_present": true,
   "autoclose": true,
   "autocomplete": true,
   "bibliofile": "biblio.bib",
   "cite_by": "apalike",
   "current_citInitial": 1,
   "eqLabelWithNumbers": true,
   "eqNumInitial": 1,
   "hotkeys": {
    "equation": "Ctrl-E",
    "itemize": "Ctrl-I"
   },
   "labels_anchors": false,
   "latex_user_defs": false,
   "report_style_numbering": true,
   "user_envs_cfg": false
  },
  "toc": {
   "base_numbering": 1,
   "nav_menu": {},
   "number_sections": true,
   "sideBar": true,
   "skip_h1_title": false,
   "title_cell": "Table of Contents",
   "title_sidebar": "Contents",
   "toc_cell": false,
   "toc_position": {},
   "toc_section_display": true,
   "toc_window_display": false
  },
  "varInspector": {
   "cols": {
    "lenName": 16,
    "lenType": 16,
    "lenVar": 40
   },
   "kernels_config": {
    "python": {
     "delete_cmd_postfix": "",
     "delete_cmd_prefix": "del ",
     "library": "var_list.py",
     "varRefreshCmd": "print(var_dic_list())"
    },
    "r": {
     "delete_cmd_postfix": ") ",
     "delete_cmd_prefix": "rm(",
     "library": "var_list.r",
     "varRefreshCmd": "cat(var_dic_list()) "
    }
   },
   "types_to_exclude": [
    "module",
    "function",
    "builtin_function_or_method",
    "instance",
    "_Feature"
   ],
   "window_display": false
  }
 },
 "nbformat": 4,
 "nbformat_minor": 2
}
