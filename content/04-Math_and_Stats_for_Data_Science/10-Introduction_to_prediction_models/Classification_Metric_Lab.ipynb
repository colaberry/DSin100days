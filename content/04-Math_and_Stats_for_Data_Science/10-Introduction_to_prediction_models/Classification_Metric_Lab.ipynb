{
 "cells": [
  {
   "cell_type": "markdown",
   "metadata": {},
   "source": [
    "# Lab\n",
    "\n",
    "### Part 1\n",
    "For the Following Matrices caonsider how to calculate Accuracy, Recall, precision, and F1 Score:-\n",
    "<ol>\n",
    "    <li> Description: A particular toy manufactoring company had a 3 particular toys. In search of increasing their sales of these toys the company gathers it data and the analysts run an analysis to find out which kids would buy which toys.<br> The following is the confusion matrix they came up. Which type of metric would the analysts use in this case? <br>\n",
    "And use the understanding of that metric and finish up the analysis by completing the last step. \n",
    "        cm1 = <br>[[112, 34, 23],<br>\n",
    "               [98, 65, 102],<br>\n",
    "               [12, 56, 56] ] </li>\n",
    "    <li> Description: A company created a machine which detects cancer in patients. On running an analysis they came up with the following the confusion matrix. Which metric(s) would they choose and complete the final step. \n",
    "        cm2 = <br>[[112, 34],<br>\n",
    "               [98, 65]] \n",
    "    </li>\n",
    "    <li>Description: A mortgage company is trying to automate the pre-limanary process to determine whether they should provide a mortage to a candidate or not. In this which metric would be suitable to use and also campute the accuracy. \n",
    "        cm3 = <br>[[0, 99], <br>\n",
    "              [89, 9]]\n",
    "    </li>\n",
    "    <li>Description: Depending on the imbalance in the data which metric would you choose. And then compute the accuracy. \n",
    "        cm4 = <br>[[0, 1], <br>\n",
    "              [10, 109]]\n",
    "    </li>\n",
    "</ol>\n"
   ]
  },
  {
   "cell_type": "code",
   "execution_count": 1,
   "metadata": {
    "hide_input": true
   },
   "outputs": [],
   "source": [
    "# Write you Solution Here\n",
    "cm1 = [[112, 34, 23],\n",
    "[98, 65, 102],\n",
    "[12, 56, 56] ]\n",
    "cm2 = [[112, 34],\n",
    "[98, 65]]\n",
    "cm3 = [[0, 99],\n",
    "[89, 9]]\n",
    "cm4 = [[0, 1],\n",
    "[10, 109]] \n",
    "\n"
   ]
  },
  {
   "cell_type": "markdown",
   "metadata": {},
   "source": [
    "### Part 2\n",
    "\n",
    "In a certain company, at one point of time their employers started recieveing malicious emails from an unknown server. So they asked an analyst to predict whether an incoming email is a malicious or not. The company decides to gather data give it to the analyst. The analyst decides to go to use the ROC curve for assessing the model that she created. <br>\n",
    "Complete what the analyst may have done to get the result and also with the help of your peers try to reason whether or not the model that is created is good or bad ?"
   ]
  },
  {
   "cell_type": "code",
   "execution_count": 8,
   "metadata": {},
   "outputs": [],
   "source": [
    "import numpy as np\n",
    "import pandas as pd \n",
    "import matplotlib.pyplot as plt\n",
    "from sklearn.ensemble import RandomForestClassifier\n",
    "from sklearn.model_selection import train_test_split\n",
    "from sklearn.metrics import roc_curve\n",
    "from sklearn.metrics import auc\n",
    "\n",
    "dataset = pd.read_csv('../../../data/data_classification_metric.csv')\n",
    "target = dataset['class'].values\n",
    "dataset=dataset.iloc[:, :3].values\n",
    "X_train, X_test, y_train, y_test = train_test_split(dataset, target, test_size=0.33, random_state=42)\n",
    "\n",
    "cls = RandomForestClassifier(n_estimators=90)\n",
    "cls = cls.fit(X_train,  y_train.reshape((-1,)))\n"
   ]
  }
 ],
 "metadata": {
  "celltoolbar": "Edit Metadata",
  "kernelspec": {
   "display_name": "Python 3",
   "language": "python",
   "name": "python3"
  },
  "language_info": {
   "codemirror_mode": {
    "name": "ipython",
    "version": 3
   },
   "file_extension": ".py",
   "mimetype": "text/x-python",
   "name": "python",
   "nbconvert_exporter": "python",
   "pygments_lexer": "ipython3",
   "version": "3.7.1"
  }
 },
 "nbformat": 4,
 "nbformat_minor": 2
}
