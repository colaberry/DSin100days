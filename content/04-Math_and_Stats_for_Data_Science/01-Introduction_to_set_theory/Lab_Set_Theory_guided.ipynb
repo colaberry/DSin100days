{
 "cells": [
  {
   "cell_type": "markdown",
   "metadata": {},
   "source": [
    "# Lab\n",
    "\n",
    "This Lab has two parts to to it. Both parts test your knowledge of set operations and will help you learn some new tools for set manipulation. \n",
    "## Part 1\n",
    "\n",
    "Create a Set with the given list arr = [9,'g', 'h', 7, 5,'b', 8,'d', 0,'f', 1, 8,'e', 0,'a', 9, 2].\n",
    "\n",
    "Use python functions to create the following subsets from the set arr.\n",
    "* 2 sets - \n",
    "    * all_chars: all the charaters from arr\n",
    "    * all_int: all the integers from arr\n",
    "* A set of any 2 characters and all integers from arr, name it \"2char_int_set\"\n",
    "* A set of any 2 ints and any 3 characters from arr, name it \"2char_3int_set\"\n",
    "* A set named \"random_set\" from arr"
   ]
  },
  {
   "cell_type": "code",
   "execution_count": null,
   "metadata": {
    "ExecuteTime": {
     "end_time": "2020-05-19T18:05:36.264587Z",
     "start_time": "2020-05-19T18:05:36.262292Z"
    }
   },
   "outputs": [],
   "source": [
    "# problem array \n",
    "arr = [9,'g', 'h', 7, 5,'b', 8,'d', 0,'f', 1, 8,'e', 0,'a', 9, 2]"
   ]
  },
  {
   "cell_type": "code",
   "execution_count": null,
   "metadata": {
    "ExecuteTime": {
     "end_time": "2020-05-19T18:05:36.273745Z",
     "start_time": "2020-05-19T18:05:36.265558Z"
    }
   },
   "outputs": [],
   "source": [
    "import string\n",
    "\n",
    "# To speed this up. We are giving you the all_letters set \n",
    "# that contains all the letters in the english language\n",
    "\n",
    "set_letters = set(string.ascii_lowercase)\n",
    "print(\"All characters in the english langauge {}\".format('####'))"
   ]
  },
  {
   "cell_type": "markdown",
   "metadata": {},
   "source": [
    "All characters in the english langauge {'l', 'p', 'g', 'x', 'y', 'n', 'a', 'c', 'z', 'k', 'u', 'b', 's', 'e', 'v', 'q', 'f', 'd', 'm', 'r', 'i', 'j', 't', 'h', 'o', 'w'}"
   ]
  },
  {
   "cell_type": "code",
   "execution_count": null,
   "metadata": {
    "ExecuteTime": {
     "end_time": "2020-05-19T18:05:36.322559Z",
     "start_time": "2020-05-19T18:05:36.274778Z"
    }
   },
   "outputs": [],
   "source": [
    "# First generate a set of numbers from 0 to 9 using numpy \n",
    "import numpy as np \n",
    "\n",
    "set_numbers = set('####')\n",
    "print(\"Set of numbers {}\".format(set_numbers))"
   ]
  },
  {
   "cell_type": "markdown",
   "metadata": {},
   "source": [
    "Set of numbers {0, 1, 2, 3, 4, 5, 6, 7, 8, 9}"
   ]
  },
  {
   "cell_type": "code",
   "execution_count": null,
   "metadata": {
    "ExecuteTime": {
     "end_time": "2020-05-19T18:05:36.325917Z",
     "start_time": "2020-05-19T18:05:36.323535Z"
    }
   },
   "outputs": [],
   "source": [
    "# How do we get only numbers from the array?  \n",
    "arr_set = set(arr)\n",
    "set_only_numbers = ## Difference between sets arr_set and letters\n",
    "print(\"Set of only numbers {}\".format(set_only_numbers))"
   ]
  },
  {
   "cell_type": "markdown",
   "metadata": {},
   "source": [
    "Set of only numbers {0, 1, 2, 5, 7, 8, 9}\n"
   ]
  },
  {
   "cell_type": "code",
   "execution_count": null,
   "metadata": {
    "ExecuteTime": {
     "end_time": "2020-05-19T18:05:36.332139Z",
     "start_time": "2020-05-19T18:05:36.327335Z"
    }
   },
   "outputs": [],
   "source": [
    "# How do we get only letters from the array? \n",
    "set_only_letters = ## difference between arr_set and numbers \n",
    "print(\"Set of only letters {}\".format(set_only_letters))"
   ]
  },
  {
   "cell_type": "markdown",
   "metadata": {
    "ExecuteTime": {
     "end_time": "2020-05-19T16:40:24.938335Z",
     "start_time": "2020-05-19T16:40:24.928162Z"
    }
   },
   "source": [
    "Set of only letters {'g', 'f', 'd', 'b', 'h', 'a', 'e'}"
   ]
  },
  {
   "cell_type": "code",
   "execution_count": null,
   "metadata": {
    "ExecuteTime": {
     "end_time": "2020-05-19T18:05:36.338163Z",
     "start_time": "2020-05-19T18:05:36.333103Z"
    }
   },
   "outputs": [],
   "source": [
    "# How do we get 2 chars and rest letters from the array? \n",
    "# pick two alphabets and make a set\n",
    "alpha_subset = ## We need to make a sent of alphabets d and e \n",
    "twochar_set = ## We need to combine the two alphabet set and numbers only set \n",
    "print(\"One possible combination of is the following set {}\".format(twochar_set))"
   ]
  },
  {
   "cell_type": "markdown",
   "metadata": {},
   "source": [
    "One possible combination of is the following set {0, 1, 2, 5, 7, 8, 9, 'd', 'e'}"
   ]
  },
  {
   "cell_type": "markdown",
   "metadata": {},
   "source": [
    "Keep in mind that you can use different alphabets and get a different set for ```python twochar_set ```.  \n",
    "\n",
    "```python twochar_set ``` is not unique. "
   ]
  },
  {
   "cell_type": "code",
   "execution_count": null,
   "metadata": {
    "ExecuteTime": {
     "end_time": "2020-05-19T18:05:36.344011Z",
     "start_time": "2020-05-19T18:05:36.339076Z"
    }
   },
   "outputs": [],
   "source": [
    "# How do we get 2 chars and rest letters from the array? \n",
    "\n",
    "# pick two alphabets and make a set\n",
    "num_subset = ## Make a set of two numbers of 2 and 9\n",
    "twonum_set = ## Similar to the problem above combine the num subset with only letters\n",
    "print(\"One possible combination of is the following set {}\".format(twonum_set))"
   ]
  },
  {
   "cell_type": "code",
   "execution_count": null,
   "metadata": {
    "ExecuteTime": {
     "end_time": "2020-05-19T18:05:36.351987Z",
     "start_time": "2020-05-19T18:05:36.345082Z"
    }
   },
   "outputs": [],
   "source": [
    "# Next is random sampling from a set. We can do this by doing using the random sample function\n",
    "# from the random library \n",
    "import random\n",
    "\n",
    "# Make sure that random seed is set to 1  \n",
    "random.seed(1)\n",
    "subsample = ## the module random has a function sample use that to get 10 elements from arr_set\n",
    "print(\" Subsample from arr_set {}\".format(subsample))"
   ]
  },
  {
   "cell_type": "markdown",
   "metadata": {},
   "source": [
    "Subsample from arr_set [2, 'd', 1, 7, 'h', 'g', 'f', 5, 8, 9]"
   ]
  },
  {
   "cell_type": "markdown",
   "metadata": {},
   "source": [
    "## Part 2\n",
    "\n",
    "```python\n",
    "P = [4,6,12,1,6,7,14,17,5,13,8,9,19,16,19,5,15,15,0,18]\n",
    "S = [5,0,3,11,3,7,9,3,5,2]\n",
    "```\n",
    "\n",
    "* Check if S is the subset of P.\n",
    "\n",
    " "
   ]
  },
  {
   "cell_type": "code",
   "execution_count": null,
   "metadata": {
    "ExecuteTime": {
     "end_time": "2020-05-19T18:05:36.357892Z",
     "start_time": "2020-05-19T18:05:36.353160Z"
    }
   },
   "outputs": [],
   "source": [
    "P = [4,6,12,1,6,7,14,17,5,13,8,9,19,16,19,5,15,15,0,18]\n",
    "S = [5,0,3,11,3,7,9,3,5,2]\n",
    "\n",
    "P_set = set(P)\n",
    "S_set = set(S)\n",
    "\n",
    "is_subset = ## Check if S is a subset of P\n",
    "\n",
    "print(\"S is a subset of P: {}\".format(is_subset))"
   ]
  },
  {
   "cell_type": "markdown",
   "metadata": {},
   "source": [
    "* If S is not a subset of P then create a new set with elements of S which also exist in P, using set operations.\n"
   ]
  },
  {
   "cell_type": "code",
   "execution_count": null,
   "metadata": {
    "ExecuteTime": {
     "end_time": "2020-05-19T18:05:36.363930Z",
     "start_time": "2020-05-19T18:05:36.358791Z"
    }
   },
   "outputs": [],
   "source": [
    "P_intersect_S = ## Get the intersection of sets P and S \n",
    "print(\"Elements common to both P and S are {}\".format(P_intersect_S))"
   ]
  },
  {
   "cell_type": "markdown",
   "metadata": {},
   "source": [
    "\n",
    "* For the sets P and S calculate:\n",
    "    * Union of Sets - S $\\cup$ P\n",
    "    * Difference of Sets - Both S-P and P-S\n"
   ]
  },
  {
   "cell_type": "code",
   "execution_count": null,
   "metadata": {
    "ExecuteTime": {
     "end_time": "2020-05-19T18:05:36.369924Z",
     "start_time": "2020-05-19T18:05:36.364707Z"
    }
   },
   "outputs": [],
   "source": [
    "# Union of sets P and s \n",
    "union_PS = ## Union of P and S. You have done this before when you combined chars with nums and vice versa \n",
    "\n",
    "# difference P-S \n",
    "difference_PS = ## Difference between sets P and S\n",
    "\n",
    "# difference S-P\n",
    "\n",
    "difference_SP = ## Difference between sets S and P  \n",
    "\n",
    "print(\"Union of set P and S : {}\".format(union_PS))\n",
    "print(\"Difference of set P and S : {}\".format(difference_PS))\n",
    "print(\"Difference of set S and P : {}\".format(difference_SP))\n"
   ]
  },
  {
   "cell_type": "markdown",
   "metadata": {},
   "source": [
    "Union of set P and S : {0, 1, 2, 3, 4, 5, 6, 7, 8, 9, 11, 12, 13, 14, 15, 16, 17, 18, 19} <br>\n",
    "Difference of set P and S : {1, 4, 6, 8, 12, 13, 14, 15, 16, 17, 18, 19} <br>\n",
    "Difference of set S and P : {11, 2, 3}"
   ]
  },
  {
   "cell_type": "code",
   "execution_count": null,
   "metadata": {
    "tags": [
     "grade"
    ]
   },
   "outputs": [],
   "source": [
    "import requests\n",
    "from time import gmtime, strftime\n",
    "from IPython.display import clear_output\n",
    "\n",
    "user_ns = tuple(get_ipython().user_ns.items())\n",
    "user_id = ''\n",
    "lab_name = ''\n",
    "import os\n",
    "\n",
    "def display_result(result, res_code):\n",
    "    from IPython.display import display, HTML\n",
    "    js = \"<style>p.res {background-color: lightblue;} p.pas {color: green;text-align: center;font-size: 150%;} p.fail {color: red;text-align: center;font-size: 150%;}  p.wait {color: blue;text-align: center;font-size: 150%;} p.center {text-align: center;font-size: 200%;}</style>\"\n",
    "    if res_code == 'PASS':\n",
    "        #js = js + \"<script>$('#notebook-container').after('<p id=lastidp class=pas>%s</p>')</script>\"   % result\n",
    "        js = js + \"<script>$('#lastidp').replaceWith('<p id=lastidp class=pas>%s</p>')</script>)\"   % result\n",
    "    elif res_code == 'FAIL':\n",
    "        js = js + \"<script>$('#lastidp').replaceWith('<p id=lastidp class=fail>%s</p>')</script>\"   % result\n",
    "    else:\n",
    "        js = js + \"\"\"<script>\n",
    "        if($('#lastidp').length){\n",
    "        $('#lastidp').replaceWith('<p id=lastidp class=wait>%s</p>')\n",
    "        }else{\n",
    "        $('#notebook-container').after('<p id=lastidp class=wait>%s</p>')\n",
    "        }\n",
    "        </script>\n",
    "        \"\"\"   % (result,result)\n",
    "    display(HTML(js))\n",
    "\n",
    "display_result('','WAIT')\n",
    "    \n",
    "# if value_type == int:\n",
    "for name, value in user_ns:\n",
    "    if name == 'user_id':\n",
    "        user_id = value\n",
    "    if name == 'nb_name':\n",
    "        lab_name = value\n",
    "        lab_name = os.path.basename(lab_name).split('.')[0]\n",
    "\n",
    "input_content_file = lab_name + '.ipynb'\n",
    "\n",
    "import random\n",
    "n = random.randint(1001,3001)\n",
    "f = {'file': ( 'rnd' +  str(n) + '_' + input_content_file, open(input_content_file,'rb'))}\n",
    "d = {'user': user_id}\n",
    "r = requests.post('http://autograde.refactored.ai/uploader', data=d, files=f)\n",
    "#r = requests.post('http://localhost:5000/uploader', data=d, files=f)\n",
    "tm = strftime(\"%Y-%m-%d %H:%M:%S\", gmtime())\n",
    "msg = r.json()['result']['message'][0]\n",
    "res = r.json()['result']['result']\n",
    "answerid = r.json()['answerid']\n",
    "result = tm + ' - ' + msg + '    Answerid is : ' + str(answerid) \n",
    "#score = r.json()['result']['score']\n",
    "#result = tm + ' - ' + msg + '    Your result is : ' + res + '     And the score is : ' + str(score)\n",
    "#print(result)\n",
    "display_result(result,'WAIT')\n",
    "\n",
    "import time\n",
    "count = 0\n",
    "while True:\n",
    "    #r = requests.get('http://localhost:5000/get_result?answer_id=' + str(answerid))\n",
    "    r = requests.get('http://autograde.refactored.ai/get_result?answer_id=' + str(answerid))\n",
    "    res = r.json()['result']['result']\n",
    "    if res != 'WAIT':\n",
    "        tm = strftime(\"%Y-%m-%d %H:%M:%S\", gmtime())\n",
    "        msg = r.json()['result']['message'][0]\n",
    "        res = r.json()['result']['result']\n",
    "        score = r.json()['result']['score']\n",
    "        result = tm + ' - ' + msg + ',    Your result is : ' + res + '    And your score is : ' + str(score) \n",
    "        clear_output(wait=True)\n",
    "        break\n",
    "    else:\n",
    "        if(count ==0):\n",
    "            print('Waiting for your score......')\n",
    "        count = count + 1\n",
    "        time.sleep(10)\n",
    "        if(count > 10):\n",
    "            result = 'Error occurred during evaluation. Please resubmit.'\n",
    "            break\n",
    "\n",
    "display_result(result,res)"
   ]
  }
 ],
 "metadata": {
  "celltoolbar": "Tags",
  "kernelspec": {
   "display_name": "Python 3",
   "language": "python",
   "name": "python3"
  },
  "language_info": {
   "codemirror_mode": {
    "name": "ipython",
    "version": 3
   },
   "file_extension": ".py",
   "mimetype": "text/x-python",
   "name": "python",
   "nbconvert_exporter": "python",
   "pygments_lexer": "ipython3",
   "version": "3.7.4"
  },
  "latex_envs": {
   "LaTeX_envs_menu_present": true,
   "autoclose": false,
   "autocomplete": true,
   "bibliofile": "biblio.bib",
   "cite_by": "apalike",
   "current_citInitial": 1,
   "eqLabelWithNumbers": true,
   "eqNumInitial": 1,
   "hotkeys": {
    "equation": "Ctrl-E",
    "itemize": "Ctrl-I"
   },
   "labels_anchors": false,
   "latex_user_defs": false,
   "report_style_numbering": false,
   "user_envs_cfg": false
  },
  "toc": {
   "base_numbering": 1,
   "nav_menu": {},
   "number_sections": false,
   "sideBar": true,
   "skip_h1_title": false,
   "title_cell": "Table of Contents",
   "title_sidebar": "Contents",
   "toc_cell": false,
   "toc_position": {},
   "toc_section_display": true,
   "toc_window_display": false
  },
  "varInspector": {
   "cols": {
    "lenName": 16,
    "lenType": 16,
    "lenVar": 40
   },
   "kernels_config": {
    "python": {
     "delete_cmd_postfix": "",
     "delete_cmd_prefix": "del ",
     "library": "var_list.py",
     "varRefreshCmd": "print(var_dic_list())"
    },
    "r": {
     "delete_cmd_postfix": ") ",
     "delete_cmd_prefix": "rm(",
     "library": "var_list.r",
     "varRefreshCmd": "cat(var_dic_list()) "
    }
   },
   "types_to_exclude": [
    "module",
    "function",
    "builtin_function_or_method",
    "instance",
    "_Feature"
   ],
   "window_display": false
  }
 },
 "nbformat": 4,
 "nbformat_minor": 4
}
