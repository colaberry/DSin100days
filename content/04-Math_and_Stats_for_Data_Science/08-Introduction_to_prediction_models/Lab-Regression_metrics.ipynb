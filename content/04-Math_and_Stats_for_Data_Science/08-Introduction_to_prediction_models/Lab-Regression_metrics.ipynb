{
 "cells": [
  {
   "cell_type": "markdown",
   "metadata": {},
   "source": [
    "# Lab - Regression Metrics\n",
    "Suppose we have the following data:<br>\n",
    "x = ([5, 6, 7, 8, 9, 10, 11, 12, 13, 14])<br>\n",
    "y = ([45.6, 52.3, 64.9, 58.4, 81.2, 75.7, 89.5, 92.3, 101.2, 60.5])\n",
    "\n",
    "1) Please fit a linear regression model, using y as the target variable. <br>(Hint: use scikit-learn library's linear_model, refer to the notebook \"Regression_metrics\").<br> Assign the intercept and coefficient of the model to variable a and b, respectively. Calculate the MSE, RMSE, MAE and R-squared for this model, and assign them to variable MSE, RMSE, MAE and r_squared, respectively.\n",
    "\n",
    "2) There is another model: $y = 15 + 6.5*x$ , please calculate MSE, RMSE, MAE and R-squared. Assign them to variable MSE_1, RMSE_1, MAE_1 and r_squared_1, respectively.\n",
    "\n",
    "3) Compare these two models' RMSE and MAE. Which one has the lower RMSE? Which one has the lower MAE? If we consider the last value of y as a true outlier, which model would you pick, why? <br>(Hint: You can use bokeh to draw the regression line and compare, refer to the notebook \"Regression_metrics\")."
   ]
  },
  {
   "cell_type": "code",
   "execution_count": null,
   "metadata": {},
   "outputs": [],
   "source": [
    "# write your code below:\n"
   ]
  }
 ],
 "metadata": {
  "kernelspec": {
   "display_name": "Python 3",
   "language": "python",
   "name": "python3"
  },
  "language_info": {
   "codemirror_mode": {
    "name": "ipython",
    "version": 3
   },
   "file_extension": ".py",
   "mimetype": "text/x-python",
   "name": "python",
   "nbconvert_exporter": "python",
   "pygments_lexer": "ipython3",
   "version": "3.7.4"
  }
 },
 "nbformat": 4,
 "nbformat_minor": 2
}
