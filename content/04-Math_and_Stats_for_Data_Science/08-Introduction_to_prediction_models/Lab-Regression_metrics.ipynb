{
 "cells": [
  {
   "cell_type": "markdown",
   "metadata": {},
   "source": [
    "# Lab - Regression Metrics\n",
    "Suppose we have the following data:<br>\n",
    "x = ([5, 6, 7, 8, 9, 10, 11, 12, 13, 14])<br>\n",
    "y = ([45.6, 52.3, 64.9, 58.4, 81.2, 75.7, 89.5, 92.3, 101.2, 60.5])\n",
    "\n",
    "1) Below we have a model that fits the data(The intercept and coefficient of the model are assigned to variable b and m, respectively). Calculate the MSE, RMSE, MAE and R-squared for this model, and assign them to variable MSE, RMSE, MAE and r_squared, respectively.\n",
    "\n",
    "2) There is another model: $y = 15 + 6.5*x$, calculate MSE, RMSE, MAE and R-squared. Assign them to variable MSE_1, RMSE_1, MAE_1 and r_squared_1, respectively.\n",
    "\n",
    "3) Compare these two models' MSE and MAE. Which one has the lower MSE? Which one has the lower MAE? If we consider the last value of y as a true outlier(i.e., it can be dropped), based on these two metrics which model would you pick, why? <br>"
   ]
  },
  {
   "cell_type": "code",
   "execution_count": null,
   "metadata": {},
   "outputs": [],
   "source": [
    "import numpy as np \n",
    "from ipywidgets import interact, interactive, fixed, interact_manual\n",
    "import ipywidgets as widgets\n",
    " \n",
    "from plotly.offline import download_plotlyjs, init_notebook_mode, plot, iplot\n",
    "from plotly import graph_objs as go\n",
    "init_notebook_mode(connected=True)\n",
    "import numpy as np\n",
    "\n",
    "import random\n",
    "import pandas as pd\n",
    "from IPython.display import display, Math\n",
    "\n",
    "from bokeh.io import show, output_notebook\n",
    "from bokeh.plotting import figure, show\n",
    "from scipy.stats import norm \n",
    "from bokeh import plotting as pl\n",
    "from bokeh.models import HoverTool, Arrow, OpenHead, NormalHead, VeeHead, Label\n",
    "from bokeh.models.glyphs import Text\n",
    "import statsmodels.api as sm\n",
    "from scipy.stats import chi2_contingency\n",
    "from scipy import stats\n",
    "from statsmodels.formula.api import ols\n",
    "import statsmodels.api as sm\n",
    "output_notebook()\n",
    "import matplotlib.pyplot as plt\n",
    "from sklearn import datasets, linear_model\n",
    "from sklearn.metrics import r2_score\n"
   ]
  },
  {
   "cell_type": "code",
   "execution_count": null,
   "metadata": {},
   "outputs": [],
   "source": [
    "# Assign the data to variable x and y:\n",
    "x = np.array([5, 6, 7, 8, 9, 10, 11, 12, 13, 14])\n",
    "y = np.array([45.6, 52.3, 64.9, 58.4, 81.2, 75.7, 89.5, 92.3, 101.2, 60.5])\n",
    "\n",
    "lr = linear_model.LinearRegression()\n",
    "\n",
    "# fitting a linear regression model \n",
    "lr.fit(x.reshape(10,1), y.reshape(10,1))\n",
    "\n",
    "# predicted values\n",
    "pred_values = lr.predict(x.reshape(10,1))\n",
    "\n",
    "# Assign the intercept and coefficient to variable b and m\n",
    "b = lr.intercept_[0]\n",
    "m = lr.coef_[0][0]\n",
    "print('Intercept:', b, '\\nCoefficient:', m)\n",
    "\n",
    "# draw the first linear regression model\n",
    "tools_to_show= 'box_zoom,pan,save,hover,reset,tap,wheel_zoom'        \n",
    "fig = pl.figure(plot_width=400, plot_height=400, tools = tools_to_show)\n",
    "fig.circle(x, y, size =10)\n",
    "fig.line(x,pred_values.reshape(10,), color = \"red\", line_width =4)\n",
    "hover = fig.select(dict(type=HoverTool))\n",
    "hover.tooltips = [(\"x\", \"@x\"), (\"y\", \"@y\")]\n",
    "fig.xaxis.axis_label = \"x\"\n",
    "fig.yaxis.axis_label = \"y\"\n",
    "show(fig)"
   ]
  },
  {
   "cell_type": "code",
   "execution_count": null,
   "metadata": {
    "scrolled": false
   },
   "outputs": [],
   "source": [
    "# draw the second linear regression model:\n",
    "pred_values_1 = 6.5*x + 15\n",
    "print('Intercept:', 15, '\\nCoefficient:', 6.5)\n",
    "tools_to_show= 'box_zoom,pan,save,hover,reset,tap,wheel_zoom'        \n",
    "fig = pl.figure(plot_width=400, plot_height=400, tools = tools_to_show)\n",
    "fig.circle(x, y, size =10)\n",
    "fig.line(x,pred_values_1.reshape(10,), color = \"red\", line_width =4)\n",
    "hover = fig.select(dict(type=HoverTool))\n",
    "hover.tooltips = [(\"x\", \"@x\"), (\"y\", \"@y\")]\n",
    "fig.xaxis.axis_label = \"x\"\n",
    "fig.yaxis.axis_label = \"y\"\n",
    "show(fig)"
   ]
  },
  {
   "cell_type": "code",
   "execution_count": null,
   "metadata": {
    "scrolled": false
   },
   "outputs": [],
   "source": [
    "# Just run the above code, then write your code below:\n"
   ]
  }
 ],
 "metadata": {
  "kernelspec": {
   "display_name": "Python 3",
   "language": "python",
   "name": "python3"
  },
  "language_info": {
   "codemirror_mode": {
    "name": "ipython",
    "version": 3
   },
   "file_extension": ".py",
   "mimetype": "text/x-python",
   "name": "python",
   "nbconvert_exporter": "python",
   "pygments_lexer": "ipython3",
   "version": "3.7.4"
  }
 },
 "nbformat": 4,
 "nbformat_minor": 2
}
