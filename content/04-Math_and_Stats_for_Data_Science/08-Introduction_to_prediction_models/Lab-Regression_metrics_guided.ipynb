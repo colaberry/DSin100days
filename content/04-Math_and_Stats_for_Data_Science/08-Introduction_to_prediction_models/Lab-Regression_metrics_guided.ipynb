{
 "cells": [
  {
   "cell_type": "markdown",
   "metadata": {},
   "source": [
    "# Lab- Regression\n",
    "In this lab we will learn how to calcuate regression metrics by hand and compare their result to what we get from sklearn as well. \n",
    "This will be a good exercise in helping us understand how regression metrics are calucated.\n",
    "\n",
    "So the order of things will be: \n",
    "1) Build a regression model for randomly generated data <br>\n",
    "2) Calculate the following metrics by hand- MAE, RMSE, $\\text{R}^2$ <br> \n",
    "3) Calculate the same set of metrics using sklearn and compare \n"
   ]
  },
  {
   "cell_type": "code",
   "execution_count": 1,
   "metadata": {},
   "outputs": [],
   "source": [
    "import numpy as np\n",
    "from matplotlib import pyplot as plt\n",
    "from sklearn import linear_model, datasets, metrics\n",
    "\n",
    "\n",
    "n_points = 100\n",
    "n_outliers = 10\n",
    "\n",
    "\n",
    "x, y = datasets.make_regression(n_samples=n_points,\n",
    "                                      n_features=1,\n",
    "                                      n_informative=1,\n",
    "                                      noise=2,\n",
    "                                      random_state=0)\n"
   ]
  },
  {
   "cell_type": "code",
   "execution_count": 2,
   "metadata": {},
   "outputs": [],
   "source": [
    "lr = linear_model.LinearRegression()\n",
    "lr.fit(x,y)\n",
    "predictions = lr.predict(x)\n",
    "slope = lr.coef_\n",
    "intercept = lr.intercept_"
   ]
  },
  {
   "cell_type": "code",
   "execution_count": 24,
   "metadata": {},
   "outputs": [
    {
     "data": {
      "image/png": "[encoded data removed]",
      "text/plain": [
       "<Figure size 720x720 with 1 Axes>"
      ]
     },
     "metadata": {
      "needs_background": "light"
     },
     "output_type": "display_data"
    }
   ],
   "source": [
    "model_x = np.arange(-5,5,0.1 )\n",
    "model_line = (slope*model_x) + intercept\n",
    "plt.figure(figsize=(10,10))\n",
    "plt.scatter(x,y)\n",
    "plt.xlabel(\"x\", fontsize=25)\n",
    "plt.ylabel(\"y\", fontsize=25)\n",
    "plt.plot(model_x, model_line, c=\"red\")\n",
    "plt.xlim([-6,6])\n",
    "plt.ylim([-250, 250])\n",
    "plt.show()"
   ]
  },
  {
   "cell_type": "markdown",
   "metadata": {},
   "source": [
    "## Part 1: Manually Calcuating metrics\n"
   ]
  },
  {
   "cell_type": "code",
   "execution_count": 37,
   "metadata": {},
   "outputs": [
    {
     "name": "stdout",
     "output_type": "stream",
     "text": [
      "MAE value is 1.7548\n"
     ]
    }
   ],
   "source": [
    "# MAE: Mean absolute error \n",
    "\n",
    "inside_term = np.abs(\"####\")\n",
    "MAE = \"####\"\n",
    "print(\"MAE value is {:.4f}\".format(MAE))"
   ]
  },
  {
   "cell_type": "markdown",
   "metadata": {},
   "source": [
    "MAE value is 1.7548"
   ]
  },
  {
   "cell_type": "markdown",
   "metadata": {},
   "source": [
    "Note the  \"{:.4f}\" in the code is there to limit the output to 4 decimal places, we could just as easily have written  \"{}\" but that would output all the decimal places. The expression \"{:.2f}\" would mean 2 decimal places, hence MAE would be 1.75. +"
   ]
  },
  {
   "cell_type": "code",
   "execution_count": 30,
   "metadata": {},
   "outputs": [
    {
     "name": "stdout",
     "output_type": "stream",
     "text": [
      "MSE value is 2.1370\n"
     ]
    }
   ],
   "source": [
    "# Root Mean squared error \n",
    "\n",
    "inside_term =  np.power(\"####\") \n",
    "RMSE = np.sqrt(\"####\")\n",
    "print(\"MSE value is {:.4f}\".format(RMSE))"
   ]
  },
  {
   "cell_type": "markdown",
   "metadata": {},
   "source": [
    "MSE value is 2.1370"
   ]
  },
  {
   "cell_type": "code",
   "execution_count": 31,
   "metadata": {},
   "outputs": [
    {
     "name": "stdout",
     "output_type": "stream",
     "text": [
      "R2  value is 0.9975\n"
     ]
    }
   ],
   "source": [
    "# R^2 metric \n",
    "\n",
    "denominator = np.sum(\"####\")\n",
    "numerator = np.sum(\"####\")\n",
    "R2 = 1 - (numerator/denominator)\n",
    "print(\"R2  value is {:.4f}\".format(R2))"
   ]
  },
  {
   "cell_type": "markdown",
   "metadata": {},
   "source": [
    "R2  value is 0.9975"
   ]
  },
  {
   "cell_type": "markdown",
   "metadata": {},
   "source": [
    "# Part 2: Comparing with Sklearn's results\n"
   ]
  },
  {
   "cell_type": "code",
   "execution_count": 33,
   "metadata": {},
   "outputs": [
    {
     "name": "stdout",
     "output_type": "stream",
     "text": [
      "MAE manual vs MAE using Sklearn- \n",
      "MAE manual: 1.7548 \n",
      "MAE sklearn: 1.7548\n"
     ]
    }
   ],
   "source": [
    "# MSE \n",
    "MAE_sk = metrics.\"####\"\n",
    "print(\"MAE manual vs MAE using Sklearn- \\nMAE manual: {:.4f} \\nMAE sklearn: {:.4f}\".format(MAE, MAE_sk))"
   ]
  },
  {
   "cell_type": "markdown",
   "metadata": {},
   "source": [
    "MAE manual vs MAE using Sklearn- <br>\n",
    "MAE manual: 1.7548 <br>\n",
    "MAE sklearn: 1.7548"
   ]
  },
  {
   "cell_type": "code",
   "execution_count": 34,
   "metadata": {},
   "outputs": [
    {
     "name": "stdout",
     "output_type": "stream",
     "text": [
      "MSE manual vs MSE using Sklearn- \n",
      "MSE manual: 2.1370 \n",
      "MSE sklearn: 2.1370\n"
     ]
    }
   ],
   "source": [
    "# RMSE \n",
    "RMSE_sk = \"####\"\n",
    "print(\"MSE manual vs MSE using Sklearn- \\nMSE manual: {:.4f} \\nMSE sklearn: {:.4f}\".format(RMSE, RMSE_sk))"
   ]
  },
  {
   "cell_type": "markdown",
   "metadata": {},
   "source": [
    "MSE manual vs MSE using Sklearn- <br>\n",
    "MSE manual: 2.1370 <br>\n",
    "MSE sklearn: 2.1370"
   ]
  },
  {
   "cell_type": "code",
   "execution_count": 35,
   "metadata": {},
   "outputs": [
    {
     "name": "stdout",
     "output_type": "stream",
     "text": [
      "R2 manual vs R2 using Sklearn- \n",
      "R2 manual: 0.9975 \n",
      "R2 sklearn: 0.9975\n"
     ]
    }
   ],
   "source": [
    "# R2\n",
    "R2_sk = metrics.\"####\"\n",
    "print(\"R2 manual vs R2 using Sklearn- \\nR2 manual: {:.4f} \\nR2 sklearn: {:.4f}\".format(R2, R2_sk))"
   ]
  },
  {
   "cell_type": "markdown",
   "metadata": {},
   "source": [
    "R2 manual vs R2 using Sklearn- <br> \n",
    "R2 manual: 0.9975  <br>\n",
    "R2 sklearn: 0.9975"
   ]
  },
  {
   "cell_type": "markdown",
   "metadata": {},
   "source": [
    "# Part 3: Effect of outliers\n",
    "\n",
    "In this part we are going to explore how errors affect the value of each metrics. We want to introduce outliers and see what happens to the error values. We will displace the original x and y values and build a new model. We will calculate the errors and compare them. "
   ]
  },
  {
   "cell_type": "code",
   "execution_count": 10,
   "metadata": {},
   "outputs": [],
   "source": [
    "\n",
    "displace_index = [10, 50, 15, 20, 30,70,  88]\n",
    "displacement = [100, -75, 10, -50, -200,150,  50]\n",
    "\n",
    "\n",
    "displaced_y = y.copy()\n",
    "displaced_y[displace_index] = y[displace_index] + displacement\n"
   ]
  },
  {
   "cell_type": "code",
   "execution_count": 11,
   "metadata": {},
   "outputs": [],
   "source": [
    "lr.fit(x, displaced_y)\n",
    "displaced_preds = lr.predict(x)\n",
    "displaced_slope = lr.coef_\n",
    "displaced_intercept = lr.intercept_\n"
   ]
  },
  {
   "cell_type": "code",
   "execution_count": 28,
   "metadata": {},
   "outputs": [
    {
     "data": {
      "image/png": "[encoded data removed]",
      "text/plain": [
       "<Figure size 720x720 with 1 Axes>"
      ]
     },
     "metadata": {
      "needs_background": "light"
     },
     "output_type": "display_data"
    }
   ],
   "source": [
    "model_x = np.arange(-5,5,0.1 )\n",
    "model_line = (slope*model_x) + intercept\n",
    "displaced_model = \"####\"\n",
    "\n",
    "plt.figure(figsize=(10,10))\n",
    "plt.xlabel(\"x\", fontsize=25)\n",
    "plt.ylabel(\"y\", fontsize=25)\n",
    "plt.scatter(x,displaced_y)\n",
    "plt.plot(model_x, model_line, c=\"red\")\n",
    "plt.plot(model_x, displaced_model, c=\"green\")\n",
    "plt.xlim([-6,6])\n",
    "plt.ylim([-250, 250])\n",
    "plt.show()"
   ]
  },
  {
   "cell_type": "markdown",
   "metadata": {},
   "source": [
    "The red line is the first model that we trained and the green line is the second model for displaced points. You can see that the outliers do change the parameters i.e slope and the intercept of the model. Hence it becomes important to understand how these outliers affect error measurments we make. "
   ]
  },
  {
   "cell_type": "code",
   "execution_count": 13,
   "metadata": {},
   "outputs": [],
   "source": [
    "\n",
    "dis_mae = metrics.mean_absolute_error(displaced_preds, y)"
   ]
  },
  {
   "cell_type": "code",
   "execution_count": 14,
   "metadata": {},
   "outputs": [
    {
     "name": "stdout",
     "output_type": "stream",
     "text": [
      "New vs old values of MAE are: \n",
      "New MAE: 4.5313 \n",
      "Old MAE: 1.7548\n"
     ]
    }
   ],
   "source": [
    "print(\"New vs old values of MAE are: \\nNew MAE: {:.4f} \\nOld MAE: {:.4f}\".format(dis_mae, MAE))"
   ]
  },
  {
   "cell_type": "code",
   "execution_count": 15,
   "metadata": {},
   "outputs": [
    {
     "name": "stdout",
     "output_type": "stream",
     "text": [
      "New vs old values of RMSE are: \n",
      "New RMSE: 5.4616 \n",
      "Old RMSE: 2.1370\n"
     ]
    }
   ],
   "source": [
    "dis_rmse = np.sqrt(metrics.mean_squared_error(displaced_preds, y))\n",
    "print(\"New vs old values of RMSE are: \\nNew RMSE: {:.4f} \\nOld RMSE: {:.4f}\".format(dis_rmse, RMSE))"
   ]
  },
  {
   "cell_type": "code",
   "execution_count": 16,
   "metadata": {},
   "outputs": [
    {
     "name": "stdout",
     "output_type": "stream",
     "text": [
      "New vs old values of R2 are: \n",
      "New R2: 0.9869 \n",
      "Old R2: 0.9975\n"
     ]
    }
   ],
   "source": [
    "dis_R2 = metrics.r2_score(displaced_preds, y)\n",
    "print(\"New vs old values of R2 are: \\nNew R2: {:.4f} \\nOld R2: {:.4f}\".format(dis_R2, R2))"
   ]
  },
  {
   "cell_type": "markdown",
   "metadata": {},
   "source": [
    "Two observations about this excercise: \n",
    "1) The $\\text{R}^2$ value deoes not change by much due to the outliers. This tells us that $\\text{R}^2$ is insensitive to small number of outliers. <br>\n",
    "2) In both Part 2 and 3 you should observe that the value of $\\text{MAE} \\leq \\text{RMSE}$. As long as we dont change how we calcaute the mean, this will hold <br> \n"
   ]
  }
 ],
 "metadata": {
  "kernelspec": {
   "display_name": "Python 3",
   "language": "python",
   "name": "python3"
  },
  "language_info": {
   "codemirror_mode": {
    "name": "ipython",
    "version": 3
   },
   "file_extension": ".py",
   "mimetype": "text/x-python",
   "name": "python",
   "nbconvert_exporter": "python",
   "pygments_lexer": "ipython3",
   "version": "3.7.3"
  }
 },
 "nbformat": 4,
 "nbformat_minor": 4
}
