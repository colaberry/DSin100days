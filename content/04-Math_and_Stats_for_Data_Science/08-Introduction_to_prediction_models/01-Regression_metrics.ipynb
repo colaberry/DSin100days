{
 "cells": [
  {
   "cell_type": "markdown",
   "metadata": {},
   "source": [
    "#### Run the below code to import all libraries required to run sample code within this notebook"
   ]
  },
  {
   "cell_type": "code",
   "execution_count": 1,
   "metadata": {
    "ExecuteTime": {
     "end_time": "2019-02-20T00:10:39.169614Z",
     "start_time": "2019-02-20T00:10:32.737654Z"
    }
   },
   "outputs": [
    {
     "data": {
      "text/html": [
       "<script type=\"text/javascript\">window.PlotlyConfig = {MathJaxConfig: 'local'};</script><script type=\"text/javascript\">if (window.MathJax) {MathJax.Hub.Config({SVG: {font: \"STIX-Web\"}});}</script><script>requirejs.config({paths: { 'plotly': ['https://cdn.plot.ly/plotly-latest.min']},});if(!window._Plotly) {require(['plotly'],function(plotly) {window._Plotly=plotly;});}</script>"
      ],
      "text/vnd.plotly.v1+html": [
       "<script type=\"text/javascript\">window.PlotlyConfig = {MathJaxConfig: 'local'};</script><script type=\"text/javascript\">if (window.MathJax) {MathJax.Hub.Config({SVG: {font: \"STIX-Web\"}});}</script><script>requirejs.config({paths: { 'plotly': ['https://cdn.plot.ly/plotly-latest.min']},});if(!window._Plotly) {require(['plotly'],function(plotly) {window._Plotly=plotly;});}</script>"
      ]
     },
     "metadata": {},
     "output_type": "display_data"
    },
    {
     "data": {
      "text/html": [
       "\n",
       "    <div class=\"bk-root\">\n",
       "        <a href=\"https://bokeh.pydata.org\" target=\"_blank\" class=\"bk-logo bk-logo-small bk-logo-notebook\"></a>\n",
       "        <span id=\"5ea600c1-5c12-4a49-83e5-262e7f0de9b8\">Loading BokehJS ...</span>\n",
       "    </div>"
      ]
     },
     "metadata": {},
     "output_type": "display_data"
    },
    {
     "data": {
      "application/javascript": [
       "\n",
       "(function(root) {\n",
       "  function now() {\n",
       "    return new Date();\n",
       "  }\n",
       "\n",
       "  var force = true;\n",
       "\n",
       "  if (typeof (root._bokeh_onload_callbacks) === \"undefined\" || force === true) {\n",
       "    root._bokeh_onload_callbacks = [];\n",
       "    root._bokeh_is_loading = undefined;\n",
       "  }\n",
       "\n",
       "  var JS_MIME_TYPE = 'application/javascript';\n",
       "  var HTML_MIME_TYPE = 'text/html';\n",
       "  var EXEC_MIME_TYPE = 'application/vnd.bokehjs_exec.v0+json';\n",
       "  var CLASS_NAME = 'output_bokeh rendered_html';\n",
       "\n",
       "  /**\n",
       "   * Render data to the DOM node\n",
       "   */\n",
       "  function render(props, node) {\n",
       "    var script = document.createElement(\"script\");\n",
       "    node.appendChild(script);\n",
       "  }\n",
       "\n",
       "  /**\n",
       "   * Handle when an output is cleared or removed\n",
       "   */\n",
       "  function handleClearOutput(event, handle) {\n",
       "    var cell = handle.cell;\n",
       "\n",
       "    var id = cell.output_area._bokeh_element_id;\n",
       "    var server_id = cell.output_area._bokeh_server_id;\n",
       "    // Clean up Bokeh references\n",
       "    if (id !== undefined) {\n",
       "      Bokeh.index[id].model.document.clear();\n",
       "      delete Bokeh.index[id];\n",
       "    }\n",
       "\n",
       "    if (server_id !== undefined) {\n",
       "      // Clean up Bokeh references\n",
       "      var cmd = \"from bokeh.io.state import curstate; print(curstate().uuid_to_server['\" + server_id + \"'].get_sessions()[0].document.roots[0]._id)\";\n",
       "      cell.notebook.kernel.execute(cmd, {\n",
       "        iopub: {\n",
       "          output: function(msg) {\n",
       "            var element_id = msg.content.text.trim();\n",
       "            Bokeh.index[element_id].model.document.clear();\n",
       "            delete Bokeh.index[element_id];\n",
       "          }\n",
       "        }\n",
       "      });\n",
       "      // Destroy server and session\n",
       "      var cmd = \"import bokeh.io.notebook as ion; ion.destroy_server('\" + server_id + \"')\";\n",
       "      cell.notebook.kernel.execute(cmd);\n",
       "    }\n",
       "  }\n",
       "\n",
       "  /**\n",
       "   * Handle when a new output is added\n",
       "   */\n",
       "  function handleAddOutput(event, handle) {\n",
       "    var output_area = handle.output_area;\n",
       "    var output = handle.output;\n",
       "\n",
       "    // limit handleAddOutput to display_data with EXEC_MIME_TYPE content only\n",
       "    if ((output.output_type != \"display_data\") || (!output.data.hasOwnProperty(EXEC_MIME_TYPE))) {\n",
       "      return\n",
       "    }\n",
       "\n",
       "    var toinsert = output_area.element.find(\".\" + CLASS_NAME.split(' ')[0]);\n",
       "\n",
       "    if (output.metadata[EXEC_MIME_TYPE][\"id\"] !== undefined) {\n",
       "      toinsert[toinsert.length - 1].firstChild.textContent = output.data[JS_MIME_TYPE];\n",
       "      // store reference to embed id on output_area\n",
       "      output_area._bokeh_element_id = output.metadata[EXEC_MIME_TYPE][\"id\"];\n",
       "    }\n",
       "    if (output.metadata[EXEC_MIME_TYPE][\"server_id\"] !== undefined) {\n",
       "      var bk_div = document.createElement(\"div\");\n",
       "      bk_div.innerHTML = output.data[HTML_MIME_TYPE];\n",
       "      var script_attrs = bk_div.children[0].attributes;\n",
       "      for (var i = 0; i < script_attrs.length; i++) {\n",
       "        toinsert[toinsert.length - 1].firstChild.setAttribute(script_attrs[i].name, script_attrs[i].value);\n",
       "      }\n",
       "      // store reference to server id on output_area\n",
       "      output_area._bokeh_server_id = output.metadata[EXEC_MIME_TYPE][\"server_id\"];\n",
       "    }\n",
       "  }\n",
       "\n",
       "  function register_renderer(events, OutputArea) {\n",
       "\n",
       "    function append_mime(data, metadata, element) {\n",
       "      // create a DOM node to render to\n",
       "      var toinsert = this.create_output_subarea(\n",
       "        metadata,\n",
       "        CLASS_NAME,\n",
       "        EXEC_MIME_TYPE\n",
       "      );\n",
       "      this.keyboard_manager.register_events(toinsert);\n",
       "      // Render to node\n",
       "      var props = {data: data, metadata: metadata[EXEC_MIME_TYPE]};\n",
       "      render(props, toinsert[toinsert.length - 1]);\n",
       "      element.append(toinsert);\n",
       "      return toinsert\n",
       "    }\n",
       "\n",
       "    /* Handle when an output is cleared or removed */\n",
       "    events.on('clear_output.CodeCell', handleClearOutput);\n",
       "    events.on('delete.Cell', handleClearOutput);\n",
       "\n",
       "    /* Handle when a new output is added */\n",
       "    events.on('output_added.OutputArea', handleAddOutput);\n",
       "\n",
       "    /**\n",
       "     * Register the mime type and append_mime function with output_area\n",
       "     */\n",
       "    OutputArea.prototype.register_mime_type(EXEC_MIME_TYPE, append_mime, {\n",
       "      /* Is output safe? */\n",
       "      safe: true,\n",
       "      /* Index of renderer in `output_area.display_order` */\n",
       "      index: 0\n",
       "    });\n",
       "  }\n",
       "\n",
       "  // register the mime type if in Jupyter Notebook environment and previously unregistered\n",
       "  if (root.Jupyter !== undefined) {\n",
       "    var events = require('base/js/events');\n",
       "    var OutputArea = require('notebook/js/outputarea').OutputArea;\n",
       "\n",
       "    if (OutputArea.prototype.mime_types().indexOf(EXEC_MIME_TYPE) == -1) {\n",
       "      register_renderer(events, OutputArea);\n",
       "    }\n",
       "  }\n",
       "\n",
       "  \n",
       "  if (typeof (root._bokeh_timeout) === \"undefined\" || force === true) {\n",
       "    root._bokeh_timeout = Date.now() + 5000;\n",
       "    root._bokeh_failed_load = false;\n",
       "  }\n",
       "\n",
       "  var NB_LOAD_WARNING = {'data': {'text/html':\n",
       "     \"<div style='background-color: #fdd'>\\n\"+\n",
       "     \"<p>\\n\"+\n",
       "     \"BokehJS does not appear to have successfully loaded. If loading BokehJS from CDN, this \\n\"+\n",
       "     \"may be due to a slow or bad network connection. Possible fixes:\\n\"+\n",
       "     \"</p>\\n\"+\n",
       "     \"<ul>\\n\"+\n",
       "     \"<li>re-rerun `output_notebook()` to attempt to load from CDN again, or</li>\\n\"+\n",
       "     \"<li>use INLINE resources instead, as so:</li>\\n\"+\n",
       "     \"</ul>\\n\"+\n",
       "     \"<code>\\n\"+\n",
       "     \"from bokeh.resources import INLINE\\n\"+\n",
       "     \"output_notebook(resources=INLINE)\\n\"+\n",
       "     \"</code>\\n\"+\n",
       "     \"</div>\"}};\n",
       "\n",
       "  function display_loaded() {\n",
       "    var el = document.getElementById(\"5ea600c1-5c12-4a49-83e5-262e7f0de9b8\");\n",
       "    if (el != null) {\n",
       "      el.textContent = \"BokehJS is loading...\";\n",
       "    }\n",
       "    if (root.Bokeh !== undefined) {\n",
       "      if (el != null) {\n",
       "        el.textContent = \"BokehJS \" + root.Bokeh.version + \" successfully loaded.\";\n",
       "      }\n",
       "    } else if (Date.now() < root._bokeh_timeout) {\n",
       "      setTimeout(display_loaded, 100)\n",
       "    }\n",
       "  }\n",
       "\n",
       "\n",
       "  function run_callbacks() {\n",
       "    try {\n",
       "      root._bokeh_onload_callbacks.forEach(function(callback) { callback() });\n",
       "    }\n",
       "    finally {\n",
       "      delete root._bokeh_onload_callbacks\n",
       "    }\n",
       "    console.info(\"Bokeh: all callbacks have finished\");\n",
       "  }\n",
       "\n",
       "  function load_libs(js_urls, callback) {\n",
       "    root._bokeh_onload_callbacks.push(callback);\n",
       "    if (root._bokeh_is_loading > 0) {\n",
       "      console.log(\"Bokeh: BokehJS is being loaded, scheduling callback at\", now());\n",
       "      return null;\n",
       "    }\n",
       "    if (js_urls == null || js_urls.length === 0) {\n",
       "      run_callbacks();\n",
       "      return null;\n",
       "    }\n",
       "    console.log(\"Bokeh: BokehJS not loaded, scheduling load and callback at\", now());\n",
       "    root._bokeh_is_loading = js_urls.length;\n",
       "    for (var i = 0; i < js_urls.length; i++) {\n",
       "      var url = js_urls[i];\n",
       "      var s = document.createElement('script');\n",
       "      s.src = url;\n",
       "      s.async = false;\n",
       "      s.onreadystatechange = s.onload = function() {\n",
       "        root._bokeh_is_loading--;\n",
       "        if (root._bokeh_is_loading === 0) {\n",
       "          console.log(\"Bokeh: all BokehJS libraries loaded\");\n",
       "          run_callbacks()\n",
       "        }\n",
       "      };\n",
       "      s.onerror = function() {\n",
       "        console.warn(\"failed to load library \" + url);\n",
       "      };\n",
       "      console.log(\"Bokeh: injecting script tag for BokehJS library: \", url);\n",
       "      document.getElementsByTagName(\"head\")[0].appendChild(s);\n",
       "    }\n",
       "  };var element = document.getElementById(\"5ea600c1-5c12-4a49-83e5-262e7f0de9b8\");\n",
       "  if (element == null) {\n",
       "    console.log(\"Bokeh: ERROR: autoload.js configured with elementid '5ea600c1-5c12-4a49-83e5-262e7f0de9b8' but no matching script tag was found. \")\n",
       "    return false;\n",
       "  }\n",
       "\n",
       "  var js_urls = [\"https://cdn.pydata.org/bokeh/release/bokeh-0.12.16.min.js\", \"https://cdn.pydata.org/bokeh/release/bokeh-widgets-0.12.16.min.js\", \"https://cdn.pydata.org/bokeh/release/bokeh-tables-0.12.16.min.js\", \"https://cdn.pydata.org/bokeh/release/bokeh-gl-0.12.16.min.js\"];\n",
       "\n",
       "  var inline_js = [\n",
       "    function(Bokeh) {\n",
       "      Bokeh.set_log_level(\"info\");\n",
       "    },\n",
       "    \n",
       "    function(Bokeh) {\n",
       "      \n",
       "    },\n",
       "    function(Bokeh) {\n",
       "      console.log(\"Bokeh: injecting CSS: https://cdn.pydata.org/bokeh/release/bokeh-0.12.16.min.css\");\n",
       "      Bokeh.embed.inject_css(\"https://cdn.pydata.org/bokeh/release/bokeh-0.12.16.min.css\");\n",
       "      console.log(\"Bokeh: injecting CSS: https://cdn.pydata.org/bokeh/release/bokeh-widgets-0.12.16.min.css\");\n",
       "      Bokeh.embed.inject_css(\"https://cdn.pydata.org/bokeh/release/bokeh-widgets-0.12.16.min.css\");\n",
       "      console.log(\"Bokeh: injecting CSS: https://cdn.pydata.org/bokeh/release/bokeh-tables-0.12.16.min.css\");\n",
       "      Bokeh.embed.inject_css(\"https://cdn.pydata.org/bokeh/release/bokeh-tables-0.12.16.min.css\");\n",
       "    }\n",
       "  ];\n",
       "\n",
       "  function run_inline_js() {\n",
       "    \n",
       "    if ((root.Bokeh !== undefined) || (force === true)) {\n",
       "      for (var i = 0; i < inline_js.length; i++) {\n",
       "        inline_js[i].call(root, root.Bokeh);\n",
       "      }if (force === true) {\n",
       "        display_loaded();\n",
       "      }} else if (Date.now() < root._bokeh_timeout) {\n",
       "      setTimeout(run_inline_js, 100);\n",
       "    } else if (!root._bokeh_failed_load) {\n",
       "      console.log(\"Bokeh: BokehJS failed to load within specified timeout.\");\n",
       "      root._bokeh_failed_load = true;\n",
       "    } else if (force !== true) {\n",
       "      var cell = $(document.getElementById(\"5ea600c1-5c12-4a49-83e5-262e7f0de9b8\")).parents('.cell').data().cell;\n",
       "      cell.output_area.append_execute_result(NB_LOAD_WARNING)\n",
       "    }\n",
       "\n",
       "  }\n",
       "\n",
       "  if (root._bokeh_is_loading === 0) {\n",
       "    console.log(\"Bokeh: BokehJS loaded, going straight to plotting\");\n",
       "    run_inline_js();\n",
       "  } else {\n",
       "    load_libs(js_urls, function() {\n",
       "      console.log(\"Bokeh: BokehJS plotting callback run at\", now());\n",
       "      run_inline_js();\n",
       "    });\n",
       "  }\n",
       "}(window));"
      ],
      "application/vnd.bokehjs_load.v0+json": "\n(function(root) {\n  function now() {\n    return new Date();\n  }\n\n  var force = true;\n\n  if (typeof (root._bokeh_onload_callbacks) === \"undefined\" || force === true) {\n    root._bokeh_onload_callbacks = [];\n    root._bokeh_is_loading = undefined;\n  }\n\n  \n\n  \n  if (typeof (root._bokeh_timeout) === \"undefined\" || force === true) {\n    root._bokeh_timeout = Date.now() + 5000;\n    root._bokeh_failed_load = false;\n  }\n\n  var NB_LOAD_WARNING = {'data': {'text/html':\n     \"<div style='background-color: #fdd'>\\n\"+\n     \"<p>\\n\"+\n     \"BokehJS does not appear to have successfully loaded. If loading BokehJS from CDN, this \\n\"+\n     \"may be due to a slow or bad network connection. Possible fixes:\\n\"+\n     \"</p>\\n\"+\n     \"<ul>\\n\"+\n     \"<li>re-rerun `output_notebook()` to attempt to load from CDN again, or</li>\\n\"+\n     \"<li>use INLINE resources instead, as so:</li>\\n\"+\n     \"</ul>\\n\"+\n     \"<code>\\n\"+\n     \"from bokeh.resources import INLINE\\n\"+\n     \"output_notebook(resources=INLINE)\\n\"+\n     \"</code>\\n\"+\n     \"</div>\"}};\n\n  function display_loaded() {\n    var el = document.getElementById(\"5ea600c1-5c12-4a49-83e5-262e7f0de9b8\");\n    if (el != null) {\n      el.textContent = \"BokehJS is loading...\";\n    }\n    if (root.Bokeh !== undefined) {\n      if (el != null) {\n        el.textContent = \"BokehJS \" + root.Bokeh.version + \" successfully loaded.\";\n      }\n    } else if (Date.now() < root._bokeh_timeout) {\n      setTimeout(display_loaded, 100)\n    }\n  }\n\n\n  function run_callbacks() {\n    try {\n      root._bokeh_onload_callbacks.forEach(function(callback) { callback() });\n    }\n    finally {\n      delete root._bokeh_onload_callbacks\n    }\n    console.info(\"Bokeh: all callbacks have finished\");\n  }\n\n  function load_libs(js_urls, callback) {\n    root._bokeh_onload_callbacks.push(callback);\n    if (root._bokeh_is_loading > 0) {\n      console.log(\"Bokeh: BokehJS is being loaded, scheduling callback at\", now());\n      return null;\n    }\n    if (js_urls == null || js_urls.length === 0) {\n      run_callbacks();\n      return null;\n    }\n    console.log(\"Bokeh: BokehJS not loaded, scheduling load and callback at\", now());\n    root._bokeh_is_loading = js_urls.length;\n    for (var i = 0; i < js_urls.length; i++) {\n      var url = js_urls[i];\n      var s = document.createElement('script');\n      s.src = url;\n      s.async = false;\n      s.onreadystatechange = s.onload = function() {\n        root._bokeh_is_loading--;\n        if (root._bokeh_is_loading === 0) {\n          console.log(\"Bokeh: all BokehJS libraries loaded\");\n          run_callbacks()\n        }\n      };\n      s.onerror = function() {\n        console.warn(\"failed to load library \" + url);\n      };\n      console.log(\"Bokeh: injecting script tag for BokehJS library: \", url);\n      document.getElementsByTagName(\"head\")[0].appendChild(s);\n    }\n  };var element = document.getElementById(\"5ea600c1-5c12-4a49-83e5-262e7f0de9b8\");\n  if (element == null) {\n    console.log(\"Bokeh: ERROR: autoload.js configured with elementid '5ea600c1-5c12-4a49-83e5-262e7f0de9b8' but no matching script tag was found. \")\n    return false;\n  }\n\n  var js_urls = [\"https://cdn.pydata.org/bokeh/release/bokeh-0.12.16.min.js\", \"https://cdn.pydata.org/bokeh/release/bokeh-widgets-0.12.16.min.js\", \"https://cdn.pydata.org/bokeh/release/bokeh-tables-0.12.16.min.js\", \"https://cdn.pydata.org/bokeh/release/bokeh-gl-0.12.16.min.js\"];\n\n  var inline_js = [\n    function(Bokeh) {\n      Bokeh.set_log_level(\"info\");\n    },\n    \n    function(Bokeh) {\n      \n    },\n    function(Bokeh) {\n      console.log(\"Bokeh: injecting CSS: https://cdn.pydata.org/bokeh/release/bokeh-0.12.16.min.css\");\n      Bokeh.embed.inject_css(\"https://cdn.pydata.org/bokeh/release/bokeh-0.12.16.min.css\");\n      console.log(\"Bokeh: injecting CSS: https://cdn.pydata.org/bokeh/release/bokeh-widgets-0.12.16.min.css\");\n      Bokeh.embed.inject_css(\"https://cdn.pydata.org/bokeh/release/bokeh-widgets-0.12.16.min.css\");\n      console.log(\"Bokeh: injecting CSS: https://cdn.pydata.org/bokeh/release/bokeh-tables-0.12.16.min.css\");\n      Bokeh.embed.inject_css(\"https://cdn.pydata.org/bokeh/release/bokeh-tables-0.12.16.min.css\");\n    }\n  ];\n\n  function run_inline_js() {\n    \n    if ((root.Bokeh !== undefined) || (force === true)) {\n      for (var i = 0; i < inline_js.length; i++) {\n        inline_js[i].call(root, root.Bokeh);\n      }if (force === true) {\n        display_loaded();\n      }} else if (Date.now() < root._bokeh_timeout) {\n      setTimeout(run_inline_js, 100);\n    } else if (!root._bokeh_failed_load) {\n      console.log(\"Bokeh: BokehJS failed to load within specified timeout.\");\n      root._bokeh_failed_load = true;\n    } else if (force !== true) {\n      var cell = $(document.getElementById(\"5ea600c1-5c12-4a49-83e5-262e7f0de9b8\")).parents('.cell').data().cell;\n      cell.output_area.append_execute_result(NB_LOAD_WARNING)\n    }\n\n  }\n\n  if (root._bokeh_is_loading === 0) {\n    console.log(\"Bokeh: BokehJS loaded, going straight to plotting\");\n    run_inline_js();\n  } else {\n    load_libs(js_urls, function() {\n      console.log(\"Bokeh: BokehJS plotting callback run at\", now());\n      run_inline_js();\n    });\n  }\n}(window));"
     },
     "metadata": {},
     "output_type": "display_data"
    }
   ],
   "source": [
    "import numpy as np \n",
    "from ipywidgets import interact, interactive, fixed, interact_manual\n",
    "import ipywidgets as widgets\n",
    " \n",
    "from plotly.offline import download_plotlyjs, init_notebook_mode, plot, iplot\n",
    "from plotly import graph_objs as go\n",
    "init_notebook_mode(connected=True)\n",
    "import numpy as np\n",
    "\n",
    "import random\n",
    "import pandas as pd\n",
    "from IPython.display import display, Math\n",
    "\n",
    "from bokeh.io import show, output_notebook\n",
    "from bokeh.plotting import figure, show\n",
    "from scipy.stats import norm \n",
    "from bokeh import plotting as pl\n",
    "from bokeh.models import HoverTool, Arrow, OpenHead, NormalHead, VeeHead, Label\n",
    "from bokeh.models.glyphs import Text\n",
    "import statsmodels.api as sm\n",
    "from scipy.stats import chi2_contingency\n",
    "from scipy import stats\n",
    "from statsmodels.formula.api import ols\n",
    "import statsmodels.api as sm\n",
    "output_notebook()\n",
    "import matplotlib.pyplot as plt\n",
    "from sklearn import datasets, linear_model\n"
   ]
  },
  {
   "cell_type": "markdown",
   "metadata": {
    "hide_input": true
   },
   "source": [
    "### Solution code\n",
    "\n",
    "```python\n",
    "# Just run above code\n",
    "```"
   ]
  },
  {
   "cell_type": "markdown",
   "metadata": {},
   "source": [
    "In this notebook we are going to look at the various metrics that we can use for evaluating our regression machine learning modules. This a crucial topic since in most scenarios when you talk about the success of your model, you will be presenting these metrics as a quantitative measure of that success. \n",
    "\n",
    "We shall be talking about the following regression metrics- \n",
    "\n",
    "1)  Mean square error (MSE) <br>\n",
    "2)  Root mean square error (RMSE)<br>\n",
    "3)  Mean absolute error (MAE)<br>\n",
    "4)  R-squared error ($\\text{R}^2$)<br>\n",
    "\n",
    "To do all this first we are going to define a regression problem.Then we are going to fit a linear regression model to it, get predicted values from it and then use our metrics to see how well it works. So let's begin by first defining our regression problem. \n",
    "\n",
    "Suppose you work in the construction industry, you are tasked with finding an appropriate length beam to hold a large amount of weight. You ran a few experiments with various lengths of steel beams and they broke at certain weights. You recorded those and plotted them. The plot below represents the data that you collected.*\n",
    "\n",
    "*Note this is artificial data, it was generated for purposes of demonstration. \n"
   ]
  },
  {
   "cell_type": "code",
   "execution_count": 2,
   "metadata": {
    "ExecuteTime": {
     "end_time": "2019-02-20T00:10:39.181588Z",
     "start_time": "2019-02-20T00:10:39.172607Z"
    }
   },
   "outputs": [],
   "source": [
    "weight = np.array([ 90.3, 113.8, 149.7, 167.1,\n",
    "       164.6, 184.7, 152.8, 218.0,\n",
    "       165.6, 225.7])\n",
    "length_beam= np.array([50, 55, 60, 65, 70, 75, 80, 85, 90, 95])"
   ]
  },
  {
   "cell_type": "markdown",
   "metadata": {
    "hide_input": true
   },
   "source": [
    "### Solution code\n",
    "\n",
    "```python\n",
    "# Just run above code\n",
    "```"
   ]
  },
  {
   "cell_type": "markdown",
   "metadata": {},
   "source": [
    "We are going to calculate each value \"by hand\" and by sci-kit learn as well.  Additionally, we are going to move our data points around."
   ]
  },
  {
   "cell_type": "code",
   "execution_count": 19,
   "metadata": {
    "ExecuteTime": {
     "end_time": "2019-02-20T00:10:39.394023Z",
     "start_time": "2019-02-20T00:10:39.184576Z"
    }
   },
   "outputs": [
    {
     "data": {
      "text/html": [
       "\n",
       "<div class=\"bk-root\">\n",
       "    <div class=\"bk-plotdiv\" id=\"799503fd-1e6c-4239-9177-d4c12f8ee3c7\"></div>\n",
       "</div>"
      ]
     },
     "metadata": {},
     "output_type": "display_data"
    },
    {
     "data": {
      "application/javascript": [
       "(function(root) {\n",
       "  function embed_document(root) {\n",
       "    \n",
       "  var docs_json = {\"837f250d-16da-427d-a2a5-1f7e87904b6b\":{\"roots\":{\"references\":[{\"attributes\":{\"callback\":null},\"id\":\"63b436da-6a5e-4d24-9153-d8da4b3465d1\",\"type\":\"TapTool\"},{\"attributes\":{},\"id\":\"70d940d6-98de-4da6-b478-ca47df089500\",\"type\":\"BasicTicker\"},{\"attributes\":{},\"id\":\"4f326adc-91a0-471f-90c6-ec153f5e2853\",\"type\":\"WheelZoomTool\"},{\"attributes\":{\"dimension\":1,\"plot\":{\"id\":\"d7a9151c-36d8-4b2b-af09-bb2e6c3f1e03\",\"subtype\":\"Figure\",\"type\":\"Plot\"},\"ticker\":{\"id\":\"70d940d6-98de-4da6-b478-ca47df089500\",\"type\":\"BasicTicker\"}},\"id\":\"e9efe4fe-b1c2-485d-8d7f-62cd74528233\",\"type\":\"Grid\"},{\"attributes\":{\"data_source\":{\"id\":\"88646bb2-25ea-4d37-9505-5751171761a9\",\"type\":\"ColumnDataSource\"},\"glyph\":{\"id\":\"7998a45d-e372-47cd-965a-365c83c076d9\",\"type\":\"Circle\"},\"hover_glyph\":null,\"muted_glyph\":null,\"nonselection_glyph\":{\"id\":\"3b404550-2fbe-4b9d-9caa-995993420383\",\"type\":\"Circle\"},\"selection_glyph\":null,\"view\":{\"id\":\"4dd02693-62fc-406a-8a1a-5f5cad6ecc2b\",\"type\":\"CDSView\"}},\"id\":\"62807362-0b44-4d8a-bc62-3a3f47d1878b\",\"type\":\"GlyphRenderer\"},{\"attributes\":{\"fill_color\":{\"value\":\"#1f77b4\"},\"line_color\":{\"value\":\"#1f77b4\"},\"size\":{\"units\":\"screen\",\"value\":10},\"x\":{\"field\":\"x\"},\"y\":{\"field\":\"y\"}},\"id\":\"7998a45d-e372-47cd-965a-365c83c076d9\",\"type\":\"Circle\"},{\"attributes\":{\"plot\":null,\"text\":\"\"},\"id\":\"44710a47-1144-4dae-a7af-f031ab7352ef\",\"type\":\"Title\"},{\"attributes\":{\"below\":[{\"id\":\"754b2645-2305-4c61-a83d-a8c16a09e719\",\"type\":\"LinearAxis\"}],\"left\":[{\"id\":\"3f126b08-b359-4ed6-ab00-411235fa73c0\",\"type\":\"LinearAxis\"}],\"plot_height\":400,\"plot_width\":400,\"renderers\":[{\"id\":\"754b2645-2305-4c61-a83d-a8c16a09e719\",\"type\":\"LinearAxis\"},{\"id\":\"2e44743d-2a22-4b3e-a4e0-0e0893e62af3\",\"type\":\"Grid\"},{\"id\":\"3f126b08-b359-4ed6-ab00-411235fa73c0\",\"type\":\"LinearAxis\"},{\"id\":\"e9efe4fe-b1c2-485d-8d7f-62cd74528233\",\"type\":\"Grid\"},{\"id\":\"3da05ac1-8261-4f2c-8ce8-5233a6ed1199\",\"type\":\"BoxAnnotation\"},{\"id\":\"62807362-0b44-4d8a-bc62-3a3f47d1878b\",\"type\":\"GlyphRenderer\"}],\"title\":{\"id\":\"44710a47-1144-4dae-a7af-f031ab7352ef\",\"type\":\"Title\"},\"toolbar\":{\"id\":\"fbe35a40-99fd-45d6-b73b-a548164e4b77\",\"type\":\"Toolbar\"},\"x_range\":{\"id\":\"9d7a1568-5f02-481c-ba2f-d643e84b9383\",\"type\":\"DataRange1d\"},\"x_scale\":{\"id\":\"1b522cd7-a139-4c03-9213-774b474e89de\",\"type\":\"LinearScale\"},\"y_range\":{\"id\":\"1c0f7f53-0d57-48f2-b8f0-b8e20a9ee0b9\",\"type\":\"DataRange1d\"},\"y_scale\":{\"id\":\"c7d10378-e21d-4619-ba6f-986f030b384a\",\"type\":\"LinearScale\"}},\"id\":\"d7a9151c-36d8-4b2b-af09-bb2e6c3f1e03\",\"subtype\":\"Figure\",\"type\":\"Plot\"},{\"attributes\":{},\"id\":\"6c2b12e8-f130-438f-929c-a6e3b809b5ed\",\"type\":\"BasicTickFormatter\"},{\"attributes\":{},\"id\":\"234cbac4-e1e3-4641-b616-4b727b2571fe\",\"type\":\"UnionRenderers\"},{\"attributes\":{\"bottom_units\":\"screen\",\"fill_alpha\":{\"value\":0.5},\"fill_color\":{\"value\":\"lightgrey\"},\"left_units\":\"screen\",\"level\":\"overlay\",\"line_alpha\":{\"value\":1.0},\"line_color\":{\"value\":\"black\"},\"line_dash\":[4,4],\"line_width\":{\"value\":2},\"plot\":null,\"render_mode\":\"css\",\"right_units\":\"screen\",\"top_units\":\"screen\"},\"id\":\"3da05ac1-8261-4f2c-8ce8-5233a6ed1199\",\"type\":\"BoxAnnotation\"},{\"attributes\":{\"callback\":null,\"data\":{\"x\":{\"__ndarray__\":\"MgAAADcAAAA8AAAAQQAAAEYAAABLAAAAUAAAAFUAAABaAAAAXwAAAA==\",\"dtype\":\"int32\",\"shape\":[10]},\"y\":{\"__ndarray__\":\"MzMzMzOTVkAzMzMzM3NcQGZmZmZmtmJAMzMzMzPjZEAzMzMzM5NkQGZmZmZmFmdAmpmZmZkZY0AAAAAAAEBrQDMzMzMzs2RAZmZmZmY2bEA=\",\"dtype\":\"float64\",\"shape\":[10]}},\"selected\":{\"id\":\"2bc3c58e-802f-4533-bfda-1fc8ed993377\",\"type\":\"Selection\"},\"selection_policy\":{\"id\":\"234cbac4-e1e3-4641-b616-4b727b2571fe\",\"type\":\"UnionRenderers\"}},\"id\":\"88646bb2-25ea-4d37-9505-5751171761a9\",\"type\":\"ColumnDataSource\"},{\"attributes\":{\"overlay\":{\"id\":\"3da05ac1-8261-4f2c-8ce8-5233a6ed1199\",\"type\":\"BoxAnnotation\"}},\"id\":\"09c4f606-8814-4969-a7c8-e92d659b9b9c\",\"type\":\"BoxZoomTool\"},{\"attributes\":{\"source\":{\"id\":\"88646bb2-25ea-4d37-9505-5751171761a9\",\"type\":\"ColumnDataSource\"}},\"id\":\"4dd02693-62fc-406a-8a1a-5f5cad6ecc2b\",\"type\":\"CDSView\"},{\"attributes\":{\"active_drag\":\"auto\",\"active_inspect\":\"auto\",\"active_scroll\":\"auto\",\"active_tap\":\"auto\",\"tools\":[{\"id\":\"09c4f606-8814-4969-a7c8-e92d659b9b9c\",\"type\":\"BoxZoomTool\"},{\"id\":\"3d882048-a4e2-4573-9864-362d47e3061c\",\"type\":\"PanTool\"},{\"id\":\"68647377-5afb-4f14-968f-136277ac9549\",\"type\":\"SaveTool\"},{\"id\":\"ddd65ed4-2595-4192-88fc-7c5c4e0448f2\",\"type\":\"HoverTool\"},{\"id\":\"9c10eb5e-4327-48ee-8330-21a6e4c9cd1d\",\"type\":\"ResetTool\"},{\"id\":\"63b436da-6a5e-4d24-9153-d8da4b3465d1\",\"type\":\"TapTool\"},{\"id\":\"4f326adc-91a0-471f-90c6-ec153f5e2853\",\"type\":\"WheelZoomTool\"}]},\"id\":\"fbe35a40-99fd-45d6-b73b-a548164e4b77\",\"type\":\"Toolbar\"},{\"attributes\":{},\"id\":\"3d882048-a4e2-4573-9864-362d47e3061c\",\"type\":\"PanTool\"},{\"attributes\":{\"callback\":null},\"id\":\"9d7a1568-5f02-481c-ba2f-d643e84b9383\",\"type\":\"DataRange1d\"},{\"attributes\":{},\"id\":\"68647377-5afb-4f14-968f-136277ac9549\",\"type\":\"SaveTool\"},{\"attributes\":{\"fill_alpha\":{\"value\":0.1},\"fill_color\":{\"value\":\"#1f77b4\"},\"line_alpha\":{\"value\":0.1},\"line_color\":{\"value\":\"#1f77b4\"},\"size\":{\"units\":\"screen\",\"value\":10},\"x\":{\"field\":\"x\"},\"y\":{\"field\":\"y\"}},\"id\":\"3b404550-2fbe-4b9d-9caa-995993420383\",\"type\":\"Circle\"},{\"attributes\":{},\"id\":\"b9002c3e-fcff-4e0e-a258-089af9a4c1f4\",\"type\":\"BasicTickFormatter\"},{\"attributes\":{\"callback\":null},\"id\":\"1c0f7f53-0d57-48f2-b8f0-b8e20a9ee0b9\",\"type\":\"DataRange1d\"},{\"attributes\":{},\"id\":\"1b522cd7-a139-4c03-9213-774b474e89de\",\"type\":\"LinearScale\"},{\"attributes\":{},\"id\":\"c7d10378-e21d-4619-ba6f-986f030b384a\",\"type\":\"LinearScale\"},{\"attributes\":{\"plot\":{\"id\":\"d7a9151c-36d8-4b2b-af09-bb2e6c3f1e03\",\"subtype\":\"Figure\",\"type\":\"Plot\"},\"ticker\":{\"id\":\"3b2989e8-6397-432d-ad33-2ab771e9d72a\",\"type\":\"BasicTicker\"}},\"id\":\"2e44743d-2a22-4b3e-a4e0-0e0893e62af3\",\"type\":\"Grid\"},{\"attributes\":{},\"id\":\"2bc3c58e-802f-4533-bfda-1fc8ed993377\",\"type\":\"Selection\"},{\"attributes\":{\"axis_label\":\"Length of beam (cm)\",\"formatter\":{\"id\":\"6c2b12e8-f130-438f-929c-a6e3b809b5ed\",\"type\":\"BasicTickFormatter\"},\"plot\":{\"id\":\"d7a9151c-36d8-4b2b-af09-bb2e6c3f1e03\",\"subtype\":\"Figure\",\"type\":\"Plot\"},\"ticker\":{\"id\":\"3b2989e8-6397-432d-ad33-2ab771e9d72a\",\"type\":\"BasicTicker\"}},\"id\":\"754b2645-2305-4c61-a83d-a8c16a09e719\",\"type\":\"LinearAxis\"},{\"attributes\":{\"callback\":null,\"renderers\":\"auto\",\"tooltips\":[[\"xvalue\",\"@x\"],[\"yvalue\",\"@y\"]]},\"id\":\"ddd65ed4-2595-4192-88fc-7c5c4e0448f2\",\"type\":\"HoverTool\"},{\"attributes\":{},\"id\":\"3b2989e8-6397-432d-ad33-2ab771e9d72a\",\"type\":\"BasicTicker\"},{\"attributes\":{},\"id\":\"9c10eb5e-4327-48ee-8330-21a6e4c9cd1d\",\"type\":\"ResetTool\"},{\"attributes\":{\"axis_label\":\"Max Weight (kg)\",\"formatter\":{\"id\":\"b9002c3e-fcff-4e0e-a258-089af9a4c1f4\",\"type\":\"BasicTickFormatter\"},\"plot\":{\"id\":\"d7a9151c-36d8-4b2b-af09-bb2e6c3f1e03\",\"subtype\":\"Figure\",\"type\":\"Plot\"},\"ticker\":{\"id\":\"70d940d6-98de-4da6-b478-ca47df089500\",\"type\":\"BasicTicker\"}},\"id\":\"3f126b08-b359-4ed6-ab00-411235fa73c0\",\"type\":\"LinearAxis\"}],\"root_ids\":[\"d7a9151c-36d8-4b2b-af09-bb2e6c3f1e03\"]},\"title\":\"Bokeh Application\",\"version\":\"0.12.16\"}};\n",
       "  var render_items = [{\"docid\":\"837f250d-16da-427d-a2a5-1f7e87904b6b\",\"elementid\":\"799503fd-1e6c-4239-9177-d4c12f8ee3c7\",\"modelid\":\"d7a9151c-36d8-4b2b-af09-bb2e6c3f1e03\"}];\n",
       "  root.Bokeh.embed.embed_items_notebook(docs_json, render_items);\n",
       "\n",
       "  }\n",
       "  if (root.Bokeh !== undefined) {\n",
       "    embed_document(root);\n",
       "  } else {\n",
       "    var attempts = 0;\n",
       "    var timer = setInterval(function(root) {\n",
       "      if (root.Bokeh !== undefined) {\n",
       "        embed_document(root);\n",
       "        clearInterval(timer);\n",
       "      }\n",
       "      attempts++;\n",
       "      if (attempts > 100) {\n",
       "        console.log(\"Bokeh: ERROR: Unable to run BokehJS code because BokehJS library is missing\")\n",
       "        clearInterval(timer);\n",
       "      }\n",
       "    }, 10, root)\n",
       "  }\n",
       "})(window);"
      ],
      "application/vnd.bokehjs_exec.v0+json": ""
     },
     "metadata": {
      "application/vnd.bokehjs_exec.v0+json": {
       "id": "d7a9151c-36d8-4b2b-af09-bb2e6c3f1e03"
      }
     },
     "output_type": "display_data"
    }
   ],
   "source": [
    "tools_to_show= 'box_zoom,pan,save,hover,reset,tap,wheel_zoom'        \n",
    "\n",
    "fig = pl.figure(plot_width=400, plot_height=400, tools = tools_to_show)\n",
    "fig.circle(length_beam, weight, size =10)\n",
    "hover = fig.select(dict(type=HoverTool))\n",
    "hover.tooltips = [(\"xvalue\", \"@x\"), (\"yvalue\", \"@y\")]\n",
    "fig.xaxis.axis_label = \"Length of beam (cm)\"\n",
    "fig.yaxis.axis_label = \"Max Weight (kg)\"\n",
    "show(fig)"
   ]
  },
  {
   "cell_type": "markdown",
   "metadata": {
    "hide_input": true
   },
   "source": [
    "### Solution code\n",
    "\n",
    "```python\n",
    "# Just run above code\n",
    "```"
   ]
  },
  {
   "cell_type": "markdown",
   "metadata": {},
   "source": [
    "For the points plotted above, let us fit a linear function so as to closely identify a linear trend in the observations. We use the linear regression model to fit a line to the above observations."
   ]
  },
  {
   "cell_type": "code",
   "execution_count": 20,
   "metadata": {
    "ExecuteTime": {
     "end_time": "2019-02-20T00:10:39.608453Z",
     "start_time": "2019-02-20T00:10:39.398189Z"
    }
   },
   "outputs": [
    {
     "data": {
      "text/html": [
       "\n",
       "<div class=\"bk-root\">\n",
       "    <div class=\"bk-plotdiv\" id=\"bf513400-c11c-4156-a8aa-f2457879b670\"></div>\n",
       "</div>"
      ]
     },
     "metadata": {},
     "output_type": "display_data"
    },
    {
     "data": {
      "application/javascript": [
       "(function(root) {\n",
       "  function embed_document(root) {\n",
       "    \n",
       "  var docs_json = {\"4a82d436-114c-4ea6-b559-ee6ea94fe34d\":{\"roots\":{\"references\":[{\"attributes\":{\"source\":{\"id\":\"d360ca0a-ebca-4e32-b630-f353bc87962f\",\"type\":\"ColumnDataSource\"}},\"id\":\"fdcabf81-5f07-43bc-a06b-a6abb7c4a6b5\",\"type\":\"CDSView\"},{\"attributes\":{},\"id\":\"9ce15263-add4-4344-9724-81aae528ca0a\",\"type\":\"Selection\"},{\"attributes\":{},\"id\":\"d687fdf7-726a-42f4-879b-b315fc218a4c\",\"type\":\"BasicTickFormatter\"},{\"attributes\":{\"source\":{\"id\":\"418775dd-4c7f-4c92-87c8-a8fbbe2dcb27\",\"type\":\"ColumnDataSource\"}},\"id\":\"8ff7ae51-77f4-4efd-86b1-4ade6844185a\",\"type\":\"CDSView\"},{\"attributes\":{},\"id\":\"f4c2c70e-3a10-4283-b80f-43ba8ddac101\",\"type\":\"BasicTickFormatter\"},{\"attributes\":{\"below\":[{\"id\":\"af8903fe-c857-47bd-ac4a-5053dabcc11c\",\"type\":\"LinearAxis\"}],\"left\":[{\"id\":\"877aefca-3b50-4778-a8f4-1307cbd29fea\",\"type\":\"LinearAxis\"}],\"plot_height\":400,\"plot_width\":400,\"renderers\":[{\"id\":\"af8903fe-c857-47bd-ac4a-5053dabcc11c\",\"type\":\"LinearAxis\"},{\"id\":\"f439d240-e8b2-43ad-9a48-65fea849d76d\",\"type\":\"Grid\"},{\"id\":\"877aefca-3b50-4778-a8f4-1307cbd29fea\",\"type\":\"LinearAxis\"},{\"id\":\"4b4e3040-3b5e-414f-9fe6-ac5cc0e1a10f\",\"type\":\"Grid\"},{\"id\":\"0049c132-54f8-450e-9e0c-2af4c11dd6af\",\"type\":\"BoxAnnotation\"},{\"id\":\"8c15d04f-535f-4a3e-83fd-379590c9153c\",\"type\":\"GlyphRenderer\"},{\"id\":\"4a231b05-f3b4-4423-b27c-5c9473c058d7\",\"type\":\"GlyphRenderer\"}],\"title\":{\"id\":\"5321e789-515d-4799-9f2c-3533f5f166a1\",\"type\":\"Title\"},\"toolbar\":{\"id\":\"27fcc238-4183-4596-bd75-cef9ac54d917\",\"type\":\"Toolbar\"},\"x_range\":{\"id\":\"cc995255-18c8-4dbc-9cff-7f2ad2dd0638\",\"type\":\"DataRange1d\"},\"x_scale\":{\"id\":\"a15954e6-6098-4d84-8511-1f9b2bac140e\",\"type\":\"LinearScale\"},\"y_range\":{\"id\":\"bc334156-a985-4cfb-87c4-9b15d2aebc22\",\"type\":\"DataRange1d\"},\"y_scale\":{\"id\":\"bf73ff98-5928-46d7-a148-85e5e8effd7b\",\"type\":\"LinearScale\"}},\"id\":\"556f867e-4f73-4658-bc1a-a2b38e41c66f\",\"subtype\":\"Figure\",\"type\":\"Plot\"},{\"attributes\":{\"callback\":null,\"data\":{\"x\":{\"__ndarray__\":\"MgAAADcAAAA8AAAAQQAAAEYAAABLAAAAUAAAAFUAAABaAAAAXwAAAA==\",\"dtype\":\"int32\",\"shape\":[10]},\"y\":{\"__ndarray__\":\"MzMzMzOTVkAzMzMzM3NcQGZmZmZmtmJAMzMzMzPjZEAzMzMzM5NkQGZmZmZmFmdAmpmZmZkZY0AAAAAAAEBrQDMzMzMzs2RAZmZmZmY2bEA=\",\"dtype\":\"float64\",\"shape\":[10]}},\"selected\":{\"id\":\"9ce15263-add4-4344-9724-81aae528ca0a\",\"type\":\"Selection\"},\"selection_policy\":{\"id\":\"6178138d-b0b2-4a65-beef-df7df71981cc\",\"type\":\"UnionRenderers\"}},\"id\":\"418775dd-4c7f-4c92-87c8-a8fbbe2dcb27\",\"type\":\"ColumnDataSource\"},{\"attributes\":{\"line_color\":\"red\",\"line_width\":4,\"x\":{\"field\":\"x\"},\"y\":{\"field\":\"y\"}},\"id\":\"dc3f255e-6060-4359-b316-72af8506d0b8\",\"type\":\"Line\"},{\"attributes\":{},\"id\":\"5a8889c2-2293-47dd-92e3-6a4033d4fd41\",\"type\":\"UnionRenderers\"},{\"attributes\":{\"active_drag\":\"auto\",\"active_inspect\":\"auto\",\"active_scroll\":\"auto\",\"active_tap\":\"auto\",\"tools\":[{\"id\":\"3f1bce1d-4c9c-4c38-a0c1-c43ff8a141e8\",\"type\":\"BoxZoomTool\"},{\"id\":\"b660a6ee-2455-4fe9-90d9-dab202716240\",\"type\":\"PanTool\"},{\"id\":\"7e3196a8-2533-4587-9453-b1efcd9c5bf8\",\"type\":\"SaveTool\"},{\"id\":\"1ef355e5-b9f9-46db-8c64-edb2d1acb99b\",\"type\":\"HoverTool\"},{\"id\":\"5ee2df71-e6bf-4c10-aa84-2a00d8c445c5\",\"type\":\"ResetTool\"},{\"id\":\"a1fbe356-616e-482f-b58d-6fdba2f79301\",\"type\":\"TapTool\"},{\"id\":\"ce5a29ce-8ac2-4c7d-adc7-705379787a43\",\"type\":\"WheelZoomTool\"}]},\"id\":\"27fcc238-4183-4596-bd75-cef9ac54d917\",\"type\":\"Toolbar\"},{\"attributes\":{\"callback\":null},\"id\":\"cc995255-18c8-4dbc-9cff-7f2ad2dd0638\",\"type\":\"DataRange1d\"},{\"attributes\":{},\"id\":\"b7f6f2de-2273-4140-8aeb-5d9614cdb36e\",\"type\":\"Selection\"},{\"attributes\":{\"callback\":null},\"id\":\"bc334156-a985-4cfb-87c4-9b15d2aebc22\",\"type\":\"DataRange1d\"},{\"attributes\":{},\"id\":\"a15954e6-6098-4d84-8511-1f9b2bac140e\",\"type\":\"LinearScale\"},{\"attributes\":{},\"id\":\"bf73ff98-5928-46d7-a148-85e5e8effd7b\",\"type\":\"LinearScale\"},{\"attributes\":{\"plot\":{\"id\":\"556f867e-4f73-4658-bc1a-a2b38e41c66f\",\"subtype\":\"Figure\",\"type\":\"Plot\"},\"ticker\":{\"id\":\"6d8a6646-92ec-4cde-808b-86891e3a4829\",\"type\":\"BasicTicker\"}},\"id\":\"f439d240-e8b2-43ad-9a48-65fea849d76d\",\"type\":\"Grid\"},{\"attributes\":{\"axis_label\":\"Length of beam (cm)\",\"formatter\":{\"id\":\"d687fdf7-726a-42f4-879b-b315fc218a4c\",\"type\":\"BasicTickFormatter\"},\"plot\":{\"id\":\"556f867e-4f73-4658-bc1a-a2b38e41c66f\",\"subtype\":\"Figure\",\"type\":\"Plot\"},\"ticker\":{\"id\":\"6d8a6646-92ec-4cde-808b-86891e3a4829\",\"type\":\"BasicTicker\"}},\"id\":\"af8903fe-c857-47bd-ac4a-5053dabcc11c\",\"type\":\"LinearAxis\"},{\"attributes\":{},\"id\":\"6d8a6646-92ec-4cde-808b-86891e3a4829\",\"type\":\"BasicTicker\"},{\"attributes\":{\"axis_label\":\"Max Weight (kg)\",\"formatter\":{\"id\":\"f4c2c70e-3a10-4283-b80f-43ba8ddac101\",\"type\":\"BasicTickFormatter\"},\"plot\":{\"id\":\"556f867e-4f73-4658-bc1a-a2b38e41c66f\",\"subtype\":\"Figure\",\"type\":\"Plot\"},\"ticker\":{\"id\":\"e88aeb7f-da18-4c80-99df-1bd088a4df41\",\"type\":\"BasicTicker\"}},\"id\":\"877aefca-3b50-4778-a8f4-1307cbd29fea\",\"type\":\"LinearAxis\"},{\"attributes\":{},\"id\":\"e88aeb7f-da18-4c80-99df-1bd088a4df41\",\"type\":\"BasicTicker\"},{\"attributes\":{\"dimension\":1,\"plot\":{\"id\":\"556f867e-4f73-4658-bc1a-a2b38e41c66f\",\"subtype\":\"Figure\",\"type\":\"Plot\"},\"ticker\":{\"id\":\"e88aeb7f-da18-4c80-99df-1bd088a4df41\",\"type\":\"BasicTicker\"}},\"id\":\"4b4e3040-3b5e-414f-9fe6-ac5cc0e1a10f\",\"type\":\"Grid\"},{\"attributes\":{},\"id\":\"6178138d-b0b2-4a65-beef-df7df71981cc\",\"type\":\"UnionRenderers\"},{\"attributes\":{\"data_source\":{\"id\":\"418775dd-4c7f-4c92-87c8-a8fbbe2dcb27\",\"type\":\"ColumnDataSource\"},\"glyph\":{\"id\":\"f1cfdf8e-cace-48e9-9bb6-9f2e1dc3db4a\",\"type\":\"Circle\"},\"hover_glyph\":null,\"muted_glyph\":null,\"nonselection_glyph\":{\"id\":\"c02f4c0f-e9a3-413f-b4ca-256564f91478\",\"type\":\"Circle\"},\"selection_glyph\":null,\"view\":{\"id\":\"8ff7ae51-77f4-4efd-86b1-4ade6844185a\",\"type\":\"CDSView\"}},\"id\":\"8c15d04f-535f-4a3e-83fd-379590c9153c\",\"type\":\"GlyphRenderer\"},{\"attributes\":{\"fill_alpha\":{\"value\":0.1},\"fill_color\":{\"value\":\"#1f77b4\"},\"line_alpha\":{\"value\":0.1},\"line_color\":{\"value\":\"#1f77b4\"},\"size\":{\"units\":\"screen\",\"value\":10},\"x\":{\"field\":\"x\"},\"y\":{\"field\":\"y\"}},\"id\":\"c02f4c0f-e9a3-413f-b4ca-256564f91478\",\"type\":\"Circle\"},{\"attributes\":{\"fill_color\":{\"value\":\"#1f77b4\"},\"line_color\":{\"value\":\"#1f77b4\"},\"size\":{\"units\":\"screen\",\"value\":10},\"x\":{\"field\":\"x\"},\"y\":{\"field\":\"y\"}},\"id\":\"f1cfdf8e-cace-48e9-9bb6-9f2e1dc3db4a\",\"type\":\"Circle\"},{\"attributes\":{\"callback\":null,\"data\":{\"x\":{\"__ndarray__\":\"MgAAADcAAAA8AAAAQQAAAEYAAABLAAAAUAAAAFUAAABaAAAAXwAAAA==\",\"dtype\":\"int32\",\"shape\":[10]},\"y\":{\"__ndarray__\":\"mn6o6YfaW0CbY7c5drteQE4k40QyzmBAzpbqbKk+YkBPCfKUIK9jQM97+byXH2VAUO4A5Q6QZkDQYAgNhgBoQFHTDzX9cGlA0UUXXXThakA=\",\"dtype\":\"float64\",\"shape\":[10]}},\"selected\":{\"id\":\"b7f6f2de-2273-4140-8aeb-5d9614cdb36e\",\"type\":\"Selection\"},\"selection_policy\":{\"id\":\"5a8889c2-2293-47dd-92e3-6a4033d4fd41\",\"type\":\"UnionRenderers\"}},\"id\":\"d360ca0a-ebca-4e32-b630-f353bc87962f\",\"type\":\"ColumnDataSource\"},{\"attributes\":{\"data_source\":{\"id\":\"d360ca0a-ebca-4e32-b630-f353bc87962f\",\"type\":\"ColumnDataSource\"},\"glyph\":{\"id\":\"dc3f255e-6060-4359-b316-72af8506d0b8\",\"type\":\"Line\"},\"hover_glyph\":null,\"muted_glyph\":null,\"nonselection_glyph\":{\"id\":\"d88e188e-fc3f-4e0f-9a02-3d8212ffe054\",\"type\":\"Line\"},\"selection_glyph\":null,\"view\":{\"id\":\"fdcabf81-5f07-43bc-a06b-a6abb7c4a6b5\",\"type\":\"CDSView\"}},\"id\":\"4a231b05-f3b4-4423-b27c-5c9473c058d7\",\"type\":\"GlyphRenderer\"},{\"attributes\":{\"bottom_units\":\"screen\",\"fill_alpha\":{\"value\":0.5},\"fill_color\":{\"value\":\"lightgrey\"},\"left_units\":\"screen\",\"level\":\"overlay\",\"line_alpha\":{\"value\":1.0},\"line_color\":{\"value\":\"black\"},\"line_dash\":[4,4],\"line_width\":{\"value\":2},\"plot\":null,\"render_mode\":\"css\",\"right_units\":\"screen\",\"top_units\":\"screen\"},\"id\":\"0049c132-54f8-450e-9e0c-2af4c11dd6af\",\"type\":\"BoxAnnotation\"},{\"attributes\":{\"overlay\":{\"id\":\"0049c132-54f8-450e-9e0c-2af4c11dd6af\",\"type\":\"BoxAnnotation\"}},\"id\":\"3f1bce1d-4c9c-4c38-a0c1-c43ff8a141e8\",\"type\":\"BoxZoomTool\"},{\"attributes\":{\"plot\":null,\"text\":\"\"},\"id\":\"5321e789-515d-4799-9f2c-3533f5f166a1\",\"type\":\"Title\"},{\"attributes\":{},\"id\":\"b660a6ee-2455-4fe9-90d9-dab202716240\",\"type\":\"PanTool\"},{\"attributes\":{},\"id\":\"7e3196a8-2533-4587-9453-b1efcd9c5bf8\",\"type\":\"SaveTool\"},{\"attributes\":{\"callback\":null,\"renderers\":\"auto\",\"tooltips\":[[\"xvalue\",\"@x\"],[\"yvalue\",\"@y\"]]},\"id\":\"1ef355e5-b9f9-46db-8c64-edb2d1acb99b\",\"type\":\"HoverTool\"},{\"attributes\":{},\"id\":\"5ee2df71-e6bf-4c10-aa84-2a00d8c445c5\",\"type\":\"ResetTool\"},{\"attributes\":{\"callback\":null},\"id\":\"a1fbe356-616e-482f-b58d-6fdba2f79301\",\"type\":\"TapTool\"},{\"attributes\":{},\"id\":\"ce5a29ce-8ac2-4c7d-adc7-705379787a43\",\"type\":\"WheelZoomTool\"},{\"attributes\":{\"line_alpha\":0.1,\"line_color\":\"#1f77b4\",\"line_width\":4,\"x\":{\"field\":\"x\"},\"y\":{\"field\":\"y\"}},\"id\":\"d88e188e-fc3f-4e0f-9a02-3d8212ffe054\",\"type\":\"Line\"}],\"root_ids\":[\"556f867e-4f73-4658-bc1a-a2b38e41c66f\"]},\"title\":\"Bokeh Application\",\"version\":\"0.12.16\"}};\n",
       "  var render_items = [{\"docid\":\"4a82d436-114c-4ea6-b559-ee6ea94fe34d\",\"elementid\":\"bf513400-c11c-4156-a8aa-f2457879b670\",\"modelid\":\"556f867e-4f73-4658-bc1a-a2b38e41c66f\"}];\n",
       "  root.Bokeh.embed.embed_items_notebook(docs_json, render_items);\n",
       "\n",
       "  }\n",
       "  if (root.Bokeh !== undefined) {\n",
       "    embed_document(root);\n",
       "  } else {\n",
       "    var attempts = 0;\n",
       "    var timer = setInterval(function(root) {\n",
       "      if (root.Bokeh !== undefined) {\n",
       "        embed_document(root);\n",
       "        clearInterval(timer);\n",
       "      }\n",
       "      attempts++;\n",
       "      if (attempts > 100) {\n",
       "        console.log(\"Bokeh: ERROR: Unable to run BokehJS code because BokehJS library is missing\")\n",
       "        clearInterval(timer);\n",
       "      }\n",
       "    }, 10, root)\n",
       "  }\n",
       "})(window);"
      ],
      "application/vnd.bokehjs_exec.v0+json": ""
     },
     "metadata": {
      "application/vnd.bokehjs_exec.v0+json": {
       "id": "556f867e-4f73-4658-bc1a-a2b38e41c66f"
      }
     },
     "output_type": "display_data"
    }
   ],
   "source": [
    "lr = linear_model.LinearRegression()\n",
    "\n",
    "# fitting a linear regression model \n",
    "lr.fit(length_beam.reshape(10,1), weight.reshape(10,1))\n",
    "\n",
    "# predicted values\n",
    "pred_values = lr.predict(length_beam.reshape(10,1))\n",
    "pred_y = lr.coef_[0]*length_beam  \n",
    "\n",
    "tools_to_show= 'box_zoom,pan,save,hover,reset,tap,wheel_zoom'        \n",
    "\n",
    "fig = pl.figure(plot_width=400, plot_height=400, tools = tools_to_show)\n",
    "fig.circle(length_beam, weight, size =10)\n",
    "fig.line(length_beam,pred_values.reshape(10,), color = \"red\", line_width =4)\n",
    "hover = fig.select(dict(type=HoverTool))\n",
    "hover.tooltips = [(\"xvalue\", \"@x\"), (\"yvalue\", \"@y\")]\n",
    "fig.xaxis.axis_label = \"Length of beam (cm)\"\n",
    "fig.yaxis.axis_label = \"Max Weight (kg)\"\n",
    "show(fig)"
   ]
  },
  {
   "cell_type": "markdown",
   "metadata": {
    "ExecuteTime": {
     "end_time": "2019-02-18T04:13:48.298324Z",
     "start_time": "2019-02-18T04:13:48.276077Z"
    },
    "hide_input": true
   },
   "source": [
    "### Solution code\n",
    "\n",
    "```python\n",
    "# Just run above code\n",
    "```"
   ]
  },
  {
   "cell_type": "markdown",
   "metadata": {
    "ExecuteTime": {
     "end_time": "2019-02-18T04:13:27.880339Z",
     "start_time": "2019-02-18T04:13:27.857464Z"
    }
   },
   "source": [
    "From the model we are able to get the predicted values. This is captured in the array labeled 'pred_values'. This is the red line in our plot. The blue points are the actual values.  Now we can use the various metrics to evaluate the model. Remember, never compare the value of one metric to the value of another metric. They are defined in different ways. Each metric will have its strengths and weaknesses. The idea is to make sure that we can   So we begin with root mean square (RMS)\n",
    "\n",
    "##  Mean square error (MSE)\n",
    "The mean square error is defined as - \n",
    "\n",
    "$\\text{MSE} =  \\dfrac{1}{\\text{N}} \\sum \\limits_{i = 1}^{i =N}( \\text {predicted values} - \\text{actual values})^2 $\n",
    "\n",
    "where- <br>\n",
    "\n",
    "N - total number of points in the dataset. In our current dataset we have 10 points. Hence N will be 10. \n",
    "\n",
    "We can calculate the mean squared error \"by hand\" i.e write our own function for it, but just to show it works from sklearn, we will use the sklearn.metrics package for this purpose. \n"
   ]
  },
  {
   "cell_type": "code",
   "execution_count": 5,
   "metadata": {
    "ExecuteTime": {
     "end_time": "2019-02-20T00:10:39.617433Z",
     "start_time": "2019-02-20T00:10:39.612078Z"
    },
    "scrolled": true
   },
   "outputs": [
    {
     "name": "stdout",
     "output_type": "stream",
     "text": [
      "mean squared error for the linear regression model 450.1398545454546\n"
     ]
    }
   ],
   "source": [
    "from sklearn.metrics import mean_squared_error\n",
    "MSE = mean_squared_error(weight, pred_values.reshape(10,1))\n",
    "print(\"mean squared error for the linear regression model {}\".format(MSE))"
   ]
  },
  {
   "cell_type": "markdown",
   "metadata": {
    "hide_input": true
   },
   "source": [
    "### Solution code\n",
    "\n",
    "```python\n",
    "# Just run above code\n",
    "```"
   ]
  },
  {
   "cell_type": "markdown",
   "metadata": {
    "ExecuteTime": {
     "end_time": "2019-02-18T19:12:15.867066Z",
     "start_time": "2019-02-18T19:12:15.859088Z"
    }
   },
   "source": [
    "You can see the value is rather large. This is because we are taking the square of the difference between the actual value and predicted value, hence even small differences will be magnified. One precaution we need to take with MSE is to keep in mind that they are very sensitive to outliers, for example, if we have a single point far away from a set of points, the error from that outlier point will dominate the MSE value hence, we must remove outlier point or use another metric that does not get affected by outliers.\n",
    "\n",
    " A closely related metric to the mean squared error is the root mean squared error (RMSE)\n",
    " \n",
    " # Root mean squared error (RMSE)\n",
    " \n",
    " The root mean squared error is simply the square root of the MSE value- \n",
    " \n",
    " $\\text{RMSE} =  \\sqrt{\\dfrac{1}{\\text{N}} \\sum \\limits_{i = 1}^{i =N}( \\text {predicted values} - \\text{actual values})^2 }$\n",
    "\n",
    "\n",
    "Why consider using the RMSE? Well for one thing it is easily interpretable. The RMSE has the same units as your predicted and actual values. For example in our case the unit of our predicted and actual values is the weight i.e kg . MSE is in the units of kg$^2$ which doesnt mean much to us but the RMSE is proportional to kg. \n",
    "\n",
    "RMSE also represents the average distance between the predicted and actually values. \n",
    "\n",
    "We implement RMSE by just taking the root of MSE \n"
   ]
  },
  {
   "cell_type": "code",
   "execution_count": 6,
   "metadata": {
    "ExecuteTime": {
     "end_time": "2019-02-20T00:10:39.634358Z",
     "start_time": "2019-02-20T00:10:39.620861Z"
    }
   },
   "outputs": [
    {
     "name": "stdout",
     "output_type": "stream",
     "text": [
      "root mean squared error for the linear regression model 21.216499582764698\n"
     ]
    }
   ],
   "source": [
    "from sklearn.metrics import mean_squared_error\n",
    "RMSE = np.sqrt(mean_squared_error(weight, pred_values.reshape(10,1)))\n",
    "\n",
    "print(\"root mean squared error for the linear regression model {}\".format(RMSE))\n"
   ]
  },
  {
   "cell_type": "markdown",
   "metadata": {
    "hide_input": true
   },
   "source": [
    "### Solution code\n",
    "\n",
    "```python\n",
    "# Just run above code\n",
    "```"
   ]
  },
  {
   "cell_type": "markdown",
   "metadata": {},
   "source": [
    "So how about a metric that is a little more robust to outliers? Lets look at mean absolute error for that. \n",
    "\n",
    "## Mean absolute error (MAE)\n",
    "\n",
    "Mathematically mean absolute error is defined as - \n",
    "$\\text{MAE} =  \\dfrac{1}{\\text{N}} \\sum \\limits_{i = 1}^{i =N} \\text{ abs}( \\text {predicted values} - \\text{actual values}) $\n",
    "\n",
    "where - <br>\n",
    "abs() represent the absolute value of the number. \n",
    "\n",
    "The MAE is just the sum of the difference between the predicted and the actual values. This has the advantage that it is not as sensitive to outlier points as MSE or RMSE. \n",
    "\n",
    "\n",
    "We can calculate the MAE in the following manner - \n"
   ]
  },
  {
   "cell_type": "code",
   "execution_count": 7,
   "metadata": {
    "ExecuteTime": {
     "end_time": "2019-02-20T00:10:39.648990Z",
     "start_time": "2019-02-20T00:10:39.638374Z"
    }
   },
   "outputs": [
    {
     "name": "stdout",
     "output_type": "stream",
     "text": [
      " mean aboslute for the linear regression model 19.17527272727273\n"
     ]
    }
   ],
   "source": [
    "from sklearn.metrics import mean_absolute_error\n",
    "MAE = mean_absolute_error(weight, pred_values.reshape(10,1))\n",
    "\n",
    "print(\" mean aboslute for the linear regression model {}\".format(MAE))\n"
   ]
  },
  {
   "cell_type": "markdown",
   "metadata": {
    "hide_input": true
   },
   "source": [
    "### Solution code\n",
    "\n",
    "```python\n",
    "# Just run above code\n",
    "```"
   ]
  },
  {
   "cell_type": "markdown",
   "metadata": {},
   "source": [
    "MAE, MSE and RMSE are absolute metrics, they are defined as measures of error from the regression line to the actual data points. The next metric we will be looking at will be relative measure of error. \n",
    "\n",
    "## R-squared \n",
    "\n",
    "The last metric we are going to look at is $R^2$. In order to define $R^2$ we need to first define something called total sum of square. \n",
    "\n",
    "Total sum of squares =  sum of squares of regression + sum of squares of error \n",
    "\n",
    "\n",
    "where - \n",
    "\n",
    "Sum of squares of regression - is defined as  $\\sum \\limits_{i =1}^{i =N}(\\text{actual points }  -  \\text{mean of all actual points} )^2$. This sum of squares represents the sum of the difference between the mean value of the points and the actual points. \n",
    "\n",
    "Sum of squares of error  - is defined as  $\\sum \\limits_{i =1}^{i =N}(\\text{actual points }-\\text{predicted points }  )^2$. This is just the sum of the squares of the distance between the fit line and the actual data points. \n",
    "\n",
    "Combining both these sums we get the total sum of squares. \n",
    "\n",
    "So $R^2$ is defined as - \n",
    "\n",
    "$R^2$ = 1- $\\dfrac{\\text{Sum of squares of regression} }{\\text{Total sum of squares} }$\n",
    "\n",
    "We call it a relative measure since we are looking what fraction of the total sum of squares is the sum of squares of regression. Since $R^2$ is a ratio, the value will vary between 0 and 1. $R^2  = 1$ would mean that data points fit perfectly to the regression line. $R^2 = 0$ mean that there is really no relationship between our x and y variable. We are going to first calculate $R^2$ for our data then see some other examples of $R^2$\n",
    "\n",
    "$R^2$ for our current data can be calculated using- \n",
    "\n"
   ]
  },
  {
   "cell_type": "code",
   "execution_count": 8,
   "metadata": {
    "ExecuteTime": {
     "end_time": "2019-02-20T00:10:39.662282Z",
     "start_time": "2019-02-20T00:10:39.652417Z"
    }
   },
   "outputs": [
    {
     "name": "stdout",
     "output_type": "stream",
     "text": [
      " r_squared for the linear regression model 0.7084518645573077\n"
     ]
    }
   ],
   "source": [
    "from sklearn.metrics import r2_score\n",
    "\n",
    "r_squared = r2_score(weight, pred_values.reshape(10,1))\n",
    "\n",
    "print(\" r_squared for the linear regression model {}\".format(r_squared))\n"
   ]
  },
  {
   "cell_type": "markdown",
   "metadata": {
    "hide_input": true
   },
   "source": [
    "### Solution code\n",
    "\n",
    "```python\n",
    "# Just run above code\n",
    "```"
   ]
  },
  {
   "cell_type": "markdown",
   "metadata": {},
   "source": [
    "We say that $R^2$ measures the goodness of fit of a model. Hence once we get a value of $R^2$ we can talk about how well our independent variable (which is the length of beam in our case ) is correlated to our dependent variable(which is the max weight ). \n",
    "\n",
    "Now let us look at some examples where we have different values of $R^2$\n",
    "\n",
    "Suppose we have data such that- \n",
    "\n",
    "y = ([111.4, 122.9, 134.4, 130.4, 157.5, 169.3, 185.5, 192.5, 203.5, 200.7])\n"
   ]
  },
  {
   "cell_type": "code",
   "execution_count": 21,
   "metadata": {
    "ExecuteTime": {
     "end_time": "2019-02-20T00:10:39.911697Z",
     "start_time": "2019-02-20T00:10:39.665301Z"
    }
   },
   "outputs": [
    {
     "data": {
      "text/html": [
       "\n",
       "<div class=\"bk-root\">\n",
       "    <div class=\"bk-plotdiv\" id=\"9b5fab88-ae20-4ab8-999d-fb56ec393d45\"></div>\n",
       "</div>"
      ]
     },
     "metadata": {},
     "output_type": "display_data"
    },
    {
     "data": {
      "application/javascript": [
       "(function(root) {\n",
       "  function embed_document(root) {\n",
       "    \n",
       "  var docs_json = {\"0d04a257-4845-46b3-b2f7-f8042cd5b70c\":{\"roots\":{\"references\":[{\"attributes\":{\"data_source\":{\"id\":\"eb7d29d8-c30f-4aee-8051-cc2ec6ffd1ed\",\"type\":\"ColumnDataSource\"},\"glyph\":{\"id\":\"5b33718c-83c6-4771-b7a9-d7de540c24c8\",\"type\":\"Circle\"},\"hover_glyph\":null,\"muted_glyph\":null,\"nonselection_glyph\":{\"id\":\"ae5b99a7-eea1-4e00-b856-e4da4d19f2c0\",\"type\":\"Circle\"},\"selection_glyph\":null,\"view\":{\"id\":\"537c9ffe-b7a9-4ab5-99cf-91d093f9019f\",\"type\":\"CDSView\"}},\"id\":\"c6d0d425-e16f-4956-84c2-8b1c7c0f396b\",\"type\":\"GlyphRenderer\"},{\"attributes\":{},\"id\":\"306b1988-4b2f-4c4e-beee-fdeb767cafc0\",\"type\":\"LinearScale\"},{\"attributes\":{\"plot\":{\"id\":\"a520c53b-c570-432c-8db5-115353dcab7b\",\"subtype\":\"Figure\",\"type\":\"Plot\"},\"ticker\":{\"id\":\"04248e1e-7656-4230-87dc-040cbeb11f11\",\"type\":\"BasicTicker\"}},\"id\":\"7b06b340-e116-49d7-9e70-d11226c2d978\",\"type\":\"Grid\"},{\"attributes\":{\"fill_color\":{\"value\":\"#1f77b4\"},\"line_color\":{\"value\":\"#1f77b4\"},\"size\":{\"units\":\"screen\",\"value\":10},\"x\":{\"field\":\"x\"},\"y\":{\"field\":\"y\"}},\"id\":\"5b33718c-83c6-4771-b7a9-d7de540c24c8\",\"type\":\"Circle\"},{\"attributes\":{\"axis_label\":\"Length of beam (cm)\",\"formatter\":{\"id\":\"9d366d06-67fd-4e06-9f5f-d602fabae38c\",\"type\":\"BasicTickFormatter\"},\"plot\":{\"id\":\"a520c53b-c570-432c-8db5-115353dcab7b\",\"subtype\":\"Figure\",\"type\":\"Plot\"},\"ticker\":{\"id\":\"04248e1e-7656-4230-87dc-040cbeb11f11\",\"type\":\"BasicTicker\"}},\"id\":\"f5695201-c35f-4758-bbf9-b9fb7ec718a8\",\"type\":\"LinearAxis\"},{\"attributes\":{},\"id\":\"04248e1e-7656-4230-87dc-040cbeb11f11\",\"type\":\"BasicTicker\"},{\"attributes\":{\"axis_label\":\"Max Weight (kg)\",\"formatter\":{\"id\":\"fbf83ba1-ab0a-4683-a33f-c03d1e69741e\",\"type\":\"BasicTickFormatter\"},\"plot\":{\"id\":\"a520c53b-c570-432c-8db5-115353dcab7b\",\"subtype\":\"Figure\",\"type\":\"Plot\"},\"ticker\":{\"id\":\"da851bf4-ce76-45af-a01d-696e6aeb8368\",\"type\":\"BasicTicker\"}},\"id\":\"49123584-fe78-4eff-be8c-a019332749f9\",\"type\":\"LinearAxis\"},{\"attributes\":{},\"id\":\"da851bf4-ce76-45af-a01d-696e6aeb8368\",\"type\":\"BasicTicker\"},{\"attributes\":{\"dimension\":1,\"plot\":{\"id\":\"a520c53b-c570-432c-8db5-115353dcab7b\",\"subtype\":\"Figure\",\"type\":\"Plot\"},\"ticker\":{\"id\":\"da851bf4-ce76-45af-a01d-696e6aeb8368\",\"type\":\"BasicTicker\"}},\"id\":\"5cdceece-383d-4030-a690-c4e43e71b626\",\"type\":\"Grid\"},{\"attributes\":{\"source\":{\"id\":\"eb7d29d8-c30f-4aee-8051-cc2ec6ffd1ed\",\"type\":\"ColumnDataSource\"}},\"id\":\"537c9ffe-b7a9-4ab5-99cf-91d093f9019f\",\"type\":\"CDSView\"},{\"attributes\":{\"fill_alpha\":{\"value\":0.1},\"fill_color\":{\"value\":\"#1f77b4\"},\"line_alpha\":{\"value\":0.1},\"line_color\":{\"value\":\"#1f77b4\"},\"size\":{\"units\":\"screen\",\"value\":10},\"x\":{\"field\":\"x\"},\"y\":{\"field\":\"y\"}},\"id\":\"ae5b99a7-eea1-4e00-b856-e4da4d19f2c0\",\"type\":\"Circle\"},{\"attributes\":{\"line_color\":\"red\",\"line_width\":4,\"x\":{\"field\":\"x\"},\"y\":{\"field\":\"y\"}},\"id\":\"16203ddb-7bfa-43cb-a66b-eaeb09e9171a\",\"type\":\"Line\"},{\"attributes\":{},\"id\":\"9d1bfaba-71d1-4d3d-92f0-a59d0170857c\",\"type\":\"Selection\"},{\"attributes\":{},\"id\":\"4b47d6b5-a2da-4af5-8080-d3ec96db2fd1\",\"type\":\"UnionRenderers\"},{\"attributes\":{\"bottom_units\":\"screen\",\"fill_alpha\":{\"value\":0.5},\"fill_color\":{\"value\":\"lightgrey\"},\"left_units\":\"screen\",\"level\":\"overlay\",\"line_alpha\":{\"value\":1.0},\"line_color\":{\"value\":\"black\"},\"line_dash\":[4,4],\"line_width\":{\"value\":2},\"plot\":null,\"render_mode\":\"css\",\"right_units\":\"screen\",\"top_units\":\"screen\"},\"id\":\"9b1988a9-1fa9-4977-912c-29934a3bd1bc\",\"type\":\"BoxAnnotation\"},{\"attributes\":{\"overlay\":{\"id\":\"9b1988a9-1fa9-4977-912c-29934a3bd1bc\",\"type\":\"BoxAnnotation\"}},\"id\":\"34b20362-3f8e-41ae-9143-b4022d9b67c3\",\"type\":\"BoxZoomTool\"},{\"attributes\":{\"source\":{\"id\":\"6cced3fe-6042-4e31-9360-ac431eff308e\",\"type\":\"ColumnDataSource\"}},\"id\":\"90bacd1d-7325-4fd5-957c-e511206f47e0\",\"type\":\"CDSView\"},{\"attributes\":{},\"id\":\"7d0b5d32-5120-45c3-ae7f-fbf9b46a05bb\",\"type\":\"PanTool\"},{\"attributes\":{},\"id\":\"533fba5c-771b-45a5-a270-d26914fd93a1\",\"type\":\"SaveTool\"},{\"attributes\":{\"callback\":null,\"renderers\":\"auto\",\"tooltips\":[[\"xvalue\",\"@x\"],[\"yvalue\",\"@y\"]]},\"id\":\"50345c36-baa9-4820-9100-e615ed03e347\",\"type\":\"HoverTool\"},{\"attributes\":{},\"id\":\"312eafde-95db-4297-8ef4-1ca6327a124b\",\"type\":\"ResetTool\"},{\"attributes\":{\"callback\":null},\"id\":\"d0747359-a532-4add-823e-7255206d37b6\",\"type\":\"TapTool\"},{\"attributes\":{},\"id\":\"b466e434-7166-4dcb-8564-643aab32643e\",\"type\":\"WheelZoomTool\"},{\"attributes\":{\"line_alpha\":0.1,\"line_color\":\"#1f77b4\",\"line_width\":4,\"x\":{\"field\":\"x\"},\"y\":{\"field\":\"y\"}},\"id\":\"c681f318-18b2-42ef-a268-97c3bf483411\",\"type\":\"Line\"},{\"attributes\":{\"active_drag\":\"auto\",\"active_inspect\":\"auto\",\"active_scroll\":\"auto\",\"active_tap\":\"auto\",\"tools\":[{\"id\":\"34b20362-3f8e-41ae-9143-b4022d9b67c3\",\"type\":\"BoxZoomTool\"},{\"id\":\"7d0b5d32-5120-45c3-ae7f-fbf9b46a05bb\",\"type\":\"PanTool\"},{\"id\":\"533fba5c-771b-45a5-a270-d26914fd93a1\",\"type\":\"SaveTool\"},{\"id\":\"50345c36-baa9-4820-9100-e615ed03e347\",\"type\":\"HoverTool\"},{\"id\":\"312eafde-95db-4297-8ef4-1ca6327a124b\",\"type\":\"ResetTool\"},{\"id\":\"d0747359-a532-4add-823e-7255206d37b6\",\"type\":\"TapTool\"},{\"id\":\"b466e434-7166-4dcb-8564-643aab32643e\",\"type\":\"WheelZoomTool\"}]},\"id\":\"b055d694-46b1-47c0-a2b8-f5d24c3628fe\",\"type\":\"Toolbar\"},{\"attributes\":{\"plot\":null,\"text\":\"\"},\"id\":\"e47a2f95-42db-41b6-ab7f-04bd0066c6db\",\"type\":\"Title\"},{\"attributes\":{\"callback\":null},\"id\":\"e3733ade-15a6-4b29-86a6-bb2bd4bf37b8\",\"type\":\"DataRange1d\"},{\"attributes\":{\"data_source\":{\"id\":\"6cced3fe-6042-4e31-9360-ac431eff308e\",\"type\":\"ColumnDataSource\"},\"glyph\":{\"id\":\"16203ddb-7bfa-43cb-a66b-eaeb09e9171a\",\"type\":\"Line\"},\"hover_glyph\":null,\"muted_glyph\":null,\"nonselection_glyph\":{\"id\":\"c681f318-18b2-42ef-a268-97c3bf483411\",\"type\":\"Line\"},\"selection_glyph\":null,\"view\":{\"id\":\"90bacd1d-7325-4fd5-957c-e511206f47e0\",\"type\":\"CDSView\"}},\"id\":\"f89d2108-f8d9-4058-9146-0021a45401ed\",\"type\":\"GlyphRenderer\"},{\"attributes\":{},\"id\":\"9d366d06-67fd-4e06-9f5f-d602fabae38c\",\"type\":\"BasicTickFormatter\"},{\"attributes\":{},\"id\":\"a10fb408-ae5d-4af4-8c87-80e2374ccbc0\",\"type\":\"Selection\"},{\"attributes\":{\"callback\":null},\"id\":\"056fe4f1-893d-4a2d-a4d8-a45d6fac7638\",\"type\":\"DataRange1d\"},{\"attributes\":{},\"id\":\"fbf83ba1-ab0a-4683-a33f-c03d1e69741e\",\"type\":\"BasicTickFormatter\"},{\"attributes\":{\"plot\":{\"id\":\"a520c53b-c570-432c-8db5-115353dcab7b\",\"subtype\":\"Figure\",\"type\":\"Plot\"},\"text\":\"r-squared = 0.96\",\"x\":50.0,\"y\":200.0},\"id\":\"d9e6709e-85f0-42a7-b6dd-2f80134cb51f\",\"type\":\"Label\"},{\"attributes\":{\"below\":[{\"id\":\"f5695201-c35f-4758-bbf9-b9fb7ec718a8\",\"type\":\"LinearAxis\"}],\"left\":[{\"id\":\"49123584-fe78-4eff-be8c-a019332749f9\",\"type\":\"LinearAxis\"}],\"plot_height\":400,\"plot_width\":400,\"renderers\":[{\"id\":\"f5695201-c35f-4758-bbf9-b9fb7ec718a8\",\"type\":\"LinearAxis\"},{\"id\":\"7b06b340-e116-49d7-9e70-d11226c2d978\",\"type\":\"Grid\"},{\"id\":\"49123584-fe78-4eff-be8c-a019332749f9\",\"type\":\"LinearAxis\"},{\"id\":\"5cdceece-383d-4030-a690-c4e43e71b626\",\"type\":\"Grid\"},{\"id\":\"9b1988a9-1fa9-4977-912c-29934a3bd1bc\",\"type\":\"BoxAnnotation\"},{\"id\":\"c6d0d425-e16f-4956-84c2-8b1c7c0f396b\",\"type\":\"GlyphRenderer\"},{\"id\":\"f89d2108-f8d9-4058-9146-0021a45401ed\",\"type\":\"GlyphRenderer\"},{\"id\":\"d9e6709e-85f0-42a7-b6dd-2f80134cb51f\",\"type\":\"Label\"}],\"title\":{\"id\":\"e47a2f95-42db-41b6-ab7f-04bd0066c6db\",\"type\":\"Title\"},\"toolbar\":{\"id\":\"b055d694-46b1-47c0-a2b8-f5d24c3628fe\",\"type\":\"Toolbar\"},\"x_range\":{\"id\":\"e3733ade-15a6-4b29-86a6-bb2bd4bf37b8\",\"type\":\"DataRange1d\"},\"x_scale\":{\"id\":\"770d0595-c1de-46c4-9a66-9785bc4f4234\",\"type\":\"LinearScale\"},\"y_range\":{\"id\":\"056fe4f1-893d-4a2d-a4d8-a45d6fac7638\",\"type\":\"DataRange1d\"},\"y_scale\":{\"id\":\"306b1988-4b2f-4c4e-beee-fdeb767cafc0\",\"type\":\"LinearScale\"}},\"id\":\"a520c53b-c570-432c-8db5-115353dcab7b\",\"subtype\":\"Figure\",\"type\":\"Plot\"},{\"attributes\":{\"callback\":null,\"data\":{\"x\":{\"__ndarray__\":\"MgAAADcAAAA8AAAAQQAAAEYAAABLAAAAUAAAAFUAAABaAAAAXwAAAA==\",\"dtype\":\"int32\",\"shape\":[10]},\"y\":{\"__ndarray__\":\"Ue4A5Q6wW0C5J4B7AnheQJCw/wj7n2BARE0/1PQDYkD46X6f7mdjQKyGvmroy2RAYCP+NeIvZkAUwD0B3JNnQMdcfczV92hAe/m8l89bakA=\",\"dtype\":\"float64\",\"shape\":[10]}},\"selected\":{\"id\":\"a10fb408-ae5d-4af4-8c87-80e2374ccbc0\",\"type\":\"Selection\"},\"selection_policy\":{\"id\":\"1c8b0c0a-36bb-4d6f-a0a7-769c9177551b\",\"type\":\"UnionRenderers\"}},\"id\":\"6cced3fe-6042-4e31-9360-ac431eff308e\",\"type\":\"ColumnDataSource\"},{\"attributes\":{\"callback\":null,\"data\":{\"x\":{\"__ndarray__\":\"MgAAADcAAAA8AAAAQQAAAEYAAABLAAAAUAAAAFUAAABaAAAAXwAAAA==\",\"dtype\":\"int32\",\"shape\":[10]},\"y\":{\"__ndarray__\":\"mpmZmZnZW0CamZmZmbleQM3MzMzMzGBAzczMzMxMYEAAAAAAALBjQJqZmZmZKWVAAAAAAAAwZ0AAAAAAABBoQAAAAAAAcGlAZmZmZmYWaUA=\",\"dtype\":\"float64\",\"shape\":[10]}},\"selected\":{\"id\":\"9d1bfaba-71d1-4d3d-92f0-a59d0170857c\",\"type\":\"Selection\"},\"selection_policy\":{\"id\":\"4b47d6b5-a2da-4af5-8080-d3ec96db2fd1\",\"type\":\"UnionRenderers\"}},\"id\":\"eb7d29d8-c30f-4aee-8051-cc2ec6ffd1ed\",\"type\":\"ColumnDataSource\"},{\"attributes\":{},\"id\":\"1c8b0c0a-36bb-4d6f-a0a7-769c9177551b\",\"type\":\"UnionRenderers\"},{\"attributes\":{},\"id\":\"770d0595-c1de-46c4-9a66-9785bc4f4234\",\"type\":\"LinearScale\"}],\"root_ids\":[\"a520c53b-c570-432c-8db5-115353dcab7b\"]},\"title\":\"Bokeh Application\",\"version\":\"0.12.16\"}};\n",
       "  var render_items = [{\"docid\":\"0d04a257-4845-46b3-b2f7-f8042cd5b70c\",\"elementid\":\"9b5fab88-ae20-4ab8-999d-fb56ec393d45\",\"modelid\":\"a520c53b-c570-432c-8db5-115353dcab7b\"}];\n",
       "  root.Bokeh.embed.embed_items_notebook(docs_json, render_items);\n",
       "\n",
       "  }\n",
       "  if (root.Bokeh !== undefined) {\n",
       "    embed_document(root);\n",
       "  } else {\n",
       "    var attempts = 0;\n",
       "    var timer = setInterval(function(root) {\n",
       "      if (root.Bokeh !== undefined) {\n",
       "        embed_document(root);\n",
       "        clearInterval(timer);\n",
       "      }\n",
       "      attempts++;\n",
       "      if (attempts > 100) {\n",
       "        console.log(\"Bokeh: ERROR: Unable to run BokehJS code because BokehJS library is missing\")\n",
       "        clearInterval(timer);\n",
       "      }\n",
       "    }, 10, root)\n",
       "  }\n",
       "})(window);"
      ],
      "application/vnd.bokehjs_exec.v0+json": ""
     },
     "metadata": {
      "application/vnd.bokehjs_exec.v0+json": {
       "id": "a520c53b-c570-432c-8db5-115353dcab7b"
      }
     },
     "output_type": "display_data"
    },
    {
     "name": "stdout",
     "output_type": "stream",
     "text": [
      " r-squared square for this distribution of points 0.9621125428397651\n"
     ]
    }
   ],
   "source": [
    "y = np.array([111.4, 122.9, 134.4, 130.4, 157.5, 169.3, 185.5, 192.5, 203.5, 200.7])\n",
    "x = length_beam\n",
    "lr = linear_model.LinearRegression()\n",
    "\n",
    "# fitting a linear regression model \n",
    "lr.fit(length_beam.reshape(10,1), y.reshape(10,1))\n",
    "\n",
    "# predicted values\n",
    "pred_values_new = lr.predict(length_beam.reshape(10,1))\n",
    "pred_y_new = lr.coef_[0]*length_beam  \n",
    "\n",
    "tools_to_show= 'box_zoom,pan,save,hover,reset,tap,wheel_zoom'        \n",
    "\n",
    "fig = pl.figure(plot_width=400, plot_height=400, tools = tools_to_show)\n",
    "fig.circle(length_beam, y, size =10)\n",
    "fig.line(length_beam,pred_values_new.reshape(10,), color = \"red\", line_width =4)\n",
    "hover = fig.select(dict(type=HoverTool))\n",
    "hover.tooltips = [(\"xvalue\", \"@x\"), (\"yvalue\", \"@y\")]\n",
    "fig.xaxis.axis_label = \"Length of beam (cm)\"\n",
    "fig.yaxis.axis_label = \"Max Weight (kg)\"\n",
    "glyph = Label(x= 50.0, y = 200.0, text = \"r-squared = \"+ str(np.round(r2_score(y, pred_values_new), 2)))\n",
    "fig.add_layout(glyph)\n",
    "show(fig)\n",
    "\n",
    "# high r-squared score\n",
    "print(\" r-squared square for this distribution of points {}\".format(r2_score(y, pred_values_new)))"
   ]
  },
  {
   "cell_type": "markdown",
   "metadata": {
    "hide_input": true
   },
   "source": [
    "### Solution code\n",
    "\n",
    "```python\n",
    "# Just run above code\n",
    "```"
   ]
  },
  {
   "cell_type": "markdown",
   "metadata": {},
   "source": [
    "Now, let us experiment with different 'y' values. We will keep the first 5 values same, but will change the later half of the y array from above to show different (and well spread out) observations. Let us see how a linear regression model would fit this new data."
   ]
  },
  {
   "cell_type": "code",
   "execution_count": 22,
   "metadata": {
    "ExecuteTime": {
     "end_time": "2019-02-20T00:10:40.144013Z",
     "start_time": "2019-02-20T00:10:39.915923Z"
    }
   },
   "outputs": [
    {
     "data": {
      "text/html": [
       "\n",
       "<div class=\"bk-root\">\n",
       "    <div class=\"bk-plotdiv\" id=\"6f82b5ef-8427-42f5-b141-0d54b5569ae6\"></div>\n",
       "</div>"
      ]
     },
     "metadata": {},
     "output_type": "display_data"
    },
    {
     "data": {
      "application/javascript": [
       "(function(root) {\n",
       "  function embed_document(root) {\n",
       "    \n",
       "  var docs_json = {\"fb0f813a-1bd3-416f-9a28-ccf52ae2781f\":{\"roots\":{\"references\":[{\"attributes\":{},\"id\":\"80a4a5e9-8e80-40bf-a770-dc9084b02520\",\"type\":\"Selection\"},{\"attributes\":{\"plot\":{\"id\":\"174c8d21-0454-489a-b85f-f51f7f600c02\",\"subtype\":\"Figure\",\"type\":\"Plot\"},\"ticker\":{\"id\":\"2cfeef6a-eb0d-4d8d-81cf-482c742a83f4\",\"type\":\"BasicTicker\"}},\"id\":\"94ec4bcd-77bb-4b3a-8e45-5be23e8eda2d\",\"type\":\"Grid\"},{\"attributes\":{\"source\":{\"id\":\"9ff7455e-c71b-42b7-8066-519c30120da3\",\"type\":\"ColumnDataSource\"}},\"id\":\"0ba9009e-d097-40fb-afa2-63ca9d519fdf\",\"type\":\"CDSView\"},{\"attributes\":{\"below\":[{\"id\":\"32c4c83e-3647-4897-8c43-6c8b499471f7\",\"type\":\"LinearAxis\"}],\"left\":[{\"id\":\"aff21c65-b7ab-4710-8de6-19859847622b\",\"type\":\"LinearAxis\"}],\"plot_height\":400,\"plot_width\":400,\"renderers\":[{\"id\":\"32c4c83e-3647-4897-8c43-6c8b499471f7\",\"type\":\"LinearAxis\"},{\"id\":\"94ec4bcd-77bb-4b3a-8e45-5be23e8eda2d\",\"type\":\"Grid\"},{\"id\":\"aff21c65-b7ab-4710-8de6-19859847622b\",\"type\":\"LinearAxis\"},{\"id\":\"b695a754-7046-4d70-96e6-0b3cd8f7fef8\",\"type\":\"Grid\"},{\"id\":\"82a166b1-1218-44be-967f-3cf40b27e0f1\",\"type\":\"BoxAnnotation\"},{\"id\":\"0aa715d7-c3d8-4958-8b5b-fa49a6d397c3\",\"type\":\"GlyphRenderer\"},{\"id\":\"865ddd67-7ac1-488e-9725-baa21584955f\",\"type\":\"GlyphRenderer\"},{\"id\":\"3bc81765-32e5-400b-b0f7-7c054557d2c4\",\"type\":\"Label\"}],\"title\":{\"id\":\"d0077d95-c197-4d72-b2f4-362518049f79\",\"type\":\"Title\"},\"toolbar\":{\"id\":\"cd7cf735-9d91-4fd7-9b6f-107656d49b5c\",\"type\":\"Toolbar\"},\"x_range\":{\"id\":\"de6e2cc6-267c-4b38-8118-8c5472b766c0\",\"type\":\"DataRange1d\"},\"x_scale\":{\"id\":\"f4843848-34d9-42fb-af56-8b0b7929586a\",\"type\":\"LinearScale\"},\"y_range\":{\"id\":\"bbfeac29-16c7-4d1b-8b6f-a08077088ee9\",\"type\":\"DataRange1d\"},\"y_scale\":{\"id\":\"8bbc65fc-4130-4937-8f9c-1c65e3e3706a\",\"type\":\"LinearScale\"}},\"id\":\"174c8d21-0454-489a-b85f-f51f7f600c02\",\"subtype\":\"Figure\",\"type\":\"Plot\"},{\"attributes\":{\"fill_alpha\":{\"value\":0.1},\"fill_color\":{\"value\":\"#1f77b4\"},\"line_alpha\":{\"value\":0.1},\"line_color\":{\"value\":\"#1f77b4\"},\"size\":{\"units\":\"screen\",\"value\":10},\"x\":{\"field\":\"x\"},\"y\":{\"field\":\"y\"}},\"id\":\"fb8f40e8-69de-4453-80f0-78ff77d57d53\",\"type\":\"Circle\"},{\"attributes\":{\"bottom_units\":\"screen\",\"fill_alpha\":{\"value\":0.5},\"fill_color\":{\"value\":\"lightgrey\"},\"left_units\":\"screen\",\"level\":\"overlay\",\"line_alpha\":{\"value\":1.0},\"line_color\":{\"value\":\"black\"},\"line_dash\":[4,4],\"line_width\":{\"value\":2},\"plot\":null,\"render_mode\":\"css\",\"right_units\":\"screen\",\"top_units\":\"screen\"},\"id\":\"82a166b1-1218-44be-967f-3cf40b27e0f1\",\"type\":\"BoxAnnotation\"},{\"attributes\":{\"callback\":null},\"id\":\"de6e2cc6-267c-4b38-8118-8c5472b766c0\",\"type\":\"DataRange1d\"},{\"attributes\":{\"axis_label\":\"Length of beam (cm)\",\"formatter\":{\"id\":\"bb018f13-2089-4a85-a385-d79858893d33\",\"type\":\"BasicTickFormatter\"},\"plot\":{\"id\":\"174c8d21-0454-489a-b85f-f51f7f600c02\",\"subtype\":\"Figure\",\"type\":\"Plot\"},\"ticker\":{\"id\":\"2cfeef6a-eb0d-4d8d-81cf-482c742a83f4\",\"type\":\"BasicTicker\"}},\"id\":\"32c4c83e-3647-4897-8c43-6c8b499471f7\",\"type\":\"LinearAxis\"},{\"attributes\":{\"line_color\":\"red\",\"line_width\":4,\"x\":{\"field\":\"x\"},\"y\":{\"field\":\"y\"}},\"id\":\"4c8b16c9-5b16-4db1-8686-3b9bc5232afd\",\"type\":\"Line\"},{\"attributes\":{\"active_drag\":\"auto\",\"active_inspect\":\"auto\",\"active_scroll\":\"auto\",\"active_tap\":\"auto\",\"tools\":[{\"id\":\"545c5a47-34ab-4be3-806f-8d642529ff7d\",\"type\":\"BoxZoomTool\"},{\"id\":\"740f0b58-bf53-45b5-9162-9dae1cec2032\",\"type\":\"PanTool\"},{\"id\":\"50681582-f2f0-40a7-a2a9-bbcdfb533a12\",\"type\":\"SaveTool\"},{\"id\":\"51a6bc06-0414-4f2e-8ab3-afb3dadc78ac\",\"type\":\"HoverTool\"},{\"id\":\"7b1f2114-f6ae-4ce6-b6dc-39b78fa4d2ee\",\"type\":\"ResetTool\"},{\"id\":\"56a6456a-96d0-4435-a121-909915e243e8\",\"type\":\"TapTool\"},{\"id\":\"c7e81215-ea92-49b6-b474-14f429cba631\",\"type\":\"WheelZoomTool\"}]},\"id\":\"cd7cf735-9d91-4fd7-9b6f-107656d49b5c\",\"type\":\"Toolbar\"},{\"attributes\":{\"callback\":null},\"id\":\"bbfeac29-16c7-4d1b-8b6f-a08077088ee9\",\"type\":\"DataRange1d\"},{\"attributes\":{},\"id\":\"f4843848-34d9-42fb-af56-8b0b7929586a\",\"type\":\"LinearScale\"},{\"attributes\":{},\"id\":\"2cfeef6a-eb0d-4d8d-81cf-482c742a83f4\",\"type\":\"BasicTicker\"},{\"attributes\":{\"overlay\":{\"id\":\"82a166b1-1218-44be-967f-3cf40b27e0f1\",\"type\":\"BoxAnnotation\"}},\"id\":\"545c5a47-34ab-4be3-806f-8d642529ff7d\",\"type\":\"BoxZoomTool\"},{\"attributes\":{\"line_alpha\":0.1,\"line_color\":\"#1f77b4\",\"line_width\":4,\"x\":{\"field\":\"x\"},\"y\":{\"field\":\"y\"}},\"id\":\"b76d2dd2-cc03-4e7c-a7a3-9c3d954e3aa0\",\"type\":\"Line\"},{\"attributes\":{\"callback\":null,\"data\":{\"x\":{\"__ndarray__\":\"MgAAADcAAAA8AAAAQQAAAEYAAABLAAAAUAAAAFUAAABaAAAAXwAAAA==\",\"dtype\":\"int32\",\"shape\":[10]},\"y\":{\"__ndarray__\":\"C9ejcD2qX0CCThvotMFfQPrFkl8s2V9AcT0K16PwX0B02kCnDQRgQDCW/GLJD2BA7FG4HoUbYECnDXTaQCdgQGPJL5b8MmBAH4XrUbg+YEA=\",\"dtype\":\"float64\",\"shape\":[10]}},\"selected\":{\"id\":\"80a4a5e9-8e80-40bf-a770-dc9084b02520\",\"type\":\"Selection\"},\"selection_policy\":{\"id\":\"0e9ec4a2-5827-49bc-ba61-cf522d052045\",\"type\":\"UnionRenderers\"}},\"id\":\"57ce1b3e-c9e1-47e0-8a0d-b4dc80e35328\",\"type\":\"ColumnDataSource\"},{\"attributes\":{\"axis_label\":\"Max Weight (kg)\",\"formatter\":{\"id\":\"9f9354da-7a8e-4f38-a3e0-0a25f3718beb\",\"type\":\"BasicTickFormatter\"},\"plot\":{\"id\":\"174c8d21-0454-489a-b85f-f51f7f600c02\",\"subtype\":\"Figure\",\"type\":\"Plot\"},\"ticker\":{\"id\":\"4e034b38-7809-42eb-95e7-defae16280bd\",\"type\":\"BasicTicker\"}},\"id\":\"aff21c65-b7ab-4710-8de6-19859847622b\",\"type\":\"LinearAxis\"},{\"attributes\":{\"data_source\":{\"id\":\"9ff7455e-c71b-42b7-8066-519c30120da3\",\"type\":\"ColumnDataSource\"},\"glyph\":{\"id\":\"1ab6187b-2ff7-4962-9cc6-5a62f6be0eb9\",\"type\":\"Circle\"},\"hover_glyph\":null,\"muted_glyph\":null,\"nonselection_glyph\":{\"id\":\"fb8f40e8-69de-4453-80f0-78ff77d57d53\",\"type\":\"Circle\"},\"selection_glyph\":null,\"view\":{\"id\":\"0ba9009e-d097-40fb-afa2-63ca9d519fdf\",\"type\":\"CDSView\"}},\"id\":\"0aa715d7-c3d8-4958-8b5b-fa49a6d397c3\",\"type\":\"GlyphRenderer\"},{\"attributes\":{},\"id\":\"8bbc65fc-4130-4937-8f9c-1c65e3e3706a\",\"type\":\"LinearScale\"},{\"attributes\":{\"fill_color\":{\"value\":\"#1f77b4\"},\"line_color\":{\"value\":\"#1f77b4\"},\"size\":{\"units\":\"screen\",\"value\":10},\"x\":{\"field\":\"x\"},\"y\":{\"field\":\"y\"}},\"id\":\"1ab6187b-2ff7-4962-9cc6-5a62f6be0eb9\",\"type\":\"Circle\"},{\"attributes\":{},\"id\":\"4e034b38-7809-42eb-95e7-defae16280bd\",\"type\":\"BasicTicker\"},{\"attributes\":{\"dimension\":1,\"plot\":{\"id\":\"174c8d21-0454-489a-b85f-f51f7f600c02\",\"subtype\":\"Figure\",\"type\":\"Plot\"},\"ticker\":{\"id\":\"4e034b38-7809-42eb-95e7-defae16280bd\",\"type\":\"BasicTicker\"}},\"id\":\"b695a754-7046-4d70-96e6-0b3cd8f7fef8\",\"type\":\"Grid\"},{\"attributes\":{},\"id\":\"9f9354da-7a8e-4f38-a3e0-0a25f3718beb\",\"type\":\"BasicTickFormatter\"},{\"attributes\":{\"callback\":null},\"id\":\"56a6456a-96d0-4435-a121-909915e243e8\",\"type\":\"TapTool\"},{\"attributes\":{},\"id\":\"c7e81215-ea92-49b6-b474-14f429cba631\",\"type\":\"WheelZoomTool\"},{\"attributes\":{\"callback\":null,\"renderers\":\"auto\",\"tooltips\":[[\"xvalue\",\"@x\"],[\"yvalue\",\"@y\"]]},\"id\":\"51a6bc06-0414-4f2e-8ab3-afb3dadc78ac\",\"type\":\"HoverTool\"},{\"attributes\":{},\"id\":\"50681582-f2f0-40a7-a2a9-bbcdfb533a12\",\"type\":\"SaveTool\"},{\"attributes\":{},\"id\":\"7b1f2114-f6ae-4ce6-b6dc-39b78fa4d2ee\",\"type\":\"ResetTool\"},{\"attributes\":{\"plot\":null,\"text\":\"\"},\"id\":\"d0077d95-c197-4d72-b2f4-362518049f79\",\"type\":\"Title\"},{\"attributes\":{},\"id\":\"8257af91-6578-4dd7-a202-463aae014cf4\",\"type\":\"Selection\"},{\"attributes\":{\"data_source\":{\"id\":\"57ce1b3e-c9e1-47e0-8a0d-b4dc80e35328\",\"type\":\"ColumnDataSource\"},\"glyph\":{\"id\":\"4c8b16c9-5b16-4db1-8686-3b9bc5232afd\",\"type\":\"Line\"},\"hover_glyph\":null,\"muted_glyph\":null,\"nonselection_glyph\":{\"id\":\"b76d2dd2-cc03-4e7c-a7a3-9c3d954e3aa0\",\"type\":\"Line\"},\"selection_glyph\":null,\"view\":{\"id\":\"c2ae5247-994f-41ac-a654-c50c913f741a\",\"type\":\"CDSView\"}},\"id\":\"865ddd67-7ac1-488e-9725-baa21584955f\",\"type\":\"GlyphRenderer\"},{\"attributes\":{},\"id\":\"bb018f13-2089-4a85-a385-d79858893d33\",\"type\":\"BasicTickFormatter\"},{\"attributes\":{},\"id\":\"740f0b58-bf53-45b5-9162-9dae1cec2032\",\"type\":\"PanTool\"},{\"attributes\":{},\"id\":\"07616ff4-d35e-4dc8-bccb-8d835b232f03\",\"type\":\"UnionRenderers\"},{\"attributes\":{\"plot\":{\"id\":\"174c8d21-0454-489a-b85f-f51f7f600c02\",\"subtype\":\"Figure\",\"type\":\"Plot\"},\"text\":\"r-squared = 0.01\",\"x\":50.0,\"y\":150.0},\"id\":\"3bc81765-32e5-400b-b0f7-7c054557d2c4\",\"type\":\"Label\"},{\"attributes\":{},\"id\":\"0e9ec4a2-5827-49bc-ba61-cf522d052045\",\"type\":\"UnionRenderers\"},{\"attributes\":{\"callback\":null,\"data\":{\"x\":{\"__ndarray__\":\"MgAAADcAAAA8AAAAQQAAAEYAAABLAAAAUAAAAFUAAABaAAAAXwAAAA==\",\"dtype\":\"int32\",\"shape\":[10]},\"y\":{\"__ndarray__\":\"mpmZmZnZW0CamZmZmbleQM3MzMzMzGBAzczMzMxMYEAAAAAAALBjQJqZmZmZKWBAAAAAAAAgXkAAAAAAAJBgQAAAAAAA4FlAZmZmZmaWYUA=\",\"dtype\":\"float64\",\"shape\":[10]}},\"selected\":{\"id\":\"8257af91-6578-4dd7-a202-463aae014cf4\",\"type\":\"Selection\"},\"selection_policy\":{\"id\":\"07616ff4-d35e-4dc8-bccb-8d835b232f03\",\"type\":\"UnionRenderers\"}},\"id\":\"9ff7455e-c71b-42b7-8066-519c30120da3\",\"type\":\"ColumnDataSource\"},{\"attributes\":{\"source\":{\"id\":\"57ce1b3e-c9e1-47e0-8a0d-b4dc80e35328\",\"type\":\"ColumnDataSource\"}},\"id\":\"c2ae5247-994f-41ac-a654-c50c913f741a\",\"type\":\"CDSView\"}],\"root_ids\":[\"174c8d21-0454-489a-b85f-f51f7f600c02\"]},\"title\":\"Bokeh Application\",\"version\":\"0.12.16\"}};\n",
       "  var render_items = [{\"docid\":\"fb0f813a-1bd3-416f-9a28-ccf52ae2781f\",\"elementid\":\"6f82b5ef-8427-42f5-b141-0d54b5569ae6\",\"modelid\":\"174c8d21-0454-489a-b85f-f51f7f600c02\"}];\n",
       "  root.Bokeh.embed.embed_items_notebook(docs_json, render_items);\n",
       "\n",
       "  }\n",
       "  if (root.Bokeh !== undefined) {\n",
       "    embed_document(root);\n",
       "  } else {\n",
       "    var attempts = 0;\n",
       "    var timer = setInterval(function(root) {\n",
       "      if (root.Bokeh !== undefined) {\n",
       "        embed_document(root);\n",
       "        clearInterval(timer);\n",
       "      }\n",
       "      attempts++;\n",
       "      if (attempts > 100) {\n",
       "        console.log(\"Bokeh: ERROR: Unable to run BokehJS code because BokehJS library is missing\")\n",
       "        clearInterval(timer);\n",
       "      }\n",
       "    }, 10, root)\n",
       "  }\n",
       "})(window);"
      ],
      "application/vnd.bokehjs_exec.v0+json": ""
     },
     "metadata": {
      "application/vnd.bokehjs_exec.v0+json": {
       "id": "174c8d21-0454-489a-b85f-f51f7f600c02"
      }
     },
     "output_type": "display_data"
    },
    {
     "name": "stdout",
     "output_type": "stream",
     "text": [
      " r-squared square for this distribution of points 0.005391346981258427\n"
     ]
    }
   ],
   "source": [
    "y_low = np.array([111.4, 122.9, 134.4, 130.4, 157.5, 129.3, 120.5, 132.5, 103.5, 140.7])\n",
    "x = length_beam\n",
    "lr = linear_model.LinearRegression()\n",
    "\n",
    "# fitting a linear regression model \n",
    "lr.fit(length_beam.reshape(10,1), y_low.reshape(10,1))\n",
    "\n",
    "# predicted values\n",
    "pred_values_new = lr.predict(length_beam.reshape(10,1))\n",
    "pred_y_new = lr.coef_[0]*length_beam  \n",
    "\n",
    "tools_to_show= 'box_zoom,pan,save,hover,reset,tap,wheel_zoom'        \n",
    "\n",
    "fig = pl.figure(plot_width=400, plot_height=400, tools = tools_to_show)\n",
    "fig.circle(length_beam, y_low, size =10)\n",
    "fig.line(length_beam,pred_values_new.reshape(10,), color = \"red\", line_width =4)\n",
    "hover = fig.select(dict(type=HoverTool))\n",
    "hover.tooltips = [(\"xvalue\", \"@x\"), (\"yvalue\", \"@y\")]\n",
    "fig.xaxis.axis_label = \"Length of beam (cm)\"\n",
    "fig.yaxis.axis_label = \"Max Weight (kg)\"\n",
    "glyph = Label(x= 50.0, y = 150.0, text = \"r-squared = \"+ str(np.round(r2_score(y_low, pred_values_new), 2)))\n",
    "fig.add_layout(glyph)\n",
    "\n",
    "show(fig)\n",
    "\n",
    "# high r-squared score\n",
    "print(\" r-squared square for this distribution of points {}\".format(r2_score(y_low, pred_values_new)))"
   ]
  },
  {
   "cell_type": "markdown",
   "metadata": {
    "ExecuteTime": {
     "end_time": "2019-02-19T23:40:32.043266Z",
     "start_time": "2019-02-19T23:40:32.033177Z"
    },
    "hide_input": true
   },
   "source": [
    "### Solution code\n",
    "\n",
    "```python\n",
    "# Just run above code\n",
    "```"
   ]
  },
  {
   "cell_type": "markdown",
   "metadata": {},
   "source": [
    "So typically the higher your r-squared is the better. Note that are only talking about 1 dependent variable here i.e the max weight we are not going into multiple dependent variables here which would be a multi variable linear regression problem. In that rather than using $R^2$ we would be using adjusted $R^2$. It is a modified version of $R^2$. \n",
    "\n",
    "With that we are going to close this note book. Now that are aware of the type of metrics that we can use, we can starting diving into some machine learning algorithms."
   ]
  },
  {
   "cell_type": "code",
   "execution_count": 23,
   "metadata": {
    "ExecuteTime": {
     "end_time": "2019-02-20T00:10:40.153011Z",
     "start_time": "2019-02-20T00:10:40.148142Z"
    }
   },
   "outputs": [],
   "source": [
    "# End of Notebook"
   ]
  },
  {
   "cell_type": "markdown",
   "metadata": {
    "ExecuteTime": {
     "end_time": "2019-02-20T00:10:40.376526Z",
     "start_time": "2019-02-20T00:10:40.370434Z"
    },
    "hide_input": true
   },
   "source": [
    "### Solution code\n",
    "\n",
    "```python\n",
    "# End of Notebook\n",
    "```"
   ]
  }
 ],
 "metadata": {
  "celltoolbar": "Edit Metadata",
  "kernelspec": {
   "display_name": "Python 3",
   "language": "python",
   "name": "python3"
  },
  "language_info": {
   "codemirror_mode": {
    "name": "ipython",
    "version": 3
   },
   "file_extension": ".py",
   "mimetype": "text/x-python",
   "name": "python",
   "nbconvert_exporter": "python",
   "pygments_lexer": "ipython3",
   "version": "3.7.3"
  },
  "latex_envs": {
   "LaTeX_envs_menu_present": true,
   "autoclose": true,
   "autocomplete": true,
   "bibliofile": "biblio.bib",
   "cite_by": "apalike",
   "current_citInitial": 1,
   "eqLabelWithNumbers": true,
   "eqNumInitial": 1,
   "hotkeys": {
    "equation": "Ctrl-E",
    "itemize": "Ctrl-I"
   },
   "labels_anchors": false,
   "latex_user_defs": false,
   "report_style_numbering": true,
   "user_envs_cfg": false
  },
  "toc": {
   "base_numbering": 1,
   "nav_menu": {},
   "number_sections": true,
   "sideBar": true,
   "skip_h1_title": false,
   "title_cell": "Table of Contents",
   "title_sidebar": "Contents",
   "toc_cell": false,
   "toc_position": {},
   "toc_section_display": true,
   "toc_window_display": false
  },
  "varInspector": {
   "cols": {
    "lenName": 16,
    "lenType": 16,
    "lenVar": 40
   },
   "kernels_config": {
    "python": {
     "delete_cmd_postfix": "",
     "delete_cmd_prefix": "del ",
     "library": "var_list.py",
     "varRefreshCmd": "print(var_dic_list())"
    },
    "r": {
     "delete_cmd_postfix": ") ",
     "delete_cmd_prefix": "rm(",
     "library": "var_list.r",
     "varRefreshCmd": "cat(var_dic_list()) "
    }
   },
   "types_to_exclude": [
    "module",
    "function",
    "builtin_function_or_method",
    "instance",
    "_Feature"
   ],
   "window_display": false
  }
 },
 "nbformat": 4,
 "nbformat_minor": 2
}
