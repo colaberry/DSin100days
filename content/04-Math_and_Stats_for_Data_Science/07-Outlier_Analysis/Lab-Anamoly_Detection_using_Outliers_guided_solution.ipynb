{
 "cells": [
  {
   "cell_type": "markdown",
   "metadata": {},
   "source": [
    "## Lab - Anamoly Detection using Outlier Analysis\n",
    "\n",
    "Outlier Analysis is used by many organizations for various purposes. We are going to identify outliers using two different methods in this problem: \n",
    "\n",
    "1) Using Interquantile range <br>\n",
    "\n",
    "2) Using PyOD and K-means\n",
    "\n",
    "We will be using the Glass dataset for this lab. The data deals with identifying different types of glass for criminological investigations. This is a UCI dataset, which can be found [here](https://archive.ics.uci.edu/ml/datasets/Glass+Identification). The columns of the dataset are: \n",
    "\n",
    "Attribute Information:\n",
    "   1. Id number: 1 to 214 <br>\n",
    "   2. RI: refractive index <br>\n",
    "   3. Na: Sodium (unit measurement: weight percent in corresponding oxide, as \n",
    "                  are attributes 4-10)\n",
    "   4. Mg: Magnesium <br>\n",
    "   5. Al: Aluminum <br>\n",
    "   6. Si: Silicon <br>\n",
    "   7. K: Potassium <br>\n",
    "   8. Ca: Calcium <br>\n",
    "   9. Ba: Barium <br>\n",
    "  10. Fe: Iron <br>\n",
    "  11. Type of glass: (class attribute) <br>\n",
    "  \n",
    "      - 1 building_windows_float_processed <br>\n",
    "      - 2 building_windows_non_float_processed <br>\n",
    "      - 3 vehicle_windows_float_processed <br>\n",
    "      - 4 vehicle_windows_non_float_processed (none in this database) <br>\n",
    "      - 5 containers <br>\n",
    "      - 6 tableware <br>\n",
    "      - 7 headlamps <br>\n",
    "\n",
    "Source: [UCI glass dataset](https://archive.ics.uci.edu/ml/datasets/Glass+Identification)\n",
    "\n",
    "This dataset is intented for classification; we have to use the concentration of eleements to identify the typ of glass found on the crime scene. The labels are given in the last column. \n",
    "\n",
    "For our purposes, we will use certain columns in the data to identify outliers. We ask\n",
    "\n",
    "1) What are the outliers in the 5 th column i.e the Aluminum weight percent. This is just an example you can do this for any column  <br>\n",
    "2) Can we use IForest algorithm from pyod to detect and label outliers? \n"
   ]
  },
  {
   "cell_type": "code",
   "execution_count": 1,
   "metadata": {},
   "outputs": [
    {
     "data": {
      "text/html": [
       "<div>\n",
       "<style scoped>\n",
       "    .dataframe tbody tr th:only-of-type {\n",
       "        vertical-align: middle;\n",
       "    }\n",
       "\n",
       "    .dataframe tbody tr th {\n",
       "        vertical-align: top;\n",
       "    }\n",
       "\n",
       "    .dataframe thead th {\n",
       "        text-align: right;\n",
       "    }\n",
       "</style>\n",
       "<table border=\"1\" class=\"dataframe\">\n",
       "  <thead>\n",
       "    <tr style=\"text-align: right;\">\n",
       "      <th></th>\n",
       "      <th>Id_Number</th>\n",
       "      <th>RI</th>\n",
       "      <th>Na</th>\n",
       "      <th>Mg</th>\n",
       "      <th>Al</th>\n",
       "      <th>Si</th>\n",
       "      <th>K</th>\n",
       "      <th>Ca</th>\n",
       "      <th>Ba</th>\n",
       "      <th>Fe</th>\n",
       "      <th>Type_of_glass</th>\n",
       "    </tr>\n",
       "  </thead>\n",
       "  <tbody>\n",
       "    <tr>\n",
       "      <th>0</th>\n",
       "      <td>1</td>\n",
       "      <td>1.52101</td>\n",
       "      <td>13.64</td>\n",
       "      <td>4.49</td>\n",
       "      <td>1.10</td>\n",
       "      <td>71.78</td>\n",
       "      <td>0.06</td>\n",
       "      <td>8.75</td>\n",
       "      <td>0.0</td>\n",
       "      <td>0.0</td>\n",
       "      <td>1</td>\n",
       "    </tr>\n",
       "    <tr>\n",
       "      <th>1</th>\n",
       "      <td>2</td>\n",
       "      <td>1.51761</td>\n",
       "      <td>13.89</td>\n",
       "      <td>3.60</td>\n",
       "      <td>1.36</td>\n",
       "      <td>72.73</td>\n",
       "      <td>0.48</td>\n",
       "      <td>7.83</td>\n",
       "      <td>0.0</td>\n",
       "      <td>0.0</td>\n",
       "      <td>1</td>\n",
       "    </tr>\n",
       "    <tr>\n",
       "      <th>2</th>\n",
       "      <td>3</td>\n",
       "      <td>1.51618</td>\n",
       "      <td>13.53</td>\n",
       "      <td>3.55</td>\n",
       "      <td>1.54</td>\n",
       "      <td>72.99</td>\n",
       "      <td>0.39</td>\n",
       "      <td>7.78</td>\n",
       "      <td>0.0</td>\n",
       "      <td>0.0</td>\n",
       "      <td>1</td>\n",
       "    </tr>\n",
       "    <tr>\n",
       "      <th>3</th>\n",
       "      <td>4</td>\n",
       "      <td>1.51766</td>\n",
       "      <td>13.21</td>\n",
       "      <td>3.69</td>\n",
       "      <td>1.29</td>\n",
       "      <td>72.61</td>\n",
       "      <td>0.57</td>\n",
       "      <td>8.22</td>\n",
       "      <td>0.0</td>\n",
       "      <td>0.0</td>\n",
       "      <td>1</td>\n",
       "    </tr>\n",
       "    <tr>\n",
       "      <th>4</th>\n",
       "      <td>5</td>\n",
       "      <td>1.51742</td>\n",
       "      <td>13.27</td>\n",
       "      <td>3.62</td>\n",
       "      <td>1.24</td>\n",
       "      <td>73.08</td>\n",
       "      <td>0.55</td>\n",
       "      <td>8.07</td>\n",
       "      <td>0.0</td>\n",
       "      <td>0.0</td>\n",
       "      <td>1</td>\n",
       "    </tr>\n",
       "  </tbody>\n",
       "</table>\n",
       "</div>"
      ],
      "text/plain": [
       "   Id_Number       RI     Na    Mg    Al     Si     K    Ca   Ba   Fe  \\\n",
       "0          1  1.52101  13.64  4.49  1.10  71.78  0.06  8.75  0.0  0.0   \n",
       "1          2  1.51761  13.89  3.60  1.36  72.73  0.48  7.83  0.0  0.0   \n",
       "2          3  1.51618  13.53  3.55  1.54  72.99  0.39  7.78  0.0  0.0   \n",
       "3          4  1.51766  13.21  3.69  1.29  72.61  0.57  8.22  0.0  0.0   \n",
       "4          5  1.51742  13.27  3.62  1.24  73.08  0.55  8.07  0.0  0.0   \n",
       "\n",
       "   Type_of_glass  \n",
       "0              1  \n",
       "1              1  \n",
       "2              1  \n",
       "3              1  \n",
       "4              1  "
      ]
     },
     "execution_count": 1,
     "metadata": {},
     "output_type": "execute_result"
    }
   ],
   "source": [
    "import pandas as pd\n",
    "import matplotlib.pyplot as plt \n",
    "import numpy as np\n",
    "from pyod.models.iforest import IForest\n",
    "from scipy import stats\n",
    "from scipy.interpolate import Rbf\n",
    "\n",
    "glass_df = pd.read_csv(\"https://raw.githubusercontent.com/colaberry/DSin100days/master/data/glass.csv\")\n",
    "glass_df.head()"
   ]
  },
  {
   "cell_type": "markdown",
   "metadata": {},
   "source": [
    "# Part I : Identify Outliers in the Al column \n",
    "\n",
    "First part involves plotting a box plot from the data frame, then calcuating the outliers. \n"
   ]
  },
  {
   "cell_type": "code",
   "execution_count": 2,
   "metadata": {},
   "outputs": [
    {
     "data": {
      "text/plain": [
       "<matplotlib.axes._subplots.AxesSubplot at 0x1d62b8afd08>"
      ]
     },
     "execution_count": 2,
     "metadata": {},
     "output_type": "execute_result"
    },
    {
     "data": {
      "image/png": "[encoded data removed]",
      "text/plain": [
       "<Figure size 720x720 with 1 Axes>"
      ]
     },
     "metadata": {
      "needs_background": "light"
     },
     "output_type": "display_data"
    }
   ],
   "source": [
    "# Plot the outliers with figsie=(10,10) and a fontsize of 20 "
   ]
  },
  {
   "cell_type": "markdown",
   "metadata": {},
   "source": [
    "<img src=\"../../images/DS2_images/07-Outlier_Analysis/outlier_analysis-boxplot.png\">"
   ]
  },
  {
   "cell_type": "markdown",
   "metadata": {},
   "source": [
    "Visually inspecting the boxplot shows that there are outlier points. In the next few cells we will get the values of these outliers. "
   ]
  },
  {
   "cell_type": "code",
   "execution_count": 3,
   "metadata": {},
   "outputs": [
    {
     "name": "stdout",
     "output_type": "stream",
     "text": [
      "[0.29, 0.47, 0.47, 0.51, 3.5, 3.04, 3.02, 0.34, 2.38, 2.79, 2.68, 2.54, 2.34, 2.66, 2.51, 2.42, 2.74, 2.88]\n"
     ]
    }
   ],
   "source": [
    "\n",
    "# The variable single_col contains the series for Al column \n",
    "single_col = glass_df[\"Al\"]\n",
    "\n",
    "# Get the 1st and 3rd quantile values for the varaible single_col\n",
    "quantile_1 = single_col.quantile(0.25)\n",
    "quantile_3 = single_col.quantile(0.75)\n",
    "\n",
    "# Calcaute the IQR \n",
    "IQR = quantile_3 - quantile_1\n",
    "\n",
    "# Filter the outliers out of single_col. You can use df.between to get values between the \n",
    "# IQR values\n",
    "outliers = single_col[~single_col.between(quantile_1- 1.5*IQR, quantile_3 +1.5*IQR)]\n",
    "outliers_value = list(outliers.values)\n",
    "print(outliers_value)"
   ]
  },
  {
   "cell_type": "markdown",
   "metadata": {},
   "source": [
    "[0.29, 0.47, 0.47, 0.51, 3.5, 3.04, 3.02, 0.34, 2.38, 2.79, 2.68, 2.54, 2.34, 2.66, 2.51, 2.42, 2.74, 2.88]"
   ]
  },
  {
   "cell_type": "markdown",
   "metadata": {},
   "source": [
    "## Part II: Use pyOD and K-means to identify K-means \n",
    "\n",
    "In this part we are going to use two columns from the glass dataset and identify a proportion of outliers. "
   ]
  },
  {
   "cell_type": "code",
   "execution_count": 4,
   "metadata": {},
   "outputs": [],
   "source": [
    "# First step is to filter out two columns Al and Ca\n",
    "two_cols = glass_df[['Al', 'Ca']]"
   ]
  },
  {
   "cell_type": "code",
   "execution_count": 5,
   "metadata": {},
   "outputs": [],
   "source": [
    "# We need convert two_cols to a 2d- numpy array\n",
    "X= two_cols.values\n",
    "\n",
    "# We set the outliers_fraction to 0.1 \n",
    "outliers_fraction = 0.1\n",
    "\n",
    "# We want to visualize the inlier and outlier region hence we declare meshgrid\n",
    "xx , yy = np.meshgrid(np.linspace(0, 5, 50), np.linspace(0, 17, 50))\n"
   ]
  },
  {
   "cell_type": "code",
   "execution_count": 6,
   "metadata": {},
   "outputs": [
    {
     "name": "stdout",
     "output_type": "stream",
     "text": [
      "Total number of outlier and inlier points are: 22 and 192\n"
     ]
    }
   ],
   "source": [
    "# Initalize an IForest method with a contaimation equal to the outliers_fraction \n",
    "# random_state of 0.\n",
    "clf =IForest(contamination=outliers_fraction, random_state=0)\n",
    "clf.fit(X)\n",
    "\n",
    "# To make predict, first run classifer.predict on the two_cols data\n",
    "y_pred = clf.predict(X)\n",
    "\n",
    "# We need to get the number of inliers and outliers. \n",
    "# The number of outliers are all those points labeled 1 \n",
    "# in y_pred\n",
    "n_outliers = np.count_nonzero(y_pred == 1)\n",
    "\n",
    "# Once you have the number of outliers, get the number of\n",
    "# inlier points\n",
    "n_inliers = len(y_pred) - n_outliers\n",
    "\n",
    "print(\"Total number of outlier and inlier points are: {} and {}\".format(n_outliers, n_inliers))"
   ]
  },
  {
   "cell_type": "code",
   "execution_count": 7,
   "metadata": {},
   "outputs": [
    {
     "data": {
      "image/png": "[encoded data removed]",
      "text/plain": [
       "<Figure size 720x720 with 1 Axes>"
      ]
     },
     "metadata": {
      "needs_background": "light"
     },
     "output_type": "display_data"
    }
   ],
   "source": [
    "# In this step we the boundary between the outlier and inlier region\n",
    "scores_pred = clf.decision_function(X) * -1\n",
    "boundary_threshold = stats.scoreatpercentile(scores_pred, 100 *outliers_fraction) \n",
    "\n",
    "# In order to plot a contour plot we need to first make predict on a 2d grid of points\n",
    "Z = clf.predict(np.c_[xx.ravel(), yy.ravel()])\n",
    "\n",
    "# Make Z the same shape as xx\n",
    "Z_reshaped = Z.reshape(xx.shape)\n",
    "\n",
    "# We need to label the points as inside and outside the boundary\n",
    "color_pts = np.zeros(scores_pred.shape)\n",
    "color_pts[scores_pred <= boundary_threshold] = 1\n",
    "color_pts[scores_pred > boundary_threshold] = 0\n",
    "color_label = []\n",
    "for x in color_pts: \n",
    "    if x == 0:\n",
    "        color_label.append(\"orange\")\n",
    "    else: \n",
    "        color_label.append(\"black\")\n",
    "\n",
    "# We need a filled contour plot which is given by contourf, plot it \n",
    "# The arguments of the plot will be the meshgrid values of x and y with z \n",
    "# begin the label\n",
    "plt.figure(figsize=(10,10))\n",
    "plt.contourf(xx, yy, Z_reshaped)\n",
    "\n",
    "# We need to plot a regular contour plot with x, y and z similar to above\n",
    "# The levels tells you at what value of contour boundary should we draw the red \n",
    "# line that seperates the outlier points with the inliers\n",
    "plt.contour(xx, yy, Z_reshaped, levels=[boundary_threshold],linewidths=3, colors='red')\n",
    "plt.scatter(two_cols['Al'], two_cols['Ca'], c=color_label)\n",
    "plt.xlim([0,5])\n",
    "plt.ylim([0,17])\n",
    "plt.xlabel(\"Al weight percent\", fontsize=20)\n",
    "plt.ylabel(\"Ca weight percent\", fontsize=20)\n",
    "plt.show()"
   ]
  },
  {
   "cell_type": "markdown",
   "metadata": {},
   "source": [
    "<img src=\"../../images/DS2_images/07-Outlier_Analysis/outlier_analysis-2d.png\">"
   ]
  },
  {
   "cell_type": "markdown",
   "metadata": {},
   "source": [
    "The points within the red boundary can be considered inside points and the points outside can be considered as outliers. "
   ]
  }
 ],
 "metadata": {
  "kernelspec": {
   "display_name": "Python 3",
   "language": "python",
   "name": "python3"
  },
  "language_info": {
   "codemirror_mode": {
    "name": "ipython",
    "version": 3
   },
   "file_extension": ".py",
   "mimetype": "text/x-python",
   "name": "python",
   "nbconvert_exporter": "python",
   "pygments_lexer": "ipython3",
   "version": "3.7.3"
  }
 },
 "nbformat": 4,
 "nbformat_minor": 4
}
