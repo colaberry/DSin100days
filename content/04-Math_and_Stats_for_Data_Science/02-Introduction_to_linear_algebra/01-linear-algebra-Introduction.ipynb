{
 "cells": [
  {
   "cell_type": "markdown",
   "metadata": {},
   "source": [
    "#### Run the below code to import all libraries required to run sample code within this notebook"
   ]
  },
  {
   "cell_type": "code",
   "execution_count": 1,
   "metadata": {
    "ExecuteTime": {
     "end_time": "2019-02-27T17:04:24.322511Z",
     "start_time": "2019-02-27T17:04:18.057311Z"
    }
   },
   "outputs": [
    {
     "data": {
      "text/html": [
       "<script>requirejs.config({paths: { 'plotly': ['https://cdn.plot.ly/plotly-latest.min']},});if(!window.Plotly) {{require(['plotly'],function(plotly) {window.Plotly=plotly;});}}</script>"
      ],
      "text/vnd.plotly.v1+html": [
       "<script>requirejs.config({paths: { 'plotly': ['https://cdn.plot.ly/plotly-latest.min']},});if(!window.Plotly) {{require(['plotly'],function(plotly) {window.Plotly=plotly;});}}</script>"
      ]
     },
     "metadata": {},
     "output_type": "display_data"
    },
    {
     "data": {
      "text/html": [
       "\n",
       "    <div class=\"bk-root\">\n",
       "        <a href=\"https://bokeh.pydata.org\" target=\"_blank\" class=\"bk-logo bk-logo-small bk-logo-notebook\"></a>\n",
       "        <span id=\"2c880aa3-78ae-41b7-9c73-6ba54f025305\">Loading BokehJS ...</span>\n",
       "    </div>"
      ]
     },
     "metadata": {},
     "output_type": "display_data"
    },
    {
     "data": {
      "application/javascript": [
       "\n",
       "(function(root) {\n",
       "  function now() {\n",
       "    return new Date();\n",
       "  }\n",
       "\n",
       "  var force = true;\n",
       "\n",
       "  if (typeof (root._bokeh_onload_callbacks) === \"undefined\" || force === true) {\n",
       "    root._bokeh_onload_callbacks = [];\n",
       "    root._bokeh_is_loading = undefined;\n",
       "  }\n",
       "\n",
       "  var JS_MIME_TYPE = 'application/javascript';\n",
       "  var HTML_MIME_TYPE = 'text/html';\n",
       "  var EXEC_MIME_TYPE = 'application/vnd.bokehjs_exec.v0+json';\n",
       "  var CLASS_NAME = 'output_bokeh rendered_html';\n",
       "\n",
       "  /**\n",
       "   * Render data to the DOM node\n",
       "   */\n",
       "  function render(props, node) {\n",
       "    var script = document.createElement(\"script\");\n",
       "    node.appendChild(script);\n",
       "  }\n",
       "\n",
       "  /**\n",
       "   * Handle when an output is cleared or removed\n",
       "   */\n",
       "  function handleClearOutput(event, handle) {\n",
       "    var cell = handle.cell;\n",
       "\n",
       "    var id = cell.output_area._bokeh_element_id;\n",
       "    var server_id = cell.output_area._bokeh_server_id;\n",
       "    // Clean up Bokeh references\n",
       "    if (id !== undefined) {\n",
       "      Bokeh.index[id].model.document.clear();\n",
       "      delete Bokeh.index[id];\n",
       "    }\n",
       "\n",
       "    if (server_id !== undefined) {\n",
       "      // Clean up Bokeh references\n",
       "      var cmd = \"from bokeh.io.state import curstate; print(curstate().uuid_to_server['\" + server_id + \"'].get_sessions()[0].document.roots[0]._id)\";\n",
       "      cell.notebook.kernel.execute(cmd, {\n",
       "        iopub: {\n",
       "          output: function(msg) {\n",
       "            var element_id = msg.content.text.trim();\n",
       "            Bokeh.index[element_id].model.document.clear();\n",
       "            delete Bokeh.index[element_id];\n",
       "          }\n",
       "        }\n",
       "      });\n",
       "      // Destroy server and session\n",
       "      var cmd = \"import bokeh.io.notebook as ion; ion.destroy_server('\" + server_id + \"')\";\n",
       "      cell.notebook.kernel.execute(cmd);\n",
       "    }\n",
       "  }\n",
       "\n",
       "  /**\n",
       "   * Handle when a new output is added\n",
       "   */\n",
       "  function handleAddOutput(event, handle) {\n",
       "    var output_area = handle.output_area;\n",
       "    var output = handle.output;\n",
       "\n",
       "    // limit handleAddOutput to display_data with EXEC_MIME_TYPE content only\n",
       "    if ((output.output_type != \"display_data\") || (!output.data.hasOwnProperty(EXEC_MIME_TYPE))) {\n",
       "      return\n",
       "    }\n",
       "\n",
       "    var toinsert = output_area.element.find(\".\" + CLASS_NAME.split(' ')[0]);\n",
       "\n",
       "    if (output.metadata[EXEC_MIME_TYPE][\"id\"] !== undefined) {\n",
       "      toinsert[toinsert.length - 1].firstChild.textContent = output.data[JS_MIME_TYPE];\n",
       "      // store reference to embed id on output_area\n",
       "      output_area._bokeh_element_id = output.metadata[EXEC_MIME_TYPE][\"id\"];\n",
       "    }\n",
       "    if (output.metadata[EXEC_MIME_TYPE][\"server_id\"] !== undefined) {\n",
       "      var bk_div = document.createElement(\"div\");\n",
       "      bk_div.innerHTML = output.data[HTML_MIME_TYPE];\n",
       "      var script_attrs = bk_div.children[0].attributes;\n",
       "      for (var i = 0; i < script_attrs.length; i++) {\n",
       "        toinsert[toinsert.length - 1].firstChild.setAttribute(script_attrs[i].name, script_attrs[i].value);\n",
       "      }\n",
       "      // store reference to server id on output_area\n",
       "      output_area._bokeh_server_id = output.metadata[EXEC_MIME_TYPE][\"server_id\"];\n",
       "    }\n",
       "  }\n",
       "\n",
       "  function register_renderer(events, OutputArea) {\n",
       "\n",
       "    function append_mime(data, metadata, element) {\n",
       "      // create a DOM node to render to\n",
       "      var toinsert = this.create_output_subarea(\n",
       "        metadata,\n",
       "        CLASS_NAME,\n",
       "        EXEC_MIME_TYPE\n",
       "      );\n",
       "      this.keyboard_manager.register_events(toinsert);\n",
       "      // Render to node\n",
       "      var props = {data: data, metadata: metadata[EXEC_MIME_TYPE]};\n",
       "      render(props, toinsert[toinsert.length - 1]);\n",
       "      element.append(toinsert);\n",
       "      return toinsert\n",
       "    }\n",
       "\n",
       "    /* Handle when an output is cleared or removed */\n",
       "    events.on('clear_output.CodeCell', handleClearOutput);\n",
       "    events.on('delete.Cell', handleClearOutput);\n",
       "\n",
       "    /* Handle when a new output is added */\n",
       "    events.on('output_added.OutputArea', handleAddOutput);\n",
       "\n",
       "    /**\n",
       "     * Register the mime type and append_mime function with output_area\n",
       "     */\n",
       "    OutputArea.prototype.register_mime_type(EXEC_MIME_TYPE, append_mime, {\n",
       "      /* Is output safe? */\n",
       "      safe: true,\n",
       "      /* Index of renderer in `output_area.display_order` */\n",
       "      index: 0\n",
       "    });\n",
       "  }\n",
       "\n",
       "  // register the mime type if in Jupyter Notebook environment and previously unregistered\n",
       "  if (root.Jupyter !== undefined) {\n",
       "    var events = require('base/js/events');\n",
       "    var OutputArea = require('notebook/js/outputarea').OutputArea;\n",
       "\n",
       "    if (OutputArea.prototype.mime_types().indexOf(EXEC_MIME_TYPE) == -1) {\n",
       "      register_renderer(events, OutputArea);\n",
       "    }\n",
       "  }\n",
       "\n",
       "  \n",
       "  if (typeof (root._bokeh_timeout) === \"undefined\" || force === true) {\n",
       "    root._bokeh_timeout = Date.now() + 5000;\n",
       "    root._bokeh_failed_load = false;\n",
       "  }\n",
       "\n",
       "  var NB_LOAD_WARNING = {'data': {'text/html':\n",
       "     \"<div style='background-color: #fdd'>\\n\"+\n",
       "     \"<p>\\n\"+\n",
       "     \"BokehJS does not appear to have successfully loaded. If loading BokehJS from CDN, this \\n\"+\n",
       "     \"may be due to a slow or bad network connection. Possible fixes:\\n\"+\n",
       "     \"</p>\\n\"+\n",
       "     \"<ul>\\n\"+\n",
       "     \"<li>re-rerun `output_notebook()` to attempt to load from CDN again, or</li>\\n\"+\n",
       "     \"<li>use INLINE resources instead, as so:</li>\\n\"+\n",
       "     \"</ul>\\n\"+\n",
       "     \"<code>\\n\"+\n",
       "     \"from bokeh.resources import INLINE\\n\"+\n",
       "     \"output_notebook(resources=INLINE)\\n\"+\n",
       "     \"</code>\\n\"+\n",
       "     \"</div>\"}};\n",
       "\n",
       "  function display_loaded() {\n",
       "    var el = document.getElementById(\"2c880aa3-78ae-41b7-9c73-6ba54f025305\");\n",
       "    if (el != null) {\n",
       "      el.textContent = \"BokehJS is loading...\";\n",
       "    }\n",
       "    if (root.Bokeh !== undefined) {\n",
       "      if (el != null) {\n",
       "        el.textContent = \"BokehJS \" + root.Bokeh.version + \" successfully loaded.\";\n",
       "      }\n",
       "    } else if (Date.now() < root._bokeh_timeout) {\n",
       "      setTimeout(display_loaded, 100)\n",
       "    }\n",
       "  }\n",
       "\n",
       "\n",
       "  function run_callbacks() {\n",
       "    try {\n",
       "      root._bokeh_onload_callbacks.forEach(function(callback) { callback() });\n",
       "    }\n",
       "    finally {\n",
       "      delete root._bokeh_onload_callbacks\n",
       "    }\n",
       "    console.info(\"Bokeh: all callbacks have finished\");\n",
       "  }\n",
       "\n",
       "  function load_libs(js_urls, callback) {\n",
       "    root._bokeh_onload_callbacks.push(callback);\n",
       "    if (root._bokeh_is_loading > 0) {\n",
       "      console.log(\"Bokeh: BokehJS is being loaded, scheduling callback at\", now());\n",
       "      return null;\n",
       "    }\n",
       "    if (js_urls == null || js_urls.length === 0) {\n",
       "      run_callbacks();\n",
       "      return null;\n",
       "    }\n",
       "    console.log(\"Bokeh: BokehJS not loaded, scheduling load and callback at\", now());\n",
       "    root._bokeh_is_loading = js_urls.length;\n",
       "    for (var i = 0; i < js_urls.length; i++) {\n",
       "      var url = js_urls[i];\n",
       "      var s = document.createElement('script');\n",
       "      s.src = url;\n",
       "      s.async = false;\n",
       "      s.onreadystatechange = s.onload = function() {\n",
       "        root._bokeh_is_loading--;\n",
       "        if (root._bokeh_is_loading === 0) {\n",
       "          console.log(\"Bokeh: all BokehJS libraries loaded\");\n",
       "          run_callbacks()\n",
       "        }\n",
       "      };\n",
       "      s.onerror = function() {\n",
       "        console.warn(\"failed to load library \" + url);\n",
       "      };\n",
       "      console.log(\"Bokeh: injecting script tag for BokehJS library: \", url);\n",
       "      document.getElementsByTagName(\"head\")[0].appendChild(s);\n",
       "    }\n",
       "  };var element = document.getElementById(\"2c880aa3-78ae-41b7-9c73-6ba54f025305\");\n",
       "  if (element == null) {\n",
       "    console.log(\"Bokeh: ERROR: autoload.js configured with elementid '2c880aa3-78ae-41b7-9c73-6ba54f025305' but no matching script tag was found. \")\n",
       "    return false;\n",
       "  }\n",
       "\n",
       "  var js_urls = [\"https://cdn.pydata.org/bokeh/release/bokeh-0.12.16.min.js\", \"https://cdn.pydata.org/bokeh/release/bokeh-widgets-0.12.16.min.js\", \"https://cdn.pydata.org/bokeh/release/bokeh-tables-0.12.16.min.js\", \"https://cdn.pydata.org/bokeh/release/bokeh-gl-0.12.16.min.js\"];\n",
       "\n",
       "  var inline_js = [\n",
       "    function(Bokeh) {\n",
       "      Bokeh.set_log_level(\"info\");\n",
       "    },\n",
       "    \n",
       "    function(Bokeh) {\n",
       "      \n",
       "    },\n",
       "    function(Bokeh) {\n",
       "      console.log(\"Bokeh: injecting CSS: https://cdn.pydata.org/bokeh/release/bokeh-0.12.16.min.css\");\n",
       "      Bokeh.embed.inject_css(\"https://cdn.pydata.org/bokeh/release/bokeh-0.12.16.min.css\");\n",
       "      console.log(\"Bokeh: injecting CSS: https://cdn.pydata.org/bokeh/release/bokeh-widgets-0.12.16.min.css\");\n",
       "      Bokeh.embed.inject_css(\"https://cdn.pydata.org/bokeh/release/bokeh-widgets-0.12.16.min.css\");\n",
       "      console.log(\"Bokeh: injecting CSS: https://cdn.pydata.org/bokeh/release/bokeh-tables-0.12.16.min.css\");\n",
       "      Bokeh.embed.inject_css(\"https://cdn.pydata.org/bokeh/release/bokeh-tables-0.12.16.min.css\");\n",
       "    }\n",
       "  ];\n",
       "\n",
       "  function run_inline_js() {\n",
       "    \n",
       "    if ((root.Bokeh !== undefined) || (force === true)) {\n",
       "      for (var i = 0; i < inline_js.length; i++) {\n",
       "        inline_js[i].call(root, root.Bokeh);\n",
       "      }if (force === true) {\n",
       "        display_loaded();\n",
       "      }} else if (Date.now() < root._bokeh_timeout) {\n",
       "      setTimeout(run_inline_js, 100);\n",
       "    } else if (!root._bokeh_failed_load) {\n",
       "      console.log(\"Bokeh: BokehJS failed to load within specified timeout.\");\n",
       "      root._bokeh_failed_load = true;\n",
       "    } else if (force !== true) {\n",
       "      var cell = $(document.getElementById(\"2c880aa3-78ae-41b7-9c73-6ba54f025305\")).parents('.cell').data().cell;\n",
       "      cell.output_area.append_execute_result(NB_LOAD_WARNING)\n",
       "    }\n",
       "\n",
       "  }\n",
       "\n",
       "  if (root._bokeh_is_loading === 0) {\n",
       "    console.log(\"Bokeh: BokehJS loaded, going straight to plotting\");\n",
       "    run_inline_js();\n",
       "  } else {\n",
       "    load_libs(js_urls, function() {\n",
       "      console.log(\"Bokeh: BokehJS plotting callback run at\", now());\n",
       "      run_inline_js();\n",
       "    });\n",
       "  }\n",
       "}(window));"
      ],
      "application/vnd.bokehjs_load.v0+json": "\n(function(root) {\n  function now() {\n    return new Date();\n  }\n\n  var force = true;\n\n  if (typeof (root._bokeh_onload_callbacks) === \"undefined\" || force === true) {\n    root._bokeh_onload_callbacks = [];\n    root._bokeh_is_loading = undefined;\n  }\n\n  \n\n  \n  if (typeof (root._bokeh_timeout) === \"undefined\" || force === true) {\n    root._bokeh_timeout = Date.now() + 5000;\n    root._bokeh_failed_load = false;\n  }\n\n  var NB_LOAD_WARNING = {'data': {'text/html':\n     \"<div style='background-color: #fdd'>\\n\"+\n     \"<p>\\n\"+\n     \"BokehJS does not appear to have successfully loaded. If loading BokehJS from CDN, this \\n\"+\n     \"may be due to a slow or bad network connection. Possible fixes:\\n\"+\n     \"</p>\\n\"+\n     \"<ul>\\n\"+\n     \"<li>re-rerun `output_notebook()` to attempt to load from CDN again, or</li>\\n\"+\n     \"<li>use INLINE resources instead, as so:</li>\\n\"+\n     \"</ul>\\n\"+\n     \"<code>\\n\"+\n     \"from bokeh.resources import INLINE\\n\"+\n     \"output_notebook(resources=INLINE)\\n\"+\n     \"</code>\\n\"+\n     \"</div>\"}};\n\n  function display_loaded() {\n    var el = document.getElementById(\"2c880aa3-78ae-41b7-9c73-6ba54f025305\");\n    if (el != null) {\n      el.textContent = \"BokehJS is loading...\";\n    }\n    if (root.Bokeh !== undefined) {\n      if (el != null) {\n        el.textContent = \"BokehJS \" + root.Bokeh.version + \" successfully loaded.\";\n      }\n    } else if (Date.now() < root._bokeh_timeout) {\n      setTimeout(display_loaded, 100)\n    }\n  }\n\n\n  function run_callbacks() {\n    try {\n      root._bokeh_onload_callbacks.forEach(function(callback) { callback() });\n    }\n    finally {\n      delete root._bokeh_onload_callbacks\n    }\n    console.info(\"Bokeh: all callbacks have finished\");\n  }\n\n  function load_libs(js_urls, callback) {\n    root._bokeh_onload_callbacks.push(callback);\n    if (root._bokeh_is_loading > 0) {\n      console.log(\"Bokeh: BokehJS is being loaded, scheduling callback at\", now());\n      return null;\n    }\n    if (js_urls == null || js_urls.length === 0) {\n      run_callbacks();\n      return null;\n    }\n    console.log(\"Bokeh: BokehJS not loaded, scheduling load and callback at\", now());\n    root._bokeh_is_loading = js_urls.length;\n    for (var i = 0; i < js_urls.length; i++) {\n      var url = js_urls[i];\n      var s = document.createElement('script');\n      s.src = url;\n      s.async = false;\n      s.onreadystatechange = s.onload = function() {\n        root._bokeh_is_loading--;\n        if (root._bokeh_is_loading === 0) {\n          console.log(\"Bokeh: all BokehJS libraries loaded\");\n          run_callbacks()\n        }\n      };\n      s.onerror = function() {\n        console.warn(\"failed to load library \" + url);\n      };\n      console.log(\"Bokeh: injecting script tag for BokehJS library: \", url);\n      document.getElementsByTagName(\"head\")[0].appendChild(s);\n    }\n  };var element = document.getElementById(\"2c880aa3-78ae-41b7-9c73-6ba54f025305\");\n  if (element == null) {\n    console.log(\"Bokeh: ERROR: autoload.js configured with elementid '2c880aa3-78ae-41b7-9c73-6ba54f025305' but no matching script tag was found. \")\n    return false;\n  }\n\n  var js_urls = [\"https://cdn.pydata.org/bokeh/release/bokeh-0.12.16.min.js\", \"https://cdn.pydata.org/bokeh/release/bokeh-widgets-0.12.16.min.js\", \"https://cdn.pydata.org/bokeh/release/bokeh-tables-0.12.16.min.js\", \"https://cdn.pydata.org/bokeh/release/bokeh-gl-0.12.16.min.js\"];\n\n  var inline_js = [\n    function(Bokeh) {\n      Bokeh.set_log_level(\"info\");\n    },\n    \n    function(Bokeh) {\n      \n    },\n    function(Bokeh) {\n      console.log(\"Bokeh: injecting CSS: https://cdn.pydata.org/bokeh/release/bokeh-0.12.16.min.css\");\n      Bokeh.embed.inject_css(\"https://cdn.pydata.org/bokeh/release/bokeh-0.12.16.min.css\");\n      console.log(\"Bokeh: injecting CSS: https://cdn.pydata.org/bokeh/release/bokeh-widgets-0.12.16.min.css\");\n      Bokeh.embed.inject_css(\"https://cdn.pydata.org/bokeh/release/bokeh-widgets-0.12.16.min.css\");\n      console.log(\"Bokeh: injecting CSS: https://cdn.pydata.org/bokeh/release/bokeh-tables-0.12.16.min.css\");\n      Bokeh.embed.inject_css(\"https://cdn.pydata.org/bokeh/release/bokeh-tables-0.12.16.min.css\");\n    }\n  ];\n\n  function run_inline_js() {\n    \n    if ((root.Bokeh !== undefined) || (force === true)) {\n      for (var i = 0; i < inline_js.length; i++) {\n        inline_js[i].call(root, root.Bokeh);\n      }if (force === true) {\n        display_loaded();\n      }} else if (Date.now() < root._bokeh_timeout) {\n      setTimeout(run_inline_js, 100);\n    } else if (!root._bokeh_failed_load) {\n      console.log(\"Bokeh: BokehJS failed to load within specified timeout.\");\n      root._bokeh_failed_load = true;\n    } else if (force !== true) {\n      var cell = $(document.getElementById(\"2c880aa3-78ae-41b7-9c73-6ba54f025305\")).parents('.cell').data().cell;\n      cell.output_area.append_execute_result(NB_LOAD_WARNING)\n    }\n\n  }\n\n  if (root._bokeh_is_loading === 0) {\n    console.log(\"Bokeh: BokehJS loaded, going straight to plotting\");\n    run_inline_js();\n  } else {\n    load_libs(js_urls, function() {\n      console.log(\"Bokeh: BokehJS plotting callback run at\", now());\n      run_inline_js();\n    });\n  }\n}(window));"
     },
     "metadata": {},
     "output_type": "display_data"
    }
   ],
   "source": [
    "import numpy as np \n",
    "from scipy.spatial import distance\n",
    "\n",
    "from ipywidgets import interact, interactive, fixed, interact_manual\n",
    "import ipywidgets as widgets\n",
    " \n",
    "from plotly.offline import download_plotlyjs, init_notebook_mode, plot, iplot\n",
    "from plotly import graph_objs as go\n",
    "init_notebook_mode(connected=True)\n",
    "import numpy as np\n",
    "\n",
    "import random\n",
    "\n",
    "from IPython.display import display, Math\n",
    "\n",
    "from bokeh.io import show, output_notebook, reset_output\n",
    "from bokeh.plotting import figure, show\n",
    "from scipy.stats import norm \n",
    "from bokeh import plotting as pl\n",
    "from bokeh.models import HoverTool, Arrow, OpenHead, NormalHead, VeeHead, Span, ColumnDataSource, PointDrawTool, TableColumn,  DataTable\n",
    "\n",
    "reset_output()\n",
    "output_notebook()"
   ]
  },
  {
   "cell_type": "markdown",
   "metadata": {
    "hide_input": true
   },
   "source": [
    "### Solution code\n",
    "\n",
    "```python\n",
    "# Just run above code\n",
    "```"
   ]
  },
  {
   "cell_type": "markdown",
   "metadata": {},
   "source": [
    "In this notebook we are going to introduce  you to one of the most important fields of mathematics which is relevant to machine learning called Linear Algebra. \n",
    "\n",
    "   Linear Algebra is a vast topic that deals with manipulation and mathematics of a system of linear equations. We are not really going to go into the details of that in this notebook but what we are going to try and cover is, why is this relevant to machine learning and data science in general. What linear algebra lets us do is, it provide us a nice clear way of representing the data, such that we can manipulate the data and draw insights from it. We cannot possibly cover all of linear algebra in our course due to it large collection of topics, what we hope to do in the notebook and beyond is get you familiar with the notation and some basic principles of linear algebra, so that you can explore above and beyond. We are also going to try and use as much python as possible such as the matrix operations in order to familiarize you with the various tools available in python <br>\n",
    "   \n",
    "  In order for us to get into the details of linear algebra first we will have to learn to speak its language. Hence in this in this section we are going to focus on some core concepts in linear algebra. These will be - \n",
    "    \n",
    "    1) Scalars and Vectors \n",
    "    2) Matrices \n",
    "    3) Algebra of Matrices \n",
    "    4) Inverse and transpose of a Matrix \n",
    "    5) Eigenvectors and Eigenvalues \n",
    "    \n",
    "    \n",
    "  In this notebook we are going to talk about-  <br> \n",
    "  \n",
    "      1) Scalars and vectors  definitions  <br>\n",
    "      3) Magnitude of a vector  <br>\n",
    "      4) Unit vector <br>\n",
    "      5) Vector arithmetic <br>\n",
    "\n",
    "  \n",
    "    \n",
    " So lets get started! \n",
    " \n",
    " ## Scalars and Vectors \n",
    " \n",
    "  One of the fundamental quantities we will work with is a scalar. A scalar, simply put is any real number. For example, if you measure your weight, you are representing your weight with a real number. This is called a scalar. The height of a building, is a scalar. Scalar are a single value, they can be positive or negative. For example -45 celcius is a scalar quantity as well. \n",
    "  \n",
    "  A vector is an ordered collection of elements. We usually write a vector $\\textbf{A}$ as - <br>\n",
    "   \n",
    "   $\\textbf{A}$ = [$a_1, a_2$] <br> \n",
    "   \n",
    "   where  $a_1$ and $a_2$ are scalars. We will be using square brackets to represent vectors and matrices which w<br>\n",
    "   \n",
    "   They are also called components or elements of the vector $\\textbf{A}$ <br>\n",
    "   \n",
    "   The order of ( $a_1, a_2$) matters. This is because if have another vector $\\textbf{B}$ = [$a_2, a_1$], then\n",
    "   \n",
    "   $\\textbf{A}$ $\\neq$ $\\textbf{B}$\n",
    "    \n",
    "   For $\\textbf{A}$ to be equal to $\\textbf{B}$ we need the order of $a_1$ and $a_2$ to be the same both vectors. \n",
    "   \n",
    "   The definition that we have presented seems a bit too theoretical. So lets try to get an intuitive feel for what all of the above means. For example, we mentioned earlier that weight was a scalar. With weight, you really just need that single number to describe what your are measuring on the scale. If that is the case why do you need a vector? \n",
    "   \n",
    "   Well try and describe to someone a position of a building on the map. \n",
    "   \n",
    "   \n",
    "Question:  How many numbers do you need to describe the location of building on a paper map \n",
    "\n",
    "Answer: Lay out a paper map. Try to find any street or building on it. You will find you will need two numbers on the map. The latitude and the longitude. So the position on the map can be written down as -<br>\n",
    "\n",
    "Position on map = [latitude, longitude]\n",
    "\n",
    "this is a vector quantity! \n",
    "How? Well, the position has two components. Also, it is ordered, meaning we cannot swap the latitude and longitude values, if we do then we will get a completely different location. \n",
    "\n",
    "<img src=\"https://dsin100days.s3-us-west-2.amazonaws.com/images/images/vector_map_eg.png\" style=\"width:80vw\">\n",
    "<br>\n",
    "\n",
    "There are many quantities that can be considered as vectors- Position on a map, velocity of an object, airflow, force applied to a object. \n",
    "\n",
    "We will talk a little bit about position as a vector because it is the easiest way to highlight some of the ideas the basic ideas behind vectors\n",
    "\n",
    "Usually positions of objects are represented on a something called a cartesian grid. In python we can easily do this. We going to plot the position of point (x,y) on a grid."
   ]
  },
  {
   "cell_type": "code",
   "execution_count": 2,
   "metadata": {
    "ExecuteTime": {
     "end_time": "2019-02-27T17:08:02.777294Z",
     "start_time": "2019-02-27T17:08:02.624663Z"
    }
   },
   "outputs": [
    {
     "data": {
      "text/html": [
       "\n",
       "<div class=\"bk-root\">\n",
       "    <div class=\"bk-plotdiv\" id=\"1589a310-6efa-4178-a647-3c954c9bae51\"></div>\n",
       "</div>"
      ]
     },
     "metadata": {},
     "output_type": "display_data"
    },
    {
     "data": {
      "application/javascript": [
       "(function(root) {\n",
       "  function embed_document(root) {\n",
       "    \n",
       "  var docs_json = {\"e71e5960-26c6-4164-bf6e-b9871e22fbb0\":{\"roots\":{\"references\":[{\"attributes\":{},\"id\":\"5ad71905-07b5-4e12-9957-a12df1811276\",\"type\":\"BasicTickFormatter\"},{\"attributes\":{\"source\":{\"id\":\"6d91feef-592d-4378-9763-9932f2addc91\",\"type\":\"ColumnDataSource\"}},\"id\":\"8a5166b5-0c21-4e2f-b313-080c83be1730\",\"type\":\"CDSView\"},{\"attributes\":{\"callback\":null,\"data\":{\"color\":[\"red\"],\"x\":[4],\"y\":[5]},\"selected\":{\"id\":\"ff53871b-f139-42e0-9d74-8e1bb345ca22\",\"type\":\"Selection\"},\"selection_policy\":{\"id\":\"dcd1a4a4-35cd-4329-8239-d9828d631f15\",\"type\":\"UnionRenderers\"}},\"id\":\"6d91feef-592d-4378-9763-9932f2addc91\",\"type\":\"ColumnDataSource\"},{\"attributes\":{\"plot\":null},\"id\":\"e8677d09-399a-4942-9bba-6b52e020ca63\",\"type\":\"NormalHead\"},{\"attributes\":{},\"id\":\"5c31999f-985d-4f1f-8700-e87aac948fae\",\"type\":\"BasicTickFormatter\"},{\"attributes\":{\"below\":[{\"id\":\"5ec09095-d022-4cf3-ab35-e4a6486d2eeb\",\"type\":\"LinearAxis\"}],\"left\":[{\"id\":\"e2053065-62e5-41ca-b33a-0793116ea4b8\",\"type\":\"LinearAxis\"}],\"plot_height\":400,\"plot_width\":400,\"renderers\":[{\"id\":\"5ec09095-d022-4cf3-ab35-e4a6486d2eeb\",\"type\":\"LinearAxis\"},{\"id\":\"7c499679-a403-4656-a779-62fdd2f4366a\",\"type\":\"Grid\"},{\"id\":\"e2053065-62e5-41ca-b33a-0793116ea4b8\",\"type\":\"LinearAxis\"},{\"id\":\"d1fd3aaa-d5a2-4fb5-92b0-7b18ea6b6e22\",\"type\":\"Grid\"},{\"id\":\"28d43c54-715b-4250-83d1-7bdffaf6128c\",\"type\":\"BoxAnnotation\"},{\"id\":\"9a3f61f7-02e6-41a6-9346-049819d9290b\",\"type\":\"Arrow\"},{\"id\":\"1851c464-be25-4b1a-a433-269b543dd3d8\",\"type\":\"GlyphRenderer\"}],\"title\":{\"id\":\"5a0ac35c-9644-4c83-b609-73c040ee317e\",\"type\":\"Title\"},\"toolbar\":{\"id\":\"28aa07d9-188f-43ff-a97a-2f67ef7a5efb\",\"type\":\"Toolbar\"},\"x_range\":{\"id\":\"028b3c46-cbe7-4d9c-9845-2f0027534c5b\",\"type\":\"Range1d\"},\"x_scale\":{\"id\":\"c5a90ec9-dcba-4276-a2bb-bfaa01fb7af3\",\"type\":\"LinearScale\"},\"y_range\":{\"id\":\"3c218815-5264-4864-bbee-7710cc977894\",\"type\":\"Range1d\"},\"y_scale\":{\"id\":\"0e958c15-e260-45dd-a426-9e90d5036fb2\",\"type\":\"LinearScale\"}},\"id\":\"94bada44-b4c0-473c-b954-ae6e0ee10bbf\",\"subtype\":\"Figure\",\"type\":\"Plot\"},{\"attributes\":{\"plot\":null,\"text\":\"Red point is point P \"},\"id\":\"5a0ac35c-9644-4c83-b609-73c040ee317e\",\"type\":\"Title\"},{\"attributes\":{\"callback\":null,\"end\":10},\"id\":\"028b3c46-cbe7-4d9c-9845-2f0027534c5b\",\"type\":\"Range1d\"},{\"attributes\":{\"active_drag\":\"auto\",\"active_inspect\":\"auto\",\"active_scroll\":\"auto\",\"active_tap\":{\"id\":\"871f9e6b-31b6-4139-842d-37906c8b59b4\",\"type\":\"PointDrawTool\"},\"tools\":[{\"id\":\"55cfe394-babd-46c5-b507-7220a45e0472\",\"type\":\"BoxZoomTool\"},{\"id\":\"76f9c1e1-6db8-4bbb-a490-5d700028769a\",\"type\":\"PanTool\"},{\"id\":\"9f9ba846-eff8-4cd8-8d66-fb5014a645b6\",\"type\":\"SaveTool\"},{\"id\":\"a1324f33-12b9-4120-aa9b-e35cbb6bf484\",\"type\":\"HoverTool\"},{\"id\":\"023d0cfc-f57d-4d8a-ae5b-7b26a8fdd063\",\"type\":\"ResetTool\"},{\"id\":\"171b6662-a89d-4666-8e06-6bad5654d6f1\",\"type\":\"TapTool\"},{\"id\":\"bfef0889-aae4-47ff-b79d-7234db5afba6\",\"type\":\"WheelZoomTool\"},{\"id\":\"871f9e6b-31b6-4139-842d-37906c8b59b4\",\"type\":\"PointDrawTool\"}]},\"id\":\"28aa07d9-188f-43ff-a97a-2f67ef7a5efb\",\"type\":\"Toolbar\"},{\"attributes\":{},\"id\":\"c5a90ec9-dcba-4276-a2bb-bfaa01fb7af3\",\"type\":\"LinearScale\"},{\"attributes\":{\"callback\":null,\"end\":10},\"id\":\"3c218815-5264-4864-bbee-7710cc977894\",\"type\":\"Range1d\"},{\"attributes\":{},\"id\":\"0e958c15-e260-45dd-a426-9e90d5036fb2\",\"type\":\"LinearScale\"},{\"attributes\":{\"end\":{\"id\":\"e8677d09-399a-4942-9bba-6b52e020ca63\",\"type\":\"NormalHead\"},\"plot\":{\"id\":\"94bada44-b4c0-473c-b954-ae6e0ee10bbf\",\"subtype\":\"Figure\",\"type\":\"Plot\"},\"source\":{\"id\":\"6d91feef-592d-4378-9763-9932f2addc91\",\"type\":\"ColumnDataSource\"},\"start\":null,\"x_end\":{\"field\":\"x\"},\"x_start\":{\"value\":0},\"y_end\":{\"field\":\"y\"},\"y_start\":{\"value\":0}},\"id\":\"9a3f61f7-02e6-41a6-9346-049819d9290b\",\"type\":\"Arrow\"},{\"attributes\":{\"axis_label\":\"x axis\",\"formatter\":{\"id\":\"5ad71905-07b5-4e12-9957-a12df1811276\",\"type\":\"BasicTickFormatter\"},\"plot\":{\"id\":\"94bada44-b4c0-473c-b954-ae6e0ee10bbf\",\"subtype\":\"Figure\",\"type\":\"Plot\"},\"ticker\":{\"id\":\"f162ed4f-229f-4aae-84d0-0fc749d48609\",\"type\":\"BasicTicker\"}},\"id\":\"5ec09095-d022-4cf3-ab35-e4a6486d2eeb\",\"type\":\"LinearAxis\"},{\"attributes\":{},\"id\":\"f162ed4f-229f-4aae-84d0-0fc749d48609\",\"type\":\"BasicTicker\"},{\"attributes\":{\"plot\":{\"id\":\"94bada44-b4c0-473c-b954-ae6e0ee10bbf\",\"subtype\":\"Figure\",\"type\":\"Plot\"},\"ticker\":{\"id\":\"f162ed4f-229f-4aae-84d0-0fc749d48609\",\"type\":\"BasicTicker\"}},\"id\":\"7c499679-a403-4656-a779-62fdd2f4366a\",\"type\":\"Grid\"},{\"attributes\":{\"axis_label\":\"y axis\",\"formatter\":{\"id\":\"5c31999f-985d-4f1f-8700-e87aac948fae\",\"type\":\"BasicTickFormatter\"},\"plot\":{\"id\":\"94bada44-b4c0-473c-b954-ae6e0ee10bbf\",\"subtype\":\"Figure\",\"type\":\"Plot\"},\"ticker\":{\"id\":\"0a49bbfa-a543-4b25-95d4-deaf06af289d\",\"type\":\"BasicTicker\"}},\"id\":\"e2053065-62e5-41ca-b33a-0793116ea4b8\",\"type\":\"LinearAxis\"},{\"attributes\":{\"fill_color\":{\"field\":\"color\"},\"line_color\":{\"field\":\"color\"},\"size\":{\"units\":\"screen\",\"value\":12},\"x\":{\"field\":\"x\"},\"y\":{\"field\":\"y\"}},\"id\":\"e43f4fcd-d68c-4ff6-8c73-90a24cc923aa\",\"type\":\"Circle\"},{\"attributes\":{},\"id\":\"0a49bbfa-a543-4b25-95d4-deaf06af289d\",\"type\":\"BasicTicker\"},{\"attributes\":{\"dimension\":1,\"plot\":{\"id\":\"94bada44-b4c0-473c-b954-ae6e0ee10bbf\",\"subtype\":\"Figure\",\"type\":\"Plot\"},\"ticker\":{\"id\":\"0a49bbfa-a543-4b25-95d4-deaf06af289d\",\"type\":\"BasicTicker\"}},\"id\":\"d1fd3aaa-d5a2-4fb5-92b0-7b18ea6b6e22\",\"type\":\"Grid\"},{\"attributes\":{},\"id\":\"dcd1a4a4-35cd-4329-8239-d9828d631f15\",\"type\":\"UnionRenderers\"},{\"attributes\":{\"empty_value\":\"black\",\"renderers\":[{\"id\":\"1851c464-be25-4b1a-a433-269b543dd3d8\",\"type\":\"GlyphRenderer\"}]},\"id\":\"871f9e6b-31b6-4139-842d-37906c8b59b4\",\"type\":\"PointDrawTool\"},{\"attributes\":{\"bottom_units\":\"screen\",\"fill_alpha\":{\"value\":0.5},\"fill_color\":{\"value\":\"lightgrey\"},\"left_units\":\"screen\",\"level\":\"overlay\",\"line_alpha\":{\"value\":1.0},\"line_color\":{\"value\":\"black\"},\"line_dash\":[4,4],\"line_width\":{\"value\":2},\"plot\":null,\"render_mode\":\"css\",\"right_units\":\"screen\",\"top_units\":\"screen\"},\"id\":\"28d43c54-715b-4250-83d1-7bdffaf6128c\",\"type\":\"BoxAnnotation\"},{\"attributes\":{\"fill_alpha\":{\"value\":0.1},\"fill_color\":{\"value\":\"#1f77b4\"},\"line_alpha\":{\"value\":0.1},\"line_color\":{\"value\":\"#1f77b4\"},\"size\":{\"units\":\"screen\",\"value\":12},\"x\":{\"field\":\"x\"},\"y\":{\"field\":\"y\"}},\"id\":\"ce0d36e2-d70e-4afc-80fa-22d9a16b3b46\",\"type\":\"Circle\"},{\"attributes\":{\"overlay\":{\"id\":\"28d43c54-715b-4250-83d1-7bdffaf6128c\",\"type\":\"BoxAnnotation\"}},\"id\":\"55cfe394-babd-46c5-b507-7220a45e0472\",\"type\":\"BoxZoomTool\"},{\"attributes\":{},\"id\":\"76f9c1e1-6db8-4bbb-a490-5d700028769a\",\"type\":\"PanTool\"},{\"attributes\":{},\"id\":\"9f9ba846-eff8-4cd8-8d66-fb5014a645b6\",\"type\":\"SaveTool\"},{\"attributes\":{\"data_source\":{\"id\":\"6d91feef-592d-4378-9763-9932f2addc91\",\"type\":\"ColumnDataSource\"},\"glyph\":{\"id\":\"e43f4fcd-d68c-4ff6-8c73-90a24cc923aa\",\"type\":\"Circle\"},\"hover_glyph\":null,\"muted_glyph\":null,\"nonselection_glyph\":{\"id\":\"ce0d36e2-d70e-4afc-80fa-22d9a16b3b46\",\"type\":\"Circle\"},\"selection_glyph\":null,\"view\":{\"id\":\"8a5166b5-0c21-4e2f-b313-080c83be1730\",\"type\":\"CDSView\"}},\"id\":\"1851c464-be25-4b1a-a433-269b543dd3d8\",\"type\":\"GlyphRenderer\"},{\"attributes\":{\"callback\":null,\"renderers\":\"auto\",\"tooltips\":[[\"xvalue\",\"$x\"],[\"yvalue\",\"$y\"]]},\"id\":\"a1324f33-12b9-4120-aa9b-e35cbb6bf484\",\"type\":\"HoverTool\"},{\"attributes\":{},\"id\":\"ff53871b-f139-42e0-9d74-8e1bb345ca22\",\"type\":\"Selection\"},{\"attributes\":{},\"id\":\"023d0cfc-f57d-4d8a-ae5b-7b26a8fdd063\",\"type\":\"ResetTool\"},{\"attributes\":{\"callback\":null},\"id\":\"171b6662-a89d-4666-8e06-6bad5654d6f1\",\"type\":\"TapTool\"},{\"attributes\":{},\"id\":\"bfef0889-aae4-47ff-b79d-7234db5afba6\",\"type\":\"WheelZoomTool\"}],\"root_ids\":[\"94bada44-b4c0-473c-b954-ae6e0ee10bbf\"]},\"title\":\"Bokeh Application\",\"version\":\"0.12.16\"}};\n",
       "  var render_items = [{\"docid\":\"e71e5960-26c6-4164-bf6e-b9871e22fbb0\",\"elementid\":\"1589a310-6efa-4178-a647-3c954c9bae51\",\"modelid\":\"94bada44-b4c0-473c-b954-ae6e0ee10bbf\"}];\n",
       "  root.Bokeh.embed.embed_items_notebook(docs_json, render_items);\n",
       "\n",
       "  }\n",
       "  if (root.Bokeh !== undefined) {\n",
       "    embed_document(root);\n",
       "  } else {\n",
       "    var attempts = 0;\n",
       "    var timer = setInterval(function(root) {\n",
       "      if (root.Bokeh !== undefined) {\n",
       "        embed_document(root);\n",
       "        clearInterval(timer);\n",
       "      }\n",
       "      attempts++;\n",
       "      if (attempts > 100) {\n",
       "        console.log(\"Bokeh: ERROR: Unable to run BokehJS code because BokehJS library is missing\")\n",
       "        clearInterval(timer);\n",
       "      }\n",
       "    }, 10, root)\n",
       "  }\n",
       "})(window);"
      ],
      "application/vnd.bokehjs_exec.v0+json": ""
     },
     "metadata": {
      "application/vnd.bokehjs_exec.v0+json": {
       "id": "94bada44-b4c0-473c-b954-ae6e0ee10bbf"
      }
     },
     "output_type": "display_data"
    }
   ],
   "source": [
    "# vector \n",
    "tools_to_show= 'box_zoom,pan,save,hover,reset,tap,wheel_zoom'        \n",
    "\n",
    "\n",
    "fig = pl.figure(x_range =[0,10],\n",
    "                    y_range =[0,10], \n",
    "                    plot_height =400, \n",
    "                    plot_width= 400, \n",
    "                   tools= tools_to_show,\n",
    "                   x_axis_label = \"x axis\",\n",
    "                    y_axis_label = \"y axis\", \n",
    "                   title  = \"Red point is point P \"\n",
    "                   )\n",
    "    \n",
    "    \n",
    "source = ColumnDataSource({\n",
    "    'x': [4], 'y': [5], 'color': ['red']\n",
    "})\n",
    "    \n",
    "fig.add_layout(Arrow(end=NormalHead(fill_color=\"black\"),\n",
    "                       x_start=0,\n",
    "                       y_start=0,\n",
    "                       x_end=\"x\",\n",
    "                       y_end=\"y\", \n",
    "                    source = source))\n",
    "renderer = fig.scatter(\"x\",\"y\",size = 12, color= \"color\", source  =source)\n",
    "# fig.text(x=source.data[\"x\"][0] , y=source.data[\"y\"][0]+0.2, text=[\"P\"])\n",
    "draw_tool = PointDrawTool(renderers=[renderer], empty_value='black')\n",
    "fig.add_tools(draw_tool)\n",
    "fig.toolbar.active_tap = draw_tool\n",
    "\n",
    "hover = fig.select(dict(type=HoverTool))\n",
    "hover.tooltips = [(\"xvalue\", \"$x\"), (\"yvalue\", \"$y\")]\n",
    "show(fig)\n",
    " "
   ]
  },
  {
   "cell_type": "markdown",
   "metadata": {
    "hide_input": true
   },
   "source": [
    "### Solution code\n",
    "\n",
    "```python\n",
    "# Just run above code\n",
    "```"
   ]
  },
  {
   "cell_type": "markdown",
   "metadata": {},
   "source": [
    "In the plot above we have a position of a point on the grid. For example, lets say that the point P is you on a football field and 1 unit on the grid is 1 meter. So to get to where you are, starting from the football field we are going to have to walk 4 meter right and 5 meter up. We can say that your position which is a vector has direction which is given by the components 4 units right and 5 units up. \n",
    "\n",
    "### Magnitude of a vector \n",
    "\n",
    "Vectors have another proper called magnitude. The magnitude (also known as the absolute value) is the distance between two vectors. In simple terms magnitude the length of the black line in the plot. \n",
    "\n",
    "Magnitude of the vector is defined as - \n",
    "\n",
    "|$\\textbf{A}$| = $\\sqrt{({a_1}^2+{a_2}^2 )}$ \n",
    "\n",
    "In python we can represent vectors as either lists or numpy arrays. To calculate magnitude easily, we will represent it as a numpy array. \n"
   ]
  },
  {
   "cell_type": "code",
   "execution_count": 4,
   "metadata": {
    "ExecuteTime": {
     "end_time": "2019-02-27T14:51:49.648285Z",
     "start_time": "2019-02-27T14:51:49.635291Z"
    }
   },
   "outputs": [
    {
     "name": "stdout",
     "output_type": "stream",
     "text": [
      "magnitude of point P is 9.0\n"
     ]
    }
   ],
   "source": [
    "# vector in numpy\n",
    "\n",
    "A =np.array([5,4])\n",
    "# magnitude of a vector using numpy linear algebra package\n",
    "magnitude = np.linalg.norm(A,1)\n",
    "print(\"magnitude of point P is {}\".format(magnitude))\n"
   ]
  },
  {
   "cell_type": "markdown",
   "metadata": {
    "hide_input": true
   },
   "source": [
    "### Solution code\n",
    "\n",
    "```python\n",
    "# Just run above code\n",
    "```"
   ]
  },
  {
   "cell_type": "markdown",
   "metadata": {},
   "source": [
    "The magnitude of point any P represents the distance between the point (0,0) which is called the origin and the point P.\n",
    "\n",
    "### Unit vector \n",
    "\n",
    "When we talk about vectors there is also also a sense of direction that we can capture. Take point P for example, we calculated its magnitude but would  two vectors $\\mathbf{P_1}$ and $\\mathbf{P_2}$ be the same if they have the same magnitude, not really because on the x-y grid you have them point in different directions. Take a look at the plot below "
   ]
  },
  {
   "cell_type": "code",
   "execution_count": 5,
   "metadata": {
    "ExecuteTime": {
     "end_time": "2019-02-27T17:10:54.910746Z",
     "start_time": "2019-02-27T17:10:54.776135Z"
    }
   },
   "outputs": [
    {
     "data": {
      "text/html": [
       "\n",
       "<div class=\"bk-root\">\n",
       "    <div class=\"bk-plotdiv\" id=\"1807db54-d359-45b2-a66e-0fedddafa5f1\"></div>\n",
       "</div>"
      ]
     },
     "metadata": {},
     "output_type": "display_data"
    },
    {
     "data": {
      "application/javascript": [
       "(function(root) {\n",
       "  function embed_document(root) {\n",
       "    \n",
       "  var docs_json = {\"8703e30f-fabc-468a-a632-8a5353632dce\":{\"roots\":{\"references\":[{\"attributes\":{\"callback\":null,\"renderers\":\"auto\"},\"id\":\"6fabbfd7-ccda-4a49-8024-954ad9ff3e9e\",\"type\":\"HoverTool\"},{\"attributes\":{},\"id\":\"e6bff303-b753-45b8-a04c-149e5440b294\",\"type\":\"SaveTool\"},{\"attributes\":{},\"id\":\"065c4ed4-42c4-4147-9549-31adb731268d\",\"type\":\"Selection\"},{\"attributes\":{\"bottom_units\":\"screen\",\"fill_alpha\":{\"value\":0.5},\"fill_color\":{\"value\":\"lightgrey\"},\"left_units\":\"screen\",\"level\":\"overlay\",\"line_alpha\":{\"value\":1.0},\"line_color\":{\"value\":\"black\"},\"line_dash\":[4,4],\"line_width\":{\"value\":2},\"plot\":null,\"render_mode\":\"css\",\"right_units\":\"screen\",\"top_units\":\"screen\"},\"id\":\"3918de89-2bb7-4025-9b36-07f317371594\",\"type\":\"BoxAnnotation\"},{\"attributes\":{},\"id\":\"18d31674-af4c-483a-97c5-08999fda557d\",\"type\":\"BasicTickFormatter\"},{\"attributes\":{\"callback\":null,\"data\":{\"color\":[\"red\",\"green\"],\"x\":[4,5],\"y\":[5,4]},\"selected\":{\"id\":\"065c4ed4-42c4-4147-9549-31adb731268d\",\"type\":\"Selection\"},\"selection_policy\":{\"id\":\"40f02974-0d80-4aa7-ad8e-9fa21eedb569\",\"type\":\"UnionRenderers\"}},\"id\":\"902ba403-b9ef-46ed-9ad5-82034655bd9d\",\"type\":\"ColumnDataSource\"},{\"attributes\":{},\"id\":\"a04509d1-1618-4907-9eea-e5cc5a066eb8\",\"type\":\"BasicTickFormatter\"},{\"attributes\":{\"below\":[{\"id\":\"4b91c37c-8b7a-44d5-b1fb-64f8c39c509e\",\"type\":\"LinearAxis\"}],\"left\":[{\"id\":\"c7c5249e-b775-4c40-9c1c-efa2f39e5e59\",\"type\":\"LinearAxis\"}],\"plot_height\":400,\"plot_width\":400,\"renderers\":[{\"id\":\"4b91c37c-8b7a-44d5-b1fb-64f8c39c509e\",\"type\":\"LinearAxis\"},{\"id\":\"c6a77097-a2d6-4c59-8011-f7f4b93fcc1e\",\"type\":\"Grid\"},{\"id\":\"c7c5249e-b775-4c40-9c1c-efa2f39e5e59\",\"type\":\"LinearAxis\"},{\"id\":\"78fae599-7378-4416-8cac-14154f347892\",\"type\":\"Grid\"},{\"id\":\"3918de89-2bb7-4025-9b36-07f317371594\",\"type\":\"BoxAnnotation\"},{\"id\":\"d518bb62-b916-46df-b84a-9221ecdb20fb\",\"type\":\"GlyphRenderer\"},{\"id\":\"ffdb82cf-0aa2-47eb-8762-5d55d522f5c0\",\"type\":\"Arrow\"}],\"title\":{\"id\":\"df2cde1f-b01c-4b27-86de-d56069926208\",\"type\":\"Title\"},\"toolbar\":{\"id\":\"a95b807e-20f9-4879-a2a7-81c79327b494\",\"type\":\"Toolbar\"},\"x_range\":{\"id\":\"7cfa655b-2328-41e6-8f5a-5908e431f481\",\"type\":\"Range1d\"},\"x_scale\":{\"id\":\"4fbb171f-038f-4a1b-8a1e-d73408856f8e\",\"type\":\"LinearScale\"},\"y_range\":{\"id\":\"604763a1-d471-4879-992b-580903798658\",\"type\":\"Range1d\"},\"y_scale\":{\"id\":\"80d84acd-b349-4825-9477-5fe904c7518b\",\"type\":\"LinearScale\"}},\"id\":\"94196641-cc12-4c43-9d37-a17baff72dfe\",\"subtype\":\"Figure\",\"type\":\"Plot\"},{\"attributes\":{},\"id\":\"62a00683-385d-4972-93fa-bf150f4e1aa3\",\"type\":\"WheelZoomTool\"},{\"attributes\":{},\"id\":\"80d84acd-b349-4825-9477-5fe904c7518b\",\"type\":\"LinearScale\"},{\"attributes\":{\"source\":{\"id\":\"902ba403-b9ef-46ed-9ad5-82034655bd9d\",\"type\":\"ColumnDataSource\"}},\"id\":\"af6b6016-0204-4654-9bf3-b31ce80ab23b\",\"type\":\"CDSView\"},{\"attributes\":{\"callback\":null},\"id\":\"13d84d4e-40ee-43ae-b317-425ed3c0cf4e\",\"type\":\"TapTool\"},{\"attributes\":{\"plot\":null},\"id\":\"eec11a67-7bbf-4160-a2a2-cedf6b7603ae\",\"type\":\"NormalHead\"},{\"attributes\":{},\"id\":\"4fbb171f-038f-4a1b-8a1e-d73408856f8e\",\"type\":\"LinearScale\"},{\"attributes\":{\"callback\":null,\"end\":10},\"id\":\"604763a1-d471-4879-992b-580903798658\",\"type\":\"Range1d\"},{\"attributes\":{\"plot\":null,\"text\":\"Two vectors with the same magnitude \"},\"id\":\"df2cde1f-b01c-4b27-86de-d56069926208\",\"type\":\"Title\"},{\"attributes\":{\"fill_alpha\":{\"value\":0.1},\"fill_color\":{\"value\":\"#1f77b4\"},\"line_alpha\":{\"value\":0.1},\"line_color\":{\"value\":\"#1f77b4\"},\"size\":{\"units\":\"screen\",\"value\":12},\"x\":{\"field\":\"x\"},\"y\":{\"field\":\"y\"}},\"id\":\"23a1e204-1487-4056-892c-cc972e342afc\",\"type\":\"Circle\"},{\"attributes\":{\"callback\":null,\"end\":10},\"id\":\"7cfa655b-2328-41e6-8f5a-5908e431f481\",\"type\":\"Range1d\"},{\"attributes\":{\"active_drag\":\"auto\",\"active_inspect\":\"auto\",\"active_scroll\":\"auto\",\"active_tap\":\"auto\",\"tools\":[{\"id\":\"be893174-e980-4d31-9add-341a1afc3ad8\",\"type\":\"BoxZoomTool\"},{\"id\":\"51775ae1-c118-45cb-9ea5-1fc06651953f\",\"type\":\"PanTool\"},{\"id\":\"e6bff303-b753-45b8-a04c-149e5440b294\",\"type\":\"SaveTool\"},{\"id\":\"6fabbfd7-ccda-4a49-8024-954ad9ff3e9e\",\"type\":\"HoverTool\"},{\"id\":\"422fcce1-f8ff-4a3c-92fd-d01207f36e50\",\"type\":\"ResetTool\"},{\"id\":\"13d84d4e-40ee-43ae-b317-425ed3c0cf4e\",\"type\":\"TapTool\"},{\"id\":\"62a00683-385d-4972-93fa-bf150f4e1aa3\",\"type\":\"WheelZoomTool\"}]},\"id\":\"a95b807e-20f9-4879-a2a7-81c79327b494\",\"type\":\"Toolbar\"},{\"attributes\":{},\"id\":\"40f02974-0d80-4aa7-ad8e-9fa21eedb569\",\"type\":\"UnionRenderers\"},{\"attributes\":{\"plot\":{\"id\":\"94196641-cc12-4c43-9d37-a17baff72dfe\",\"subtype\":\"Figure\",\"type\":\"Plot\"},\"ticker\":{\"id\":\"dfb04499-6b8f-4b9b-9840-91fcaf17467d\",\"type\":\"BasicTicker\"}},\"id\":\"c6a77097-a2d6-4c59-8011-f7f4b93fcc1e\",\"type\":\"Grid\"},{\"attributes\":{},\"id\":\"422fcce1-f8ff-4a3c-92fd-d01207f36e50\",\"type\":\"ResetTool\"},{\"attributes\":{\"axis_label\":\"x axis\",\"formatter\":{\"id\":\"a04509d1-1618-4907-9eea-e5cc5a066eb8\",\"type\":\"BasicTickFormatter\"},\"plot\":{\"id\":\"94196641-cc12-4c43-9d37-a17baff72dfe\",\"subtype\":\"Figure\",\"type\":\"Plot\"},\"ticker\":{\"id\":\"dfb04499-6b8f-4b9b-9840-91fcaf17467d\",\"type\":\"BasicTicker\"}},\"id\":\"4b91c37c-8b7a-44d5-b1fb-64f8c39c509e\",\"type\":\"LinearAxis\"},{\"attributes\":{},\"id\":\"dfb04499-6b8f-4b9b-9840-91fcaf17467d\",\"type\":\"BasicTicker\"},{\"attributes\":{\"axis_label\":\"y axis\",\"formatter\":{\"id\":\"18d31674-af4c-483a-97c5-08999fda557d\",\"type\":\"BasicTickFormatter\"},\"plot\":{\"id\":\"94196641-cc12-4c43-9d37-a17baff72dfe\",\"subtype\":\"Figure\",\"type\":\"Plot\"},\"ticker\":{\"id\":\"fcfce24c-c1ad-4eb6-be83-a90ec5f5ba9e\",\"type\":\"BasicTicker\"}},\"id\":\"c7c5249e-b775-4c40-9c1c-efa2f39e5e59\",\"type\":\"LinearAxis\"},{\"attributes\":{},\"id\":\"fcfce24c-c1ad-4eb6-be83-a90ec5f5ba9e\",\"type\":\"BasicTicker\"},{\"attributes\":{\"dimension\":1,\"plot\":{\"id\":\"94196641-cc12-4c43-9d37-a17baff72dfe\",\"subtype\":\"Figure\",\"type\":\"Plot\"},\"ticker\":{\"id\":\"fcfce24c-c1ad-4eb6-be83-a90ec5f5ba9e\",\"type\":\"BasicTicker\"}},\"id\":\"78fae599-7378-4416-8cac-14154f347892\",\"type\":\"Grid\"},{\"attributes\":{\"data_source\":{\"id\":\"902ba403-b9ef-46ed-9ad5-82034655bd9d\",\"type\":\"ColumnDataSource\"},\"glyph\":{\"id\":\"6513f0fe-eb16-44cf-b0c4-1cad176e6398\",\"type\":\"Circle\"},\"hover_glyph\":null,\"muted_glyph\":null,\"nonselection_glyph\":{\"id\":\"23a1e204-1487-4056-892c-cc972e342afc\",\"type\":\"Circle\"},\"selection_glyph\":null,\"view\":{\"id\":\"af6b6016-0204-4654-9bf3-b31ce80ab23b\",\"type\":\"CDSView\"}},\"id\":\"d518bb62-b916-46df-b84a-9221ecdb20fb\",\"type\":\"GlyphRenderer\"},{\"attributes\":{\"fill_color\":{\"field\":\"color\"},\"line_color\":{\"field\":\"color\"},\"size\":{\"units\":\"screen\",\"value\":12},\"x\":{\"field\":\"x\"},\"y\":{\"field\":\"y\"}},\"id\":\"6513f0fe-eb16-44cf-b0c4-1cad176e6398\",\"type\":\"Circle\"},{\"attributes\":{\"end\":{\"id\":\"eec11a67-7bbf-4160-a2a2-cedf6b7603ae\",\"type\":\"NormalHead\"},\"plot\":{\"id\":\"94196641-cc12-4c43-9d37-a17baff72dfe\",\"subtype\":\"Figure\",\"type\":\"Plot\"},\"source\":{\"id\":\"902ba403-b9ef-46ed-9ad5-82034655bd9d\",\"type\":\"ColumnDataSource\"},\"start\":null,\"x_end\":{\"field\":\"x\"},\"x_start\":{\"value\":0},\"y_end\":{\"field\":\"y\"},\"y_start\":{\"value\":0}},\"id\":\"ffdb82cf-0aa2-47eb-8762-5d55d522f5c0\",\"type\":\"Arrow\"},{\"attributes\":{\"overlay\":{\"id\":\"3918de89-2bb7-4025-9b36-07f317371594\",\"type\":\"BoxAnnotation\"}},\"id\":\"be893174-e980-4d31-9add-341a1afc3ad8\",\"type\":\"BoxZoomTool\"},{\"attributes\":{},\"id\":\"51775ae1-c118-45cb-9ea5-1fc06651953f\",\"type\":\"PanTool\"}],\"root_ids\":[\"94196641-cc12-4c43-9d37-a17baff72dfe\"]},\"title\":\"Bokeh Application\",\"version\":\"0.12.16\"}};\n",
       "  var render_items = [{\"docid\":\"8703e30f-fabc-468a-a632-8a5353632dce\",\"elementid\":\"1807db54-d359-45b2-a66e-0fedddafa5f1\",\"modelid\":\"94196641-cc12-4c43-9d37-a17baff72dfe\"}];\n",
       "  root.Bokeh.embed.embed_items_notebook(docs_json, render_items);\n",
       "\n",
       "  }\n",
       "  if (root.Bokeh !== undefined) {\n",
       "    embed_document(root);\n",
       "  } else {\n",
       "    var attempts = 0;\n",
       "    var timer = setInterval(function(root) {\n",
       "      if (root.Bokeh !== undefined) {\n",
       "        embed_document(root);\n",
       "        clearInterval(timer);\n",
       "      }\n",
       "      attempts++;\n",
       "      if (attempts > 100) {\n",
       "        console.log(\"Bokeh: ERROR: Unable to run BokehJS code because BokehJS library is missing\")\n",
       "        clearInterval(timer);\n",
       "      }\n",
       "    }, 10, root)\n",
       "  }\n",
       "})(window);"
      ],
      "application/vnd.bokehjs_exec.v0+json": ""
     },
     "metadata": {
      "application/vnd.bokehjs_exec.v0+json": {
       "id": "94196641-cc12-4c43-9d37-a17baff72dfe"
      }
     },
     "output_type": "display_data"
    }
   ],
   "source": [
    "# vector \n",
    "tools_to_show= 'box_zoom,pan,save,hover,reset,tap,wheel_zoom'        \n",
    "\n",
    "\n",
    "fig = pl.figure(x_range =[0,10],\n",
    "                    y_range =[0,10], \n",
    "                    plot_height =400, \n",
    "                    plot_width= 400, \n",
    "                   tools= tools_to_show,\n",
    "                   x_axis_label = \"x axis\",\n",
    "                    y_axis_label = \"y axis\", \n",
    "                   title  = \"Two vectors with the same magnitude \"\n",
    "                   )\n",
    "    \n",
    "    \n",
    "source = ColumnDataSource({\n",
    "    'x': [4, 5], 'y': [5, 4], 'color': ['red', 'green']\n",
    "})\n",
    "fig.scatter(\"x\",\"y\",size = 12, color= \"color\", source  =source)\n",
    "   \n",
    "fig.add_layout(Arrow(end=NormalHead(fill_color=\"black\"),\n",
    "                       x_start=0,\n",
    "                       y_start=0,\n",
    "                       x_end=\"x\",\n",
    "                       y_end=\"y\", \n",
    "                    source = source))\n",
    "\n",
    "show(fig)"
   ]
  },
  {
   "cell_type": "markdown",
   "metadata": {
    "hide_input": true
   },
   "source": [
    "### Solution code\n",
    "\n",
    "```python\n",
    "# Just run above code\n",
    "```"
   ]
  },
  {
   "cell_type": "markdown",
   "metadata": {},
   "source": [
    "This is why need to quantify a sense of direction for a vector. This is provided by the unit vector. The unit vector is a vector whose magnitude is always 1 but x and y components keeps changing on the basis of direction. So for example - \n",
    "\n",
    "$$\n",
    "\\hat{x} = [1,0 ]  \\\\\n",
    "\\hat{y} = [0,1 ]\n",
    "$$\n",
    "\n",
    "the vector $\\hat{x}$ represents the unit vector in the x direction on a x-y grid. Similarly, the vector $\\hat{y}$ represents a unit vector in the y direction. Below is the plot of a unit vector and its components. \n",
    "\n",
    "\n"
   ]
  },
  {
   "cell_type": "code",
   "execution_count": 6,
   "metadata": {
    "ExecuteTime": {
     "end_time": "2019-02-27T17:25:55.046751Z",
     "start_time": "2019-02-27T17:25:54.464354Z"
    }
   },
   "outputs": [
    {
     "data": {
      "application/vnd.jupyter.widget-view+json": {
       "model_id": "61524049a50949f9b000419d7c3a802c",
       "version_major": 2,
       "version_minor": 0
      },
      "text/plain": [
       "interactive(children=(FloatSlider(value=0.0, description='vec_1_ort', max=1.57, step=0.01), Output()), _dom_cl…"
      ]
     },
     "metadata": {},
     "output_type": "display_data"
    },
    {
     "data": {
      "text/plain": [
       "<function __main__.vec_plot(vec_1_ort)>"
      ]
     },
     "execution_count": 6,
     "metadata": {},
     "output_type": "execute_result"
    }
   ],
   "source": [
    "# vector \n",
    "tools_to_show= 'box_zoom,pan,save,hover,reset,tap,wheel_zoom'        \n",
    "\n",
    "\n",
    "# go by vector orientation \n",
    "\n",
    "def vec_plot(vec_1_ort):\n",
    "    vec_1 = [0,1]\n",
    " \n",
    "    vec_1_x = vec_1[0]*np.cos(vec_1_ort)  + vec_1[1]*np.sin(vec_1_ort) \n",
    "    vec_1_y = -vec_1[0]*np.sin(vec_1_ort) +vec_1[1]*np.cos(vec_1_ort)\n",
    "    \n",
    "    magnitude = np.linalg.norm([vec_1_x, vec_1_y])\n",
    "    \n",
    "    fig = pl.figure(x_range =[0,3],\n",
    "                    y_range =[0,3], \n",
    "                    plot_height =400, \n",
    "                    plot_width= 400, \n",
    "                   tools= tools_to_show,\n",
    "                   x_axis_label = \"x axis\",\n",
    "                    y_axis_label = \"y axis\"\n",
    "                   )\n",
    "    \n",
    "    \n",
    "    \n",
    "    fig.add_layout(Arrow(end=NormalHead(fill_color=\"black\"),\n",
    "                       x_start=0,\n",
    "                       y_start=0,\n",
    "                       x_end=vec_1_x,\n",
    "                       y_end=vec_1_y))\n",
    "    \n",
    "\n",
    "\n",
    "    \n",
    "    fig.circle(vec_1_x,vec_1_y,size = 12, color= \"red\")\n",
    "    fig.text(x= 1, y =2.5, text =[\"x_component \\n\" + \" \"+str(np.round(vec_1_x, 2))])\n",
    "    fig.text(x= 2.0, y =2.5, text =[\"y_component \\n\" + \" \" +str(np.round(vec_1_y, 2))])\n",
    "    fig.text(x = 1.5, y= 1.75, text = [ \"Magnitude \\n\" + \" \" +str(np.round(magnitude, 2))] )\n",
    "    hover = fig.select(dict(type=HoverTool))    \n",
    "    hover.tooltips = [(\"xvalue\", \"$x\"), (\"yvalue\", \"$y\")]\n",
    "    show(fig)\n",
    "    return \n",
    "\n",
    "interact(vec_plot, \n",
    "                   vec_1_ort = widgets.FloatSlider(value = 0, min= 0, max =1.57, step =0.01 )\n",
    "        \n",
    "                 \n",
    "        \n",
    "        )"
   ]
  },
  {
   "cell_type": "markdown",
   "metadata": {
    "hide_input": true
   },
   "source": [
    "### Solution code\n",
    "\n",
    "```python\n",
    "# Just run above code\n",
    "```"
   ]
  },
  {
   "cell_type": "markdown",
   "metadata": {},
   "source": [
    "This is why when we talk about defining a vector we talk about an object that has both magnitude, which represents the length of a vector and a direction, which tells us what direction the vector is point to. Hence, for us to say that two vectors are equal, they must have the same magnitude and direction as well. \n",
    "\n",
    "### Vector arithmetic \n",
    "In order to talk about vector arithmetic. Lets take a simple example \n",
    "\n",
    "Suppose you are standing at point P = $[4,5]$.  Now suppose you have a friend who joins you on the football field and he is standing at the point Q. So to get to him someone will have to walk 2 units up and 8 units, right hence Q=(8,2). So how would you, who is at point P get to where your friend is? \n",
    "\n",
    "well that would be \n",
    "\n",
    "R = Q-P = [8, 2] - [4,5]  =  [8-4,2-5]= [4,-3] \n",
    "\n",
    "so to get to Q, you need to walk 4 right and 3 units down (hence the negative sign). Take a look at the plot below \n"
   ]
  },
  {
   "cell_type": "code",
   "execution_count": 7,
   "metadata": {
    "ExecuteTime": {
     "end_time": "2019-02-27T17:36:52.615880Z",
     "start_time": "2019-02-27T17:36:51.804164Z"
    }
   },
   "outputs": [
    {
     "data": {
      "application/vnd.jupyter.widget-view+json": {
       "model_id": "550fa8e483624e319f9625e72abb6aff",
       "version_major": 2,
       "version_minor": 0
      },
      "text/plain": [
       "interactive(children=(FloatSlider(value=4.0, description='x', max=9.0, min=1.0, step=0.01), FloatSlider(value=…"
      ]
     },
     "metadata": {},
     "output_type": "display_data"
    },
    {
     "data": {
      "text/plain": [
       "<function __main__.vec_plot(x, y)>"
      ]
     },
     "execution_count": 7,
     "metadata": {},
     "output_type": "execute_result"
    }
   ],
   "source": [
    "# vector \n",
    "tools_to_show= 'box_zoom,pan,save,hover,reset,tap,wheel_zoom'        \n",
    "\n",
    "def vec_plot(x,y):\n",
    "    fig = pl.figure(x_range =[0,10],\n",
    "                    y_range =[0,10], \n",
    "                    plot_height =400, \n",
    "                    plot_width= 400, \n",
    "                   tools= tools_to_show,\n",
    "                   x_axis_label = \"x axis\",\n",
    "                    y_axis_label = \"y axis\"\n",
    "                   )\n",
    "    \n",
    "    \n",
    "    \n",
    "    fig.add_layout(Arrow(end=NormalHead(fill_color=\"black\"),\n",
    "                       x_start=0,\n",
    "                       y_start=0,\n",
    "                       x_end=x,\n",
    "                       y_end=y))\n",
    "    \n",
    "    fig.add_layout(Arrow(end=NormalHead(fill_color=\"black\"),\n",
    "                       x_start=0,\n",
    "                       y_start=0,\n",
    "                       x_end=8,\n",
    "                       y_end=2))\n",
    "    fig.add_layout(Arrow(end=NormalHead(fill_color=\"black\"),\n",
    "                       x_start=x,\n",
    "                       y_start=y,\n",
    "                       x_end=8,\n",
    "                       y_end=2))\n",
    "    \n",
    "\n",
    "    p = np.array([x,y])\n",
    "    q = np.array([8,2])\n",
    "    \n",
    "    r_dist =  np.linalg.norm(p-q)\n",
    "    fig.circle(x,y,size = 12, color= \"red\")\n",
    "    fig.circle(x = 8,y = 2,size = 12, color= \"green\")\n",
    "    \n",
    "    fig.text(x=x, y=y+0.2, text=[\"P\"])\n",
    "    fig.text(x=8, y=2+0.2, text=[\"Q\"])\n",
    "    fig.text(x=(8-x)/2+ x, y=-(2-y)/2+(y/2), text=[\"R\"])\n",
    "    \n",
    "    hover = fig.select(dict(type=HoverTool))    \n",
    "    hover.tooltips = [(\"xvalue\", \"$x\"), (\"yvalue\", \"$y\")]\n",
    "    show(fig)\n",
    "    print(\"distance between points Q and P is {} units\".format(np.round(np.linalg.norm(p-q),2)))\n",
    "    return \n",
    "\n",
    "interact(vec_plot, \n",
    "                   x = widgets.FloatSlider(value = 4, min= 1, max =9, step =0.01 ),\n",
    "        \n",
    "                     y = widgets.FloatSlider(value = 5, min= 1, max =9, step =0.01 ), \n",
    "        \n",
    "        )"
   ]
  },
  {
   "cell_type": "markdown",
   "metadata": {
    "hide_input": true
   },
   "source": [
    "### Solution code\n",
    "\n",
    "```python\n",
    "# Just run above code\n",
    "```"
   ]
  },
  {
   "cell_type": "markdown",
   "metadata": {},
   "source": [
    "Now that we have a general idea of what a vector is lets talk about the two configuration of vectors-  Row vectors and column vectors. \n",
    "\n",
    "A row vector is written as A = $[a,b]$  and  a column vector is written as  B = $ \\begin{bmatrix}c \\\\ d \\end{bmatrix} $. \n",
    "Example of row vectors would be  A  =  $[2,4,52]$, B  =  $[7,1,5]$. The corresponding column vectors would be. \n",
    "\n",
    "A = $ \\begin{bmatrix}2 \\\\ 4 \\\\52 \\end{bmatrix} $\n",
    "\n",
    "B = $ \\begin{bmatrix}7 \\\\ 1 \\\\5 \\end{bmatrix} $\n",
    "\n",
    "We can convert a row vector to a column vector using the transpose operation. The transpose operation is more generally defined for a matrix but in case of a vector it lets us write a row vector as a column vector. Take for example, the row vector  A  =  $[2,4,52]$, the corresponding column vector would be\n",
    "\n",
    "\n",
    "A$^T$ =  $ \\begin{bmatrix}2 \\\\ 4 \\\\52 \\end{bmatrix} $\n",
    "\n",
    "We can also write this as $[2,4,52]^T$\n",
    "\n",
    "All of this will be relevant especially when we start talking about vector multiplication\n",
    "\n",
    "\n",
    "\n",
    "From the previous plot,  in acquiring R what we have shown is that we can subtract vectors. There are other operations that we can do with vectors as well- \n",
    "\n",
    "$\\textbf{Addition of Vectors} -$  <br>\n",
    "\n",
    " $\\textbf{A}+\\textbf{B}  =  [a_1 + b_1, a_2 + b_2]$<br>\n",
    "\n",
    "$\\textbf{ Subtraction of Vectors} -$ <br>\n",
    "\n",
    " $\\textbf{A}-\\textbf{B}  = [a_1 - b_1,a_2 - b_2]$<br>\n",
    " \n",
    " For both addition and subtraction, you can add or subtract only row vectors to row vectors and column vectors to column vectors. \n",
    "\n",
    "In the next notebook we will spend some time talking about vector multiplication. \n"
   ]
  },
  {
   "cell_type": "code",
   "execution_count": null,
   "metadata": {},
   "outputs": [],
   "source": [
    "# End of notebook"
   ]
  },
  {
   "cell_type": "markdown",
   "metadata": {
    "hide_input": true
   },
   "source": [
    "### Solution code\n",
    "\n",
    "```python\n",
    "# End of notebook\n",
    "```"
   ]
  }
 ],
 "metadata": {
  "celltoolbar": "Edit Metadata",
  "kernelspec": {
   "display_name": "Python 3",
   "language": "python",
   "name": "python3"
  },
  "language_info": {
   "codemirror_mode": {
    "name": "ipython",
    "version": 3
   },
   "file_extension": ".py",
   "mimetype": "text/x-python",
   "name": "python",
   "nbconvert_exporter": "python",
   "pygments_lexer": "ipython3",
   "version": "3.7.4"
  },
  "latex_envs": {
   "LaTeX_envs_menu_present": true,
   "autoclose": true,
   "autocomplete": true,
   "bibliofile": "biblio.bib",
   "cite_by": "apalike",
   "current_citInitial": 1,
   "eqLabelWithNumbers": true,
   "eqNumInitial": 1,
   "hotkeys": {
    "equation": "Ctrl-E",
    "itemize": "Ctrl-I"
   },
   "labels_anchors": false,
   "latex_user_defs": false,
   "report_style_numbering": true,
   "user_envs_cfg": false
  },
  "toc": {
   "base_numbering": 1,
   "nav_menu": {},
   "number_sections": true,
   "sideBar": true,
   "skip_h1_title": false,
   "title_cell": "Table of Contents",
   "title_sidebar": "Contents",
   "toc_cell": false,
   "toc_position": {},
   "toc_section_display": true,
   "toc_window_display": false
  },
  "varInspector": {
   "cols": {
    "lenName": 16,
    "lenType": 16,
    "lenVar": 40
   },
   "kernels_config": {
    "python": {
     "delete_cmd_postfix": "",
     "delete_cmd_prefix": "del ",
     "library": "var_list.py",
     "varRefreshCmd": "print(var_dic_list())"
    },
    "r": {
     "delete_cmd_postfix": ") ",
     "delete_cmd_prefix": "rm(",
     "library": "var_list.r",
     "varRefreshCmd": "cat(var_dic_list()) "
    }
   },
   "types_to_exclude": [
    "module",
    "function",
    "builtin_function_or_method",
    "instance",
    "_Feature"
   ],
   "window_display": false
  }
 },
 "nbformat": 4,
 "nbformat_minor": 2
}
