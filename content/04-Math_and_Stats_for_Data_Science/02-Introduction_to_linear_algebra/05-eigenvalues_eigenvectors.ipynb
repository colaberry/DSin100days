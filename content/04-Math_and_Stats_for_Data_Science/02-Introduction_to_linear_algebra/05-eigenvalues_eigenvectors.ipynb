{
 "cells": [
  {
   "cell_type": "markdown",
   "metadata": {},
   "source": [
    "#### Run the below code to import all libraries required to run sample code within this notebook"
   ]
  },
  {
   "cell_type": "code",
   "execution_count": 1,
   "metadata": {
    "ExecuteTime": {
     "end_time": "2019-02-27T20:57:36.143940Z",
     "start_time": "2019-02-27T20:57:33.137579Z"
    }
   },
   "outputs": [
    {
     "data": {
      "text/html": [
       "\n",
       "    <div class=\"bk-root\">\n",
       "        <a href=\"https://bokeh.pydata.org\" target=\"_blank\" class=\"bk-logo bk-logo-small bk-logo-notebook\"></a>\n",
       "        <span id=\"ee8da570-f233-4d7a-a643-f120132a8130\">Loading BokehJS ...</span>\n",
       "    </div>"
      ]
     },
     "metadata": {},
     "output_type": "display_data"
    },
    {
     "data": {
      "application/javascript": [
       "\n",
       "(function(root) {\n",
       "  function now() {\n",
       "    return new Date();\n",
       "  }\n",
       "\n",
       "  var force = true;\n",
       "\n",
       "  if (typeof (root._bokeh_onload_callbacks) === \"undefined\" || force === true) {\n",
       "    root._bokeh_onload_callbacks = [];\n",
       "    root._bokeh_is_loading = undefined;\n",
       "  }\n",
       "\n",
       "  var JS_MIME_TYPE = 'application/javascript';\n",
       "  var HTML_MIME_TYPE = 'text/html';\n",
       "  var EXEC_MIME_TYPE = 'application/vnd.bokehjs_exec.v0+json';\n",
       "  var CLASS_NAME = 'output_bokeh rendered_html';\n",
       "\n",
       "  /**\n",
       "   * Render data to the DOM node\n",
       "   */\n",
       "  function render(props, node) {\n",
       "    var script = document.createElement(\"script\");\n",
       "    node.appendChild(script);\n",
       "  }\n",
       "\n",
       "  /**\n",
       "   * Handle when an output is cleared or removed\n",
       "   */\n",
       "  function handleClearOutput(event, handle) {\n",
       "    var cell = handle.cell;\n",
       "\n",
       "    var id = cell.output_area._bokeh_element_id;\n",
       "    var server_id = cell.output_area._bokeh_server_id;\n",
       "    // Clean up Bokeh references\n",
       "    if (id !== undefined) {\n",
       "      Bokeh.index[id].model.document.clear();\n",
       "      delete Bokeh.index[id];\n",
       "    }\n",
       "\n",
       "    if (server_id !== undefined) {\n",
       "      // Clean up Bokeh references\n",
       "      var cmd = \"from bokeh.io.state import curstate; print(curstate().uuid_to_server['\" + server_id + \"'].get_sessions()[0].document.roots[0]._id)\";\n",
       "      cell.notebook.kernel.execute(cmd, {\n",
       "        iopub: {\n",
       "          output: function(msg) {\n",
       "            var element_id = msg.content.text.trim();\n",
       "            Bokeh.index[element_id].model.document.clear();\n",
       "            delete Bokeh.index[element_id];\n",
       "          }\n",
       "        }\n",
       "      });\n",
       "      // Destroy server and session\n",
       "      var cmd = \"import bokeh.io.notebook as ion; ion.destroy_server('\" + server_id + \"')\";\n",
       "      cell.notebook.kernel.execute(cmd);\n",
       "    }\n",
       "  }\n",
       "\n",
       "  /**\n",
       "   * Handle when a new output is added\n",
       "   */\n",
       "  function handleAddOutput(event, handle) {\n",
       "    var output_area = handle.output_area;\n",
       "    var output = handle.output;\n",
       "\n",
       "    // limit handleAddOutput to display_data with EXEC_MIME_TYPE content only\n",
       "    if ((output.output_type != \"display_data\") || (!output.data.hasOwnProperty(EXEC_MIME_TYPE))) {\n",
       "      return\n",
       "    }\n",
       "\n",
       "    var toinsert = output_area.element.find(\".\" + CLASS_NAME.split(' ')[0]);\n",
       "\n",
       "    if (output.metadata[EXEC_MIME_TYPE][\"id\"] !== undefined) {\n",
       "      toinsert[toinsert.length - 1].firstChild.textContent = output.data[JS_MIME_TYPE];\n",
       "      // store reference to embed id on output_area\n",
       "      output_area._bokeh_element_id = output.metadata[EXEC_MIME_TYPE][\"id\"];\n",
       "    }\n",
       "    if (output.metadata[EXEC_MIME_TYPE][\"server_id\"] !== undefined) {\n",
       "      var bk_div = document.createElement(\"div\");\n",
       "      bk_div.innerHTML = output.data[HTML_MIME_TYPE];\n",
       "      var script_attrs = bk_div.children[0].attributes;\n",
       "      for (var i = 0; i < script_attrs.length; i++) {\n",
       "        toinsert[toinsert.length - 1].firstChild.setAttribute(script_attrs[i].name, script_attrs[i].value);\n",
       "      }\n",
       "      // store reference to server id on output_area\n",
       "      output_area._bokeh_server_id = output.metadata[EXEC_MIME_TYPE][\"server_id\"];\n",
       "    }\n",
       "  }\n",
       "\n",
       "  function register_renderer(events, OutputArea) {\n",
       "\n",
       "    function append_mime(data, metadata, element) {\n",
       "      // create a DOM node to render to\n",
       "      var toinsert = this.create_output_subarea(\n",
       "        metadata,\n",
       "        CLASS_NAME,\n",
       "        EXEC_MIME_TYPE\n",
       "      );\n",
       "      this.keyboard_manager.register_events(toinsert);\n",
       "      // Render to node\n",
       "      var props = {data: data, metadata: metadata[EXEC_MIME_TYPE]};\n",
       "      render(props, toinsert[toinsert.length - 1]);\n",
       "      element.append(toinsert);\n",
       "      return toinsert\n",
       "    }\n",
       "\n",
       "    /* Handle when an output is cleared or removed */\n",
       "    events.on('clear_output.CodeCell', handleClearOutput);\n",
       "    events.on('delete.Cell', handleClearOutput);\n",
       "\n",
       "    /* Handle when a new output is added */\n",
       "    events.on('output_added.OutputArea', handleAddOutput);\n",
       "\n",
       "    /**\n",
       "     * Register the mime type and append_mime function with output_area\n",
       "     */\n",
       "    OutputArea.prototype.register_mime_type(EXEC_MIME_TYPE, append_mime, {\n",
       "      /* Is output safe? */\n",
       "      safe: true,\n",
       "      /* Index of renderer in `output_area.display_order` */\n",
       "      index: 0\n",
       "    });\n",
       "  }\n",
       "\n",
       "  // register the mime type if in Jupyter Notebook environment and previously unregistered\n",
       "  if (root.Jupyter !== undefined) {\n",
       "    var events = require('base/js/events');\n",
       "    var OutputArea = require('notebook/js/outputarea').OutputArea;\n",
       "\n",
       "    if (OutputArea.prototype.mime_types().indexOf(EXEC_MIME_TYPE) == -1) {\n",
       "      register_renderer(events, OutputArea);\n",
       "    }\n",
       "  }\n",
       "\n",
       "  \n",
       "  if (typeof (root._bokeh_timeout) === \"undefined\" || force === true) {\n",
       "    root._bokeh_timeout = Date.now() + 5000;\n",
       "    root._bokeh_failed_load = false;\n",
       "  }\n",
       "\n",
       "  var NB_LOAD_WARNING = {'data': {'text/html':\n",
       "     \"<div style='background-color: #fdd'>\\n\"+\n",
       "     \"<p>\\n\"+\n",
       "     \"BokehJS does not appear to have successfully loaded. If loading BokehJS from CDN, this \\n\"+\n",
       "     \"may be due to a slow or bad network connection. Possible fixes:\\n\"+\n",
       "     \"</p>\\n\"+\n",
       "     \"<ul>\\n\"+\n",
       "     \"<li>re-rerun `output_notebook()` to attempt to load from CDN again, or</li>\\n\"+\n",
       "     \"<li>use INLINE resources instead, as so:</li>\\n\"+\n",
       "     \"</ul>\\n\"+\n",
       "     \"<code>\\n\"+\n",
       "     \"from bokeh.resources import INLINE\\n\"+\n",
       "     \"output_notebook(resources=INLINE)\\n\"+\n",
       "     \"</code>\\n\"+\n",
       "     \"</div>\"}};\n",
       "\n",
       "  function display_loaded() {\n",
       "    var el = document.getElementById(\"ee8da570-f233-4d7a-a643-f120132a8130\");\n",
       "    if (el != null) {\n",
       "      el.textContent = \"BokehJS is loading...\";\n",
       "    }\n",
       "    if (root.Bokeh !== undefined) {\n",
       "      if (el != null) {\n",
       "        el.textContent = \"BokehJS \" + root.Bokeh.version + \" successfully loaded.\";\n",
       "      }\n",
       "    } else if (Date.now() < root._bokeh_timeout) {\n",
       "      setTimeout(display_loaded, 100)\n",
       "    }\n",
       "  }\n",
       "\n",
       "\n",
       "  function run_callbacks() {\n",
       "    try {\n",
       "      root._bokeh_onload_callbacks.forEach(function(callback) { callback() });\n",
       "    }\n",
       "    finally {\n",
       "      delete root._bokeh_onload_callbacks\n",
       "    }\n",
       "    console.info(\"Bokeh: all callbacks have finished\");\n",
       "  }\n",
       "\n",
       "  function load_libs(js_urls, callback) {\n",
       "    root._bokeh_onload_callbacks.push(callback);\n",
       "    if (root._bokeh_is_loading > 0) {\n",
       "      console.log(\"Bokeh: BokehJS is being loaded, scheduling callback at\", now());\n",
       "      return null;\n",
       "    }\n",
       "    if (js_urls == null || js_urls.length === 0) {\n",
       "      run_callbacks();\n",
       "      return null;\n",
       "    }\n",
       "    console.log(\"Bokeh: BokehJS not loaded, scheduling load and callback at\", now());\n",
       "    root._bokeh_is_loading = js_urls.length;\n",
       "    for (var i = 0; i < js_urls.length; i++) {\n",
       "      var url = js_urls[i];\n",
       "      var s = document.createElement('script');\n",
       "      s.src = url;\n",
       "      s.async = false;\n",
       "      s.onreadystatechange = s.onload = function() {\n",
       "        root._bokeh_is_loading--;\n",
       "        if (root._bokeh_is_loading === 0) {\n",
       "          console.log(\"Bokeh: all BokehJS libraries loaded\");\n",
       "          run_callbacks()\n",
       "        }\n",
       "      };\n",
       "      s.onerror = function() {\n",
       "        console.warn(\"failed to load library \" + url);\n",
       "      };\n",
       "      console.log(\"Bokeh: injecting script tag for BokehJS library: \", url);\n",
       "      document.getElementsByTagName(\"head\")[0].appendChild(s);\n",
       "    }\n",
       "  };var element = document.getElementById(\"ee8da570-f233-4d7a-a643-f120132a8130\");\n",
       "  if (element == null) {\n",
       "    console.log(\"Bokeh: ERROR: autoload.js configured with elementid 'ee8da570-f233-4d7a-a643-f120132a8130' but no matching script tag was found. \")\n",
       "    return false;\n",
       "  }\n",
       "\n",
       "  var js_urls = [\"https://cdn.pydata.org/bokeh/release/bokeh-0.12.16.min.js\", \"https://cdn.pydata.org/bokeh/release/bokeh-widgets-0.12.16.min.js\", \"https://cdn.pydata.org/bokeh/release/bokeh-tables-0.12.16.min.js\", \"https://cdn.pydata.org/bokeh/release/bokeh-gl-0.12.16.min.js\"];\n",
       "\n",
       "  var inline_js = [\n",
       "    function(Bokeh) {\n",
       "      Bokeh.set_log_level(\"info\");\n",
       "    },\n",
       "    \n",
       "    function(Bokeh) {\n",
       "      \n",
       "    },\n",
       "    function(Bokeh) {\n",
       "      console.log(\"Bokeh: injecting CSS: https://cdn.pydata.org/bokeh/release/bokeh-0.12.16.min.css\");\n",
       "      Bokeh.embed.inject_css(\"https://cdn.pydata.org/bokeh/release/bokeh-0.12.16.min.css\");\n",
       "      console.log(\"Bokeh: injecting CSS: https://cdn.pydata.org/bokeh/release/bokeh-widgets-0.12.16.min.css\");\n",
       "      Bokeh.embed.inject_css(\"https://cdn.pydata.org/bokeh/release/bokeh-widgets-0.12.16.min.css\");\n",
       "      console.log(\"Bokeh: injecting CSS: https://cdn.pydata.org/bokeh/release/bokeh-tables-0.12.16.min.css\");\n",
       "      Bokeh.embed.inject_css(\"https://cdn.pydata.org/bokeh/release/bokeh-tables-0.12.16.min.css\");\n",
       "    }\n",
       "  ];\n",
       "\n",
       "  function run_inline_js() {\n",
       "    \n",
       "    if ((root.Bokeh !== undefined) || (force === true)) {\n",
       "      for (var i = 0; i < inline_js.length; i++) {\n",
       "        inline_js[i].call(root, root.Bokeh);\n",
       "      }if (force === true) {\n",
       "        display_loaded();\n",
       "      }} else if (Date.now() < root._bokeh_timeout) {\n",
       "      setTimeout(run_inline_js, 100);\n",
       "    } else if (!root._bokeh_failed_load) {\n",
       "      console.log(\"Bokeh: BokehJS failed to load within specified timeout.\");\n",
       "      root._bokeh_failed_load = true;\n",
       "    } else if (force !== true) {\n",
       "      var cell = $(document.getElementById(\"ee8da570-f233-4d7a-a643-f120132a8130\")).parents('.cell').data().cell;\n",
       "      cell.output_area.append_execute_result(NB_LOAD_WARNING)\n",
       "    }\n",
       "\n",
       "  }\n",
       "\n",
       "  if (root._bokeh_is_loading === 0) {\n",
       "    console.log(\"Bokeh: BokehJS loaded, going straight to plotting\");\n",
       "    run_inline_js();\n",
       "  } else {\n",
       "    load_libs(js_urls, function() {\n",
       "      console.log(\"Bokeh: BokehJS plotting callback run at\", now());\n",
       "      run_inline_js();\n",
       "    });\n",
       "  }\n",
       "}(window));"
      ],
      "application/vnd.bokehjs_load.v0+json": "\n(function(root) {\n  function now() {\n    return new Date();\n  }\n\n  var force = true;\n\n  if (typeof (root._bokeh_onload_callbacks) === \"undefined\" || force === true) {\n    root._bokeh_onload_callbacks = [];\n    root._bokeh_is_loading = undefined;\n  }\n\n  \n\n  \n  if (typeof (root._bokeh_timeout) === \"undefined\" || force === true) {\n    root._bokeh_timeout = Date.now() + 5000;\n    root._bokeh_failed_load = false;\n  }\n\n  var NB_LOAD_WARNING = {'data': {'text/html':\n     \"<div style='background-color: #fdd'>\\n\"+\n     \"<p>\\n\"+\n     \"BokehJS does not appear to have successfully loaded. If loading BokehJS from CDN, this \\n\"+\n     \"may be due to a slow or bad network connection. Possible fixes:\\n\"+\n     \"</p>\\n\"+\n     \"<ul>\\n\"+\n     \"<li>re-rerun `output_notebook()` to attempt to load from CDN again, or</li>\\n\"+\n     \"<li>use INLINE resources instead, as so:</li>\\n\"+\n     \"</ul>\\n\"+\n     \"<code>\\n\"+\n     \"from bokeh.resources import INLINE\\n\"+\n     \"output_notebook(resources=INLINE)\\n\"+\n     \"</code>\\n\"+\n     \"</div>\"}};\n\n  function display_loaded() {\n    var el = document.getElementById(\"ee8da570-f233-4d7a-a643-f120132a8130\");\n    if (el != null) {\n      el.textContent = \"BokehJS is loading...\";\n    }\n    if (root.Bokeh !== undefined) {\n      if (el != null) {\n        el.textContent = \"BokehJS \" + root.Bokeh.version + \" successfully loaded.\";\n      }\n    } else if (Date.now() < root._bokeh_timeout) {\n      setTimeout(display_loaded, 100)\n    }\n  }\n\n\n  function run_callbacks() {\n    try {\n      root._bokeh_onload_callbacks.forEach(function(callback) { callback() });\n    }\n    finally {\n      delete root._bokeh_onload_callbacks\n    }\n    console.info(\"Bokeh: all callbacks have finished\");\n  }\n\n  function load_libs(js_urls, callback) {\n    root._bokeh_onload_callbacks.push(callback);\n    if (root._bokeh_is_loading > 0) {\n      console.log(\"Bokeh: BokehJS is being loaded, scheduling callback at\", now());\n      return null;\n    }\n    if (js_urls == null || js_urls.length === 0) {\n      run_callbacks();\n      return null;\n    }\n    console.log(\"Bokeh: BokehJS not loaded, scheduling load and callback at\", now());\n    root._bokeh_is_loading = js_urls.length;\n    for (var i = 0; i < js_urls.length; i++) {\n      var url = js_urls[i];\n      var s = document.createElement('script');\n      s.src = url;\n      s.async = false;\n      s.onreadystatechange = s.onload = function() {\n        root._bokeh_is_loading--;\n        if (root._bokeh_is_loading === 0) {\n          console.log(\"Bokeh: all BokehJS libraries loaded\");\n          run_callbacks()\n        }\n      };\n      s.onerror = function() {\n        console.warn(\"failed to load library \" + url);\n      };\n      console.log(\"Bokeh: injecting script tag for BokehJS library: \", url);\n      document.getElementsByTagName(\"head\")[0].appendChild(s);\n    }\n  };var element = document.getElementById(\"ee8da570-f233-4d7a-a643-f120132a8130\");\n  if (element == null) {\n    console.log(\"Bokeh: ERROR: autoload.js configured with elementid 'ee8da570-f233-4d7a-a643-f120132a8130' but no matching script tag was found. \")\n    return false;\n  }\n\n  var js_urls = [\"https://cdn.pydata.org/bokeh/release/bokeh-0.12.16.min.js\", \"https://cdn.pydata.org/bokeh/release/bokeh-widgets-0.12.16.min.js\", \"https://cdn.pydata.org/bokeh/release/bokeh-tables-0.12.16.min.js\", \"https://cdn.pydata.org/bokeh/release/bokeh-gl-0.12.16.min.js\"];\n\n  var inline_js = [\n    function(Bokeh) {\n      Bokeh.set_log_level(\"info\");\n    },\n    \n    function(Bokeh) {\n      \n    },\n    function(Bokeh) {\n      console.log(\"Bokeh: injecting CSS: https://cdn.pydata.org/bokeh/release/bokeh-0.12.16.min.css\");\n      Bokeh.embed.inject_css(\"https://cdn.pydata.org/bokeh/release/bokeh-0.12.16.min.css\");\n      console.log(\"Bokeh: injecting CSS: https://cdn.pydata.org/bokeh/release/bokeh-widgets-0.12.16.min.css\");\n      Bokeh.embed.inject_css(\"https://cdn.pydata.org/bokeh/release/bokeh-widgets-0.12.16.min.css\");\n      console.log(\"Bokeh: injecting CSS: https://cdn.pydata.org/bokeh/release/bokeh-tables-0.12.16.min.css\");\n      Bokeh.embed.inject_css(\"https://cdn.pydata.org/bokeh/release/bokeh-tables-0.12.16.min.css\");\n    }\n  ];\n\n  function run_inline_js() {\n    \n    if ((root.Bokeh !== undefined) || (force === true)) {\n      for (var i = 0; i < inline_js.length; i++) {\n        inline_js[i].call(root, root.Bokeh);\n      }if (force === true) {\n        display_loaded();\n      }} else if (Date.now() < root._bokeh_timeout) {\n      setTimeout(run_inline_js, 100);\n    } else if (!root._bokeh_failed_load) {\n      console.log(\"Bokeh: BokehJS failed to load within specified timeout.\");\n      root._bokeh_failed_load = true;\n    } else if (force !== true) {\n      var cell = $(document.getElementById(\"ee8da570-f233-4d7a-a643-f120132a8130\")).parents('.cell').data().cell;\n      cell.output_area.append_execute_result(NB_LOAD_WARNING)\n    }\n\n  }\n\n  if (root._bokeh_is_loading === 0) {\n    console.log(\"Bokeh: BokehJS loaded, going straight to plotting\");\n    run_inline_js();\n  } else {\n    load_libs(js_urls, function() {\n      console.log(\"Bokeh: BokehJS plotting callback run at\", now());\n      run_inline_js();\n    });\n  }\n}(window));"
     },
     "metadata": {},
     "output_type": "display_data"
    }
   ],
   "source": [
    "import numpy as np \n",
    "from scipy.spatial import distance\n",
    "\n",
    "from ipywidgets import interact, interactive, fixed, interact_manual\n",
    "import ipywidgets as widgets\n",
    " \n",
    "import numpy as np\n",
    "\n",
    "import random\n",
    "\n",
    "from IPython.display import display, Math\n",
    "\n",
    "from bokeh.io import show, output_notebook, reset_output\n",
    "from bokeh.plotting import figure, show\n",
    "from scipy.stats import norm \n",
    "from bokeh import plotting as pl\n",
    "from bokeh.models import HoverTool, Arrow, OpenHead, NormalHead, VeeHead, Span, ColumnDataSource, PointDrawTool, TableColumn,  DataTable\n",
    "\n",
    "\n",
    "output_notebook()\n"
   ]
  },
  {
   "cell_type": "markdown",
   "metadata": {
    "hide_input": true
   },
   "source": [
    "### Solution code\n",
    "\n",
    "```python\n",
    "# Just run above cell\n",
    "```"
   ]
  },
  {
   "cell_type": "markdown",
   "metadata": {},
   "source": [
    "\n",
    "# Eigenvalues and eigenvectors \n",
    "\n",
    "In this notebook we are going to be talking about one of the most important concepts in linear algebra related to machine learning.\n",
    "\n",
    "Understanding Eigenvalues and eigenvectors form is important to understand some of the most commonly used tools for machine learning like- singular value decomposition (SVD), principal component analysis (PCA) etc. \n",
    "\n",
    "We are not going to go into great mathematical details eigenvalues and eigenvectors. For the most part we will use python functions to do the eigenvalues and eigenvector calculations.  \n",
    "\n",
    "So parts we are going to cover in this notebook are - \n",
    "\n",
    "- The problem setup \n",
    "- Calculating eigenvalues \n",
    "- Calculating eigenvectors\n",
    " \n",
    " \n",
    "\n",
    "\n",
    "## The problem setup \n",
    "The concept of eigenvectors and eigenvalues come in when we talk about solving the equation of the form-\n",
    "\n",
    "\n",
    "\n",
    "$$\n",
    "A \\mathbf{x} = \\lambda \\mathbf{x}\n",
    "$$\n",
    "\n",
    "where- \n",
    "\n",
    "$A$ is a  *square* matrix, for now we are going to stick with a 2 by 2 matrix <br>\n",
    "$\\mathbf{x}$ is some unknown  vector\n",
    "$\\lambda$ is a constant that will later on represent the eigenvalues \n",
    "\n",
    "It is prudent to point out that $A$ has to be a square matrix. Meaning either a $2 \\times 2$ matrix or a $3 \\times 3$ matrix  or an $n \\times n$ matrix  where n = 2,3,4,5... etc. Basically $n$ can be any positive integer. \n",
    "\n",
    "Now why do we care about this specific form? Well for that let us decode the equation above. On the right hand side, what we are in essence doing is applying a linear transformation to the unknown vector $\\mathbf{x}$. For example let us apply the transformation \n",
    "\n",
    "$ A =  \\begin{bmatrix} 1  &  0 \\\\ 0 &  -1 \\end{bmatrix} $\n",
    "\n",
    "to some vector. In the plot below we show the result- \n"
   ]
  },
  {
   "cell_type": "code",
   "execution_count": 2,
   "metadata": {
    "ExecuteTime": {
     "end_time": "2019-02-27T22:15:47.982230Z",
     "start_time": "2019-02-27T22:15:47.738882Z"
    }
   },
   "outputs": [
    {
     "data": {
      "text/html": [
       "\n",
       "<div class=\"bk-root\">\n",
       "    <div class=\"bk-plotdiv\" id=\"5be8c308-6783-4888-a6aa-780aea7a46fc\"></div>\n",
       "</div>"
      ]
     },
     "metadata": {},
     "output_type": "display_data"
    },
    {
     "data": {
      "application/javascript": [
       "(function(root) {\n",
       "  function embed_document(root) {\n",
       "    \n",
       "  var docs_json = {\"e5fcba64-ee73-4b59-af9d-fb866e5630e4\":{\"roots\":{\"references\":[{\"attributes\":{\"data_source\":{\"id\":\"7a0b02d6-5983-4a9d-930d-a6037f8ed751\",\"type\":\"ColumnDataSource\"},\"glyph\":{\"id\":\"826e0aa8-e949-4a4e-9e78-dc57755d445e\",\"type\":\"Text\"},\"hover_glyph\":null,\"muted_glyph\":null,\"nonselection_glyph\":{\"id\":\"f83ad573-765e-4a48-ad92-84f3e7114321\",\"type\":\"Text\"},\"selection_glyph\":null,\"view\":{\"id\":\"bb6312c5-36e0-458e-993f-e15fd79e0fdf\",\"type\":\"CDSView\"}},\"id\":\"55d2a90c-6b62-4fae-ae7f-d5c3382646a8\",\"type\":\"GlyphRenderer\"},{\"attributes\":{\"text_alpha\":{\"value\":0.1},\"text_color\":{\"value\":\"black\"},\"x\":{\"value\":2},\"y\":{\"value\":-8.0}},\"id\":\"94a6c71c-e364-4078-a6be-d66da6279eee\",\"type\":\"Text\"},{\"attributes\":{\"dimension\":\"height\",\"line_width\":{\"value\":2},\"location\":0,\"plot\":null},\"id\":\"4d6de0a0-04fa-4f2a-9d82-e1f150e8fcaa\",\"type\":\"Span\"},{\"attributes\":{\"source\":{\"id\":\"1ab903ee-6e60-44d4-99e0-5466ed9825a8\",\"type\":\"ColumnDataSource\"}},\"id\":\"1b4e062c-0f11-4e20-add5-cd9c4ee79d36\",\"type\":\"CDSView\"},{\"attributes\":{\"line_width\":{\"value\":2},\"location\":0,\"plot\":null},\"id\":\"13bd40f3-19e9-4255-a11b-55415bdd411d\",\"type\":\"Span\"},{\"attributes\":{\"below\":[{\"id\":\"3d97c514-fb24-49af-b717-1b0d26adf729\",\"type\":\"LinearAxis\"}],\"left\":[{\"id\":\"2894d575-4295-45df-9f08-08554d93dfe3\",\"type\":\"LinearAxis\"}],\"plot_height\":400,\"plot_width\":400,\"renderers\":[{\"id\":\"3d97c514-fb24-49af-b717-1b0d26adf729\",\"type\":\"LinearAxis\"},{\"id\":\"66c1afbf-3716-4544-b1a7-553f85bdddf8\",\"type\":\"Grid\"},{\"id\":\"2894d575-4295-45df-9f08-08554d93dfe3\",\"type\":\"LinearAxis\"},{\"id\":\"c5a01a86-0669-4b93-afb1-9398d90eeaa1\",\"type\":\"Grid\"},{\"id\":\"15ce3ba7-c4da-4ae1-a024-8bc60f84daee\",\"type\":\"BoxAnnotation\"},{\"id\":\"4d6de0a0-04fa-4f2a-9d82-e1f150e8fcaa\",\"type\":\"Span\"},{\"id\":\"13bd40f3-19e9-4255-a11b-55415bdd411d\",\"type\":\"Span\"},{\"id\":\"5c93203f-151a-433c-acd6-b379303022d4\",\"type\":\"Arrow\"},{\"id\":\"55d2a90c-6b62-4fae-ae7f-d5c3382646a8\",\"type\":\"GlyphRenderer\"},{\"id\":\"a3c37420-94d4-4773-9990-570b5f69cae7\",\"type\":\"GlyphRenderer\"},{\"id\":\"2d26da53-d6c6-439b-972c-11e4f00572b0\",\"type\":\"Arrow\"}],\"title\":{\"id\":\"401d24e8-f4fa-48b3-a3ad-c62d38c65653\",\"type\":\"Title\"},\"toolbar\":{\"id\":\"2f01ba11-12ed-4e02-9d5c-4879c95909c7\",\"type\":\"Toolbar\"},\"x_range\":{\"id\":\"86eaa381-3778-450e-8204-9ff04469f0d5\",\"type\":\"Range1d\"},\"x_scale\":{\"id\":\"23984cb8-c450-42c4-8215-6e3cea906545\",\"type\":\"LinearScale\"},\"y_range\":{\"id\":\"967c4d2c-a134-4cce-9db8-ebe98a42dbfa\",\"type\":\"Range1d\"},\"y_scale\":{\"id\":\"d3dc2a02-d899-4008-91b2-2a67e96dc32a\",\"type\":\"LinearScale\"}},\"id\":\"433f5aaa-6700-45bc-9cf8-ef3d30b3534c\",\"subtype\":\"Figure\",\"type\":\"Plot\"},{\"attributes\":{\"text_color\":{\"value\":\"black\"},\"x\":{\"value\":2},\"y\":{\"value\":-8.0}},\"id\":\"f6a6c5c0-0e3d-49eb-a435-1bbab59245d8\",\"type\":\"Text\"},{\"attributes\":{\"text_alpha\":{\"value\":0.1},\"text_color\":{\"value\":\"black\"},\"x\":{\"value\":2},\"y\":{\"value\":5}},\"id\":\"f83ad573-765e-4a48-ad92-84f3e7114321\",\"type\":\"Text\"},{\"attributes\":{\"source\":{\"id\":\"7a0b02d6-5983-4a9d-930d-a6037f8ed751\",\"type\":\"ColumnDataSource\"}},\"id\":\"bb6312c5-36e0-458e-993f-e15fd79e0fdf\",\"type\":\"CDSView\"},{\"attributes\":{\"plot\":null,\"text\":\"Original vs transformed vector \"},\"id\":\"401d24e8-f4fa-48b3-a3ad-c62d38c65653\",\"type\":\"Title\"},{\"attributes\":{\"fill_color\":{\"value\":\"green\"},\"line_color\":{\"value\":\"green\"},\"plot\":null},\"id\":\"c48e44ca-ee1e-494e-bcd2-9fdac58f0ccf\",\"type\":\"NormalHead\"},{\"attributes\":{\"callback\":null,\"end\":10,\"start\":-10},\"id\":\"86eaa381-3778-450e-8204-9ff04469f0d5\",\"type\":\"Range1d\"},{\"attributes\":{\"end\":{\"id\":\"c48e44ca-ee1e-494e-bcd2-9fdac58f0ccf\",\"type\":\"NormalHead\"},\"plot\":{\"id\":\"433f5aaa-6700-45bc-9cf8-ef3d30b3534c\",\"subtype\":\"Figure\",\"type\":\"Plot\"},\"source\":null,\"start\":null,\"x_end\":{\"value\":2},\"x_start\":{\"value\":0},\"y_end\":{\"value\":-5},\"y_start\":{\"value\":0}},\"id\":\"2d26da53-d6c6-439b-972c-11e4f00572b0\",\"type\":\"Arrow\"},{\"attributes\":{\"active_drag\":\"auto\",\"active_inspect\":\"auto\",\"active_scroll\":\"auto\",\"active_tap\":\"auto\",\"tools\":[{\"id\":\"41ece988-db79-4a72-9504-c55f2979f8fa\",\"type\":\"BoxZoomTool\"},{\"id\":\"e0a959d1-179c-4924-8d16-e9ff9b9f353f\",\"type\":\"PanTool\"},{\"id\":\"73690d32-ad95-4356-9536-26d78a934ba8\",\"type\":\"SaveTool\"},{\"id\":\"4e9fcab9-994f-47dd-832a-f6864c17d57e\",\"type\":\"HoverTool\"},{\"id\":\"f1fa9e78-aa2c-45d3-9efc-8b3347561cb3\",\"type\":\"ResetTool\"},{\"id\":\"652179a6-2cc8-4c9e-89cb-cce015105b9d\",\"type\":\"TapTool\"},{\"id\":\"e44e4b0e-ac95-47be-985d-1c5bce7f38a7\",\"type\":\"WheelZoomTool\"}]},\"id\":\"2f01ba11-12ed-4e02-9d5c-4879c95909c7\",\"type\":\"Toolbar\"},{\"attributes\":{\"text_color\":{\"value\":\"black\"},\"x\":{\"value\":2},\"y\":{\"value\":5}},\"id\":\"826e0aa8-e949-4a4e-9e78-dc57755d445e\",\"type\":\"Text\"},{\"attributes\":{},\"id\":\"d2d6ea7b-c6fc-42cf-b0f8-94711e5edc4f\",\"type\":\"Selection\"},{\"attributes\":{\"callback\":null,\"data\":{\"text\":[\"transformed \\n vector \"]},\"selected\":{\"id\":\"d2d6ea7b-c6fc-42cf-b0f8-94711e5edc4f\",\"type\":\"Selection\"},\"selection_policy\":{\"id\":\"9dd7f66b-6765-462e-bea4-c52c492202b8\",\"type\":\"UnionRenderers\"}},\"id\":\"1ab903ee-6e60-44d4-99e0-5466ed9825a8\",\"type\":\"ColumnDataSource\"},{\"attributes\":{},\"id\":\"85245377-aa51-4bfe-8234-f072b32cc99a\",\"type\":\"Selection\"},{\"attributes\":{\"callback\":null,\"end\":10,\"start\":-10},\"id\":\"967c4d2c-a134-4cce-9db8-ebe98a42dbfa\",\"type\":\"Range1d\"},{\"attributes\":{},\"id\":\"e37362a9-0634-4ad7-aa3b-14242199a52f\",\"type\":\"BasicTickFormatter\"},{\"attributes\":{},\"id\":\"7b58300b-3238-48fd-a421-6d927f42cff8\",\"type\":\"UnionRenderers\"},{\"attributes\":{},\"id\":\"d3dc2a02-d899-4008-91b2-2a67e96dc32a\",\"type\":\"LinearScale\"},{\"attributes\":{\"axis_label\":\"x axis\",\"formatter\":{\"id\":\"e37362a9-0634-4ad7-aa3b-14242199a52f\",\"type\":\"BasicTickFormatter\"},\"plot\":{\"id\":\"433f5aaa-6700-45bc-9cf8-ef3d30b3534c\",\"subtype\":\"Figure\",\"type\":\"Plot\"},\"ticker\":{\"id\":\"c3d51b15-0fd6-4fc5-aa62-f6d84d0d561f\",\"type\":\"BasicTicker\"}},\"id\":\"3d97c514-fb24-49af-b717-1b0d26adf729\",\"type\":\"LinearAxis\"},{\"attributes\":{},\"id\":\"c3d51b15-0fd6-4fc5-aa62-f6d84d0d561f\",\"type\":\"BasicTicker\"},{\"attributes\":{},\"id\":\"9dd7f66b-6765-462e-bea4-c52c492202b8\",\"type\":\"UnionRenderers\"},{\"attributes\":{\"plot\":{\"id\":\"433f5aaa-6700-45bc-9cf8-ef3d30b3534c\",\"subtype\":\"Figure\",\"type\":\"Plot\"},\"ticker\":{\"id\":\"c3d51b15-0fd6-4fc5-aa62-f6d84d0d561f\",\"type\":\"BasicTicker\"}},\"id\":\"66c1afbf-3716-4544-b1a7-553f85bdddf8\",\"type\":\"Grid\"},{\"attributes\":{\"axis_label\":\"y axis\",\"formatter\":{\"id\":\"5090ecf9-74df-4dde-bd0b-3c82a09b75ed\",\"type\":\"BasicTickFormatter\"},\"plot\":{\"id\":\"433f5aaa-6700-45bc-9cf8-ef3d30b3534c\",\"subtype\":\"Figure\",\"type\":\"Plot\"},\"ticker\":{\"id\":\"c3881245-ba28-40a0-a5ac-2fbd114351d9\",\"type\":\"BasicTicker\"}},\"id\":\"2894d575-4295-45df-9f08-08554d93dfe3\",\"type\":\"LinearAxis\"},{\"attributes\":{},\"id\":\"c3881245-ba28-40a0-a5ac-2fbd114351d9\",\"type\":\"BasicTicker\"},{\"attributes\":{\"dimension\":1,\"plot\":{\"id\":\"433f5aaa-6700-45bc-9cf8-ef3d30b3534c\",\"subtype\":\"Figure\",\"type\":\"Plot\"},\"ticker\":{\"id\":\"c3881245-ba28-40a0-a5ac-2fbd114351d9\",\"type\":\"BasicTicker\"}},\"id\":\"c5a01a86-0669-4b93-afb1-9398d90eeaa1\",\"type\":\"Grid\"},{\"attributes\":{\"plot\":null},\"id\":\"fffd6479-ac27-4499-872e-2b8f745ca33f\",\"type\":\"NormalHead\"},{\"attributes\":{\"end\":{\"id\":\"fffd6479-ac27-4499-872e-2b8f745ca33f\",\"type\":\"NormalHead\"},\"plot\":{\"id\":\"433f5aaa-6700-45bc-9cf8-ef3d30b3534c\",\"subtype\":\"Figure\",\"type\":\"Plot\"},\"source\":null,\"start\":null,\"x_end\":{\"value\":2},\"x_start\":{\"value\":0},\"y_end\":{\"value\":5},\"y_start\":{\"value\":0}},\"id\":\"5c93203f-151a-433c-acd6-b379303022d4\",\"type\":\"Arrow\"},{\"attributes\":{},\"id\":\"5090ecf9-74df-4dde-bd0b-3c82a09b75ed\",\"type\":\"BasicTickFormatter\"},{\"attributes\":{\"callback\":null,\"data\":{\"text\":[\"original \\n vector\"]},\"selected\":{\"id\":\"85245377-aa51-4bfe-8234-f072b32cc99a\",\"type\":\"Selection\"},\"selection_policy\":{\"id\":\"7b58300b-3238-48fd-a421-6d927f42cff8\",\"type\":\"UnionRenderers\"}},\"id\":\"7a0b02d6-5983-4a9d-930d-a6037f8ed751\",\"type\":\"ColumnDataSource\"},{\"attributes\":{\"bottom_units\":\"screen\",\"fill_alpha\":{\"value\":0.5},\"fill_color\":{\"value\":\"lightgrey\"},\"left_units\":\"screen\",\"level\":\"overlay\",\"line_alpha\":{\"value\":1.0},\"line_color\":{\"value\":\"black\"},\"line_dash\":[4,4],\"line_width\":{\"value\":2},\"plot\":null,\"render_mode\":\"css\",\"right_units\":\"screen\",\"top_units\":\"screen\"},\"id\":\"15ce3ba7-c4da-4ae1-a024-8bc60f84daee\",\"type\":\"BoxAnnotation\"},{\"attributes\":{\"overlay\":{\"id\":\"15ce3ba7-c4da-4ae1-a024-8bc60f84daee\",\"type\":\"BoxAnnotation\"}},\"id\":\"41ece988-db79-4a72-9504-c55f2979f8fa\",\"type\":\"BoxZoomTool\"},{\"attributes\":{},\"id\":\"e0a959d1-179c-4924-8d16-e9ff9b9f353f\",\"type\":\"PanTool\"},{\"attributes\":{},\"id\":\"73690d32-ad95-4356-9536-26d78a934ba8\",\"type\":\"SaveTool\"},{\"attributes\":{\"callback\":null,\"renderers\":\"auto\"},\"id\":\"4e9fcab9-994f-47dd-832a-f6864c17d57e\",\"type\":\"HoverTool\"},{\"attributes\":{},\"id\":\"f1fa9e78-aa2c-45d3-9efc-8b3347561cb3\",\"type\":\"ResetTool\"},{\"attributes\":{},\"id\":\"23984cb8-c450-42c4-8215-6e3cea906545\",\"type\":\"LinearScale\"},{\"attributes\":{\"callback\":null},\"id\":\"652179a6-2cc8-4c9e-89cb-cce015105b9d\",\"type\":\"TapTool\"},{\"attributes\":{},\"id\":\"e44e4b0e-ac95-47be-985d-1c5bce7f38a7\",\"type\":\"WheelZoomTool\"},{\"attributes\":{\"data_source\":{\"id\":\"1ab903ee-6e60-44d4-99e0-5466ed9825a8\",\"type\":\"ColumnDataSource\"},\"glyph\":{\"id\":\"f6a6c5c0-0e3d-49eb-a435-1bbab59245d8\",\"type\":\"Text\"},\"hover_glyph\":null,\"muted_glyph\":null,\"nonselection_glyph\":{\"id\":\"94a6c71c-e364-4078-a6be-d66da6279eee\",\"type\":\"Text\"},\"selection_glyph\":null,\"view\":{\"id\":\"1b4e062c-0f11-4e20-add5-cd9c4ee79d36\",\"type\":\"CDSView\"}},\"id\":\"a3c37420-94d4-4773-9990-570b5f69cae7\",\"type\":\"GlyphRenderer\"}],\"root_ids\":[\"433f5aaa-6700-45bc-9cf8-ef3d30b3534c\"]},\"title\":\"Bokeh Application\",\"version\":\"0.12.16\"}};\n",
       "  var render_items = [{\"docid\":\"e5fcba64-ee73-4b59-af9d-fb866e5630e4\",\"elementid\":\"5be8c308-6783-4888-a6aa-780aea7a46fc\",\"modelid\":\"433f5aaa-6700-45bc-9cf8-ef3d30b3534c\"}];\n",
       "  root.Bokeh.embed.embed_items_notebook(docs_json, render_items);\n",
       "\n",
       "  }\n",
       "  if (root.Bokeh !== undefined) {\n",
       "    embed_document(root);\n",
       "  } else {\n",
       "    var attempts = 0;\n",
       "    var timer = setInterval(function(root) {\n",
       "      if (root.Bokeh !== undefined) {\n",
       "        embed_document(root);\n",
       "        clearInterval(timer);\n",
       "      }\n",
       "      attempts++;\n",
       "      if (attempts > 100) {\n",
       "        console.log(\"Bokeh: ERROR: Unable to run BokehJS code because BokehJS library is missing\")\n",
       "        clearInterval(timer);\n",
       "      }\n",
       "    }, 10, root)\n",
       "  }\n",
       "})(window);"
      ],
      "application/vnd.bokehjs_exec.v0+json": ""
     },
     "metadata": {
      "application/vnd.bokehjs_exec.v0+json": {
       "id": "433f5aaa-6700-45bc-9cf8-ef3d30b3534c"
      }
     },
     "output_type": "display_data"
    }
   ],
   "source": [
    "# Just run this cell\n",
    "\n",
    "# vector \n",
    "tools_to_show= 'box_zoom,pan,save,hover,reset,tap,wheel_zoom'        \n",
    "\n",
    "\n",
    "fig = pl.figure(x_range =[-10,10],\n",
    "                    y_range =[-10,10], \n",
    "                    plot_height =400, \n",
    "                    plot_width= 400, \n",
    "                   tools= tools_to_show,\n",
    "                   x_axis_label = \"x axis\",\n",
    "                    y_axis_label = \"y axis\", \n",
    "                   title  = \"Original vs transformed vector \"\n",
    "                   )\n",
    "\n",
    "vec_x =2\n",
    "vec_y =5\n",
    "\n",
    "vec_1 = np.array([vec_x,vec_y])\n",
    "trans_matrix =  np.matrix([[1,0],[0,-1]])\n",
    "trans_vec = np.array(trans_matrix.dot(vec_1))\n",
    "\n",
    "transformation  = 1\n",
    "vline = Span(location=0, dimension='height', line_color='black', line_width=2)\n",
    "hline = Span(location=0, dimension='width', line_color='black', line_width=2)\n",
    "\n",
    "fig.renderers.extend([vline, hline])\n",
    "fig.add_layout(Arrow(end=NormalHead(fill_color=\"black\"),\n",
    "                       x_start=0,\n",
    "                       y_start=0,\n",
    "                       x_end=2,\n",
    "                       y_end=5 \n",
    "                    ))\n",
    "\n",
    "fig.text(x=vec_x, y =vec_y, text =[\"original \\n vector\"])\n",
    "fig.text(x=trans_vec[0][0], y =(trans_vec[0][1])-3.0, text =[\"transformed \\n vector \" ])\n",
    "\n",
    "fig.add_layout(Arrow(end=NormalHead(fill_color=\"green\", line_color = \"green\" ),\n",
    "                       x_start=0,\n",
    "                       y_start=0,\n",
    "                       x_end=trans_vec[0][0],\n",
    "                       y_end=trans_vec[0][1] \n",
    "                    ))\n",
    "\n",
    "\n",
    "show(fig)\n"
   ]
  },
  {
   "cell_type": "markdown",
   "metadata": {
    "hide_input": true
   },
   "source": [
    "### Solution code\n",
    "\n",
    "```python\n",
    "# Just run above cell\n",
    "```"
   ]
  },
  {
   "cell_type": "markdown",
   "metadata": {},
   "source": [
    "The original vector is transformed due to the transformed to the green vector. We can apply different types of transformations to vector $\\mathbf{x}$. \n",
    "Now what we are saying with equation (1) is that can we find a vector which is going to point in the same direction as the original vector but it scales by a value $\\lambda$\n",
    "In order to find such a vector we are going to solve the linear system- \n",
    "\n",
    "$$\n",
    "(A - \\lambda I)  \\mathbf{x}= \\mathbf{0}\n",
    "$$\n",
    "\n",
    "where- \n",
    "$I$ is the identity matrix \n",
    "\n",
    "\n",
    "The solution to this will come in the form of us getting values of of $\\lambda$ which will be the eigenvalues. \n",
    "\n",
    "## Calculating eigenvalues\n",
    "\n",
    "Now for equation (2) to be true you need one of two things to be true either $\\mathbf{x} = 0$ or  $(A - \\lambda I) = 0 $. Since the first condition will not be true (we are effectively making this choice). The second condition must be true. Hence we will have the condition that- \n",
    "\n",
    "$$\n",
    " \\det(A - \\lambda I)   = 0 \n",
    "$$\n",
    "\n",
    "where we have  \n",
    "$$\n",
    "\\det(A- \\lambda I)= \\det \\Bigg( \\begin{bmatrix} a_{11} - \\lambda  &  a_{12} \\\\ a_{21} &  a_{22}  - \\lambda \\end{bmatrix}\\Bigg) = 0\n",
    "$$\n",
    "\n",
    "we can do some simple algebra and get \n",
    "\n",
    "$$\n",
    "\\det(A- \\lambda I) = \\lambda^2 -\\lambda (a_{11} +a_{22}) + a_{11} a_{22} - a_{12} a_{21} = 0  \n",
    "$$\n",
    "\n",
    "Well there are only two solutions to this equation.  They are- \n",
    "$$\n",
    "\\lambda_1 =  \\dfrac{1}{2}\\Big[ (a_{11} +a_{22}) + \\sqrt{\\Big(4 a_{12} a_{21} + (a_{11}- a_{22})^2\\Big)  }\\Big] \\\\\n",
    "\\lambda_2 =  \\dfrac{1}{2}\\Big[ (a_{11} +a_{22}) - \\sqrt{\\Big(4 a_{12} a_{21} + (a_{11}- a_{22})^2 \\Big)}\\Big]\n",
    "$$\n",
    "\n",
    "So now we have our eigenvalues for a  $2 \\times 2 $ matrix. We can use this procedure to calculate the eigenvalues \"by hand\" for larger matrices but if you try it you will find that finding solutions for more that a $3 \\times 3 $ matrix will quickly become rather challenging. Thankfully python gives us a quick way of calculating eigenvalues for a given matrix. Below is some code on how to get eigenvalues for a $2 \\times 2$ and a $4 \\times 4$ - \n"
   ]
  },
  {
   "cell_type": "code",
   "execution_count": 3,
   "metadata": {
    "ExecuteTime": {
     "end_time": "2019-03-04T22:46:48.199167Z",
     "start_time": "2019-03-04T22:46:48.184657Z"
    },
    "run_control": {
     "marked": false
    }
   },
   "outputs": [
    {
     "name": "stdout",
     "output_type": "stream",
     "text": [
      " eigenvalues of the 2 by 2 matrix [3.73205081 0.26794919]\n",
      " eigenvalues of the 4 by 4 matrix [18.00284658 -0.09828708  4.79597699  3.29946351]\n"
     ]
    }
   ],
   "source": [
    "# 2 by 2 matrix \n",
    "test_mat_2 = np.array([[2,1],[3,2]])\n",
    "print(\" eigenvalues of the 2 by 2 matrix {}\".format(np.linalg.eigvals(test_mat_2)))\n",
    "\n",
    "\n",
    "# 4 by 4 matrix \n",
    "test_mat_4 = np.array([[8,5,2,3],[4,9, 6, 3], [4,7, 3, 1],[2,1,5,6]])\n",
    "print(\" eigenvalues of the 4 by 4 matrix {}\".format(np.linalg.eigvals(test_mat_4)))\n",
    "\n"
   ]
  },
  {
   "cell_type": "markdown",
   "metadata": {
    "hide_input": true
   },
   "source": [
    "### Solution code\n",
    "\n",
    "```python\n",
    "# Just run above cell\n",
    "```"
   ]
  },
  {
   "cell_type": "markdown",
   "metadata": {
    "ExecuteTime": {
     "end_time": "2019-03-04T22:34:46.150995Z",
     "start_time": "2019-03-04T22:34:46.144079Z"
    }
   },
   "source": [
    "## Calculating eigenvectors \n",
    "\n",
    "Now that we the eigenvalues we can get the eigenvectors. The full scope of how we get the eigen vectors is beyond the scope of this notebook, we will show you how you can get those eigenvectors from python directly. So, if we take the $2 \\times 2$ and the $4 \\times 4 $ matrix from above, the eigenvectors would be- \n"
   ]
  },
  {
   "cell_type": "code",
   "execution_count": 4,
   "metadata": {
    "ExecuteTime": {
     "end_time": "2019-03-06T19:06:49.265205Z",
     "start_time": "2019-03-06T19:06:49.156937Z"
    }
   },
   "outputs": [
    {
     "name": "stdout",
     "output_type": "stream",
     "text": [
      "the eigen vectors for the 2 by 2 matrix are(array([[ 0.5      , -0.5      ],\n",
      "       [ 0.8660254,  0.8660254]]),)\n",
      " eigenvalues of the 4 by 4 matrix (array([[-0.5133916 , -0.27966899,  0.76085192, -0.655923  ],\n",
      "       [-0.64471836,  0.37315332, -0.53758366,  0.26987163],\n",
      "       [-0.45973711, -0.66886331, -0.25838121, -0.16213823],\n",
      "       [-0.33077046,  0.57893326,  0.25563121,  0.68603609]]),)\n"
     ]
    }
   ],
   "source": [
    "# 2 by 2 matrix \n",
    "test_mat_2 = np.array([[2,1],[3,2]])\n",
    "eigenvectors = np.linalg.eig(test_mat_2)[1::]\n",
    "print(\"the eigen vectors for the 2 by 2 matrix are{}\" .format(eigenvectors)) \n",
    "\n",
    "\n",
    "# 4 by 4 matrix \n",
    "test_mat_4 = np.array([[8,5,2,3],[4,9, 6, 3], [4,7, 3, 1],[2,1,5,6]])\n",
    "print(\" eigenvalues of the 4 by 4 matrix {}\".format(np.linalg.eig(test_mat_4)[1::]  ))\n"
   ]
  },
  {
   "cell_type": "markdown",
   "metadata": {
    "hide_input": true
   },
   "source": [
    "### Solution code\n",
    "\n",
    "```python\n",
    "# Just run above cell\n",
    "```"
   ]
  },
  {
   "cell_type": "markdown",
   "metadata": {},
   "source": [
    "So you can see that for a $2 \\times 2$ matrix we are going to have a two eigenvectors. Each eigenvector will be 2 units long. For the  $4 \\times 4$ vector we have four eigenvectors and four eigenvalues. \n"
   ]
  },
  {
   "cell_type": "code",
   "execution_count": 5,
   "metadata": {},
   "outputs": [],
   "source": [
    "# End of notebook"
   ]
  },
  {
   "cell_type": "markdown",
   "metadata": {
    "hide_input": true
   },
   "source": [
    "### Solution code\n",
    "\n",
    "```python\n",
    "# End of notebook\n",
    "```"
   ]
  }
 ],
 "metadata": {
  "author": "",
  "celltoolbar": "Edit Metadata",
  "kernelspec": {
   "display_name": "Python 3",
   "language": "python",
   "name": "python3"
  },
  "language_info": {
   "codemirror_mode": {
    "name": "ipython",
    "version": 3
   },
   "file_extension": ".py",
   "mimetype": "text/x-python",
   "name": "python",
   "nbconvert_exporter": "python",
   "pygments_lexer": "ipython3",
   "version": "3.7.4"
  },
  "latex_envs": {
   "LaTeX_envs_menu_present": true,
   "autoclose": true,
   "autocomplete": true,
   "bibliofile": "biblio.bib",
   "cite_by": "apalike",
   "current_citInitial": 1,
   "eqLabelWithNumbers": true,
   "eqNumInitial": 1,
   "hotkeys": {
    "equation": "Ctrl-E",
    "itemize": "Ctrl-I"
   },
   "labels_anchors": false,
   "latex_user_defs": false,
   "report_style_numbering": true,
   "user_envs_cfg": false
  },
  "toc": {
   "base_numbering": 1,
   "nav_menu": {},
   "number_sections": true,
   "sideBar": true,
   "skip_h1_title": false,
   "title_cell": "Table of Contents",
   "title_sidebar": "Contents",
   "toc_cell": false,
   "toc_position": {},
   "toc_section_display": true,
   "toc_window_display": false
  },
  "varInspector": {
   "cols": {
    "lenName": 16,
    "lenType": 16,
    "lenVar": 40
   },
   "kernels_config": {
    "python": {
     "delete_cmd_postfix": "",
     "delete_cmd_prefix": "del ",
     "library": "var_list.py",
     "varRefreshCmd": "print(var_dic_list())"
    },
    "r": {
     "delete_cmd_postfix": ") ",
     "delete_cmd_prefix": "rm(",
     "library": "var_list.r",
     "varRefreshCmd": "cat(var_dic_list()) "
    }
   },
   "types_to_exclude": [
    "module",
    "function",
    "builtin_function_or_method",
    "instance",
    "_Feature"
   ],
   "window_display": false
  }
 },
 "nbformat": 4,
 "nbformat_minor": 2
}
