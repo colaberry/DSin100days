{
 "cells": [
  {
   "cell_type": "markdown",
   "metadata": {},
   "source": [
    "# More Matrix Operations and Special Matrices\n",
    "\n",
    "## Transpose, Determinant and Inverse of a Matrix\n",
    "\n",
    "### Transpose Operation\n",
    "\n",
    "A transpose operation on a matrix converts each row of entries into a column and in effect, the rows of original matrix become columns in the transposed matrix and columns of the original matrix become rows in the transposed matrix. i.e., If the dimensions or shape of the matrix is $(i,j)$ then the transpose of this matrix will have a shape of $(j,i)$.\n",
    "\n",
    "<img src=\"https://dsin100days.s3-us-west-2.amazonaws.com/images/images/mattran_2.PNG\" style=\"width:40vw\">\n",
    "<br>\n",
    "\n",
    "numpy.transpose() method can be used to find out the transpose of a matrix.\n",
    "\n",
    "```python\n",
    "import numpy as np\n",
    "\n",
    "a = np.array([[1,2,3],[4,5,6],[7,8,9]])\n",
    "\n",
    "print(np.transpose(a))\n",
    "\n",
    "# Output\n",
    "\n",
    ">>> [[1 4 7]\n",
    ">>>  [2 5 8]\n",
    ">>>  [3 6 9]]\n",
    "```\n",
    "\n",
    "<b>Note:</b> An interesting point to observe is that the transpose operation does not affect the position of the entries on the primary or leading diagonal of a square matrix.\n",
    "\n",
    "What about the anti-diagonal (trailing diagonal) entries of the square matrix?\n",
    "They are reversed in order, i.e., the top most entry becomes the bottom most entry and the bottom most entry becomes the top most.\n",
    "\n",
    "\n",
    "#### Exercise\n",
    "\n",
    "Find transpose of the following matrix:\n",
    "\n",
    "$A = \\left[\\begin{array}{cc}8 & 15 & 30 \\\\ 43 & 2 & 9 \\\\ 11 & 25 & 62\\end{array}\\right]$"
   ]
  },
  {
   "cell_type": "code",
   "execution_count": 4,
   "metadata": {},
   "outputs": [
    {
     "name": "stdout",
     "output_type": "stream",
     "text": [
      "[[ 8 43 11]\n",
      " [15  2 25]\n",
      " [30  9 62]]\n"
     ]
    }
   ],
   "source": []
  },
  {
   "cell_type": "markdown",
   "metadata": {
    "hide_input": true
   },
   "source": [
    "### Solution code\n",
    "\n",
    "```python\n",
    "import numpy as np\n",
    "\n",
    "A = np.array([[8,15,30],[43,2,9],[11,25,62]])\n",
    "\n",
    "print(np.transpose(A))\n",
    "```"
   ]
  },
  {
   "cell_type": "markdown",
   "metadata": {},
   "source": [
    "### Determinant of a Matrix\n",
    "\n",
    "The determinant of a matrix is a scalar value which holds a significant value in linear operations that can be performed on the matrix. It is a value that can be calculated only for square matrices. For a matrix $A$, it is represented as det(A) or |$A$|.\n",
    "\n",
    "The determinant is calculated by a series of arithematic operations. The following figure shows calculation of determinant for various matrices.\n",
    "\n",
    "For a 2x2 matrix:\n",
    "<br>\n",
    "<img src=\"https://dsin100days.s3-us-west-2.amazonaws.com/images/images/det_mat_2.PNG\" style=\"width:40vw\">\n",
    "<br>\n",
    "\n",
    "For a 3x3 matrix:\n",
    "<br>\n",
    "<img src=\"https://dsin100days.s3-us-west-2.amazonaws.com/images/images/det_mat_3.PNG\" style=\"width:70vw\">\n",
    "<br>\n",
    "\n",
    "For a 4x4 matrix:\n",
    "<br>\n",
    "Follow the same steps as defined above.\n",
    "1. Exclude row and column that ‘a’ belongs to and calculate determinant for remaining portion of the matrix\n",
    "2. Add the calculated part to the expression on the right hand side of the equation\n",
    "3. Repeat steps 1 and 2 for all remaining elements in first row\n",
    "4. After adding all terms to the right hand side, add alternating ‘–’ and ‘+’ operations to complete the calculation\n",
    "<br>\n",
    "\n",
    "For matrices of higher dimensions, determinants are calculated by help of a calculator.\n",
    "\n",
    "In python, determinant of any matrix (or multi-dimensional array) can be calculated using the 'det' function in the 'linalg' sub-module of the numpy package.\n",
    "\n",
    "For example:\n",
    "```python\n",
    "import numpy as np\n",
    "\n",
    "a = np.array([[1,2],[3,4]])\n",
    "\n",
    "print(np.linalg.det(a))\n",
    "\n",
    "# Output\n",
    "\n",
    ">>> -2.0000000000000004\n",
    "```\n",
    "\n",
    "#### Exercise\n",
    "\n",
    "Calculate the determinant for the below given matrix.\n",
    "\n",
    "\n",
    "$A = \\left[\\begin{array}{cc}8 & 15 & 30 \\\\ 43 & 2 & 9 \\\\ 11 & 25 & 62\\end{array}\\right]$"
   ]
  },
  {
   "cell_type": "code",
   "execution_count": 6,
   "metadata": {},
   "outputs": [
    {
     "name": "stdout",
     "output_type": "stream",
     "text": [
      "-2.0000000000000004\n"
     ]
    }
   ],
   "source": []
  },
  {
   "cell_type": "markdown",
   "metadata": {
    "hide_input": true
   },
   "source": [
    "### Solution code\n",
    "\n",
    "```python\n",
    "import numpy as np\n",
    "\n",
    "A = np.array([[8,15,30],[43,2,9],[11,25,62]])\n",
    "\n",
    "print(np.linalg.det(A))\n",
    "```"
   ]
  },
  {
   "cell_type": "markdown",
   "metadata": {},
   "source": [
    "### Inverse of a Matrix\n",
    "\n",
    "For scalar values, we have the concept of 'reciprocal'. If a number is multiplied by its reciprocal the result is '1'. Similarly, there is a matrix called 'Identity matrix' (which we have studied in last notebook) among matrices.\n",
    "\n",
    "The Inverse of a matrix is similar to 'reciprocal' of a matrix, i.e., when you multiply a matrix and its inverse, the resulting product would be an Identity matrix.\n",
    "\n",
    "Say, if $A$ is a square matrix of order n x n, and $I$ is a identity matrix of order n x n, then\n",
    "\n",
    "**<font size=\"3\">$A$ <font face=\"Times New Roman\">*</font> $A^{-1}$ <font face=\"Times New Roman\">=</font> $I$</font>**\n",
    "\n",
    "Note that Inverse concept among matrices is applicable only in the case of square matrices.\n",
    "\n",
    "Calculating inverse of a 2x2 matrix is easy, however, inverse calculation for 3x3 or higher dimensions is very complex. See below example for calculation of inverse for a 2x2 matrix.\n",
    "\n",
    "<br>\n",
    "<img src=\"https://dsin100days.s3-us-west-2.amazonaws.com/images/images/mat_inv.PNG\" style=\"width:70vw\">\n",
    "<br>\n",
    "\n",
    "The Inverse of a matrix can be determined by using the 'inv' function of 'linalg' sub-module of numpy ($numpy.linalg.inv()$). This function can be performed on a numpy array (matrix).\n",
    "\n",
    "\n",
    "#### Exercise\n",
    "\n",
    "Calculate the inverse for the below given matrix.\n",
    "\n",
    "$A = \\left[\\begin{array}{cc}8 & 15 & 30 \\\\ 43 & 2 & 9 \\\\ 11 & 25 & 62\\end{array}\\right]$"
   ]
  },
  {
   "cell_type": "code",
   "execution_count": 8,
   "metadata": {},
   "outputs": [
    {
     "name": "stdout",
     "output_type": "stream",
     "text": [
      "[[ 0.01307782  0.02330701 -0.00971125]\n",
      " [ 0.33238379 -0.02149424 -0.15771073]\n",
      " [-0.13634598  0.00453192  0.08144503]]\n"
     ]
    }
   ],
   "source": []
  },
  {
   "cell_type": "markdown",
   "metadata": {
    "hide_input": true
   },
   "source": [
    "### Solution code\n",
    "\n",
    "```python\n",
    "import numpy as np\n",
    "\n",
    "A = np.array([[8,15,30],[43,2,9],[11,25,62]])\n",
    "\n",
    "print(np.linalg.inv(A))\n",
    "```"
   ]
  },
  {
   "cell_type": "markdown",
   "metadata": {},
   "source": [
    "### Comparing two matrices\n",
    "\n",
    "The 'equal to' operator, if used to compare the equality of two matrices, first checks whether the dimensions of both matrices are same or not. If they are, then the operator compares each entry of first matrix with corresponding entry in second matrix and returns a boolean matrix of the same dimensions as compared matrices. If we are expecting a single boolean answer for equality of two matrices, the best way to do that is by using the 'allclose' or 'array_equal' functions.\n",
    "\n",
    "<b>allclose and array_equal functions:</b> numpy.array_equal() method can be used to test whether two arrays are equal to each other in terms of shape and elements. numpy.allclose() function performs the same operation but it has tolerance while matching elements, which enables it to compare floating point elements with varying accuracies/decimals.\n",
    "\n",
    "For example:\n",
    "```python\n",
    "A = np.array([[8,15,30],[43,2,9],[11,25,62]])\n",
    "B = np.array([[8,15,30],[43,2,9],[11,25,62]])\n",
    "\n",
    "print(np.allclose(A,B))\n",
    "\n",
    "# Output\n",
    ">>> True\n",
    "```\n",
    "\n",
    "#### Exercise\n",
    "\n",
    "Calculate the inverse of the below given matrix. Create an Identity matrix of dimensions equal to the below given square matrix and use the allclose() function to verify whether the product of the below given matrix and its inverse yeilds the identity matrix.\n",
    "\n",
    "$A = \\left[\\begin{array}{cc}8 & 15 & 30 \\\\ 43 & 2 & 9 \\\\ 11 & 25 & 62\\end{array}\\right]$"
   ]
  },
  {
   "cell_type": "code",
   "execution_count": 17,
   "metadata": {},
   "outputs": [
    {
     "name": "stdout",
     "output_type": "stream",
     "text": [
      "True\n"
     ]
    }
   ],
   "source": []
  },
  {
   "cell_type": "markdown",
   "metadata": {
    "hide_input": true
   },
   "source": [
    "### Solution code\n",
    "\n",
    "```python\n",
    "import numpy as np\n",
    "\n",
    "A = np.array([[8,15,30],[43,2,9],[11,25,62]])\n",
    "A_inv = np.linalg.inv(A)\n",
    "\n",
    "I = np.eye(3)\n",
    "\n",
    "print(np.allclose(np.matmul(A,A_inv),I))\n",
    "```"
   ]
  },
  {
   "cell_type": "markdown",
   "metadata": {},
   "source": [
    "## Special Matrices\n",
    "\n",
    "### Symmetric Matrix\n",
    "\n",
    "A matrix which is equal to its transpose is called a symmetric matrix. If $A$ is a matrix, then $A$ is a symmetric matrix if:\n",
    "\n",
    "$A^T = A$\n",
    "\n",
    "An example of symmetric matrix is\n",
    "\n",
    "$A = \\left[\\begin{array}{cc}1 & 2 & 3 \\\\ 2 & 2 & 2 \\\\ 3 & 2 & 3\\end{array}\\right]$\n",
    "\n",
    "Another example:\n",
    "\n",
    "$B = \\left[\\begin{array}{cc}3 & 7 & 8 \\\\ 7 & 1 & 4 \\\\ 8 & 4 & 8\\end{array}\\right]$\n",
    "\n",
    "#### Exercise\n",
    "\n",
    "Use the transpose function to calculate transposes of above given matrices - $A$ and $B$. Use the allclose() function to verify if they are equal to their respective transpose matrix and verify if $A$ and $B$ are symmetric matrices."
   ]
  },
  {
   "cell_type": "code",
   "execution_count": 18,
   "metadata": {},
   "outputs": [
    {
     "name": "stdout",
     "output_type": "stream",
     "text": [
      "True True\n"
     ]
    }
   ],
   "source": []
  },
  {
   "cell_type": "markdown",
   "metadata": {
    "hide_input": true
   },
   "source": [
    "### Solution code\n",
    "\n",
    "```python\n",
    "import numpy as np\n",
    "\n",
    "A = np.array([[1,2,3],[2,2,2],[3,2,3]])\n",
    "B = np.array([[3,7,8],[7,1,4],[8,4,8]])\n",
    "\n",
    "A_trans = np.transpose(A)\n",
    "B_trans = np.transpose(B)\n",
    "\n",
    "print(np.allclose(A,A_trans), np.allclose(B,B_trans))\n",
    "```"
   ]
  },
  {
   "cell_type": "markdown",
   "metadata": {},
   "source": [
    "### Skew-Symmetric Matrix\n",
    "\n",
    "A matrix is said to be skew-symmetric if its transpose is equal to the negation of the original matrix. i.e., If $A$ is a matrix, then $A$ is a skew-symmetric matrix if:\n",
    "\n",
    "$A^T = -A$\n",
    "\n",
    "An example of symmetric matrix is\n",
    "\n",
    "$A = \\left[\\begin{array}{cc}0 & 2 & 3 \\\\ -2 & 0 & 2 \\\\ -3 & -2 & 0\\end{array}\\right]$\n",
    "\n",
    "Another example:\n",
    "\n",
    "$B = \\left[\\begin{array}{cc}0 & 7 & 8 \\\\ -7 & 0 & 4 \\\\ -8 & -4 & 0\\end{array}\\right]$\n",
    "\n",
    "<b>Note:</b> The entries in the primary diagonal of a skew-symmetric matrix are always zeros and the entries on the upper side of the primary diagonal are all positive while the entries on the lower side of the primary diagonal are all negative.\n",
    "\n",
    "#### Exercise\n",
    "\n",
    "Use the transpose function to calculate transposes of above given matrices - $A$ and $B$. Use the allclose() function to verify if the transposes of the matrices are equal to a negated version of their original matrix and verify if $A$ and $B$ are skew-symmetric matrices."
   ]
  },
  {
   "cell_type": "code",
   "execution_count": 19,
   "metadata": {},
   "outputs": [
    {
     "name": "stdout",
     "output_type": "stream",
     "text": [
      "True True\n"
     ]
    }
   ],
   "source": []
  },
  {
   "cell_type": "markdown",
   "metadata": {
    "hide_input": true
   },
   "source": [
    "### Solution code\n",
    "\n",
    "```python\n",
    "import numpy as np\n",
    "\n",
    "A = np.array([[0,2,3],[-2,0,2],[-3,-2,0]])\n",
    "B = np.array([[0,7,8],[-7,0,4],[-8,-4,0]])\n",
    "\n",
    "A_trans = np.transpose(A)\n",
    "B_trans = np.transpose(B)\n",
    "\n",
    "print(np.allclose(-A,A_trans), np.allclose(-B,B_trans))\n",
    "```"
   ]
  },
  {
   "cell_type": "markdown",
   "metadata": {},
   "source": [
    "### Singular Matrix\n",
    "\n",
    "A singular matrix is one for which no inverse exists. This is possible when the determinant of the matrix is zero. Let us say $A$ is a matrix, $A$ is said to be singular if\n",
    "\n",
    "det($A$)=0\n",
    "\n",
    "thereby, <br>\n",
    "\n",
    "$A^{-1}$ = undeterminable\n",
    "\n",
    "An example of singular matrix is:\n",
    "\n",
    "$A = \\left[\\begin{array}{cc}2 & 2 \\\\ 2 & 2 \\end{array}\\right]$\n",
    "\n",
    "another example:\n",
    "\n",
    "$B = \\left[\\begin{array}{cc}5 & 4 \\\\ 10 & 8 \\end{array}\\right]$\n",
    "\n",
    "A 3x3 singular matrix:\n",
    "\n",
    "$C = \\left[\\begin{array}{cc}0 & 2 & 3 \\\\ -2 & 0 & 2 \\\\ -4 & 0 & 4\\end{array}\\right]$\n",
    "\n",
    "\n",
    "#### Exercise\n",
    "\n",
    "Try to calculate determinants of above given matrices $A, B, and C$ and verify if they are truly singular matrices or not.\n",
    "\n",
    "Also, try calculating the inverse of any of these matrices and observe the output."
   ]
  },
  {
   "cell_type": "code",
   "execution_count": 21,
   "metadata": {},
   "outputs": [
    {
     "name": "stdout",
     "output_type": "stream",
     "text": [
      "0.0 0.0 0.0\n"
     ]
    }
   ],
   "source": []
  },
  {
   "cell_type": "markdown",
   "metadata": {
    "hide_input": true
   },
   "source": [
    "### Solution code\n",
    "\n",
    "```python\n",
    "import numpy as np\n",
    "\n",
    "A = np.array([[2,2],[2,2]])\n",
    "B = np.array([[5,4],[10,8]])\n",
    "C = np.array([[0,2,3],[-2,0,2],[-4,0,4]])\n",
    "\n",
    "print(np.linalg.det(A),np.linalg.det(B),np.linalg.det(C))\n",
    "print(np.linalg.inv(A))\n",
    "```"
   ]
  }
 ],
 "metadata": {
  "celltoolbar": "Edit Metadata",
  "kernelspec": {
   "display_name": "Python 3",
   "language": "python",
   "name": "python3"
  },
  "language_info": {
   "codemirror_mode": {
    "name": "ipython",
    "version": 3
   },
   "file_extension": ".py",
   "mimetype": "text/x-python",
   "name": "python",
   "nbconvert_exporter": "python",
   "pygments_lexer": "ipython3",
   "version": "3.7.4"
  },
  "latex_envs": {
   "LaTeX_envs_menu_present": true,
   "autoclose": false,
   "autocomplete": true,
   "bibliofile": "biblio.bib",
   "cite_by": "apalike",
   "current_citInitial": 1,
   "eqLabelWithNumbers": true,
   "eqNumInitial": 1,
   "hotkeys": {
    "equation": "Ctrl-E",
    "itemize": "Ctrl-I"
   },
   "labels_anchors": false,
   "latex_user_defs": false,
   "report_style_numbering": false,
   "user_envs_cfg": false
  },
  "toc": {
   "base_numbering": 1,
   "nav_menu": {},
   "number_sections": false,
   "sideBar": true,
   "skip_h1_title": false,
   "title_cell": "Table of Contents",
   "title_sidebar": "Contents",
   "toc_cell": false,
   "toc_position": {},
   "toc_section_display": true,
   "toc_window_display": false
  },
  "varInspector": {
   "cols": {
    "lenName": 16,
    "lenType": 16,
    "lenVar": 40
   },
   "kernels_config": {
    "python": {
     "delete_cmd_postfix": "",
     "delete_cmd_prefix": "del ",
     "library": "var_list.py",
     "varRefreshCmd": "print(var_dic_list())"
    },
    "r": {
     "delete_cmd_postfix": ") ",
     "delete_cmd_prefix": "rm(",
     "library": "var_list.r",
     "varRefreshCmd": "cat(var_dic_list()) "
    }
   },
   "types_to_exclude": [
    "module",
    "function",
    "builtin_function_or_method",
    "instance",
    "_Feature"
   ],
   "window_display": false
  }
 },
 "nbformat": 4,
 "nbformat_minor": 2
}
