{
 "cells": [
  {
   "cell_type": "markdown",
   "metadata": {},
   "source": [
    "# Probability 1\n",
    "\n",
    "## Introduction to Probability\n",
    "\n",
    "\n",
    "Let's start with a histogram shown below. For instance, we measured 100 people's heights (between 5 and 7 feet) and plot a histogram for their heights. Because the values of heights are continuous, we define several intervals to make our histogram easy to read. The first bin is `[5.00, 5.25)` (including 5.00, but excluding 5.25) and the second `[5.25, 5.50)`, etc.. Only the last bin `[6.75, 7.00]` includes 7.00. If we want to know the probability of a person's height falling into `[5.75, 6.00)`, we can use the number of people in that bin, which is 11, divided by total number 100. It gives us the probability of 11%.\n"
   ]
  },
  {
   "cell_type": "code",
   "execution_count": null,
   "metadata": {
    "scrolled": false
   },
   "outputs": [],
   "source": [
    "import numpy as np\n",
    "import matplotlib.pyplot as plt\n",
    "%matplotlib inline\n",
    "np.random.seed(20)\n",
    "heights = np.random.uniform(5, 7, size=100)\n",
    "plt.yticks(range(2, 20, 2))\n",
    "plt.xlabel('heights')\n",
    "plt.ylabel('number of people')\n",
    "plt.hist(heights, range=(5,7), bins=8, histtype='bar', ec='black')\n",
    "plt.show()"
   ]
  },
  {
   "cell_type": "markdown",
   "metadata": {
    "hide_input": true
   },
   "source": [
    "### Solution code\n",
    "\n",
    "```python\n",
    "# Just run above code\n",
    "```"
   ]
  },
  {
   "cell_type": "markdown",
   "metadata": {},
   "source": [
    "<b>Definition of probability:</b><br>\n",
    "By some probability of an outcome, we mean the fraction of the number of repeated observations of a certain outcome.\n",
    "\n",
    "Suppose we take a `fair` coin:\n",
    "\n",
    "$Probability of Heads = \\frac{Number of heads}{Total number of throws} = 0.5$\n",
    "\n",
    "Its frequentist definition (when number of throws goes to infinity):\n",
    "\n",
    "$P = \\lim_{throws \\to \\infty} \\frac{Number of heads}{Total number of throws} = 0.5$\n",
    "\n",
    "When consider throwing a coin for multiple times, the general result is:\n",
    "\n",
    "1. Probability for throws=2 almost will never be 50/50 or 0.5\n",
    "2. Probability for throws=20, 30 or more may be true, which can be 0.5.\n",
    "\n",
    "<img src=\"../../../images/probability_coin.png\">\n",
    "From the above image we can see that when number of throws is small, large fluctuations in probability will show. If the number of throws increases, it will go toward 0.5 and fluctuations become relatively small.\n",
    "\n",
    "Probabilities arise in many problems dealing with random events where an outcome is not known or cannot be predicted reasonably confidently. \n",
    "\n",
    "An event is called random if it is practically impossible to predict from the initial state.\n",
    "\n",
    "For example , the toss of a coin could yield an outcome of a H or T. Similarly the outcome of a roll of a dice would yield a value in the set : {1,2,3,4,5,6}\n",
    "The value of a probability is a number between 0 and 1 inclusive. An event that cannot occur has a probability (of happening) equal to 0 and the probability of an event that is certain to occur has a probability equal to 1.(see probability scale below).\n",
    "\n",
    "In part 1 of this probability course we will introduce you to some of the basics of Probability. The topics include:\n",
    "\n",
    "1. What are Random Variables (Discrete and Continuous Random Variables)\n",
    "    \n",
    "2. Probability mass functions, \n",
    "\n",
    "3. Probability density function\n",
    "\n",
    "\n",
    "\n",
    "## 1.0 Random Variables\n",
    "\n",
    "\n",
    "Before we define what are Random Variables, we must see what are random experiments and events. \n",
    "\n",
    "\n",
    "A <b>Random experiment</b> is any real world event such as a roll of a dice, a game of soccer or any event that brings random results.\n",
    "\n",
    "According to wikipedia, <b>an event</b> within probability theory is a set of outcomes of an experiment (a subset of the sample space) to which a probability is assigned.\n",
    "\n",
    "In the game of soccer, there could be a number of goals scored by either of the teams. The number of goals scored by a given team is a random variable.\n",
    "\n",
    "Hence we can define a random variable as, a real-valued variable whose value is determined by an underlying random experiment.\n",
    "\n",
    "Given an experiment and set of possible outcomes, random variable associates a particular number to each outcome. Consider an event where a coin is tossed twice. The random variable where number of Heads occur is denoted as:\n",
    "$$ X \\to \\{0, 1, 2\\}$$ \n",
    "Random variables can be either continuous or discrete. A random variable is discrete if its range is finite or at most countably infinite. A random variable is continuous if it can take uncountably infinite number of values.\n",
    "\n",
    "<img src=\"../../../images/cointoss.png\" style=\"width:35vw\">\n",
    "\n",
    "### Exercise\n",
    "\n",
    "* What is the random variable that would take the sum of two dice? Assign the values to a list, S.\n",
    "\n",
    "\n",
    "\n"
   ]
  },
  {
   "cell_type": "code",
   "execution_count": null,
   "metadata": {},
   "outputs": [],
   "source": [
    "S = []"
   ]
  },
  {
   "cell_type": "markdown",
   "metadata": {
    "hide_input": true
   },
   "source": [
    "### Solution\n",
    "\n",
    "```python\n",
    "S = list(range(2, 13))\n",
    "print(S)\n",
    "```"
   ]
  },
  {
   "cell_type": "markdown",
   "metadata": {},
   "source": [
    "\n",
    "### 1.1 Discrete Random Variables\n",
    "\n",
    "A random variable is discrete if its range is a countable set. \n",
    "\n",
    "In the above example of toss of a coin thrice, the value of Heads count would be {0,1,2,3}. These are countable and hence this is a Discrete Random Variable.\n",
    "\n",
    "### 1.2 Continuous Random Variables\n",
    "\n",
    "\n",
    "A continuous random variable X has a range in the form of an interval or a union of non-overlapping intervals on the real line.\n",
    "\n",
    "For example the temperature in Boston in the month of june would be a continuous random variable. The variable can be any value such as 73.55 °F\n",
    "\n",
    "\n",
    "### Exercise:\n",
    "\n",
    "In the below code, write logic to create a random variable 'tosses' that has the outcome of 10 different tosses of a coin. "
   ]
  },
  {
   "cell_type": "code",
   "execution_count": null,
   "metadata": {},
   "outputs": [],
   "source": [
    "#Toss of a coin simulation\n",
    "import random\n",
    "from collections import Counter\n",
    "\n",
    "def toss_coin(n):\n",
    "    tosses = []\n",
    "    for i in range(n):\n",
    "        if random.getrandbits(1) == 0:\n",
    "            tosses.append('H')\n",
    "        else:\n",
    "            tosses.append('T')\n",
    "    return tosses\n",
    "\n",
    "def get_probability(tosses, result):\n",
    "    counter = Counter(tosses)\n",
    "    return counter[result]/len(tosses)\n",
    "\n"
   ]
  },
  {
   "cell_type": "markdown",
   "metadata": {
    "hide_input": true
   },
   "source": [
    "### Solution\n",
    "\n",
    "```python\n",
    "tosses = toss_coin(10)\n",
    "print(tosses)\n",
    "\n",
    "```"
   ]
  },
  {
   "cell_type": "markdown",
   "metadata": {},
   "source": [
    "## Probability Mass Functions (PMF)\n",
    "\n",
    "If X is a random variable denoting the event with possible values such that X = {x1,x2,x3,..} where the possible values is a set of countable values then the probability P(x) is called as Probability Mass Function (PMF) since the values are discrete values. We denote the probability of the event that X = x by p(X = x) or just p(x) for short.\n",
    "\n",
    "For example, let A be the event of two tosses of a coin and the outcome X denotes the set number of heads.\n",
    "Here, our sample space is given by\n",
    "\n",
    "S={HH,HT,TH,TT}.\n",
    "The number of heads will be 0, 1 or 2. Thus the range of values $R_x$ will be\n",
    "\n",
    "$R_X=\\{0,1,2\\}.$\n",
    "\n",
    "\n",
    "The PMF of X given by $P_X(k)$ will be:\n",
    "\n",
    "$P_X(k)=P(X=k) \\textrm{ for } k=0,1,2.$\n",
    "\n",
    "From the above, for x=0, that is, for 0 Heads i two tosses of a coin $P_X(0)$ will be given by:\n",
    "\n",
    "$P_X(0)=P(X=0)=P(TT)=\\frac{1}{4}$\n",
    "\n",
    "Similarly for the above probability mass function $P_X(2)$ which is the probability for one Head in two tosses is given by:\n",
    "\n",
    "$P_X(1) =P(X=1)=P(\\{HT,TH\\})=\\frac{1}{4}+\\frac{1}{4}=\\frac{1}{2}$\n",
    "\n",
    "### Exercise\n",
    "\n",
    "In the code cell, for the above probability mass function $P_X(2)$ find the probability for one Heads in two tosses and assign it to variable p_x2."
   ]
  },
  {
   "cell_type": "code",
   "execution_count": null,
   "metadata": {},
   "outputs": [],
   "source": [
    "# pmf\n",
    "p_x2 = 0\n",
    "\n",
    "#write your code below\n"
   ]
  },
  {
   "cell_type": "markdown",
   "metadata": {
    "hide_input": true
   },
   "source": [
    "### Solution Code\n",
    "\n",
    "```python\n",
    "# for two heads the set S will be {HH} which is one out of four values. Hence :\n",
    "p_x2 = 1/4\n",
    "\n",
    "```"
   ]
  },
  {
   "cell_type": "markdown",
   "metadata": {},
   "source": [
    "## Probability Density Function (PDF)\n",
    "\n",
    "Probability density function (PDF) is a statistical expression that defines a probability distribution for a continuous random variable. Since continuous random variables can take any value such as 75.55 for temperature of a given city it is generally represented as a density. Due to this the Probability Density Function represents the area under the curve usually between an  interval in which the variable will fall. The total area in this interval of the graph equals the probability of a continuous random variable occurring.\n",
    "\n",
    "For this reason, the PDF of a single value will be 0, as the area under the curve for a line will be zero. Hence PDF is defined for a range of values.\n",
    "\n",
    "Given a pdf, we can compute the probability of a continuous variable being in a finite interval as follows:\n",
    "\n",
    "$ P(a < X \\leq b) = \\int_{a}^{b} f_X(x)dx $\n",
    "\n",
    "\n",
    "###  Execrise:\n",
    "\n",
    "Click the run button to run the below code to display area under the curve."
   ]
  },
  {
   "cell_type": "code",
   "execution_count": null,
   "metadata": {},
   "outputs": [],
   "source": [
    "# pdf\n",
    "import numpy as np\n",
    "import matplotlib    \n",
    "import matplotlib.pyplot as plt\n",
    "\n",
    "def normal(power, mean, std, val):\n",
    "    a = 1/(np.sqrt(2*np.pi)*std)\n",
    "    diff = np.abs(np.power(val-mean, power))\n",
    "    b = np.exp(-(diff)/(2*std*std))\n",
    "    return a*b\n",
    "\n",
    "pdf_array = []\n",
    "array = np.arange(-2,2,0.1)\n",
    "print(array)\n",
    "for i in array:\n",
    "    print(i)\n",
    "    pdf = normal(2, 0, 0.1, i)\n",
    "    print(pdf)\n",
    "    pdf_array.append(pdf)\n",
    "\n",
    "plt.plot(array, pdf_array)\n",
    "plt.ylabel('some numbers')\n",
    "plt.axis([-2, 2, 0, 5])\n",
    "plt.show()\n",
    "\n"
   ]
  },
  {
   "cell_type": "markdown",
   "metadata": {
    "hide_input": true
   },
   "source": [
    "\n",
    "### Solution\n",
    "\n",
    "Just Run the code above to display the area under the curve."
   ]
  },
  {
   "cell_type": "markdown",
   "metadata": {},
   "source": [
    "## Conditional Probability\n",
    "\n",
    "For her vacation in Hawaii, Elizabeth has packed 5 pants, 4 skirts and 8 shirts. On her first day venturing out to explore the islands, Elizabeth is running late. In a rush to dress up, she opens her briefcase and picks out two pieces of clothing at random. Given that her first pick is a skirt, what is the probability that she is in luck and picks a shirt to go with it.\n",
    "\n",
    "This is a typical example of conditional probability, which is the probability of a second event happening given that a first event has already occured. This particular case of conditional probability deals with dependent events. Elizabeth has to pull out a second piece of clothing that matches her first pick. Elizabeth having a matching pair of clothing is dependent on her first and second pick.\n",
    "\n",
    "As most of you might have already guessed, the probability is: $$P(MatchingPair) = \\frac{4}{17} * \\frac{8}{16}$$ <br>\n",
    "(Hint): She first picks a skirt with probability 4/17, which leaves her with 3 remaining skirts, 5 pants and 8 shirts. Out of the 16 remaining clothes, her only favourable picks are the 8 shirts, thus giving us 8/16. Our final answer is a combination of the first and second pick, thus giving us our final answer = 4/17 X 8/16\n",
    "\n",
    "## Definition:\n",
    "\n",
    "In probability theory, conditional probability is the probability of an event given that another event has occured. Denoted as <strong>P(B|A)</strong>, is the probabilty of event B given event A has already occured.To put this into persepective, let us assume that the probability of rain on any random day is 10%. But if we know that there is a storm the same day, then the probability of rain will be much higher.\n",
    "\n",
    "The concept of conditional probability is one of the most fundamental concepts in probability theory. While it may seem very trivial, conditional probabilities can be quite confusing and require careful attention.<br>\n",
    "<strong>Note:</strong> If events A and B are <strong>independent</strong>, then <strong>P(B|A)</strong> is simply <strong>P(B)</strong>.\n",
    "\n",
    "## Independent Events:\n",
    "Now let us prove the note mentioned earlier for independent events using this equation:\n",
    "\n",
    "We know that, $$P(A|B) = \\frac{P(A∩B)}{P(B)}$$\n",
    "\n",
    "For independent events, we have <strong>P(A∩B) = P(A) X P(B)</strong> . Substituting this in the equation above, we get:\n",
    "\n",
    "$$P(A|B) = \\frac{P(A) X P(B)}{P(B)}$$<br>\n",
    "\n",
    "$$P(A|B) = P(A)$$\n",
    "\n",
    "## Mutually Exclusive Events:\n",
    "\n",
    "Two events are said to be mutually exclusive when the two events cannot occur at the same time. For a given sample space either one or the other can occur, not both. They have their probabilities defined as: $$P(A)+P(B)=1$$\n",
    "Furthermore,$$P(A∩B) = 0$$\n",
    "\n",
    "Therfore the conditional probability for mutually exclusive events is <strong>0</strong>\n",
    "\n",
    "### Exercise\n",
    "\n",
    "You toss a fair coin three times, write a program to compute the following:\n",
    "\n",
    "1. What is the probability of three heads,<strong> HHH</strong>? [use P1 as variable for final ans]\n",
    "2. What is the probability that you observe exactly one heads? [use P2 as variable for final ans]\n",
    "3. Given that you have observed at least one heads, what is the probability that you observe at least two heads? [use P3 as variable for final answer."
   ]
  },
  {
   "cell_type": "code",
   "execution_count": null,
   "metadata": {},
   "outputs": [],
   "source": [
    "#Write your solution code below"
   ]
  },
  {
   "cell_type": "markdown",
   "metadata": {
    "hide_input": true
   },
   "source": [
    "### Solution\n",
    "\n",
    "```python\n",
    "#Part 1:Since each toss is independent, the probability of getting a head on any toss is 1/2\n",
    "P1 = 0.5*0.5*0.5\n",
    "\n",
    "#Part 2: Let us create the sample space\n",
    "#S = [HHH,HHT,HTH,THH,HTT,TTH,THT,TTT] the favourable events are [HTT, THT, TTH]\n",
    "P2 = 3/8\n",
    "\n",
    "#Part 3: Let s1 be the event that you observe one head, and s2 be the event for two heads\n",
    "#we have to find P(s2|s1), where P(s1) = 1 - P{TTT} = 7/8 and P(s2) = 4/8\n",
    "#P(s2|s1) = P(s2 ∩ s1)/P(s1)\n",
    "P3 = (4/8)*(8/7)\n",
    "\n",
    "#print the answers:\n",
    "print(P1,P2,P3)\n",
    "\n",
    "```"
   ]
  },
  {
   "cell_type": "markdown",
   "metadata": {},
   "source": [
    "## Bayes' Theorem:\n",
    "\n",
    "Named after the famous English statistician Thomas Bayes, Bayes' Theorem (or Bayes' Rule). The theorem provides a way to revise exsisting predictions or hypothesis given new or additional evidence. It is a direct application of conditional probability.\n",
    "\n",
    "The formula is as follows:\n",
    "\n",
    "$$P(A|B) = \\frac{P(B|A)P(A)}{P(B)}$$\n",
    "\n",
    "### Derivation:\n",
    "\n",
    "Let us derive this equation using conditional probability. We know from conditional probabilities that:\n",
    "\n",
    "$$P(A|B) = \\frac{P(A∩B)}{P(B)}$$\n",
    "\n",
    "re-arranging the terms, we get:\n",
    "$$P(A∩B) = P(A|B).P(B)$$\n",
    "\n",
    "Similarly,\n",
    "\n",
    "$$P(B|A) = \\frac{P(A∩B)}{P(A)}$$\n",
    "\n",
    "$$P(A∩B) = P(B|A).P(A)$$\n",
    "\n",
    "Now equating the above two results, we get:\n",
    "$$P(A|B).P(B) = P(B|A).P(A)$$\n",
    "\n",
    "$$P(A|B) = \\frac{P(B|A).P(A)}{P(B)}$$\n",
    "\n",
    "Let us better understand the theorem from a simple example\n",
    "\n",
    "<strong>Example:</strong> It is the flu season and you visit your personal physician for a regular checkup. The doctor selects you at random to test for Bird flu. The virus is currently suspected to affect 1 in 10000 people across the globe. The test is 99% accurate, meaning that the false positive (you test positive when you do not have the flu) is 2%. The false negative is 0%. Your test result shows you tested positive. What is the probability that you have bird flu.\n",
    "\n",
    "<strong>Solution:</strong><br>\n",
    "Let us first breakdown the problem:<br>\n",
    "Let P(B) be the probability that you have bird flu <br>\n",
    "Let P(T) be the probability of testing positive<br>\n",
    "From the above problem statement, it is clear that we are required to find P(B|A)\n",
    "\n",
    "As per Bayes' Theorem,\n",
    "\n",
    "$$P(B|T) = \\frac{P(T|B).P(B)}{P(T)}$$\n",
    "\n",
    "From total probability, we have:\n",
    "$$P(T) = P(T|B).P(B) + P(T|NB).P(NB)$$\n",
    "\n",
    "where P(NB) is the probability of not having bird flu.\n",
    "\n",
    "We have,\n",
    "<strong>P(B) = 1/10000 = 0.0001<br>\n",
    "P(NB) = 1 - P(B) = 0.9999<br>\n",
    "P(T|B) = 1 </strong>[if you have swine flue you always test positive, false negativs is 0]<br>\n",
    "<strong>P(T|NB) = 0.02 </strong>(false posititve rate)\n",
    "\n",
    "Therefore, <strong>P(T) = P(T|B).P(B) + P(T|NB).P(NB)<br>\n",
    "P(T) ≈ 0.02\n",
    "\n",
    "$$P(B|T) = \\frac{P(T|B).P(B)}{P(T)}$$\n",
    "<br>\n",
    "$$P(B|T) = \\frac{1 X 0.0001}{0.02} ≈ 0.005$$\n",
    "<br>\n",
    "</strong>Even though you tested positive, there is only a <strong>0.5%</strong> chance you have bird flu.\n",
    "\n",
    "\n",
    "\n",
    "### Exercise\n",
    "\n",
    "The blue M&M was introduced in 1995.  Before then, the color mix in a bag of plain M&Ms was (30% Brown, 20% Yellow, 20% Red, 10% Green, 10% Orange, 10% Tan).  Afterward it was (24% Blue , 20% Green, 16% Orange, 14% Yellow, 13% Red, 13% Brown). \n",
    "A friend of mine has two bags of M&Ms, and he tells me that one is from 1994 and one from 1996.  He won't tell me which is which, but he gives me one M&M from each bag.  One is yellow and one is green.  What is the probability that the yellow M&M came from the 1994 bag?"
   ]
  },
  {
   "cell_type": "code",
   "execution_count": null,
   "metadata": {},
   "outputs": [],
   "source": [
    "#Write your solution below"
   ]
  },
  {
   "cell_type": "markdown",
   "metadata": {
    "hide_input": true
   },
   "source": [
    "### Solution\n",
    "\n",
    "```python\n",
    "# Use the variable \"ans\" to denote the final probability\n",
    "ans = (0.2*0.5)/(0.2*0.5+0.14*0.5)\n",
    "print(ans)\n",
    "```"
   ]
  }
 ],
 "metadata": {
  "celltoolbar": "Edit Metadata",
  "kernelspec": {
   "display_name": "Python 3",
   "language": "python",
   "name": "python3"
  },
  "language_info": {
   "codemirror_mode": {
    "name": "ipython",
    "version": 3
   },
   "file_extension": ".py",
   "mimetype": "text/x-python",
   "name": "python",
   "nbconvert_exporter": "python",
   "pygments_lexer": "ipython3",
   "version": "3.6.8"
  }
 },
 "nbformat": 4,
 "nbformat_minor": 2
}
