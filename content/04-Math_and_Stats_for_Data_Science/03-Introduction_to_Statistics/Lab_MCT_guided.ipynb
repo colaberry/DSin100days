{
 "cells": [
  {
   "cell_type": "markdown",
   "metadata": {},
   "source": [
    "## Lab - Measures of Central Tendency\n",
    "\n",
    "Given the following data sets and objectives, determine which measure would be appropriate in each case and support your rationale with a brief explanation.\n",
    "\n",
    "* <b>Scenario 1:</b> A community measures body fat of all residents in the 12-18 years age group, as part of a \"healthy youth\" campaign. The observations for teenage boys of the community are given below:\n",
    "\n",
    "```python\n",
    "body_fat = [0.25,0.22,0.21,0.23,0.19,0.25,0.26,0.22,0.19,0.19,0.22,0.19,0.24,0.26,0.20,0.20,0.27,0.20,0.23,0.26,0.21,0.24,0.22,0.21,0.19,0.56,0.63,0.62,0.57,0.51,0.49,0.68]\n",
    "```\n",
    "Plot the mean, meadian and mode using Plotly express. Which do you think is an appropriate measure for this data. \n",
    "\n",
    "Considering 23% is the acceptable level of body fat in teenage boys, identify a measure which would be representative of the body fat that a typical teenage boy from the community might have.\n",
    "\n",
    "* <b>Scenario 2:</b> A large IT organization periodically conducts testing sessions on its flagship product, a CRM application. A new manager has joined the organization and has been charged with conducting a regular testing session for the application. He has data of the number of testers who have participated in each of the 21 testing sessions conducted so far. The data is as follows:\n",
    "\n",
    "```python\n",
    "testers_data = [12,6,25,51,17,11,7,51,21,19,8,24,51,51,20,16,51,5,17,12,20]\n",
    "```\n",
    "\n",
    "Which measure should the manager use as an appropriate estimate for the next testing session?"
   ]
  },
  {
   "cell_type": "code",
   "execution_count": 1,
   "metadata": {
    "ExecuteTime": {
     "end_time": "2020-05-22T20:46:52.814956Z",
     "start_time": "2020-05-22T20:46:52.461295Z"
    },
    "scrolled": false
   },
   "outputs": [],
   "source": [
    "# Code/Write Solution here\n",
    "import numpy as np \n",
    "import plotly_express as px \n",
    "import pandas as pd \n",
    "\n",
    "body_fat = [0.25,0.22,0.21,0.23,0.19,0.25,0.26,0.22,0.19,0.19,0.22,0.19,0.24,\n",
    "            0.26,0.20,0.20,0.27,0.20,0.23,0.26,0.21,0.24,0.22,0.21,0.19,0.56,\n",
    "            0.63,0.62,0.57,0.51,0.49,0.68]\n",
    "\n",
    "\n",
    "body_fat_df = # Convert data to a pandas dataframe with column name 'data'\n",
    "\n",
    "mean = ## calculate the mean from the dataframe\n",
    "median = ## calculate the mode from the dataframe\n",
    "mode = ## calculate the mode from the dataframe\n"
   ]
  },
  {
   "cell_type": "code",
   "execution_count": 2,
   "metadata": {
    "ExecuteTime": {
     "end_time": "2020-05-22T20:46:53.069278Z",
     "start_time": "2020-05-22T20:46:52.816041Z"
    }
   },
   "outputs": [
    {
     "data": {
      "text/plain": [
       "<matplotlib.legend.Legend at 0x7efeb109ceb8>"
      ]
     },
     "execution_count": 2,
     "metadata": {},
     "output_type": "execute_result"
    },
    {
     "data": {
      "image/png": "[encoded data removed]",
      "text/plain": [
       "<Figure size 1080x720 with 1 Axes>"
      ]
     },
     "metadata": {
      "needs_background": "light"
     },
     "output_type": "display_data"
    }
   ],
   "source": [
    "import matplotlib.pyplot as plt \n",
    "\n",
    "plt.figure(figsize=(15,10))\n",
    "plt.hist(body_fat, bins=5)\n",
    "labels = ['mean','median', 'mode']\n",
    "colors = ['red', 'green', 'blue']\n",
    "values = [mean, median, mode]\n",
    "for indx, x in enumerate(values): \n",
    "    plt.vlines(x=x, ymin=0, ymax=30, linestyles='dashed',lw=5, label=labels[indx], colors=colors[indx])\n",
    "plt.title(\"Fat Percentage freqeuncy\")\n",
    "plt.legend()"
   ]
  },
  {
   "cell_type": "markdown",
   "metadata": {},
   "source": [
    "<img src=\"../../../images/mct_plot1.png\">\n"
   ]
  },
  {
   "cell_type": "code",
   "execution_count": null,
   "metadata": {},
   "outputs": [],
   "source": [
    "# What metric will you choose to describe this data with and why? \n"
   ]
  },
  {
   "cell_type": "code",
   "execution_count": 3,
   "metadata": {
    "ExecuteTime": {
     "end_time": "2020-05-22T20:46:53.074485Z",
     "start_time": "2020-05-22T20:46:53.070534Z"
    }
   },
   "outputs": [],
   "source": [
    "testers_data = [12,6,25,51,17,11,7,51,21,19,8,24,51,51,20,16,51,5,17,12,20]\n",
    "testers_df = # Convert data to a pandas dataframe with column name 'data'\n",
    "\n",
    "tester_mean =  ## calculate the mean from the dataframe\n",
    "tester_median = ## calculate the mode from the dataframe\n",
    "tester_mode = ## calculate the mode from the dataframe\n",
    "\n"
   ]
  },
  {
   "cell_type": "code",
   "execution_count": 4,
   "metadata": {
    "ExecuteTime": {
     "end_time": "2020-05-22T20:46:53.231415Z",
     "start_time": "2020-05-22T20:46:53.075639Z"
    }
   },
   "outputs": [
    {
     "data": {
      "text/plain": [
       "<matplotlib.legend.Legend at 0x7efeaefd4828>"
      ]
     },
     "execution_count": 4,
     "metadata": {},
     "output_type": "execute_result"
    },
    {
     "data": {
      "image/png": "[encoded data removed]",
      "text/plain": [
       "<Figure size 1080x720 with 1 Axes>"
      ]
     },
     "metadata": {
      "needs_background": "light"
     },
     "output_type": "display_data"
    }
   ],
   "source": [
    "\n",
    "plt.figure(figsize=(15,10))\n",
    "plt.hist(testers_data, bins=10)\n",
    "labels = ['mean','median', 'mode']\n",
    "colors = ['red', 'green', 'blue']\n",
    "values = [tester_mean, tester_median, tester_mode]\n",
    "## Finish the code for the plot\n",
    "## 3 to 4 lines of code "
   ]
  },
  {
   "cell_type": "markdown",
   "metadata": {
    "ExecuteTime": {
     "end_time": "2020-05-22T20:46:41.116285Z",
     "start_time": "2020-05-22T20:46:41.110831Z"
    }
   },
   "source": [
    "<img src=\"../../../images/mct_plot2.png\">"
   ]
  },
  {
   "cell_type": "markdown",
   "metadata": {
    "ExecuteTime": {
     "end_time": "2020-05-22T20:20:56.749154Z",
     "start_time": "2020-05-22T20:20:56.639116Z"
    }
   },
   "source": [
    "In this case the best metric to go with would be to with Mean or Median since both account of the central regions of the distribution. \n",
    "\n",
    "The takeaway from this lab is that we should use the distributions to decide what are the best metrics to use. "
   ]
  },
  {
   "cell_type": "code",
   "execution_count": null,
   "metadata": {
    "tags": [
     "grade"
    ]
   },
   "outputs": [],
   "source": [
    "import requests\n",
    "from time import gmtime, strftime\n",
    "from IPython.display import clear_output\n",
    "\n",
    "user_ns = tuple(get_ipython().user_ns.items())\n",
    "user_id = ''\n",
    "lab_name = ''\n",
    "import os\n",
    "\n",
    "def display_result(result, res_code):\n",
    "    from IPython.display import display, HTML\n",
    "    js = \"<style>p.res {background-color: lightblue;} p.pas {color: green;text-align: center;font-size: 150%;} p.fail {color: red;text-align: center;font-size: 150%;}  p.wait {color: blue;text-align: center;font-size: 150%;} p.center {text-align: center;font-size: 200%;}</style>\"\n",
    "    if res_code == 'PASS':\n",
    "        #js = js + \"<script>$('#notebook-container').after('<p id=lastidp class=pas>%s</p>')</script>\"   % result\n",
    "        js = js + \"<script>$('#lastidp').replaceWith('<p id=lastidp class=pas>%s</p>')</script>)\"   % result\n",
    "    elif res_code == 'FAIL':\n",
    "        js = js + \"<script>$('#lastidp').replaceWith('<p id=lastidp class=fail>%s</p>')</script>\"   % result\n",
    "    else:\n",
    "        js = js + \"\"\"<script>\n",
    "        if($('#lastidp').length){\n",
    "        $('#lastidp').replaceWith('<p id=lastidp class=wait>%s</p>')\n",
    "        }else{\n",
    "        $('#notebook-container').after('<p id=lastidp class=wait>%s</p>')\n",
    "        }\n",
    "        </script>\n",
    "        \"\"\"   % (result,result)\n",
    "    display(HTML(js))\n",
    "\n",
    "display_result('','WAIT')\n",
    "    \n",
    "# if value_type == int:\n",
    "for name, value in user_ns:\n",
    "    if name == 'user_id':\n",
    "        user_id = value\n",
    "    if name == 'nb_name':\n",
    "        lab_name = value\n",
    "        lab_name = os.path.basename(lab_name).split('.')[0]\n",
    "\n",
    "input_content_file = lab_name + '.ipynb'\n",
    "\n",
    "import random\n",
    "n = random.randint(1001,3001)\n",
    "f = {'file': ( 'rnd' +  str(n) + '_' + input_content_file, open(input_content_file,'rb'))}\n",
    "d = {'user': user_id}\n",
    "r = requests.post('http://autograde.refactored.ai/uploader', data=d, files=f)\n",
    "#r = requests.post('http://localhost:5000/uploader', data=d, files=f)\n",
    "tm = strftime(\"%Y-%m-%d %H:%M:%S\", gmtime())\n",
    "msg = r.json()['result']['message'][0]\n",
    "res = r.json()['result']['result']\n",
    "answerid = r.json()['answerid']\n",
    "result = tm + ' - ' + msg + '    Answerid is : ' + str(answerid) \n",
    "#score = r.json()['result']['score']\n",
    "#result = tm + ' - ' + msg + '    Your result is : ' + res + '     And the score is : ' + str(score)\n",
    "#print(result)\n",
    "display_result(result,'WAIT')\n",
    "\n",
    "import time\n",
    "count = 0\n",
    "while True:\n",
    "    #r = requests.get('http://localhost:5000/get_result?answer_id=' + str(answerid))\n",
    "    r = requests.get('http://autograde.refactored.ai/get_result?answer_id=' + str(answerid))\n",
    "    res = r.json()['result']['result']\n",
    "    if res != 'WAIT':\n",
    "        tm = strftime(\"%Y-%m-%d %H:%M:%S\", gmtime())\n",
    "        msg = r.json()['result']['message'][0]\n",
    "        res = r.json()['result']['result']\n",
    "        score = r.json()['result']['score']\n",
    "        result = tm + ' - ' + msg + ',    Your result is : ' + res + '    And your score is : ' + str(score) \n",
    "        clear_output(wait=True)\n",
    "        break\n",
    "    else:\n",
    "        if(count ==0):\n",
    "            print('Waiting for your score......')\n",
    "        count = count + 1\n",
    "        time.sleep(10)\n",
    "        if(count > 10):\n",
    "            result = 'Error occurred during evaluation. Please resubmit.'\n",
    "            break\n",
    "\n",
    "display_result(result,res)"
   ]
  }
 ],
 "metadata": {
  "celltoolbar": "Tags",
  "kernelspec": {
   "display_name": "Python 3",
   "language": "python",
   "name": "python3"
  },
  "language_info": {
   "codemirror_mode": {
    "name": "ipython",
    "version": 3
   },
   "file_extension": ".py",
   "mimetype": "text/x-python",
   "name": "python",
   "nbconvert_exporter": "python",
   "pygments_lexer": "ipython3",
   "version": "3.7.4"
  },
  "latex_envs": {
   "LaTeX_envs_menu_present": true,
   "autoclose": false,
   "autocomplete": true,
   "bibliofile": "biblio.bib",
   "cite_by": "apalike",
   "current_citInitial": 1,
   "eqLabelWithNumbers": true,
   "eqNumInitial": 1,
   "hotkeys": {
    "equation": "Ctrl-E",
    "itemize": "Ctrl-I"
   },
   "labels_anchors": false,
   "latex_user_defs": false,
   "report_style_numbering": false,
   "user_envs_cfg": false
  },
  "toc": {
   "base_numbering": 1,
   "nav_menu": {},
   "number_sections": false,
   "sideBar": true,
   "skip_h1_title": false,
   "title_cell": "Table of Contents",
   "title_sidebar": "Contents",
   "toc_cell": false,
   "toc_position": {},
   "toc_section_display": true,
   "toc_window_display": false
  },
  "varInspector": {
   "cols": {
    "lenName": 16,
    "lenType": 16,
    "lenVar": 40
   },
   "kernels_config": {
    "python": {
     "delete_cmd_postfix": "",
     "delete_cmd_prefix": "del ",
     "library": "var_list.py",
     "varRefreshCmd": "print(var_dic_list())"
    },
    "r": {
     "delete_cmd_postfix": ") ",
     "delete_cmd_prefix": "rm(",
     "library": "var_list.r",
     "varRefreshCmd": "cat(var_dic_list()) "
    }
   },
   "types_to_exclude": [
    "module",
    "function",
    "builtin_function_or_method",
    "instance",
    "_Feature"
   ],
   "window_display": false
  }
 },
 "nbformat": 4,
 "nbformat_minor": 2
}
