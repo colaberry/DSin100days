{
 "cells": [
  {
   "cell_type": "code",
   "execution_count": 1,
   "metadata": {
    "ExecuteTime": {
     "end_time": "2019-02-20T00:10:39.169614Z",
     "start_time": "2019-02-20T00:10:32.737654Z"
    }
   },
   "outputs": [
    {
     "data": {
      "text/html": [
       "<script>requirejs.config({paths: { 'plotly': ['https://cdn.plot.ly/plotly-latest.min']},});if(!window.Plotly) {{require(['plotly'],function(plotly) {window.Plotly=plotly;});}}</script>"
      ],
      "text/vnd.plotly.v1+html": [
       "<script>requirejs.config({paths: { 'plotly': ['https://cdn.plot.ly/plotly-latest.min']},});if(!window.Plotly) {{require(['plotly'],function(plotly) {window.Plotly=plotly;});}}</script>"
      ]
     },
     "metadata": {},
     "output_type": "display_data"
    },
    {
     "name": "stderr",
     "output_type": "stream",
     "text": [
      "C:\\ProgramData\\Anaconda3\\lib\\site-packages\\statsmodels\\compat\\pandas.py:56: FutureWarning:\n",
      "\n",
      "The pandas.core.datetools module is deprecated and will be removed in a future version. Please use the pandas.tseries module instead.\n",
      "\n"
     ]
    },
    {
     "data": {
      "text/html": [
       "\n",
       "    <div class=\"bk-root\">\n",
       "        <a href=\"https://bokeh.pydata.org\" target=\"_blank\" class=\"bk-logo bk-logo-small bk-logo-notebook\"></a>\n",
       "        <span id=\"6102089d-9a57-4f72-a8df-fd58a5cc0f48\">Loading BokehJS ...</span>\n",
       "    </div>"
      ]
     },
     "metadata": {},
     "output_type": "display_data"
    },
    {
     "data": {
      "application/javascript": [
       "\n",
       "(function(root) {\n",
       "  function now() {\n",
       "    return new Date();\n",
       "  }\n",
       "\n",
       "  var force = true;\n",
       "\n",
       "  if (typeof (root._bokeh_onload_callbacks) === \"undefined\" || force === true) {\n",
       "    root._bokeh_onload_callbacks = [];\n",
       "    root._bokeh_is_loading = undefined;\n",
       "  }\n",
       "\n",
       "  var JS_MIME_TYPE = 'application/javascript';\n",
       "  var HTML_MIME_TYPE = 'text/html';\n",
       "  var EXEC_MIME_TYPE = 'application/vnd.bokehjs_exec.v0+json';\n",
       "  var CLASS_NAME = 'output_bokeh rendered_html';\n",
       "\n",
       "  /**\n",
       "   * Render data to the DOM node\n",
       "   */\n",
       "  function render(props, node) {\n",
       "    var script = document.createElement(\"script\");\n",
       "    node.appendChild(script);\n",
       "  }\n",
       "\n",
       "  /**\n",
       "   * Handle when an output is cleared or removed\n",
       "   */\n",
       "  function handleClearOutput(event, handle) {\n",
       "    var cell = handle.cell;\n",
       "\n",
       "    var id = cell.output_area._bokeh_element_id;\n",
       "    var server_id = cell.output_area._bokeh_server_id;\n",
       "    // Clean up Bokeh references\n",
       "    if (id !== undefined) {\n",
       "      Bokeh.index[id].model.document.clear();\n",
       "      delete Bokeh.index[id];\n",
       "    }\n",
       "\n",
       "    if (server_id !== undefined) {\n",
       "      // Clean up Bokeh references\n",
       "      var cmd = \"from bokeh.io.state import curstate; print(curstate().uuid_to_server['\" + server_id + \"'].get_sessions()[0].document.roots[0]._id)\";\n",
       "      cell.notebook.kernel.execute(cmd, {\n",
       "        iopub: {\n",
       "          output: function(msg) {\n",
       "            var element_id = msg.content.text.trim();\n",
       "            Bokeh.index[element_id].model.document.clear();\n",
       "            delete Bokeh.index[element_id];\n",
       "          }\n",
       "        }\n",
       "      });\n",
       "      // Destroy server and session\n",
       "      var cmd = \"import bokeh.io.notebook as ion; ion.destroy_server('\" + server_id + \"')\";\n",
       "      cell.notebook.kernel.execute(cmd);\n",
       "    }\n",
       "  }\n",
       "\n",
       "  /**\n",
       "   * Handle when a new output is added\n",
       "   */\n",
       "  function handleAddOutput(event, handle) {\n",
       "    var output_area = handle.output_area;\n",
       "    var output = handle.output;\n",
       "\n",
       "    // limit handleAddOutput to display_data with EXEC_MIME_TYPE content only\n",
       "    if ((output.output_type != \"display_data\") || (!output.data.hasOwnProperty(EXEC_MIME_TYPE))) {\n",
       "      return\n",
       "    }\n",
       "\n",
       "    var toinsert = output_area.element.find(\".\" + CLASS_NAME.split(' ')[0]);\n",
       "\n",
       "    if (output.metadata[EXEC_MIME_TYPE][\"id\"] !== undefined) {\n",
       "      toinsert[0].firstChild.textContent = output.data[JS_MIME_TYPE];\n",
       "      // store reference to embed id on output_area\n",
       "      output_area._bokeh_element_id = output.metadata[EXEC_MIME_TYPE][\"id\"];\n",
       "    }\n",
       "    if (output.metadata[EXEC_MIME_TYPE][\"server_id\"] !== undefined) {\n",
       "      var bk_div = document.createElement(\"div\");\n",
       "      bk_div.innerHTML = output.data[HTML_MIME_TYPE];\n",
       "      var script_attrs = bk_div.children[0].attributes;\n",
       "      for (var i = 0; i < script_attrs.length; i++) {\n",
       "        toinsert[0].firstChild.setAttribute(script_attrs[i].name, script_attrs[i].value);\n",
       "      }\n",
       "      // store reference to server id on output_area\n",
       "      output_area._bokeh_server_id = output.metadata[EXEC_MIME_TYPE][\"server_id\"];\n",
       "    }\n",
       "  }\n",
       "\n",
       "  function register_renderer(events, OutputArea) {\n",
       "\n",
       "    function append_mime(data, metadata, element) {\n",
       "      // create a DOM node to render to\n",
       "      var toinsert = this.create_output_subarea(\n",
       "        metadata,\n",
       "        CLASS_NAME,\n",
       "        EXEC_MIME_TYPE\n",
       "      );\n",
       "      this.keyboard_manager.register_events(toinsert);\n",
       "      // Render to node\n",
       "      var props = {data: data, metadata: metadata[EXEC_MIME_TYPE]};\n",
       "      render(props, toinsert[0]);\n",
       "      element.append(toinsert);\n",
       "      return toinsert\n",
       "    }\n",
       "\n",
       "    /* Handle when an output is cleared or removed */\n",
       "    events.on('clear_output.CodeCell', handleClearOutput);\n",
       "    events.on('delete.Cell', handleClearOutput);\n",
       "\n",
       "    /* Handle when a new output is added */\n",
       "    events.on('output_added.OutputArea', handleAddOutput);\n",
       "\n",
       "    /**\n",
       "     * Register the mime type and append_mime function with output_area\n",
       "     */\n",
       "    OutputArea.prototype.register_mime_type(EXEC_MIME_TYPE, append_mime, {\n",
       "      /* Is output safe? */\n",
       "      safe: true,\n",
       "      /* Index of renderer in `output_area.display_order` */\n",
       "      index: 0\n",
       "    });\n",
       "  }\n",
       "\n",
       "  // register the mime type if in Jupyter Notebook environment and previously unregistered\n",
       "  if (root.Jupyter !== undefined) {\n",
       "    var events = require('base/js/events');\n",
       "    var OutputArea = require('notebook/js/outputarea').OutputArea;\n",
       "\n",
       "    if (OutputArea.prototype.mime_types().indexOf(EXEC_MIME_TYPE) == -1) {\n",
       "      register_renderer(events, OutputArea);\n",
       "    }\n",
       "  }\n",
       "\n",
       "  \n",
       "  if (typeof (root._bokeh_timeout) === \"undefined\" || force === true) {\n",
       "    root._bokeh_timeout = Date.now() + 5000;\n",
       "    root._bokeh_failed_load = false;\n",
       "  }\n",
       "\n",
       "  var NB_LOAD_WARNING = {'data': {'text/html':\n",
       "     \"<div style='background-color: #fdd'>\\n\"+\n",
       "     \"<p>\\n\"+\n",
       "     \"BokehJS does not appear to have successfully loaded. If loading BokehJS from CDN, this \\n\"+\n",
       "     \"may be due to a slow or bad network connection. Possible fixes:\\n\"+\n",
       "     \"</p>\\n\"+\n",
       "     \"<ul>\\n\"+\n",
       "     \"<li>re-rerun `output_notebook()` to attempt to load from CDN again, or</li>\\n\"+\n",
       "     \"<li>use INLINE resources instead, as so:</li>\\n\"+\n",
       "     \"</ul>\\n\"+\n",
       "     \"<code>\\n\"+\n",
       "     \"from bokeh.resources import INLINE\\n\"+\n",
       "     \"output_notebook(resources=INLINE)\\n\"+\n",
       "     \"</code>\\n\"+\n",
       "     \"</div>\"}};\n",
       "\n",
       "  function display_loaded() {\n",
       "    var el = document.getElementById(\"6102089d-9a57-4f72-a8df-fd58a5cc0f48\");\n",
       "    if (el != null) {\n",
       "      el.textContent = \"BokehJS is loading...\";\n",
       "    }\n",
       "    if (root.Bokeh !== undefined) {\n",
       "      if (el != null) {\n",
       "        el.textContent = \"BokehJS \" + root.Bokeh.version + \" successfully loaded.\";\n",
       "      }\n",
       "    } else if (Date.now() < root._bokeh_timeout) {\n",
       "      setTimeout(display_loaded, 100)\n",
       "    }\n",
       "  }\n",
       "\n",
       "\n",
       "  function run_callbacks() {\n",
       "    try {\n",
       "      root._bokeh_onload_callbacks.forEach(function(callback) { callback() });\n",
       "    }\n",
       "    finally {\n",
       "      delete root._bokeh_onload_callbacks\n",
       "    }\n",
       "    console.info(\"Bokeh: all callbacks have finished\");\n",
       "  }\n",
       "\n",
       "  function load_libs(js_urls, callback) {\n",
       "    root._bokeh_onload_callbacks.push(callback);\n",
       "    if (root._bokeh_is_loading > 0) {\n",
       "      console.log(\"Bokeh: BokehJS is being loaded, scheduling callback at\", now());\n",
       "      return null;\n",
       "    }\n",
       "    if (js_urls == null || js_urls.length === 0) {\n",
       "      run_callbacks();\n",
       "      return null;\n",
       "    }\n",
       "    console.log(\"Bokeh: BokehJS not loaded, scheduling load and callback at\", now());\n",
       "    root._bokeh_is_loading = js_urls.length;\n",
       "    for (var i = 0; i < js_urls.length; i++) {\n",
       "      var url = js_urls[i];\n",
       "      var s = document.createElement('script');\n",
       "      s.src = url;\n",
       "      s.async = false;\n",
       "      s.onreadystatechange = s.onload = function() {\n",
       "        root._bokeh_is_loading--;\n",
       "        if (root._bokeh_is_loading === 0) {\n",
       "          console.log(\"Bokeh: all BokehJS libraries loaded\");\n",
       "          run_callbacks()\n",
       "        }\n",
       "      };\n",
       "      s.onerror = function() {\n",
       "        console.warn(\"failed to load library \" + url);\n",
       "      };\n",
       "      console.log(\"Bokeh: injecting script tag for BokehJS library: \", url);\n",
       "      document.getElementsByTagName(\"head\")[0].appendChild(s);\n",
       "    }\n",
       "  };var element = document.getElementById(\"6102089d-9a57-4f72-a8df-fd58a5cc0f48\");\n",
       "  if (element == null) {\n",
       "    console.log(\"Bokeh: ERROR: autoload.js configured with elementid '6102089d-9a57-4f72-a8df-fd58a5cc0f48' but no matching script tag was found. \")\n",
       "    return false;\n",
       "  }\n",
       "\n",
       "  var js_urls = [\"https://cdn.pydata.org/bokeh/release/bokeh-0.12.13.min.js\", \"https://cdn.pydata.org/bokeh/release/bokeh-widgets-0.12.13.min.js\", \"https://cdn.pydata.org/bokeh/release/bokeh-tables-0.12.13.min.js\", \"https://cdn.pydata.org/bokeh/release/bokeh-gl-0.12.13.min.js\"];\n",
       "\n",
       "  var inline_js = [\n",
       "    function(Bokeh) {\n",
       "      Bokeh.set_log_level(\"info\");\n",
       "    },\n",
       "    \n",
       "    function(Bokeh) {\n",
       "      \n",
       "    },\n",
       "    function(Bokeh) {\n",
       "      console.log(\"Bokeh: injecting CSS: https://cdn.pydata.org/bokeh/release/bokeh-0.12.13.min.css\");\n",
       "      Bokeh.embed.inject_css(\"https://cdn.pydata.org/bokeh/release/bokeh-0.12.13.min.css\");\n",
       "      console.log(\"Bokeh: injecting CSS: https://cdn.pydata.org/bokeh/release/bokeh-widgets-0.12.13.min.css\");\n",
       "      Bokeh.embed.inject_css(\"https://cdn.pydata.org/bokeh/release/bokeh-widgets-0.12.13.min.css\");\n",
       "      console.log(\"Bokeh: injecting CSS: https://cdn.pydata.org/bokeh/release/bokeh-tables-0.12.13.min.css\");\n",
       "      Bokeh.embed.inject_css(\"https://cdn.pydata.org/bokeh/release/bokeh-tables-0.12.13.min.css\");\n",
       "    }\n",
       "  ];\n",
       "\n",
       "  function run_inline_js() {\n",
       "    \n",
       "    if ((root.Bokeh !== undefined) || (force === true)) {\n",
       "      for (var i = 0; i < inline_js.length; i++) {\n",
       "        inline_js[i].call(root, root.Bokeh);\n",
       "      }if (force === true) {\n",
       "        display_loaded();\n",
       "      }} else if (Date.now() < root._bokeh_timeout) {\n",
       "      setTimeout(run_inline_js, 100);\n",
       "    } else if (!root._bokeh_failed_load) {\n",
       "      console.log(\"Bokeh: BokehJS failed to load within specified timeout.\");\n",
       "      root._bokeh_failed_load = true;\n",
       "    } else if (force !== true) {\n",
       "      var cell = $(document.getElementById(\"6102089d-9a57-4f72-a8df-fd58a5cc0f48\")).parents('.cell').data().cell;\n",
       "      cell.output_area.append_execute_result(NB_LOAD_WARNING)\n",
       "    }\n",
       "\n",
       "  }\n",
       "\n",
       "  if (root._bokeh_is_loading === 0) {\n",
       "    console.log(\"Bokeh: BokehJS loaded, going straight to plotting\");\n",
       "    run_inline_js();\n",
       "  } else {\n",
       "    load_libs(js_urls, function() {\n",
       "      console.log(\"Bokeh: BokehJS plotting callback run at\", now());\n",
       "      run_inline_js();\n",
       "    });\n",
       "  }\n",
       "}(window));"
      ],
      "application/vnd.bokehjs_load.v0+json": "\n(function(root) {\n  function now() {\n    return new Date();\n  }\n\n  var force = true;\n\n  if (typeof (root._bokeh_onload_callbacks) === \"undefined\" || force === true) {\n    root._bokeh_onload_callbacks = [];\n    root._bokeh_is_loading = undefined;\n  }\n\n  \n\n  \n  if (typeof (root._bokeh_timeout) === \"undefined\" || force === true) {\n    root._bokeh_timeout = Date.now() + 5000;\n    root._bokeh_failed_load = false;\n  }\n\n  var NB_LOAD_WARNING = {'data': {'text/html':\n     \"<div style='background-color: #fdd'>\\n\"+\n     \"<p>\\n\"+\n     \"BokehJS does not appear to have successfully loaded. If loading BokehJS from CDN, this \\n\"+\n     \"may be due to a slow or bad network connection. Possible fixes:\\n\"+\n     \"</p>\\n\"+\n     \"<ul>\\n\"+\n     \"<li>re-rerun `output_notebook()` to attempt to load from CDN again, or</li>\\n\"+\n     \"<li>use INLINE resources instead, as so:</li>\\n\"+\n     \"</ul>\\n\"+\n     \"<code>\\n\"+\n     \"from bokeh.resources import INLINE\\n\"+\n     \"output_notebook(resources=INLINE)\\n\"+\n     \"</code>\\n\"+\n     \"</div>\"}};\n\n  function display_loaded() {\n    var el = document.getElementById(\"6102089d-9a57-4f72-a8df-fd58a5cc0f48\");\n    if (el != null) {\n      el.textContent = \"BokehJS is loading...\";\n    }\n    if (root.Bokeh !== undefined) {\n      if (el != null) {\n        el.textContent = \"BokehJS \" + root.Bokeh.version + \" successfully loaded.\";\n      }\n    } else if (Date.now() < root._bokeh_timeout) {\n      setTimeout(display_loaded, 100)\n    }\n  }\n\n\n  function run_callbacks() {\n    try {\n      root._bokeh_onload_callbacks.forEach(function(callback) { callback() });\n    }\n    finally {\n      delete root._bokeh_onload_callbacks\n    }\n    console.info(\"Bokeh: all callbacks have finished\");\n  }\n\n  function load_libs(js_urls, callback) {\n    root._bokeh_onload_callbacks.push(callback);\n    if (root._bokeh_is_loading > 0) {\n      console.log(\"Bokeh: BokehJS is being loaded, scheduling callback at\", now());\n      return null;\n    }\n    if (js_urls == null || js_urls.length === 0) {\n      run_callbacks();\n      return null;\n    }\n    console.log(\"Bokeh: BokehJS not loaded, scheduling load and callback at\", now());\n    root._bokeh_is_loading = js_urls.length;\n    for (var i = 0; i < js_urls.length; i++) {\n      var url = js_urls[i];\n      var s = document.createElement('script');\n      s.src = url;\n      s.async = false;\n      s.onreadystatechange = s.onload = function() {\n        root._bokeh_is_loading--;\n        if (root._bokeh_is_loading === 0) {\n          console.log(\"Bokeh: all BokehJS libraries loaded\");\n          run_callbacks()\n        }\n      };\n      s.onerror = function() {\n        console.warn(\"failed to load library \" + url);\n      };\n      console.log(\"Bokeh: injecting script tag for BokehJS library: \", url);\n      document.getElementsByTagName(\"head\")[0].appendChild(s);\n    }\n  };var element = document.getElementById(\"6102089d-9a57-4f72-a8df-fd58a5cc0f48\");\n  if (element == null) {\n    console.log(\"Bokeh: ERROR: autoload.js configured with elementid '6102089d-9a57-4f72-a8df-fd58a5cc0f48' but no matching script tag was found. \")\n    return false;\n  }\n\n  var js_urls = [\"https://cdn.pydata.org/bokeh/release/bokeh-0.12.13.min.js\", \"https://cdn.pydata.org/bokeh/release/bokeh-widgets-0.12.13.min.js\", \"https://cdn.pydata.org/bokeh/release/bokeh-tables-0.12.13.min.js\", \"https://cdn.pydata.org/bokeh/release/bokeh-gl-0.12.13.min.js\"];\n\n  var inline_js = [\n    function(Bokeh) {\n      Bokeh.set_log_level(\"info\");\n    },\n    \n    function(Bokeh) {\n      \n    },\n    function(Bokeh) {\n      console.log(\"Bokeh: injecting CSS: https://cdn.pydata.org/bokeh/release/bokeh-0.12.13.min.css\");\n      Bokeh.embed.inject_css(\"https://cdn.pydata.org/bokeh/release/bokeh-0.12.13.min.css\");\n      console.log(\"Bokeh: injecting CSS: https://cdn.pydata.org/bokeh/release/bokeh-widgets-0.12.13.min.css\");\n      Bokeh.embed.inject_css(\"https://cdn.pydata.org/bokeh/release/bokeh-widgets-0.12.13.min.css\");\n      console.log(\"Bokeh: injecting CSS: https://cdn.pydata.org/bokeh/release/bokeh-tables-0.12.13.min.css\");\n      Bokeh.embed.inject_css(\"https://cdn.pydata.org/bokeh/release/bokeh-tables-0.12.13.min.css\");\n    }\n  ];\n\n  function run_inline_js() {\n    \n    if ((root.Bokeh !== undefined) || (force === true)) {\n      for (var i = 0; i < inline_js.length; i++) {\n        inline_js[i].call(root, root.Bokeh);\n      }if (force === true) {\n        display_loaded();\n      }} else if (Date.now() < root._bokeh_timeout) {\n      setTimeout(run_inline_js, 100);\n    } else if (!root._bokeh_failed_load) {\n      console.log(\"Bokeh: BokehJS failed to load within specified timeout.\");\n      root._bokeh_failed_load = true;\n    } else if (force !== true) {\n      var cell = $(document.getElementById(\"6102089d-9a57-4f72-a8df-fd58a5cc0f48\")).parents('.cell').data().cell;\n      cell.output_area.append_execute_result(NB_LOAD_WARNING)\n    }\n\n  }\n\n  if (root._bokeh_is_loading === 0) {\n    console.log(\"Bokeh: BokehJS loaded, going straight to plotting\");\n    run_inline_js();\n  } else {\n    load_libs(js_urls, function() {\n      console.log(\"Bokeh: BokehJS plotting callback run at\", now());\n      run_inline_js();\n    });\n  }\n}(window));"
     },
     "metadata": {},
     "output_type": "display_data"
    }
   ],
   "source": [
    "import numpy as np \n",
    "from ipywidgets import interact, interactive, fixed, interact_manual\n",
    "import ipywidgets as widgets\n",
    " \n",
    "from plotly.offline import download_plotlyjs, init_notebook_mode, plot, iplot\n",
    "from plotly import graph_objs as go\n",
    "init_notebook_mode(connected=True)\n",
    "import numpy as np\n",
    "\n",
    "import random\n",
    "import pandas as pd\n",
    "from IPython.display import display, Math\n",
    "\n",
    "from bokeh.io import show, output_notebook\n",
    "from bokeh.plotting import figure, show\n",
    "from scipy.stats import norm \n",
    "from bokeh import plotting as pl\n",
    "from bokeh.models import HoverTool, Arrow, OpenHead, NormalHead, VeeHead, Label\n",
    "from bokeh.models.glyphs import Text\n",
    "import statsmodels.api as sm\n",
    "from scipy.stats import chi2_contingency\n",
    "from scipy import stats\n",
    "from statsmodels.formula.api import ols\n",
    "import statsmodels.api as sm\n",
    "output_notebook()\n",
    "import matplotlib.pyplot as plt\n",
    "from sklearn import datasets, linear_model\n"
   ]
  },
  {
   "cell_type": "markdown",
   "metadata": {},
   "source": [
    "In this notebook we are going to look at the various metrics that we can use for evaluating our regression machine learning modules. This a crucial topic since in most scenarios when you talk about the success of your model, you will be presenting these metrics as a quantitative measure of that success. \n",
    "\n",
    "We shall be talking about the following regression metrics- \n",
    "\n",
    "1)  Mean square error (MSE) <br>\n",
    "2)  Root mean square error (RMSE)<br>\n",
    "3)  Mean absolute error (MAE)<br>\n",
    "4)  R-squared error ($\\text{R}^2$)<br>\n",
    "\n",
    "To do all this first we are going to define a regression problem.Then we are going to fit a linear regression model to it, get predicted values from it and then use our metrics to see how well it works. So lets being by first defining our regression problem \n",
    "\n",
    "Suppose you work in the construction industry, you are tasked with finding a appropriate length beam to hold a large amount of weight. You ran a few experiments with various lengths of steel beam and they broken at certain weights. You recorded those and plotted them. The plot below represents the data that you collected.*\n",
    "\n",
    "*Note this is artificial data, it was generated for purposes of demonstration. \n"
   ]
  },
  {
   "cell_type": "code",
   "execution_count": 2,
   "metadata": {
    "ExecuteTime": {
     "end_time": "2019-02-20T00:10:39.181588Z",
     "start_time": "2019-02-20T00:10:39.172607Z"
    }
   },
   "outputs": [],
   "source": [
    "weight = np.array([ 90.3, 113.8, 149.7, 167.1,\n",
    "       164.6, 184.7, 152.8, 218.0,\n",
    "       165.6, 225.7])\n",
    "length_beam= np.array([50, 55, 60, 65, 70, 75, 80, 85, 90, 95])\n"
   ]
  },
  {
   "cell_type": "markdown",
   "metadata": {},
   "source": [
    "\n",
    "We are going to calculate each value \"by hand\" and by sci-kit learn as well.  Additional we are going to move our data points around to"
   ]
  },
  {
   "cell_type": "code",
   "execution_count": 3,
   "metadata": {
    "ExecuteTime": {
     "end_time": "2019-02-20T00:10:39.394023Z",
     "start_time": "2019-02-20T00:10:39.184576Z"
    }
   },
   "outputs": [
    {
     "data": {
      "text/html": [
       "\n",
       "<div class=\"bk-root\">\n",
       "    <div class=\"bk-plotdiv\" id=\"899a8164-a346-47ac-90e9-167f8c86d665\"></div>\n",
       "</div>"
      ]
     },
     "metadata": {},
     "output_type": "display_data"
    },
    {
     "data": {
      "application/javascript": [
       "(function(root) {\n",
       "  function embed_document(root) {\n",
       "    \n",
       "  var docs_json = {\"346a6e5b-c715-49d9-9966-d7ab5c3b61f0\":{\"roots\":{\"references\":[{\"attributes\":{\"axis_label\":\"Max Weight (kg)\",\"formatter\":{\"id\":\"6df37e5b-5a00-4da8-bbf9-fc6d10824699\",\"type\":\"BasicTickFormatter\"},\"plot\":{\"id\":\"29143019-f819-4cbf-935f-8e6ea2e85c68\",\"subtype\":\"Figure\",\"type\":\"Plot\"},\"ticker\":{\"id\":\"4ce58415-b321-4f65-8ecf-eafbfd0c74e8\",\"type\":\"BasicTicker\"}},\"id\":\"f63d5b23-2925-4154-aa25-2176f821b5b7\",\"type\":\"LinearAxis\"},{\"attributes\":{\"fill_alpha\":{\"value\":0.1},\"fill_color\":{\"value\":\"#1f77b4\"},\"line_alpha\":{\"value\":0.1},\"line_color\":{\"value\":\"#1f77b4\"},\"size\":{\"units\":\"screen\",\"value\":10},\"x\":{\"field\":\"x\"},\"y\":{\"field\":\"y\"}},\"id\":\"09e8bc54-ad20-4df3-a6e8-ea1ec82177fe\",\"type\":\"Circle\"},{\"attributes\":{\"data_source\":{\"id\":\"2c32e54e-5a28-40d0-98a9-3bf6b02df077\",\"type\":\"ColumnDataSource\"},\"glyph\":{\"id\":\"6c4970d8-01fc-4c0d-9343-172859cf3b6d\",\"type\":\"Circle\"},\"hover_glyph\":null,\"muted_glyph\":null,\"nonselection_glyph\":{\"id\":\"09e8bc54-ad20-4df3-a6e8-ea1ec82177fe\",\"type\":\"Circle\"},\"selection_glyph\":null,\"view\":{\"id\":\"bfb44618-823c-4cca-95e0-27a172cdf419\",\"type\":\"CDSView\"}},\"id\":\"e27fdc66-4bea-46c9-a6c8-4264f684cb9f\",\"type\":\"GlyphRenderer\"},{\"attributes\":{\"source\":{\"id\":\"2c32e54e-5a28-40d0-98a9-3bf6b02df077\",\"type\":\"ColumnDataSource\"}},\"id\":\"bfb44618-823c-4cca-95e0-27a172cdf419\",\"type\":\"CDSView\"},{\"attributes\":{},\"id\":\"4ce58415-b321-4f65-8ecf-eafbfd0c74e8\",\"type\":\"BasicTicker\"},{\"attributes\":{\"bottom_units\":\"screen\",\"fill_alpha\":{\"value\":0.5},\"fill_color\":{\"value\":\"lightgrey\"},\"left_units\":\"screen\",\"level\":\"overlay\",\"line_alpha\":{\"value\":1.0},\"line_color\":{\"value\":\"black\"},\"line_dash\":[4,4],\"line_width\":{\"value\":2},\"plot\":null,\"render_mode\":\"css\",\"right_units\":\"screen\",\"top_units\":\"screen\"},\"id\":\"049b79ba-9b64-42d7-9c26-0c9c1e26aea8\",\"type\":\"BoxAnnotation\"},{\"attributes\":{\"overlay\":{\"id\":\"049b79ba-9b64-42d7-9c26-0c9c1e26aea8\",\"type\":\"BoxAnnotation\"}},\"id\":\"38472363-c0ae-4259-87f9-a4e474d11fa3\",\"type\":\"BoxZoomTool\"},{\"attributes\":{\"callback\":null},\"id\":\"48d92edc-8f3b-4cb5-90a5-bb012e378025\",\"type\":\"DataRange1d\"},{\"attributes\":{},\"id\":\"6df37e5b-5a00-4da8-bbf9-fc6d10824699\",\"type\":\"BasicTickFormatter\"},{\"attributes\":{},\"id\":\"99c9cead-473a-4600-bbf9-2cce22b14e47\",\"type\":\"PanTool\"},{\"attributes\":{\"callback\":null},\"id\":\"d493a53f-aae1-4ce0-b3c9-4d9fc101f2d5\",\"type\":\"DataRange1d\"},{\"attributes\":{\"fill_color\":{\"value\":\"#1f77b4\"},\"line_color\":{\"value\":\"#1f77b4\"},\"size\":{\"units\":\"screen\",\"value\":10},\"x\":{\"field\":\"x\"},\"y\":{\"field\":\"y\"}},\"id\":\"6c4970d8-01fc-4c0d-9343-172859cf3b6d\",\"type\":\"Circle\"},{\"attributes\":{},\"id\":\"d0a9154f-2e38-434a-b5a2-de95c75c50b3\",\"type\":\"SaveTool\"},{\"attributes\":{},\"id\":\"b40d71af-3539-4c0a-9f7c-a9bfb436c967\",\"type\":\"BasicTickFormatter\"},{\"attributes\":{},\"id\":\"6ca86b27-a6aa-4885-8b5d-a9f8c3494fcc\",\"type\":\"LinearScale\"},{\"attributes\":{},\"id\":\"4d3d470e-e95f-4563-8660-024f230e3a21\",\"type\":\"LinearScale\"},{\"attributes\":{\"plot\":null,\"text\":\"\"},\"id\":\"70399f16-47d1-490e-9bc0-1cba32c27f9a\",\"type\":\"Title\"},{\"attributes\":{\"active_drag\":\"auto\",\"active_inspect\":\"auto\",\"active_scroll\":\"auto\",\"active_tap\":\"auto\",\"tools\":[{\"id\":\"38472363-c0ae-4259-87f9-a4e474d11fa3\",\"type\":\"BoxZoomTool\"},{\"id\":\"99c9cead-473a-4600-bbf9-2cce22b14e47\",\"type\":\"PanTool\"},{\"id\":\"d0a9154f-2e38-434a-b5a2-de95c75c50b3\",\"type\":\"SaveTool\"},{\"id\":\"de6043de-48cd-4e2f-9ced-25f031a69fc4\",\"type\":\"HoverTool\"},{\"id\":\"24b0cc4c-f65a-4fb6-b761-74258fc614e1\",\"type\":\"ResetTool\"},{\"id\":\"18d93187-88d0-48cf-b761-23a86df87b9c\",\"type\":\"TapTool\"},{\"id\":\"b617653c-0c63-4459-a88e-139cd4e00504\",\"type\":\"WheelZoomTool\"}]},\"id\":\"165f8a2b-03da-499f-aedc-b4f7502d8a3f\",\"type\":\"Toolbar\"},{\"attributes\":{\"dimension\":1,\"plot\":{\"id\":\"29143019-f819-4cbf-935f-8e6ea2e85c68\",\"subtype\":\"Figure\",\"type\":\"Plot\"},\"ticker\":{\"id\":\"4ce58415-b321-4f65-8ecf-eafbfd0c74e8\",\"type\":\"BasicTicker\"}},\"id\":\"e0634344-1de3-48c7-86e2-96183ad5db92\",\"type\":\"Grid\"},{\"attributes\":{\"callback\":null,\"tooltips\":[[\"xvalue\",\"@x\"],[\"yvalue\",\"@y\"]]},\"id\":\"de6043de-48cd-4e2f-9ced-25f031a69fc4\",\"type\":\"HoverTool\"},{\"attributes\":{\"axis_label\":\"Length of beam (cm)\",\"formatter\":{\"id\":\"b40d71af-3539-4c0a-9f7c-a9bfb436c967\",\"type\":\"BasicTickFormatter\"},\"plot\":{\"id\":\"29143019-f819-4cbf-935f-8e6ea2e85c68\",\"subtype\":\"Figure\",\"type\":\"Plot\"},\"ticker\":{\"id\":\"4804590f-13cd-4cff-91c4-afe7234c1a1d\",\"type\":\"BasicTicker\"}},\"id\":\"9926104b-0e30-486b-a6af-e41e17096bf6\",\"type\":\"LinearAxis\"},{\"attributes\":{},\"id\":\"24b0cc4c-f65a-4fb6-b761-74258fc614e1\",\"type\":\"ResetTool\"},{\"attributes\":{},\"id\":\"4804590f-13cd-4cff-91c4-afe7234c1a1d\",\"type\":\"BasicTicker\"},{\"attributes\":{\"callback\":null,\"column_names\":[\"x\",\"y\"],\"data\":{\"x\":{\"__ndarray__\":\"MgAAADcAAAA8AAAAQQAAAEYAAABLAAAAUAAAAFUAAABaAAAAXwAAAA==\",\"dtype\":\"int32\",\"shape\":[10]},\"y\":{\"__ndarray__\":\"MzMzMzOTVkAzMzMzM3NcQGZmZmZmtmJAMzMzMzPjZEAzMzMzM5NkQGZmZmZmFmdAmpmZmZkZY0AAAAAAAEBrQDMzMzMzs2RAZmZmZmY2bEA=\",\"dtype\":\"float64\",\"shape\":[10]}}},\"id\":\"2c32e54e-5a28-40d0-98a9-3bf6b02df077\",\"type\":\"ColumnDataSource\"},{\"attributes\":{\"callback\":null},\"id\":\"18d93187-88d0-48cf-b761-23a86df87b9c\",\"type\":\"TapTool\"},{\"attributes\":{\"plot\":{\"id\":\"29143019-f819-4cbf-935f-8e6ea2e85c68\",\"subtype\":\"Figure\",\"type\":\"Plot\"},\"ticker\":{\"id\":\"4804590f-13cd-4cff-91c4-afe7234c1a1d\",\"type\":\"BasicTicker\"}},\"id\":\"bfa01d5b-fe98-48dc-bf02-5d4c3709ea7c\",\"type\":\"Grid\"},{\"attributes\":{},\"id\":\"b617653c-0c63-4459-a88e-139cd4e00504\",\"type\":\"WheelZoomTool\"},{\"attributes\":{\"below\":[{\"id\":\"9926104b-0e30-486b-a6af-e41e17096bf6\",\"type\":\"LinearAxis\"}],\"left\":[{\"id\":\"f63d5b23-2925-4154-aa25-2176f821b5b7\",\"type\":\"LinearAxis\"}],\"plot_height\":400,\"plot_width\":400,\"renderers\":[{\"id\":\"9926104b-0e30-486b-a6af-e41e17096bf6\",\"type\":\"LinearAxis\"},{\"id\":\"bfa01d5b-fe98-48dc-bf02-5d4c3709ea7c\",\"type\":\"Grid\"},{\"id\":\"f63d5b23-2925-4154-aa25-2176f821b5b7\",\"type\":\"LinearAxis\"},{\"id\":\"e0634344-1de3-48c7-86e2-96183ad5db92\",\"type\":\"Grid\"},{\"id\":\"049b79ba-9b64-42d7-9c26-0c9c1e26aea8\",\"type\":\"BoxAnnotation\"},{\"id\":\"e27fdc66-4bea-46c9-a6c8-4264f684cb9f\",\"type\":\"GlyphRenderer\"}],\"title\":{\"id\":\"70399f16-47d1-490e-9bc0-1cba32c27f9a\",\"type\":\"Title\"},\"toolbar\":{\"id\":\"165f8a2b-03da-499f-aedc-b4f7502d8a3f\",\"type\":\"Toolbar\"},\"x_range\":{\"id\":\"48d92edc-8f3b-4cb5-90a5-bb012e378025\",\"type\":\"DataRange1d\"},\"x_scale\":{\"id\":\"6ca86b27-a6aa-4885-8b5d-a9f8c3494fcc\",\"type\":\"LinearScale\"},\"y_range\":{\"id\":\"d493a53f-aae1-4ce0-b3c9-4d9fc101f2d5\",\"type\":\"DataRange1d\"},\"y_scale\":{\"id\":\"4d3d470e-e95f-4563-8660-024f230e3a21\",\"type\":\"LinearScale\"}},\"id\":\"29143019-f819-4cbf-935f-8e6ea2e85c68\",\"subtype\":\"Figure\",\"type\":\"Plot\"}],\"root_ids\":[\"29143019-f819-4cbf-935f-8e6ea2e85c68\"]},\"title\":\"Bokeh Application\",\"version\":\"0.12.13\"}};\n",
       "  var render_items = [{\"docid\":\"346a6e5b-c715-49d9-9966-d7ab5c3b61f0\",\"elementid\":\"899a8164-a346-47ac-90e9-167f8c86d665\",\"modelid\":\"29143019-f819-4cbf-935f-8e6ea2e85c68\"}];\n",
       "  root.Bokeh.embed.embed_items_notebook(docs_json, render_items);\n",
       "\n",
       "  }\n",
       "  if (root.Bokeh !== undefined) {\n",
       "    embed_document(root);\n",
       "  } else {\n",
       "    var attempts = 0;\n",
       "    var timer = setInterval(function(root) {\n",
       "      if (root.Bokeh !== undefined) {\n",
       "        embed_document(root);\n",
       "        clearInterval(timer);\n",
       "      }\n",
       "      attempts++;\n",
       "      if (attempts > 100) {\n",
       "        console.log(\"Bokeh: ERROR: Unable to run BokehJS code because BokehJS library is missing\")\n",
       "        clearInterval(timer);\n",
       "      }\n",
       "    }, 10, root)\n",
       "  }\n",
       "})(window);"
      ],
      "application/vnd.bokehjs_exec.v0+json": ""
     },
     "metadata": {
      "application/vnd.bokehjs_exec.v0+json": {
       "id": "29143019-f819-4cbf-935f-8e6ea2e85c68"
      }
     },
     "output_type": "display_data"
    }
   ],
   "source": [
    "tools_to_show= 'box_zoom,pan,save,hover,reset,tap,wheel_zoom'        \n",
    "\n",
    "fig = pl.figure(plot_width=400, plot_height=400, tools = tools_to_show)\n",
    "fig.circle(length_beam, weight, size =10)\n",
    "hover = fig.select(dict(type=HoverTool))\n",
    "hover.tooltips = [(\"xvalue\", \"@x\"), (\"yvalue\", \"@y\")]\n",
    "fig.xaxis.axis_label = \"Length of beam (cm)\"\n",
    "fig.yaxis.axis_label = \"Max Weight (kg)\"\n",
    "show(fig)"
   ]
  },
  {
   "cell_type": "code",
   "execution_count": 4,
   "metadata": {
    "ExecuteTime": {
     "end_time": "2019-02-20T00:10:39.608453Z",
     "start_time": "2019-02-20T00:10:39.398189Z"
    }
   },
   "outputs": [
    {
     "data": {
      "text/html": [
       "\n",
       "<div class=\"bk-root\">\n",
       "    <div class=\"bk-plotdiv\" id=\"962f79f6-9bff-4785-85b7-0bcabeb67c8f\"></div>\n",
       "</div>"
      ]
     },
     "metadata": {},
     "output_type": "display_data"
    },
    {
     "data": {
      "application/javascript": [
       "(function(root) {\n",
       "  function embed_document(root) {\n",
       "    \n",
       "  var docs_json = {\"21f38104-35b6-40c2-ad30-4edf381bed09\":{\"roots\":{\"references\":[{\"attributes\":{\"line_alpha\":0.1,\"line_color\":\"#1f77b4\",\"line_width\":4,\"x\":{\"field\":\"x\"},\"y\":{\"field\":\"y\"}},\"id\":\"6713f80a-a80c-44ac-a3a1-5e360fd79329\",\"type\":\"Line\"},{\"attributes\":{\"callback\":null},\"id\":\"61ece90a-3e97-45da-a969-bb3f6f903598\",\"type\":\"DataRange1d\"},{\"attributes\":{\"data_source\":{\"id\":\"01a9e876-1dee-4b17-9216-182cd4a6e445\",\"type\":\"ColumnDataSource\"},\"glyph\":{\"id\":\"733bfc95-5c0f-467a-be00-3e6abc8b9b8a\",\"type\":\"Line\"},\"hover_glyph\":null,\"muted_glyph\":null,\"nonselection_glyph\":{\"id\":\"6713f80a-a80c-44ac-a3a1-5e360fd79329\",\"type\":\"Line\"},\"selection_glyph\":null,\"view\":{\"id\":\"d32b484d-b213-4981-9561-a5076b34ed35\",\"type\":\"CDSView\"}},\"id\":\"6c9fb62f-e4f5-4750-9c70-3b232a4050af\",\"type\":\"GlyphRenderer\"},{\"attributes\":{\"callback\":null,\"column_names\":[\"x\",\"y\"],\"data\":{\"x\":{\"__ndarray__\":\"MgAAADcAAAA8AAAAQQAAAEYAAABLAAAAUAAAAFUAAABaAAAAXwAAAA==\",\"dtype\":\"int32\",\"shape\":[10]},\"y\":{\"__ndarray__\":\"MzMzMzOTVkAzMzMzM3NcQGZmZmZmtmJAMzMzMzPjZEAzMzMzM5NkQGZmZmZmFmdAmpmZmZkZY0AAAAAAAEBrQDMzMzMzs2RAZmZmZmY2bEA=\",\"dtype\":\"float64\",\"shape\":[10]}}},\"id\":\"762ca5e2-81d8-47c6-a970-d7506b44c885\",\"type\":\"ColumnDataSource\"},{\"attributes\":{\"active_drag\":\"auto\",\"active_inspect\":\"auto\",\"active_scroll\":\"auto\",\"active_tap\":\"auto\",\"tools\":[{\"id\":\"1e97ac58-6058-48c7-bbe2-b457c5d75913\",\"type\":\"BoxZoomTool\"},{\"id\":\"d9f5adc2-1be7-409a-997f-b4f24c359609\",\"type\":\"PanTool\"},{\"id\":\"e706af14-8323-46ae-9a43-20088414d4ea\",\"type\":\"SaveTool\"},{\"id\":\"a0491ce2-9a1d-41b6-812f-2b1696457a81\",\"type\":\"HoverTool\"},{\"id\":\"ca3165fe-07dd-4cd2-ad54-bf85f0454f8f\",\"type\":\"ResetTool\"},{\"id\":\"5fc8e5a4-6754-4c1d-8029-d5056f00af28\",\"type\":\"TapTool\"},{\"id\":\"58fd7b75-6fb7-4dc6-8718-93e66a33295b\",\"type\":\"WheelZoomTool\"}]},\"id\":\"c8870782-5d39-4c40-b045-d223fb1f1906\",\"type\":\"Toolbar\"},{\"attributes\":{},\"id\":\"afb71d72-bc87-4e0f-9b8e-343c87cc8930\",\"type\":\"BasicTickFormatter\"},{\"attributes\":{\"below\":[{\"id\":\"2d6418b5-5e39-409e-afd8-82baac1f4a3a\",\"type\":\"LinearAxis\"}],\"left\":[{\"id\":\"9a22b427-0e38-458b-a4e7-020231becaa0\",\"type\":\"LinearAxis\"}],\"plot_height\":400,\"plot_width\":400,\"renderers\":[{\"id\":\"2d6418b5-5e39-409e-afd8-82baac1f4a3a\",\"type\":\"LinearAxis\"},{\"id\":\"d2532cf8-a2a2-4073-87ae-46f9c9b12a8c\",\"type\":\"Grid\"},{\"id\":\"9a22b427-0e38-458b-a4e7-020231becaa0\",\"type\":\"LinearAxis\"},{\"id\":\"2387bfcd-014e-4d53-8f4f-875e330ec56a\",\"type\":\"Grid\"},{\"id\":\"34c4adad-ff78-4bcb-8f74-229b2f984ace\",\"type\":\"BoxAnnotation\"},{\"id\":\"47dbd610-8574-4524-991e-a15637b00f3e\",\"type\":\"GlyphRenderer\"},{\"id\":\"6c9fb62f-e4f5-4750-9c70-3b232a4050af\",\"type\":\"GlyphRenderer\"}],\"title\":{\"id\":\"4a4a8871-86c0-4374-b5ac-631add446ac6\",\"type\":\"Title\"},\"toolbar\":{\"id\":\"c8870782-5d39-4c40-b045-d223fb1f1906\",\"type\":\"Toolbar\"},\"x_range\":{\"id\":\"61ece90a-3e97-45da-a969-bb3f6f903598\",\"type\":\"DataRange1d\"},\"x_scale\":{\"id\":\"766ac089-4a9b-4c60-88d1-b1e5d71de139\",\"type\":\"LinearScale\"},\"y_range\":{\"id\":\"843bc313-d737-494b-b01c-bbb435d99380\",\"type\":\"DataRange1d\"},\"y_scale\":{\"id\":\"fb62bca6-9ed4-42dd-80ca-df8fe5e045ae\",\"type\":\"LinearScale\"}},\"id\":\"52acf003-7b11-459e-9c9b-d06990dc4a5d\",\"subtype\":\"Figure\",\"type\":\"Plot\"},{\"attributes\":{\"data_source\":{\"id\":\"762ca5e2-81d8-47c6-a970-d7506b44c885\",\"type\":\"ColumnDataSource\"},\"glyph\":{\"id\":\"dba66e2e-d8be-46c4-a81c-91ba00d02f2c\",\"type\":\"Circle\"},\"hover_glyph\":null,\"muted_glyph\":null,\"nonselection_glyph\":{\"id\":\"43a6c84d-8c73-4fad-903f-cba3c6e74764\",\"type\":\"Circle\"},\"selection_glyph\":null,\"view\":{\"id\":\"b683fda5-f777-40c1-ba69-501be9b98c1a\",\"type\":\"CDSView\"}},\"id\":\"47dbd610-8574-4524-991e-a15637b00f3e\",\"type\":\"GlyphRenderer\"},{\"attributes\":{},\"id\":\"fb62bca6-9ed4-42dd-80ca-df8fe5e045ae\",\"type\":\"LinearScale\"},{\"attributes\":{},\"id\":\"766ac089-4a9b-4c60-88d1-b1e5d71de139\",\"type\":\"LinearScale\"},{\"attributes\":{\"source\":{\"id\":\"01a9e876-1dee-4b17-9216-182cd4a6e445\",\"type\":\"ColumnDataSource\"}},\"id\":\"d32b484d-b213-4981-9561-a5076b34ed35\",\"type\":\"CDSView\"},{\"attributes\":{\"callback\":null},\"id\":\"843bc313-d737-494b-b01c-bbb435d99380\",\"type\":\"DataRange1d\"},{\"attributes\":{},\"id\":\"e706af14-8323-46ae-9a43-20088414d4ea\",\"type\":\"SaveTool\"},{\"attributes\":{},\"id\":\"5d280492-038e-4cfc-8a44-c518f893ad2e\",\"type\":\"BasicTickFormatter\"},{\"attributes\":{\"overlay\":{\"id\":\"34c4adad-ff78-4bcb-8f74-229b2f984ace\",\"type\":\"BoxAnnotation\"}},\"id\":\"1e97ac58-6058-48c7-bbe2-b457c5d75913\",\"type\":\"BoxZoomTool\"},{\"attributes\":{},\"id\":\"ca3165fe-07dd-4cd2-ad54-bf85f0454f8f\",\"type\":\"ResetTool\"},{\"attributes\":{\"bottom_units\":\"screen\",\"fill_alpha\":{\"value\":0.5},\"fill_color\":{\"value\":\"lightgrey\"},\"left_units\":\"screen\",\"level\":\"overlay\",\"line_alpha\":{\"value\":1.0},\"line_color\":{\"value\":\"black\"},\"line_dash\":[4,4],\"line_width\":{\"value\":2},\"plot\":null,\"render_mode\":\"css\",\"right_units\":\"screen\",\"top_units\":\"screen\"},\"id\":\"34c4adad-ff78-4bcb-8f74-229b2f984ace\",\"type\":\"BoxAnnotation\"},{\"attributes\":{\"callback\":null,\"column_names\":[\"x\",\"y\"],\"data\":{\"x\":{\"__ndarray__\":\"MgAAADcAAAA8AAAAQQAAAEYAAABLAAAAUAAAAFUAAABaAAAAXwAAAA==\",\"dtype\":\"int32\",\"shape\":[10]},\"y\":{\"__ndarray__\":\"mn6o6YfaW0CbY7c5drteQE4k40QyzmBAzpbqbKk+YkBPCfKUIK9jQM97+byXH2VAUO4A5Q6QZkDQYAgNhgBoQFHTDzX9cGlA0UUXXXThakA=\",\"dtype\":\"float64\",\"shape\":[10]}}},\"id\":\"01a9e876-1dee-4b17-9216-182cd4a6e445\",\"type\":\"ColumnDataSource\"},{\"attributes\":{\"callback\":null,\"tooltips\":[[\"xvalue\",\"@x\"],[\"yvalue\",\"@y\"]]},\"id\":\"a0491ce2-9a1d-41b6-812f-2b1696457a81\",\"type\":\"HoverTool\"},{\"attributes\":{\"fill_color\":{\"value\":\"#1f77b4\"},\"line_color\":{\"value\":\"#1f77b4\"},\"size\":{\"units\":\"screen\",\"value\":10},\"x\":{\"field\":\"x\"},\"y\":{\"field\":\"y\"}},\"id\":\"dba66e2e-d8be-46c4-a81c-91ba00d02f2c\",\"type\":\"Circle\"},{\"attributes\":{\"fill_alpha\":{\"value\":0.1},\"fill_color\":{\"value\":\"#1f77b4\"},\"line_alpha\":{\"value\":0.1},\"line_color\":{\"value\":\"#1f77b4\"},\"size\":{\"units\":\"screen\",\"value\":10},\"x\":{\"field\":\"x\"},\"y\":{\"field\":\"y\"}},\"id\":\"43a6c84d-8c73-4fad-903f-cba3c6e74764\",\"type\":\"Circle\"},{\"attributes\":{\"source\":{\"id\":\"762ca5e2-81d8-47c6-a970-d7506b44c885\",\"type\":\"ColumnDataSource\"}},\"id\":\"b683fda5-f777-40c1-ba69-501be9b98c1a\",\"type\":\"CDSView\"},{\"attributes\":{\"dimension\":1,\"plot\":{\"id\":\"52acf003-7b11-459e-9c9b-d06990dc4a5d\",\"subtype\":\"Figure\",\"type\":\"Plot\"},\"ticker\":{\"id\":\"89d7b485-61db-439c-9ed7-9883ecb0a925\",\"type\":\"BasicTicker\"}},\"id\":\"2387bfcd-014e-4d53-8f4f-875e330ec56a\",\"type\":\"Grid\"},{\"attributes\":{},\"id\":\"89d7b485-61db-439c-9ed7-9883ecb0a925\",\"type\":\"BasicTicker\"},{\"attributes\":{\"axis_label\":\"Max Weight (kg)\",\"formatter\":{\"id\":\"afb71d72-bc87-4e0f-9b8e-343c87cc8930\",\"type\":\"BasicTickFormatter\"},\"plot\":{\"id\":\"52acf003-7b11-459e-9c9b-d06990dc4a5d\",\"subtype\":\"Figure\",\"type\":\"Plot\"},\"ticker\":{\"id\":\"89d7b485-61db-439c-9ed7-9883ecb0a925\",\"type\":\"BasicTicker\"}},\"id\":\"9a22b427-0e38-458b-a4e7-020231becaa0\",\"type\":\"LinearAxis\"},{\"attributes\":{},\"id\":\"326f49d2-81b0-4a46-9add-8ad209cfd0a1\",\"type\":\"BasicTicker\"},{\"attributes\":{\"axis_label\":\"Length of beam (cm)\",\"formatter\":{\"id\":\"5d280492-038e-4cfc-8a44-c518f893ad2e\",\"type\":\"BasicTickFormatter\"},\"plot\":{\"id\":\"52acf003-7b11-459e-9c9b-d06990dc4a5d\",\"subtype\":\"Figure\",\"type\":\"Plot\"},\"ticker\":{\"id\":\"326f49d2-81b0-4a46-9add-8ad209cfd0a1\",\"type\":\"BasicTicker\"}},\"id\":\"2d6418b5-5e39-409e-afd8-82baac1f4a3a\",\"type\":\"LinearAxis\"},{\"attributes\":{\"plot\":{\"id\":\"52acf003-7b11-459e-9c9b-d06990dc4a5d\",\"subtype\":\"Figure\",\"type\":\"Plot\"},\"ticker\":{\"id\":\"326f49d2-81b0-4a46-9add-8ad209cfd0a1\",\"type\":\"BasicTicker\"}},\"id\":\"d2532cf8-a2a2-4073-87ae-46f9c9b12a8c\",\"type\":\"Grid\"},{\"attributes\":{\"line_color\":\"red\",\"line_width\":4,\"x\":{\"field\":\"x\"},\"y\":{\"field\":\"y\"}},\"id\":\"733bfc95-5c0f-467a-be00-3e6abc8b9b8a\",\"type\":\"Line\"},{\"attributes\":{},\"id\":\"58fd7b75-6fb7-4dc6-8718-93e66a33295b\",\"type\":\"WheelZoomTool\"},{\"attributes\":{\"plot\":null,\"text\":\"\"},\"id\":\"4a4a8871-86c0-4374-b5ac-631add446ac6\",\"type\":\"Title\"},{\"attributes\":{},\"id\":\"d9f5adc2-1be7-409a-997f-b4f24c359609\",\"type\":\"PanTool\"},{\"attributes\":{\"callback\":null},\"id\":\"5fc8e5a4-6754-4c1d-8029-d5056f00af28\",\"type\":\"TapTool\"}],\"root_ids\":[\"52acf003-7b11-459e-9c9b-d06990dc4a5d\"]},\"title\":\"Bokeh Application\",\"version\":\"0.12.13\"}};\n",
       "  var render_items = [{\"docid\":\"21f38104-35b6-40c2-ad30-4edf381bed09\",\"elementid\":\"962f79f6-9bff-4785-85b7-0bcabeb67c8f\",\"modelid\":\"52acf003-7b11-459e-9c9b-d06990dc4a5d\"}];\n",
       "  root.Bokeh.embed.embed_items_notebook(docs_json, render_items);\n",
       "\n",
       "  }\n",
       "  if (root.Bokeh !== undefined) {\n",
       "    embed_document(root);\n",
       "  } else {\n",
       "    var attempts = 0;\n",
       "    var timer = setInterval(function(root) {\n",
       "      if (root.Bokeh !== undefined) {\n",
       "        embed_document(root);\n",
       "        clearInterval(timer);\n",
       "      }\n",
       "      attempts++;\n",
       "      if (attempts > 100) {\n",
       "        console.log(\"Bokeh: ERROR: Unable to run BokehJS code because BokehJS library is missing\")\n",
       "        clearInterval(timer);\n",
       "      }\n",
       "    }, 10, root)\n",
       "  }\n",
       "})(window);"
      ],
      "application/vnd.bokehjs_exec.v0+json": ""
     },
     "metadata": {
      "application/vnd.bokehjs_exec.v0+json": {
       "id": "52acf003-7b11-459e-9c9b-d06990dc4a5d"
      }
     },
     "output_type": "display_data"
    }
   ],
   "source": [
    "lr = linear_model.LinearRegression()\n",
    "\n",
    "# fitting a linear regression model \n",
    "lr.fit(length_beam.reshape(10,1), weight.reshape(10,1))\n",
    "\n",
    "# predicted values\n",
    "pred_values = lr.predict(length_beam.reshape(10,1))\n",
    "pred_y = lr.coef_[0]*length_beam  \n",
    "\n",
    "tools_to_show= 'box_zoom,pan,save,hover,reset,tap,wheel_zoom'        \n",
    "\n",
    "fig = pl.figure(plot_width=400, plot_height=400, tools = tools_to_show)\n",
    "fig.circle(length_beam, weight, size =10)\n",
    "fig.line(length_beam,pred_values.reshape(10,), color = \"red\", line_width =4)\n",
    "hover = fig.select(dict(type=HoverTool))\n",
    "hover.tooltips = [(\"xvalue\", \"@x\"), (\"yvalue\", \"@y\")]\n",
    "fig.xaxis.axis_label = \"Length of beam (cm)\"\n",
    "fig.yaxis.axis_label = \"Max Weight (kg)\"\n",
    "show(fig)"
   ]
  },
  {
   "cell_type": "markdown",
   "metadata": {
    "ExecuteTime": {
     "end_time": "2019-02-18T04:13:48.298324Z",
     "start_time": "2019-02-18T04:13:48.276077Z"
    }
   },
   "source": [
    "From the model we are able to get the predicted values. This is captured in the array labeled 'pred_values'. This is the red line in our plot. The blue points are the actual values.  Now we can use the various metrics to evaluate the model. Remember, never compare the value of one metric to the value of another metric. They are defined in different ways. Each metric will have its strengths and weaknesses. The idea is to make sure that we can   So we begin with root mean square (RMS)\n"
   ]
  },
  {
   "cell_type": "markdown",
   "metadata": {
    "ExecuteTime": {
     "end_time": "2019-02-18T04:13:27.880339Z",
     "start_time": "2019-02-18T04:13:27.857464Z"
    }
   },
   "source": [
    "##  Mean square error (MSE)\n",
    "The mean square error is defined as - \n",
    "\n",
    "$\\text{MSE} =  \\dfrac{1}{\\text{N}} \\sum \\limits_{i = 1}^{i =N}( \\text {predicted values} - \\text{actual values})^2 $\n",
    "\n",
    "where- <br>\n",
    "\n",
    "N - total number of points in the dataset. In our current dataset we have 10 points. Hence N will be 10. \n",
    "\n",
    "We can calculate the mean squared error \"by hand\" i.e write our own function for it, but just to show it works from sklearn, we will use the sklearn.metrics package for this purpose. \n"
   ]
  },
  {
   "cell_type": "code",
   "execution_count": 5,
   "metadata": {
    "ExecuteTime": {
     "end_time": "2019-02-20T00:10:39.617433Z",
     "start_time": "2019-02-20T00:10:39.612078Z"
    }
   },
   "outputs": [
    {
     "name": "stdout",
     "output_type": "stream",
     "text": [
      "mean squared error for the linear regression model 450.1398545454546\n"
     ]
    }
   ],
   "source": [
    "from sklearn.metrics import mean_squared_error\n",
    "MSE = mean_squared_error(weight, pred_values.reshape(10,1))\n",
    "print(\"mean squared error for the linear regression model {}\".format(MSE))"
   ]
  },
  {
   "cell_type": "markdown",
   "metadata": {
    "ExecuteTime": {
     "end_time": "2019-02-18T19:12:15.867066Z",
     "start_time": "2019-02-18T19:12:15.859088Z"
    }
   },
   "source": [
    "You can see the value is rather large. This is because we are taking the square of the difference between the actual value and predicted value, hence even small differences will be magnified. One precaution we need to take with MSE is to keep in mind that they are very sensitive to outliers, for example, if we have a single point far away from a set of points, the error from that outlier point will dominate the MSE value hence, we must remove outlier point or use another metric that does not get affected by outliers.\n",
    "\n",
    " A closely related metric to the mean squared error is the root mean squared error (RMSE)\n",
    " \n",
    " # Root mean squared error (RMSE)\n",
    " \n",
    " The root mean squared error is simply the square root of the MSE value- \n",
    " \n",
    " $\\text{RMSE} =  \\sqrt{\\dfrac{1}{\\text{N}} \\sum \\limits_{i = 1}^{i =N}( \\text {predicted values} - \\text{actual values})^2 }$\n",
    "\n",
    "\n",
    "Why consider using the RMSE? Well for one thing it is easily interpretable. The RMSE has the same units as your predicted and actual values. For example in our case the unit of our predicted and actual values is the weight i.e kg . MSE is in the units of kg$^2$ which doesnt mean much to us but the RMSE is proportional to kg. \n",
    "\n",
    "RMSE also represents the average distance between the predicted and actually values. \n",
    "\n",
    "We implement RMSE by just taking the root of MSE \n"
   ]
  },
  {
   "cell_type": "code",
   "execution_count": 6,
   "metadata": {
    "ExecuteTime": {
     "end_time": "2019-02-20T00:10:39.634358Z",
     "start_time": "2019-02-20T00:10:39.620861Z"
    }
   },
   "outputs": [
    {
     "name": "stdout",
     "output_type": "stream",
     "text": [
      "root mean squared error for the linear regression model 21.216499582764698\n"
     ]
    }
   ],
   "source": [
    "from sklearn.metrics import mean_squared_error\n",
    "RMSE = np.sqrt(mean_squared_error(weight, pred_values.reshape(10,1)))\n",
    "\n",
    "print(\"root mean squared error for the linear regression model {}\".format(RMSE))\n"
   ]
  },
  {
   "cell_type": "markdown",
   "metadata": {},
   "source": [
    "So how about a metric that is a little more robust to outliers? Lets look at mean absolute error for that. \n",
    "\n",
    "## Mean absolute error (MAE)\n",
    "\n",
    "Mathematically mean absolute error is defined as - \n",
    "$\\text{MAE} =  \\dfrac{1}{\\text{N}} \\sum \\limits_{i = 1}^{i =N} \\text{ abs}( \\text {predicted values} - \\text{actual values}) $\n",
    "\n",
    "where - <br>\n",
    "abs() represent the absolute value of the number. \n",
    "\n",
    "The MAE is just the sum of the difference between the predicted and the actual values. This has the advantage that it is not as sensitive to outlier points as MSE or RMSE. \n",
    "\n",
    "\n",
    "We can calculate the MAE in the following manner - \n"
   ]
  },
  {
   "cell_type": "code",
   "execution_count": 7,
   "metadata": {
    "ExecuteTime": {
     "end_time": "2019-02-20T00:10:39.648990Z",
     "start_time": "2019-02-20T00:10:39.638374Z"
    }
   },
   "outputs": [
    {
     "name": "stdout",
     "output_type": "stream",
     "text": [
      " mean aboslute for the linear regression model 19.17527272727273\n"
     ]
    }
   ],
   "source": [
    "from sklearn.metrics import mean_absolute_error\n",
    "MAE = mean_absolute_error(weight, pred_values.reshape(10,1))\n",
    "\n",
    "print(\" mean aboslute for the linear regression model {}\".format(MAE))\n"
   ]
  },
  {
   "cell_type": "markdown",
   "metadata": {},
   "source": [
    "MAE, MSE and RMSE are absolute metrics they, are defined as measures of error from the regression line to the actual data points. The next metric we will be looking at will be relative measure of error. \n",
    "\n",
    "## R-squared \n",
    "\n",
    "The last metric we are going to look at is $R^2$. In order to define $R^2$ we need to first define something called total sum of square. \n",
    "\n",
    "Total sum of squares =  sum of squares of regression + sum of squares of error \n",
    "\n",
    "\n",
    "where - \n",
    "\n",
    "Sum of squares of regression - is defined as  $\\sum \\limits_{i =1}^{i =N}(\\text{actual points }  -  \\text{mean of all actual points} )^2$. This sum of squares represents the sum of the difference between the mean value of the points and the actual points. \n",
    "\n",
    "Sum of squares of error  - is defined as  $\\sum \\limits_{i =1}^{i =N}(\\text{actual points }-\\text{predicted points }  )^2$. This is just the sum of the squares of the distance between the our fit line and the actual data points. \n",
    "\n",
    "Combining both these sums we get the total sum of squares. \n",
    "\n",
    "So $R^2$ is defined as - \n",
    "\n",
    "$R^2$ = 1- $\\dfrac{\\text{Sum of squares of regression} }{\\text{Total sum of squares} }$\n",
    "\n",
    "We call it a relative measure since we are looking what fraction of  the total sum of squares is the sum of squares of regression. Since $R^2$ is a ratio, the value will vary between 0 and 1. $R^2  = 1$ would mean that data points fit perfectly to the regression line. $R^2 = 0$ mean that there is really no relationship between our x and y variable. We are going to first calculate $R^2$ for our data then see some other examples of $R^2$\n",
    "\n",
    "$R^2$ for our current data can be calculated using- \n",
    "\n"
   ]
  },
  {
   "cell_type": "code",
   "execution_count": 8,
   "metadata": {
    "ExecuteTime": {
     "end_time": "2019-02-20T00:10:39.662282Z",
     "start_time": "2019-02-20T00:10:39.652417Z"
    }
   },
   "outputs": [
    {
     "name": "stdout",
     "output_type": "stream",
     "text": [
      " r_squared for the linear regression model 0.7084518645573077\n"
     ]
    }
   ],
   "source": [
    "from sklearn.metrics import r2_score\n",
    "\n",
    "r_squared = r2_score(weight, pred_values.reshape(10,1))\n",
    "\n",
    "print(\" r_squared for the linear regression model {}\".format(r_squared))\n"
   ]
  },
  {
   "cell_type": "markdown",
   "metadata": {},
   "source": [
    "We say that $R^2$ measures the goodness of fit of a model. Hence once we get a value of $R^2$ we can talk about how well our independent variable (which is the length of beam in our case ) is correlated to our dependent variable(which is the max weight ). \n",
    "\n",
    "Now lets us look at some examples where we have different values of $R^2$\n",
    "\n",
    "Suppose we have data such that- \n",
    "\n",
    "y = ([111.4, 122.9,134.4, 130.4,157.5,169.3,185.5,192.5, 203.5, 200.7])\n"
   ]
  },
  {
   "cell_type": "code",
   "execution_count": 9,
   "metadata": {
    "ExecuteTime": {
     "end_time": "2019-02-20T00:10:39.911697Z",
     "start_time": "2019-02-20T00:10:39.665301Z"
    }
   },
   "outputs": [
    {
     "data": {
      "text/html": [
       "\n",
       "<div class=\"bk-root\">\n",
       "    <div class=\"bk-plotdiv\" id=\"c37fa487-546d-4ec8-8d58-ff58e5d64c45\"></div>\n",
       "</div>"
      ]
     },
     "metadata": {},
     "output_type": "display_data"
    },
    {
     "data": {
      "application/javascript": [
       "(function(root) {\n",
       "  function embed_document(root) {\n",
       "    \n",
       "  var docs_json = {\"f8731bac-9439-4e83-9579-94462d666237\":{\"roots\":{\"references\":[{\"attributes\":{\"source\":{\"id\":\"3f2edb92-2eb6-4ed5-87a2-b1362b4ed5cf\",\"type\":\"ColumnDataSource\"}},\"id\":\"b654c7bf-ce58-4c2f-b782-8296cdb23e48\",\"type\":\"CDSView\"},{\"attributes\":{\"source\":{\"id\":\"aefad1f3-fcd8-4586-be4f-273cf1237c45\",\"type\":\"ColumnDataSource\"}},\"id\":\"aece6be3-729e-41e5-9790-be4039e156c3\",\"type\":\"CDSView\"},{\"attributes\":{\"line_color\":\"red\",\"line_width\":4,\"x\":{\"field\":\"x\"},\"y\":{\"field\":\"y\"}},\"id\":\"0e61bb0e-bc06-4a5e-a0a9-498b63e0788e\",\"type\":\"Line\"},{\"attributes\":{\"callback\":null,\"column_names\":[\"x\",\"y\"],\"data\":{\"x\":{\"__ndarray__\":\"MgAAADcAAAA8AAAAQQAAAEYAAABLAAAAUAAAAFUAAABaAAAAXwAAAA==\",\"dtype\":\"int32\",\"shape\":[10]},\"y\":{\"__ndarray__\":\"mpmZmZnZW0CamZmZmbleQM3MzMzMzGBAzczMzMxMYEAAAAAAALBjQJqZmZmZKWVAAAAAAAAwZ0AAAAAAABBoQAAAAAAAcGlAZmZmZmYWaUA=\",\"dtype\":\"float64\",\"shape\":[10]}}},\"id\":\"aefad1f3-fcd8-4586-be4f-273cf1237c45\",\"type\":\"ColumnDataSource\"},{\"attributes\":{\"line_alpha\":0.1,\"line_color\":\"#1f77b4\",\"line_width\":4,\"x\":{\"field\":\"x\"},\"y\":{\"field\":\"y\"}},\"id\":\"1197ea0b-cfb4-417a-82f4-c9bc81ae66af\",\"type\":\"Line\"},{\"attributes\":{\"active_drag\":\"auto\",\"active_inspect\":\"auto\",\"active_scroll\":\"auto\",\"active_tap\":\"auto\",\"tools\":[{\"id\":\"d09dfc13-9a40-4591-93e6-4b2dc2b806ca\",\"type\":\"BoxZoomTool\"},{\"id\":\"f4299de9-28a3-4fc5-86eb-a14810e5cff9\",\"type\":\"PanTool\"},{\"id\":\"996b235b-7ab7-4b5a-bc1f-d5c6e7c728b3\",\"type\":\"SaveTool\"},{\"id\":\"c06a7f58-808a-48c2-b721-514e1a82ffe8\",\"type\":\"HoverTool\"},{\"id\":\"6a001744-e535-4223-a07c-54275bcfc207\",\"type\":\"ResetTool\"},{\"id\":\"88536df0-7de7-4f88-9d5a-8021a896c428\",\"type\":\"TapTool\"},{\"id\":\"3efe90ef-58ba-4592-ae30-b3c754b04704\",\"type\":\"WheelZoomTool\"}]},\"id\":\"89cefa83-42b7-48f3-bdb4-ebc54b2d3b24\",\"type\":\"Toolbar\"},{\"attributes\":{\"callback\":null},\"id\":\"5b3152fe-b842-469a-927f-d1d61f6d8683\",\"type\":\"DataRange1d\"},{\"attributes\":{\"fill_alpha\":{\"value\":0.1},\"fill_color\":{\"value\":\"#1f77b4\"},\"line_alpha\":{\"value\":0.1},\"line_color\":{\"value\":\"#1f77b4\"},\"size\":{\"units\":\"screen\",\"value\":10},\"x\":{\"field\":\"x\"},\"y\":{\"field\":\"y\"}},\"id\":\"f8b12bf9-4fed-4ee4-8b45-1cd10d178273\",\"type\":\"Circle\"},{\"attributes\":{\"callback\":null},\"id\":\"a40d4131-7d8c-4797-ad84-d1204b6fd004\",\"type\":\"DataRange1d\"},{\"attributes\":{},\"id\":\"2b95ef5a-10e2-4172-a244-fea1eb35f1a6\",\"type\":\"LinearScale\"},{\"attributes\":{},\"id\":\"44cf9576-17ed-49ac-be67-7b1ca69acd3b\",\"type\":\"LinearScale\"},{\"attributes\":{\"below\":[{\"id\":\"9437f25e-efe1-48fb-8074-4c37683ea7d6\",\"type\":\"LinearAxis\"}],\"left\":[{\"id\":\"f4db4278-4062-4f0c-ada9-ce57880e4556\",\"type\":\"LinearAxis\"}],\"plot_height\":400,\"plot_width\":400,\"renderers\":[{\"id\":\"9437f25e-efe1-48fb-8074-4c37683ea7d6\",\"type\":\"LinearAxis\"},{\"id\":\"5bca2f99-00ab-4fba-8f69-d15aff5a76cc\",\"type\":\"Grid\"},{\"id\":\"f4db4278-4062-4f0c-ada9-ce57880e4556\",\"type\":\"LinearAxis\"},{\"id\":\"45e2d64e-b79a-42b4-8d33-da016781d4eb\",\"type\":\"Grid\"},{\"id\":\"8f0c7aca-debf-41d7-9709-95fa0a743ccb\",\"type\":\"BoxAnnotation\"},{\"id\":\"cc2eeb9b-761d-476a-8a14-c92c48e8a8dd\",\"type\":\"GlyphRenderer\"},{\"id\":\"62debc45-003d-45b3-8936-ad6f588557fb\",\"type\":\"GlyphRenderer\"},{\"id\":\"f8bea4d5-9f30-488c-a94a-6cbc2d938b3d\",\"type\":\"Label\"}],\"title\":{\"id\":\"d420cc59-b0c3-4b90-a7d5-141fa2a4bd30\",\"type\":\"Title\"},\"toolbar\":{\"id\":\"89cefa83-42b7-48f3-bdb4-ebc54b2d3b24\",\"type\":\"Toolbar\"},\"x_range\":{\"id\":\"5b3152fe-b842-469a-927f-d1d61f6d8683\",\"type\":\"DataRange1d\"},\"x_scale\":{\"id\":\"2b95ef5a-10e2-4172-a244-fea1eb35f1a6\",\"type\":\"LinearScale\"},\"y_range\":{\"id\":\"a40d4131-7d8c-4797-ad84-d1204b6fd004\",\"type\":\"DataRange1d\"},\"y_scale\":{\"id\":\"44cf9576-17ed-49ac-be67-7b1ca69acd3b\",\"type\":\"LinearScale\"}},\"id\":\"a3e98ad7-c0b6-40e6-885f-a2df0265bbe2\",\"subtype\":\"Figure\",\"type\":\"Plot\"},{\"attributes\":{\"plot\":{\"id\":\"a3e98ad7-c0b6-40e6-885f-a2df0265bbe2\",\"subtype\":\"Figure\",\"type\":\"Plot\"},\"ticker\":{\"id\":\"09a0f7b8-a55d-49a5-a26b-2662eb783d1b\",\"type\":\"BasicTicker\"}},\"id\":\"5bca2f99-00ab-4fba-8f69-d15aff5a76cc\",\"type\":\"Grid\"},{\"attributes\":{\"axis_label\":\"Length of beam (cm)\",\"formatter\":{\"id\":\"64b478bc-c9ba-4340-895f-085deb90f17d\",\"type\":\"BasicTickFormatter\"},\"plot\":{\"id\":\"a3e98ad7-c0b6-40e6-885f-a2df0265bbe2\",\"subtype\":\"Figure\",\"type\":\"Plot\"},\"ticker\":{\"id\":\"09a0f7b8-a55d-49a5-a26b-2662eb783d1b\",\"type\":\"BasicTicker\"}},\"id\":\"9437f25e-efe1-48fb-8074-4c37683ea7d6\",\"type\":\"LinearAxis\"},{\"attributes\":{},\"id\":\"09a0f7b8-a55d-49a5-a26b-2662eb783d1b\",\"type\":\"BasicTicker\"},{\"attributes\":{\"axis_label\":\"Max Weight (kg)\",\"formatter\":{\"id\":\"120d3951-f465-4e49-b455-b5d23ee4a06e\",\"type\":\"BasicTickFormatter\"},\"plot\":{\"id\":\"a3e98ad7-c0b6-40e6-885f-a2df0265bbe2\",\"subtype\":\"Figure\",\"type\":\"Plot\"},\"ticker\":{\"id\":\"c8c23ec6-f50a-4ea8-9328-98df41ae7f1b\",\"type\":\"BasicTicker\"}},\"id\":\"f4db4278-4062-4f0c-ada9-ce57880e4556\",\"type\":\"LinearAxis\"},{\"attributes\":{},\"id\":\"c8c23ec6-f50a-4ea8-9328-98df41ae7f1b\",\"type\":\"BasicTicker\"},{\"attributes\":{\"dimension\":1,\"plot\":{\"id\":\"a3e98ad7-c0b6-40e6-885f-a2df0265bbe2\",\"subtype\":\"Figure\",\"type\":\"Plot\"},\"ticker\":{\"id\":\"c8c23ec6-f50a-4ea8-9328-98df41ae7f1b\",\"type\":\"BasicTicker\"}},\"id\":\"45e2d64e-b79a-42b4-8d33-da016781d4eb\",\"type\":\"Grid\"},{\"attributes\":{\"data_source\":{\"id\":\"aefad1f3-fcd8-4586-be4f-273cf1237c45\",\"type\":\"ColumnDataSource\"},\"glyph\":{\"id\":\"6750be34-9c9b-409b-a0f1-ff22cc675f3a\",\"type\":\"Circle\"},\"hover_glyph\":null,\"muted_glyph\":null,\"nonselection_glyph\":{\"id\":\"f8b12bf9-4fed-4ee4-8b45-1cd10d178273\",\"type\":\"Circle\"},\"selection_glyph\":null,\"view\":{\"id\":\"aece6be3-729e-41e5-9790-be4039e156c3\",\"type\":\"CDSView\"}},\"id\":\"cc2eeb9b-761d-476a-8a14-c92c48e8a8dd\",\"type\":\"GlyphRenderer\"},{\"attributes\":{\"fill_color\":{\"value\":\"#1f77b4\"},\"line_color\":{\"value\":\"#1f77b4\"},\"size\":{\"units\":\"screen\",\"value\":10},\"x\":{\"field\":\"x\"},\"y\":{\"field\":\"y\"}},\"id\":\"6750be34-9c9b-409b-a0f1-ff22cc675f3a\",\"type\":\"Circle\"},{\"attributes\":{\"callback\":null,\"column_names\":[\"x\",\"y\"],\"data\":{\"x\":{\"__ndarray__\":\"MgAAADcAAAA8AAAAQQAAAEYAAABLAAAAUAAAAFUAAABaAAAAXwAAAA==\",\"dtype\":\"int32\",\"shape\":[10]},\"y\":{\"__ndarray__\":\"Ue4A5Q6wW0C5J4B7AnheQJCw/wj7n2BARE0/1PQDYkD46X6f7mdjQKyGvmroy2RAYCP+NeIvZkAUwD0B3JNnQMdcfczV92hAe/m8l89bakA=\",\"dtype\":\"float64\",\"shape\":[10]}}},\"id\":\"3f2edb92-2eb6-4ed5-87a2-b1362b4ed5cf\",\"type\":\"ColumnDataSource\"},{\"attributes\":{\"data_source\":{\"id\":\"3f2edb92-2eb6-4ed5-87a2-b1362b4ed5cf\",\"type\":\"ColumnDataSource\"},\"glyph\":{\"id\":\"0e61bb0e-bc06-4a5e-a0a9-498b63e0788e\",\"type\":\"Line\"},\"hover_glyph\":null,\"muted_glyph\":null,\"nonselection_glyph\":{\"id\":\"1197ea0b-cfb4-417a-82f4-c9bc81ae66af\",\"type\":\"Line\"},\"selection_glyph\":null,\"view\":{\"id\":\"b654c7bf-ce58-4c2f-b782-8296cdb23e48\",\"type\":\"CDSView\"}},\"id\":\"62debc45-003d-45b3-8936-ad6f588557fb\",\"type\":\"GlyphRenderer\"},{\"attributes\":{\"bottom_units\":\"screen\",\"fill_alpha\":{\"value\":0.5},\"fill_color\":{\"value\":\"lightgrey\"},\"left_units\":\"screen\",\"level\":\"overlay\",\"line_alpha\":{\"value\":1.0},\"line_color\":{\"value\":\"black\"},\"line_dash\":[4,4],\"line_width\":{\"value\":2},\"plot\":null,\"render_mode\":\"css\",\"right_units\":\"screen\",\"top_units\":\"screen\"},\"id\":\"8f0c7aca-debf-41d7-9709-95fa0a743ccb\",\"type\":\"BoxAnnotation\"},{\"attributes\":{\"plot\":{\"id\":\"a3e98ad7-c0b6-40e6-885f-a2df0265bbe2\",\"subtype\":\"Figure\",\"type\":\"Plot\"},\"text\":\"r-squared = 0.96\",\"x\":50.0,\"y\":200.0},\"id\":\"f8bea4d5-9f30-488c-a94a-6cbc2d938b3d\",\"type\":\"Label\"},{\"attributes\":{\"overlay\":{\"id\":\"8f0c7aca-debf-41d7-9709-95fa0a743ccb\",\"type\":\"BoxAnnotation\"}},\"id\":\"d09dfc13-9a40-4591-93e6-4b2dc2b806ca\",\"type\":\"BoxZoomTool\"},{\"attributes\":{},\"id\":\"64b478bc-c9ba-4340-895f-085deb90f17d\",\"type\":\"BasicTickFormatter\"},{\"attributes\":{},\"id\":\"f4299de9-28a3-4fc5-86eb-a14810e5cff9\",\"type\":\"PanTool\"},{\"attributes\":{},\"id\":\"996b235b-7ab7-4b5a-bc1f-d5c6e7c728b3\",\"type\":\"SaveTool\"},{\"attributes\":{\"callback\":null,\"tooltips\":[[\"xvalue\",\"@x\"],[\"yvalue\",\"@y\"]]},\"id\":\"c06a7f58-808a-48c2-b721-514e1a82ffe8\",\"type\":\"HoverTool\"},{\"attributes\":{},\"id\":\"6a001744-e535-4223-a07c-54275bcfc207\",\"type\":\"ResetTool\"},{\"attributes\":{\"callback\":null},\"id\":\"88536df0-7de7-4f88-9d5a-8021a896c428\",\"type\":\"TapTool\"},{\"attributes\":{},\"id\":\"3efe90ef-58ba-4592-ae30-b3c754b04704\",\"type\":\"WheelZoomTool\"},{\"attributes\":{},\"id\":\"120d3951-f465-4e49-b455-b5d23ee4a06e\",\"type\":\"BasicTickFormatter\"},{\"attributes\":{\"plot\":null,\"text\":\"\"},\"id\":\"d420cc59-b0c3-4b90-a7d5-141fa2a4bd30\",\"type\":\"Title\"}],\"root_ids\":[\"a3e98ad7-c0b6-40e6-885f-a2df0265bbe2\"]},\"title\":\"Bokeh Application\",\"version\":\"0.12.13\"}};\n",
       "  var render_items = [{\"docid\":\"f8731bac-9439-4e83-9579-94462d666237\",\"elementid\":\"c37fa487-546d-4ec8-8d58-ff58e5d64c45\",\"modelid\":\"a3e98ad7-c0b6-40e6-885f-a2df0265bbe2\"}];\n",
       "  root.Bokeh.embed.embed_items_notebook(docs_json, render_items);\n",
       "\n",
       "  }\n",
       "  if (root.Bokeh !== undefined) {\n",
       "    embed_document(root);\n",
       "  } else {\n",
       "    var attempts = 0;\n",
       "    var timer = setInterval(function(root) {\n",
       "      if (root.Bokeh !== undefined) {\n",
       "        embed_document(root);\n",
       "        clearInterval(timer);\n",
       "      }\n",
       "      attempts++;\n",
       "      if (attempts > 100) {\n",
       "        console.log(\"Bokeh: ERROR: Unable to run BokehJS code because BokehJS library is missing\")\n",
       "        clearInterval(timer);\n",
       "      }\n",
       "    }, 10, root)\n",
       "  }\n",
       "})(window);"
      ],
      "application/vnd.bokehjs_exec.v0+json": ""
     },
     "metadata": {
      "application/vnd.bokehjs_exec.v0+json": {
       "id": "a3e98ad7-c0b6-40e6-885f-a2df0265bbe2"
      }
     },
     "output_type": "display_data"
    },
    {
     "name": "stdout",
     "output_type": "stream",
     "text": [
      " r-squared square for this distribution of points 0.9621125428397651\n"
     ]
    }
   ],
   "source": [
    "y = np.array([111.4, 122.9,134.4, 130.4,157.5,169.3,185.5,192.5, 203.5, 200.7])\n",
    "x = length_beam\n",
    "lr = linear_model.LinearRegression()\n",
    "\n",
    "# fitting a linear regression model \n",
    "lr.fit(length_beam.reshape(10,1), y.reshape(10,1))\n",
    "\n",
    "# predicted values\n",
    "pred_values_new = lr.predict(length_beam.reshape(10,1))\n",
    "pred_y_new = lr.coef_[0]*length_beam  \n",
    "\n",
    "tools_to_show= 'box_zoom,pan,save,hover,reset,tap,wheel_zoom'        \n",
    "\n",
    "fig = pl.figure(plot_width=400, plot_height=400, tools = tools_to_show)\n",
    "fig.circle(length_beam, y, size =10)\n",
    "fig.line(length_beam,pred_values_new.reshape(10,), color = \"red\", line_width =4)\n",
    "hover = fig.select(dict(type=HoverTool))\n",
    "hover.tooltips = [(\"xvalue\", \"@x\"), (\"yvalue\", \"@y\")]\n",
    "fig.xaxis.axis_label = \"Length of beam (cm)\"\n",
    "fig.yaxis.axis_label = \"Max Weight (kg)\"\n",
    "glyph = Label(x= 50.0, y = 200.0, text = \"r-squared = \"+ str(np.round(r2_score(y, pred_values_new), 2)))\n",
    "fig.add_layout(glyph)\n",
    "show(fig)\n",
    "\n",
    "# high r-squared score\n",
    "print(\" r-squared square for this distribution of points {}\".format(r2_score(y, pred_values_new)))\n",
    "\n",
    "\n"
   ]
  },
  {
   "cell_type": "code",
   "execution_count": 10,
   "metadata": {
    "ExecuteTime": {
     "end_time": "2019-02-20T00:10:40.144013Z",
     "start_time": "2019-02-20T00:10:39.915923Z"
    }
   },
   "outputs": [
    {
     "data": {
      "text/html": [
       "\n",
       "<div class=\"bk-root\">\n",
       "    <div class=\"bk-plotdiv\" id=\"673f922d-80d8-4289-8d02-845fdb12ec62\"></div>\n",
       "</div>"
      ]
     },
     "metadata": {},
     "output_type": "display_data"
    },
    {
     "data": {
      "application/javascript": [
       "(function(root) {\n",
       "  function embed_document(root) {\n",
       "    \n",
       "  var docs_json = {\"95627964-36cc-4dca-87d5-1da8a9935ea4\":{\"roots\":{\"references\":[{\"attributes\":{},\"id\":\"c359d286-cd22-4773-8ddd-39f28ebbc18f\",\"type\":\"BasicTickFormatter\"},{\"attributes\":{\"below\":[{\"id\":\"c18dd522-1dd7-4e5f-adf8-dca3d2e39778\",\"type\":\"LinearAxis\"}],\"left\":[{\"id\":\"3d31a85f-197b-4b4d-9ac4-d856ec811730\",\"type\":\"LinearAxis\"}],\"plot_height\":400,\"plot_width\":400,\"renderers\":[{\"id\":\"c18dd522-1dd7-4e5f-adf8-dca3d2e39778\",\"type\":\"LinearAxis\"},{\"id\":\"d96e9904-51b3-4c57-bdcc-09d7c66b50bc\",\"type\":\"Grid\"},{\"id\":\"3d31a85f-197b-4b4d-9ac4-d856ec811730\",\"type\":\"LinearAxis\"},{\"id\":\"714a3a00-ced2-4261-937b-a910dad060e0\",\"type\":\"Grid\"},{\"id\":\"f2bce03c-c7ab-4115-8247-2aedbfde811a\",\"type\":\"BoxAnnotation\"},{\"id\":\"b06d8f93-3c9c-4995-b346-9ef3affcea4a\",\"type\":\"GlyphRenderer\"},{\"id\":\"8de80871-794c-4077-83d3-e710866b0eba\",\"type\":\"GlyphRenderer\"},{\"id\":\"71cec542-d448-49f6-a1ff-f47ddca2c194\",\"type\":\"Label\"}],\"title\":{\"id\":\"62fb9df7-5cfc-4636-8c46-ce5528a23b91\",\"type\":\"Title\"},\"toolbar\":{\"id\":\"9e1099fe-39ed-4a7d-a9ec-bfabb086bea9\",\"type\":\"Toolbar\"},\"x_range\":{\"id\":\"5133840c-afa9-4e17-9d02-615e81d879f6\",\"type\":\"DataRange1d\"},\"x_scale\":{\"id\":\"6f66e36f-97bd-46c2-92f0-341572455373\",\"type\":\"LinearScale\"},\"y_range\":{\"id\":\"0cadab37-22d9-4488-a1a6-84f64354d911\",\"type\":\"DataRange1d\"},\"y_scale\":{\"id\":\"58ccd983-f064-4787-9f6e-25bae420f843\",\"type\":\"LinearScale\"}},\"id\":\"a3cc85e5-6ce3-4ab4-88f0-b2ed1d10df24\",\"subtype\":\"Figure\",\"type\":\"Plot\"},{\"attributes\":{\"plot\":null,\"text\":\"\"},\"id\":\"62fb9df7-5cfc-4636-8c46-ce5528a23b91\",\"type\":\"Title\"},{\"attributes\":{\"callback\":null,\"column_names\":[\"x\",\"y\"],\"data\":{\"x\":{\"__ndarray__\":\"MgAAADcAAAA8AAAAQQAAAEYAAABLAAAAUAAAAFUAAABaAAAAXwAAAA==\",\"dtype\":\"int32\",\"shape\":[10]},\"y\":{\"__ndarray__\":\"mpmZmZnZW0CamZmZmbleQM3MzMzMzGBAzczMzMxMYEAAAAAAALBjQJqZmZmZKWBAAAAAAAAgXkAAAAAAAJBgQAAAAAAA4FlAZmZmZmaWYUA=\",\"dtype\":\"float64\",\"shape\":[10]}}},\"id\":\"b209b776-6945-41f8-95ba-3db8833c7b6c\",\"type\":\"ColumnDataSource\"},{\"attributes\":{\"callback\":null,\"tooltips\":[[\"xvalue\",\"@x\"],[\"yvalue\",\"@y\"]]},\"id\":\"e6924b7f-7e1e-4062-97a0-278c258c44a8\",\"type\":\"HoverTool\"},{\"attributes\":{\"fill_alpha\":{\"value\":0.1},\"fill_color\":{\"value\":\"#1f77b4\"},\"line_alpha\":{\"value\":0.1},\"line_color\":{\"value\":\"#1f77b4\"},\"size\":{\"units\":\"screen\",\"value\":10},\"x\":{\"field\":\"x\"},\"y\":{\"field\":\"y\"}},\"id\":\"7f389b81-b3c4-424b-8f12-f3b917271340\",\"type\":\"Circle\"},{\"attributes\":{\"callback\":null},\"id\":\"5133840c-afa9-4e17-9d02-615e81d879f6\",\"type\":\"DataRange1d\"},{\"attributes\":{\"axis_label\":\"Length of beam (cm)\",\"formatter\":{\"id\":\"68726d4a-7878-4490-90e0-861322bb050e\",\"type\":\"BasicTickFormatter\"},\"plot\":{\"id\":\"a3cc85e5-6ce3-4ab4-88f0-b2ed1d10df24\",\"subtype\":\"Figure\",\"type\":\"Plot\"},\"ticker\":{\"id\":\"5212bd66-6459-41a1-be7e-9ddc153afd46\",\"type\":\"BasicTicker\"}},\"id\":\"c18dd522-1dd7-4e5f-adf8-dca3d2e39778\",\"type\":\"LinearAxis\"},{\"attributes\":{\"line_color\":\"red\",\"line_width\":4,\"x\":{\"field\":\"x\"},\"y\":{\"field\":\"y\"}},\"id\":\"b4bacd1f-3038-434d-8c32-65dfcf88012f\",\"type\":\"Line\"},{\"attributes\":{\"active_drag\":\"auto\",\"active_inspect\":\"auto\",\"active_scroll\":\"auto\",\"active_tap\":\"auto\",\"tools\":[{\"id\":\"15fd005b-7f4c-45ca-993d-1f47ae8deddf\",\"type\":\"BoxZoomTool\"},{\"id\":\"8e71a950-7224-4d3c-ac87-eb3ed5eedbca\",\"type\":\"PanTool\"},{\"id\":\"f6492a87-cfd4-4065-a159-e07892c6075e\",\"type\":\"SaveTool\"},{\"id\":\"e6924b7f-7e1e-4062-97a0-278c258c44a8\",\"type\":\"HoverTool\"},{\"id\":\"875939fd-138d-48e8-bc37-6552320c1c29\",\"type\":\"ResetTool\"},{\"id\":\"60602d97-b6ed-4b09-ae75-f61663f069eb\",\"type\":\"TapTool\"},{\"id\":\"ca392ad9-0449-4552-8c1a-3ba9dc29d1cc\",\"type\":\"WheelZoomTool\"}]},\"id\":\"9e1099fe-39ed-4a7d-a9ec-bfabb086bea9\",\"type\":\"Toolbar\"},{\"attributes\":{},\"id\":\"875939fd-138d-48e8-bc37-6552320c1c29\",\"type\":\"ResetTool\"},{\"attributes\":{\"bottom_units\":\"screen\",\"fill_alpha\":{\"value\":0.5},\"fill_color\":{\"value\":\"lightgrey\"},\"left_units\":\"screen\",\"level\":\"overlay\",\"line_alpha\":{\"value\":1.0},\"line_color\":{\"value\":\"black\"},\"line_dash\":[4,4],\"line_width\":{\"value\":2},\"plot\":null,\"render_mode\":\"css\",\"right_units\":\"screen\",\"top_units\":\"screen\"},\"id\":\"f2bce03c-c7ab-4115-8247-2aedbfde811a\",\"type\":\"BoxAnnotation\"},{\"attributes\":{},\"id\":\"f6492a87-cfd4-4065-a159-e07892c6075e\",\"type\":\"SaveTool\"},{\"attributes\":{\"source\":{\"id\":\"b209b776-6945-41f8-95ba-3db8833c7b6c\",\"type\":\"ColumnDataSource\"}},\"id\":\"3079c371-2fba-4fd4-ac64-5c384ac9e28d\",\"type\":\"CDSView\"},{\"attributes\":{\"plot\":{\"id\":\"a3cc85e5-6ce3-4ab4-88f0-b2ed1d10df24\",\"subtype\":\"Figure\",\"type\":\"Plot\"},\"ticker\":{\"id\":\"5212bd66-6459-41a1-be7e-9ddc153afd46\",\"type\":\"BasicTicker\"}},\"id\":\"d96e9904-51b3-4c57-bdcc-09d7c66b50bc\",\"type\":\"Grid\"},{\"attributes\":{\"source\":{\"id\":\"31199d77-e581-4213-b9b8-b39729fa9ac3\",\"type\":\"ColumnDataSource\"}},\"id\":\"4bc98132-f185-48b5-ba19-a1209c51e380\",\"type\":\"CDSView\"},{\"attributes\":{},\"id\":\"58ccd983-f064-4787-9f6e-25bae420f843\",\"type\":\"LinearScale\"},{\"attributes\":{\"line_alpha\":0.1,\"line_color\":\"#1f77b4\",\"line_width\":4,\"x\":{\"field\":\"x\"},\"y\":{\"field\":\"y\"}},\"id\":\"89a542bf-fd01-4d2a-8335-ca19362bb825\",\"type\":\"Line\"},{\"attributes\":{\"callback\":null},\"id\":\"60602d97-b6ed-4b09-ae75-f61663f069eb\",\"type\":\"TapTool\"},{\"attributes\":{},\"id\":\"6f66e36f-97bd-46c2-92f0-341572455373\",\"type\":\"LinearScale\"},{\"attributes\":{\"callback\":null},\"id\":\"0cadab37-22d9-4488-a1a6-84f64354d911\",\"type\":\"DataRange1d\"},{\"attributes\":{\"axis_label\":\"Max Weight (kg)\",\"formatter\":{\"id\":\"c359d286-cd22-4773-8ddd-39f28ebbc18f\",\"type\":\"BasicTickFormatter\"},\"plot\":{\"id\":\"a3cc85e5-6ce3-4ab4-88f0-b2ed1d10df24\",\"subtype\":\"Figure\",\"type\":\"Plot\"},\"ticker\":{\"id\":\"b52d4f8f-d91a-4148-88ce-016bce6f9e42\",\"type\":\"BasicTicker\"}},\"id\":\"3d31a85f-197b-4b4d-9ac4-d856ec811730\",\"type\":\"LinearAxis\"},{\"attributes\":{},\"id\":\"5212bd66-6459-41a1-be7e-9ddc153afd46\",\"type\":\"BasicTicker\"},{\"attributes\":{\"dimension\":1,\"plot\":{\"id\":\"a3cc85e5-6ce3-4ab4-88f0-b2ed1d10df24\",\"subtype\":\"Figure\",\"type\":\"Plot\"},\"ticker\":{\"id\":\"b52d4f8f-d91a-4148-88ce-016bce6f9e42\",\"type\":\"BasicTicker\"}},\"id\":\"714a3a00-ced2-4261-937b-a910dad060e0\",\"type\":\"Grid\"},{\"attributes\":{\"data_source\":{\"id\":\"31199d77-e581-4213-b9b8-b39729fa9ac3\",\"type\":\"ColumnDataSource\"},\"glyph\":{\"id\":\"b4bacd1f-3038-434d-8c32-65dfcf88012f\",\"type\":\"Line\"},\"hover_glyph\":null,\"muted_glyph\":null,\"nonselection_glyph\":{\"id\":\"89a542bf-fd01-4d2a-8335-ca19362bb825\",\"type\":\"Line\"},\"selection_glyph\":null,\"view\":{\"id\":\"4bc98132-f185-48b5-ba19-a1209c51e380\",\"type\":\"CDSView\"}},\"id\":\"8de80871-794c-4077-83d3-e710866b0eba\",\"type\":\"GlyphRenderer\"},{\"attributes\":{},\"id\":\"b52d4f8f-d91a-4148-88ce-016bce6f9e42\",\"type\":\"BasicTicker\"},{\"attributes\":{\"callback\":null,\"column_names\":[\"x\",\"y\"],\"data\":{\"x\":{\"__ndarray__\":\"MgAAADcAAAA8AAAAQQAAAEYAAABLAAAAUAAAAFUAAABaAAAAXwAAAA==\",\"dtype\":\"int32\",\"shape\":[10]},\"y\":{\"__ndarray__\":\"C9ejcD2qX0CCThvotMFfQPrFkl8s2V9AcT0K16PwX0B02kCnDQRgQDCW/GLJD2BA7FG4HoUbYECnDXTaQCdgQGPJL5b8MmBAH4XrUbg+YEA=\",\"dtype\":\"float64\",\"shape\":[10]}}},\"id\":\"31199d77-e581-4213-b9b8-b39729fa9ac3\",\"type\":\"ColumnDataSource\"},{\"attributes\":{\"plot\":{\"id\":\"a3cc85e5-6ce3-4ab4-88f0-b2ed1d10df24\",\"subtype\":\"Figure\",\"type\":\"Plot\"},\"text\":\"r-squared = 0.01\",\"x\":50.0,\"y\":150.0},\"id\":\"71cec542-d448-49f6-a1ff-f47ddca2c194\",\"type\":\"Label\"},{\"attributes\":{\"fill_color\":{\"value\":\"#1f77b4\"},\"line_color\":{\"value\":\"#1f77b4\"},\"size\":{\"units\":\"screen\",\"value\":10},\"x\":{\"field\":\"x\"},\"y\":{\"field\":\"y\"}},\"id\":\"31df6c99-6d15-4ea5-8baa-e92111838f5d\",\"type\":\"Circle\"},{\"attributes\":{\"data_source\":{\"id\":\"b209b776-6945-41f8-95ba-3db8833c7b6c\",\"type\":\"ColumnDataSource\"},\"glyph\":{\"id\":\"31df6c99-6d15-4ea5-8baa-e92111838f5d\",\"type\":\"Circle\"},\"hover_glyph\":null,\"muted_glyph\":null,\"nonselection_glyph\":{\"id\":\"7f389b81-b3c4-424b-8f12-f3b917271340\",\"type\":\"Circle\"},\"selection_glyph\":null,\"view\":{\"id\":\"3079c371-2fba-4fd4-ac64-5c384ac9e28d\",\"type\":\"CDSView\"}},\"id\":\"b06d8f93-3c9c-4995-b346-9ef3affcea4a\",\"type\":\"GlyphRenderer\"},{\"attributes\":{},\"id\":\"8e71a950-7224-4d3c-ac87-eb3ed5eedbca\",\"type\":\"PanTool\"},{\"attributes\":{},\"id\":\"68726d4a-7878-4490-90e0-861322bb050e\",\"type\":\"BasicTickFormatter\"},{\"attributes\":{},\"id\":\"ca392ad9-0449-4552-8c1a-3ba9dc29d1cc\",\"type\":\"WheelZoomTool\"},{\"attributes\":{\"overlay\":{\"id\":\"f2bce03c-c7ab-4115-8247-2aedbfde811a\",\"type\":\"BoxAnnotation\"}},\"id\":\"15fd005b-7f4c-45ca-993d-1f47ae8deddf\",\"type\":\"BoxZoomTool\"}],\"root_ids\":[\"a3cc85e5-6ce3-4ab4-88f0-b2ed1d10df24\"]},\"title\":\"Bokeh Application\",\"version\":\"0.12.13\"}};\n",
       "  var render_items = [{\"docid\":\"95627964-36cc-4dca-87d5-1da8a9935ea4\",\"elementid\":\"673f922d-80d8-4289-8d02-845fdb12ec62\",\"modelid\":\"a3cc85e5-6ce3-4ab4-88f0-b2ed1d10df24\"}];\n",
       "  root.Bokeh.embed.embed_items_notebook(docs_json, render_items);\n",
       "\n",
       "  }\n",
       "  if (root.Bokeh !== undefined) {\n",
       "    embed_document(root);\n",
       "  } else {\n",
       "    var attempts = 0;\n",
       "    var timer = setInterval(function(root) {\n",
       "      if (root.Bokeh !== undefined) {\n",
       "        embed_document(root);\n",
       "        clearInterval(timer);\n",
       "      }\n",
       "      attempts++;\n",
       "      if (attempts > 100) {\n",
       "        console.log(\"Bokeh: ERROR: Unable to run BokehJS code because BokehJS library is missing\")\n",
       "        clearInterval(timer);\n",
       "      }\n",
       "    }, 10, root)\n",
       "  }\n",
       "})(window);"
      ],
      "application/vnd.bokehjs_exec.v0+json": ""
     },
     "metadata": {
      "application/vnd.bokehjs_exec.v0+json": {
       "id": "a3cc85e5-6ce3-4ab4-88f0-b2ed1d10df24"
      }
     },
     "output_type": "display_data"
    },
    {
     "name": "stdout",
     "output_type": "stream",
     "text": [
      " r-squared square for this distribution of points 0.005391346981258427\n"
     ]
    }
   ],
   "source": [
    "y_low = np.array([111.4, 122.9,134.4, 130.4,157.5,129.3,120.5,132.5, 103.5, 140.7])\n",
    "x = length_beam\n",
    "lr = linear_model.LinearRegression()\n",
    "\n",
    "# fitting a linear regression model \n",
    "lr.fit(length_beam.reshape(10,1), y_low.reshape(10,1))\n",
    "\n",
    "# predicted values\n",
    "pred_values_new = lr.predict(length_beam.reshape(10,1))\n",
    "pred_y_new = lr.coef_[0]*length_beam  \n",
    "\n",
    "tools_to_show= 'box_zoom,pan,save,hover,reset,tap,wheel_zoom'        \n",
    "\n",
    "fig = pl.figure(plot_width=400, plot_height=400, tools = tools_to_show)\n",
    "fig.circle(length_beam, y_low, size =10)\n",
    "fig.line(length_beam,pred_values_new.reshape(10,), color = \"red\", line_width =4)\n",
    "hover = fig.select(dict(type=HoverTool))\n",
    "hover.tooltips = [(\"xvalue\", \"@x\"), (\"yvalue\", \"@y\")]\n",
    "fig.xaxis.axis_label = \"Length of beam (cm)\"\n",
    "fig.yaxis.axis_label = \"Max Weight (kg)\"\n",
    "glyph = Label(x= 50.0, y = 150.0, text = \"r-squared = \"+ str(np.round(r2_score(y_low, pred_values_new), 2)))\n",
    "fig.add_layout(glyph)\n",
    "\n",
    "show(fig)\n",
    "\n",
    "# high r-squared score\n",
    "print(\" r-squared square for this distribution of points {}\".format(r2_score(y_low, pred_values_new)))\n",
    "\n"
   ]
  },
  {
   "cell_type": "markdown",
   "metadata": {
    "ExecuteTime": {
     "end_time": "2019-02-19T23:40:32.043266Z",
     "start_time": "2019-02-19T23:40:32.033177Z"
    }
   },
   "source": [
    "So typically the higher your r-squared is the better. Note that are only talking about 1 dependent variable here i.e the max weight we are not going into multiple dependent variables here which would be a multi variable linear regression problem. In that rather than using $R^2$ we would be using adjusted $R^2$. It is a modified version of $R^2$. \n",
    "\n",
    "With that we are going to close this note book. Now that are aware of the type of metrics that we can use, we can starting diving into some machine learning algorithms \n"
   ]
  },
  {
   "cell_type": "markdown",
   "metadata": {},
   "source": [
    "## Rough work - generating data \n",
    "\n"
   ]
  },
  {
   "cell_type": "code",
   "execution_count": 11,
   "metadata": {
    "ExecuteTime": {
     "end_time": "2019-02-20T00:10:40.153011Z",
     "start_time": "2019-02-20T00:10:40.148142Z"
    }
   },
   "outputs": [],
   "source": [
    "rand_value = np.random.normal(3,20, 10 )"
   ]
  },
  {
   "cell_type": "code",
   "execution_count": 12,
   "metadata": {
    "ExecuteTime": {
     "end_time": "2019-02-20T00:10:40.173956Z",
     "start_time": "2019-02-20T00:10:40.157089Z"
    }
   },
   "outputs": [
    {
     "data": {
      "text/plain": [
       "array([101.05551507,  88.5471414 , 110.86814634,  97.04015602,\n",
       "        94.33813897, 126.34072971,  66.74097748,  79.24977148,\n",
       "        60.06536223,  96.02902437])"
      ]
     },
     "execution_count": 12,
     "metadata": {},
     "output_type": "execute_result"
    }
   ],
   "source": [
    "rand_dev = 100- rand_value\n",
    "rand_dev"
   ]
  },
  {
   "cell_type": "code",
   "execution_count": 13,
   "metadata": {
    "ExecuteTime": {
     "end_time": "2019-02-20T00:10:40.184926Z",
     "start_time": "2019-02-20T00:10:40.177946Z"
    }
   },
   "outputs": [],
   "source": [
    "x= np.arange(50, 100, 5)\n",
    "y= (2*x)+ 20-rand_value\n"
   ]
  },
  {
   "cell_type": "code",
   "execution_count": 14,
   "metadata": {
    "ExecuteTime": {
     "end_time": "2019-02-20T00:10:40.367446Z",
     "start_time": "2019-02-20T00:10:40.188055Z"
    }
   },
   "outputs": [
    {
     "data": {
      "text/plain": [
       "<matplotlib.collections.PathCollection at 0x2b695c8d5f8>"
      ]
     },
     "execution_count": 14,
     "metadata": {},
     "output_type": "execute_result"
    },
    {
     "data": {
      "image/png": "[encoded data removed]",
      "text/plain": [
       "<Figure size 432x288 with 1 Axes>"
      ]
     },
     "metadata": {},
     "output_type": "display_data"
    }
   ],
   "source": [
    "plt.scatter(x,y)"
   ]
  },
  {
   "cell_type": "code",
   "execution_count": 15,
   "metadata": {
    "ExecuteTime": {
     "end_time": "2019-02-20T00:10:40.376526Z",
     "start_time": "2019-02-20T00:10:40.370434Z"
    }
   },
   "outputs": [],
   "source": [
    "y2 = np.array([ 90.39966993, 113.86520284, 149.77039211, 167.10896843,\n",
    "       164.62539558, 184.72625195, 152.82318237, 218.02529295,\n",
    "       165.60147046, 225.78531444])"
   ]
  },
  {
   "cell_type": "code",
   "execution_count": 16,
   "metadata": {
    "ExecuteTime": {
     "end_time": "2019-02-20T00:10:40.393596Z",
     "start_time": "2019-02-20T00:10:40.380065Z"
    }
   },
   "outputs": [
    {
     "data": {
      "text/plain": [
       "array([50, 55, 60, 65, 70, 75, 80, 85, 90, 95])"
      ]
     },
     "execution_count": 16,
     "metadata": {},
     "output_type": "execute_result"
    }
   ],
   "source": [
    "x"
   ]
  },
  {
   "cell_type": "code",
   "execution_count": 17,
   "metadata": {
    "ExecuteTime": {
     "end_time": "2019-02-20T00:10:40.407139Z",
     "start_time": "2019-02-20T00:10:40.396367Z"
    }
   },
   "outputs": [
    {
     "data": {
      "text/plain": [
       "array([121.05551507, 118.5471414 , 150.86814634, 147.04015602,\n",
       "       154.33813897, 196.34072971, 146.74097748, 169.24977148,\n",
       "       160.06536223, 206.02902437])"
      ]
     },
     "execution_count": 17,
     "metadata": {},
     "output_type": "execute_result"
    }
   ],
   "source": [
    "y"
   ]
  },
  {
   "cell_type": "code",
   "execution_count": 18,
   "metadata": {
    "ExecuteTime": {
     "end_time": "2019-02-20T00:10:40.983976Z",
     "start_time": "2019-02-20T00:10:40.410333Z"
    }
   },
   "outputs": [
    {
     "ename": "NameError",
     "evalue": "name 'tool_2' is not defined",
     "output_type": "error",
     "traceback": [
      "\u001b[1;31m---------------------------------------------------------------------------\u001b[0m",
      "\u001b[1;31mNameError\u001b[0m                                 Traceback (most recent call last)",
      "\u001b[1;32m<ipython-input-18-574b5393e1f0>\u001b[0m in \u001b[0;36m<module>\u001b[1;34m()\u001b[0m\n\u001b[0;32m      2\u001b[0m \u001b[1;33m\u001b[0m\u001b[0m\n\u001b[0;32m      3\u001b[0m \u001b[1;33m\u001b[0m\u001b[0m\n\u001b[1;32m----> 4\u001b[1;33m \u001b[0mfig\u001b[0m \u001b[1;33m=\u001b[0m \u001b[0mpl\u001b[0m\u001b[1;33m.\u001b[0m\u001b[0mfigure\u001b[0m\u001b[1;33m(\u001b[0m\u001b[0mplot_width\u001b[0m\u001b[1;33m=\u001b[0m\u001b[1;36m400\u001b[0m\u001b[1;33m,\u001b[0m \u001b[0mplot_height\u001b[0m\u001b[1;33m=\u001b[0m\u001b[1;36m400\u001b[0m\u001b[1;33m,\u001b[0m \u001b[0mtools\u001b[0m \u001b[1;33m=\u001b[0m \u001b[0mtool_2\u001b[0m\u001b[1;33m)\u001b[0m\u001b[1;33m\u001b[0m\u001b[0m\n\u001b[0m\u001b[0;32m      5\u001b[0m \u001b[0mfig\u001b[0m\u001b[1;33m.\u001b[0m\u001b[0mcircle\u001b[0m\u001b[1;33m(\u001b[0m\u001b[0mlength_beam\u001b[0m\u001b[1;33m,\u001b[0m \u001b[0mweight\u001b[0m\u001b[1;33m,\u001b[0m \u001b[0msize\u001b[0m \u001b[1;33m=\u001b[0m\u001b[1;36m10\u001b[0m\u001b[1;33m)\u001b[0m\u001b[1;33m\u001b[0m\u001b[0m\n\u001b[0;32m      6\u001b[0m \u001b[0mfig\u001b[0m\u001b[1;33m.\u001b[0m\u001b[0mline\u001b[0m\u001b[1;33m(\u001b[0m\u001b[0mlength_beam\u001b[0m\u001b[1;33m,\u001b[0m\u001b[0mpred_y\u001b[0m\u001b[1;33m,\u001b[0m \u001b[0mcolor\u001b[0m \u001b[1;33m=\u001b[0m \u001b[1;34m\"red\"\u001b[0m\u001b[1;33m,\u001b[0m \u001b[0mline_width\u001b[0m \u001b[1;33m=\u001b[0m\u001b[1;36m4\u001b[0m\u001b[1;33m)\u001b[0m\u001b[1;33m\u001b[0m\u001b[0m\n",
      "\u001b[1;31mNameError\u001b[0m: name 'tool_2' is not defined"
     ]
    }
   ],
   "source": [
    "tools_to_show= 'box_zoom,pan,save,hover,reset,tap,wheel_zoom'        \n",
    "\n",
    "\n",
    "fig = pl.figure(plot_width=400, plot_height=400, tools = tool_2)\n",
    "fig.circle(length_beam, weight, size =10)\n",
    "fig.line(length_beam,pred_y, color = \"red\", line_width =4)\n",
    "hover = fig.select(dict(type=HoverTool))\n",
    "hover.tooltips = [(\"xvalue\", \"@x\"), (\"yvalue\", \"@y\")]\n",
    "\n",
    "fig.xaxis.axis_label = \"Length of beam (cm)\"\n",
    "fig.yaxis.axis_label = \"Max Weight (kg)\"\n",
    "show(fig)"
   ]
  },
  {
   "cell_type": "code",
   "execution_count": null,
   "metadata": {},
   "outputs": [],
   "source": []
  }
 ],
 "metadata": {
  "kernelspec": {
   "display_name": "Python 3",
   "language": "python",
   "name": "python3"
  },
  "language_info": {
   "codemirror_mode": {
    "name": "ipython",
    "version": 3
   },
   "file_extension": ".py",
   "mimetype": "text/x-python",
   "name": "python",
   "nbconvert_exporter": "python",
   "pygments_lexer": "ipython3",
   "version": "3.6.4"
  },
  "latex_envs": {
   "LaTeX_envs_menu_present": true,
   "autoclose": true,
   "autocomplete": true,
   "bibliofile": "biblio.bib",
   "cite_by": "apalike",
   "current_citInitial": 1,
   "eqLabelWithNumbers": true,
   "eqNumInitial": 1,
   "hotkeys": {
    "equation": "Ctrl-E",
    "itemize": "Ctrl-I"
   },
   "labels_anchors": false,
   "latex_user_defs": false,
   "report_style_numbering": true,
   "user_envs_cfg": false
  },
  "toc": {
   "base_numbering": 1,
   "nav_menu": {},
   "number_sections": true,
   "sideBar": true,
   "skip_h1_title": false,
   "title_cell": "Table of Contents",
   "title_sidebar": "Contents",
   "toc_cell": false,
   "toc_position": {},
   "toc_section_display": true,
   "toc_window_display": false
  },
  "varInspector": {
   "cols": {
    "lenName": 16,
    "lenType": 16,
    "lenVar": 40
   },
   "kernels_config": {
    "python": {
     "delete_cmd_postfix": "",
     "delete_cmd_prefix": "del ",
     "library": "var_list.py",
     "varRefreshCmd": "print(var_dic_list())"
    },
    "r": {
     "delete_cmd_postfix": ") ",
     "delete_cmd_prefix": "rm(",
     "library": "var_list.r",
     "varRefreshCmd": "cat(var_dic_list()) "
    }
   },
   "types_to_exclude": [
    "module",
    "function",
    "builtin_function_or_method",
    "instance",
    "_Feature"
   ],
   "window_display": false
  }
 },
 "nbformat": 4,
 "nbformat_minor": 2
}
