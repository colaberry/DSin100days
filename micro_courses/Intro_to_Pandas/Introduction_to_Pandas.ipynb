{
 "cells": [
  {
   "cell_type": "markdown",
   "metadata": {},
   "source": [
    "# Intro to Pandas\n",
    "**Pandas** is an open source library that provides easy-to-use data structures and data analysis tools in Python. It is an essential tool that every data scientist working in python needs to know. Python allows for importing data from various formats, it offers two useful labeled array data structures called the Series and the Dataframes.<br>\n",
    "\n",
    "\n",
    "Ref: http://pandas.pydata.org<br>\n",
    "\n",
    "In this micro course, we'll learn how to use pandas. First, let's start with the concepts of \"**Series**\" and \"**Dataframes**\".\n",
    "\n",
    "## Series\n",
    "\n",
    "A series is used for a one-dimensional vector array with labels of each element in the vector as index. A series method can hold any type of data such as integer, scalar value, strings, Python objects, float, array, ndarray, etc.\n",
    "\n",
    "The syntax for creating a series is\n",
    "```python\n",
    "    s = pd.Series(data, index=index)\n",
    "\n",
    "```\n",
    "An example is shown below on how to use the series in a program.\n",
    "\n",
    "```python\n",
    "\n",
    "    import pandas as pd\n",
    "    import numpy as np\n",
    "    list = pd.Series([2, 3, 4, 5, 6, 7])\n",
    "    list\n",
    " \n",
    "    Output:\n",
    " \n",
    "    0    2\n",
    "    1    3\n",
    "    2    4\n",
    "    3    5\n",
    "    4    6\n",
    "    5    7\n",
    "    dtype: int64\n",
    "\n",
    "```\n",
    "\n",
    "An element can be accessed using its index or by its value. \n",
    "\n",
    "## Exercise\n",
    "\n",
    "Assign apple, ball, cat, dog, elephant to a variable ' alphabet', and then access the element using the index for ball.\n",
    "    "
   ]
  },
  {
   "cell_type": "code",
   "execution_count": null,
   "metadata": {},
   "outputs": [],
   "source": [
    "import pandas as pd\n",
    "import numpy as np\n",
    "#write your code below\n"
   ]
  },
  {
   "cell_type": "markdown",
   "metadata": {},
   "source": [
    "## Dataframes\n",
    "\n",
    "Dataframe is defined as a 2-dimensional labeled data structure with columns of potentially different types according to pydata.org. It is similar to a spreadsheet or SQL table, or a dict of Series objects.\n",
    "\n",
    "<img src=\"dataframe.png\" style=\"width: 300px\"> \n",
    "\n",
    "To use pandas library, first you have to import the library and use the functions available in the library\n",
    "\n",
    "```python\n",
    "import pandas as pd\n",
    "import numpy as np\n",
    "pd.DataFrame(np.array([[1, 2, 3], [4, 5, 6], [7, 8, 9]]))\n",
    "```\n",
    "\n",
    "### Description\n",
    "\n",
    "Let us read in a csv file into a dataframe object. The pandas dataframe is so versatile that it can easily read files from url links. \n",
    "\n",
    "You can think of Dataframes to be as important for a Data Scientist as Cutting is for a cook. To be able to learn the various operations is essential for you to be a strong Data Scientist. \n",
    "\n",
    "To understand how dataframe works, let us consider the datasets used by [FiveThirtyEight.com](https://FiveThirtyEight.com) to analyze the earning ecomonics of college majors and to do a midwest states survey.\n",
    "\n",
    "In these examples let us read in a csv file into a dataframe object. The pandas dataframe is so versatile that it can easily read files from url links. \n",
    "\n",
    "### Reading into a Dataframe\n",
    "\n",
    "Dataframes are part of a library called Pandas. One of the versatile features of pandas dataframe is that, it can read the data by just specifying the link in the read_csv() function.\n",
    "\n",
    "One of the useful and fundamental commands that can list the first few rows of the dataframe, is the '**head**' function, which takes in number of rows (default is 5) to be listed in the top-down order. In contrast, '**tail**' function can list the last few rows of the dataframe (default is 5). <br>\n",
    " - List first five rows of the grad_students dataframe using the 'head' function.\n",
    " - List last five rows of the grad_students dataframe using the 'tail' function."
   ]
  },
  {
   "cell_type": "code",
   "execution_count": 1,
   "metadata": {},
   "outputs": [],
   "source": [
    "# Import the library\n",
    "import pandas as pd\n",
    "import numpy as np\n",
    "\n",
    "grad_url = \"https://raw.githubusercontent.com/colaberry/538data/master/college-majors/grad-students.csv\"\n",
    "grad_students = pd.read_csv(grad_url)\n",
    "\n",
    "#Use .head() and .tail() functions\n",
    "#write your code here\n"
   ]
  },
  {
   "cell_type": "markdown",
   "metadata": {},
   "source": [
    "### Using head() or tail() function with a parameter\n",
    "\n",
    "We can pass the number of rows as a parameter to head() or tail() function.\n",
    "\n",
    "## Exercise:\n",
    "\n",
    "- Now, try listing first 7 rows of the midwest_survey dataframe using the head() function and assign it to midwest_sample_head variable.\n",
    "- List last 10 rows of the midwest_survey dataframe using the tail() function and assign it to midwest_sample_tail variable."
   ]
  },
  {
   "cell_type": "code",
   "execution_count": 2,
   "metadata": {},
   "outputs": [],
   "source": [
    "# Import the library\n",
    "import pandas as pd\n",
    "import numpy as np\n",
    "\n",
    "midwest_survey_url = \"https://raw.githubusercontent.com/colaberry/538data/master/region-survey/MIDWEST.csv\"\n",
    "midwest_survey = pd.read_csv(midwest_survey_url)\n",
    "\n",
    "#Insert values in .head() function by passing the number of rows.\n",
    "#write your code below\n"
   ]
  },
  {
   "cell_type": "markdown",
   "metadata": {},
   "source": [
    "### Writing a Dataframe into a csv file\n",
    "\n",
    "To save a dataframe into a csv file 'to_csv' is used. \n",
    "\n",
    "```python\n",
    "    df.to_csv('filename.csv')\n",
    "```    \n",
    "         \n",
    "where df is the name of the dataframe and filename.csv is the name you want your csv file to be named.\n",
    "\n",
    "to_csv uses many arguments using 'sep'\n",
    "\n",
    "```python\n",
    "    df.to_csv(file_name, sep=',')\n",
    "```  \n",
    "As the Dataframe will be in Series form, the output will have indexes and if we want to avoid the indexes to be copied to the csv file, we need to pass 'False' value to the 'index' argument. \n",
    "\n",
    "Here we also define the parameter \"encoding\" as \"utf-8\", which is the default in Python 3. \"utf-8\" is used to encode text in any language, and it's a variable-sized encoding for Unicode. It can use from one to four 8-bit bytes to encode a Unicode code point, while \"ASCII\", the default in Python 2, only uses 7 bits and has more difficulties to store special characters.\n",
    "\n",
    "```python\n",
    "    df.to_csv(file_name, encoding='utf-8', index=False)\n",
    "```\n",
    "\n",
    "## Exercise\n",
    "\n",
    "What is the syntax for writing a dataframe 'grad_students' to a csv file 'gradstudents.csv' without any index values stored in the csv file?\n"
   ]
  },
  {
   "cell_type": "code",
   "execution_count": null,
   "metadata": {},
   "outputs": [],
   "source": [
    "import pandas as pd\n",
    "import numpy as np\n",
    "grad_url = \"https://raw.githubusercontent.com/colaberry/538data/master/college-majors/grad-students.csv\"\n",
    "grad_students = pd.read_csv(grad_url)\n",
    "#write your code below\n"
   ]
  },
  {
   "cell_type": "markdown",
   "metadata": {},
   "source": [
    "\n",
    "## Index Based Selection\n",
    "\n",
    "<img src=\"python_index_based_selection.png\" style=\"width:35vw\">\n",
    "Indices can be used just as in arrays or lists when selection is in a sequence instead of multiple disconnected rows/columns. To extract rows 1 to 4 and columns 4 to 7, you can use:\n",
    "\n",
    "```python\n",
    "grad_students.iloc[0:3, 3:7]\n",
    "```\n",
    "\n",
    "## Exercise:\n",
    "\n",
    "To select all the data in the row or column, you don't need to specify the start and end index numbers, but just the colon. \n",
    "\n",
    " - Filter all rows for columns 2 to 6 and assign to variable grad_row_sample.\n",
    " - Print out the first 5 rows"
   ]
  },
  {
   "cell_type": "code",
   "execution_count": 6,
   "metadata": {},
   "outputs": [],
   "source": [
    "#Use : in the column space\n",
    "# Write your code below\n"
   ]
  },
  {
   "cell_type": "markdown",
   "metadata": {},
   "source": [
    "\n",
    "## Row Selection\n",
    "\n",
    "You could see that the column indices were shown in the head() command. The dataframes are indexed by starting index of 0 on both row and column similar to array indexing. Note that the upper bound is excluded from listing in the output. To list rows from 2 to 4 of a column 'Major':\n",
    "\n",
    "```python\n",
    "grad_students['Major'][1:4]\n",
    "```\n",
    "\n",
    "<img src=\"row_slice.png\" style=\"width:30vw\">\n",
    "\n",
    "## Exercise:\n",
    "\n",
    " - Load rows 2 to 6 of column Major_category and assign it to variable major_category.\n",
    " - print out the variable major_category"
   ]
  },
  {
   "cell_type": "code",
   "execution_count": null,
   "metadata": {},
   "outputs": [],
   "source": [
    "# list rows 2:6 of Major_category\n",
    "#note that the index starts with 0\n",
    "#write your code below\n"
   ]
  },
  {
   "cell_type": "markdown",
   "metadata": {},
   "source": [
    "\n",
    "## Column Selection\n",
    "\n",
    "To list multiple columns use double square brackets. For example, to list Major_category, Grad_share you can use:\n",
    "```python\n",
    "grad_students[['Major_category', 'Grad_share']]\n",
    "```\n",
    "\n",
    "<img src=\"col_slice.png\" style=\"width:25vw\">\n",
    "\n",
    "### Exercise:\n",
    "\n",
    "From the Graduate Students dataset (stored in grad_students):\n",
    " - List columns of Major_code and Grad_employed for rows 4 to 8 and assign it to the variable, grad_students_sample.\n",
    " - print out grad_students_sample"
   ]
  },
  {
   "cell_type": "code",
   "execution_count": null,
   "metadata": {},
   "outputs": [],
   "source": [
    "# Write your code below:\n"
   ]
  },
  {
   "cell_type": "markdown",
   "metadata": {},
   "source": [
    "## Assignments & Comparisons\n",
    "\n",
    "### Adding a new column\n",
    "\n",
    "Adding a new column with values is as easy as a variable assignment. To add a new column of percentage of employed grads:\n",
    "```python\n",
    "grad_students['emp_percent'] = (grad_students.Grad_employed/grad_students.Grad_total) * 100.0\n",
    "```\n",
    "\n",
    "### Renaming a Column\n",
    "\n",
    "Renaming a column is easy by specifying a dictionary of old name as key and new name as value.\n",
    "```python\n",
    "grad_students = grad_students.rename(columns={'Major_category': 'Major_Category'}\n",
    "```\n",
    "\n",
    "### Comparisons\n",
    "\n",
    "To determine those rows where sample size is greater than 200,\n",
    "```python\n",
    "grad_students[grad_students.Grad_sample_size > 200]\n",
    "```\n",
    "\n",
    "## Exercise:\n",
    "\n",
    "List the Major Category of all the data where the employment percentage is greater than 80%.\n",
    "\n",
    " - Assign it to the variable major_emp_data and print it out."
   ]
  },
  {
   "cell_type": "code",
   "execution_count": null,
   "metadata": {},
   "outputs": [],
   "source": [
    "import pandas as pd\n",
    "import numpy as np\n",
    "grad_url = \"https://raw.githubusercontent.com/colaberry/538data/master/college-majors/grad-students.csv\"\n",
    "grad_students = pd.read_csv(grad_url)\n",
    "\n",
    "grad_students['emp_percent'] = (grad_students.Grad_employed/grad_students.Grad_total) * 100.0\n",
    "grad_students\n",
    "#use grad_students.Major_category\n",
    "#Write your code below:\n"
   ]
  },
  {
   "cell_type": "markdown",
   "metadata": {},
   "source": [
    "## Filtering\n",
    "\n",
    "Dataframe has advanced operations that can be used to filter data. To retrieve data about grad students whose major is engineering and employed percentage is above 80,\n",
    "```python\n",
    "grad_students[(grad_students.Major_category == 'Engineering') & (grad_students.emp_percent > 80)]\n",
    "```\n",
    "Similarly you can use OR with the single symbol |. Note that there are no double parameters for comparison as in other languages such as C.\n",
    "\n",
    "\n",
    "## Exercise:\n",
    "\n",
    "List the grad students who are Major in \"Art or Graphic Design\" or \"Engineering\" whose unemployment rate is below 10%. \n",
    "\n",
    " - Assign the result to variable, grad_select_list\n",
    " - Print the value"
   ]
  },
  {
   "cell_type": "code",
   "execution_count": null,
   "metadata": {},
   "outputs": [],
   "source": [
    "# Use | and & to build your command\n",
    "#write your code below:\n"
   ]
  },
  {
   "cell_type": "markdown",
   "metadata": {},
   "source": [
    "\n",
    "## Sorting & Grouping\n",
    "\n",
    "### Sorting\n",
    "\n",
    "To sort a column in a dataframe, you can use sort_values method and specify the column. To sort by \"Grad_sample_size\" in the ascending order in the grad student dataframe:\n",
    "```python\n",
    "grad_students.sort_values(by='Grad_sample_size')\n",
    "# If you want to sort the dataframe by two or more columns, you can define the orders for each column. Here is the example:\n",
    "grad_students.sort_values(by=['Grad_sample_size', 'Grad_employed'], ascending=[True, False])\n",
    "# This will give you the sorted dataframe with ascending 'Grad_sample_size', then descending 'Grad_employed'. \n",
    "\n",
    "```\n",
    "The above sort_values() function can sort a dataframe based on the passed values. While sort_index() function can sort by labels along the given axis. The diffrences between the two functions are that sort_index() is applied on the axis labels rather than the actual data. \n",
    "\n",
    "For example, we can randomly select 10 records from grad_students, then sort by index or columns.\n",
    "```python\n",
    "grad_students_sample = grad_students.sample(10)\n",
    "grad_students_sample.sort_index(axis=0)     # sort by index\n",
    "grad_students_sample.sort_index(axis=1)     # sort by column labels\n",
    "```\n",
    "There’s further power put into your hands by mastering the Pandas “groupby()” functionality. Groupby essentially splits the data into different groups depending on a variable of your choice. For example, the expression data.groupby(‘month’) will split our current DataFrame by month.\n",
    "\n",
    "The groupby() function returns a GroupBy object, but essentially describes how the rows of the original data set has been split. the GroupBy object .groups variable is a dictionary whose keys are the computed unique groups and corresponding values being the axis labels belonging to each group. For example:\n",
    "\n",
    "### Grouping\n",
    "\n",
    "<img src=\"groupbyPython.png\" style=\"width: 35vw\">\n",
    "You can use groupby extension to group by the elements of the column. \n",
    "\n",
    "Example 1:\n",
    "```python\n",
    "grad_students.groupby('Major_category')\n",
    "```\n",
    "Example 2:\n",
    "```python\n",
    "# If you want to group by two or more columns, you can simply use a list:\n",
    "grad_students.groupby(['Major_category','Grad_median'])\n",
    "```\n",
    "The groupby() function will return a GroupBy object, it splits the data into different groups depending on the variables you choose. The first example above splits the dataframe grad_students by 'Major_category'. The second example splits the dataframe by two columns 'Major_category' and 'Grad_median' together.\n",
    "\n",
    "The GroupBy object .groups returns a dictionary whose keys are the computed unique groups and corresponding values being the axis labels, which are index numbers here, belonging to each group.\n",
    "```python\n",
    "grad_students.groupby('Major_category').groups    # returns the dictionary\n",
    "grad_students.groupby('Major_category').groups.keys()    # returns the keys in the above dictionary\n",
    "grad_students.groupby('Major_category').groups.values()    # returns the values in the above dictionary\n",
    "```\n",
    "Functions like first(), last() can be quickly applied to the GroupBy object to obtain first or last entry for each group. For example:\n",
    "```python\n",
    "grad_students.groupby('Major_category').first()    # This gives the first entry for each \"Major_category\".\n",
    "grad_students.groupby(['Major_category', 'Grad_median']).last()     # This gives the last entry for each \"Major_category\" and \"Grad_median\".\n",
    "```\n",
    "\n",
    "## Exercise:\n",
    "\n",
    "You can use max() function to determine the max of any column. For example to determine the max employed graduates:\n",
    "```python\n",
    "grad_students.Grad_employed.max()\n",
    "```\n",
    "Can you determine what is the max graduates employed in each Major category?<br> \n",
    "How to get the total graduates employed for each Major category with the same \"Grad_median\"?\n",
    "\n",
    " - Assign the first result to the variable, grad_cat_max and print it out.\n",
    " - Assign the second result to the variable, grad_cat_sum."
   ]
  },
  {
   "cell_type": "code",
   "execution_count": 8,
   "metadata": {},
   "outputs": [],
   "source": [
    "# Modify the code below, Use groupby before using the max function.\n",
    "grad_cat_max = ''\n",
    "grad_cat_sum = ''\n"
   ]
  },
  {
   "cell_type": "markdown",
   "metadata": {},
   "source": [
    "## Learn more about Pandas\n",
    "\n",
    "In this notebook, we have given you a brief introduction of Pandas. Pandas has a lot more functions that can make your data manipulations easier. This notebook is meant to be a starting point for you to learn Pandas. If you want to be proficient with Pandas and become a data scientist in future, check out our course at https://refactored.ai. Our course on python covers everything from introductory python to pandas, to data visualization, statistics, and machine learning techniques."
   ]
  }
 ],
 "metadata": {
  "kernelspec": {
   "display_name": "Python 3",
   "language": "python",
   "name": "python3"
  },
  "language_info": {
   "codemirror_mode": {
    "name": "ipython",
    "version": 3
   },
   "file_extension": ".py",
   "mimetype": "text/x-python",
   "name": "python",
   "nbconvert_exporter": "python",
   "pygments_lexer": "ipython3",
   "version": "3.7.3"
  },
  "latex_envs": {
   "LaTeX_envs_menu_present": true,
   "autoclose": false,
   "autocomplete": true,
   "bibliofile": "biblio.bib",
   "cite_by": "apalike",
   "current_citInitial": 1,
   "eqLabelWithNumbers": true,
   "eqNumInitial": 1,
   "hotkeys": {
    "equation": "Ctrl-E",
    "itemize": "Ctrl-I"
   },
   "labels_anchors": false,
   "latex_user_defs": false,
   "report_style_numbering": false,
   "user_envs_cfg": false
  },
  "toc": {
   "base_numbering": 1,
   "nav_menu": {},
   "number_sections": false,
   "sideBar": true,
   "skip_h1_title": false,
   "title_cell": "Table of Contents",
   "title_sidebar": "Contents",
   "toc_cell": false,
   "toc_position": {},
   "toc_section_display": true,
   "toc_window_display": false
  },
  "varInspector": {
   "cols": {
    "lenName": 16,
    "lenType": 16,
    "lenVar": 40
   },
   "kernels_config": {
    "python": {
     "delete_cmd_postfix": "",
     "delete_cmd_prefix": "del ",
     "library": "var_list.py",
     "varRefreshCmd": "print(var_dic_list())"
    },
    "r": {
     "delete_cmd_postfix": ") ",
     "delete_cmd_prefix": "rm(",
     "library": "var_list.r",
     "varRefreshCmd": "cat(var_dic_list()) "
    }
   },
   "types_to_exclude": [
    "module",
    "function",
    "builtin_function_or_method",
    "instance",
    "_Feature"
   ],
   "window_display": false
  }
 },
 "nbformat": 4,
 "nbformat_minor": 2
}
