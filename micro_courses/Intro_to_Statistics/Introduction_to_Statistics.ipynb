{
 "cells": [
  {
   "cell_type": "markdown",
   "metadata": {},
   "source": [
    "# Intro to Statistics\n",
    "\n",
    "Before we learn any machine learning techniques, the first thing is to understand the basics of Statistics. It is like the foundation of data science.\n",
    "\n",
    "In order for us to apply anything in statistics we first need to speak the language of statistics.  With that in mind, in this notebook we are going to cover the following core concepts and vocabulary - <br>\n",
    "\n",
    "<li>Basic definitions - Population and sampling  </li>\n",
    "<li>Sampling distributions</li> \n",
    "<li>Standard Error   </li>\n",
    "\n",
    "\n",
    "## Basic Definitions- Population and Sampling \n",
    "\n",
    "One of the most important concepts to understand in statistics is the concept of population. \n",
    "\n",
    "A population is typically a collection of information with at least one property being in common. For this lets take a simple example- take for example a dataset of people's weights.  We will call this population P. Let's say P is - <br>\n",
    "\n",
    "[87,343,43,45,24,234,24,25,53,93] all in the units of pounds   <br>\n",
    "\n",
    "A single number in the population P is called an element. In population P, the common property between each element is that each element represents the weight of a person. Without this similarity, it would be difficult for us to make any use of a population, since we have nothing in common between each element of the population.\n",
    "\n",
    "Let us now go to a more complex example. Time to go to our old friend - the iris dataset. "
   ]
  },
  {
   "cell_type": "code",
   "execution_count": 2,
   "metadata": {
    "ExecuteTime": {
     "end_time": "2020-05-22T13:22:51.233669Z",
     "start_time": "2020-05-22T13:22:48.934983Z"
    }
   },
   "outputs": [
    {
     "name": "stdout",
     "output_type": "stream",
     "text": [
      "The size of the iris dataset is: 150 elements long\n"
     ]
    },
    {
     "data": {
      "text/html": [
       "<div>\n",
       "<style scoped>\n",
       "    .dataframe tbody tr th:only-of-type {\n",
       "        vertical-align: middle;\n",
       "    }\n",
       "\n",
       "    .dataframe tbody tr th {\n",
       "        vertical-align: top;\n",
       "    }\n",
       "\n",
       "    .dataframe thead th {\n",
       "        text-align: right;\n",
       "    }\n",
       "</style>\n",
       "<table border=\"1\" class=\"dataframe\">\n",
       "  <thead>\n",
       "    <tr style=\"text-align: right;\">\n",
       "      <th></th>\n",
       "      <th>sepal length (cm)</th>\n",
       "      <th>sepal width (cm)</th>\n",
       "      <th>petal length (cm)</th>\n",
       "      <th>petal width (cm)</th>\n",
       "    </tr>\n",
       "  </thead>\n",
       "  <tbody>\n",
       "    <tr>\n",
       "      <th>0</th>\n",
       "      <td>5.1</td>\n",
       "      <td>3.5</td>\n",
       "      <td>1.4</td>\n",
       "      <td>0.2</td>\n",
       "    </tr>\n",
       "    <tr>\n",
       "      <th>1</th>\n",
       "      <td>4.9</td>\n",
       "      <td>3.0</td>\n",
       "      <td>1.4</td>\n",
       "      <td>0.2</td>\n",
       "    </tr>\n",
       "    <tr>\n",
       "      <th>2</th>\n",
       "      <td>4.7</td>\n",
       "      <td>3.2</td>\n",
       "      <td>1.3</td>\n",
       "      <td>0.2</td>\n",
       "    </tr>\n",
       "    <tr>\n",
       "      <th>3</th>\n",
       "      <td>4.6</td>\n",
       "      <td>3.1</td>\n",
       "      <td>1.5</td>\n",
       "      <td>0.2</td>\n",
       "    </tr>\n",
       "    <tr>\n",
       "      <th>4</th>\n",
       "      <td>5.0</td>\n",
       "      <td>3.6</td>\n",
       "      <td>1.4</td>\n",
       "      <td>0.2</td>\n",
       "    </tr>\n",
       "  </tbody>\n",
       "</table>\n",
       "</div>"
      ],
      "text/plain": [
       "   sepal length (cm)  sepal width (cm)  petal length (cm)  petal width (cm)\n",
       "0                5.1               3.5                1.4               0.2\n",
       "1                4.9               3.0                1.4               0.2\n",
       "2                4.7               3.2                1.3               0.2\n",
       "3                4.6               3.1                1.5               0.2\n",
       "4                5.0               3.6                1.4               0.2"
      ]
     },
     "execution_count": 2,
     "metadata": {},
     "output_type": "execute_result"
    }
   ],
   "source": [
    "from sklearn import datasets\n",
    "import pandas as pd \n",
    "\n",
    "iris = datasets.load_iris()\n",
    "iris_dataframe = pd.DataFrame(data = iris.data, columns=iris.feature_names)\n",
    "print(\"The size of the iris dataset is:\",len(iris_dataframe), \"elements long\")\n",
    "iris_dataframe.head()"
   ]
  },
  {
   "cell_type": "markdown",
   "metadata": {},
   "source": [
    "Question: If we consider the iris dataset as a population, what do you think would be the common property of the population? What would you consider as a single element of the population? \n",
    "\n",
    "Answer: The common property within the iris dataset is the flower measurements. Each row of the data has the same features- [sepal length , sepal width , petal length, petal width ]. We can safely assume that each entry in this dataset corresponds to the measurements of a flower. That also answers our section question- unlike the weights dataset, where a single number was the element of the population, here a single row of the dataset is a single element of the population. \n",
    "\n",
    "Now that we have defined a population, we can start talking about sampling. Let us go back to our population P. We can break our population into smaller group of numbers. This process is called sampling. For example, from P if we pick two elements such that <br> \n",
    "\n",
    "P = [87,343,43,45,24,234,24,25,53,93] <br>\n",
    "Q  = [24, 53]\n",
    "\n",
    "In statistical language we would say that Q is a sample of the population P. This is because Q contains a few elements of the population P. \n",
    "\n",
    "Let us look at another example that may help you visualize this. Let us suppose there are 100 balls in a bucket. These 100 balls in the bucket would be the population. Selecting 20 balls from that bucket is the process of sampling from the population, and the collection of 20 balls would be called a sample of the population. \n",
    "\n",
    "So the process of sampling from the population can be done in really two ways- Random sampling and Non-random sampling.  Random sampling is when we pick sample from the population at random. What we did previously in generating Q was an example of random sampling, where we just decided, let us pick two elements from the population and create the sample Q. The point is that there was no bias in picking those numbers. We did not, for example, pick two numbers just because they were next to each other. Nor did we say that we pick the largest number and the smallest number and generate a sample out of them, that would be an example of non-random sampling. \n",
    "\n",
    "How would you do Random sampling on a computer? - In case of P we would assign an index to each element of the population and then use a random number generator to generate two random numbers. Pull those values for those indicies and viola, we would have our set. \n",
    "\n",
    "Let us try this with P - For this exercise we will introduce the python package called random. This package, amongst other rather invaluable functions, lets us generate random numbers.\n"
   ]
  },
  {
   "cell_type": "code",
   "execution_count": 12,
   "metadata": {
    "ExecuteTime": {
     "end_time": "2018-12-05T22:09:36.003655Z",
     "start_time": "2018-12-05T22:09:35.983698Z"
    }
   },
   "outputs": [
    {
     "name": "stdout",
     "output_type": "stream",
     "text": [
      "randomly generated indices  3 10\n",
      "The sample Q of the poplution P is [43, 93]\n"
     ]
    }
   ],
   "source": [
    "import random\n",
    "\n",
    "P = [87,343,43,45,24,234,24,25,53,93] \n",
    "\n",
    "# we can assign a index to each element of P. In some way, since its a list, its already indexed. \n",
    "# For example 87 is the 1st element of P,  343 is the 2nd element, 43 is the 3rd element and so on \n",
    "# So lets start by generating two random numbers between 1 and 10. \n",
    "\n",
    "random.seed(1)\n",
    "index_1 =  random.randint(1,10)\n",
    "index_2  = random.randint(1,10)\n",
    "\n",
    "print(\"randomly generated indices \", index_1, index_2)\n",
    "\n",
    "# note these numbers will change if you change the random seed. \n",
    "#If you dont provide a random seed you will not be able to generate the same random numbers \n",
    "#Now that we have the random numbers, lets build a sample from our population. \n",
    "\n",
    "Q = [ P[index_1-1],  P[index_2-1]] \n",
    "\n",
    "print(\"The sample Q of the poplution P is\",  Q )\n",
    "\n",
    "# you can change the seed value to generate new samples of population P \n"
   ]
  },
  {
   "cell_type": "markdown",
   "metadata": {},
   "source": [
    "#### The 'Pythonic' way\n",
    "\n",
    "Of course since you are using python, there is always a clever and lazy way of doing this which is to use the sample function in \"random\" library"
   ]
  },
  {
   "cell_type": "code",
   "execution_count": 13,
   "metadata": {
    "ExecuteTime": {
     "end_time": "2018-12-05T22:09:36.829962Z",
     "start_time": "2018-12-05T22:09:36.822996Z"
    }
   },
   "outputs": [
    {
     "data": {
      "text/plain": [
       "[343, 24]"
      ]
     },
     "execution_count": 13,
     "metadata": {},
     "output_type": "execute_result"
    }
   ],
   "source": [
    "# here first value is the popluation and second value is the number of elements in the sample\n",
    "random.sample(P,2)   "
   ]
  },
  {
   "cell_type": "markdown",
   "metadata": {},
   "source": [
    "#### Exercise\n",
    "\n",
    "Question :  Now that we have seen how to generate random samples from a datasets, can you generate 5 random samples from the population P?"
   ]
  },
  {
   "cell_type": "code",
   "execution_count": null,
   "metadata": {},
   "outputs": [],
   "source": [
    "# generate random samples\n",
    "sample1 =  random.sample(P,2)\n",
    "sample2 =  random.sample(P,2)\n",
    "sample3 =  random.sample(P,2)\n",
    "sample4 =  random.sample(P,2)\n",
    "sample5 =  random.sample(P,2)"
   ]
  },
  {
   "cell_type": "markdown",
   "metadata": {},
   "source": [
    "Now that you know how to randomly sample from population P lets try to see if you can do the same with the iris dataset. Keep in mind that the iris dataset is NOT a list, its a pandas dataframe. As a reminder, Just run type(iris_dataframe) to check its type.\n",
    "\n",
    "### Exercise\n",
    "\n",
    "Question: Can you randomly sample the iris_dataframe?"
   ]
  },
  {
   "cell_type": "code",
   "execution_count": 25,
   "metadata": {
    "ExecuteTime": {
     "end_time": "2018-12-05T22:09:38.414875Z",
     "start_time": "2018-12-05T22:09:38.402901Z"
    }
   },
   "outputs": [
    {
     "data": {
      "text/html": [
       "<div>\n",
       "<style scoped>\n",
       "    .dataframe tbody tr th:only-of-type {\n",
       "        vertical-align: middle;\n",
       "    }\n",
       "\n",
       "    .dataframe tbody tr th {\n",
       "        vertical-align: top;\n",
       "    }\n",
       "\n",
       "    .dataframe thead th {\n",
       "        text-align: right;\n",
       "    }\n",
       "</style>\n",
       "<table border=\"1\" class=\"dataframe\">\n",
       "  <thead>\n",
       "    <tr style=\"text-align: right;\">\n",
       "      <th></th>\n",
       "      <th>sepal length (cm)</th>\n",
       "      <th>sepal width (cm)</th>\n",
       "      <th>petal length (cm)</th>\n",
       "      <th>petal width (cm)</th>\n",
       "    </tr>\n",
       "  </thead>\n",
       "  <tbody>\n",
       "    <tr>\n",
       "      <th>14</th>\n",
       "      <td>5.8</td>\n",
       "      <td>4.0</td>\n",
       "      <td>1.2</td>\n",
       "      <td>0.2</td>\n",
       "    </tr>\n",
       "    <tr>\n",
       "      <th>98</th>\n",
       "      <td>5.1</td>\n",
       "      <td>2.5</td>\n",
       "      <td>3.0</td>\n",
       "      <td>1.1</td>\n",
       "    </tr>\n",
       "  </tbody>\n",
       "</table>\n",
       "</div>"
      ],
      "text/plain": [
       "    sepal length (cm)  sepal width (cm)  petal length (cm)  petal width (cm)\n",
       "14                5.8               4.0                1.2               0.2\n",
       "98                5.1               2.5                3.0               1.1"
      ]
     },
     "execution_count": 25,
     "metadata": {},
     "output_type": "execute_result"
    }
   ],
   "source": [
    "df_sample = iris_dataframe.sample(n=2,random_state=1)\n",
    "df_sample.head()"
   ]
  },
  {
   "cell_type": "markdown",
   "metadata": {},
   "source": [
    "In the above code, argument n is the number of elements in the sample and the the random_state helps us fix the sequence of random numbers that are being generated. This is fairly useful feature, especially when you want to test our certain approaches on the sample elements of a dataset. The random_state argument is equivalent to the seed function in the \"random\" library  \n",
    "\n",
    "Of course, there is no reason that our sample has to be 2 units large, we can have samples of various sizes. In case of the iris set, just change the value of \"n\" and you can generate samples of whatever length you desire. \n",
    "\n",
    "Question : One question to ponder over would be, what is the largest sample that you can pull from a population. So given the iris dataset, what would be the size of the largest sample?\n",
    "\n",
    "Answer: This is actually a super interesting question. The answer to this question leads us nicely to our next topic of discussion. To answer this lets actually try it out. So the iris dataset is 150 elements long. When we type in \"n =151\" we get an interesting error."
   ]
  },
  {
   "cell_type": "code",
   "execution_count": 6,
   "metadata": {
    "ExecuteTime": {
     "end_time": "2020-05-22T13:23:31.701509Z",
     "start_time": "2020-05-22T13:23:31.676521Z"
    }
   },
   "outputs": [
    {
     "data": {
      "text/html": [
       "<div>\n",
       "<style scoped>\n",
       "    .dataframe tbody tr th:only-of-type {\n",
       "        vertical-align: middle;\n",
       "    }\n",
       "\n",
       "    .dataframe tbody tr th {\n",
       "        vertical-align: top;\n",
       "    }\n",
       "\n",
       "    .dataframe thead th {\n",
       "        text-align: right;\n",
       "    }\n",
       "</style>\n",
       "<table border=\"1\" class=\"dataframe\">\n",
       "  <thead>\n",
       "    <tr style=\"text-align: right;\">\n",
       "      <th></th>\n",
       "      <th>sepal length (cm)</th>\n",
       "      <th>sepal width (cm)</th>\n",
       "      <th>petal length (cm)</th>\n",
       "      <th>petal width (cm)</th>\n",
       "    </tr>\n",
       "  </thead>\n",
       "  <tbody>\n",
       "    <tr>\n",
       "      <th>15</th>\n",
       "      <td>5.7</td>\n",
       "      <td>4.4</td>\n",
       "      <td>1.5</td>\n",
       "      <td>0.4</td>\n",
       "    </tr>\n",
       "    <tr>\n",
       "      <th>72</th>\n",
       "      <td>6.3</td>\n",
       "      <td>2.5</td>\n",
       "      <td>4.9</td>\n",
       "      <td>1.5</td>\n",
       "    </tr>\n",
       "    <tr>\n",
       "      <th>22</th>\n",
       "      <td>4.6</td>\n",
       "      <td>3.6</td>\n",
       "      <td>1.0</td>\n",
       "      <td>0.2</td>\n",
       "    </tr>\n",
       "    <tr>\n",
       "      <th>43</th>\n",
       "      <td>5.0</td>\n",
       "      <td>3.5</td>\n",
       "      <td>1.6</td>\n",
       "      <td>0.6</td>\n",
       "    </tr>\n",
       "    <tr>\n",
       "      <th>75</th>\n",
       "      <td>6.6</td>\n",
       "      <td>3.0</td>\n",
       "      <td>4.4</td>\n",
       "      <td>1.4</td>\n",
       "    </tr>\n",
       "    <tr>\n",
       "      <th>...</th>\n",
       "      <td>...</td>\n",
       "      <td>...</td>\n",
       "      <td>...</td>\n",
       "      <td>...</td>\n",
       "    </tr>\n",
       "    <tr>\n",
       "      <th>90</th>\n",
       "      <td>5.5</td>\n",
       "      <td>2.6</td>\n",
       "      <td>4.4</td>\n",
       "      <td>1.2</td>\n",
       "    </tr>\n",
       "    <tr>\n",
       "      <th>36</th>\n",
       "      <td>5.5</td>\n",
       "      <td>3.5</td>\n",
       "      <td>1.3</td>\n",
       "      <td>0.2</td>\n",
       "    </tr>\n",
       "    <tr>\n",
       "      <th>40</th>\n",
       "      <td>5.0</td>\n",
       "      <td>3.5</td>\n",
       "      <td>1.3</td>\n",
       "      <td>0.3</td>\n",
       "    </tr>\n",
       "    <tr>\n",
       "      <th>102</th>\n",
       "      <td>7.1</td>\n",
       "      <td>3.0</td>\n",
       "      <td>5.9</td>\n",
       "      <td>2.1</td>\n",
       "    </tr>\n",
       "    <tr>\n",
       "      <th>19</th>\n",
       "      <td>5.1</td>\n",
       "      <td>3.8</td>\n",
       "      <td>1.5</td>\n",
       "      <td>0.3</td>\n",
       "    </tr>\n",
       "  </tbody>\n",
       "</table>\n",
       "<p>151 rows × 4 columns</p>\n",
       "</div>"
      ],
      "text/plain": [
       "     sepal length (cm)  sepal width (cm)  petal length (cm)  petal width (cm)\n",
       "15                 5.7               4.4                1.5               0.4\n",
       "72                 6.3               2.5                4.9               1.5\n",
       "22                 4.6               3.6                1.0               0.2\n",
       "43                 5.0               3.5                1.6               0.6\n",
       "75                 6.6               3.0                4.4               1.4\n",
       "..                 ...               ...                ...               ...\n",
       "90                 5.5               2.6                4.4               1.2\n",
       "36                 5.5               3.5                1.3               0.2\n",
       "40                 5.0               3.5                1.3               0.3\n",
       "102                7.1               3.0                5.9               2.1\n",
       "19                 5.1               3.8                1.5               0.3\n",
       "\n",
       "[151 rows x 4 columns]"
      ]
     },
     "execution_count": 6,
     "metadata": {},
     "output_type": "execute_result"
    }
   ],
   "source": [
    "iris_dataframe.sample(n=151, random_state=2,replace=True)"
   ]
  },
  {
   "cell_type": "markdown",
   "metadata": {},
   "source": [
    "Let us read this error carefully. Firstly this is a value error, which means that some number stored with in sample function is wrong, secondly we know that the error is in the sample function since...well python tells us so.  The value error also gives us a suggestion- \"Cannot take a larger sample than population when 'replace=False'\". What is this whole business of setting \"replace = False\".\n",
    "\n",
    "## Sampling with and without replacement \n",
    "\n",
    "So as we take  random samples from a population there are two ways that we can do it- <br> \n",
    "\n",
    "<li>With replacement - where we add elements of the same value back into population <\\li>\n",
    "<li>Without replacement-  where once we remove them from the population we do not replace the elements <\\li>\n",
    "    \n",
    "So for example going back to our population P, when we create the sample Q from P, we were doing that with replacement. What we did was we took out two elements from P and put back the same elements, at the same spot, back into P. The second part of that statement is super important. We put the elements back at the same spot. We did NOT change the order of the the elements in the population. This is an essentially trait of the with replacement process. \n",
    " \n",
    "If we do this without replacement, we would end up with something like this - \n",
    "\n",
    "P = [87,343,43,45,234,24,25,93]  Q = [24, 53]\n",
    "\n",
    "Now there are just 8 elements in P, since we have removed two elements from P and formed the sample Q. Since P is a finite dataset, there are only so many times that we can sample from P. In this case basically about 5 times. Beyond that, we can sample it since P will be empty, i.e it becomes a null set. \n",
    "\n",
    "Now here is a fun question to think about - \n",
    "\n",
    "Question:  What happens if you sample with replacement from an infinite dataset, for example- collection of all real numbers? \n",
    "\n",
    "Answer: This is where an already definition of with and without replacement comes in. We can say that with replacement essentially lets us choose an element of a population infinite number of times whereas without replacement lets us choose that number only once. \n",
    "\n",
    "Another thing to keep in mind is that population can themselves be finite or infinite. As we alluded to above, P is an finite population. The collection of all real numbers is an infinite population. \n",
    "\n",
    "Question: Is the collection of all coin tosses a finite or infinite population? \n",
    "\n",
    "Answer: All coin tosses would be an infinite population since I can keep tossing coins forever. The thing is that I really cannot count how many coins are there and how many times have I tossed them. Now If I fix the number of times I toss a coin and the number of coins I am tossing then its finite, BUT that is a sample of an infinite population which represent all coin tosses. Its a mind bender if you really think about it! \n",
    "\n",
    "## Sampling Distributions\n",
    "\n",
    "So far we have been talking about sampling from a population and samples. The reason we care about samples is because most of the time in real life we can get information about population. For example, if we want to study the problem of obesity in the world, there are only so many people whose weights we can know. We can go to every hospital in the world, collect all the data about patients, even then we would not have the information about everyone. Its just not feasible of to do so. At best we are going to have data of about 80% or 90% of all the people in the world. In the language of statistics, we would essentially have a sample whose size is 80% or 90% the size of the population. \n",
    "\n",
    "Once we have a sample we can do various measurements on the sample. These measurements (or more formally referred to as measures ) are called statistics. For example the mean of sample would be a type of \"statistic\", other examples of measures are-standard deviation, standard error. We will look at some of these in a little while. \n",
    "\n",
    "Since we do not always have access to population, the measurements we make on the sample, we say, is representative of the measurements we make on the population. This leads to the idea that sample is representative of the population. Of course, it is our responsibility to ensure that the sample large enough represent the population. A sample size of 1 element would not be a a representation of the population. \n",
    "\n",
    "In order to discuss sampling distribution, let us look at a finite population where we randomly sample with replacement. \n",
    "\n",
    "Lets do this with the iris dataset, suppose we take N samples from the iris dataset, and then take means of each sample. We can plot these means in an distribution, such a distribution is called a sampling distribution. More specifically this would be a sampling distribution of means.\n",
    "\n",
    "We will make things easier by just looking at 1 feature (i.e column) of the iris dataset. In the visualization below we can select for which column of the dataset we want the sampling distribution of means. We also have slider that controls the number number of times we are sampling from the population and the sample size as well."
   ]
  },
  {
   "cell_type": "code",
   "execution_count": 32,
   "metadata": {
    "ExecuteTime": {
     "end_time": "2018-12-05T22:17:09.506425Z",
     "start_time": "2018-12-05T22:17:09.352838Z"
    }
   },
   "outputs": [
    {
     "data": {
      "application/vnd.jupyter.widget-view+json": {
       "model_id": "ee04d434d9494e4295ffafe5eb47f111",
       "version_major": 2,
       "version_minor": 0
      },
      "text/plain": [
       "interactive(children=(RadioButtons(description='Iris Column', options=('sepal length (cm)', 'sepal width (cm)'…"
      ]
     },
     "metadata": {},
     "output_type": "display_data"
    },
    {
     "data": {
      "text/plain": [
       "<function __main__.bin_count_variation(x, ssize, nsamples)>"
      ]
     },
     "execution_count": 32,
     "metadata": {},
     "output_type": "execute_result"
    }
   ],
   "source": [
    "# we can generate histograms using the numpy function called histogram.\n",
    "# Useful little function it is! cool isn't it! \n",
    "\n",
    "def for_column(x,ssize, nsamples): \n",
    "    \n",
    "    \n",
    "    population  = iris_dataframe[x]\n",
    "    samples = []\n",
    "    means= [] \n",
    "    \n",
    "    for i in range(0,nsamples):\n",
    "        single_sample =population.sample(n = ssize) \n",
    "        samples.append(single_sample) \n",
    "        means.append(single_sample.mean())\n",
    "\n",
    "    \n",
    "        \n",
    "    return x,means\n",
    "\n",
    "\n",
    "def bin_count_variation(x, ssize, nsamples):\n",
    "    x,means = for_column(x,ssize, nsamples)\n",
    "    counts,sample_means= np.histogram(means,20)\n",
    "    normalized_counts = counts/sum(counts)\n",
    "    \n",
    "    data = [go.Bar( x=sample_means, y=normalized_counts)]\n",
    "    layout = go.Layout(title=\"Sampling distribution of mean\", xaxis = {\"title\": \"Sample means\",\n",
    "                                                                        \"range\": [0,8]}\n",
    "                                                            , yaxis= {\"title\": \"Count\" ,         \n",
    "                                                                       \"range\": [0,0.3]         \n",
    "                                                                                })\n",
    "    figure = go.Figure(data = data, layout = layout)\n",
    "    iplot(figure,filename = \"sampling distribution of mean\")\n",
    "    \n",
    "    return \n",
    "\n",
    "\n",
    "\n",
    "\n",
    "interact(bin_count_variation,\n",
    "        x=  widgets.RadioButtons(options=[x for x in  iris_dataframe.columns] ,\n",
    "            description='Iris Column',\n",
    "            disabled=False\n",
    "            ),  \n",
    "        ssize=widgets.IntSlider(min=5,max=30,step=1,value=10, description = \"Sample_size\", continuous_update =False), \n",
    "        nsamples=widgets.IntSlider(min=10,max=10000,step=1,value=10, description = \"Num of samples\", continuous_update =False), continuous_update =False)\n",
    "\n"
   ]
  },
  {
   "cell_type": "markdown",
   "metadata": {
    "ExecuteTime": {
     "end_time": "2018-12-04T21:18:48.233160Z",
     "start_time": "2018-12-04T21:18:48.194295Z"
    }
   },
   "source": [
    "\n",
    "Question : \n",
    "Next let us do some fun sanity check with our sampling distribution. Can you calculate the mean of the the sampling distribution of the mean. Compare it with the mean of the population? \n",
    "Now this is a hard question so let me break it down a bit. What you have to do first is - \n",
    "\n",
    "1) Calculate the sample distribution of means  <br>\n",
    "2) Find the mean of sample distribution <br>\n",
    "3) Calculate the mean of the full population i.e the column from which you are calculating the sample distribution of means<br>\n",
    "\n",
    "So for this purpose I would just pick the first column which is sepal length\n",
    "\n",
    "\n",
    "\n"
   ]
  },
  {
   "cell_type": "code",
   "execution_count": 36,
   "metadata": {
    "ExecuteTime": {
     "end_time": "2018-12-05T20:27:16.997653Z",
     "start_time": "2018-12-05T20:27:16.978670Z"
    }
   },
   "outputs": [
    {
     "name": "stdout",
     "output_type": "stream",
     "text": [
      " mean of the sample distribution  5.784 \n",
      " mean of the popluation 5.843333333333335\n"
     ]
    }
   ],
   "source": [
    "sepal_length_population  = iris_dataframe[\"sepal length (cm)\"]\n",
    "samples = []\n",
    "means= [] \n",
    "sample_size =5 \n",
    "times_sample = int(len(sepal_length_population)/ sample_size)\n",
    "\n",
    "for i in range(0,times_sample):\n",
    "    single_sample =sepal_length_population.sample(n = 5, replace=\"False\") \n",
    "    samples.append(single_sample) \n",
    "    means.append(single_sample.mean())\n",
    "\n",
    "\n",
    "print(\" mean of the sample distribution \", np.mean(means), \"\\n mean of the popluation\",  sepal_length_population.mean()) \n",
    "\n"
   ]
  },
  {
   "cell_type": "markdown",
   "metadata": {
    "ExecuteTime": {
     "end_time": "2018-12-05T17:10:20.692993Z",
     "start_time": "2018-12-05T17:10:20.685983Z"
    }
   },
   "source": [
    "The above code we see that there is a small difference between the sample distribution mean and the population mean. So this is because of how we are sampling. Suppose we divide the population exactly N number of samples, take the mean of those samples which will give us a sampling distribution of means and then take the mean of that, it will give us the population mean. \n"
   ]
  },
  {
   "cell_type": "code",
   "execution_count": 37,
   "metadata": {
    "ExecuteTime": {
     "end_time": "2018-12-05T20:27:19.166054Z",
     "start_time": "2018-12-05T20:27:19.159074Z"
    }
   },
   "outputs": [
    {
     "name": "stdout",
     "output_type": "stream",
     "text": [
      " mean of the sample distribution  5.843333333333334 \n",
      " mean of the popluation 5.843333333333335\n"
     ]
    }
   ],
   "source": [
    "df_split = np.array_split(sepal_length_population, 5)\n",
    "sampling_dist_mean= [x.mean() for x in df_split]\n",
    "print(\" mean of the sample distribution \", np.mean(sampling_dist_mean), \"\\n mean of the popluation\",  sepal_length_population.mean()) \n"
   ]
  },
  {
   "cell_type": "markdown",
   "metadata": {},
   "source": [
    "Honestly that is pretty clumsy to state all that we have stated in words so let us do this with notation. For example our whole statement  \"mean of population is the same as the mean of the sampling distribution\" idea can be easily written down as- \n",
    "<br>\n",
    "<br>\n",
    "$$ { \\overline \\mu}= {\\mu}_P $$\n",
    "<br>\n",
    "<br>\n",
    "\n",
    "where <br>\n",
    "${\\mu}_P$  -  is the mean of the population <br>\n",
    "$ \\overline {\\mu}$ - is the mean of the sampling distribution  \n",
    "\n",
    "\n",
    "## Standard error\n",
    "\n",
    "So far we have been speaking a single statistic and its sampling distribution- mean $\\mu$. There are other statistics that we can define, for example - we can draw a sampling distribution of proportions where are proportion is the number of success in a trail. For example, think of coin flip, were in a sample we take a ratio of successes and failures. But we are not going to go into that since thats beyond the scope of what we want to talk about here. We would encourage you to explore that further on your own. \n",
    "\n",
    "What we would want to take away from the above is that the idea of a sampling distribution is not specific to just mean as a statistic. Other statistics could also be used. That leads to us to our next idea. We can get the error for a given statistics by simply looking at the standard deviation of the sampling distribution- \n",
    "\n",
    "the standard deviation of the population is proportional to the standard error of the sampling distribution for a given statistic\n",
    "\n",
    "For the statistic mean, the standard error is - \n",
    "\n",
    "$$  \\overline \\sigma = \\dfrac{ \\sigma_P}{\\sqrt{n}}  $$\n",
    "\n",
    "<br>\n",
    "<br>\n",
    "\n",
    "where <br>\n",
    "$ \\overline{\\sigma}$  -  is known as the standard error of the population <br>\n",
    "$  {\\sigma}_P$ - is the standard deviation of the sampling distribution <br>\n",
    "$n$ is the sample size NOT the size of the population!\n",
    "\n",
    "So yeah we defined standard error, but why do we care? The reason we care is that the standard error helps us put error on a give measurement. So lets actually do this. \n",
    "\n",
    "Question: Calculate the standard error of sampling distribution of the mean for sepal length? \n"
   ]
  },
  {
   "cell_type": "code",
   "execution_count": 38,
   "metadata": {
    "ExecuteTime": {
     "end_time": "2018-12-05T20:37:46.774410Z",
     "start_time": "2018-12-05T20:37:46.768424Z"
    }
   },
   "outputs": [
    {
     "name": "stdout",
     "output_type": "stream",
     "text": [
      "standard error of the sampling distribution of mean-  0.37032243040470836\n"
     ]
    }
   ],
   "source": [
    "# answer \n",
    "# for a given sample size of 5 the standard error will be \n",
    "sepal_length_population  = iris_dataframe[\"sepal length (cm)\"]\n",
    "print(\"standard error of the sampling distribution of mean- \", sepal_length_population.std()/np.sqrt(5)) \n"
   ]
  },
  {
   "cell_type": "markdown",
   "metadata": {},
   "source": [
    "Easy right, now we can do this another way. <br>\n",
    "Question: Generate the sampling distribution of mean for sepal length and take its std dev? use a large number of samples like 10000 also make sure that you set replace=\"True\" since we want to sample with replacement. The large number of samples helps us generate a smoother distribution. Wait why do we need a smoother distribution? \n"
   ]
  },
  {
   "cell_type": "code",
   "execution_count": 39,
   "metadata": {
    "ExecuteTime": {
     "end_time": "2018-12-05T20:40:13.145131Z",
     "start_time": "2018-12-05T20:40:11.677300Z"
    }
   },
   "outputs": [
    {
     "name": "stdout",
     "output_type": "stream",
     "text": [
      "standard deviation of the sampling distribution of mean-  0.36754974071545743\n"
     ]
    }
   ],
   "source": [
    "sepal_length_population  = iris_dataframe[\"sepal length (cm)\"]\n",
    "samples = []\n",
    "means= [] \n",
    "sample_size =5\n",
    "times_sample = 10000\n",
    "\n",
    "for i in range(0,times_sample):\n",
    "    single_sample =sepal_length_population.sample(n = sample_size, replace=\"True\") \n",
    "    samples.append(single_sample) \n",
    "    means.append(single_sample.mean())\n",
    "\n",
    "\n",
    "# means is the sampling disribution of means \n",
    "print(\"standard deviation of the sampling distribution of mean- \", np.std(means)) \n"
   ]
  },
  {
   "cell_type": "markdown",
   "metadata": {
    "ExecuteTime": {
     "end_time": "2018-12-05T20:28:30.234472Z",
     "start_time": "2018-12-05T20:28:30.227491Z"
    }
   },
   "source": [
    "If you compare the answers for the last two questions, you will find that that the answers are really really close. This is because, in essence what you have shown is- the standard deviation of the sampling distribution of mean is the same as the standard error. \n",
    "Oh I did not answer the second question. I really do want you to think about it! \n",
    "\n",
    "BUT WHY IS IT IMPORTANT? \n",
    "\n",
    "Here comes the super important part. See in the above case that we knew what the population was. Many times when you collect data, you do not know what the population mean or the population standard deviation is. Actually this will almost always be the case. If I ask you to find the standard deviation of the age of all children in world, you can't do that. You can however pull samples, calculate a sampling distribution of the mean, take its standard deviation  and then multiply it with $\\sqrt(n)$ where $n$ is your sample size and get that standard deviation. We infer information about the population from the data we have about samples. That is the power of statistics! \n",
    "\n",
    "\n",
    "## Finite population correction factor\n",
    "\n",
    "   There is one small addendum to all standard error calculation that we have done. That is to include the idea of finite population correction factor. So whenever the sample size $n$ is greater than 5% of the total population size then we include the finite population of correction factor when we calculate the standard error - \n",
    "   \n",
    "  $$   \n",
    "   \\overline \\sigma = \\dfrac{ \\sigma_P}{\\sqrt{n}}\\sqrt{\\dfrac{N_P - n }{N_P - 1} }\n",
    "  $$\n",
    "  \n",
    " \n",
    "  \n",
    "where -\n",
    "<br>\n",
    "<br>\n",
    "<br>\n",
    "$ \\overline{\\sigma}$  -  is known as the standard error of the population <br>\n",
    "$  {\\sigma}_P$ - is the standard deviation of the sampling distribution <br>\n",
    "$n$ is the sample size\n",
    "$N_P$ is the population size \n",
    "\n",
    "In the above equation,  factor of  $\\sqrt{\\dfrac{N_P - n }{N_P - 1}} $ is called the finite population correction (FPC) factor. I am going to call it FPC. So what FPC does is, let us relate the standard error for a process where we are sampling without replacement to the standard error of a process where we are sampling with replacement- \n",
    "\n",
    "SE(with replacement ) $\\propto$ fpc SE(without replacement)\n",
    "\n",
    "where \n",
    "SE- is standard error \n",
    "  \n",
    " \n",
    "## rough code "
   ]
  },
  {
   "cell_type": "code",
   "execution_count": 41,
   "metadata": {
    "ExecuteTime": {
     "end_time": "2018-12-05T21:56:59.673030Z",
     "start_time": "2018-12-05T21:56:58.101455Z"
    }
   },
   "outputs": [
    {
     "data": {
      "text/plain": [
       "<BarContainer object of 20 artists>"
      ]
     },
     "execution_count": 41,
     "metadata": {},
     "output_type": "execute_result"
    },
    {
     "data": {
      "image/png": "[encoded data removed]",
      "text/plain": [
       "<Figure size 432x288 with 1 Axes>"
      ]
     },
     "metadata": {},
     "output_type": "display_data"
    }
   ],
   "source": [
    "import matplotlib.pyplot as plt\n",
    "sepal_length_population  = iris_dataframe[\"sepal length (cm)\"]\n",
    "samples = []\n",
    "means= [] \n",
    "sample_size =5\n",
    "\n",
    "times_sample = 100\n",
    "\n",
    "for i in range(0,times_sample):\n",
    "    single_sample =sepal_length_population.sample(n = sample_size, replace=\"True\") \n",
    "    samples.append(single_sample) \n",
    "    means.append(single_sample.mean())\n",
    "\n",
    "vcounts1, x1 = np.histogram(means, 20)\n",
    "norm_vcounts1= vcounts1/sum(vcounts1)\n",
    "\n",
    "times_sample = 10000\n",
    "\n",
    "for i in range(0,times_sample):\n",
    "    single_sample =sepal_length_population.sample(n = sample_size, replace=\"True\") \n",
    "    samples.append(single_sample) \n",
    "    means.append(single_sample.mean())\n",
    "\n",
    "vcounts2, x2 = np.histogram(means, 20)\n",
    "norm_vcounts2= vcounts2/sum(vcounts2)\n",
    "\n",
    "\n",
    "plt.bar(x1[:-1], norm_vcounts1, x1[1]-x1[0])"
   ]
  },
  {
   "cell_type": "markdown",
   "metadata": {},
   "source": [
    "### Drawing a larger sample"
   ]
  },
  {
   "cell_type": "code",
   "execution_count": 16,
   "metadata": {
    "ExecuteTime": {
     "end_time": "2018-12-05T22:02:56.094769Z",
     "start_time": "2018-12-05T22:02:55.940212Z"
    }
   },
   "outputs": [
    {
     "data": {
      "text/plain": [
       "<BarContainer object of 20 artists>"
      ]
     },
     "execution_count": 16,
     "metadata": {},
     "output_type": "execute_result"
    },
    {
     "data": {
      "image/png": "[encoded data removed]",
      "text/plain": [
       "<Figure size 432x288 with 1 Axes>"
      ]
     },
     "metadata": {},
     "output_type": "display_data"
    }
   ],
   "source": [
    "plt.bar(x2[:-1], norm_vcounts2, x2[1]-x2[0])"
   ]
  }
 ],
 "metadata": {
  "celltoolbar": "Edit Metadata",
  "kernelspec": {
   "display_name": "Python 3",
   "language": "python",
   "name": "python3"
  },
  "language_info": {
   "codemirror_mode": {
    "name": "ipython",
    "version": 3
   },
   "file_extension": ".py",
   "mimetype": "text/x-python",
   "name": "python",
   "nbconvert_exporter": "python",
   "pygments_lexer": "ipython3",
   "version": "3.7.5"
  },
  "latex_envs": {
   "LaTeX_envs_menu_present": true,
   "autoclose": true,
   "autocomplete": true,
   "bibliofile": "biblio.bib",
   "cite_by": "apalike",
   "current_citInitial": 1,
   "eqLabelWithNumbers": true,
   "eqNumInitial": 1,
   "hotkeys": {
    "equation": "Ctrl-E",
    "itemize": "Ctrl-I"
   },
   "labels_anchors": false,
   "latex_user_defs": false,
   "report_style_numbering": true,
   "user_envs_cfg": false
  },
  "toc": {
   "base_numbering": 1,
   "nav_menu": {},
   "number_sections": true,
   "sideBar": true,
   "skip_h1_title": false,
   "title_cell": "Table of Contents",
   "title_sidebar": "Contents",
   "toc_cell": false,
   "toc_position": {},
   "toc_section_display": true,
   "toc_window_display": false
  },
  "varInspector": {
   "cols": {
    "lenName": 16,
    "lenType": 16,
    "lenVar": 40
   },
   "kernels_config": {
    "python": {
     "delete_cmd_postfix": "",
     "delete_cmd_prefix": "del ",
     "library": "var_list.py",
     "varRefreshCmd": "print(var_dic_list())"
    },
    "r": {
     "delete_cmd_postfix": ") ",
     "delete_cmd_prefix": "rm(",
     "library": "var_list.r",
     "varRefreshCmd": "cat(var_dic_list()) "
    }
   },
   "types_to_exclude": [
    "module",
    "function",
    "builtin_function_or_method",
    "instance",
    "_Feature"
   ],
   "window_display": false
  }
 },
 "nbformat": 4,
 "nbformat_minor": 2
}
