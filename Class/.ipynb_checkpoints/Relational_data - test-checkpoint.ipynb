{
 "cells": [
  {
   "cell_type": "markdown",
   "metadata": {},
   "source": [
    "Q1. Why is SQL such a good database language?\n",
    "\n",
    "  It is easy to use   SQL is highly popular because it offers advantages   SQL queries can be optimized   SQL allows users to describe the data   SQL is a structured query language   C and D\n",
    "\n",
    "Q2. In slowly changing dimensions,Type 2 and Type 3 keep historic records of the changed data?\n",
    "\n",
    "  True   False\n",
    "\n",
    "Q3. Measures are linked to dimension tables through?\n",
    "\n",
    "  Primary key   Unique keys   Foreign keys   Surrogate keys   None of the above\n",
    "\n",
    "Q4. No level of redundancy is required for a perfect database.\n",
    "\n",
    "  False   True\n",
    "\n",
    "Q5. Primary key on a table will automatically create a clustered index on that table.\n",
    "\n",
    "  True   False\n",
    "\n",
    "Q6. You can have many_____keys on a table but only one_____key\n",
    "\n",
    "  Primary key , unique key   Foriegn keys ,primary keys   Foreign key ,unique key   Unique key , primary key"
   ]
  },
  {
   "cell_type": "code",
   "execution_count": null,
   "metadata": {},
   "outputs": [],
   "source": []
  }
 ],
 "metadata": {
  "kernelspec": {
   "display_name": "Python 3",
   "language": "python",
   "name": "python3"
  },
  "language_info": {
   "codemirror_mode": {
    "name": "ipython",
    "version": 3
   },
   "file_extension": ".py",
   "mimetype": "text/x-python",
   "name": "python",
   "nbconvert_exporter": "python",
   "pygments_lexer": "ipython3",
   "version": "3.6.5"
  }
 },
 "nbformat": 4,
 "nbformat_minor": 2
}
