{
 "cells": [
  {
   "cell_type": "markdown",
   "metadata": {},
   "source": [
    "# Capstone Assignment - Regression\n",
    "\n",
    "<b>Description: </b>\n",
    "The dataset contains 9568 datapoints regarding power output of the Combined Cycle Power Plant over 6 years (2006-2011). <br>\n",
    "Features consist of hourly average ambient variables \n",
    "* Temperature (0) in the range 1.81°C and 37.11°C,\n",
    "* Ambient Pressure (1) in the range 992.89-1033.30 milibar,\n",
    "* Relative Humidity (2) in the range 25.56% to 100.16%\n",
    "* Exhaust Vacuum (3) in teh range 25.36-81.56 cm Hg\n",
    "* Net hourly electrical energy output (4) 420.26-495.76 MW\n",
    "\n",
    "Objectives: -\n",
    "\n",
    "<ul>\n",
    "    <li>The dataset would require EDA</li>\n",
    "    <li>Visualize the relationship between variables</li>\n",
    "    <ol>\n",
    "        <li>Pair plots</li>\n",
    "        <li>Histograms and PDFs</li>\n",
    "        <li>Scatter Plots</li>\n",
    "    </ol>\n",
    "    <li>Contruct a model to predict PE and select a set of variables for it</li>\n",
    "</ul>"
   ]
  },
  {
   "cell_type": "code",
   "execution_count": 1,
   "metadata": {},
   "outputs": [],
   "source": [
    "# Write your solution here\n",
    "import numpy as np\n",
    "import pandas as pd\n",
    "\n",
    "dataset = pd.read_csv('../../../data/capstone_data_regression.csv')"
   ]
  }
 ],
 "metadata": {
  "kernelspec": {
   "display_name": "Python 3",
   "language": "python",
   "name": "python3"
  },
  "language_info": {
   "codemirror_mode": {
    "name": "ipython",
    "version": 3
   },
   "file_extension": ".py",
   "mimetype": "text/x-python",
   "name": "python",
   "nbconvert_exporter": "python",
   "pygments_lexer": "ipython3",
   "version": "3.6.8"
  }
 },
 "nbformat": 4,
 "nbformat_minor": 2
}
